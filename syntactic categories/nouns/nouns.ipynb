{
 "cells": [
  {
   "cell_type": "code",
   "execution_count": 27,
   "metadata": {},
   "outputs": [
    {
     "name": "stdout",
     "output_type": "stream",
     "text": [
      "               n1          n2         n3  darija_ar          eng  \\\n",
      "0           9ahwa        9hwa      9ehwa       قهوة       coffee   \n",
      "1           korsi        krsi        NaN       كرسي        chair   \n",
      "2           tabla        tbla        NaN       طبلة        table   \n",
      "3             kas         NaN        NaN        كاس        glass   \n",
      "4              ma         lma        NaN        ماء        water   \n",
      "...           ...         ...        ...        ...          ...   \n",
      "1323  lizikottour  lizikotour  lizikotor  ليزيكوتور   headphones   \n",
      "1324     matiryal    mataryan   materiel   ماتيريال     hardware   \n",
      "1325      portabl    portable        NaN    پورتابل   cell phone   \n",
      "1326       maw3id      mou3id    maou3id       موعد  appointment   \n",
      "1327       reveil       revey     rrevey      ريفاي        alarm   \n",
      "\n",
      "                noun  \n",
      "0             Coffee  \n",
      "1              Chair  \n",
      "2               Drum  \n",
      "3                Cup  \n",
      "4              Water  \n",
      "...              ...  \n",
      "1323     Lizikoutour  \n",
      "1324       Materials  \n",
      "1325        Portable  \n",
      "1326     Appointment  \n",
      "1327  My countryside  \n",
      "\n",
      "[1328 rows x 6 columns]\n"
     ]
    }
   ],
   "source": [
    "from openai import OpenAI\n",
    "import pandas as pd\n",
    "\n",
    "# Initialize the OpenAI client\n",
    "client = OpenAI()\n",
    "\n",
    "df = pd.read_csv('nouns.csv')\n",
    "\n",
    "# Define a translation function using the OpenAI API\n",
    "def translate(noun):\n",
    "    completion = client.chat.completions.create(\n",
    "        model=\"gpt-3.5-turbo\",\n",
    "        messages=[\n",
    "            {\"role\": \"system\", \"content\": \"You are an expert in Moroccan Darija dialect and in translating Darija to English.\"},\n",
    "            {\"role\": \"user\", \"content\": \"Translate the provided Moroccan Darija dialect noun into English using word-by-word translation.\"},\n",
    "            {\"role\": \"assistant\", \"content\": \"OK, I understand. I am ready for the noun translation.\"},\n",
    "            {\"role\": \"user\", \"content\": \"ديما\"},\n",
    "            {\"role\": \"assistant\", \"content\": \"Always\"},\n",
    "            {\"role\": \"user\", \"content\":  f'{noun}' }\n",
    "\n",
    "        ],\n",
    "        temperature=0.1  # Deterministic responses\n",
    "    )\n",
    "    return completion.choices[0].message.content\n",
    "\n",
    "# Apply the translation function to the 'darija_ar' column\n",
    "df['noun'] = df['darija_ar'].apply(translate)\n",
    "\n",
    "# Display or save the resulting DataFrame\n",
    "print(df)\n"
   ]
  },
  {
   "cell_type": "code",
   "execution_count": 56,
   "metadata": {},
   "outputs": [
    {
     "data": {
      "image/png": "[encoded data removed]",
      "text/plain": [
       "<Figure size 640x480 with 1 Axes>"
      ]
     },
     "metadata": {},
     "output_type": "display_data"
    }
   ],
   "source": [
    "import matplotlib.pyplot as plt\n",
    "from nltk.corpus import wordnet as wn\n",
    "\n",
    "eng = df['eng']\n",
    "transl = df['noun']\n",
    "\n",
    "#transl = [verb.replace(\" \", \"_\") for verb in transl]\n",
    "#eng = [verb.replace(\" \", \"_\") for verb in eng]\n",
    "\n",
    "def get_synset(word):\n",
    "    synsets = wn.synsets(word, pos=wn.NOUN)\n",
    "    return synsets[0] if synsets else None\n",
    "# Calculate Wu-Palmer similarity\n",
    "\n",
    "def calculate_wup_similarity(word1, word2):\n",
    "    \"\"\"Calculate the maximum path similarity between two words.\"\"\"\n",
    "\n",
    "    synset1 = get_synset(word1)\n",
    "    synset2 = get_synset(word2)\n",
    "    \n",
    "    if synset1 and synset2:\n",
    "        return synset1.wup_similarity(synset2)\n",
    "    return 0\n",
    "# Calculate and print the path similarity for each pair of verbs with similar index\n",
    "\n",
    "# Matching threshold\n",
    "threshold = 0.5\n",
    "matches = 0\n",
    "non_matches = 0\n",
    "\n",
    "\n",
    "# Compare ith row in each column\n",
    "for i in range(len(df)):\n",
    "    similarity = calculate_wup_similarity(df.loc[i, 'eng'], df.loc[i, 'noun'])\n",
    "    if similarity and similarity >= threshold:\n",
    "        matches += 1\n",
    "    else:\n",
    "        non_matches += 1\n",
    "\n",
    "# Data for pie chart\n",
    "data = [matches, non_matches]\n",
    "labels = ['Match', 'No Match']\n",
    "\n",
    "# Create pie chart\n",
    "fig, ax = plt.subplots()\n",
    "ax.pie(data, labels=labels, autopct='%1.1f%%', startangle=90)\n",
    "ax.axis('equal')  # Equal aspect ratio ensures that pie is drawn as a circle.\n",
    "\n",
    "plt.title('Wu-Palmer Similarity Match vs. No Match')\n",
    "plt.show()"
   ]
  }
 ],
 "metadata": {
  "kernelspec": {
   "display_name": "Python 3",
   "language": "python",
   "name": "python3"
  },
  "language_info": {
   "codemirror_mode": {
    "name": "ipython",
    "version": 3
   },
   "file_extension": ".py",
   "mimetype": "text/x-python",
   "name": "python",
   "nbconvert_exporter": "python",
   "pygments_lexer": "ipython3",
   "version": "3.11.8"
  }
 },
 "nbformat": 4,
 "nbformat_minor": 2
}
