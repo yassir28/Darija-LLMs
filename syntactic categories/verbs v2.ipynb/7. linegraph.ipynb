{
 "cells": [
  {
   "cell_type": "code",
   "execution_count": 1,
   "metadata": {},
   "outputs": [
    {
     "name": "stdout",
     "output_type": "stream",
     "text": [
      "Index(['simple', 'eng_simple', 'relevant', 'eng_relevant'], dtype='object')\n"
     ]
    },
    {
     "data": {
      "text/plain": [
       "Index(['simple', 'eng_simple', 'relevant', 'eng_relevant', 'persona',\n",
       "       'eng_persona', 'delimiters', 'eng_delimiters', '1-shot', 'eng_1-shot',\n",
       "       'few-shot', 'eng_few-shot', 'length', 'eng_length'],\n",
       "      dtype='object')"
      ]
     },
     "execution_count": 1,
     "metadata": {},
     "output_type": "execute_result"
    }
   ],
   "source": [
    "import pandas as pd\n",
    "import plotly.express as px\n",
    "\n",
    "translation = pd.DataFrame()\n",
    "\n",
    "df = pd.read_csv('verbs1.csv')\n",
    "translation['simple'], translation['eng_simple'] = df ['p1_transl'], df['eng_p1_transl']\n",
    "\n",
    "translation['relevant'], translation['eng_relevant'] = df ['p3_transl'], df['eng_p3_transl']\n",
    "print(translation.columns)\n",
    "\n",
    "df = pd.read_csv('verbs2.csv')\n",
    "translation['persona'], translation['eng_persona'] = df['p2_transl'], df['eng_p2_transl']\n",
    "\n",
    "df = pd.read_csv('verbs3.csv')\n",
    "translation['delimiters'], translation['eng_delimiters'] = df['p2_transl'], df['eng_p2_transl']\n",
    "\n",
    "df = pd.read_csv('verbs5.csv')\n",
    "translation['1-shot'], translation['eng_1-shot'] = df['p2_transl'], df['eng_p2_transl']\n",
    "translation['few-shot'], translation['eng_few-shot'] = df['p3_transl'], df['eng_p3_transl']\n",
    "\n",
    "df = pd.read_csv('verbs6.csv')\n",
    "translation['length'], translation['eng_length'] = df['p2_transl'], df['eng_p2_transl']\n",
    "\n",
    "translation.columns\n",
    "\n"
   ]
  },
  {
   "cell_type": "code",
   "execution_count": 2,
   "metadata": {},
   "outputs": [
    {
     "data": {
      "text/html": [
       "<div>\n",
       "<style scoped>\n",
       "    .dataframe tbody tr th:only-of-type {\n",
       "        vertical-align: middle;\n",
       "    }\n",
       "\n",
       "    .dataframe tbody tr th {\n",
       "        vertical-align: top;\n",
       "    }\n",
       "\n",
       "    .dataframe thead th {\n",
       "        text-align: right;\n",
       "    }\n",
       "</style>\n",
       "<table border=\"1\" class=\"dataframe\">\n",
       "  <thead>\n",
       "    <tr style=\"text-align: right;\">\n",
       "      <th></th>\n",
       "      <th>similarity_p0</th>\n",
       "      <th>similarity_eng_p0</th>\n",
       "      <th>similarity_p1</th>\n",
       "      <th>similarity_eng_p1</th>\n",
       "      <th>similarity_p2</th>\n",
       "      <th>similarity_eng_p2</th>\n",
       "      <th>similarity_p3</th>\n",
       "      <th>similarity_eng_p3</th>\n",
       "      <th>similarity_p4</th>\n",
       "      <th>similarity_eng_p4</th>\n",
       "      <th>similarity_p5</th>\n",
       "      <th>similarity_eng_p5</th>\n",
       "      <th>similarity_p6</th>\n",
       "      <th>similarity_eng_p6</th>\n",
       "    </tr>\n",
       "  </thead>\n",
       "  <tbody>\n",
       "    <tr>\n",
       "      <th>count</th>\n",
       "      <td>1000.000000</td>\n",
       "      <td>1000.000000</td>\n",
       "      <td>1000.000000</td>\n",
       "      <td>1000.000000</td>\n",
       "      <td>1000.000000</td>\n",
       "      <td>1000.000000</td>\n",
       "      <td>1000.000000</td>\n",
       "      <td>1000.000000</td>\n",
       "      <td>1000.000000</td>\n",
       "      <td>1000.000000</td>\n",
       "      <td>1000.000000</td>\n",
       "      <td>1000.000000</td>\n",
       "      <td>1000.000000</td>\n",
       "      <td>1000.000000</td>\n",
       "    </tr>\n",
       "    <tr>\n",
       "      <th>mean</th>\n",
       "      <td>0.478860</td>\n",
       "      <td>0.437391</td>\n",
       "      <td>0.585972</td>\n",
       "      <td>0.598439</td>\n",
       "      <td>0.588023</td>\n",
       "      <td>0.602482</td>\n",
       "      <td>0.590806</td>\n",
       "      <td>0.593783</td>\n",
       "      <td>0.605797</td>\n",
       "      <td>0.613326</td>\n",
       "      <td>0.624269</td>\n",
       "      <td>0.619213</td>\n",
       "      <td>0.603723</td>\n",
       "      <td>0.616810</td>\n",
       "    </tr>\n",
       "    <tr>\n",
       "      <th>std</th>\n",
       "      <td>0.434298</td>\n",
       "      <td>0.440753</td>\n",
       "      <td>0.377440</td>\n",
       "      <td>0.388834</td>\n",
       "      <td>0.380515</td>\n",
       "      <td>0.386036</td>\n",
       "      <td>0.377403</td>\n",
       "      <td>0.382532</td>\n",
       "      <td>0.366194</td>\n",
       "      <td>0.361455</td>\n",
       "      <td>0.364978</td>\n",
       "      <td>0.361105</td>\n",
       "      <td>0.364573</td>\n",
       "      <td>0.360729</td>\n",
       "    </tr>\n",
       "    <tr>\n",
       "      <th>min</th>\n",
       "      <td>0.000000</td>\n",
       "      <td>0.000000</td>\n",
       "      <td>0.000000</td>\n",
       "      <td>0.000000</td>\n",
       "      <td>0.000000</td>\n",
       "      <td>0.000000</td>\n",
       "      <td>0.000000</td>\n",
       "      <td>0.000000</td>\n",
       "      <td>0.000000</td>\n",
       "      <td>0.000000</td>\n",
       "      <td>0.000000</td>\n",
       "      <td>0.000000</td>\n",
       "      <td>0.000000</td>\n",
       "      <td>0.000000</td>\n",
       "    </tr>\n",
       "    <tr>\n",
       "      <th>25%</th>\n",
       "      <td>0.000000</td>\n",
       "      <td>0.000000</td>\n",
       "      <td>0.250000</td>\n",
       "      <td>0.250000</td>\n",
       "      <td>0.250000</td>\n",
       "      <td>0.250000</td>\n",
       "      <td>0.250000</td>\n",
       "      <td>0.250000</td>\n",
       "      <td>0.250000</td>\n",
       "      <td>0.250000</td>\n",
       "      <td>0.250000</td>\n",
       "      <td>0.250000</td>\n",
       "      <td>0.250000</td>\n",
       "      <td>0.250000</td>\n",
       "    </tr>\n",
       "    <tr>\n",
       "      <th>50%</th>\n",
       "      <td>0.333333</td>\n",
       "      <td>0.250000</td>\n",
       "      <td>0.500000</td>\n",
       "      <td>0.500000</td>\n",
       "      <td>0.500000</td>\n",
       "      <td>0.500000</td>\n",
       "      <td>0.500000</td>\n",
       "      <td>0.500000</td>\n",
       "      <td>0.500000</td>\n",
       "      <td>0.500000</td>\n",
       "      <td>0.500000</td>\n",
       "      <td>0.500000</td>\n",
       "      <td>0.500000</td>\n",
       "      <td>0.500000</td>\n",
       "    </tr>\n",
       "    <tr>\n",
       "      <th>75%</th>\n",
       "      <td>1.000000</td>\n",
       "      <td>1.000000</td>\n",
       "      <td>1.000000</td>\n",
       "      <td>1.000000</td>\n",
       "      <td>1.000000</td>\n",
       "      <td>1.000000</td>\n",
       "      <td>1.000000</td>\n",
       "      <td>1.000000</td>\n",
       "      <td>1.000000</td>\n",
       "      <td>1.000000</td>\n",
       "      <td>1.000000</td>\n",
       "      <td>1.000000</td>\n",
       "      <td>1.000000</td>\n",
       "      <td>1.000000</td>\n",
       "    </tr>\n",
       "    <tr>\n",
       "      <th>max</th>\n",
       "      <td>1.000000</td>\n",
       "      <td>1.000000</td>\n",
       "      <td>1.000000</td>\n",
       "      <td>1.000000</td>\n",
       "      <td>1.000000</td>\n",
       "      <td>1.000000</td>\n",
       "      <td>1.000000</td>\n",
       "      <td>1.000000</td>\n",
       "      <td>1.000000</td>\n",
       "      <td>1.000000</td>\n",
       "      <td>1.000000</td>\n",
       "      <td>1.000000</td>\n",
       "      <td>1.000000</td>\n",
       "      <td>1.000000</td>\n",
       "    </tr>\n",
       "  </tbody>\n",
       "</table>\n",
       "</div>"
      ],
      "text/plain": [
       "       similarity_p0  similarity_eng_p0  similarity_p1  similarity_eng_p1  \\\n",
       "count    1000.000000        1000.000000    1000.000000        1000.000000   \n",
       "mean        0.478860           0.437391       0.585972           0.598439   \n",
       "std         0.434298           0.440753       0.377440           0.388834   \n",
       "min         0.000000           0.000000       0.000000           0.000000   \n",
       "25%         0.000000           0.000000       0.250000           0.250000   \n",
       "50%         0.333333           0.250000       0.500000           0.500000   \n",
       "75%         1.000000           1.000000       1.000000           1.000000   \n",
       "max         1.000000           1.000000       1.000000           1.000000   \n",
       "\n",
       "       similarity_p2  similarity_eng_p2  similarity_p3  similarity_eng_p3  \\\n",
       "count    1000.000000        1000.000000    1000.000000        1000.000000   \n",
       "mean        0.588023           0.602482       0.590806           0.593783   \n",
       "std         0.380515           0.386036       0.377403           0.382532   \n",
       "min         0.000000           0.000000       0.000000           0.000000   \n",
       "25%         0.250000           0.250000       0.250000           0.250000   \n",
       "50%         0.500000           0.500000       0.500000           0.500000   \n",
       "75%         1.000000           1.000000       1.000000           1.000000   \n",
       "max         1.000000           1.000000       1.000000           1.000000   \n",
       "\n",
       "       similarity_p4  similarity_eng_p4  similarity_p5  similarity_eng_p5  \\\n",
       "count    1000.000000        1000.000000    1000.000000        1000.000000   \n",
       "mean        0.605797           0.613326       0.624269           0.619213   \n",
       "std         0.366194           0.361455       0.364978           0.361105   \n",
       "min         0.000000           0.000000       0.000000           0.000000   \n",
       "25%         0.250000           0.250000       0.250000           0.250000   \n",
       "50%         0.500000           0.500000       0.500000           0.500000   \n",
       "75%         1.000000           1.000000       1.000000           1.000000   \n",
       "max         1.000000           1.000000       1.000000           1.000000   \n",
       "\n",
       "       similarity_p6  similarity_eng_p6  \n",
       "count    1000.000000        1000.000000  \n",
       "mean        0.603723           0.616810  \n",
       "std         0.364573           0.360729  \n",
       "min         0.000000           0.000000  \n",
       "25%         0.250000           0.250000  \n",
       "50%         0.500000           0.500000  \n",
       "75%         1.000000           1.000000  \n",
       "max         1.000000           1.000000  "
      ]
     },
     "execution_count": 2,
     "metadata": {},
     "output_type": "execute_result"
    }
   ],
   "source": [
    "from nltk.corpus import wordnet as wn\n",
    "import pandas as pd\n",
    "df = pd.read_csv('verbs.csv')\n",
    "\n",
    "eng = df['eng']\n",
    "eng = [verb.replace(\" \", \"_\") for verb in eng]\n",
    "\n",
    "simple = translation['simple']\n",
    "eng_simple = translation['eng_simple']\n",
    "relevant = translation['relevant']\n",
    "eng_relevant = translation['eng_relevant']\n",
    "persona = translation['persona']\n",
    "eng_persona = translation['eng_persona']\n",
    "delimiters = translation['delimiters']\n",
    "eng_delimiters = translation['eng_delimiters']\n",
    "oneshot = translation['1-shot']\n",
    "eng_oneshot = translation['eng_1-shot']\n",
    "fewshot = translation['few-shot']\n",
    "eng_fewshot = translation['eng_few-shot']\n",
    "length = translation['length']\n",
    "eng_length = translation['eng_length']\n",
    "\n",
    "\n",
    "p0_transl = [verb.replace(\" \", \"_\") for verb in simple]\n",
    "eng_p0_transl = [verb.replace(\" \", \"_\") for verb in eng_simple]\n",
    "p1_transl = [verb.replace(\" \", \"_\") for verb in relevant]\n",
    "eng_p1_transl = [verb.replace(\" \", \"_\") for verb in eng_relevant]\n",
    "p2_transl = [verb.replace(\" \", \"_\") for verb in persona]\n",
    "eng_p2_transl = [verb.replace(\" \", \"_\") for verb in eng_persona]\n",
    "p3_transl = [verb.replace(\" \", \"_\") for verb in delimiters]\n",
    "eng_p3_transl = [verb.replace(\" \", \"_\") for verb in eng_delimiters]\n",
    "p4_transl = [verb.replace(\" \", \"_\") for verb in oneshot]\n",
    "eng_p4_transl = [verb.replace(\" \", \"_\") for verb in eng_oneshot]\n",
    "p5_transl = [verb.replace(\" \", \"_\") for verb in fewshot]\n",
    "eng_p5_transl = [verb.replace(\" \", \"_\") for verb in eng_fewshot]\n",
    "p6_transl = [verb.replace(\" \", \"_\") for verb in length]\n",
    "eng_p6_transl = [verb.replace(\" \", \"_\") for verb in eng_length]\n",
    "\n",
    "def max_path_similarity(word1, word2):\n",
    "    \"\"\"Calculate the maximum path similarity between two words.\"\"\"\n",
    "\n",
    "    synsets1 = wn.synsets(word1, pos=wn.VERB)\n",
    "    synsets2 = wn.synsets(word2, pos=wn.VERB)\n",
    "    max_score = 0\n",
    "    for syn1 in synsets1:\n",
    "        for syn2 in synsets2:\n",
    "            score = syn1.path_similarity(syn2)\n",
    "            if score and score > max_score:\n",
    "                max_score = score\n",
    "    return max_score\n",
    "\n",
    "def evaluate_pairs(transl,threshold=0.5):\n",
    "    \"\"\"Evaluating each pair using WordNet path similarity and a threshold.\"\"\"\n",
    "    results = []\n",
    "    for i in range(len(transl)):\n",
    "        word1, word2 = transl[i], eng[i]\n",
    "        similarity = max_path_similarity(word1, word2)\n",
    "        results.append((word1, word2, similarity, similarity >= threshold))\n",
    "    return results\n",
    "\n",
    "\n",
    "results_p0 = evaluate_pairs(p0_transl)\n",
    "results_eng_p0 = evaluate_pairs(eng_p0_transl)\n",
    "results_p1 = evaluate_pairs(p1_transl)\n",
    "results_eng_p1 = evaluate_pairs(eng_p1_transl)\n",
    "results_p2 = evaluate_pairs(p2_transl)\n",
    "results_eng_p2 = evaluate_pairs(eng_p2_transl)\n",
    "results_p3 = evaluate_pairs(p3_transl)\n",
    "results_eng_p3 = evaluate_pairs(eng_p3_transl)\n",
    "results_p4 = evaluate_pairs(p4_transl)\n",
    "results_eng_p4 = evaluate_pairs(eng_p4_transl)\n",
    "results_p5 = evaluate_pairs(p5_transl)\n",
    "results_eng_p5 = evaluate_pairs(eng_p5_transl)\n",
    "results_p6 = evaluate_pairs(p6_transl)\n",
    "results_eng_p6 = evaluate_pairs(eng_p6_transl)\n",
    "\n",
    "\n",
    "translation['similarity_p0'] = [item[2] for item in results_p0]\n",
    "translation['similarity_eng_p0'] = [item[2] for item in results_eng_p0]\n",
    "translation['similarity_p1'] = [item[2] for item in results_p1]\n",
    "translation['similarity_eng_p1'] = [item[2] for item in results_eng_p1]\n",
    "translation['similarity_p2'] = [item[2] for item in results_p2]\n",
    "translation['similarity_eng_p2'] = [item[2] for item in results_eng_p2]\n",
    "translation['similarity_p3'] = [item[2] for item in results_p3]\n",
    "translation['similarity_eng_p3'] = [item[2] for item in results_eng_p3]\n",
    "translation['similarity_p4'] = [item[2] for item in results_p4]\n",
    "translation['similarity_eng_p4'] = [item[2] for item in results_eng_p4]\n",
    "translation['similarity_p5'] = [item[2] for item in results_p5]\n",
    "translation['similarity_eng_p5'] = [item[2] for item in results_eng_p5]\n",
    "translation['similarity_p6'] = [item[2] for item in results_p6]\n",
    "translation['similarity_eng_p6'] = [item[2] for item in results_eng_p6]\n",
    "\n",
    "\n",
    "\n",
    "p0_s = translation['similarity_p0']\n",
    "ep0_s = translation['similarity_eng_p0']\n",
    "p0= translation['similarity_p0'].mean()\n",
    "ep0= translation['similarity_eng_p0'].mean()\n",
    "\n",
    "p1_s = translation['similarity_p1']\n",
    "ep1_s = translation['similarity_eng_p1']\n",
    "p1= translation['similarity_p1'].mean()\n",
    "ep1= translation['similarity_eng_p1'].mean()\n",
    "\n",
    "p2_s = translation['similarity_p2']\n",
    "ep2_s = translation['similarity_eng_p2']\n",
    "p2= translation['similarity_p2'].mean()\n",
    "ep2= translation['similarity_eng_p2'].mean()\n",
    "\n",
    "p3_s = translation['similarity_p3']\n",
    "ep3_s = translation['similarity_eng_p3']\n",
    "p3= translation['similarity_p3'].mean()\n",
    "ep3= translation['similarity_eng_p3'].mean()\n",
    "\n",
    "p4_s = translation['similarity_p4']\n",
    "ep4_s = translation['similarity_eng_p4']\n",
    "p4= translation['similarity_p4'].mean()\n",
    "ep4= translation['similarity_eng_p4'].mean()\n",
    "\n",
    "p5_s = translation['similarity_p5']\n",
    "ep5_s = translation['similarity_eng_p5']\n",
    "p5= translation['similarity_p5'].mean()\n",
    "ep5= translation['similarity_eng_p5'].mean()\n",
    "\n",
    "p6_s = translation['similarity_p6']\n",
    "ep6_s = translation['similarity_eng_p6']\n",
    "p6= translation['similarity_p6'].mean()\n",
    "ep6= translation['similarity_eng_p6'].mean()\n",
    "\n",
    "\n",
    "translation.describe()"
   ]
  },
  {
   "cell_type": "code",
   "execution_count": 3,
   "metadata": {},
   "outputs": [
    {
     "name": "stdout",
     "output_type": "stream",
     "text": [
      "       means     prompts prompt type\n",
      "0   0.478860      simple      Darija\n",
      "1   0.585972    relevant      Darija\n",
      "2   0.588023     persona      Darija\n",
      "3   0.590806  delimiters      Darija\n",
      "4   0.605797     oneshot      Darija\n",
      "5   0.624269     fewshot      Darija\n",
      "6   0.437391      simple     English\n",
      "7   0.598439    relevant     English\n",
      "8   0.602482     persona     English\n",
      "9   0.593783  delimiters     English\n",
      "10  0.613326     oneshot     English\n",
      "11  0.619213     fewshot     English\n"
     ]
    },
    {
     "data": {
      "application/vnd.plotly.v1+json": {
       "config": {
        "plotlyServerURL": "https://plot.ly"
       },
       "data": [
        {
         "hovertemplate": "prompt type=Darija<br>prompts=%{x}<br>means=%{y}<extra></extra>",
         "legendgroup": "Darija",
         "line": {
          "color": "#636efa",
          "dash": "solid"
         },
         "marker": {
          "symbol": "circle"
         },
         "mode": "lines+markers",
         "name": "Darija",
         "orientation": "v",
         "showlegend": true,
         "type": "scatter",
         "x": [
          "simple",
          "relevant",
          "persona",
          "delimiters",
          "oneshot",
          "fewshot"
         ],
         "xaxis": "x",
         "y": [
          0.4788598595848596,
          0.5859717643467645,
          0.588022557997558,
          0.5908058913308915,
          0.6057971972471973,
          0.6242685897435897
         ],
         "yaxis": "y"
        },
        {
         "hovertemplate": "prompt type=English<br>prompts=%{x}<br>means=%{y}<extra></extra>",
         "legendgroup": "English",
         "line": {
          "color": "#EF553B",
          "dash": "solid"
         },
         "marker": {
          "symbol": "circle"
         },
         "mode": "lines+markers",
         "name": "English",
         "orientation": "v",
         "showlegend": true,
         "type": "scatter",
         "x": [
          "simple",
          "relevant",
          "persona",
          "delimiters",
          "oneshot",
          "fewshot"
         ],
         "xaxis": "x",
         "y": [
          0.4373912087912088,
          0.5984392246642246,
          0.602481684981685,
          0.5937832722832722,
          0.6133257326007326,
          0.6192130702630703
         ],
         "yaxis": "y"
        }
       ],
       "layout": {
        "legend": {
         "title": {
          "text": "prompt type"
         },
         "tracegroupgap": 0
        },
        "margin": {
         "t": 60
        },
        "template": {
         "data": {
          "bar": [
           {
            "error_x": {
             "color": "#2a3f5f"
            },
            "error_y": {
             "color": "#2a3f5f"
            },
            "marker": {
             "line": {
              "color": "#E5ECF6",
              "width": 0.5
             },
             "pattern": {
              "fillmode": "overlay",
              "size": 10,
              "solidity": 0.2
             }
            },
            "type": "bar"
           }
          ],
          "barpolar": [
           {
            "marker": {
             "line": {
              "color": "#E5ECF6",
              "width": 0.5
             },
             "pattern": {
              "fillmode": "overlay",
              "size": 10,
              "solidity": 0.2
             }
            },
            "type": "barpolar"
           }
          ],
          "carpet": [
           {
            "aaxis": {
             "endlinecolor": "#2a3f5f",
             "gridcolor": "white",
             "linecolor": "white",
             "minorgridcolor": "white",
             "startlinecolor": "#2a3f5f"
            },
            "baxis": {
             "endlinecolor": "#2a3f5f",
             "gridcolor": "white",
             "linecolor": "white",
             "minorgridcolor": "white",
             "startlinecolor": "#2a3f5f"
            },
            "type": "carpet"
           }
          ],
          "choropleth": [
           {
            "colorbar": {
             "outlinewidth": 0,
             "ticks": ""
            },
            "type": "choropleth"
           }
          ],
          "contour": [
           {
            "colorbar": {
             "outlinewidth": 0,
             "ticks": ""
            },
            "colorscale": [
             [
              0,
              "#0d0887"
             ],
             [
              0.1111111111111111,
              "#46039f"
             ],
             [
              0.2222222222222222,
              "#7201a8"
             ],
             [
              0.3333333333333333,
              "#9c179e"
             ],
             [
              0.4444444444444444,
              "#bd3786"
             ],
             [
              0.5555555555555556,
              "#d8576b"
             ],
             [
              0.6666666666666666,
              "#ed7953"
             ],
             [
              0.7777777777777778,
              "#fb9f3a"
             ],
             [
              0.8888888888888888,
              "#fdca26"
             ],
             [
              1,
              "#f0f921"
             ]
            ],
            "type": "contour"
           }
          ],
          "contourcarpet": [
           {
            "colorbar": {
             "outlinewidth": 0,
             "ticks": ""
            },
            "type": "contourcarpet"
           }
          ],
          "heatmap": [
           {
            "colorbar": {
             "outlinewidth": 0,
             "ticks": ""
            },
            "colorscale": [
             [
              0,
              "#0d0887"
             ],
             [
              0.1111111111111111,
              "#46039f"
             ],
             [
              0.2222222222222222,
              "#7201a8"
             ],
             [
              0.3333333333333333,
              "#9c179e"
             ],
             [
              0.4444444444444444,
              "#bd3786"
             ],
             [
              0.5555555555555556,
              "#d8576b"
             ],
             [
              0.6666666666666666,
              "#ed7953"
             ],
             [
              0.7777777777777778,
              "#fb9f3a"
             ],
             [
              0.8888888888888888,
              "#fdca26"
             ],
             [
              1,
              "#f0f921"
             ]
            ],
            "type": "heatmap"
           }
          ],
          "heatmapgl": [
           {
            "colorbar": {
             "outlinewidth": 0,
             "ticks": ""
            },
            "colorscale": [
             [
              0,
              "#0d0887"
             ],
             [
              0.1111111111111111,
              "#46039f"
             ],
             [
              0.2222222222222222,
              "#7201a8"
             ],
             [
              0.3333333333333333,
              "#9c179e"
             ],
             [
              0.4444444444444444,
              "#bd3786"
             ],
             [
              0.5555555555555556,
              "#d8576b"
             ],
             [
              0.6666666666666666,
              "#ed7953"
             ],
             [
              0.7777777777777778,
              "#fb9f3a"
             ],
             [
              0.8888888888888888,
              "#fdca26"
             ],
             [
              1,
              "#f0f921"
             ]
            ],
            "type": "heatmapgl"
           }
          ],
          "histogram": [
           {
            "marker": {
             "pattern": {
              "fillmode": "overlay",
              "size": 10,
              "solidity": 0.2
             }
            },
            "type": "histogram"
           }
          ],
          "histogram2d": [
           {
            "colorbar": {
             "outlinewidth": 0,
             "ticks": ""
            },
            "colorscale": [
             [
              0,
              "#0d0887"
             ],
             [
              0.1111111111111111,
              "#46039f"
             ],
             [
              0.2222222222222222,
              "#7201a8"
             ],
             [
              0.3333333333333333,
              "#9c179e"
             ],
             [
              0.4444444444444444,
              "#bd3786"
             ],
             [
              0.5555555555555556,
              "#d8576b"
             ],
             [
              0.6666666666666666,
              "#ed7953"
             ],
             [
              0.7777777777777778,
              "#fb9f3a"
             ],
             [
              0.8888888888888888,
              "#fdca26"
             ],
             [
              1,
              "#f0f921"
             ]
            ],
            "type": "histogram2d"
           }
          ],
          "histogram2dcontour": [
           {
            "colorbar": {
             "outlinewidth": 0,
             "ticks": ""
            },
            "colorscale": [
             [
              0,
              "#0d0887"
             ],
             [
              0.1111111111111111,
              "#46039f"
             ],
             [
              0.2222222222222222,
              "#7201a8"
             ],
             [
              0.3333333333333333,
              "#9c179e"
             ],
             [
              0.4444444444444444,
              "#bd3786"
             ],
             [
              0.5555555555555556,
              "#d8576b"
             ],
             [
              0.6666666666666666,
              "#ed7953"
             ],
             [
              0.7777777777777778,
              "#fb9f3a"
             ],
             [
              0.8888888888888888,
              "#fdca26"
             ],
             [
              1,
              "#f0f921"
             ]
            ],
            "type": "histogram2dcontour"
           }
          ],
          "mesh3d": [
           {
            "colorbar": {
             "outlinewidth": 0,
             "ticks": ""
            },
            "type": "mesh3d"
           }
          ],
          "parcoords": [
           {
            "line": {
             "colorbar": {
              "outlinewidth": 0,
              "ticks": ""
             }
            },
            "type": "parcoords"
           }
          ],
          "pie": [
           {
            "automargin": true,
            "type": "pie"
           }
          ],
          "scatter": [
           {
            "fillpattern": {
             "fillmode": "overlay",
             "size": 10,
             "solidity": 0.2
            },
            "type": "scatter"
           }
          ],
          "scatter3d": [
           {
            "line": {
             "colorbar": {
              "outlinewidth": 0,
              "ticks": ""
             }
            },
            "marker": {
             "colorbar": {
              "outlinewidth": 0,
              "ticks": ""
             }
            },
            "type": "scatter3d"
           }
          ],
          "scattercarpet": [
           {
            "marker": {
             "colorbar": {
              "outlinewidth": 0,
              "ticks": ""
             }
            },
            "type": "scattercarpet"
           }
          ],
          "scattergeo": [
           {
            "marker": {
             "colorbar": {
              "outlinewidth": 0,
              "ticks": ""
             }
            },
            "type": "scattergeo"
           }
          ],
          "scattergl": [
           {
            "marker": {
             "colorbar": {
              "outlinewidth": 0,
              "ticks": ""
             }
            },
            "type": "scattergl"
           }
          ],
          "scattermapbox": [
           {
            "marker": {
             "colorbar": {
              "outlinewidth": 0,
              "ticks": ""
             }
            },
            "type": "scattermapbox"
           }
          ],
          "scatterpolar": [
           {
            "marker": {
             "colorbar": {
              "outlinewidth": 0,
              "ticks": ""
             }
            },
            "type": "scatterpolar"
           }
          ],
          "scatterpolargl": [
           {
            "marker": {
             "colorbar": {
              "outlinewidth": 0,
              "ticks": ""
             }
            },
            "type": "scatterpolargl"
           }
          ],
          "scatterternary": [
           {
            "marker": {
             "colorbar": {
              "outlinewidth": 0,
              "ticks": ""
             }
            },
            "type": "scatterternary"
           }
          ],
          "surface": [
           {
            "colorbar": {
             "outlinewidth": 0,
             "ticks": ""
            },
            "colorscale": [
             [
              0,
              "#0d0887"
             ],
             [
              0.1111111111111111,
              "#46039f"
             ],
             [
              0.2222222222222222,
              "#7201a8"
             ],
             [
              0.3333333333333333,
              "#9c179e"
             ],
             [
              0.4444444444444444,
              "#bd3786"
             ],
             [
              0.5555555555555556,
              "#d8576b"
             ],
             [
              0.6666666666666666,
              "#ed7953"
             ],
             [
              0.7777777777777778,
              "#fb9f3a"
             ],
             [
              0.8888888888888888,
              "#fdca26"
             ],
             [
              1,
              "#f0f921"
             ]
            ],
            "type": "surface"
           }
          ],
          "table": [
           {
            "cells": {
             "fill": {
              "color": "#EBF0F8"
             },
             "line": {
              "color": "white"
             }
            },
            "header": {
             "fill": {
              "color": "#C8D4E3"
             },
             "line": {
              "color": "white"
             }
            },
            "type": "table"
           }
          ]
         },
         "layout": {
          "annotationdefaults": {
           "arrowcolor": "#2a3f5f",
           "arrowhead": 0,
           "arrowwidth": 1
          },
          "autotypenumbers": "strict",
          "coloraxis": {
           "colorbar": {
            "outlinewidth": 0,
            "ticks": ""
           }
          },
          "colorscale": {
           "diverging": [
            [
             0,
             "#8e0152"
            ],
            [
             0.1,
             "#c51b7d"
            ],
            [
             0.2,
             "#de77ae"
            ],
            [
             0.3,
             "#f1b6da"
            ],
            [
             0.4,
             "#fde0ef"
            ],
            [
             0.5,
             "#f7f7f7"
            ],
            [
             0.6,
             "#e6f5d0"
            ],
            [
             0.7,
             "#b8e186"
            ],
            [
             0.8,
             "#7fbc41"
            ],
            [
             0.9,
             "#4d9221"
            ],
            [
             1,
             "#276419"
            ]
           ],
           "sequential": [
            [
             0,
             "#0d0887"
            ],
            [
             0.1111111111111111,
             "#46039f"
            ],
            [
             0.2222222222222222,
             "#7201a8"
            ],
            [
             0.3333333333333333,
             "#9c179e"
            ],
            [
             0.4444444444444444,
             "#bd3786"
            ],
            [
             0.5555555555555556,
             "#d8576b"
            ],
            [
             0.6666666666666666,
             "#ed7953"
            ],
            [
             0.7777777777777778,
             "#fb9f3a"
            ],
            [
             0.8888888888888888,
             "#fdca26"
            ],
            [
             1,
             "#f0f921"
            ]
           ],
           "sequentialminus": [
            [
             0,
             "#0d0887"
            ],
            [
             0.1111111111111111,
             "#46039f"
            ],
            [
             0.2222222222222222,
             "#7201a8"
            ],
            [
             0.3333333333333333,
             "#9c179e"
            ],
            [
             0.4444444444444444,
             "#bd3786"
            ],
            [
             0.5555555555555556,
             "#d8576b"
            ],
            [
             0.6666666666666666,
             "#ed7953"
            ],
            [
             0.7777777777777778,
             "#fb9f3a"
            ],
            [
             0.8888888888888888,
             "#fdca26"
            ],
            [
             1,
             "#f0f921"
            ]
           ]
          },
          "colorway": [
           "#636efa",
           "#EF553B",
           "#00cc96",
           "#ab63fa",
           "#FFA15A",
           "#19d3f3",
           "#FF6692",
           "#B6E880",
           "#FF97FF",
           "#FECB52"
          ],
          "font": {
           "color": "#2a3f5f"
          },
          "geo": {
           "bgcolor": "white",
           "lakecolor": "white",
           "landcolor": "#E5ECF6",
           "showlakes": true,
           "showland": true,
           "subunitcolor": "white"
          },
          "hoverlabel": {
           "align": "left"
          },
          "hovermode": "closest",
          "mapbox": {
           "style": "light"
          },
          "paper_bgcolor": "white",
          "plot_bgcolor": "#E5ECF6",
          "polar": {
           "angularaxis": {
            "gridcolor": "white",
            "linecolor": "white",
            "ticks": ""
           },
           "bgcolor": "#E5ECF6",
           "radialaxis": {
            "gridcolor": "white",
            "linecolor": "white",
            "ticks": ""
           }
          },
          "scene": {
           "xaxis": {
            "backgroundcolor": "#E5ECF6",
            "gridcolor": "white",
            "gridwidth": 2,
            "linecolor": "white",
            "showbackground": true,
            "ticks": "",
            "zerolinecolor": "white"
           },
           "yaxis": {
            "backgroundcolor": "#E5ECF6",
            "gridcolor": "white",
            "gridwidth": 2,
            "linecolor": "white",
            "showbackground": true,
            "ticks": "",
            "zerolinecolor": "white"
           },
           "zaxis": {
            "backgroundcolor": "#E5ECF6",
            "gridcolor": "white",
            "gridwidth": 2,
            "linecolor": "white",
            "showbackground": true,
            "ticks": "",
            "zerolinecolor": "white"
           }
          },
          "shapedefaults": {
           "line": {
            "color": "#2a3f5f"
           }
          },
          "ternary": {
           "aaxis": {
            "gridcolor": "white",
            "linecolor": "white",
            "ticks": ""
           },
           "baxis": {
            "gridcolor": "white",
            "linecolor": "white",
            "ticks": ""
           },
           "bgcolor": "#E5ECF6",
           "caxis": {
            "gridcolor": "white",
            "linecolor": "white",
            "ticks": ""
           }
          },
          "title": {
           "x": 0.05
          },
          "xaxis": {
           "automargin": true,
           "gridcolor": "white",
           "linecolor": "white",
           "ticks": "",
           "title": {
            "standoff": 15
           },
           "zerolinecolor": "white",
           "zerolinewidth": 2
          },
          "yaxis": {
           "automargin": true,
           "gridcolor": "white",
           "linecolor": "white",
           "ticks": "",
           "title": {
            "standoff": 15
           },
           "zerolinecolor": "white",
           "zerolinewidth": 2
          }
         }
        },
        "xaxis": {
         "anchor": "y",
         "domain": [
          0,
          1
         ],
         "title": {
          "text": "prompts"
         }
        },
        "yaxis": {
         "anchor": "x",
         "domain": [
          0,
          1
         ],
         "title": {
          "text": "means"
         }
        }
       }
      }
     },
     "metadata": {},
     "output_type": "display_data"
    }
   ],
   "source": [
    "averages = pd.DataFrame()\n",
    "eng_averages = pd.DataFrame()\n",
    "\n",
    "\n",
    "averages['means'] = [p0, p1, p2, p3, p4, p5, ep0, ep1, ep2, ep3, ep4, ep5]\n",
    "averages['prompts'] = ['simple', 'relevant', 'persona', 'delimiters', 'oneshot', 'fewshot', 'simple', 'relevant', 'persona', 'delimiters', 'oneshot', 'fewshot']\n",
    "averages['prompt type'] = ['Darija', 'Darija', 'Darija', 'Darija', 'Darija', 'Darija', 'English', 'English', 'English', 'English', 'English', 'English',]\n",
    "\n",
    "fig = px.line(averages, x=\"prompts\", y=\"means\",  markers=True, color ='prompt type')\n",
    "\n",
    "fig.show()\n"
   ]
  },
  {
   "cell_type": "code",
   "execution_count": null,
   "metadata": {},
   "outputs": [],
   "source": []
  }
 ],
 "metadata": {
  "kernelspec": {
   "display_name": "Python 3",
   "language": "python",
   "name": "python3"
  },
  "language_info": {
   "codemirror_mode": {
    "name": "ipython",
    "version": 3
   },
   "file_extension": ".py",
   "mimetype": "text/x-python",
   "name": "python",
   "nbconvert_exporter": "python",
   "pygments_lexer": "ipython3",
   "version": "3.11.8"
  }
 },
 "nbformat": 4,
 "nbformat_minor": 2
}
