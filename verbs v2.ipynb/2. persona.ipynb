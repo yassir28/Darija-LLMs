{
 "cells": [
  {
   "cell_type": "markdown",
   "metadata": {},
   "source": [
    "\"user will give you\". Is it persona or still relavant answers or delimiters?"
   ]
  },
  {
   "cell_type": "code",
   "execution_count": null,
   "metadata": {},
   "outputs": [],
   "source": [
    "from openai import OpenAI\n",
    "\n",
    "client = OpenAI()\n",
    "\n",
    "test = client.chat.completions.create(\n",
    "model =  \"gpt-3.5-turbo\",\n",
    "messages = [\n",
    "            {\"role\": \"system\", \"content\": \"نتا خبير فلهجة الدارجة المغربية وفالترجمة من الدارجة لنجليزية.\" + \n",
    "             \":عفاك تبع الشروط الماجية\" +\n",
    "             \"ترجم الفعل المعطي بالدارجة المغربية لنجليزية كلمة بكلمة.\" +\n",
    "             \"مخصش يكون المخرج فعل مصدري; بلاما تعطي تفسيرات.\"\n",
    "             },\n",
    "            {\"role\": \"user\", \"content\": 'داق'},\n",
    "],\n",
    "temperature=0,\n",
    ")\n",
    "\n",
    "test2 = client.chat.completions.create(\n",
    "model =  \"gpt-3.5-turbo\",\n",
    "        messages=[\n",
    "            {\"role\": \"system\", \"content\": \"You are an expert in Moroccan Darija dialect and in translating Darija to English.\" +\n",
    "            {\"role\": \"user\", \"content\": 'داق'},\n",
    "        ],\n",
    "temperature=0, \n",
    ")\n",
    "test = test.choices[0].message.content\n",
    "print(test)\n",
    "test2 = test2.choices[0].message.content\n",
    "print(test2)"
   ]
  },
  {
   "cell_type": "markdown",
   "metadata": {},
   "source": [
    "\"Purpose of the translation: To study the accuracy of LLMs on Low resource languages, particularly Darija.\" + \n",
    "\"Target audience: Computational linguists\" "
   ]
  },
  {
   "cell_type": "code",
   "execution_count": null,
   "metadata": {},
   "outputs": [],
   "source": [
    "from openai import OpenAI\n",
    "\n",
    "client = OpenAI()\n",
    "\n",
    "test = client.chat.completions.create(\n",
    "model =  \"gpt-3.5-turbo\",\n",
    "messages = [\n",
    "            {\"role\": \"system\", \"content\": \"ترجم الفعل المعطي بالدارجة المغربية لنجليزية كلمة بكلمة.\" + \n",
    "             \"مخصش يكون المخرج فعل مصدري. بلاما تعطي تفسيرات.\"},\n",
    "            {\"role\": \"user\", \"content\": 'داق'},\n",
    "],\n",
    "temperature=0, # deterministic\n",
    ")\n",
    "\n",
    "test2 = client.chat.completions.create(\n",
    "model =  \"gpt-3.5-turbo\",\n",
    "        messages=[\n",
    "        {\n",
    "            \"role\": \"system\", \n",
    "            \"content\": \"Translate the provided Moroccan Darija language verbs into English using word-by-word translation.\" + \n",
    "            \"Please fulfill the following conditions when translating.\"+\n",
    "            \"The translation must contain only the lemma of the translated verb. It should not contain 'to' for example\"+\n",
    "            \"Purpose of the translation: To study the accuracy of LLMs on Low resource languages, particularly Darija.\" + \n",
    "            \"Target audience: Computational linguists\" \n",
    "        },\n",
    "        {\n",
    "            \"role\": \"user\", \n",
    "            \"content\":  f'{verb}'\n",
    "        }\n",
    "        ],\n",
    "temperature=0, \n",
    ")\n",
    "test = test.choices[0].message.content\n",
    "print(test)\n",
    "test2 = test2.choices[0].message.content\n",
    "print(test2)"
   ]
  },
  {
   "cell_type": "markdown",
   "metadata": {},
   "source": [
    "chack previous work with stratified \n",
    "\n",
    "should the transliteration be any more checked within itself between the two results?\n",
    "\n",
    "there must be a clearance of all useless work.\n",
    "\n",
    "work from now on is with average. Makes sense than threshold."
   ]
  }
 ],
 "metadata": {
  "language_info": {
   "name": "python"
  }
 },
 "nbformat": 4,
 "nbformat_minor": 2
}
