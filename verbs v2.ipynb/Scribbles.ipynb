{
 "cells": [
  {
   "cell_type": "code",
   "execution_count": null,
   "metadata": {},
   "outputs": [],
   "source": [
    "#           \"role\": \"system\", \n",
    "#           \"content\": \"Translate the provided Moroccan Darija language verbs into English using word-by-word translation.\" + \n",
    "#           \"Please fulfill the following conditions when translating.\"+\n",
    "#           \"The translation must contain only the lemma of the translated verb. It should not contain 'to' for example\"+"
   ]
  },
  {
   "cell_type": "markdown",
   "metadata": {},
   "source": [
    "check previous work with stratified \n",
    "\n",
    "should the transliteration be any more checked within itself between the two results?\n",
    "\n",
    "there must be a clearance of all useless work."
   ]
  },
  {
   "cell_type": "code",
   "execution_count": 2,
   "metadata": {},
   "outputs": [],
   "source": [
    "from openai import OpenAI\n",
    "import pandas as pd\n",
    "df = pd.read_csv('verbs.csv')\n",
    "df = df.head(100)\n",
    "client = OpenAI()\n",
    "\n",
    "def p4_translate_(verb):\n",
    "    completion = client.chat.completions.create(\n",
    "        model=\"gpt-3.5-turbo\",\n",
    "messages = [\n",
    "            {\"role\": \"system\", \"content\": \n",
    "                \"ترجم الفعل المعطي بالدارجة المغربية لفعل انجليزي مجرد المصدر.\\n\" +\n",
    "                \"الترجمة خص يكون فيها غير جذر الفعل المترجم بلا تفسيرات.\"\n",
    "             },\n",
    "            {\"role\": \"user\", \"content\": f\"{verb}\"},\n",
    "],\n",
    "        temperature=0\n",
    "    )\n",
    "    return completion.choices[0].message.content\n",
    "\n",
    "def eng_p4_translate_(verb):\n",
    "    completion = client.chat.completions.create(\n",
    "        model=\"gpt-3.5-turbo\",\n",
    "        messages=[\n",
    "            {\"role\": \"system\", \"content\": \n",
    "                \"Translate the provided Moroccan Darija dialect verb into a bare-infinitive English verb.\\n\" + \n",
    "                \"The translation must contain only the lemma of the translated verb with no explanations.\"},\n",
    "            {\"role\": \"user\", \"content\": f\"{verb}\"},\n",
    "        ],\n",
    "        temperature=0\n",
    "    )\n",
    "    return completion.choices[0].message.content\n",
    "\n",
    "\n",
    "\n"
   ]
  },
  {
   "cell_type": "code",
   "execution_count": 3,
   "metadata": {},
   "outputs": [],
   "source": [
    "dataset = df.copy()\n",
    "columns_to_delete = ['n1','n2', 'n3', 'n4', 'n5', 'n6']\n",
    "dataset.drop(columns=columns_to_delete, inplace=True)\n",
    "\n",
    "\n",
    "dataset['p4_transl'] = dataset['darija_ar'].apply(p4_translate_)\n",
    "dataset['eng_p4_transl'] = dataset['darija_ar'].apply(eng_p4_translate_)"
   ]
  },
  {
   "cell_type": "code",
   "execution_count": 4,
   "metadata": {},
   "outputs": [
    {
     "name": "stdout",
     "output_type": "stream",
     "text": [
      "Mean value of similarities in the fourth darija prompt is: 0.7028333333333333\n",
      "Mean value of similarities in the fourth english prompt is: 0.7200952380952381\n"
     ]
    },
    {
     "data": {
      "text/html": [
       "<div>\n",
       "<style scoped>\n",
       "    .dataframe tbody tr th:only-of-type {\n",
       "        vertical-align: middle;\n",
       "    }\n",
       "\n",
       "    .dataframe tbody tr th {\n",
       "        vertical-align: top;\n",
       "    }\n",
       "\n",
       "    .dataframe thead th {\n",
       "        text-align: right;\n",
       "    }\n",
       "</style>\n",
       "<table border=\"1\" class=\"dataframe\">\n",
       "  <thead>\n",
       "    <tr style=\"text-align: right;\">\n",
       "      <th></th>\n",
       "      <th>similarity_p4</th>\n",
       "      <th>similarity_eng_p4</th>\n",
       "    </tr>\n",
       "  </thead>\n",
       "  <tbody>\n",
       "    <tr>\n",
       "      <th>count</th>\n",
       "      <td>100.000000</td>\n",
       "      <td>100.000000</td>\n",
       "    </tr>\n",
       "    <tr>\n",
       "      <th>mean</th>\n",
       "      <td>0.702833</td>\n",
       "      <td>0.720095</td>\n",
       "    </tr>\n",
       "    <tr>\n",
       "      <th>std</th>\n",
       "      <td>0.398644</td>\n",
       "      <td>0.388145</td>\n",
       "    </tr>\n",
       "    <tr>\n",
       "      <th>min</th>\n",
       "      <td>0.000000</td>\n",
       "      <td>0.000000</td>\n",
       "    </tr>\n",
       "    <tr>\n",
       "      <th>25%</th>\n",
       "      <td>0.250000</td>\n",
       "      <td>0.333333</td>\n",
       "    </tr>\n",
       "    <tr>\n",
       "      <th>50%</th>\n",
       "      <td>1.000000</td>\n",
       "      <td>1.000000</td>\n",
       "    </tr>\n",
       "    <tr>\n",
       "      <th>75%</th>\n",
       "      <td>1.000000</td>\n",
       "      <td>1.000000</td>\n",
       "    </tr>\n",
       "    <tr>\n",
       "      <th>max</th>\n",
       "      <td>1.000000</td>\n",
       "      <td>1.000000</td>\n",
       "    </tr>\n",
       "  </tbody>\n",
       "</table>\n",
       "</div>"
      ],
      "text/plain": [
       "       similarity_p4  similarity_eng_p4\n",
       "count     100.000000         100.000000\n",
       "mean        0.702833           0.720095\n",
       "std         0.398644           0.388145\n",
       "min         0.000000           0.000000\n",
       "25%         0.250000           0.333333\n",
       "50%         1.000000           1.000000\n",
       "75%         1.000000           1.000000\n",
       "max         1.000000           1.000000"
      ]
     },
     "execution_count": 4,
     "metadata": {},
     "output_type": "execute_result"
    }
   ],
   "source": [
    "import matplotlib.pyplot as plt\n",
    "from nltk.corpus import wordnet as wn\n",
    "\n",
    "\n",
    "eng = dataset['eng']\n",
    "p4_transl = dataset['p4_transl']\n",
    "eng_p4_transl = dataset['eng_p4_transl']\n",
    "\n",
    "p4_transl = [verb.replace(\" \", \"_\") for verb in p4_transl]\n",
    "eng_p4_transl = [verb.replace(\" \", \"_\") for verb in eng_p4_transl]\n",
    "\n",
    "eng = [verb.replace(\" \", \"_\") for verb in eng]\n",
    "\n",
    "\n",
    "def max_path_similarity(word1, word2):\n",
    "    \"\"\"Calculate the maximum path similarity between two words.\"\"\"\n",
    "\n",
    "    synsets1 = wn.synsets(word1, pos=wn.VERB)\n",
    "    synsets2 = wn.synsets(word2, pos=wn.VERB)\n",
    "    max_score = 0\n",
    "    for syn1 in synsets1:\n",
    "        for syn2 in synsets2:\n",
    "            score = syn1.path_similarity(syn2)\n",
    "            if score and score > max_score:\n",
    "                max_score = score\n",
    "    return max_score\n",
    "\n",
    "def evaluate_pairs(transl,threshold=0.5):\n",
    "    \"\"\"Evaluating each pair using WordNet path similarity and a threshold.\"\"\"\n",
    "    results = []\n",
    "    for i in range(len(transl)):\n",
    "        word1, word2 = transl[i], eng[i]\n",
    "        similarity = max_path_similarity(word1, word2)\n",
    "        results.append((word1, word2, similarity, similarity >= threshold))\n",
    "    return results\n",
    "\n",
    "results_p4 = evaluate_pairs(p4_transl)\n",
    "results_eng_p4 = evaluate_pairs(eng_p4_transl)\n",
    "\n",
    "dataset['similarity_p4'] = [item[2] for item in results_p4]\n",
    "dataset['similarity_eng_p4'] = [item[2] for item in results_eng_p4]\n",
    "\n",
    "p4_s = dataset['similarity_p4'] \n",
    "ep4_s = dataset['similarity_eng_p4']\n",
    "\n",
    "p4= dataset['similarity_p4'].mean()\n",
    "ep4= dataset['similarity_eng_p4'].mean()\n",
    "\n",
    "print(f'Mean value of similarities in the fourth darija prompt is: {p4}')\n",
    "print(f'Mean value of similarities in the fourth english prompt is: {ep4}')\n",
    "dataset.describe()\n",
    "\n"
   ]
  },
  {
   "cell_type": "code",
   "execution_count": 5,
   "metadata": {},
   "outputs": [
    {
     "name": "stdout",
     "output_type": "stream",
     "text": [
      "F-statistic: 0.09625268014564181\n",
      "P-value: 0.7567000826358858\n",
      "No significant difference between the frouth prompts written in English and Darija\n"
     ]
    }
   ],
   "source": [
    "from scipy.stats import f_oneway\n",
    "\n",
    "f_stat, p_value = f_oneway(p4_s, ep4_s)\n",
    "\n",
    "\n",
    "print(f\"F-statistic: {f_stat}\")\n",
    "print(f\"P-value: {p_value}\")\n",
    "\n",
    "if p_value < 0.05:\n",
    "    print(\"Significant difference between the fourth prompts written in English and Darija\")\n",
    "else:\n",
    "    print(\"No significant difference between the frouth prompts written in English and Darija\")"
   ]
  },
  {
   "cell_type": "code",
   "execution_count": 6,
   "metadata": {},
   "outputs": [
    {
     "data": {
      "application/vnd.plotly.v1+json": {
       "config": {
        "plotlyServerURL": "https://plot.ly"
       },
       "data": [
        {
         "hovertemplate": "<b>%{hovertext}</b><br><br>similarity_p4=%{x}<br>similarity_eng_p4=%{y}<extra></extra>",
         "hovertext": [
          "eat, ماشي, eat",
          "drink, Drink, drink",
          "enter, Enter, enter",
          "go out, Go, go out",
          "understand, Understand, understand",
          "explain, شرح = explain, explain",
          "learn, read, read",
          "teach, read, read",
          "hear, to hear, hear",
          "see, see, see",
          "smell, Smell, smell",
          "taste, Taste, taste",
          "touch, Measure, measure",
          "go, Go, go",
          "come, come, come",
          "ascend, Go, go out",
          "go down, Go down, descend",
          "swim, to do, to year",
          "drown, Drown, drown",
          "wear, wear, wear",
          "take off, Shop, ask",
          "buy, Buy, buy",
          "sell, sell, sell",
          "bargain, Go, to respond",
          "write, write, write",
          "clean, wipe, wipe",
          "hit, Hit, hit",
          "salute, to greet, to surrender",
          "fatigue, Tired, tire",
          "exhaust, Dance, whisper",
          "laugh, Laugh, laugh",
          "anger, Get angry, to get angry",
          "bring, bring, bring",
          "was, be, be",
          "do, do, to live",
          "say, Say, go",
          "say, كيفشاف, say",
          "have, Have, have",
          "get, Pull, pull",
          "think, Think, think",
          "want, Go, go",
          "find, find, find",
          "give, Give, give",
          "work, Work, work",
          "call, Yell, shout",
          "need, lose, lose",
          "feel, Feel, feel",
          "become, To go, leave",
          "put, Put, put",
          "mean, have, have",
          "begin, Start, begin",
          "should, Lose, lose",
          "find, find, find",
          "like, Like, like",
          "tell, Know, to inform",
          "help, Help, help",
          "help, Free, free",
          "prepare, find, find",
          "believe, Security, believe",
          "try, Try, try",
          "try, Try, try",
          "ask, Encourage, convince",
          "remember, Think, think",
          "leave, Go, go",
          "show, Show, show",
          "play, Play, play",
          "run, Run, to run",
          "run, Run, run",
          "read, Read, read",
          "start, start, begin",
          "finish, to ask, ask",
          "cut, Cut, cut",
          "talk, Speak, speak",
          "thank, Thank, thank",
          "change, Change, change",
          "continue, Finish, complete",
          "suppose, Refuse, agree",
          "wish, wish, wish",
          "follow, Follow, follow",
          "accept, before, accept",
          "reject, Refuse, refuse",
          "happen, Fall, fall",
          "sit down, Eat, swim",
          "win, Win, win",
          "add, increase, increase",
          "learn, Learn, learn",
          "wait, Wait, to wait",
          "send, to eat, fall",
          "sell, sell, sell",
          "buy, Buy, buy",
          "open, Solve, solve",
          "build, build, build",
          "choose, choose, choose",
          "reach, Arrive, arrive",
          "decide, decide, decide",
          "enjoy, Activate, energize",
          "watch, Watch, watch",
          "lose, Lose, lose",
          "walk, Walk, walk",
          "raise, Grow, to grow up"
         ],
         "legendgroup": "",
         "marker": {
          "color": "#636efa",
          "opacity": 0.2,
          "size": 10,
          "symbol": "circle"
         },
         "mode": "markers",
         "name": "",
         "orientation": "v",
         "showlegend": false,
         "text": [
          "eat",
          "drink",
          "enter",
          "go out",
          "understand",
          "explain",
          "learn",
          "teach",
          "hear",
          "see",
          "smell",
          "taste",
          "touch",
          "go",
          "come",
          "ascend",
          "go down",
          "swim",
          "drown",
          "wear",
          "take off",
          "buy",
          "sell",
          "bargain",
          "write",
          "clean",
          "hit",
          "salute",
          "fatigue",
          "exhaust",
          "laugh",
          "anger",
          "bring",
          "was",
          "do",
          "say",
          "say",
          "have",
          "get",
          "think",
          "want",
          "find",
          "give",
          "work",
          "call",
          "need",
          "feel",
          "become",
          "put",
          "mean",
          "begin",
          "should",
          "find",
          "like",
          "tell",
          "help",
          "help",
          "prepare",
          "believe",
          "try",
          "try",
          "ask",
          "remember",
          "leave",
          "show",
          "play",
          "run",
          "run",
          "read",
          "start",
          "finish",
          "cut",
          "talk",
          "thank",
          "change",
          "continue",
          "suppose",
          "wish",
          "follow",
          "accept",
          "reject",
          "happen",
          "sit down",
          "win",
          "add",
          "learn",
          "wait",
          "send",
          "sell",
          "buy",
          "open",
          "build",
          "choose",
          "reach",
          "decide",
          "enjoy",
          "watch",
          "lose",
          "walk",
          "raise"
         ],
         "textposition": "top center",
         "type": "scatter",
         "x": [
          0,
          1,
          1,
          0.5,
          1,
          0,
          1,
          0.25,
          0,
          1,
          1,
          1,
          0.25,
          1,
          1,
          0.5,
          1,
          0,
          1,
          1,
          0.2,
          1,
          1,
          0.16666666666666666,
          1,
          0.16666666666666666,
          1,
          0,
          1,
          0.25,
          1,
          0,
          1,
          1,
          1,
          1,
          0,
          1,
          0.5,
          1,
          0.3333333333333333,
          1,
          1,
          1,
          1,
          0.3333333333333333,
          1,
          0,
          1,
          0.3333333333333333,
          1,
          0,
          1,
          1,
          0.5,
          1,
          0.25,
          0.25,
          0,
          1,
          1,
          0.25,
          1,
          0.5,
          1,
          1,
          1,
          1,
          1,
          1,
          0,
          1,
          1,
          1,
          1,
          0.3333333333333333,
          0.16666666666666666,
          1,
          1,
          0,
          1,
          0.5,
          0.25,
          1,
          0.5,
          1,
          1,
          0,
          1,
          1,
          0.25,
          1,
          1,
          0.5,
          1,
          0.25,
          1,
          1,
          1,
          1
         ],
         "xaxis": "x",
         "y": [
          1,
          1,
          1,
          1,
          1,
          1,
          1,
          0.25,
          1,
          1,
          1,
          1,
          0.25,
          1,
          1,
          0.3333333333333333,
          1,
          0,
          1,
          1,
          0.25,
          1,
          1,
          0,
          1,
          0.16666666666666666,
          1,
          0,
          1,
          0.14285714285714285,
          1,
          0,
          1,
          1,
          0,
          0.3333333333333333,
          1,
          1,
          0.5,
          1,
          0.3333333333333333,
          1,
          1,
          1,
          1,
          0.3333333333333333,
          1,
          0.3333333333333333,
          1,
          0.3333333333333333,
          1,
          0,
          1,
          1,
          0,
          1,
          0.25,
          0.25,
          1,
          1,
          1,
          0.2,
          1,
          0.5,
          1,
          1,
          0,
          1,
          1,
          1,
          0.3333333333333333,
          1,
          1,
          1,
          1,
          0.25,
          0.16666666666666666,
          1,
          1,
          1,
          1,
          0.5,
          0.25,
          1,
          0.5,
          1,
          0,
          0.25,
          1,
          1,
          0.25,
          1,
          1,
          0.5,
          1,
          0.25,
          1,
          1,
          1,
          0
         ],
         "yaxis": "y"
        }
       ],
       "layout": {
        "legend": {
         "tracegroupgap": 0
        },
        "margin": {
         "t": 60
        },
        "template": {
         "data": {
          "bar": [
           {
            "error_x": {
             "color": "#2a3f5f"
            },
            "error_y": {
             "color": "#2a3f5f"
            },
            "marker": {
             "line": {
              "color": "#E5ECF6",
              "width": 0.5
             },
             "pattern": {
              "fillmode": "overlay",
              "size": 10,
              "solidity": 0.2
             }
            },
            "type": "bar"
           }
          ],
          "barpolar": [
           {
            "marker": {
             "line": {
              "color": "#E5ECF6",
              "width": 0.5
             },
             "pattern": {
              "fillmode": "overlay",
              "size": 10,
              "solidity": 0.2
             }
            },
            "type": "barpolar"
           }
          ],
          "carpet": [
           {
            "aaxis": {
             "endlinecolor": "#2a3f5f",
             "gridcolor": "white",
             "linecolor": "white",
             "minorgridcolor": "white",
             "startlinecolor": "#2a3f5f"
            },
            "baxis": {
             "endlinecolor": "#2a3f5f",
             "gridcolor": "white",
             "linecolor": "white",
             "minorgridcolor": "white",
             "startlinecolor": "#2a3f5f"
            },
            "type": "carpet"
           }
          ],
          "choropleth": [
           {
            "colorbar": {
             "outlinewidth": 0,
             "ticks": ""
            },
            "type": "choropleth"
           }
          ],
          "contour": [
           {
            "colorbar": {
             "outlinewidth": 0,
             "ticks": ""
            },
            "colorscale": [
             [
              0,
              "#0d0887"
             ],
             [
              0.1111111111111111,
              "#46039f"
             ],
             [
              0.2222222222222222,
              "#7201a8"
             ],
             [
              0.3333333333333333,
              "#9c179e"
             ],
             [
              0.4444444444444444,
              "#bd3786"
             ],
             [
              0.5555555555555556,
              "#d8576b"
             ],
             [
              0.6666666666666666,
              "#ed7953"
             ],
             [
              0.7777777777777778,
              "#fb9f3a"
             ],
             [
              0.8888888888888888,
              "#fdca26"
             ],
             [
              1,
              "#f0f921"
             ]
            ],
            "type": "contour"
           }
          ],
          "contourcarpet": [
           {
            "colorbar": {
             "outlinewidth": 0,
             "ticks": ""
            },
            "type": "contourcarpet"
           }
          ],
          "heatmap": [
           {
            "colorbar": {
             "outlinewidth": 0,
             "ticks": ""
            },
            "colorscale": [
             [
              0,
              "#0d0887"
             ],
             [
              0.1111111111111111,
              "#46039f"
             ],
             [
              0.2222222222222222,
              "#7201a8"
             ],
             [
              0.3333333333333333,
              "#9c179e"
             ],
             [
              0.4444444444444444,
              "#bd3786"
             ],
             [
              0.5555555555555556,
              "#d8576b"
             ],
             [
              0.6666666666666666,
              "#ed7953"
             ],
             [
              0.7777777777777778,
              "#fb9f3a"
             ],
             [
              0.8888888888888888,
              "#fdca26"
             ],
             [
              1,
              "#f0f921"
             ]
            ],
            "type": "heatmap"
           }
          ],
          "heatmapgl": [
           {
            "colorbar": {
             "outlinewidth": 0,
             "ticks": ""
            },
            "colorscale": [
             [
              0,
              "#0d0887"
             ],
             [
              0.1111111111111111,
              "#46039f"
             ],
             [
              0.2222222222222222,
              "#7201a8"
             ],
             [
              0.3333333333333333,
              "#9c179e"
             ],
             [
              0.4444444444444444,
              "#bd3786"
             ],
             [
              0.5555555555555556,
              "#d8576b"
             ],
             [
              0.6666666666666666,
              "#ed7953"
             ],
             [
              0.7777777777777778,
              "#fb9f3a"
             ],
             [
              0.8888888888888888,
              "#fdca26"
             ],
             [
              1,
              "#f0f921"
             ]
            ],
            "type": "heatmapgl"
           }
          ],
          "histogram": [
           {
            "marker": {
             "pattern": {
              "fillmode": "overlay",
              "size": 10,
              "solidity": 0.2
             }
            },
            "type": "histogram"
           }
          ],
          "histogram2d": [
           {
            "colorbar": {
             "outlinewidth": 0,
             "ticks": ""
            },
            "colorscale": [
             [
              0,
              "#0d0887"
             ],
             [
              0.1111111111111111,
              "#46039f"
             ],
             [
              0.2222222222222222,
              "#7201a8"
             ],
             [
              0.3333333333333333,
              "#9c179e"
             ],
             [
              0.4444444444444444,
              "#bd3786"
             ],
             [
              0.5555555555555556,
              "#d8576b"
             ],
             [
              0.6666666666666666,
              "#ed7953"
             ],
             [
              0.7777777777777778,
              "#fb9f3a"
             ],
             [
              0.8888888888888888,
              "#fdca26"
             ],
             [
              1,
              "#f0f921"
             ]
            ],
            "type": "histogram2d"
           }
          ],
          "histogram2dcontour": [
           {
            "colorbar": {
             "outlinewidth": 0,
             "ticks": ""
            },
            "colorscale": [
             [
              0,
              "#0d0887"
             ],
             [
              0.1111111111111111,
              "#46039f"
             ],
             [
              0.2222222222222222,
              "#7201a8"
             ],
             [
              0.3333333333333333,
              "#9c179e"
             ],
             [
              0.4444444444444444,
              "#bd3786"
             ],
             [
              0.5555555555555556,
              "#d8576b"
             ],
             [
              0.6666666666666666,
              "#ed7953"
             ],
             [
              0.7777777777777778,
              "#fb9f3a"
             ],
             [
              0.8888888888888888,
              "#fdca26"
             ],
             [
              1,
              "#f0f921"
             ]
            ],
            "type": "histogram2dcontour"
           }
          ],
          "mesh3d": [
           {
            "colorbar": {
             "outlinewidth": 0,
             "ticks": ""
            },
            "type": "mesh3d"
           }
          ],
          "parcoords": [
           {
            "line": {
             "colorbar": {
              "outlinewidth": 0,
              "ticks": ""
             }
            },
            "type": "parcoords"
           }
          ],
          "pie": [
           {
            "automargin": true,
            "type": "pie"
           }
          ],
          "scatter": [
           {
            "fillpattern": {
             "fillmode": "overlay",
             "size": 10,
             "solidity": 0.2
            },
            "type": "scatter"
           }
          ],
          "scatter3d": [
           {
            "line": {
             "colorbar": {
              "outlinewidth": 0,
              "ticks": ""
             }
            },
            "marker": {
             "colorbar": {
              "outlinewidth": 0,
              "ticks": ""
             }
            },
            "type": "scatter3d"
           }
          ],
          "scattercarpet": [
           {
            "marker": {
             "colorbar": {
              "outlinewidth": 0,
              "ticks": ""
             }
            },
            "type": "scattercarpet"
           }
          ],
          "scattergeo": [
           {
            "marker": {
             "colorbar": {
              "outlinewidth": 0,
              "ticks": ""
             }
            },
            "type": "scattergeo"
           }
          ],
          "scattergl": [
           {
            "marker": {
             "colorbar": {
              "outlinewidth": 0,
              "ticks": ""
             }
            },
            "type": "scattergl"
           }
          ],
          "scattermapbox": [
           {
            "marker": {
             "colorbar": {
              "outlinewidth": 0,
              "ticks": ""
             }
            },
            "type": "scattermapbox"
           }
          ],
          "scatterpolar": [
           {
            "marker": {
             "colorbar": {
              "outlinewidth": 0,
              "ticks": ""
             }
            },
            "type": "scatterpolar"
           }
          ],
          "scatterpolargl": [
           {
            "marker": {
             "colorbar": {
              "outlinewidth": 0,
              "ticks": ""
             }
            },
            "type": "scatterpolargl"
           }
          ],
          "scatterternary": [
           {
            "marker": {
             "colorbar": {
              "outlinewidth": 0,
              "ticks": ""
             }
            },
            "type": "scatterternary"
           }
          ],
          "surface": [
           {
            "colorbar": {
             "outlinewidth": 0,
             "ticks": ""
            },
            "colorscale": [
             [
              0,
              "#0d0887"
             ],
             [
              0.1111111111111111,
              "#46039f"
             ],
             [
              0.2222222222222222,
              "#7201a8"
             ],
             [
              0.3333333333333333,
              "#9c179e"
             ],
             [
              0.4444444444444444,
              "#bd3786"
             ],
             [
              0.5555555555555556,
              "#d8576b"
             ],
             [
              0.6666666666666666,
              "#ed7953"
             ],
             [
              0.7777777777777778,
              "#fb9f3a"
             ],
             [
              0.8888888888888888,
              "#fdca26"
             ],
             [
              1,
              "#f0f921"
             ]
            ],
            "type": "surface"
           }
          ],
          "table": [
           {
            "cells": {
             "fill": {
              "color": "#EBF0F8"
             },
             "line": {
              "color": "white"
             }
            },
            "header": {
             "fill": {
              "color": "#C8D4E3"
             },
             "line": {
              "color": "white"
             }
            },
            "type": "table"
           }
          ]
         },
         "layout": {
          "annotationdefaults": {
           "arrowcolor": "#2a3f5f",
           "arrowhead": 0,
           "arrowwidth": 1
          },
          "autotypenumbers": "strict",
          "coloraxis": {
           "colorbar": {
            "outlinewidth": 0,
            "ticks": ""
           }
          },
          "colorscale": {
           "diverging": [
            [
             0,
             "#8e0152"
            ],
            [
             0.1,
             "#c51b7d"
            ],
            [
             0.2,
             "#de77ae"
            ],
            [
             0.3,
             "#f1b6da"
            ],
            [
             0.4,
             "#fde0ef"
            ],
            [
             0.5,
             "#f7f7f7"
            ],
            [
             0.6,
             "#e6f5d0"
            ],
            [
             0.7,
             "#b8e186"
            ],
            [
             0.8,
             "#7fbc41"
            ],
            [
             0.9,
             "#4d9221"
            ],
            [
             1,
             "#276419"
            ]
           ],
           "sequential": [
            [
             0,
             "#0d0887"
            ],
            [
             0.1111111111111111,
             "#46039f"
            ],
            [
             0.2222222222222222,
             "#7201a8"
            ],
            [
             0.3333333333333333,
             "#9c179e"
            ],
            [
             0.4444444444444444,
             "#bd3786"
            ],
            [
             0.5555555555555556,
             "#d8576b"
            ],
            [
             0.6666666666666666,
             "#ed7953"
            ],
            [
             0.7777777777777778,
             "#fb9f3a"
            ],
            [
             0.8888888888888888,
             "#fdca26"
            ],
            [
             1,
             "#f0f921"
            ]
           ],
           "sequentialminus": [
            [
             0,
             "#0d0887"
            ],
            [
             0.1111111111111111,
             "#46039f"
            ],
            [
             0.2222222222222222,
             "#7201a8"
            ],
            [
             0.3333333333333333,
             "#9c179e"
            ],
            [
             0.4444444444444444,
             "#bd3786"
            ],
            [
             0.5555555555555556,
             "#d8576b"
            ],
            [
             0.6666666666666666,
             "#ed7953"
            ],
            [
             0.7777777777777778,
             "#fb9f3a"
            ],
            [
             0.8888888888888888,
             "#fdca26"
            ],
            [
             1,
             "#f0f921"
            ]
           ]
          },
          "colorway": [
           "#636efa",
           "#EF553B",
           "#00cc96",
           "#ab63fa",
           "#FFA15A",
           "#19d3f3",
           "#FF6692",
           "#B6E880",
           "#FF97FF",
           "#FECB52"
          ],
          "font": {
           "color": "#2a3f5f"
          },
          "geo": {
           "bgcolor": "white",
           "lakecolor": "white",
           "landcolor": "#E5ECF6",
           "showlakes": true,
           "showland": true,
           "subunitcolor": "white"
          },
          "hoverlabel": {
           "align": "left"
          },
          "hovermode": "closest",
          "mapbox": {
           "style": "light"
          },
          "paper_bgcolor": "white",
          "plot_bgcolor": "#E5ECF6",
          "polar": {
           "angularaxis": {
            "gridcolor": "white",
            "linecolor": "white",
            "ticks": ""
           },
           "bgcolor": "#E5ECF6",
           "radialaxis": {
            "gridcolor": "white",
            "linecolor": "white",
            "ticks": ""
           }
          },
          "scene": {
           "xaxis": {
            "backgroundcolor": "#E5ECF6",
            "gridcolor": "white",
            "gridwidth": 2,
            "linecolor": "white",
            "showbackground": true,
            "ticks": "",
            "zerolinecolor": "white"
           },
           "yaxis": {
            "backgroundcolor": "#E5ECF6",
            "gridcolor": "white",
            "gridwidth": 2,
            "linecolor": "white",
            "showbackground": true,
            "ticks": "",
            "zerolinecolor": "white"
           },
           "zaxis": {
            "backgroundcolor": "#E5ECF6",
            "gridcolor": "white",
            "gridwidth": 2,
            "linecolor": "white",
            "showbackground": true,
            "ticks": "",
            "zerolinecolor": "white"
           }
          },
          "shapedefaults": {
           "line": {
            "color": "#2a3f5f"
           }
          },
          "ternary": {
           "aaxis": {
            "gridcolor": "white",
            "linecolor": "white",
            "ticks": ""
           },
           "baxis": {
            "gridcolor": "white",
            "linecolor": "white",
            "ticks": ""
           },
           "bgcolor": "#E5ECF6",
           "caxis": {
            "gridcolor": "white",
            "linecolor": "white",
            "ticks": ""
           }
          },
          "title": {
           "x": 0.05
          },
          "xaxis": {
           "automargin": true,
           "gridcolor": "white",
           "linecolor": "white",
           "ticks": "",
           "title": {
            "standoff": 15
           },
           "zerolinecolor": "white",
           "zerolinewidth": 2
          },
          "yaxis": {
           "automargin": true,
           "gridcolor": "white",
           "linecolor": "white",
           "ticks": "",
           "title": {
            "standoff": 15
           },
           "zerolinecolor": "white",
           "zerolinewidth": 2
          }
         }
        },
        "xaxis": {
         "anchor": "y",
         "domain": [
          0,
          1
         ],
         "title": {
          "text": "similarity_p4"
         }
        },
        "yaxis": {
         "anchor": "x",
         "domain": [
          0,
          1
         ],
         "title": {
          "text": "similarity_eng_p4"
         }
        }
       }
      }
     },
     "metadata": {},
     "output_type": "display_data"
    }
   ],
   "source": [
    "import plotly.express as px\n",
    "\n",
    "dataset['triple_verbs'] = dataset['eng'] + ', ' + dataset['p4_transl'] + ', ' + dataset['eng_p4_transl']\n",
    "\n",
    "# Create the scatter plot with custom hover data\n",
    "fig = px.scatter(\n",
    "    dataset,\n",
    "    x='similarity_p4',\n",
    "    y='similarity_eng_p4',\n",
    "    hover_name='triple_verbs',\n",
    "    hover_data={\n",
    "        'similarity_p4': True,\n",
    "        'similarity_eng_p4': True,\n",
    "    }\n",
    ")\n",
    "\n",
    "# Customize the marker properties\n",
    "fig.update_traces(\n",
    "    marker=dict(size=10, opacity=0.2),\n",
    "    text=dataset['eng'],\n",
    "    textposition='top center'\n",
    ")\n",
    "\n",
    "# Show the plot\n",
    "fig.show()"
   ]
  },
  {
   "cell_type": "code",
   "execution_count": 7,
   "metadata": {},
   "outputs": [
    {
     "data": {
      "image/png": "[encoded data removed]",
      "text/plain": [
       "<Figure size 800x600 with 1 Axes>"
      ]
     },
     "metadata": {},
     "output_type": "display_data"
    }
   ],
   "source": [
    "import matplotlib.pyplot as plt\n",
    "import pandas as pd\n",
    "\n",
    "# Example data\n",
    "data = {\n",
    "    'Arabic Word': ['كلمة1', 'كلمة2', 'كلمة3', 'كلمة4'],\n",
    "    'English Word': ['word1', 'word2', 'word3', 'word4'],\n",
    "    'Prompt 1 Score': [0.8, 0.6, 0.9, 0.5],\n",
    "    'Prompt 2 Score': [0.75, 0.65, 0.85, 0.55]\n",
    "}\n",
    "\n",
    "# Create a DataFrame\n",
    "df = pd.DataFrame(data)\n",
    "\n",
    "# Plotting the scatter plot\n",
    "plt.figure(figsize=(8, 6))\n",
    "plt.scatter(df['Prompt 1 Score'], df['Prompt 2 Score'])\n",
    "\n",
    "# Adding labels for each point\n",
    "for i in range(len(df)):\n",
    "    plt.text(df['Prompt 1 Score'][i], df['Prompt 2 Score'][i], \n",
    "             f\"({df['Arabic Word'][i]}, {df['English Word'][i]})\", fontsize=9)\n",
    "\n",
    "# Adding a diagonal line to show perfect correlation\n",
    "plt.plot([0, 1], [0, 1], color='red', linestyle='--')\n",
    "\n",
    "plt.title('Comparison of Similarity Scores')\n",
    "plt.xlabel('Prompt 1 Score')\n",
    "plt.ylabel('Prompt 2 Score')\n",
    "plt.grid(True)\n",
    "plt.show()\n"
   ]
  },
  {
   "cell_type": "markdown",
   "metadata": {},
   "source": [
    "#### Pearson Correlation:\n",
    "\n",
    "Type: Measures linear relationship.\n",
    "\n",
    "Values: Ranges from -1 to 1.\n",
    "\n",
    "1 indicates a perfect positive linear relationship.\n",
    "\n",
    "-1 indicates a perfect negative linear relationship.\n",
    "\n",
    "0 indicates no linear relationship.\n",
    "\n",
    "Assumptions: Assumes both variables are normally distributed and have a linear relationship.\n",
    "Sensitivity:  # Sensitive to outliers.\n",
    "\n",
    "#### Spearman Correlation:\n",
    "\n",
    "\n",
    "Type: Measures monotonic relationship (whether variables tend to move in the same or opposite directions).\n",
    "\n",
    "Values: Also ranges from -1 to 1.\n",
    "\n",
    "1 indicates a perfect positive monotonic relationship.\n",
    "\n",
    "-1 indicates a perfect negative monotonic relationship.\n",
    "\n",
    "0 indicates no monotonic relationship.\n",
    "\n",
    "Assumptions: Non-parametric (does not assume any specific distribution); based on rank order.\n",
    "\n",
    "Sensitivity: Less sensitive to outliers compared to Pearson.\n"
   ]
  },
  {
   "cell_type": "code",
   "execution_count": 8,
   "metadata": {},
   "outputs": [
    {
     "name": "stdout",
     "output_type": "stream",
     "text": [
      "Spearman correlation: 0.6436228935054733\n",
      "Pearson correlation: 0.6322268797813114\n"
     ]
    }
   ],
   "source": [
    "from scipy.stats import spearmanr, pearsonr\n",
    "\n",
    "\n",
    "spearman_corr, _ = spearmanr(dataset['similarity_p4'], dataset['similarity_eng_p4'])\n",
    "print(f'Spearman correlation: {spearman_corr}')\n",
    "\n",
    "pearson_corr, _ = pearsonr(dataset['similarity_p4'], dataset['similarity_eng_p4'])\n",
    "print(f'Pearson correlation: {pearson_corr}')\n"
   ]
  },
  {
   "cell_type": "code",
   "execution_count": 9,
   "metadata": {},
   "outputs": [
    {
     "data": {
      "text/plain": [
       "Index(['darija_ar', 'eng', 'p4_transl', 'eng_p4_transl', 'similarity_p4',\n",
       "       'similarity_eng_p4', 'triple_verbs'],\n",
       "      dtype='object')"
      ]
     },
     "execution_count": 9,
     "metadata": {},
     "output_type": "execute_result"
    }
   ],
   "source": [
    "dataset.columns "
   ]
  },
  {
   "cell_type": "code",
   "execution_count": 10,
   "metadata": {},
   "outputs": [
    {
     "data": {
      "image/png": "[encoded data removed]",
      "text/plain": [
       "<Figure size 800x600 with 1 Axes>"
      ]
     },
     "metadata": {},
     "output_type": "display_data"
    }
   ],
   "source": [
    "from matplotlib_venn import venn2\n",
    "import matplotlib.pyplot as plt\n",
    "\n",
    "threshold = 0.2\n",
    "\n",
    "# Determine sets based on the similarity difference threshold\n",
    "set_prompt1 = set(dataset[(abs(dataset['similarity_p4'] - dataset['similarity_eng_p4']) <= threshold)]['eng'])\n",
    "set_prompt2 = set_prompt1  # Since we're comparing the same pairs\n",
    "\n",
    "# Plot Venn diagram\n",
    "plt.figure(figsize=(8, 6))\n",
    "venn2([set_prompt1, set(dataset['eng']) - set_prompt1], ('Similar Scores', 'Different Scores'))\n",
    "plt.title('Venn Diagram of Similarity Scores (Difference <= 0.2)')\n",
    "plt.show()\n"
   ]
  },
  {
   "cell_type": "markdown",
   "metadata": {},
   "source": [
    "Box plot"
   ]
  },
  {
   "cell_type": "code",
   "execution_count": 31,
   "metadata": {},
   "outputs": [
    {
     "data": {
      "application/vnd.plotly.v1+json": {
       "config": {
        "plotlyServerURL": "https://plot.ly"
       },
       "data": [
        {
         "name": "similarity_p4",
         "type": "box",
         "y": [
          0,
          1,
          1,
          0.5,
          1,
          0,
          1,
          0.25,
          0,
          1,
          1,
          1,
          0.25,
          1,
          1,
          0.5,
          1,
          0,
          1,
          1,
          0.2,
          1,
          1,
          0.16666666666666666,
          1,
          0.16666666666666666,
          1,
          0,
          1,
          0.25,
          1,
          0,
          1,
          1,
          1,
          1,
          0,
          1,
          0.5,
          1,
          0.3333333333333333,
          1,
          1,
          1,
          1,
          0.3333333333333333,
          1,
          0,
          1,
          0.3333333333333333,
          1,
          0,
          1,
          1,
          0.5,
          1,
          0.25,
          0.25,
          0,
          1,
          1,
          0.25,
          1,
          0.5,
          1,
          1,
          1,
          1,
          1,
          1,
          0,
          1,
          1,
          1,
          1,
          0.3333333333333333,
          0.16666666666666666,
          1,
          1,
          0,
          1,
          0.5,
          0.25,
          1,
          0.5,
          1,
          1,
          0,
          1,
          1,
          0.25,
          1,
          1,
          0.5,
          1,
          0.25,
          1,
          1,
          1,
          1
         ]
        },
        {
         "name": "similarity_eng_p4",
         "type": "box",
         "y": [
          1,
          1,
          1,
          1,
          1,
          1,
          1,
          0.25,
          1,
          1,
          1,
          1,
          0.25,
          1,
          1,
          0.3333333333333333,
          1,
          0,
          1,
          1,
          0.25,
          1,
          1,
          0,
          1,
          0.16666666666666666,
          1,
          0,
          1,
          0.14285714285714285,
          1,
          0,
          1,
          1,
          0,
          0.3333333333333333,
          1,
          1,
          0.5,
          1,
          0.3333333333333333,
          1,
          1,
          1,
          1,
          0.3333333333333333,
          1,
          0.3333333333333333,
          1,
          0.3333333333333333,
          1,
          0,
          1,
          1,
          0,
          1,
          0.25,
          0.25,
          1,
          1,
          1,
          0.2,
          1,
          0.5,
          1,
          1,
          0,
          1,
          1,
          1,
          0.3333333333333333,
          1,
          1,
          1,
          1,
          0.25,
          0.16666666666666666,
          1,
          1,
          1,
          1,
          0.5,
          0.25,
          1,
          0.5,
          1,
          0,
          0.25,
          1,
          1,
          0.25,
          1,
          1,
          0.5,
          1,
          0.25,
          1,
          1,
          1,
          0
         ]
        }
       ],
       "layout": {
        "boxmode": "group",
        "template": {
         "data": {
          "bar": [
           {
            "error_x": {
             "color": "#2a3f5f"
            },
            "error_y": {
             "color": "#2a3f5f"
            },
            "marker": {
             "line": {
              "color": "#E5ECF6",
              "width": 0.5
             },
             "pattern": {
              "fillmode": "overlay",
              "size": 10,
              "solidity": 0.2
             }
            },
            "type": "bar"
           }
          ],
          "barpolar": [
           {
            "marker": {
             "line": {
              "color": "#E5ECF6",
              "width": 0.5
             },
             "pattern": {
              "fillmode": "overlay",
              "size": 10,
              "solidity": 0.2
             }
            },
            "type": "barpolar"
           }
          ],
          "carpet": [
           {
            "aaxis": {
             "endlinecolor": "#2a3f5f",
             "gridcolor": "white",
             "linecolor": "white",
             "minorgridcolor": "white",
             "startlinecolor": "#2a3f5f"
            },
            "baxis": {
             "endlinecolor": "#2a3f5f",
             "gridcolor": "white",
             "linecolor": "white",
             "minorgridcolor": "white",
             "startlinecolor": "#2a3f5f"
            },
            "type": "carpet"
           }
          ],
          "choropleth": [
           {
            "colorbar": {
             "outlinewidth": 0,
             "ticks": ""
            },
            "type": "choropleth"
           }
          ],
          "contour": [
           {
            "colorbar": {
             "outlinewidth": 0,
             "ticks": ""
            },
            "colorscale": [
             [
              0,
              "#0d0887"
             ],
             [
              0.1111111111111111,
              "#46039f"
             ],
             [
              0.2222222222222222,
              "#7201a8"
             ],
             [
              0.3333333333333333,
              "#9c179e"
             ],
             [
              0.4444444444444444,
              "#bd3786"
             ],
             [
              0.5555555555555556,
              "#d8576b"
             ],
             [
              0.6666666666666666,
              "#ed7953"
             ],
             [
              0.7777777777777778,
              "#fb9f3a"
             ],
             [
              0.8888888888888888,
              "#fdca26"
             ],
             [
              1,
              "#f0f921"
             ]
            ],
            "type": "contour"
           }
          ],
          "contourcarpet": [
           {
            "colorbar": {
             "outlinewidth": 0,
             "ticks": ""
            },
            "type": "contourcarpet"
           }
          ],
          "heatmap": [
           {
            "colorbar": {
             "outlinewidth": 0,
             "ticks": ""
            },
            "colorscale": [
             [
              0,
              "#0d0887"
             ],
             [
              0.1111111111111111,
              "#46039f"
             ],
             [
              0.2222222222222222,
              "#7201a8"
             ],
             [
              0.3333333333333333,
              "#9c179e"
             ],
             [
              0.4444444444444444,
              "#bd3786"
             ],
             [
              0.5555555555555556,
              "#d8576b"
             ],
             [
              0.6666666666666666,
              "#ed7953"
             ],
             [
              0.7777777777777778,
              "#fb9f3a"
             ],
             [
              0.8888888888888888,
              "#fdca26"
             ],
             [
              1,
              "#f0f921"
             ]
            ],
            "type": "heatmap"
           }
          ],
          "heatmapgl": [
           {
            "colorbar": {
             "outlinewidth": 0,
             "ticks": ""
            },
            "colorscale": [
             [
              0,
              "#0d0887"
             ],
             [
              0.1111111111111111,
              "#46039f"
             ],
             [
              0.2222222222222222,
              "#7201a8"
             ],
             [
              0.3333333333333333,
              "#9c179e"
             ],
             [
              0.4444444444444444,
              "#bd3786"
             ],
             [
              0.5555555555555556,
              "#d8576b"
             ],
             [
              0.6666666666666666,
              "#ed7953"
             ],
             [
              0.7777777777777778,
              "#fb9f3a"
             ],
             [
              0.8888888888888888,
              "#fdca26"
             ],
             [
              1,
              "#f0f921"
             ]
            ],
            "type": "heatmapgl"
           }
          ],
          "histogram": [
           {
            "marker": {
             "pattern": {
              "fillmode": "overlay",
              "size": 10,
              "solidity": 0.2
             }
            },
            "type": "histogram"
           }
          ],
          "histogram2d": [
           {
            "colorbar": {
             "outlinewidth": 0,
             "ticks": ""
            },
            "colorscale": [
             [
              0,
              "#0d0887"
             ],
             [
              0.1111111111111111,
              "#46039f"
             ],
             [
              0.2222222222222222,
              "#7201a8"
             ],
             [
              0.3333333333333333,
              "#9c179e"
             ],
             [
              0.4444444444444444,
              "#bd3786"
             ],
             [
              0.5555555555555556,
              "#d8576b"
             ],
             [
              0.6666666666666666,
              "#ed7953"
             ],
             [
              0.7777777777777778,
              "#fb9f3a"
             ],
             [
              0.8888888888888888,
              "#fdca26"
             ],
             [
              1,
              "#f0f921"
             ]
            ],
            "type": "histogram2d"
           }
          ],
          "histogram2dcontour": [
           {
            "colorbar": {
             "outlinewidth": 0,
             "ticks": ""
            },
            "colorscale": [
             [
              0,
              "#0d0887"
             ],
             [
              0.1111111111111111,
              "#46039f"
             ],
             [
              0.2222222222222222,
              "#7201a8"
             ],
             [
              0.3333333333333333,
              "#9c179e"
             ],
             [
              0.4444444444444444,
              "#bd3786"
             ],
             [
              0.5555555555555556,
              "#d8576b"
             ],
             [
              0.6666666666666666,
              "#ed7953"
             ],
             [
              0.7777777777777778,
              "#fb9f3a"
             ],
             [
              0.8888888888888888,
              "#fdca26"
             ],
             [
              1,
              "#f0f921"
             ]
            ],
            "type": "histogram2dcontour"
           }
          ],
          "mesh3d": [
           {
            "colorbar": {
             "outlinewidth": 0,
             "ticks": ""
            },
            "type": "mesh3d"
           }
          ],
          "parcoords": [
           {
            "line": {
             "colorbar": {
              "outlinewidth": 0,
              "ticks": ""
             }
            },
            "type": "parcoords"
           }
          ],
          "pie": [
           {
            "automargin": true,
            "type": "pie"
           }
          ],
          "scatter": [
           {
            "fillpattern": {
             "fillmode": "overlay",
             "size": 10,
             "solidity": 0.2
            },
            "type": "scatter"
           }
          ],
          "scatter3d": [
           {
            "line": {
             "colorbar": {
              "outlinewidth": 0,
              "ticks": ""
             }
            },
            "marker": {
             "colorbar": {
              "outlinewidth": 0,
              "ticks": ""
             }
            },
            "type": "scatter3d"
           }
          ],
          "scattercarpet": [
           {
            "marker": {
             "colorbar": {
              "outlinewidth": 0,
              "ticks": ""
             }
            },
            "type": "scattercarpet"
           }
          ],
          "scattergeo": [
           {
            "marker": {
             "colorbar": {
              "outlinewidth": 0,
              "ticks": ""
             }
            },
            "type": "scattergeo"
           }
          ],
          "scattergl": [
           {
            "marker": {
             "colorbar": {
              "outlinewidth": 0,
              "ticks": ""
             }
            },
            "type": "scattergl"
           }
          ],
          "scattermapbox": [
           {
            "marker": {
             "colorbar": {
              "outlinewidth": 0,
              "ticks": ""
             }
            },
            "type": "scattermapbox"
           }
          ],
          "scatterpolar": [
           {
            "marker": {
             "colorbar": {
              "outlinewidth": 0,
              "ticks": ""
             }
            },
            "type": "scatterpolar"
           }
          ],
          "scatterpolargl": [
           {
            "marker": {
             "colorbar": {
              "outlinewidth": 0,
              "ticks": ""
             }
            },
            "type": "scatterpolargl"
           }
          ],
          "scatterternary": [
           {
            "marker": {
             "colorbar": {
              "outlinewidth": 0,
              "ticks": ""
             }
            },
            "type": "scatterternary"
           }
          ],
          "surface": [
           {
            "colorbar": {
             "outlinewidth": 0,
             "ticks": ""
            },
            "colorscale": [
             [
              0,
              "#0d0887"
             ],
             [
              0.1111111111111111,
              "#46039f"
             ],
             [
              0.2222222222222222,
              "#7201a8"
             ],
             [
              0.3333333333333333,
              "#9c179e"
             ],
             [
              0.4444444444444444,
              "#bd3786"
             ],
             [
              0.5555555555555556,
              "#d8576b"
             ],
             [
              0.6666666666666666,
              "#ed7953"
             ],
             [
              0.7777777777777778,
              "#fb9f3a"
             ],
             [
              0.8888888888888888,
              "#fdca26"
             ],
             [
              1,
              "#f0f921"
             ]
            ],
            "type": "surface"
           }
          ],
          "table": [
           {
            "cells": {
             "fill": {
              "color": "#EBF0F8"
             },
             "line": {
              "color": "white"
             }
            },
            "header": {
             "fill": {
              "color": "#C8D4E3"
             },
             "line": {
              "color": "white"
             }
            },
            "type": "table"
           }
          ]
         },
         "layout": {
          "annotationdefaults": {
           "arrowcolor": "#2a3f5f",
           "arrowhead": 0,
           "arrowwidth": 1
          },
          "autotypenumbers": "strict",
          "coloraxis": {
           "colorbar": {
            "outlinewidth": 0,
            "ticks": ""
           }
          },
          "colorscale": {
           "diverging": [
            [
             0,
             "#8e0152"
            ],
            [
             0.1,
             "#c51b7d"
            ],
            [
             0.2,
             "#de77ae"
            ],
            [
             0.3,
             "#f1b6da"
            ],
            [
             0.4,
             "#fde0ef"
            ],
            [
             0.5,
             "#f7f7f7"
            ],
            [
             0.6,
             "#e6f5d0"
            ],
            [
             0.7,
             "#b8e186"
            ],
            [
             0.8,
             "#7fbc41"
            ],
            [
             0.9,
             "#4d9221"
            ],
            [
             1,
             "#276419"
            ]
           ],
           "sequential": [
            [
             0,
             "#0d0887"
            ],
            [
             0.1111111111111111,
             "#46039f"
            ],
            [
             0.2222222222222222,
             "#7201a8"
            ],
            [
             0.3333333333333333,
             "#9c179e"
            ],
            [
             0.4444444444444444,
             "#bd3786"
            ],
            [
             0.5555555555555556,
             "#d8576b"
            ],
            [
             0.6666666666666666,
             "#ed7953"
            ],
            [
             0.7777777777777778,
             "#fb9f3a"
            ],
            [
             0.8888888888888888,
             "#fdca26"
            ],
            [
             1,
             "#f0f921"
            ]
           ],
           "sequentialminus": [
            [
             0,
             "#0d0887"
            ],
            [
             0.1111111111111111,
             "#46039f"
            ],
            [
             0.2222222222222222,
             "#7201a8"
            ],
            [
             0.3333333333333333,
             "#9c179e"
            ],
            [
             0.4444444444444444,
             "#bd3786"
            ],
            [
             0.5555555555555556,
             "#d8576b"
            ],
            [
             0.6666666666666666,
             "#ed7953"
            ],
            [
             0.7777777777777778,
             "#fb9f3a"
            ],
            [
             0.8888888888888888,
             "#fdca26"
            ],
            [
             1,
             "#f0f921"
            ]
           ]
          },
          "colorway": [
           "#636efa",
           "#EF553B",
           "#00cc96",
           "#ab63fa",
           "#FFA15A",
           "#19d3f3",
           "#FF6692",
           "#B6E880",
           "#FF97FF",
           "#FECB52"
          ],
          "font": {
           "color": "#2a3f5f"
          },
          "geo": {
           "bgcolor": "white",
           "lakecolor": "white",
           "landcolor": "#E5ECF6",
           "showlakes": true,
           "showland": true,
           "subunitcolor": "white"
          },
          "hoverlabel": {
           "align": "left"
          },
          "hovermode": "closest",
          "mapbox": {
           "style": "light"
          },
          "paper_bgcolor": "white",
          "plot_bgcolor": "#E5ECF6",
          "polar": {
           "angularaxis": {
            "gridcolor": "white",
            "linecolor": "white",
            "ticks": ""
           },
           "bgcolor": "#E5ECF6",
           "radialaxis": {
            "gridcolor": "white",
            "linecolor": "white",
            "ticks": ""
           }
          },
          "scene": {
           "xaxis": {
            "backgroundcolor": "#E5ECF6",
            "gridcolor": "white",
            "gridwidth": 2,
            "linecolor": "white",
            "showbackground": true,
            "ticks": "",
            "zerolinecolor": "white"
           },
           "yaxis": {
            "backgroundcolor": "#E5ECF6",
            "gridcolor": "white",
            "gridwidth": 2,
            "linecolor": "white",
            "showbackground": true,
            "ticks": "",
            "zerolinecolor": "white"
           },
           "zaxis": {
            "backgroundcolor": "#E5ECF6",
            "gridcolor": "white",
            "gridwidth": 2,
            "linecolor": "white",
            "showbackground": true,
            "ticks": "",
            "zerolinecolor": "white"
           }
          },
          "shapedefaults": {
           "line": {
            "color": "#2a3f5f"
           }
          },
          "ternary": {
           "aaxis": {
            "gridcolor": "white",
            "linecolor": "white",
            "ticks": ""
           },
           "baxis": {
            "gridcolor": "white",
            "linecolor": "white",
            "ticks": ""
           },
           "bgcolor": "#E5ECF6",
           "caxis": {
            "gridcolor": "white",
            "linecolor": "white",
            "ticks": ""
           }
          },
          "title": {
           "x": 0.05
          },
          "xaxis": {
           "automargin": true,
           "gridcolor": "white",
           "linecolor": "white",
           "ticks": "",
           "title": {
            "standoff": 15
           },
           "zerolinecolor": "white",
           "zerolinewidth": 2
          },
          "yaxis": {
           "automargin": true,
           "gridcolor": "white",
           "linecolor": "white",
           "ticks": "",
           "title": {
            "standoff": 15
           },
           "zerolinecolor": "white",
           "zerolinewidth": 2
          }
         }
        },
        "title": {
         "text": "Box Plot of Similarity Scores for Two Prompts"
        },
        "xaxis": {
         "title": {
          "text": "Prompt"
         }
        },
        "yaxis": {
         "title": {
          "text": "Similarity Score"
         }
        }
       }
      }
     },
     "metadata": {},
     "output_type": "display_data"
    }
   ],
   "source": [
    "import plotly.graph_objects as go\n",
    "fig = go.Figure()\n",
    "\n",
    "fig.add_trace(go.Box(y=dataset['similarity_p4'], name='similarity_p4'))\n",
    "fig.add_trace(go.Box(y=dataset['similarity_eng_p4'], name='similarity_eng_p4'))\n",
    "\n",
    "# Update layout\n",
    "fig.update_layout(\n",
    "    title='Box Plot of Similarity Scores for Two Prompts',\n",
    "    yaxis_title='Similarity Score',\n",
    "    xaxis_title='Prompt',\n",
    "    boxmode='group'  # group the box plots together\n",
    ")\n",
    "\n",
    "# Show plot\n",
    "fig.show()\n"
   ]
  },
  {
   "cell_type": "markdown",
   "metadata": {},
   "source": [
    "histogram    comparison\n"
   ]
  },
  {
   "cell_type": "code",
   "execution_count": 36,
   "metadata": {},
   "outputs": [
    {
     "data": {
      "application/vnd.plotly.v1+json": {
       "config": {
        "plotlyServerURL": "https://plot.ly"
       },
       "data": [
        {
         "marker": {
          "color": "blue"
         },
         "name": "Darija Prompt",
         "opacity": 0.75,
         "type": "histogram",
         "x": [
          0,
          1,
          1,
          0.5,
          1,
          0,
          1,
          0.25,
          0,
          1,
          1,
          1,
          0.25,
          1,
          1,
          0.5,
          1,
          0,
          1,
          1,
          0.2,
          1,
          1,
          0.16666666666666666,
          1,
          0.16666666666666666,
          1,
          0,
          1,
          0.25,
          1,
          0,
          1,
          1,
          1,
          1,
          0,
          1,
          0.5,
          1,
          0.3333333333333333,
          1,
          1,
          1,
          1,
          0.3333333333333333,
          1,
          0,
          1,
          0.3333333333333333,
          1,
          0,
          1,
          1,
          0.5,
          1,
          0.25,
          0.25,
          0,
          1,
          1,
          0.25,
          1,
          0.5,
          1,
          1,
          1,
          1,
          1,
          1,
          0,
          1,
          1,
          1,
          1,
          0.3333333333333333,
          0.16666666666666666,
          1,
          1,
          0,
          1,
          0.5,
          0.25,
          1,
          0.5,
          1,
          1,
          0,
          1,
          1,
          0.25,
          1,
          1,
          0.5,
          1,
          0.25,
          1,
          1,
          1,
          1
         ]
        },
        {
         "marker": {
          "color": "red"
         },
         "name": "English Prompt",
         "opacity": 0.75,
         "type": "histogram",
         "x": [
          1,
          1,
          1,
          1,
          1,
          1,
          1,
          0.25,
          1,
          1,
          1,
          1,
          0.25,
          1,
          1,
          0.3333333333333333,
          1,
          0,
          1,
          1,
          0.25,
          1,
          1,
          0,
          1,
          0.16666666666666666,
          1,
          0,
          1,
          0.14285714285714285,
          1,
          0,
          1,
          1,
          0,
          0.3333333333333333,
          1,
          1,
          0.5,
          1,
          0.3333333333333333,
          1,
          1,
          1,
          1,
          0.3333333333333333,
          1,
          0.3333333333333333,
          1,
          0.3333333333333333,
          1,
          0,
          1,
          1,
          0,
          1,
          0.25,
          0.25,
          1,
          1,
          1,
          0.2,
          1,
          0.5,
          1,
          1,
          0,
          1,
          1,
          1,
          0.3333333333333333,
          1,
          1,
          1,
          1,
          0.25,
          0.16666666666666666,
          1,
          1,
          1,
          1,
          0.5,
          0.25,
          1,
          0.5,
          1,
          0,
          0.25,
          1,
          1,
          0.25,
          1,
          1,
          0.5,
          1,
          0.25,
          1,
          1,
          1,
          0
         ]
        }
       ],
       "layout": {
        "bargap": 0.1,
        "bargroupgap": 0.1,
        "barmode": "overlay",
        "template": {
         "data": {
          "bar": [
           {
            "error_x": {
             "color": "#2a3f5f"
            },
            "error_y": {
             "color": "#2a3f5f"
            },
            "marker": {
             "line": {
              "color": "#E5ECF6",
              "width": 0.5
             },
             "pattern": {
              "fillmode": "overlay",
              "size": 10,
              "solidity": 0.2
             }
            },
            "type": "bar"
           }
          ],
          "barpolar": [
           {
            "marker": {
             "line": {
              "color": "#E5ECF6",
              "width": 0.5
             },
             "pattern": {
              "fillmode": "overlay",
              "size": 10,
              "solidity": 0.2
             }
            },
            "type": "barpolar"
           }
          ],
          "carpet": [
           {
            "aaxis": {
             "endlinecolor": "#2a3f5f",
             "gridcolor": "white",
             "linecolor": "white",
             "minorgridcolor": "white",
             "startlinecolor": "#2a3f5f"
            },
            "baxis": {
             "endlinecolor": "#2a3f5f",
             "gridcolor": "white",
             "linecolor": "white",
             "minorgridcolor": "white",
             "startlinecolor": "#2a3f5f"
            },
            "type": "carpet"
           }
          ],
          "choropleth": [
           {
            "colorbar": {
             "outlinewidth": 0,
             "ticks": ""
            },
            "type": "choropleth"
           }
          ],
          "contour": [
           {
            "colorbar": {
             "outlinewidth": 0,
             "ticks": ""
            },
            "colorscale": [
             [
              0,
              "#0d0887"
             ],
             [
              0.1111111111111111,
              "#46039f"
             ],
             [
              0.2222222222222222,
              "#7201a8"
             ],
             [
              0.3333333333333333,
              "#9c179e"
             ],
             [
              0.4444444444444444,
              "#bd3786"
             ],
             [
              0.5555555555555556,
              "#d8576b"
             ],
             [
              0.6666666666666666,
              "#ed7953"
             ],
             [
              0.7777777777777778,
              "#fb9f3a"
             ],
             [
              0.8888888888888888,
              "#fdca26"
             ],
             [
              1,
              "#f0f921"
             ]
            ],
            "type": "contour"
           }
          ],
          "contourcarpet": [
           {
            "colorbar": {
             "outlinewidth": 0,
             "ticks": ""
            },
            "type": "contourcarpet"
           }
          ],
          "heatmap": [
           {
            "colorbar": {
             "outlinewidth": 0,
             "ticks": ""
            },
            "colorscale": [
             [
              0,
              "#0d0887"
             ],
             [
              0.1111111111111111,
              "#46039f"
             ],
             [
              0.2222222222222222,
              "#7201a8"
             ],
             [
              0.3333333333333333,
              "#9c179e"
             ],
             [
              0.4444444444444444,
              "#bd3786"
             ],
             [
              0.5555555555555556,
              "#d8576b"
             ],
             [
              0.6666666666666666,
              "#ed7953"
             ],
             [
              0.7777777777777778,
              "#fb9f3a"
             ],
             [
              0.8888888888888888,
              "#fdca26"
             ],
             [
              1,
              "#f0f921"
             ]
            ],
            "type": "heatmap"
           }
          ],
          "heatmapgl": [
           {
            "colorbar": {
             "outlinewidth": 0,
             "ticks": ""
            },
            "colorscale": [
             [
              0,
              "#0d0887"
             ],
             [
              0.1111111111111111,
              "#46039f"
             ],
             [
              0.2222222222222222,
              "#7201a8"
             ],
             [
              0.3333333333333333,
              "#9c179e"
             ],
             [
              0.4444444444444444,
              "#bd3786"
             ],
             [
              0.5555555555555556,
              "#d8576b"
             ],
             [
              0.6666666666666666,
              "#ed7953"
             ],
             [
              0.7777777777777778,
              "#fb9f3a"
             ],
             [
              0.8888888888888888,
              "#fdca26"
             ],
             [
              1,
              "#f0f921"
             ]
            ],
            "type": "heatmapgl"
           }
          ],
          "histogram": [
           {
            "marker": {
             "pattern": {
              "fillmode": "overlay",
              "size": 10,
              "solidity": 0.2
             }
            },
            "type": "histogram"
           }
          ],
          "histogram2d": [
           {
            "colorbar": {
             "outlinewidth": 0,
             "ticks": ""
            },
            "colorscale": [
             [
              0,
              "#0d0887"
             ],
             [
              0.1111111111111111,
              "#46039f"
             ],
             [
              0.2222222222222222,
              "#7201a8"
             ],
             [
              0.3333333333333333,
              "#9c179e"
             ],
             [
              0.4444444444444444,
              "#bd3786"
             ],
             [
              0.5555555555555556,
              "#d8576b"
             ],
             [
              0.6666666666666666,
              "#ed7953"
             ],
             [
              0.7777777777777778,
              "#fb9f3a"
             ],
             [
              0.8888888888888888,
              "#fdca26"
             ],
             [
              1,
              "#f0f921"
             ]
            ],
            "type": "histogram2d"
           }
          ],
          "histogram2dcontour": [
           {
            "colorbar": {
             "outlinewidth": 0,
             "ticks": ""
            },
            "colorscale": [
             [
              0,
              "#0d0887"
             ],
             [
              0.1111111111111111,
              "#46039f"
             ],
             [
              0.2222222222222222,
              "#7201a8"
             ],
             [
              0.3333333333333333,
              "#9c179e"
             ],
             [
              0.4444444444444444,
              "#bd3786"
             ],
             [
              0.5555555555555556,
              "#d8576b"
             ],
             [
              0.6666666666666666,
              "#ed7953"
             ],
             [
              0.7777777777777778,
              "#fb9f3a"
             ],
             [
              0.8888888888888888,
              "#fdca26"
             ],
             [
              1,
              "#f0f921"
             ]
            ],
            "type": "histogram2dcontour"
           }
          ],
          "mesh3d": [
           {
            "colorbar": {
             "outlinewidth": 0,
             "ticks": ""
            },
            "type": "mesh3d"
           }
          ],
          "parcoords": [
           {
            "line": {
             "colorbar": {
              "outlinewidth": 0,
              "ticks": ""
             }
            },
            "type": "parcoords"
           }
          ],
          "pie": [
           {
            "automargin": true,
            "type": "pie"
           }
          ],
          "scatter": [
           {
            "fillpattern": {
             "fillmode": "overlay",
             "size": 10,
             "solidity": 0.2
            },
            "type": "scatter"
           }
          ],
          "scatter3d": [
           {
            "line": {
             "colorbar": {
              "outlinewidth": 0,
              "ticks": ""
             }
            },
            "marker": {
             "colorbar": {
              "outlinewidth": 0,
              "ticks": ""
             }
            },
            "type": "scatter3d"
           }
          ],
          "scattercarpet": [
           {
            "marker": {
             "colorbar": {
              "outlinewidth": 0,
              "ticks": ""
             }
            },
            "type": "scattercarpet"
           }
          ],
          "scattergeo": [
           {
            "marker": {
             "colorbar": {
              "outlinewidth": 0,
              "ticks": ""
             }
            },
            "type": "scattergeo"
           }
          ],
          "scattergl": [
           {
            "marker": {
             "colorbar": {
              "outlinewidth": 0,
              "ticks": ""
             }
            },
            "type": "scattergl"
           }
          ],
          "scattermapbox": [
           {
            "marker": {
             "colorbar": {
              "outlinewidth": 0,
              "ticks": ""
             }
            },
            "type": "scattermapbox"
           }
          ],
          "scatterpolar": [
           {
            "marker": {
             "colorbar": {
              "outlinewidth": 0,
              "ticks": ""
             }
            },
            "type": "scatterpolar"
           }
          ],
          "scatterpolargl": [
           {
            "marker": {
             "colorbar": {
              "outlinewidth": 0,
              "ticks": ""
             }
            },
            "type": "scatterpolargl"
           }
          ],
          "scatterternary": [
           {
            "marker": {
             "colorbar": {
              "outlinewidth": 0,
              "ticks": ""
             }
            },
            "type": "scatterternary"
           }
          ],
          "surface": [
           {
            "colorbar": {
             "outlinewidth": 0,
             "ticks": ""
            },
            "colorscale": [
             [
              0,
              "#0d0887"
             ],
             [
              0.1111111111111111,
              "#46039f"
             ],
             [
              0.2222222222222222,
              "#7201a8"
             ],
             [
              0.3333333333333333,
              "#9c179e"
             ],
             [
              0.4444444444444444,
              "#bd3786"
             ],
             [
              0.5555555555555556,
              "#d8576b"
             ],
             [
              0.6666666666666666,
              "#ed7953"
             ],
             [
              0.7777777777777778,
              "#fb9f3a"
             ],
             [
              0.8888888888888888,
              "#fdca26"
             ],
             [
              1,
              "#f0f921"
             ]
            ],
            "type": "surface"
           }
          ],
          "table": [
           {
            "cells": {
             "fill": {
              "color": "#EBF0F8"
             },
             "line": {
              "color": "white"
             }
            },
            "header": {
             "fill": {
              "color": "#C8D4E3"
             },
             "line": {
              "color": "white"
             }
            },
            "type": "table"
           }
          ]
         },
         "layout": {
          "annotationdefaults": {
           "arrowcolor": "#2a3f5f",
           "arrowhead": 0,
           "arrowwidth": 1
          },
          "autotypenumbers": "strict",
          "coloraxis": {
           "colorbar": {
            "outlinewidth": 0,
            "ticks": ""
           }
          },
          "colorscale": {
           "diverging": [
            [
             0,
             "#8e0152"
            ],
            [
             0.1,
             "#c51b7d"
            ],
            [
             0.2,
             "#de77ae"
            ],
            [
             0.3,
             "#f1b6da"
            ],
            [
             0.4,
             "#fde0ef"
            ],
            [
             0.5,
             "#f7f7f7"
            ],
            [
             0.6,
             "#e6f5d0"
            ],
            [
             0.7,
             "#b8e186"
            ],
            [
             0.8,
             "#7fbc41"
            ],
            [
             0.9,
             "#4d9221"
            ],
            [
             1,
             "#276419"
            ]
           ],
           "sequential": [
            [
             0,
             "#0d0887"
            ],
            [
             0.1111111111111111,
             "#46039f"
            ],
            [
             0.2222222222222222,
             "#7201a8"
            ],
            [
             0.3333333333333333,
             "#9c179e"
            ],
            [
             0.4444444444444444,
             "#bd3786"
            ],
            [
             0.5555555555555556,
             "#d8576b"
            ],
            [
             0.6666666666666666,
             "#ed7953"
            ],
            [
             0.7777777777777778,
             "#fb9f3a"
            ],
            [
             0.8888888888888888,
             "#fdca26"
            ],
            [
             1,
             "#f0f921"
            ]
           ],
           "sequentialminus": [
            [
             0,
             "#0d0887"
            ],
            [
             0.1111111111111111,
             "#46039f"
            ],
            [
             0.2222222222222222,
             "#7201a8"
            ],
            [
             0.3333333333333333,
             "#9c179e"
            ],
            [
             0.4444444444444444,
             "#bd3786"
            ],
            [
             0.5555555555555556,
             "#d8576b"
            ],
            [
             0.6666666666666666,
             "#ed7953"
            ],
            [
             0.7777777777777778,
             "#fb9f3a"
            ],
            [
             0.8888888888888888,
             "#fdca26"
            ],
            [
             1,
             "#f0f921"
            ]
           ]
          },
          "colorway": [
           "#636efa",
           "#EF553B",
           "#00cc96",
           "#ab63fa",
           "#FFA15A",
           "#19d3f3",
           "#FF6692",
           "#B6E880",
           "#FF97FF",
           "#FECB52"
          ],
          "font": {
           "color": "#2a3f5f"
          },
          "geo": {
           "bgcolor": "white",
           "lakecolor": "white",
           "landcolor": "#E5ECF6",
           "showlakes": true,
           "showland": true,
           "subunitcolor": "white"
          },
          "hoverlabel": {
           "align": "left"
          },
          "hovermode": "closest",
          "mapbox": {
           "style": "light"
          },
          "paper_bgcolor": "white",
          "plot_bgcolor": "#E5ECF6",
          "polar": {
           "angularaxis": {
            "gridcolor": "white",
            "linecolor": "white",
            "ticks": ""
           },
           "bgcolor": "#E5ECF6",
           "radialaxis": {
            "gridcolor": "white",
            "linecolor": "white",
            "ticks": ""
           }
          },
          "scene": {
           "xaxis": {
            "backgroundcolor": "#E5ECF6",
            "gridcolor": "white",
            "gridwidth": 2,
            "linecolor": "white",
            "showbackground": true,
            "ticks": "",
            "zerolinecolor": "white"
           },
           "yaxis": {
            "backgroundcolor": "#E5ECF6",
            "gridcolor": "white",
            "gridwidth": 2,
            "linecolor": "white",
            "showbackground": true,
            "ticks": "",
            "zerolinecolor": "white"
           },
           "zaxis": {
            "backgroundcolor": "#E5ECF6",
            "gridcolor": "white",
            "gridwidth": 2,
            "linecolor": "white",
            "showbackground": true,
            "ticks": "",
            "zerolinecolor": "white"
           }
          },
          "shapedefaults": {
           "line": {
            "color": "#2a3f5f"
           }
          },
          "ternary": {
           "aaxis": {
            "gridcolor": "white",
            "linecolor": "white",
            "ticks": ""
           },
           "baxis": {
            "gridcolor": "white",
            "linecolor": "white",
            "ticks": ""
           },
           "bgcolor": "#E5ECF6",
           "caxis": {
            "gridcolor": "white",
            "linecolor": "white",
            "ticks": ""
           }
          },
          "title": {
           "x": 0.05
          },
          "xaxis": {
           "automargin": true,
           "gridcolor": "white",
           "linecolor": "white",
           "ticks": "",
           "title": {
            "standoff": 15
           },
           "zerolinecolor": "white",
           "zerolinewidth": 2
          },
          "yaxis": {
           "automargin": true,
           "gridcolor": "white",
           "linecolor": "white",
           "ticks": "",
           "title": {
            "standoff": 15
           },
           "zerolinecolor": "white",
           "zerolinewidth": 2
          }
         }
        },
        "title": {
         "text": "Histogram Comparison of Similarity Scores"
        },
        "xaxis": {
         "title": {
          "text": "Similarity Percentage"
         }
        },
        "yaxis": {
         "title": {
          "text": "Count"
         }
        }
       }
      }
     },
     "metadata": {},
     "output_type": "display_data"
    }
   ],
   "source": [
    "#    x=dataset['similarity_p4'],\n",
    "#    name='',  # name used in legend and hover labels\n",
    "#    x=dataset['similarity_eng_p4'],\n",
    "#    name='English Prompt',\n",
    "\n",
    "\n",
    "fig = go.Figure()\n",
    "\n",
    "# Add histogram for Prompt 1\n",
    "fig.add_trace(go.Histogram(\n",
    "    x=dataset['similarity_p4'],\n",
    "    name='Darija Prompt',\n",
    "    opacity=0.75,\n",
    "    marker=dict(color='blue')\n",
    "))\n",
    "\n",
    "# Add histogram for Prompt 2\n",
    "fig.add_trace(go.Histogram(\n",
    "    x=dataset['similarity_eng_p4'],\n",
    "    name='English Prompt',\n",
    "    opacity=0.75,\n",
    "    marker=dict(color='red')\n",
    "))\n",
    "\n",
    "# Update layout for better visualization\n",
    "fig.update_layout(\n",
    "    title='Histogram Comparison of Similarity Scores',\n",
    "    xaxis_title='Similarity Percentage',\n",
    "    yaxis_title='Count',\n",
    "    barmode='overlay',\n",
    "    bargap=0.1,\n",
    "    bargroupgap=0.1\n",
    ")\n",
    "\n",
    "# Show the plot\n",
    "fig.show()\n",
    "\n"
   ]
  },
  {
   "cell_type": "code",
   "execution_count": 39,
   "metadata": {},
   "outputs": [
    {
     "data": {
      "application/vnd.plotly.v1+json": {
       "config": {
        "plotlyServerURL": "https://plot.ly"
       },
       "data": [
        {
         "histfunc": "count",
         "name": "count",
         "type": "histogram",
         "x": [
          0,
          1,
          1,
          0.5,
          1,
          0,
          1,
          0.25,
          0,
          1,
          1,
          1,
          0.25,
          1,
          1,
          0.5,
          1,
          0,
          1,
          1,
          0.2,
          1,
          1,
          0.16666666666666666,
          1,
          0.16666666666666666,
          1,
          0,
          1,
          0.25,
          1,
          0,
          1,
          1,
          1,
          1,
          0,
          1,
          0.5,
          1,
          0.3333333333333333,
          1,
          1,
          1,
          1,
          0.3333333333333333,
          1,
          0,
          1,
          0.3333333333333333,
          1,
          0,
          1,
          1,
          0.5,
          1,
          0.25,
          0.25,
          0,
          1,
          1,
          0.25,
          1,
          0.5,
          1,
          1,
          1,
          1,
          1,
          1,
          0,
          1,
          1,
          1,
          1,
          0.3333333333333333,
          0.16666666666666666,
          1,
          1,
          0,
          1,
          0.5,
          0.25,
          1,
          0.5,
          1,
          1,
          0,
          1,
          1,
          0.25,
          1,
          1,
          0.5,
          1,
          0.25,
          1,
          1,
          1,
          1
         ],
         "y": [
          0,
          1,
          1,
          0.5,
          1,
          0,
          1,
          0.25,
          0,
          1,
          1,
          1,
          0.25,
          1,
          1,
          0.5,
          1,
          0,
          1,
          1,
          0.2,
          1,
          1,
          0.16666666666666666,
          1,
          0.16666666666666666,
          1,
          0,
          1,
          0.25,
          1,
          0,
          1,
          1,
          1,
          1,
          0,
          1,
          0.5,
          1,
          0.3333333333333333,
          1,
          1,
          1,
          1,
          0.3333333333333333,
          1,
          0,
          1,
          0.3333333333333333,
          1,
          0,
          1,
          1,
          0.5,
          1,
          0.25,
          0.25,
          0,
          1,
          1,
          0.25,
          1,
          0.5,
          1,
          1,
          1,
          1,
          1,
          1,
          0,
          1,
          1,
          1,
          1,
          0.3333333333333333,
          0.16666666666666666,
          1,
          1,
          0,
          1,
          0.5,
          0.25,
          1,
          0.5,
          1,
          1,
          0,
          1,
          1,
          0.25,
          1,
          1,
          0.5,
          1,
          0.25,
          1,
          1,
          1,
          1
         ]
        },
        {
         "histfunc": "count",
         "name": "sum",
         "type": "histogram",
         "x": [
          1,
          1,
          1,
          1,
          1,
          1,
          1,
          0.25,
          1,
          1,
          1,
          1,
          0.25,
          1,
          1,
          0.3333333333333333,
          1,
          0,
          1,
          1,
          0.25,
          1,
          1,
          0,
          1,
          0.16666666666666666,
          1,
          0,
          1,
          0.14285714285714285,
          1,
          0,
          1,
          1,
          0,
          0.3333333333333333,
          1,
          1,
          0.5,
          1,
          0.3333333333333333,
          1,
          1,
          1,
          1,
          0.3333333333333333,
          1,
          0.3333333333333333,
          1,
          0.3333333333333333,
          1,
          0,
          1,
          1,
          0,
          1,
          0.25,
          0.25,
          1,
          1,
          1,
          0.2,
          1,
          0.5,
          1,
          1,
          0,
          1,
          1,
          1,
          0.3333333333333333,
          1,
          1,
          1,
          1,
          0.25,
          0.16666666666666666,
          1,
          1,
          1,
          1,
          0.5,
          0.25,
          1,
          0.5,
          1,
          0,
          0.25,
          1,
          1,
          0.25,
          1,
          1,
          0.5,
          1,
          0.25,
          1,
          1,
          1,
          0
         ],
         "y": [
          1,
          1,
          1,
          1,
          1,
          1,
          1,
          0.25,
          1,
          1,
          1,
          1,
          0.25,
          1,
          1,
          0.3333333333333333,
          1,
          0,
          1,
          1,
          0.25,
          1,
          1,
          0,
          1,
          0.16666666666666666,
          1,
          0,
          1,
          0.14285714285714285,
          1,
          0,
          1,
          1,
          0,
          0.3333333333333333,
          1,
          1,
          0.5,
          1,
          0.3333333333333333,
          1,
          1,
          1,
          1,
          0.3333333333333333,
          1,
          0.3333333333333333,
          1,
          0.3333333333333333,
          1,
          0,
          1,
          1,
          0,
          1,
          0.25,
          0.25,
          1,
          1,
          1,
          0.2,
          1,
          0.5,
          1,
          1,
          0,
          1,
          1,
          1,
          0.3333333333333333,
          1,
          1,
          1,
          1,
          0.25,
          0.16666666666666666,
          1,
          1,
          1,
          1,
          0.5,
          0.25,
          1,
          0.5,
          1,
          0,
          0.25,
          1,
          1,
          0.25,
          1,
          1,
          0.5,
          1,
          0.25,
          1,
          1,
          1,
          0
         ]
        }
       ],
       "layout": {
        "template": {
         "data": {
          "bar": [
           {
            "error_x": {
             "color": "#2a3f5f"
            },
            "error_y": {
             "color": "#2a3f5f"
            },
            "marker": {
             "line": {
              "color": "#E5ECF6",
              "width": 0.5
             },
             "pattern": {
              "fillmode": "overlay",
              "size": 10,
              "solidity": 0.2
             }
            },
            "type": "bar"
           }
          ],
          "barpolar": [
           {
            "marker": {
             "line": {
              "color": "#E5ECF6",
              "width": 0.5
             },
             "pattern": {
              "fillmode": "overlay",
              "size": 10,
              "solidity": 0.2
             }
            },
            "type": "barpolar"
           }
          ],
          "carpet": [
           {
            "aaxis": {
             "endlinecolor": "#2a3f5f",
             "gridcolor": "white",
             "linecolor": "white",
             "minorgridcolor": "white",
             "startlinecolor": "#2a3f5f"
            },
            "baxis": {
             "endlinecolor": "#2a3f5f",
             "gridcolor": "white",
             "linecolor": "white",
             "minorgridcolor": "white",
             "startlinecolor": "#2a3f5f"
            },
            "type": "carpet"
           }
          ],
          "choropleth": [
           {
            "colorbar": {
             "outlinewidth": 0,
             "ticks": ""
            },
            "type": "choropleth"
           }
          ],
          "contour": [
           {
            "colorbar": {
             "outlinewidth": 0,
             "ticks": ""
            },
            "colorscale": [
             [
              0,
              "#0d0887"
             ],
             [
              0.1111111111111111,
              "#46039f"
             ],
             [
              0.2222222222222222,
              "#7201a8"
             ],
             [
              0.3333333333333333,
              "#9c179e"
             ],
             [
              0.4444444444444444,
              "#bd3786"
             ],
             [
              0.5555555555555556,
              "#d8576b"
             ],
             [
              0.6666666666666666,
              "#ed7953"
             ],
             [
              0.7777777777777778,
              "#fb9f3a"
             ],
             [
              0.8888888888888888,
              "#fdca26"
             ],
             [
              1,
              "#f0f921"
             ]
            ],
            "type": "contour"
           }
          ],
          "contourcarpet": [
           {
            "colorbar": {
             "outlinewidth": 0,
             "ticks": ""
            },
            "type": "contourcarpet"
           }
          ],
          "heatmap": [
           {
            "colorbar": {
             "outlinewidth": 0,
             "ticks": ""
            },
            "colorscale": [
             [
              0,
              "#0d0887"
             ],
             [
              0.1111111111111111,
              "#46039f"
             ],
             [
              0.2222222222222222,
              "#7201a8"
             ],
             [
              0.3333333333333333,
              "#9c179e"
             ],
             [
              0.4444444444444444,
              "#bd3786"
             ],
             [
              0.5555555555555556,
              "#d8576b"
             ],
             [
              0.6666666666666666,
              "#ed7953"
             ],
             [
              0.7777777777777778,
              "#fb9f3a"
             ],
             [
              0.8888888888888888,
              "#fdca26"
             ],
             [
              1,
              "#f0f921"
             ]
            ],
            "type": "heatmap"
           }
          ],
          "heatmapgl": [
           {
            "colorbar": {
             "outlinewidth": 0,
             "ticks": ""
            },
            "colorscale": [
             [
              0,
              "#0d0887"
             ],
             [
              0.1111111111111111,
              "#46039f"
             ],
             [
              0.2222222222222222,
              "#7201a8"
             ],
             [
              0.3333333333333333,
              "#9c179e"
             ],
             [
              0.4444444444444444,
              "#bd3786"
             ],
             [
              0.5555555555555556,
              "#d8576b"
             ],
             [
              0.6666666666666666,
              "#ed7953"
             ],
             [
              0.7777777777777778,
              "#fb9f3a"
             ],
             [
              0.8888888888888888,
              "#fdca26"
             ],
             [
              1,
              "#f0f921"
             ]
            ],
            "type": "heatmapgl"
           }
          ],
          "histogram": [
           {
            "marker": {
             "pattern": {
              "fillmode": "overlay",
              "size": 10,
              "solidity": 0.2
             }
            },
            "type": "histogram"
           }
          ],
          "histogram2d": [
           {
            "colorbar": {
             "outlinewidth": 0,
             "ticks": ""
            },
            "colorscale": [
             [
              0,
              "#0d0887"
             ],
             [
              0.1111111111111111,
              "#46039f"
             ],
             [
              0.2222222222222222,
              "#7201a8"
             ],
             [
              0.3333333333333333,
              "#9c179e"
             ],
             [
              0.4444444444444444,
              "#bd3786"
             ],
             [
              0.5555555555555556,
              "#d8576b"
             ],
             [
              0.6666666666666666,
              "#ed7953"
             ],
             [
              0.7777777777777778,
              "#fb9f3a"
             ],
             [
              0.8888888888888888,
              "#fdca26"
             ],
             [
              1,
              "#f0f921"
             ]
            ],
            "type": "histogram2d"
           }
          ],
          "histogram2dcontour": [
           {
            "colorbar": {
             "outlinewidth": 0,
             "ticks": ""
            },
            "colorscale": [
             [
              0,
              "#0d0887"
             ],
             [
              0.1111111111111111,
              "#46039f"
             ],
             [
              0.2222222222222222,
              "#7201a8"
             ],
             [
              0.3333333333333333,
              "#9c179e"
             ],
             [
              0.4444444444444444,
              "#bd3786"
             ],
             [
              0.5555555555555556,
              "#d8576b"
             ],
             [
              0.6666666666666666,
              "#ed7953"
             ],
             [
              0.7777777777777778,
              "#fb9f3a"
             ],
             [
              0.8888888888888888,
              "#fdca26"
             ],
             [
              1,
              "#f0f921"
             ]
            ],
            "type": "histogram2dcontour"
           }
          ],
          "mesh3d": [
           {
            "colorbar": {
             "outlinewidth": 0,
             "ticks": ""
            },
            "type": "mesh3d"
           }
          ],
          "parcoords": [
           {
            "line": {
             "colorbar": {
              "outlinewidth": 0,
              "ticks": ""
             }
            },
            "type": "parcoords"
           }
          ],
          "pie": [
           {
            "automargin": true,
            "type": "pie"
           }
          ],
          "scatter": [
           {
            "fillpattern": {
             "fillmode": "overlay",
             "size": 10,
             "solidity": 0.2
            },
            "type": "scatter"
           }
          ],
          "scatter3d": [
           {
            "line": {
             "colorbar": {
              "outlinewidth": 0,
              "ticks": ""
             }
            },
            "marker": {
             "colorbar": {
              "outlinewidth": 0,
              "ticks": ""
             }
            },
            "type": "scatter3d"
           }
          ],
          "scattercarpet": [
           {
            "marker": {
             "colorbar": {
              "outlinewidth": 0,
              "ticks": ""
             }
            },
            "type": "scattercarpet"
           }
          ],
          "scattergeo": [
           {
            "marker": {
             "colorbar": {
              "outlinewidth": 0,
              "ticks": ""
             }
            },
            "type": "scattergeo"
           }
          ],
          "scattergl": [
           {
            "marker": {
             "colorbar": {
              "outlinewidth": 0,
              "ticks": ""
             }
            },
            "type": "scattergl"
           }
          ],
          "scattermapbox": [
           {
            "marker": {
             "colorbar": {
              "outlinewidth": 0,
              "ticks": ""
             }
            },
            "type": "scattermapbox"
           }
          ],
          "scatterpolar": [
           {
            "marker": {
             "colorbar": {
              "outlinewidth": 0,
              "ticks": ""
             }
            },
            "type": "scatterpolar"
           }
          ],
          "scatterpolargl": [
           {
            "marker": {
             "colorbar": {
              "outlinewidth": 0,
              "ticks": ""
             }
            },
            "type": "scatterpolargl"
           }
          ],
          "scatterternary": [
           {
            "marker": {
             "colorbar": {
              "outlinewidth": 0,
              "ticks": ""
             }
            },
            "type": "scatterternary"
           }
          ],
          "surface": [
           {
            "colorbar": {
             "outlinewidth": 0,
             "ticks": ""
            },
            "colorscale": [
             [
              0,
              "#0d0887"
             ],
             [
              0.1111111111111111,
              "#46039f"
             ],
             [
              0.2222222222222222,
              "#7201a8"
             ],
             [
              0.3333333333333333,
              "#9c179e"
             ],
             [
              0.4444444444444444,
              "#bd3786"
             ],
             [
              0.5555555555555556,
              "#d8576b"
             ],
             [
              0.6666666666666666,
              "#ed7953"
             ],
             [
              0.7777777777777778,
              "#fb9f3a"
             ],
             [
              0.8888888888888888,
              "#fdca26"
             ],
             [
              1,
              "#f0f921"
             ]
            ],
            "type": "surface"
           }
          ],
          "table": [
           {
            "cells": {
             "fill": {
              "color": "#EBF0F8"
             },
             "line": {
              "color": "white"
             }
            },
            "header": {
             "fill": {
              "color": "#C8D4E3"
             },
             "line": {
              "color": "white"
             }
            },
            "type": "table"
           }
          ]
         },
         "layout": {
          "annotationdefaults": {
           "arrowcolor": "#2a3f5f",
           "arrowhead": 0,
           "arrowwidth": 1
          },
          "autotypenumbers": "strict",
          "coloraxis": {
           "colorbar": {
            "outlinewidth": 0,
            "ticks": ""
           }
          },
          "colorscale": {
           "diverging": [
            [
             0,
             "#8e0152"
            ],
            [
             0.1,
             "#c51b7d"
            ],
            [
             0.2,
             "#de77ae"
            ],
            [
             0.3,
             "#f1b6da"
            ],
            [
             0.4,
             "#fde0ef"
            ],
            [
             0.5,
             "#f7f7f7"
            ],
            [
             0.6,
             "#e6f5d0"
            ],
            [
             0.7,
             "#b8e186"
            ],
            [
             0.8,
             "#7fbc41"
            ],
            [
             0.9,
             "#4d9221"
            ],
            [
             1,
             "#276419"
            ]
           ],
           "sequential": [
            [
             0,
             "#0d0887"
            ],
            [
             0.1111111111111111,
             "#46039f"
            ],
            [
             0.2222222222222222,
             "#7201a8"
            ],
            [
             0.3333333333333333,
             "#9c179e"
            ],
            [
             0.4444444444444444,
             "#bd3786"
            ],
            [
             0.5555555555555556,
             "#d8576b"
            ],
            [
             0.6666666666666666,
             "#ed7953"
            ],
            [
             0.7777777777777778,
             "#fb9f3a"
            ],
            [
             0.8888888888888888,
             "#fdca26"
            ],
            [
             1,
             "#f0f921"
            ]
           ],
           "sequentialminus": [
            [
             0,
             "#0d0887"
            ],
            [
             0.1111111111111111,
             "#46039f"
            ],
            [
             0.2222222222222222,
             "#7201a8"
            ],
            [
             0.3333333333333333,
             "#9c179e"
            ],
            [
             0.4444444444444444,
             "#bd3786"
            ],
            [
             0.5555555555555556,
             "#d8576b"
            ],
            [
             0.6666666666666666,
             "#ed7953"
            ],
            [
             0.7777777777777778,
             "#fb9f3a"
            ],
            [
             0.8888888888888888,
             "#fdca26"
            ],
            [
             1,
             "#f0f921"
            ]
           ]
          },
          "colorway": [
           "#636efa",
           "#EF553B",
           "#00cc96",
           "#ab63fa",
           "#FFA15A",
           "#19d3f3",
           "#FF6692",
           "#B6E880",
           "#FF97FF",
           "#FECB52"
          ],
          "font": {
           "color": "#2a3f5f"
          },
          "geo": {
           "bgcolor": "white",
           "lakecolor": "white",
           "landcolor": "#E5ECF6",
           "showlakes": true,
           "showland": true,
           "subunitcolor": "white"
          },
          "hoverlabel": {
           "align": "left"
          },
          "hovermode": "closest",
          "mapbox": {
           "style": "light"
          },
          "paper_bgcolor": "white",
          "plot_bgcolor": "#E5ECF6",
          "polar": {
           "angularaxis": {
            "gridcolor": "white",
            "linecolor": "white",
            "ticks": ""
           },
           "bgcolor": "#E5ECF6",
           "radialaxis": {
            "gridcolor": "white",
            "linecolor": "white",
            "ticks": ""
           }
          },
          "scene": {
           "xaxis": {
            "backgroundcolor": "#E5ECF6",
            "gridcolor": "white",
            "gridwidth": 2,
            "linecolor": "white",
            "showbackground": true,
            "ticks": "",
            "zerolinecolor": "white"
           },
           "yaxis": {
            "backgroundcolor": "#E5ECF6",
            "gridcolor": "white",
            "gridwidth": 2,
            "linecolor": "white",
            "showbackground": true,
            "ticks": "",
            "zerolinecolor": "white"
           },
           "zaxis": {
            "backgroundcolor": "#E5ECF6",
            "gridcolor": "white",
            "gridwidth": 2,
            "linecolor": "white",
            "showbackground": true,
            "ticks": "",
            "zerolinecolor": "white"
           }
          },
          "shapedefaults": {
           "line": {
            "color": "#2a3f5f"
           }
          },
          "ternary": {
           "aaxis": {
            "gridcolor": "white",
            "linecolor": "white",
            "ticks": ""
           },
           "baxis": {
            "gridcolor": "white",
            "linecolor": "white",
            "ticks": ""
           },
           "bgcolor": "#E5ECF6",
           "caxis": {
            "gridcolor": "white",
            "linecolor": "white",
            "ticks": ""
           }
          },
          "title": {
           "x": 0.05
          },
          "xaxis": {
           "automargin": true,
           "gridcolor": "white",
           "linecolor": "white",
           "ticks": "",
           "title": {
            "standoff": 15
           },
           "zerolinecolor": "white",
           "zerolinewidth": 2
          },
          "yaxis": {
           "automargin": true,
           "gridcolor": "white",
           "linecolor": "white",
           "ticks": "",
           "title": {
            "standoff": 15
           },
           "zerolinecolor": "white",
           "zerolinewidth": 2
          }
         }
        }
       }
      }
     },
     "metadata": {},
     "output_type": "display_data"
    }
   ],
   "source": [
    "import plotly.graph_objects as go\n",
    "\n",
    "\n",
    "fig = go.Figure()\n",
    "fig.add_trace(go.Histogram(histfunc=\"count\", y=dataset['similarity_p4'], x=dataset['similarity_p4'], name=\"count\"))\n",
    "fig.add_trace(go.Histogram(histfunc=\"count\", y=dataset['similarity_eng_p4'], x=dataset['similarity_eng_p4'], name=\"sum\"))\n",
    "\n",
    "fig.show()\n"
   ]
  },
  {
   "cell_type": "code",
   "execution_count": 40,
   "metadata": {},
   "outputs": [
    {
     "data": {
      "application/vnd.plotly.v1+json": {
       "config": {
        "plotlyServerURL": "https://plot.ly"
       },
       "data": [
        {
         "type": "histogram",
         "x": [
          -0.1007101950359305,
          -1.3063351160573387,
          0.5288979252789873,
          1.4485998615118831,
          -2.30234508693194,
          0.7628453095774685,
          1.5013899062134928,
          -0.46164423926446996,
          -1.0983016041938722,
          -1.1658982875343673,
          1.2953250343688607,
          -0.5466005579591292,
          -2.097498347753611,
          -1.5168818301831786,
          1.2587277949173905,
          0.8879685704184281,
          -1.2695947284034346,
          -0.6448693825914805,
          1.1699379719286085,
          -0.3532840740924465,
          -0.2446415827331214,
          -0.9281678900064133,
          -1.0112675815300116,
          0.447568146316879,
          -0.48547693870337966,
          2.0604475719768907,
          -0.11396953590132436,
          0.4063085775066461,
          0.42683839972573606,
          -0.20290310413002202,
          1.367653957078039,
          -0.1543816209859805,
          0.337171633660745,
          1.0942020839383488,
          1.0678743679525466,
          0.9616005545199315,
          -0.18088602039878537,
          0.33196173651997957,
          -0.44117797795675084,
          2.7321179153157598,
          1.0934141310769594,
          1.0380893418797659,
          -1.69896368703596,
          -1.7618275207236176,
          -0.10756389889033334,
          -1.53063185916988,
          0.9810936929120385,
          -0.4275952274140972,
          0.7175601112490726,
          0.7378750757045727,
          0.14213894372645322,
          -2.0888233381386354,
          -0.4552482957341554,
          -0.17493085132118505,
          -0.32198278560185184,
          -0.9525994046143025,
          1.1843108317209423,
          -0.18298777992360196,
          0.08985718395476047,
          -0.329246486175768,
          0.02118833437126627,
          1.460996893397387,
          -0.13797086372867068,
          -0.6993793605613994,
          1.3299884418236447,
          -1.7236249960946446,
          -2.2468240897687903,
          -0.5140091508437384,
          1.2245066626414964,
          -1.172178865941325,
          1.8069043650682135,
          -0.5817102602072391,
          -3.266625144519386,
          -0.14985159191588765,
          1.0855321070553778,
          0.577076344397801,
          1.950267086139087,
          -0.9080803595209351,
          -1.3858031959664152,
          -0.04940747977276039,
          0.8129624389084087,
          -0.9617492529563353,
          -0.44184268775699426,
          -1.0918345059980268,
          0.7002366214895566,
          1.56011813100315,
          -1.3442809470687034,
          -0.9887742481065666,
          -1.1457840462134032,
          0.17642059901410304,
          0.6335378895514636,
          1.0417194422603886,
          -1.5747829969079599,
          1.445240876747013,
          -0.2660698194464022,
          0.5041585579286127,
          -0.5370607975163166,
          -1.023136881589093,
          0.49874419434939776,
          0.7878764042479963,
          -0.9295076111681421,
          -0.19193381856800631,
          1.9419483129453625,
          -0.9313097714362654,
          -1.9706751199140704,
          0.05335014583335299,
          -1.0138628786962796,
          0.8833287325822567,
          0.5870342044546546,
          0.9216935471415363,
          0.017433153706953995,
          0.45426627111981466,
          0.9517080771989807,
          1.284213400852565,
          -1.2644483249020668,
          1.1493589610427601,
          0.956923732052609,
          -0.6568796915615441,
          0.7084379218660852,
          1.6334542964215897,
          -1.5026846838136514,
          -0.1259954119792355,
          -1.996884224554389,
          -0.8303048846051837,
          0.47542883585206525,
          -1.7113455061752934,
          1.3577951986008672,
          1.3681194755331396,
          1.7230466535904014,
          -1.0046258823610548,
          -0.11024435377416346,
          -0.591927568546371,
          -0.09290653525490955,
          0.3447500469256859,
          0.5817141888782411,
          -0.5388158133277787,
          0.07291843700927497,
          0.596940327132413,
          -1.4238866835079664,
          0.37957014301807684,
          -0.2568418901378789,
          -1.2931556798942034,
          2.239602718898917,
          0.12344129258782167,
          1.912657540792722,
          -0.8540035297964327,
          1.4131807563535923,
          -1.5332052350157686,
          0.6048233676624882,
          -0.36315259536179023,
          0.951356197246981,
          -0.20823936305171561,
          0.8096523528523554,
          0.5435565160811714,
          -0.24889922508624462,
          0.08571342415014438,
          -2.0788071797541603,
          1.2430186175361888,
          -0.40395457985035294,
          -1.3068011291477937,
          0.9203778275775542,
          -1.1643883507753945,
          -0.7407034569098041,
          -0.7461764585720876,
          1.5463814180203583,
          -0.3198154277754332,
          -0.6433598526755189,
          -0.4389717303613925,
          -0.6812518042413699,
          -0.7357257459075175,
          0.24367631349840055,
          0.24221348475493482,
          1.0480825475094084,
          1.4654119908586944,
          1.8791037646083184,
          -1.3808686503054781,
          -0.6611765651467515,
          -0.8383067951890765,
          0.33621480761535205,
          -1.0961874387609196,
          0.038967032824617935,
          -1.521047574312031,
          -0.4232393193962132,
          0.2441838123955037,
          0.7565956908061817,
          0.06548804715526906,
          0.9015310479591571,
          0.8242503222377072,
          0.5379533810670144,
          -0.9995491130130286,
          0.1896594521770964,
          -0.3750302685235815,
          -0.35869473050422135,
          0.12556580822610275,
          0.7215898164803008,
          -0.3067443991621477,
          -1.0174584448963588,
          -0.3494518371693682,
          0.6416612554654706,
          0.37153746163650286,
          -0.7573339128165729,
          0.2695247744744672,
          -0.6607194292102588,
          1.0786865506714778,
          1.8581865326869607,
          0.35177758665063247,
          -1.6762873985644446,
          -0.6344651872980493,
          0.19070071092095672,
          0.18459166212948921,
          -1.6518393180298543,
          -0.2933416699587779,
          0.12899036084350965,
          -0.1816820149507699,
          -0.05126167254139006,
          -1.7352733199436945,
          0.6222096513975011,
          0.4805514081843278,
          0.42835230556635273,
          -0.6034741116049286,
          -0.31640709048470744,
          -0.6585412754336615,
          -0.8755250669072172,
          0.2249614464901111,
          -0.1265394470661501,
          0.3711314601647765,
          1.9200821200571268,
          -1.0563704900421562,
          0.9810161043695319,
          -0.3995446240982955,
          0.7263760062433937,
          0.6250778639402182,
          -0.8740178248274345,
          -0.5526518854246448,
          -0.006358162166314574,
          -0.8909995174027652,
          1.0186513051719102,
          -1.8068347151461182,
          0.6530454433509545,
          -0.03159192447408886,
          1.6451534969514885,
          -0.549050382850004,
          0.20830645002040396,
          -1.7374339152354132,
          -0.11242706521032576,
          2.599115598211522,
          -1.0005890603660186,
          1.3152647167995506,
          -0.29419487764646257,
          0.019527692570370247,
          0.7961102568286924,
          0.4770708054033689,
          -0.6262929894470941,
          0.6233746997590416,
          -1.308147295321623,
          -0.8966976481239262,
          -0.08752282766821372,
          -0.20968897989270105,
          1.196073486673165,
          0.323007082943492,
          -0.26031215985604417,
          1.8185790121814263,
          -1.4329473994600694,
          1.580135192325873,
          -0.0578717201936346,
          -0.01714667894699725,
          -0.5283563995432162,
          0.27400775792418813,
          -0.3957509778095747,
          0.4984923345061623,
          0.8486666730921194,
          -0.24476438938729395,
          -0.42256964186801366,
          1.5360184132452266,
          -0.4788331954251657,
          1.8474497613622476,
          -0.600959655688091,
          -0.43351536719001194,
          0.8184944109358641,
          -0.9503408278925609,
          -0.10569249393924918,
          -1.6718296873737724,
          1.1472395634573984,
          -0.29856665988375486,
          1.8228301968836953,
          0.1319512028395433,
          0.23582035504578325,
          0.038740874517278624,
          1.1601749991616912,
          1.2009073557267829,
          0.13426712608151725,
          0.6838232531997671,
          -0.4620302275359476,
          0.7584313921148146,
          -0.7160149288103567,
          1.8563163284016426,
          -0.5448555724328301,
          -0.09885011924905429,
          -1.6068397887198933,
          -1.2086949927742345,
          1.0773999026915302,
          -0.185694072638875,
          1.4022503979021967,
          1.9078149995830946,
          -0.9098229436274324,
          0.07536141420971085,
          -0.7511228730858458,
          -0.19921937162322031,
          -0.7453165996435064,
          -0.7751656428516772,
          -1.164995981519924,
          -1.9796893480494853,
          2.5672640777554663,
          1.4667490391458173,
          0.9704810131954827,
          -0.07473769225028254,
          0.0033892732624892443,
          0.1779427027632038,
          0.5801219574660521,
          -0.5277968485934499,
          -1.2754291663686308,
          -0.28771658981313947,
          0.007670602083577896,
          1.6551605595172705,
          -2.554339882244292,
          0.6280341036056667,
          0.5450476544681037,
          -0.7290546839256946,
          0.28531189160767945,
          -0.5107712891953575,
          -0.8103510364710038,
          0.8437849774292134,
          1.597070564470663,
          -0.9039945647332518,
          0.40502031713969927,
          -0.5415422422095597,
          -0.5450415482926446,
          -0.3900623666035704,
          0.08503447703886562,
          0.07331537650004266,
          1.1344589875301023,
          0.3943615188452019,
          0.3194620626738347,
          0.8415847262727155,
          0.3847203576793079,
          -0.45307939404930725,
          0.5112971585393437,
          0.938482649124834,
          -0.9595475625154001,
          -2.039407536938276,
          0.6866519599020396,
          0.5078835616294587,
          -0.5851263746263196,
          0.7545370768296626,
          0.43022645413312927,
          -0.4528264204477601,
          -0.8115251591058591,
          1.231240639333157,
          0.692737550641277,
          -0.16445049753286115,
          -1.7490824662364604,
          -0.3053252306592052,
          -2.1135929635832063,
          0.2530707865538592,
          -0.14531399486207172,
          1.0229604349485588,
          0.16792534725198438,
          -1.312233016747057,
          -1.466740304225773,
          -0.14032110666415043,
          0.6430647480108684,
          2.5034460638635156,
          0.4644878640686973,
          0.9853301877858966,
          1.7683810395861812,
          -0.0679895273988119,
          -0.10487568147728894,
          -1.2378773185150862,
          1.1017154010103436,
          -0.5968659274441847,
          -0.4129967728702721,
          0.5728562049825459,
          0.8865962450172657,
          1.3932563955945327,
          -0.3662879528348222,
          -0.12264511287591731,
          0.8922941195407449,
          -1.2301674036326256,
          1.540740586330304,
          -0.2750013630618299,
          0.3362466757506561,
          1.6001657493652004,
          -0.14496340221516865,
          -0.9676145300890399,
          1.8454148667109223,
          1.498767746703989,
          -0.1770358455275193,
          -0.3284901376039499,
          -0.10143652672265462,
          -0.9986436051560794,
          -2.22633499075833,
          -0.47679170107433116,
          -0.7807219769326365,
          0.8162625652277451,
          1.018011382289695,
          -0.09699080010955197,
          0.9907234567248759,
          0.7225526962536072,
          0.664115607903049,
          -1.2326024975907974,
          0.33523875793654856,
          0.7223219334541272,
          -0.18453874565721348,
          2.2426695177863416,
          -0.610943594246966,
          -0.644760715516124,
          0.4037876374855074,
          -1.3504481762707436,
          -1.3427015159133384,
          0.7544165330681495,
          -1.5214968135591218,
          -0.48213662806166546,
          1.0739483115082022,
          -0.03410683634065427,
          0.3127174737414017,
          -0.01629325214366923,
          -0.7554719964117954,
          -0.9436194301490886,
          -1.9503362766466201,
          -0.2601027537068006,
          -0.5345007874075115,
          0.015698234343619485,
          -1.8355326310479227,
          -0.6938389991445573,
          0.5220862928615438,
          -2.342104128655363,
          0.6743495001545816,
          -1.5213542207966482,
          -0.40393159537604806,
          -0.8876080831661716,
          -0.0922456504986169,
          0.6391937995528759,
          -0.9586835101770232,
          0.004114390505754304,
          0.46505398372396317,
          0.5686171094635876,
          -1.0337103015439784,
          1.3503347976019202,
          0.5421836002511768,
          -0.8151629145827625,
          0.9878383370544511,
          -0.24354691800739892,
          -0.913615989695242,
          0.29710621751295996,
          1.5458160514657011,
          0.8995045716798606,
          0.24655319014723398,
          -0.8022390964922076,
          0.3071564917391986,
          -1.3374895281824821,
          -0.33372979587760604,
          0.5833009575462221,
          -0.9538192476880848,
          0.5483984786411166,
          -2.3045167416482895,
          -0.02786715523077342,
          1.712239182636402,
          -0.029969631463572198,
          2.8885303517626855,
          -0.9972422214227744,
          -1.182754885377822,
          0.6785527683836852,
          2.12582424799738,
          0.8645908555651143,
          -0.4013688881295574,
          0.3987315984656774,
          0.02041119189711302,
          -2.3001476608383773,
          0.09173062609271715,
          1.133000759536981,
          -0.2961927879951713,
          -0.15764263226916217,
          0.08503044247605214,
          0.0040000467310940995,
          -0.8404046914059807,
          0.11506371806392139,
          -2.8621734236771905,
          -1.7484548887866436,
          0.30341508588071214,
          0.06879925003216406,
          -1.3048911420147746,
          -0.43789903138581976,
          -0.27952448307148176,
          0.3302053905173396,
          0.41533629003553574,
          0.9930948766241428,
          1.4818802816643764,
          0.6233683125106573,
          0.8574312797330175,
          0.19359045289689114,
          0.1353373194668269,
          -1.7178481450681735,
          0.1940523568021956,
          -0.4323878397560001,
          0.3247934880223589,
          -0.8942079159449267,
          -0.705981249290486,
          0.6465457225175852,
          -0.9614515971889758,
          0.24101747925601863,
          0.32963842599571475,
          -0.06948284467345416,
          -1.412525102475248,
          0.5385804258059276,
          1.900372871235814,
          1.4908201025574601,
          -0.29556287674234016,
          -0.4972353751433481,
          -0.7504597522954943,
          2.092189688827173,
          0.7339887668273558,
          -1.7327569711063007,
          0.6341068485871052,
          1.3939114328129356,
          -0.09528518904359846,
          0.714357752387818,
          1.0040572331672268,
          2.2333532285956776,
          -1.1356058573589503,
          -1.5921961774800535,
          -0.5142036260362234,
          1.2617871203668625,
          0.3907756611162223,
          0.5439199949716603,
          0.32735742238154303,
          -0.5600132698998064,
          -1.142761388030702,
          -0.609102943161494,
          -1.2915569625672692,
          -0.5422346362299216,
          1.543163085208231,
          -0.10859008449943425,
          1.1312188610961469,
          0.6253682024216207,
          -1.3367380697834652,
          0.23644575471116527,
          0.000052238891198035904,
          -1.9053536931652153,
          -0.23945220280363688,
          1.4906093984193372,
          -1.2186956272057545,
          0.22815308295798092,
          0.6333394469180904,
          -0.09764555552170903,
          1.482551997999782,
          -0.20849573552154957,
          -0.5412714225303635,
          -0.23139041358021567,
          -0.17555346035037583,
          0.18794953642931841,
          -0.7354653775940585,
          0.42711626361653743,
          0.25147274880090154,
          0.25276115811789407,
          -0.21895866997911123,
          0.4245615241145383,
          -0.05392269703177792,
          -1.4236581976978269,
          0.43237421686845295,
          -0.22275944524393448,
          0.10468707158574643,
          1.4142819387794363,
          -1.1289627434991722,
          0.5567100175674498,
          0.06250476054222429,
          0.3801502356702379,
          0.7649716591256474,
          -1.2860195866165651,
          -0.19981989946751025,
          -0.3038555599379257,
          -0.03292811951162274,
          -1.0620966714522597,
          -1.1434651009874783,
          0.45996807176374765,
          -0.6470505792514442,
          1.68965508857164,
          0.3814050513991857,
          -2.2670431476367963,
          -0.7814388828793329,
          -1.1225260028574557,
          1.3072428454660627,
          0.9465026025497322,
          0.8235738730284815,
          -1.160859388225696,
          -0.21632424442652756,
          0.966849191841741,
          -0.2733747553414093,
          0.1579309459334263,
          -1.2343706884534191,
          0.7243799726299655,
          -1.2843043207636757,
          -0.45685829717702897,
          1.5911322497454239,
          -0.820241482853053,
          0.8642881653841449,
          -0.5955198134810722,
          1.084521747278793,
          0.2473734378010639,
          0.7605763481405865,
          0.00747675573685604,
          0.3309069363820734,
          -0.1356719642389104,
          0.43687590368531604,
          0.8998870214973256,
          -0.1213842890477882,
          0.35539694357148327,
          -0.1384147693730191,
          -0.9655397871303719,
          1.3864028749982402,
          0.21187153007328852,
          1.235521028315949,
          1.51571119377293,
          3.0743080087388908,
          0.2971845479762857,
          0.973009855339518,
          0.24597963199973377,
          -1.4637208030773416,
          -0.37971431970227015,
          -2.235264657306322,
          -0.16834658532766292,
          0.6238312883472701,
          1.1576857205677418,
          1.4093122506709297,
          0.7107968016041484,
          -0.6078655458909435,
          -0.8230311540345803,
          -0.2540274162286803,
          1.177861024054829,
          0.22743774402904898,
          -0.06044080931277234,
          -0.3862947671321216,
          0.48356647327386826,
          -0.04533913730073191,
          -0.21601663939021565,
          0.9218652251957458,
          -0.5499595464580919,
          1.4695338627468566,
          1.382701678276564,
          2.058282599970007,
          0.8223405639866035,
          0.1359337265114012,
          -3.0706147149262355,
          -1.5923348105915305,
          -0.07492204698156717,
          -0.042011834105635845,
          1.3800229556073287,
          0.633247447471535,
          -0.9052505350247187,
          -0.2456182729229449,
          0.44813152096725256,
          1.1290339233518132,
          -0.5378880079888683,
          -0.7772031680934786,
          -0.0009895832646362546,
          -0.9845772058219354,
          -1.4206138746219295,
          -0.6967185460436549,
          1.1339635809439823,
          0.6368929725694249,
          -2.2457535402535207,
          -0.4460479953810013,
          0.037137771936178385,
          -0.3363456376414685,
          0.2318648730559353,
          0.2614837986854792,
          0.14095327830372759,
          0.7441877573453878,
          0.5196806464509308,
          0.9422712529071156,
          -0.5866387757632067,
          -0.08104757493017509,
          -2.0491475829881134,
          -1.24611311857292,
          0.6257402653953498,
          0.37261298202664445,
          1.5024066492646897,
          -0.18669388053861777,
          0.51045580361138,
          0.13054352224114668,
          -0.40217358622866045,
          1.0834380161514034,
          -0.1039959197597119,
          1.1230019068986148,
          -0.0976996088774383,
          1.608074780585266,
          -0.46578248408725287,
          1.579543173280526,
          -1.164823836462509,
          0.3310824215265141,
          0.07979974854410994,
          0.17497308921647836,
          -0.34968687187536046,
          0.022265030443682665,
          0.810685931414765,
          1.2745284272806772,
          0.4305144454408921,
          -1.4433854429597952,
          -0.13838603315227038,
          -0.35404236640154696,
          -0.5459127509802618,
          -1.8227774587462031,
          1.5142333577695415,
          0.16831548267010807,
          0.056508537381480914,
          0.04570556474497339,
          1.0618156232300575,
          -1.5272232503712295,
          -0.7733799537927718,
          1.5029373796322643,
          -1.6361787316151775,
          1.5728681592883365,
          1.4685186705554927,
          -0.6948343390682804,
          -0.6358747584554387,
          -1.2363129152684673,
          -0.7204314596634598,
          -0.8737098241121475,
          -0.9819326229576266,
          -0.6658640163165058,
          1.1445673554838958,
          0.4162525767446447,
          0.13948284562744373,
          -0.8821565185177703,
          -0.07848780000958856,
          -0.9933829114897337,
          0.8268416694501703,
          -0.9760616818061341,
          0.03988657487428713,
          0.22715496275851932,
          -0.46873747264036875,
          0.23403425575055326,
          0.07438099986392087,
          -0.5237589544295914,
          0.47291045904719703,
          0.5662257404730815,
          -1.1418281924083542,
          -1.1276729598912412,
          -1.0829832176048144,
          0.7643203682987365,
          0.48931325422436867,
          1.4758995588833472,
          -0.2111360514902874,
          -0.6138439704654343,
          -0.41332722260030663,
          -0.7705251755033453,
          0.2522891874552964,
          -0.2193523963615592,
          -0.9713172667863688,
          0.9410101229491792,
          1.284342772021284,
          -1.7437046880101787,
          0.2253047967977596,
          0.3808951177373831,
          -0.43529533720061464,
          0.26631729772388835,
          1.6200206186327064,
          0.7812471350571911,
          1.0663424792387393,
          0.8545794189879884,
          0.6035815681637948,
          1.5785439084250459,
          1.8322299968156786,
          0.4008556255535821,
          -1.4313548184033473,
          0.39519551738317177,
          -0.9402811655655994,
          1.722481249829357,
          1.3916720832859504,
          -0.8313290734630843,
          -1.0370906027947127,
          -0.8572637314537008,
          -0.7539202280562504,
          -0.834044781591291,
          0.5298430056470594,
          1.845466296584538,
          0.8235404609048744,
          -0.0698731535873985,
          0.36515385612546486,
          0.9392619772749382,
          0.9651947925214904,
          1.7864047600667918,
          0.6280253948576541,
          -0.038914776816746724,
          1.6352292673076578,
          -1.8520744215834202,
          -0.1405320322381367,
          0.38549751968518553,
          0.2965132870921681,
          -0.8462960956992674,
          -0.1402908180888886,
          1.8218157964712371,
          1.7673469137486881,
          0.7770471457138775,
          -0.10902463165700808,
          -0.15280894982247892,
          -0.8217663783450132,
          0.2745412329852571,
          -0.27490939442430173,
          -0.47310477367197573,
          0.32503549626352024,
          -0.8719019470214414,
          -0.9521092913372133,
          0.6933806188848483,
          -1.1481539842069481,
          1.7603499947010857,
          1.1416429576834328,
          0.5230251048428686,
          -1.511709242417107,
          0.7749700223774518,
          0.6438309376907168,
          -0.1677319120575979,
          0.37805940707696756,
          -0.5801140597084538,
          -0.5869022626635688,
          -0.08165709530533438,
          -1.0939101633031871,
          0.17369551955106838,
          0.5673818244756625,
          0.5095693931444676,
          2.388143651831986,
          0.43802505371720035,
          -0.03193943357684623,
          0.7703274101347523,
          2.093098817832431,
          1.4440269719926404,
          0.9817256578311011,
          -0.6303516671669166,
          -0.4987676853709035,
          -0.42910458678948854,
          -0.5018016461541732,
          -0.5663577467441121,
          0.11666464131082899,
          0.6407637710033645,
          -0.0067375900765060245,
          -0.44121212059268855,
          -1.5351080355824076,
          0.8534164679071877,
          -0.7144291901726973,
          -1.569131237839621,
          1.4977299674243891,
          1.6654368931712873,
          -0.45809650424190534,
          0.011007296028829288,
          1.0100500039853444,
          0.21619991769253546,
          -0.8012756427479727,
          0.9984425559990693,
          0.7431474422237658,
          0.3397462907123212,
          0.8490123641976858,
          0.0012712555642100667,
          0.1231040254484969,
          0.517543917174333,
          0.5783417128421645,
          1.5501615987051498,
          -0.8400612314791814,
          -3.9131403902450455,
          1.091518351715524,
          1.222494513833965,
          1.848158315281417,
          0.09209730906764038,
          -1.191675213624158,
          -0.40068866734299774,
          -0.7126046838321124,
          -0.7568678202096436,
          -0.7197743919564513,
          1.1741534123358075,
          1.4279455008795485,
          -1.9231096169404989,
          0.1736516241012973,
          1.141075807199765,
          -0.8540234755199556,
          1.264608665324065,
          -0.6814447182043134,
          -0.8442788617481447,
          -0.45363646775311695,
          -0.9996728059105371,
          -0.8415190297714178,
          1.4632364243261702,
          -0.17370908527456982,
          1.3399009271152662,
          -0.13367046863141638,
          0.06100064365138019,
          -0.9690052852504563,
          -0.49114600160929156,
          2.2897027768447753,
          -0.5190080145463425,
          0.45785661101238956,
          -0.244566343208239,
          -0.48555922593494366,
          -0.997541776674378,
          1.2167833258718999,
          0.8818987676143752,
          -2.7904699436218214,
          -1.9238452452977923,
          0.673606702126021,
          2.2037789830166106,
          1.2351298253239034,
          0.7436667909628804,
          -0.8698953426040698,
          0.6705015579314464,
          -0.8291260858869302,
          -0.14381262194298797,
          0.7434790819065971,
          -1.3027236896006547,
          0.7526424341603574,
          -0.42015200877612013,
          0.755045306329799,
          -1.7721348124168308,
          -1.9382116862199432,
          -0.5066154491899394,
          2.165162424665153,
          1.7056622354509245,
          -0.9233851472763528,
          0.1569215470898604,
          0.8347205052474187,
          -0.3349345169730567,
          -1.413996334663058,
          0.6639356506317592,
          1.1625521605632487,
          0.8613590703024852,
          0.9177407149668712,
          -0.9517353016316096,
          -0.34937449887553873,
          0.39183410249630923,
          -1.3490668534913988,
          -0.8363565392872517,
          -0.4504068373982091,
          0.936349652381239,
          -0.14367127566946247,
          1.2340264161457768,
          -0.4861307831771451,
          0.03294523935563672,
          -0.6756440176766118,
          -0.8644069981649779,
          2.002733445558835,
          2.9916138648633694,
          0.04049177752064487,
          0.9138021655621984,
          -1.0163465903243343,
          2.1993572358660165,
          -1.7208606985317934,
          1.265832412717865,
          -0.47234221351173,
          -1.1883692741564276,
          0.5064563171980273,
          0.24593657171694566,
          -0.33807379321274955,
          0.27255816481595296,
          -0.8499553179427497,
          -0.6310542185562905,
          1.057951372962412,
          1.0415628306085776,
          0.6486915714485723,
          0.9691100153480524,
          0.5073624589641849,
          -0.9331544729831189,
          0.8150258878565662,
          1.0463655477963325,
          0.32161356761861076,
          0.6633460472725945,
          -1.5012642686366688,
          -0.1604521733319117,
          -2.389092311304369,
          -0.7605389715368737,
          -1.3959561347691039,
          0.5127786654931752,
          0.1083993050735888,
          0.8463378556591749,
          0.2046789473698183,
          0.34125691931883684,
          -0.5956981996755356,
          0.2610505613739869,
          -1.4093555987696524,
          -1.5195268079051887,
          1.1045078863316433,
          1.7486165196909975,
          -0.7037203506511968,
          0.21575700250283544,
          -0.08344743931533494,
          -0.8098371527269184,
          -0.36735252039941063,
          1.073223704716145,
          0.24938096534359364,
          0.03412248881135508,
          -0.48505490575244253,
          -0.7952030988726142,
          1.961935656918327,
          0.3352294653014695,
          -0.5813186876002918,
          -1.0371620574435443,
          -0.03446740589099967,
          0.04878115481681911,
          -0.19271665083326037,
          0.4690645064741212,
          -1.2859625728988489,
          0.7614016758096319,
          -0.9160967928744186,
          0.13196598407786533,
          0.15056730468080792,
          -1.6298632022041393,
          0.11258207017704816,
          -1.1685098723017016,
          0.9723251638275034,
          0.27853458501127026,
          -1.5071646256026283,
          0.2048861771484439,
          2.2453389893160396,
          0.17307021009612583,
          -0.5521153229615211,
          0.7866306968017123,
          1.0173713873083485,
          0.6881699349638779,
          1.9002257190095844,
          -0.6176370309029121,
          -0.8339511435160782,
          0.05857964364626498,
          1.912838519875915,
          0.1190046949998803,
          -0.7200802721175821,
          0.706228102563586,
          -0.001053073523746225,
          -1.2011067461336704,
          0.9005283101890872,
          0.42182406826013297,
          0.36824958186621454,
          0.08779445045594786,
          1.2246732396486908,
          0.5574031990925289,
          -1.6439722986973857,
          2.0426178285907306,
          -0.1302325385181432,
          -1.9295934108499995,
          0.8935776458359598,
          1.6783553252108976,
          0.40831147480737817,
          -0.13717830691492952,
          -0.7579492113876997,
          -1.4121125155340044,
          1.4141778446474436,
          0.17755110780789235,
          0.4056130685118338,
          -0.27054428110761886,
          -1.1229121858745783,
          -0.16109785390337655,
          0.7948958446656958,
          0.0595954990664738,
          -0.05499569597669325,
          0.32096965188323273,
          -0.4451587979474841,
          -0.9741559086395586,
          1.4399857292826201,
          1.4465739000088123,
          0.06466583218423587,
          -1.2512044957660036,
          0.9661608583370006,
          0.8824231910600913,
          0.3338836058772596,
          0.3217730046511572,
          0.17009504216358173,
          -0.3957448054301346,
          -1.5914470485325816,
          -2.0416859059966947,
          -0.49464113465883647,
          -0.35816844254070157,
          -2.3996342976325566,
          0.38636595441022303,
          -0.5020878855990923,
          -0.13796627596912728,
          -0.7065316374994842,
          0.23893968876005386,
          0.5089680920647229,
          -0.14946024125920782,
          2.023444737888105,
          -1.8819858544322716,
          -0.4210474110073441,
          1.3001364553408776,
          -1.7755499343924943,
          -1.1999693316465732,
          -1.0317352091491496,
          0.6210451470985888,
          0.003539487537260191,
          -1.1273764420428698,
          -1.1995702579533514,
          0.30604366234005126,
          0.41912328598500204,
          -0.24844136283461077,
          0.6499891521525539,
          -0.5830470320056707,
          0.5727189056404496,
          1.6174035845157846,
          0.9006599709457245,
          2.1916930024184245,
          1.1830566065804324,
          -0.20116054736846672,
          0.07975639009663794,
          -0.9673976775771835,
          -0.7244581273642096,
          -0.9430114118276816,
          -0.06805122788305171,
          -0.6702819122009185,
          0.37945419431995736,
          0.5007116731786756,
          -0.3921195960695429,
          2.281251600561837,
          -0.671539678897857,
          -0.23344580294167255,
          -0.08550280959512636,
          0.7894093682924394,
          1.0143674910870932,
          0.744613086188516,
          -0.8910349258207965,
          -0.1299970580878107,
          0.5193840558272594,
          -0.3019556359516482,
          0.2863501649794777,
          -1.7721893738413663,
          -0.9714685097763212,
          -0.4126642201354592,
          0.549520809850396,
          -0.9254439261354287,
          0.8085582106110168,
          0.0003343972549949388,
          1.754671438589344,
          -0.5213590073403475,
          -0.8816981930454583,
          -0.35311177635098,
          -0.2533633119881187,
          0.7052128174663541,
          -0.01906834385826364,
          0.6314893432317381,
          -0.6190016076307104,
          0.15304984498056587,
          -1.2741854194407356,
          0.7332188370618048,
          -1.3050926418007283,
          -0.6217546740227516,
          -0.39418902410851114,
          -1.3246918945662483,
          -1.1986359494177694,
          -0.21981250748644518,
          1.599488723721867,
          0.08148580865763995,
          -0.5966581840907412,
          0.008823678199454682,
          0.04692916288627796,
          -0.030902525696868337,
          0.2748145916097369,
          0.3558066062247713,
          -1.2937656063732805,
          0.3561667491783923,
          -1.153756733268638,
          -0.5990219856342303,
          0.21310352441584682,
          -0.24689073329484862,
          -0.4510633380818994,
          -0.8315122183572482,
          -1.749560784925314,
          -1.7699280525292533,
          0.7635958476040965,
          0.6755723412514858,
          -0.19412448733957066,
          0.5773908151830015,
          -0.4139155518989555,
          0.027233250897857542,
          -1.5234399418206621,
          1.68727724512147,
          1.03902982331692,
          -1.5202137337765507,
          1.8138939995308705,
          0.9222618391393809,
          -0.19257964514589074,
          0.09438090688422032,
          -0.789389463531531,
          1.3210968490058652,
          0.8237299939224791,
          -1.3462521575242308,
          -0.3730278004946468,
          0.5989256983246702,
          0.3328546340034706,
          0.468744372772307,
          1.351896310654668,
          1.2360419710305275,
          0.7030332077659633,
          -1.6783732125833128,
          1.6023224688520041,
          0.24655509507042528,
          -0.6674368357072699,
          -0.7801229297053079,
          1.3886216807862506,
          -0.034373364620438926,
          1.9777691529664947,
          -0.2426674920845733,
          -0.554206465539071,
          -0.10539928443800502,
          1.5632936909710866,
          -0.9939344685017604,
          0.0032047188278807007,
          -1.627688918365985,
          -1.375712818784866,
          0.38607842946572285,
          2.1314865892745964,
          -0.8024280607278729,
          1.3109180032922463,
          1.338698519318112,
          -1.3685841533745637,
          -0.9157345436169624,
          -0.26383365315325236,
          0.022646736259428226,
          0.46703811728854905,
          -0.446543864966565,
          -0.3267200143990941,
          -0.960552189172271,
          1.2495948428275088,
          0.2025504994446416,
          -0.5050104565050456,
          2.9005695160123666,
          1.1034706035706343,
          -1.7744703386852891,
          0.14203465300485701,
          -0.22409819666165123,
          0.5150125479814206,
          1.5576433995396912,
          -1.231135085483849,
          -0.18975680415091287,
          1.4618688152102437,
          -1.2073152547734567,
          0.8485056850748779,
          1.1165208365274366,
          -1.5038379573521283,
          2.046220780621453,
          0.4862011089588758,
          -1.3912808524274376,
          0.08400114411599548,
          0.41167344827645286,
          1.0762446340884178,
          -0.8963381802512972,
          -1.5673221449196368,
          -0.5175198192466071,
          0.7335116114251219,
          0.7200939558370117,
          0.7724684042897132,
          2.811681854850104,
          0.41062987247834865,
          -1.9176328690039766,
          0.6737393543445924,
          2.241037580105861,
          0.20820740617445319,
          1.5985071665239559,
          1.8195935303630424,
          0.8457048193995962,
          1.138395856988733,
          -1.8145728138622321,
          -0.05587233792901729,
          0.14368536753642508,
          1.3817594581988903,
          -0.28145204769754123,
          0.1672692125042452,
          0.3576514337059057,
          -0.44603894258090554,
          0.02232298132017788,
          1.2190461749546442,
          -1.1229203500980627,
          -2.0869958497599526,
          1.0376708999778932,
          -0.437429106817428,
          -0.11255022477941558,
          0.4225878424266046,
          -0.7548046876752664,
          -1.3017973120372268,
          0.4585855346668012,
          1.9914077461919135,
          1.4544665352902473,
          -0.42562228826290277,
          0.5755122680783437,
          0.6693914154884949,
          -1.0552775647330324,
          -0.7396347204052169,
          2.5293396148642335,
          -1.183586957834387,
          -0.4005984976902076,
          1.0644335921529873,
          2.240135175710272,
          -1.8735621659568389,
          0.26779089537682027,
          0.05433503294486294,
          0.011211281437627708,
          0.45036905037178415,
          -1.7680868541084365,
          -0.7138251395358068,
          -0.3089362341014904,
          1.876842853815697,
          -0.40557804280327353,
          -0.5832908173038679,
          0.7260734159356781,
          -0.1043228232169193,
          -0.031780428830136404,
          0.04769971577387608,
          -1.3013036156114086,
          0.12499869293502154,
          0.08656309505911294,
          -0.2067625973432872,
          0.9608183577585822,
          1.304522642902904,
          -0.03669741983938726,
          0.7724849176824465,
          -1.57103351916584,
          0.04132933199979942,
          -0.6957002213192801,
          0.7263007489533575,
          -0.3018413551658854,
          -0.050035071988098055,
          -0.5367064915696045,
          -0.9523998577842322,
          -0.4496320365967053,
          1.5889009706384305,
          -0.6079210817696479,
          -1.5322855198352028,
          -1.7679212878392734,
          0.9614282515273315,
          -1.3095066124770227,
          -0.06797457234318015,
          0.46224073321795506,
          -1.2843872985993345,
          0.021636910175609262,
          -1.1197957934204512,
          -1.2936011698394767,
          0.36085069719559637,
          -1.5592180383041359,
          -1.1809453416539297,
          2.4460513322521327,
          0.4822774661790781,
          -0.4157081996578429,
          -0.47933458718544186,
          -0.09507238471406226,
          -0.31581602135942344,
          -0.17411024801486083,
          -2.3503978313346447,
          -0.10078259748224992,
          -0.28505006883405787,
          0.46654358640402727,
          -1.2134920003086607,
          0.642706498274,
          -0.8397514018010985,
          -0.30279270493323085,
          1.2441991717125345,
          -0.3992573532362761,
          2.48988900103834,
          -0.6979054483877813,
          0.07898313069928183,
          -0.4041251735328405,
          1.0514258004851995,
          -2.10361400255076,
          1.667926318683079,
          -0.1622640170563886,
          -0.03621544797900487,
          -1.1715525409996463,
          -0.9000115162298782,
          1.3276134733071139,
          -0.5731290817691603,
          0.8988505205942126,
          -0.011092104193325899,
          -0.19858474259236097,
          0.12320222595586881,
          -0.31205993639860746,
          1.5069778918578782,
          -1.0246183136635392,
          -0.043301146405342425,
          1.4900171041490518,
          0.505352546625931,
          0.6122478269599421,
          0.4461735061953254,
          0.6736465294435117,
          -0.24638091351434846,
          -2.4725475591567774,
          -1.1192295312409883,
          -0.7204835637307535,
          0.9171832142425341,
          -0.5516831518329507,
          -0.23654074222599059,
          -0.05879346828049943,
          -0.5603845034847917,
          1.3088509398534018,
          -0.13341218911940073,
          0.018438525087616953,
          -1.3958816502094225,
          2.235955026858051,
          0.5502112596233842,
          0.9618482565524848,
          -0.8645241650066889,
          1.349017464218408,
          1.5250358496835994,
          -1.15715068023121,
          1.5193335973078212,
          1.1009800126276932,
          1.7105086551573643,
          1.5068177269861955,
          -1.1185484424061543,
          -0.31967410836360066,
          0.6164833517345637,
          1.556416131458584,
          -1.3789143832285553,
          0.1360401528053558,
          -0.6181052476435779,
          -1.0757683544847472,
          -1.09530042864671,
          -0.9371047069689841,
          0.5266529539601985,
          0.11390333948202921,
          0.06008680540948091,
          -0.47140949223307554,
          -0.724472675125104,
          1.2912341431457917,
          0.30101274837050745,
          -0.46902733665174157,
          -0.2649039962843536,
          1.6685512497407242,
          -2.2511765028459823,
          0.38106148427156544,
          -0.08488987995791393,
          -0.14571386971413589,
          -2.3654368116664966,
          1.5015702200971175,
          -0.6423046011941256,
          -1.5822807970514239,
          0.5566129970168457,
          0.4630980406316227,
          0.2685380230625248,
          1.0546295803697658,
          -1.4513112643797972,
          2.7323342078923547,
          1.6380442607878136,
          -0.18224632053575904,
          -0.3479181879237609,
          -1.198938557419236,
          -0.24536167387031832,
          -0.5086471804536472,
          0.35791348890665026,
          0.30642603982967526,
          0.05850536251257345,
          -2.5139083885496123,
          -0.6243598873662422,
          0.6293370928055289,
          1.8673102130633745,
          -1.6802977155851309,
          0.19790898452467764,
          -0.1527726963983457,
          -0.7327617644289578,
          -0.5610538630955135,
          -0.4280894694438364,
          -0.7027259789347002,
          0.33508013729139574,
          1.0185209227316976,
          -0.3443976666225539,
          -1.0307130955339046,
          0.9126081429459333,
          -0.3474378372935507,
          -0.25393315080069834,
          -0.339330104081724,
          -0.2883364244284533,
          -1.2661928849159558,
          1.7717255194214439,
          -0.7414915032379518,
          0.13156034901136612,
          0.044827556746324417,
          0.7969341004832521,
          -0.2808532244137544,
          -0.2019966011451028,
          0.2244090669722688,
          -0.3663136351212085,
          -1.0667342523594936,
          -0.614095368451423,
          -0.5334677704173305,
          -0.30582631449653325,
          -0.9128012487420145,
          1.096302465799096,
          0.5913383332145197,
          -1.6016433472246383,
          -1.7320066023403524,
          -0.30198971557934257,
          0.22507730142126994,
          -0.04135536070851205,
          1.1869144527697117,
          1.076987531580279,
          0.7055668772256521,
          -0.6368569895793371,
          1.4147009183004344,
          -0.7220348282890191,
          -0.8720447717449177,
          -0.43904724581838656,
          0.5759039200400983,
          -0.8791995891062669,
          -1.3193857604885413,
          0.10610819299606655,
          -0.6272568009963142,
          -1.0396630406376577,
          0.5079773327803132,
          2.032368674403089,
          1.4439361507836896,
          0.11955000739300227,
          0.1903455472639941,
          -2.5455968045503385,
          0.3847872257618049,
          1.1121932796947518,
          -1.3726063764131187,
          0.36374482554153836,
          -0.6298295958106445,
          0.32473280115136155,
          -0.9986360365948882,
          -1.2286256562283433,
          0.8292539788685523,
          0.18949535777624207,
          0.830172929687288,
          0.9114669031329901,
          2.553346160311176,
          0.748124715728615,
          -0.5143766189783686,
          -0.2656621680688058,
          1.6402047507604602,
          1.7669311760299038,
          -1.0101233919054544,
          1.2059441937254862,
          -0.31882016094226706,
          -1.1089604903795762,
          -1.5110382997669305,
          -1.0037012215940087,
          1.0875207122651689,
          -1.6690773520264959,
          0.18254594068103144,
          -1.5461492887378736,
          -0.5780061660541637,
          -0.11144008324615873,
          0.011699026032719948,
          0.5995358869495588,
          3.030677808331392,
          -0.19262828730282686,
          -0.4999947803654616,
          -1.3197123032613869,
          0.09435954967147658,
          0.41952054099064073,
          -0.9528237601047644,
          -0.5611957358700376,
          0.9123080417088038,
          2.1982861824393094,
          -0.19706604781153123,
          -1.7627809016196236,
          1.2726902128672888,
          -0.024512131106138233,
          -1.7547221810417561,
          -0.6420582350374082,
          1.3379491643263137,
          -0.6513960005023363,
          0.8723064231733438,
          -2.4915485534063206,
          -0.49657218234860157,
          -0.15051536803231041,
          1.199893547327184,
          -1.1936209629840646,
          0.026827848297972863,
          -0.23662987305886246,
          0.5204711261840589,
          -1.3863888225719514,
          0.7314759888359704,
          0.6492535666731816,
          -0.2622245371058736,
          1.007187846502034,
          -1.7150879139022666,
          0.9587670348277545,
          -0.8795126114364861,
          -0.25003209886608907,
          -0.7915718289634931,
          0.5680310803900337,
          -0.4470027043816401,
          -1.067765257456045,
          1.585867377115633,
          1.7542764697641624,
          -0.8240205460425832,
          1.8455567464071096,
          1.4077572388501325,
          0.5510912893384861,
          -0.6265280832981311,
          -0.7274349031405126,
          -0.9709031072269736,
          0.9082847211716187,
          -1.0057257137533397,
          2.081693558051611,
          0.7444278658539873,
          -0.15871191023751985,
          0.8109421505805532,
          0.4103424031485144,
          -0.4137746065915912,
          0.19830648572262577,
          1.1337825727609634,
          0.25225655514999845,
          -0.9022252350763074,
          0.7497491911905687,
          1.4387247259049303,
          -1.0545060475893002,
          -0.8612517610675169,
          0.20129720284072838,
          0.9121130293300029,
          0.3525350851958797,
          1.071982443361971,
          -1.0637426685167384,
          0.6277718621781038,
          -0.6567984174350079,
          -0.12768245981715343,
          -0.1755121590087272,
          0.9344368963594347,
          0.4629227695885139,
          -1.638892187640552,
          1.5105744300069783,
          1.0471514518540872,
          0.6865319686241165,
          0.5256465729704519,
          0.2754643863652664,
          0.03422487095636715,
          -1.8587362622427017,
          1.1089819526573803,
          -0.26709178115430837,
          -1.1287210582985183,
          0.1280442053702534,
          -0.19093224191695626,
          -0.5956120167736912,
          -0.544945865253488,
          1.0727829977447336,
          2.387183534518184,
          -0.5318548681055434,
          1.0312327295673207,
          1.7192988359200987,
          -1.017454590725735,
          -1.0288540646320088,
          1.3772380763936238,
          0.4060589616336383,
          0.7833838303927747,
          0.6320027225465791,
          0.9231157917976173,
          -1.312308386619044,
          -0.7053547329898341,
          -0.9716311759941757,
          -1.0402199698486554,
          0.3094319769356789,
          0.3271874925480216,
          -1.2610630568373409,
          0.23953308128630535,
          -0.7303849082919978,
          -0.32327929905856323,
          0.7294796060921872,
          -1.1235981880610018,
          0.6485972964414898,
          0.7390431095095851,
          -0.2056246880193559,
          -0.04787527999750216,
          1.590249216149072,
          0.9354391516009701,
          -1.6718260486023178,
          -0.6211980257191938,
          -1.2027112973515954,
          0.6610273995780764,
          0.6624897037773971,
          0.67731977968151,
          1.8630649626887363,
          -0.9909742701291572,
          -0.42172524067127487,
          0.7608890308769294,
          -0.3673225542942185,
          -1.2590194272979882,
          0.6670975453538438,
          1.0601068715871733,
          -1.0576296763464037,
          -0.051882293707114016,
          2.3339475461131562,
          0.5813325386168285,
          1.5880225596652784,
          0.40931812201323603,
          -0.8044839287253784,
          -0.2949669028356761,
          -0.7839673431815811,
          -0.6473490717051811,
          -0.7046907148086624,
          0.1330713578570204,
          2.2384387733668745,
          -0.5802133904212046,
          2.0683200338771583,
          -0.4248171902254365,
          -0.5308162356227901,
          -0.6949129629795437,
          0.25308838368027425,
          1.2284854619253827,
          0.2131937642772231,
          -1.519197805010563,
          -0.13190018329549086,
          0.3972802554721439,
          0.5757718946665505,
          0.0347311100046312,
          -0.1434288521403374,
          -1.4874595176727123,
          0.552433689000167,
          -1.2180355839169792,
          -1.1640530553903836,
          0.6244268319727897,
          -0.21917488627146586,
          0.9351059380134908,
          -1.0462580786538713,
          0.9461308398374461,
          -1.048038324033273,
          0.2131802725157713,
          0.4173976521954686,
          -1.8554445310071688,
          1.3014920957554228,
          -0.04009912280514536,
          0.2394219065947517,
          -0.8956580519700188,
          -0.0051490292471089395,
          0.4763614425289523,
          1.9113146975980786,
          -0.6520088609456065,
          1.2586811584129467,
          -0.6629039987309576,
          -0.09149026532277799,
          1.4999237963904297,
          -0.3174127876152855,
          -0.5740399095918169,
          0.20398948651096724,
          2.0373373028248967,
          -0.9877223010637187,
          -1.040290131315661,
          -0.5080221163485138,
          -0.7384533248910716,
          -1.1482922963297233,
          0.8469831241888449,
          0.7955505290656331,
          -1.9911605335753444,
          -0.36408546402528225,
          -1.0381800525618023,
          1.1756452525355683,
          1.368157981261588,
          -1.6859223719753635,
          0.6084054928298983,
          -0.3227590643496207,
          1.277190280807642,
          -0.19314728574116177,
          0.47022956923892534,
          0.7724291747750123,
          1.4495338023537223,
          0.07106256606500135,
          -0.17607735027017726,
          -0.7616213313022723,
          -0.8118064411561364,
          -0.4950548758336936,
          0.10917828547919554,
          -0.9204881340320397,
          -0.30708559044171196,
          -0.19350243557985167,
          1.1079602206173642,
          0.6722634614335369,
          -0.412364958552716,
          -0.31054482956642177,
          -0.1846259323828275,
          0.12314479140828752,
          1.0690954312528445,
          -1.2944563436526164,
          0.08582603761395137,
          -0.4633198865078152,
          0.2418325309845005,
          -0.4623365604621876,
          -0.4095133691990576,
          0.8491592918773664,
          0.3692124346494555,
          -0.7411971778769356,
          0.23781120403222908,
          -1.5622876000531876,
          1.2321280537373174,
          -2.162157235900094,
          1.5880583737100349,
          0.11722743393481676,
          0.5538860907978291,
          0.11904796992511066,
          -0.6407348897454795,
          -0.5204795598762675,
          -2.4617549236950476,
          0.4048767709134693,
          -0.21883793261395867,
          -1.4252204615582373,
          0.7085336058819839,
          -0.0744723983747202,
          0.4717781575858256,
          -0.9749935255394084,
          0.021909145570988817,
          -1.0448769183142743,
          0.6224195475673775,
          -0.07063644848433884,
          -0.5816894390391296,
          -1.0679638218511815,
          0.8874180483711174,
          -0.07160893795047098,
          0.2353426368459618,
          0.596522376167215,
          -0.4558301851258487,
          -0.443125383830989,
          0.3503129483890482,
          1.4187332999626285,
          -0.2944112980659939,
          -0.04754747012625862,
          -0.535262024709383,
          0.5004547281125303,
          -1.2018986647706067,
          0.2917844312770222,
          -0.006227602872022015,
          -0.4593434433758745,
          -0.7506209470365367,
          -0.1857238764951863,
          0.9789208960145254,
          -0.10805454049053016,
          0.4695317608819761,
          0.08089565692680263,
          -1.2393846811600844,
          -0.9307419545945406,
          1.25450847614337,
          -0.5424675570608244,
          -0.025117810655183877,
          0.5951988842080667,
          -0.19256784497784526,
          -0.7391243207489371,
          1.0491194978548313,
          0.03526754547296868,
          0.30574845259526645,
          0.04826647583841954,
          0.8993554936057,
          -0.49158878804957157,
          1.9446183431039505,
          -1.1798993362028163,
          -0.14199425546166825,
          -1.24452704312666,
          1.671569513613307,
          0.08122196223497692,
          -0.6868208695732413,
          -0.9838277002217687,
          0.29530796316629365,
          -0.040617111672854436,
          0.4280686565035837,
          0.5772807848266033,
          0.47868016185819245,
          -0.6993009188231738,
          -1.1461240109144042,
          -0.3390083531276764,
          0.4614986202182086,
          0.9503939763225169,
          -1.8661913710117974,
          1.775964822554657,
          -0.07241238998178624,
          0.9040084273127009,
          -1.8962565287741098,
          -0.14583136069186262,
          -0.9946750083425767,
          0.4115791532566667,
          1.0943940164657566,
          -1.7847478832412351,
          -0.9091830270928224,
          0.8981881485622514,
          0.00212952693138946,
          -1.8838885785209953,
          -1.7246825275586357,
          -1.5039820600369642,
          -0.2563273551211929,
          0.5129701319161448,
          0.24024207590259408,
          -0.6954277889884849,
          0.6566199867085032,
          -1.63475274517347,
          1.9139359631040918,
          -0.6166219488526746,
          -1.6442773939431412,
          0.4172364771520446,
          -0.9242809783617181,
          2.263501335410457,
          1.1468916639385829,
          -0.8492832148711764,
          2.6746394612007127,
          -0.5929604902735894,
          0.2685046194768039,
          0.6175794390475491,
          -0.6421181209544087,
          -2.0641968869841283,
          0.4298403563299663,
          -1.7248157053028612,
          -1.3180767417387174,
          1.5402032433797295,
          0.21801912786170677,
          2.088055570195763,
          1.175710761385798,
          0.14946500396879486,
          -1.5606667554114428,
          0.149284035069341,
          0.7241059370315759,
          0.8836815099464213,
          -0.10836637947442254,
          -0.033935711437491294,
          -1.871962746201336,
          -1.024157983115307,
          -0.36385582854317794,
          -1.043355311902246,
          -0.192989207476351,
          -0.8614376719042562,
          -1.1492588344439028,
          -0.8493016479836398,
          -0.28541995891485994,
          -0.8454304891230412,
          1.4131510253884978,
          -0.8780168889023724,
          2.0716164099313166,
          0.8418873352944184,
          0.13167348745875102,
          0.13754269756608695,
          0.2528104501930097,
          -1.215108731900456,
          0.6733351067296964,
          -0.4820664633053476,
          -0.2561856923008758,
          0.7233595064985004,
          -0.9078466355574859,
          -0.21831617876065595,
          0.3618431741474824,
          -0.23777922507003124,
          -0.6462519896277223,
          0.8691980341420769,
          -0.5964830644680424,
          1.1938775442324099,
          0.25460251508795095,
          1.7074262922161398,
          0.34447040707109994,
          0.6035402969211822,
          -0.41192559591339795,
          -1.9847682003307998,
          1.4348316108956842,
          0.5126515505310855,
          -0.31907452663318153,
          -0.7326113656477676,
          1.2556947794377835,
          -0.7975068175904857,
          0.15633321770466124,
          0.9957983936821205,
          0.3166890050402142,
          -2.0410258749293844,
          -0.6827689689108543,
          -0.07080685063702416,
          -0.930754946486815,
          1.8287446033627885,
          2.181639836646644,
          0.6360053186198733,
          -1.0313454385004974,
          -0.29864160953030916,
          -1.155216077237776,
          1.2806761037614618,
          0.24671905793791335,
          -0.9993584304478027,
          0.7200340751527595,
          1.7734867805295924,
          -0.18209461397552906,
          -2.7233213399570575,
          0.5878747363810823,
          -0.6747190432333428,
          -1.1108836944196998,
          -0.8461144312781256,
          -1.7030763248025664,
          0.7381129135084239,
          2.6963746765634533,
          0.3664386743678953,
          0.22448581597711595,
          0.22135526481412782,
          0.8053872377657642,
          0.3455293775624038,
          -1.0949667853969562,
          0.5309359997973018,
          0.08417826842094038,
          0.7659093950584678,
          0.4388726776800961,
          -0.604109713963576,
          0.9393542991268398,
          -1.677022308612755,
          -1.627389363820721,
          1.0421522060024049,
          0.43448668701279425,
          0.5514315208320618,
          0.31248107564629,
          0.29019637462672626,
          -2.277211238124614,
          0.5303733773264415,
          0.1505084241560182,
          -0.44481373085894416
         ]
        },
        {
         "type": "histogram",
         "x": [
          -0.4513443883083075,
          2.425465357055785,
          1.4484354147795067,
          1.5320734853427869,
          0.21374266515475038,
          1.6301143076374771,
          1.3768423194763537,
          0.8449590709471141,
          -0.9075023884663935,
          0.32958231964987617,
          0.38259362260067575,
          0.07054346673746914,
          2.0142633753908674,
          0.25588478677209203,
          1.365698353102218,
          0.6599188531214225,
          0.48693935317410875,
          1.7753493196432588,
          2.3297741470022792,
          1.1371804204721165,
          0.6621337761072852,
          0.429074242629392,
          0.7516593733404874,
          1.406679627615165,
          0.8891479602276602,
          2.241043531873311,
          1.404694384860921,
          -0.6215895498777164,
          2.1185017437995475,
          1.7813647579655825,
          0.2710875904176532,
          0.7456996317383862,
          1.0673004977270244,
          0.7606750607184689,
          1.4295170525984364,
          1.3542390952304584,
          1.0152484002916848,
          2.892481770114185,
          1.8601486938947098,
          0.4753063924354586,
          0.9070775331221723,
          0.9352870123785306,
          1.3948811827117815,
          0.6751676967512672,
          1.3113184788033354,
          0.9855029823737705,
          0.9106183461514552,
          -0.48606360943760873,
          2.0234129213338625,
          -0.5273770316296513,
          1.1695400246659768,
          0.26337733523770746,
          2.000152376796012,
          1.5255789949487402,
          0.8270380762768879,
          1.1713060265024275,
          2.17576762015185,
          -0.18289198329175127,
          0.6394900345872775,
          1.3761561749574251,
          -0.25667011549033414,
          0.8754734347189932,
          1.433437271192048,
          2.6776818358741723,
          -0.3370738182793813,
          0.3061955240205022,
          0.4189142764842805,
          1.321597853342203,
          0.5103937850233333,
          1.0516778016105357,
          1.8683918372667974,
          0.2758762210304395,
          -1.846355828035465,
          2.0352616928027683,
          1.715535555966559,
          -0.09285760078070404,
          2.1141460137130226,
          2.5806831725818666,
          -0.028455318692554687,
          -0.6721949194075167,
          -1.3048098398555084,
          2.1762454324265756,
          1.5843384670365912,
          0.540632449227932,
          0.5205124561266035,
          1.2804666255041002,
          1.2787083609065673,
          0.014912498424320297,
          1.7042513902051066,
          0.7319908256499326,
          1.1018313696278645,
          0.7367793436495561,
          -1.2159794583894357,
          0.7456023297713057,
          0.15105835171911952,
          1.631155785837778,
          1.4741363529300169,
          3.040821038645835,
          -0.5794042404501374,
          1.9416578043263373,
          2.362274969866225,
          0.7280139887205962,
          1.8092583829270867,
          1.6718496789438282,
          1.2247770807449831,
          -1.0409174795832734,
          2.3025761235834934,
          2.120518393046428,
          -0.11861402572213309,
          1.5765298934393672,
          0.8915990979087544,
          -0.9426048174691282,
          1.6835951804951803,
          0.9512953457972756,
          1.1068580348616548,
          2.040181883975131,
          2.013296834905055,
          0.3753514224500334,
          1.5274007613661693,
          -1.3767674317737884,
          1.8352386897504673,
          -0.11328602994844861,
          2.435738271523313,
          1.0866077203238502,
          1.2262676779149968,
          3.5147368939112313,
          1.7819174434537537,
          0.7109090284029369,
          1.9481254296391541,
          0.8596494645231569,
          1.7540828236188641,
          0.38727521512956364,
          0.7661304957802415,
          0.8372510549562544,
          0.925035925465215,
          -0.2838682861559936,
          1.6178960852714526,
          -1.565258466166834,
          0.12111205289021232,
          1.7620565514297617,
          2.120343211285317,
          1.0690726523424607,
          1.8302548087609805,
          -0.18510439772382425,
          1.1873598878851068,
          -0.10566713163296715,
          2.066872121964561,
          -0.24881662853803332,
          -0.14993581249759735,
          1.705861409065963,
          1.5844409353509485,
          1.7846517988424209,
          1.7564263436466905,
          1.5325653091885862,
          2.319024386613105,
          1.8355651106763102,
          1.0872989247649003,
          -1.914027819163275,
          1.7353308952552449,
          0.32524968680861466,
          -0.322817473306805,
          1.0551528862338782,
          0.19249084470981903,
          0.02814784357972322,
          2.72998355307635,
          1.9516119647082304,
          1.5607119708246762,
          1.0623903097995526,
          1.2104031262595356,
          0.38365717093130824,
          0.14648389270308138,
          2.448710789213653,
          1.7509950562441983,
          0.3025706890278119,
          0.3379953380853917,
          1.7759106034883723,
          1.9583413821218136,
          2.1391979720861753,
          1.0766475312094237,
          0.32134301916086483,
          2.0651566203350606,
          0.8710957151611194,
          0.04534837086251198,
          1.262781487212845,
          0.3021882034311787,
          1.8907271956503986,
          0.41357148094703666,
          1.5150484940022029,
          3.6703734187696995,
          -0.059760331629406416,
          -0.03223941965128896,
          0.2386321995329429,
          1.450140747967358,
          -0.6286641302847737,
          1.7343400205729902,
          -0.3622841743962635,
          1.3200207419770318,
          1.6156458842989188,
          1.6159100620295566,
          -0.2257845484488663,
          2.977248890526568,
          1.3669451210527082,
          1.1328168362228848,
          0.3988759301554453,
          2.441874844664751,
          1.268915190959666,
          2.0134429362598114,
          2.131229270182036,
          1.5103325783548194,
          3.4500349796934464,
          0.8576718888373699,
          0.982927894539771,
          0.9114678878621141,
          2.2520275116476,
          -0.27047451513945786,
          1.8565365411229116,
          1.676915254294836,
          0.9783745792399922,
          1.5226253058508665,
          0.024670721664389883,
          0.6172584873514132,
          1.6070186282065135,
          -0.7684709489098605,
          2.111635070005394,
          1.9358369714847097,
          1.4503413457419445,
          -0.14602218382414578,
          1.3590132677245872,
          -0.5602298931439715,
          0.8553321652313493,
          -0.32638707412139456,
          0.06707237236336894,
          0.8117940049813404,
          1.2923075065563414,
          1.2517209532243214,
          1.4806370650742133,
          -0.08746148129702003,
          1.477452641402782,
          1.4358009387298964,
          1.7634799279042572,
          -1.4844202321119693,
          0.43054598743366357,
          -0.06239652568909726,
          0.9219803916356138,
          0.4434942939674067,
          0.15518036043644523,
          2.7377966092515695,
          3.9325446605403083,
          2.9227581316345494,
          -0.07716028941607944,
          1.9005815371909391,
          1.6504336218088937,
          -0.6105812873816696,
          2.0496162987031457,
          0.793155980505436,
          -0.19971128024035734,
          -1.3732497084182596,
          1.008993630540416,
          1.2889795855623511,
          2.1786905822559683,
          0.6367219725747643,
          0.2565522140480151,
          1.9009296341640922,
          -1.403611370354163,
          1.5748874386394953,
          2.3465191698321277,
          1.078309511499147,
          2.338959745721617,
          1.8565456947382182,
          0.22518854766806917,
          1.3281654801145317,
          2.3676928644532156,
          2.021741722060013,
          -1.0307645916850872,
          2.1094028335244976,
          0.16432598036426493,
          0.09642768984936045,
          0.8349111630379388,
          0.29701097918448716,
          1.4017524055050639,
          0.6005046111166894,
          2.2044670881566804,
          2.121080073928224,
          0.2501137255192383,
          -0.6402293058111108,
          0.8550780607743719,
          3.7832990540728693,
          0.6504721417177831,
          1.685206326082151,
          0.8291087132316908,
          1.528879167545489,
          2.052592624737749,
          1.5688393680514485,
          2.05825420655912,
          2.040971454085466,
          0.8893354691875827,
          0.5880442626099978,
          1.2516830295967112,
          1.9945058973446912,
          0.6735005502861298,
          0.13503501345528568,
          -0.10652536591726625,
          1.0291705298391085,
          0.15087416220748795,
          0.07329701426349722,
          1.4233103201863133,
          1.494128560094375,
          0.8160014124708902,
          1.4215348281751767,
          2.4128076207606943,
          2.243014508784168,
          1.7132999592273754,
          1.5633512430992966,
          0.06138114594400823,
          -0.1548341927612642,
          0.8096744584776562,
          0.9885952999623383,
          -0.828976909927283,
          1.2874037031266632,
          -0.29927340462201757,
          1.933127373720215,
          0.48397977937144365,
          0.3147795397583314,
          -0.8063690311800364,
          0.6157812392125643,
          0.29007098324820624,
          0.9278354278047826,
          -0.6587905069164226,
          2.68957804429865,
          1.2992485622887726,
          -0.12238210099417302,
          2.3793045550786687,
          0.46432463761342335,
          0.49404733374089493,
          0.8498391422010744,
          -0.779868188701448,
          0.6020060425086388,
          0.47940144778030325,
          1.1070101113474176,
          1.4284044287099322,
          0.1757018187053695,
          2.4854872416990155,
          1.322748196970243,
          0.9778218176068988,
          -0.005724909124236621,
          0.42840488451585246,
          1.3471931948461553,
          2.9968624817857616,
          0.7549879949886354,
          -0.47440821727973237,
          1.0045139613625518,
          0.6085071598916836,
          2.9781388157933097,
          1.9740362868942765,
          2.862493780692067,
          1.9045538672486915,
          0.9111192519115756,
          2.925121058205044,
          1.66122014779343,
          1.1960799623244864,
          2.6230444300166575,
          1.1749082772169044,
          1.622678348276254,
          2.8739364959208302,
          1.2969991770210922,
          2.435235042419027,
          -0.5839408988411485,
          -2.08392256331433,
          1.151208660406332,
          -0.40437192256732213,
          -0.29214100946619936,
          1.2626143491059991,
          1.546705158889703,
          0.9221566900395517,
          -0.311174229800955,
          0.4452774638657032,
          1.8083435673301458,
          0.13586095741488058,
          0.7116561795720279,
          0.8774220373627484,
          2.157648271592151,
          0.7620159473758148,
          1.6178818438127316,
          0.3027868826633674,
          -1.4850991621253873,
          0.5701818837933303,
          2.385227728290334,
          1.857358156809879,
          0.33261118930940137,
          -0.2608989054185573,
          1.053255958815489,
          0.4918715538276499,
          0.4637281802228087,
          -0.36281581860602596,
          1.6162978616014607,
          1.2801221679624402,
          0.4034114955931414,
          2.1291462163467227,
          0.8321232120310335,
          0.33275950995015224,
          0.3257465030715452,
          0.12167872395911983,
          1.6096516896372624,
          0.0465301998667641,
          1.2291382905459833,
          2.0452005422008233,
          0.33034222489865084,
          0.8634108286035304,
          -0.7298535311379606,
          1.1900934760362896,
          0.30818422225047404,
          0.884598968172993,
          0.4231968719807464,
          0.85343957723313,
          2.914051176360246,
          0.9865331686329206,
          -0.47712203601819536,
          2.45429722986152,
          1.755766547549363,
          1.9917567280364086,
          -0.4552673814707153,
          -0.5286862710100988,
          0.8188722120222203,
          0.6407862083728721,
          0.8306251621176197,
          0.3295908281731792,
          1.5147923442854203,
          1.9708744603702217,
          1.2962192947944569,
          0.9012440959581569,
          0.42178111194137746,
          2.8037905396464806,
          -0.13805425740282584,
          -1.022612903491963,
          1.345183513910236,
          0.7217327587508015,
          1.696497114246598,
          2.415506305563256,
          0.7910840841063256,
          1.9106401152406993,
          1.644005928261267,
          1.765232597906591,
          0.37410225517355256,
          1.6378154011715873,
          0.450721251381093,
          0.20424145421509943,
          0.8306378689558692,
          1.2861429739754624,
          0.4509936378412227,
          2.3896902687104706,
          0.8315575668783864,
          1.0375417464399697,
          2.1203952549343743,
          -0.8199164101395928,
          2.6699349300486155,
          0.894635364587834,
          1.3932347126346252,
          -0.47894058930746586,
          -0.7164328511319371,
          0.2038372786237761,
          1.7531211998432066,
          0.5960568963307484,
          0.48084163106808653,
          2.6512873295939987,
          1.5125398920941375,
          0.49842210652575614,
          2.082630738942878,
          2.3317210610841936,
          1.3075076149068643,
          1.113126392037565,
          1.3499843805889062,
          2.9563166605470457,
          2.4261014169055857,
          -0.12349132521673378,
          0.09823930681687898,
          0.6215574795024997,
          -0.8488045595908786,
          0.09477764376815745,
          -0.44535503833013856,
          1.8725573274491785,
          2.221636498283653,
          1.5437775346395681,
          -0.663963297735048,
          1.4152369809459704,
          0.6596678552050146,
          0.508144446453074,
          1.0576682793165135,
          1.827218478933338,
          1.7215099211449179,
          0.3866819838651978,
          0.8580675030755043,
          0.29031136649159717,
          0.7421301987223595,
          0.6479269740457239,
          0.674911725205576,
          1.2107995112852081,
          1.8144654955973958,
          0.727058862358553,
          1.7352092449683434,
          2.5059776368321964,
          1.9430390738342347,
          -0.3719544752041155,
          0.39062840971396584,
          -0.3456314605155397,
          0.6716439186607883,
          0.08489998594866921,
          0.9962217280561523,
          1.6465999078562559,
          0.4027835663883319,
          0.8126776128352129,
          1.607992295015329,
          0.49137187892659884,
          0.5501744181267175,
          -0.45973106011438136,
          0.7698833593936697,
          4.082249615926337,
          -0.27580677784443175,
          1.9739828356299993,
          -0.623801216435653,
          0.8688778863953908,
          -1.0207482077512244,
          3.479391183130377,
          1.2761912302863467,
          1.9918750243255898,
          2.183232316232739,
          -0.6415049359191118,
          0.6335488770083199,
          -0.40057731134567254,
          -0.06600604675070887,
          1.0759877814484513,
          1.5205485929194726,
          0.7071104491671061,
          2.124940488207867,
          1.2574079089536494,
          1.3223992473127104,
          1.3437163203697136,
          0.9596499830806421,
          2.4161321272945617,
          1.7077897901650454,
          1.0437866889885972,
          0.03932312646335301,
          0.26678172248312026,
          -0.14878239595978826,
          0.686704656678967,
          -0.20176177976723375,
          1.7175766055105544,
          1.1965263521442757,
          1.5057447861576918,
          0.9128740652743378,
          0.7037899743481297,
          -0.07625644855478786,
          1.8354370029791176,
          0.6808586940535271,
          0.651783189246442,
          0.47034364786378,
          0.49468312872278886,
          0.19033420021610903,
          1.3520901137297294,
          0.5579596762657704,
          3.084711559348543,
          2.8281367634064627,
          0.5048895620484664,
          -0.08124797285204166,
          0.25352278615717305,
          -1.7333059213988267,
          0.09165021895120529,
          0.29892352476085093,
          2.1070260412402604,
          -0.024032327522351515,
          1.9159924110868634,
          1.0010013832708695,
          1.2504036915690073,
          1.1261948576346983,
          1.002458597752223,
          0.25191684431882244,
          0.8536876831612963,
          0.3944122190900795,
          2.0651848973672484,
          1.8064392631163273,
          -1.4591884173997007,
          1.151254883866918,
          0.9297626057634367,
          -0.5532212422389042,
          1.1256595155836355,
          0.2820460409124085,
          -0.5394569036537578,
          0.3035068176976886,
          1.3872308691610058,
          0.1355099725967578,
          -0.05545208757140929,
          0.9095280031472812,
          2.414912428549115,
          2.488731368246141,
          1.678081260060632,
          1.1832700522809185,
          1.2734304650981876,
          2.713433250685186,
          2.1300673953986635,
          1.4532390673089977,
          0.6774640690189928,
          0.2495892673295208,
          1.0115055888599396,
          1.502369377636838,
          0.33143191375607894,
          0.8776796139451747,
          -0.30131985857918697,
          2.588244529616111,
          0.16988059674970934,
          0.8545358356526388,
          2.377049002493193,
          2.0690084618256925,
          1.1635342764969816,
          2.8670271000160144,
          0.3333107757666469,
          2.407489674031864,
          0.2561914902068557,
          0.7512796843150186,
          1.5298850452669792,
          -0.6652763334511107,
          4.0814660295585234,
          2.3319205648096046,
          0.5347290917427752,
          0.9357969179226391,
          1.0858735556740422,
          0.689716533356772,
          1.8482484015724299,
          2.7136135602640508,
          3.0408773080142093,
          2.250572397753083,
          -1.078013444931881,
          2.0575153895203773,
          -0.016410663857758134,
          1.43607446318901,
          2.573937472930798,
          2.3545684388218975,
          1.0837728375290987,
          -0.4650190844157447,
          0.680558906586572,
          -1.3768955306238189,
          1.9402223396224834,
          1.119978872614716,
          1.5249554185422864,
          1.3786117999085439,
          -0.14335038766019248,
          1.2743851812245892,
          0.790532260070266,
          2.042367636135011,
          1.0722004971242518,
          1.7869993983985242,
          0.9524760705789446,
          0.8580724826133455,
          0.6021305745230807,
          -0.11780516589374024,
          0.7609707939128477,
          2.50121710903607,
          0.08219500000712054,
          1.315448819850112,
          0.4670002237225722,
          0.26344359759648883,
          -0.08550194799242794,
          1.158478846450237,
          0.4213136079710599,
          1.4232314402984916,
          0.9635089588668009,
          1.810765653819408,
          1.2619861874672833,
          2.099946696832893,
          1.188341577662006,
          2.916626150921928,
          2.6833200413641407,
          -0.17659790136850684,
          0.9984422477478692,
          0.9161994419707769,
          -0.05539056674767728,
          -0.7967056568656381,
          1.0840809808529457,
          0.3695957917570897,
          0.07872174057232473,
          1.5699177050053965,
          1.2249676928872515,
          0.20904207392977014,
          -1.2216083824487258,
          2.3978637853661273,
          1.5667998658069586,
          0.5465276658453946,
          0.14531221784895598,
          -0.7869255073340515,
          1.7264647336897825,
          2.1551193301623233,
          1.8160177308124885,
          -0.6247579198628166,
          1.7887115128350857,
          1.0668094522473046,
          0.756978451985832,
          0.5494717270000464,
          -1.3925854170489425,
          1.3037943424563894,
          1.7878326525466317,
          0.8674070607884232,
          1.3099695693754723,
          -0.05985870179670183,
          3.573024968027374,
          1.880947558155142,
          0.8272919163409266,
          0.6559710515517843,
          0.9458546707756413,
          3.349793824363007,
          0.49711118345481276,
          0.15869027985569162,
          0.8754507532451924,
          0.7057222910080352,
          1.3386334610506954,
          1.5381004039578463,
          0.36706199663391936,
          -1.6254204135934085,
          0.3963903990287122,
          2.819409856469859,
          1.4180411222376856,
          1.3286479925236991,
          -0.451856625816508,
          2.0710671433278396,
          -0.6427395122999231,
          1.104647306546502,
          2.004709087129868,
          3.4811746103754113,
          1.077509875267616,
          1.1488118621155958,
          0.6319843266629762,
          1.6536358376685762,
          -0.009745698965623495,
          0.0037026220627587314,
          2.272178094030521,
          -0.927493788180819,
          0.586636345930504,
          0.21734115948772337,
          1.3816136222922062,
          1.109140790403363,
          1.9615983008895794,
          1.1696822858337266,
          -0.4178370799124562,
          -0.5040783697827946,
          1.7640961265218966,
          0.9108306073129566,
          1.77747134923412,
          2.1213077046511395,
          2.626151267636378,
          1.9281656939163527,
          2.061601571893081,
          0.4749503542488419,
          0.6810357637125715,
          0.6962202805798752,
          -0.2251814838984194,
          1.5729019538633908,
          0.6819642102172281,
          2.1125985925226494,
          0.5180604971677871,
          0.5507535053174044,
          1.0709212611095889,
          2.385926661757008,
          -0.7904704236215148,
          0.9651144599005064,
          1.7412715180558092,
          0.1613132666760968,
          1.5309353372316479,
          0.655024387311937,
          1.2684399239240876,
          1.0357833993847552,
          0.511493051970312,
          1.0620850653911746,
          1.0726222573378932,
          0.7934573457568899,
          0.4778740326211085,
          1.2092986857124275,
          1.4223467061939334,
          4.058142770042974,
          1.595587787419595,
          0.541275192052725,
          0.7087400577049743,
          0.25900868654519904,
          1.667006681541469,
          0.5019858895673028,
          2.284643389151775,
          2.1390766613979038,
          -0.4158148542533313,
          -0.3417977134187473,
          0.7944049112269823,
          1.9358098805735715,
          2.2698412203802563,
          0.8571792834092598,
          0.7161148130248465,
          0.6744247135254793,
          0.6025778682871292,
          -1.096043915901543,
          -0.5871210750486426,
          0.5689128526883729,
          1.395264748968514,
          -0.16978971960019984,
          1.021338557856634,
          3.2397522780276784,
          0.2147990123728244,
          0.5771924568374197,
          3.1023825901654174,
          2.8669149404318963,
          1.0085609230782682,
          -0.24932335100328595,
          1.1462571131619053,
          1.3515148758744107,
          0.7146341007104338,
          3.2251257913580984,
          1.4295744314933339,
          1.4254448912301685,
          2.41399001071642,
          1.0681040480883417,
          1.511002651145056,
          1.1065542383818168,
          -0.10446969724258381,
          0.3250176414088253,
          0.8865596180808383,
          2.058985377641047,
          3.3221805079559084,
          0.9931486620385304,
          1.4437120040962892,
          1.5751723743700257,
          1.4910746509525477,
          2.609684238244899,
          -0.3709362270952763,
          0.42468919709095543,
          1.995731028310114,
          0.6870965647288549,
          1.1551657480926438,
          1.060132373063153,
          2.4801080898611225,
          2.369440870500707,
          0.6733880995525066,
          -1.24050060475893,
          1.8961784026727573,
          0.0875894339228046,
          1.180125137299875,
          1.6129151703355724,
          2.164246908576267,
          1.1924027878814223,
          2.5154701865195843,
          2.581817785524316,
          0.98575303078403,
          -0.060226976689023104,
          2.383389092482943,
          2.0047361193091073,
          1.020519530178346,
          1.2496576750222683,
          1.9455516750564015,
          0.3934435265187344,
          1.8768962073336815,
          -0.6197247594008388,
          1.619225280320674,
          2.0477936442091704,
          0.3027992003373199,
          2.153924720630055,
          1.406747843688846,
          0.7596966464321752,
          -0.784467851434659,
          0.4969859896564417,
          0.03759875805533519,
          0.08237631903023135,
          2.0337400011807008,
          0.7167601273837243,
          -0.5081486118926664,
          1.4771514899405784,
          3.009158022270955,
          0.14873454541977538,
          0.6029864224267073,
          1.0098386253025688,
          0.7209764727790298,
          0.01097276221690191,
          1.917478619344672,
          0.7744406781573868,
          2.4743255649916045,
          1.2794874680452097,
          0.9292987813697683,
          2.4801627755263667,
          -1.218025605486679,
          1.1539500926775772,
          -0.3086968962992964,
          1.3598135425687483,
          2.04436482230711,
          2.2035778446941983,
          -0.8360227862279042,
          0.20651056627855457,
          2.457967676459601,
          0.8243535791518373,
          1.3704462790644951,
          2.3213069367855557,
          3.406812725797454,
          1.9812066928332195,
          1.263705748487975,
          2.3039148755697845,
          0.8310608071542949,
          2.0833261609793023,
          1.6047905073393494,
          2.031184830176744,
          0.9353617624671647,
          1.1117505666177514,
          3.380805330370456,
          -0.09598534650813151,
          0.8931937376616979,
          2.051110038043503,
          0.579355303943112,
          3.3262375866656573,
          0.1407587285914189,
          1.1618176548828583,
          1.9387243229266202,
          -0.26046526937777115,
          0.1941510282395037,
          1.972208070909214,
          0.08069021383402586,
          1.3769001401328436,
          1.0955328099130965,
          -2.3469826365581583,
          1.3644177487232656,
          0.8878265777743937,
          -0.13395043267157836,
          1.2186518769439956,
          -0.14211243691220776,
          0.47290403663848257,
          1.6703148392061167,
          0.9826946073790385,
          0.3476811282686062,
          1.8211387867199647,
          2.566826360562687,
          1.343342489855437,
          0.46172772005949325,
          2.278110074822907,
          1.9299110996035642,
          1.4503617622642033,
          1.9147188264396853,
          1.6036619299935069,
          -0.38587917066408073,
          2.619910050328902,
          1.900386708588678,
          0.05598722568491721,
          2.032275821879198,
          0.11620619589954773,
          -0.7720057982459192,
          0.7162643598072391,
          0.7846401570039419,
          -0.2821571113115473,
          2.9136659458736585,
          1.7888700991762707,
          0.6023063662651363,
          1.9034254059274311,
          -0.5956905186507186,
          -1.170263109765068,
          1.2268824051915577,
          1.0086732298987309,
          0.7679155398851448,
          2.9667902804419146,
          1.0168814223745493,
          2.2867399731194906,
          0.6608657295920999,
          0.7797730744747557,
          1.1575623195639286,
          1.6903085007296912,
          1.3798660158915683,
          1.4520054179620328,
          2.9293237081524364,
          3.6015506955043644,
          1.9204472484747055,
          1.9235516703195499,
          1.5958378938760847,
          1.6255543120198754,
          1.163167136921509,
          0.7866588496039753,
          -0.3952119627452182,
          1.605249682820936,
          0.546221186305065,
          0.9353908365110556,
          0.8878745882363944,
          0.07969459592935768,
          2.4308978619866806,
          1.1823880048277218,
          1.3470661340473429,
          2.271944945193768,
          2.9556541256878597,
          1.7942659568451549,
          0.9586691982105723,
          0.1307048479083096,
          -1.277587064539535,
          2.3621784605212017,
          0.9959240527794325,
          0.7846850697604268,
          1.604981114394119,
          1.114984266122271,
          1.091828625180544,
          0.9805723003193892,
          0.9981463205881337,
          1.534070555660246,
          2.1136877292595626,
          1.9968347777774995,
          0.3599651364623807,
          -0.8020878828587117,
          1.830389387457921,
          -0.8183208254038647,
          2.428913196844157,
          0.3054056316012792,
          0.14000885672197771,
          2.3850087859128797,
          -0.5179691843011491,
          0.8194648577908938,
          -0.06470116097740086,
          2.1060944921360147,
          0.4968204211465823,
          1.8247267070536357,
          0.2793512184569553,
          1.4895279216128483,
          0.6726942589016007,
          -1.253919927322828,
          1.713613694112953,
          0.1950122335001453,
          1.3526226643068942,
          1.6211009779827663,
          0.8314944012441907,
          0.3498446223706341,
          1.7506137755783917,
          -1.1038990290626578,
          0.31466206483323433,
          1.460115155470846,
          0.5216252990337397,
          -0.4242710756600392,
          0.1290065949657352,
          0.7443830957518724,
          0.14663495542697635,
          2.6838277719998995,
          1.9279947964039215,
          0.6757443180965443,
          1.7492831595557474,
          1.3390914895065587,
          1.6976576610169252,
          1.3587025786245832,
          3.186398676458979,
          1.014698506354084,
          0.9112723822835982,
          0.611243413986539,
          1.9437462593083161,
          -0.35363491646619494,
          0.602588734233869,
          1.532029098970073,
          0.24872128979129904,
          0.7834639763788719,
          0.3259385959955283,
          0.8879910402428376,
          0.04681598733069714,
          1.6019542556773838,
          -0.07894258827663281,
          1.7721348563690973,
          1.5636203580393513,
          0.035931322129189924,
          -0.08086386349370023,
          1.0233095160974421,
          1.2100364354470992,
          1.1817288863164443,
          1.3993993030280043,
          1.1494706292582177,
          0.5891157789632244,
          2.119102330303899,
          0.7608191839713387,
          0.3695222455852565,
          0.4001011124436751,
          1.2410120584398783,
          -0.062263876865031875,
          1.8858963764495786,
          1.6069793314427177,
          0.47854134289168926,
          0.4742961854729506,
          1.2483275379438132,
          0.40261554426706503,
          1.9204778027410216,
          0.6025018036513905,
          1.9133596123568406,
          2.194153077197064,
          1.2077096857430025,
          2.7174168683577857,
          1.0245680770020908,
          0.4667766557707368,
          -0.5897231553584781,
          1.8786082475885444,
          0.985489490888382,
          0.5747996488148656,
          2.512440195351914,
          -1.742235703287486,
          2.112922440098176,
          2.2408170291619145,
          2.0421804455065375,
          1.3054708652939548,
          0.6784182373293774,
          0.2957028782567058,
          -0.48777744441599524,
          0.6264473102380117,
          2.100530333687926,
          -0.7379915138239241,
          0.2209456361538933,
          1.9738855587586728,
          2.205622716220514,
          1.3253087189463482,
          1.1104651868224353,
          0.6496760865999232,
          1.1127006692409682,
          1.3138513303107535,
          0.5024174034868556,
          1.7922517079475133,
          0.46390191923871626,
          2.1298720822505612,
          -1.4199680608805494,
          0.3101153387214147,
          2.1516839744687917,
          1.9262105741940876,
          1.5428199794257766,
          1.0400482138837794,
          1.5927135805015478,
          0.6092318969182211,
          0.4421575423682129,
          0.9494048667460986,
          0.49043387313407605,
          3.4576245390852853,
          1.3473310831814642,
          1.6489930478564163,
          1.9923751791039637,
          0.8868436130608781,
          0.8067311009945264,
          2.163534615504738,
          3.0954489058122983,
          1.7361867175040393,
          0.2942486574523928,
          1.5427620686877601,
          2.6502271284689876,
          1.511702463483046,
          2.396284162457288,
          0.26453109474399383,
          0.7076793877345128,
          0.7588591562391014,
          1.1768557346143036,
          1.7072584371198727,
          0.345290199243907,
          1.0604255400251295,
          0.44777385414095916,
          0.5422949075120855,
          1.1107942427051456,
          0.36543309928426737,
          -0.35980692662900027,
          0.1291496225767398,
          0.991871443113166,
          2.9641553978666764,
          1.6200610845427863,
          1.8933347590109406,
          1.5372704847019665,
          2.1554302194513437,
          1.8198148311789715,
          -0.12521248892136883,
          2.5123022233612913,
          0.25901498790292665,
          0.12417307045924553,
          0.974260021995763,
          1.0806348002242756,
          3.121568206989054,
          0.6732770599731432,
          0.6970796418577168,
          0.8142439090259871,
          1.8239681646354236,
          0.24227196708645193,
          0.42806916443679843,
          0.07476924850289224,
          1.3661589727019892,
          0.7511743395360309,
          0.3016202548521093,
          2.417536718523568,
          2.7958383342355884,
          1.2920212876041268,
          0.7290945891107049,
          2.601141609731145,
          2.1442710814188475,
          0.997157310842766,
          1.3044271802341858,
          1.177230415187775,
          0.7531923229781889,
          1.7557644632095477,
          4.053564626864681,
          1.2377192199574656,
          2.244136625677685,
          2.1662050791949574,
          0.3061024226244191,
          -0.46525512140684677,
          1.0383702460610649,
          1.2142775265423937,
          0.38780785249731187,
          1.6785930456177134,
          -0.22248924860451358,
          -0.23575098931052163,
          -1.0827688173210634,
          0.29586391292057557,
          1.148693892478953,
          -0.7272006232466672,
          0.6396396155782584,
          0.8861877369377802,
          2.1379852174585965,
          2.105391300545702,
          0.7125058549383714,
          0.30365102427380153,
          -0.21361111458998594,
          0.8589760558698528,
          1.1041856363901446,
          -0.31277684563577357,
          0.6134298754540337,
          1.529281827975243,
          0.23118740783027758,
          0.3113459159753814,
          2.273359051441008,
          0.43944706359677377,
          2.2619698452066457,
          -1.1354177639771454,
          0.7001511620114415,
          0.2397082082313583,
          0.713519429090997,
          0.8989482655652206,
          1.758911109528797,
          -0.10463541373428775,
          -0.0756379149473887,
          2.565832167294378,
          1.2581744994093094,
          0.4701370926172882,
          1.2834129548381477,
          1.287896476572598,
          1.0264693112831553,
          3.0345420619672847,
          0.10318870248300249,
          1.5053105905278537,
          -0.38107440996477715,
          2.845202775801419,
          2.3410444073906183,
          1.4976553246987099,
          -0.9051643166586447,
          -0.743241546815173,
          0.7541100488321097,
          0.8363100025160052,
          0.9311463917175375,
          0.9042996272592101,
          2.5345110458363953,
          0.165684176172476,
          1.28233629154079,
          2.035433023066207,
          0.47864164556156685,
          0.9182406344955075,
          2.5570915265870413,
          0.4618589081243337,
          1.6366804331309952,
          0.9367908733716942,
          0.5127364037139559,
          -0.34624983055127156,
          0.7502062077564794,
          1.4634621840993245,
          2.897382332278326,
          1.2322464580614538,
          3.590663593022519,
          1.2994920474294631,
          -0.6176492560764322,
          1.7095558221059184,
          3.597229661030471,
          0.3322420101077733,
          2.0204499030832586,
          1.7918463660845105,
          0.23068519242085805,
          -0.6046176427697958,
          0.5644503706542948,
          1.0880770257971992,
          0.2501594810911628,
          0.6862053609966097,
          0.955269218497785,
          -0.38624775005252454,
          -0.9820480140828507,
          0.9282357599698978,
          1.861667578488918,
          0.9787536502482418,
          0.8046442581917219,
          1.2014889551009578,
          1.2901269606256986,
          1.265929016800922,
          1.586794229067265,
          1.4038243122623688,
          1.0240127528893261,
          1.002257471368037,
          2.287492754094866,
          0.6054091637537949,
          1.5105264850965838,
          1.6881589794552867,
          0.607335571249515,
          2.1845089681902268,
          1.6649498035212167,
          0.3544707741716474,
          -0.18014890319637678,
          0.2839048174628682,
          1.6767820846826247,
          1.304959491193486,
          1.9482702553398912,
          1.5376875199907563,
          1.3938876060226246,
          0.5495144651352719,
          2.292597354234552,
          1.411886123746054,
          0.6795695195270601,
          0.8215974757010914,
          1.56133605951254,
          2.229751993450475,
          0.08808434333112036,
          1.5440467740832036,
          1.8967118444715867,
          0.05904027205753315,
          0.050612234369157516,
          0.02191173696339721,
          0.31962760108600974,
          0.26295889635215364,
          1.5186307805458616,
          0.8928534405415852,
          0.10541763990426423,
          -0.016560942593067063,
          1.6711028076164482,
          0.4419038360672718,
          0.5853559591867246,
          0.7826549730116763,
          2.235974528568315,
          0.5064187978920979,
          1.3351647744954684,
          1.5298829512875622,
          0.7131842483912356,
          0.4162033568021132,
          1.0411200061542967,
          1.2979690621655398,
          1.9720610131842868,
          0.4169015173832229,
          0.6958488368643692,
          -0.4991287100121484,
          1.4787670491533302,
          0.026892483581990367,
          0.41616954305121023,
          -0.0465274240265936,
          0.052261346042657086,
          2.293426440426657,
          1.4766474356830828,
          0.4926601207126359,
          -0.7175134674607553,
          0.5285321078303471,
          1.8634536472877903,
          0.11974979323299528,
          1.3563464018953786,
          1.3833774406295958,
          0.9327514835655922,
          -0.49524576157684685,
          1.2262868621831382,
          -0.48439525731228517,
          2.9705997665332546,
          1.6542420283402186,
          1.5406195124859874,
          -0.10983509963281501,
          -0.7028472553014329,
          1.9069183597857284,
          0.5320168733453035,
          0.8116769795038522,
          0.6371877240574795,
          0.7671226882934713,
          -0.04328496991036235,
          -0.2499427299306738,
          1.7552519848034622,
          2.136803085105167,
          -0.0475848108866308,
          1.9271784287468214,
          -0.36977799962629887,
          0.48522874332877197,
          1.0788225778799143,
          1.6799204148550475,
          0.39661935429708983,
          -0.18001278134161258,
          0.300719289159633,
          0.34747291085202936,
          1.1211411676256768,
          0.44903722095906684,
          1.3951689191334586,
          0.38707824725065776,
          -0.09302170149400246,
          1.7923261580008067,
          0.11870291111516795,
          0.1463967725037496,
          2.385851022803596,
          0.26939951723690325,
          2.2940608182143265,
          2.3564856547186888,
          2.6628784797159235,
          -0.20104434750531874,
          1.005939635204057,
          1.3999403983025562,
          0.7324753727216136,
          1.9539813411708526,
          1.4243958056410615,
          0.4667922183333194,
          1.8314403256276304,
          0.8457606496930239,
          3.6715892198819016,
          1.2705778188966161,
          1.8182053516126118,
          1.2135956440332856,
          2.337612674958879,
          0.1460136029554716,
          -0.3126637173371609,
          1.483884110852049,
          1.8073064064821533,
          1.1826623381001395,
          -0.025335133632153006,
          0.3333429967125423,
          1.196623856668358,
          2.0672163457397468,
          1.516984598743315,
          1.0073683752448244,
          1.6603235988726897,
          1.3292773182270852,
          0.7979740447407924,
          -0.7092814177955358,
          1.8367541055306655,
          1.2657649634455472,
          0.7836948707591211,
          1.153869813309693,
          2.348191127734455,
          0.6913207486914583,
          -0.19480974680312313,
          2.265718983903305,
          0.39010182027785245,
          0.5937360177891224,
          1.8222175606682658,
          1.7488749128663685,
          -0.6936237337310609,
          0.6250162772863561,
          2.4310207794432954,
          1.2852921936193311,
          1.520791925149032,
          0.8683448679781718,
          3.7597125747004068,
          0.7645007788705215,
          1.9481312969545468,
          0.8398197669339856,
          -0.1293035270736369,
          -0.3105175057677798,
          1.7454469932711971,
          -1.1612899590638381,
          -1.5813746888877698,
          1.5684929135766073,
          0.14068903174720615,
          -0.5561826361738873,
          1.7617087918462468,
          -0.20582813609097572,
          1.5389789593736363,
          0.8368730156804101,
          1.1336514158455,
          1.984459575379038,
          0.45969410363678775,
          0.4590712115559671,
          -0.47765573606750733,
          1.3364717906723516,
          1.2536009452668355,
          1.3564128858288036,
          3.2470906829763715,
          1.1127278980278013,
          1.366240026743101,
          0.40184423318666074,
          1.7208283554299282,
          1.9928237480378868,
          -0.4242284877818323,
          2.5230933971050833,
          1.773891555101851,
          1.6319878521003672,
          2.8857148890917284,
          0.8914717005560815,
          1.046734434062766,
          2.367596224609657,
          2.519656864960807,
          1.1189207565043446,
          0.2484269650717692,
          0.9718571792985902,
          0.6458520700556308,
          1.4097578874927736,
          0.40802293251437916,
          2.204461046459145,
          1.542283128303312,
          -0.4805292794652203,
          0.7098668987049147,
          1.6567979283329781,
          -0.7143826901219035,
          3.085176346272371,
          0.6262807146662326,
          -0.41406565934102435,
          0.9781793562719729,
          2.5634867493656275,
          -0.10831598789736474,
          1.553141176105267,
          2.123896546888483,
          0.9327070418557492,
          0.6292590363511568,
          2.328954975596262,
          2.0540472305628983,
          0.027190099171117144,
          0.6498585323215844,
          1.0301934012581964,
          0.37663189473193615,
          1.0855452062044917,
          0.30034273497767905,
          1.0817424216781966,
          2.5308549809486838,
          1.189914108886533,
          -0.461182643380619,
          1.3189393770186364,
          1.289306599708224,
          2.179316259614887,
          0.9595480605808648,
          0.48110032807793623,
          -0.4703071749776757,
          -0.05176088696411196,
          1.517524488738922,
          -0.5136782393861881,
          1.3760010730618841,
          -0.5493492376593696,
          -0.4300604690466614,
          0.5719078036776135,
          0.6367176293399135,
          2.14733762745166,
          2.8658556045592034,
          0.6585483921013595,
          0.8427992262123007,
          1.525849640841599,
          0.9129305097108924,
          1.1255196349112409,
          0.3193034225061786,
          1.6974225273622894,
          2.6092973549919956,
          0.346626506079003,
          2.4069080259481064,
          1.6402230436481546,
          0.8018303267678097,
          1.89541402400222,
          1.524549183861078,
          1.232315879588204,
          0.443487183775937,
          0.37069945864540244,
          0.1521766071717665,
          1.0900080694889516,
          -0.17772617476568842,
          -0.18030733475274952,
          -0.1487897606078954,
          2.7410218973208686,
          2.161088592093342,
          2.169884363939727,
          0.40459384687994526,
          1.4624746785716716,
          1.3403103335004363,
          1.1794609109680654,
          0.7908524452518209,
          0.7235524689271847,
          2.3584789812376132,
          2.0809436519247084,
          0.41553412257581446,
          1.5026780024432278,
          -0.9323164720377759,
          0.9834674623177823,
          2.2344440425328704,
          1.9177942011631668,
          -0.37503022473453074,
          1.0918124337770223,
          -0.2431134702847899,
          1.4927590651361262,
          0.37580384091109653,
          1.0757670318342227,
          -0.25639344395463004,
          2.9118398769960727,
          2.113344171952397,
          0.8074771376003099,
          0.1407896227580423,
          -0.08454203502420787,
          1.9515409419617336,
          1.5976459220642845,
          3.5018587617043577,
          0.7778317737975265,
          2.263273639439468,
          -0.12767256812531746,
          0.406051109396637,
          2.3461296194797754,
          2.1056390286941538,
          2.5791123982261954,
          0.8978120120008238,
          2.5369576125513893,
          0.6348233299511677,
          1.2020320883881814,
          2.4144978185202284,
          0.6347460957681238,
          -0.8029513360048204,
          -0.8196429157457179,
          1.5908520280210712,
          -0.1604597282298228,
          -1.0513797814377668,
          -0.5380363980086398,
          1.945630205887005,
          -0.26257420535392195,
          1.1735005232568547,
          0.2898317056052112,
          0.18426490013446162,
          0.7375316044263913,
          -0.6048346014763912,
          2.1332291699285015,
          1.8381618009853429,
          2.4401416106769815,
          1.0889939345804178,
          1.4885359056719576,
          0.583070638754342,
          -1.1267560086752595,
          1.558880055378757,
          2.1592529868351127,
          2.235236593822923,
          0.07543482617710007,
          1.3844398565781917,
          1.784238246127317,
          -0.4724806583653298,
          1.553401263504544,
          2.108745806995631,
          2.8896983631128235,
          0.16953248694439393,
          -0.19010267102302647,
          2.165359164439333,
          1.2778467643583287,
          0.28643581844148613,
          1.1733482265804411,
          0.36157088505547696,
          1.3563653094074613,
          1.855480325854323,
          -1.0443092242784253,
          2.8916831037250437,
          0.8857758071717592,
          -0.10343566966444362,
          0.9878672211702085,
          0.8172440616611478,
          1.1250641048449568,
          1.877722038435563,
          1.2984044944263193,
          2.0097257881775628,
          1.4774520287981592,
          0.4369669941822856,
          1.1568846713340568,
          0.7722748243810963,
          1.8533323987339534,
          1.6602341658778332,
          -0.9797843675099855,
          -0.795623746811025,
          1.6839452694810284,
          2.581797573876295,
          1.0432423815361087,
          -0.08824745219587071,
          0.1948067583581614,
          -1.2910985956488465,
          0.9192735674488434,
          1.1095758632241182,
          2.7068067003071943,
          0.1937060735482351,
          0.8873712572951116,
          -0.0627462954496758,
          2.9642227672870796,
          1.1276618395579032,
          0.21634572252644757,
          -0.8984552480128678,
          2.22119321354384,
          0.29840669888309634,
          -1.1820814531178723,
          1.52882551597693,
          1.4921504595972712,
          1.1909311335405939,
          0.7832858557851508,
          1.500596693015393,
          0.5512372560642809,
          1.853085904396738,
          1.0538492463804798,
          0.5275647116754967,
          0.46861839297902963,
          0.38643706635911,
          0.8678681866792923,
          1.4732641206117956,
          1.8555769276051322,
          0.20909697715542086,
          1.1372750096629687,
          1.1931088998024895,
          0.6359604440369149,
          1.9237541476128386,
          0.8515421059704461,
          1.9841505653236142,
          1.300629587897753,
          2.8210810937798785,
          0.04826612830905819,
          2.23578329650081,
          0.5254300246493507,
          1.8480933103002344,
          1.9198182837552251,
          1.4720578942213929,
          0.3884134142636584,
          2.578101329791245,
          -0.7074902353925625,
          1.5771716311248842,
          1.10573028628436,
          -0.1754083696227362,
          0.48392970225208365,
          1.581299179456398,
          1.6085986629353528,
          1.5597725898718515,
          1.9105893456336036,
          -0.05966564146105502,
          1.3642221299572685,
          1.339930111747836,
          2.30192196589463,
          0.47231959425326286,
          0.2469755320394379,
          1.276948436266164,
          1.7313374031522402,
          0.5028525793048462,
          -0.6736052551950222,
          1.0395540781433168,
          0.707792069081361,
          0.8541397549022487,
          1.1395617074938647,
          0.4142355731665436,
          1.1923932971449969,
          1.793172280076208,
          1.14301069987867,
          0.34416152423090485,
          2.052904472297619,
          1.30334959106904,
          0.5677451397890527,
          1.6881853165197578,
          0.8844697127970274,
          0.09128860031506714,
          1.1883535486315058,
          1.1130590506892626,
          0.26868933211701507,
          1.1177562185358556,
          0.3481409141858275,
          0.13647918848755258,
          0.9347059736420661,
          1.9317440355268058,
          1.3096431255084688,
          1.3316194069567553,
          0.668986891272173,
          0.6056930713281317,
          1.4578128187670203,
          0.25928551912823306,
          3.0606692508216393,
          -0.9881507125782576,
          0.6489673253351538,
          1.1299409955428439,
          2.171783351486268,
          2.188181281707126,
          1.0878142048642923,
          2.9034583188964445,
          1.2964503216212075,
          1.2232218650331188,
          0.27441986057512646,
          1.6078777618762017,
          1.2607399035635813,
          1.4043709873501622,
          1.2350439592739788,
          -1.2384762182437465,
          1.2798966941991126,
          -1.3485551026035845,
          -0.15974441658511762,
          1.4820201809440245,
          1.504153348234699,
          -1.7373504921725083,
          0.264403904526642,
          1.630560695406343,
          0.4439343952726792,
          0.7734917993177174,
          -0.08230088160882998,
          1.0499978119989963,
          0.06159448900485276,
          0.9081147999133112,
          0.3757860440361499,
          0.02251024082971842,
          2.037593028942262,
          0.8943433683945459,
          1.7971655838979554,
          1.5982568279219742,
          2.497881543246524,
          2.810116576610139,
          0.14157316672485976,
          -0.864659289836841,
          -0.45382339921364623,
          1.0562542676072644,
          1.5497366826347259,
          0.13302300090507024,
          2.558264074124806,
          1.2765380911836839,
          1.5390116601049537,
          2.7070751913789417,
          1.3418163018573062,
          -0.3127208405686759,
          0.009503739978027337,
          0.017178182863170965,
          1.211573354668191,
          1.29727108356376,
          0.6078446645667774,
          1.5369632988878068,
          0.25839494876338276,
          1.6634685867677694,
          -0.4727976797611373,
          -0.10566231411075444,
          1.7413607955682435,
          0.5017882990053286,
          1.105397821579724,
          2.311043525549968,
          1.5026555155919188,
          1.437138391165229,
          -0.5578761548175555,
          0.25371591419424677,
          0.16466683113874292,
          1.2264396251690761,
          0.8349273441628282,
          -0.38182058294024745,
          1.9743324442611554,
          1.3905395985735227,
          -0.04067577633706332,
          2.8632157205991926,
          0.22079206306281418,
          3.2280036074522647,
          1.3878961281580748,
          1.054885498908104,
          1.7110056057071559,
          0.75258503544196,
          0.27318370284421056,
          -0.8887884961806234,
          2.028877187915661,
          0.7494922686931795,
          0.5669833978671297,
          0.05645517274420642,
          1.0695135239696476,
          0.5046832338426046,
          0.14835658169503463,
          0.3709888178699777,
          0.08833908193054418,
          0.7008536011418146,
          0.7463028558266782,
          -0.06299777724969702,
          0.296590213022759,
          0.4567298349140432,
          -0.06895731265559402,
          0.7847857500005156,
          1.8785051879729255,
          -0.31834916902585975,
          0.5292606790550489,
          1.154712233001831,
          1.456765565561541,
          1.562554454577618,
          1.2026737652107362,
          0.6315540031035365,
          -0.856760496793249,
          1.327699380557627,
          1.6763775828954333,
          1.6865006449585316,
          0.5882898908524541,
          2.1724329929031367,
          -1.3800257843891401,
          2.0163007862857505,
          1.3271359460195475,
          2.0841515003294298,
          -0.2329172928214147,
          1.7658420277352662,
          1.8412734197156937,
          0.02987652836328414,
          0.9833861930949817,
          1.6904944140577816,
          0.8617687462676721,
          2.2905030637582,
          0.18009969097955636,
          0.24653795598609252,
          2.790752641123949,
          1.847153648369439,
          1.4582962031045141,
          -0.8303442694426906,
          -0.19161358497151082,
          2.58650355232729,
          0.9599730423049677,
          1.573244071112624,
          -1.0465643524527972,
          -0.08481981313962139,
          1.7175613525446511,
          1.405640696442568,
          2.8332111171363423,
          0.6504949603067052,
          2.004117797120169,
          1.1374467497308993,
          -0.063407938179316,
          0.2767355612723297,
          0.9949762442142958,
          0.8001460429693279,
          -0.36905524774291787,
          0.539416441579345,
          1.0434575642366146,
          1.3661035431400808,
          2.363836358371915,
          0.7052736427093896,
          0.6288639676470216,
          0.3246199723117801,
          1.505771211395233,
          -0.5765021825741583,
          -0.7977326764168211,
          -0.03249950371496135,
          1.3661135470297843,
          1.2129039025311004,
          -0.21595761682300996,
          1.9826058281105703,
          1.1432920389769372,
          -0.11277445447788992,
          1.152236722785211,
          0.8054517946315688,
          -0.1730658036740711,
          1.3100102192652439,
          -0.1904236301985076,
          1.9435566477137072,
          1.734524961405991,
          2.0670634885618053,
          0.28679076141316995,
          -0.5017218383875672,
          0.5443693730043578,
          -0.48578364664969653,
          0.6455833643673312,
          1.7201053830123194,
          2.329430683805593,
          0.6847227268430947,
          0.31972930268985456,
          0.1775331664451376,
          0.7994892377269492,
          -0.34256316535418785,
          2.052256082864329,
          1.9489979953532912,
          -0.0902448121147783,
          0.824614028568155,
          0.6648522811723732,
          1.5542020939031977,
          0.1459304463100134,
          0.10291006944868308,
          -0.11956717896845626,
          0.9447335853919185,
          2.1157808198175436,
          -0.1952757354115493,
          1.3312267936036213,
          1.7951908649519592,
          -0.7444381159303495,
          1.4856479567013583,
          -0.9498183880126683,
          1.3909037206953143,
          -0.07820886796149806,
          0.4372526727568643,
          0.5009004722347008,
          -0.6120319127287113,
          0.6578024982276369,
          1.6238251256666096,
          1.7847478951806695,
          2.3908038321689906,
          1.3595181222264507,
          1.4059049603789096,
          1.2362845473551733,
          0.9165142730991614,
          -0.050390030349825476,
          0.5828346019014279,
          2.463323553167533,
          0.2421018664770197,
          1.0928560058139216,
          1.3906757208395049,
          1.4347570367932143,
          0.8358663517002529,
          0.8852546756926755,
          0.8650121522991717,
          0.06016215799018909,
          1.04837763407171,
          0.7767102108927995,
          2.7021598087290197,
          2.3179665163994265,
          1.4181264741425208,
          1.679792928138892,
          2.1204933608896703,
          1.8733257901999134,
          -0.2735156065583044,
          1.0216217547541766,
          1.614671408797489,
          -0.2114306445738101,
          -0.3723848118247304,
          1.2437025146270146,
          2.2623941813193573,
          2.1759943824123233,
          0.7889751442852451,
          2.3488869902403615,
          2.3422826375019996,
          2.2479585864782266,
          0.562978335912502,
          1.0160239060971266,
          1.9394242430470734
         ]
        }
       ],
       "layout": {
        "barmode": "stack",
        "template": {
         "data": {
          "bar": [
           {
            "error_x": {
             "color": "#2a3f5f"
            },
            "error_y": {
             "color": "#2a3f5f"
            },
            "marker": {
             "line": {
              "color": "#E5ECF6",
              "width": 0.5
             },
             "pattern": {
              "fillmode": "overlay",
              "size": 10,
              "solidity": 0.2
             }
            },
            "type": "bar"
           }
          ],
          "barpolar": [
           {
            "marker": {
             "line": {
              "color": "#E5ECF6",
              "width": 0.5
             },
             "pattern": {
              "fillmode": "overlay",
              "size": 10,
              "solidity": 0.2
             }
            },
            "type": "barpolar"
           }
          ],
          "carpet": [
           {
            "aaxis": {
             "endlinecolor": "#2a3f5f",
             "gridcolor": "white",
             "linecolor": "white",
             "minorgridcolor": "white",
             "startlinecolor": "#2a3f5f"
            },
            "baxis": {
             "endlinecolor": "#2a3f5f",
             "gridcolor": "white",
             "linecolor": "white",
             "minorgridcolor": "white",
             "startlinecolor": "#2a3f5f"
            },
            "type": "carpet"
           }
          ],
          "choropleth": [
           {
            "colorbar": {
             "outlinewidth": 0,
             "ticks": ""
            },
            "type": "choropleth"
           }
          ],
          "contour": [
           {
            "colorbar": {
             "outlinewidth": 0,
             "ticks": ""
            },
            "colorscale": [
             [
              0,
              "#0d0887"
             ],
             [
              0.1111111111111111,
              "#46039f"
             ],
             [
              0.2222222222222222,
              "#7201a8"
             ],
             [
              0.3333333333333333,
              "#9c179e"
             ],
             [
              0.4444444444444444,
              "#bd3786"
             ],
             [
              0.5555555555555556,
              "#d8576b"
             ],
             [
              0.6666666666666666,
              "#ed7953"
             ],
             [
              0.7777777777777778,
              "#fb9f3a"
             ],
             [
              0.8888888888888888,
              "#fdca26"
             ],
             [
              1,
              "#f0f921"
             ]
            ],
            "type": "contour"
           }
          ],
          "contourcarpet": [
           {
            "colorbar": {
             "outlinewidth": 0,
             "ticks": ""
            },
            "type": "contourcarpet"
           }
          ],
          "heatmap": [
           {
            "colorbar": {
             "outlinewidth": 0,
             "ticks": ""
            },
            "colorscale": [
             [
              0,
              "#0d0887"
             ],
             [
              0.1111111111111111,
              "#46039f"
             ],
             [
              0.2222222222222222,
              "#7201a8"
             ],
             [
              0.3333333333333333,
              "#9c179e"
             ],
             [
              0.4444444444444444,
              "#bd3786"
             ],
             [
              0.5555555555555556,
              "#d8576b"
             ],
             [
              0.6666666666666666,
              "#ed7953"
             ],
             [
              0.7777777777777778,
              "#fb9f3a"
             ],
             [
              0.8888888888888888,
              "#fdca26"
             ],
             [
              1,
              "#f0f921"
             ]
            ],
            "type": "heatmap"
           }
          ],
          "heatmapgl": [
           {
            "colorbar": {
             "outlinewidth": 0,
             "ticks": ""
            },
            "colorscale": [
             [
              0,
              "#0d0887"
             ],
             [
              0.1111111111111111,
              "#46039f"
             ],
             [
              0.2222222222222222,
              "#7201a8"
             ],
             [
              0.3333333333333333,
              "#9c179e"
             ],
             [
              0.4444444444444444,
              "#bd3786"
             ],
             [
              0.5555555555555556,
              "#d8576b"
             ],
             [
              0.6666666666666666,
              "#ed7953"
             ],
             [
              0.7777777777777778,
              "#fb9f3a"
             ],
             [
              0.8888888888888888,
              "#fdca26"
             ],
             [
              1,
              "#f0f921"
             ]
            ],
            "type": "heatmapgl"
           }
          ],
          "histogram": [
           {
            "marker": {
             "pattern": {
              "fillmode": "overlay",
              "size": 10,
              "solidity": 0.2
             }
            },
            "type": "histogram"
           }
          ],
          "histogram2d": [
           {
            "colorbar": {
             "outlinewidth": 0,
             "ticks": ""
            },
            "colorscale": [
             [
              0,
              "#0d0887"
             ],
             [
              0.1111111111111111,
              "#46039f"
             ],
             [
              0.2222222222222222,
              "#7201a8"
             ],
             [
              0.3333333333333333,
              "#9c179e"
             ],
             [
              0.4444444444444444,
              "#bd3786"
             ],
             [
              0.5555555555555556,
              "#d8576b"
             ],
             [
              0.6666666666666666,
              "#ed7953"
             ],
             [
              0.7777777777777778,
              "#fb9f3a"
             ],
             [
              0.8888888888888888,
              "#fdca26"
             ],
             [
              1,
              "#f0f921"
             ]
            ],
            "type": "histogram2d"
           }
          ],
          "histogram2dcontour": [
           {
            "colorbar": {
             "outlinewidth": 0,
             "ticks": ""
            },
            "colorscale": [
             [
              0,
              "#0d0887"
             ],
             [
              0.1111111111111111,
              "#46039f"
             ],
             [
              0.2222222222222222,
              "#7201a8"
             ],
             [
              0.3333333333333333,
              "#9c179e"
             ],
             [
              0.4444444444444444,
              "#bd3786"
             ],
             [
              0.5555555555555556,
              "#d8576b"
             ],
             [
              0.6666666666666666,
              "#ed7953"
             ],
             [
              0.7777777777777778,
              "#fb9f3a"
             ],
             [
              0.8888888888888888,
              "#fdca26"
             ],
             [
              1,
              "#f0f921"
             ]
            ],
            "type": "histogram2dcontour"
           }
          ],
          "mesh3d": [
           {
            "colorbar": {
             "outlinewidth": 0,
             "ticks": ""
            },
            "type": "mesh3d"
           }
          ],
          "parcoords": [
           {
            "line": {
             "colorbar": {
              "outlinewidth": 0,
              "ticks": ""
             }
            },
            "type": "parcoords"
           }
          ],
          "pie": [
           {
            "automargin": true,
            "type": "pie"
           }
          ],
          "scatter": [
           {
            "fillpattern": {
             "fillmode": "overlay",
             "size": 10,
             "solidity": 0.2
            },
            "type": "scatter"
           }
          ],
          "scatter3d": [
           {
            "line": {
             "colorbar": {
              "outlinewidth": 0,
              "ticks": ""
             }
            },
            "marker": {
             "colorbar": {
              "outlinewidth": 0,
              "ticks": ""
             }
            },
            "type": "scatter3d"
           }
          ],
          "scattercarpet": [
           {
            "marker": {
             "colorbar": {
              "outlinewidth": 0,
              "ticks": ""
             }
            },
            "type": "scattercarpet"
           }
          ],
          "scattergeo": [
           {
            "marker": {
             "colorbar": {
              "outlinewidth": 0,
              "ticks": ""
             }
            },
            "type": "scattergeo"
           }
          ],
          "scattergl": [
           {
            "marker": {
             "colorbar": {
              "outlinewidth": 0,
              "ticks": ""
             }
            },
            "type": "scattergl"
           }
          ],
          "scattermapbox": [
           {
            "marker": {
             "colorbar": {
              "outlinewidth": 0,
              "ticks": ""
             }
            },
            "type": "scattermapbox"
           }
          ],
          "scatterpolar": [
           {
            "marker": {
             "colorbar": {
              "outlinewidth": 0,
              "ticks": ""
             }
            },
            "type": "scatterpolar"
           }
          ],
          "scatterpolargl": [
           {
            "marker": {
             "colorbar": {
              "outlinewidth": 0,
              "ticks": ""
             }
            },
            "type": "scatterpolargl"
           }
          ],
          "scatterternary": [
           {
            "marker": {
             "colorbar": {
              "outlinewidth": 0,
              "ticks": ""
             }
            },
            "type": "scatterternary"
           }
          ],
          "surface": [
           {
            "colorbar": {
             "outlinewidth": 0,
             "ticks": ""
            },
            "colorscale": [
             [
              0,
              "#0d0887"
             ],
             [
              0.1111111111111111,
              "#46039f"
             ],
             [
              0.2222222222222222,
              "#7201a8"
             ],
             [
              0.3333333333333333,
              "#9c179e"
             ],
             [
              0.4444444444444444,
              "#bd3786"
             ],
             [
              0.5555555555555556,
              "#d8576b"
             ],
             [
              0.6666666666666666,
              "#ed7953"
             ],
             [
              0.7777777777777778,
              "#fb9f3a"
             ],
             [
              0.8888888888888888,
              "#fdca26"
             ],
             [
              1,
              "#f0f921"
             ]
            ],
            "type": "surface"
           }
          ],
          "table": [
           {
            "cells": {
             "fill": {
              "color": "#EBF0F8"
             },
             "line": {
              "color": "white"
             }
            },
            "header": {
             "fill": {
              "color": "#C8D4E3"
             },
             "line": {
              "color": "white"
             }
            },
            "type": "table"
           }
          ]
         },
         "layout": {
          "annotationdefaults": {
           "arrowcolor": "#2a3f5f",
           "arrowhead": 0,
           "arrowwidth": 1
          },
          "autotypenumbers": "strict",
          "coloraxis": {
           "colorbar": {
            "outlinewidth": 0,
            "ticks": ""
           }
          },
          "colorscale": {
           "diverging": [
            [
             0,
             "#8e0152"
            ],
            [
             0.1,
             "#c51b7d"
            ],
            [
             0.2,
             "#de77ae"
            ],
            [
             0.3,
             "#f1b6da"
            ],
            [
             0.4,
             "#fde0ef"
            ],
            [
             0.5,
             "#f7f7f7"
            ],
            [
             0.6,
             "#e6f5d0"
            ],
            [
             0.7,
             "#b8e186"
            ],
            [
             0.8,
             "#7fbc41"
            ],
            [
             0.9,
             "#4d9221"
            ],
            [
             1,
             "#276419"
            ]
           ],
           "sequential": [
            [
             0,
             "#0d0887"
            ],
            [
             0.1111111111111111,
             "#46039f"
            ],
            [
             0.2222222222222222,
             "#7201a8"
            ],
            [
             0.3333333333333333,
             "#9c179e"
            ],
            [
             0.4444444444444444,
             "#bd3786"
            ],
            [
             0.5555555555555556,
             "#d8576b"
            ],
            [
             0.6666666666666666,
             "#ed7953"
            ],
            [
             0.7777777777777778,
             "#fb9f3a"
            ],
            [
             0.8888888888888888,
             "#fdca26"
            ],
            [
             1,
             "#f0f921"
            ]
           ],
           "sequentialminus": [
            [
             0,
             "#0d0887"
            ],
            [
             0.1111111111111111,
             "#46039f"
            ],
            [
             0.2222222222222222,
             "#7201a8"
            ],
            [
             0.3333333333333333,
             "#9c179e"
            ],
            [
             0.4444444444444444,
             "#bd3786"
            ],
            [
             0.5555555555555556,
             "#d8576b"
            ],
            [
             0.6666666666666666,
             "#ed7953"
            ],
            [
             0.7777777777777778,
             "#fb9f3a"
            ],
            [
             0.8888888888888888,
             "#fdca26"
            ],
            [
             1,
             "#f0f921"
            ]
           ]
          },
          "colorway": [
           "#636efa",
           "#EF553B",
           "#00cc96",
           "#ab63fa",
           "#FFA15A",
           "#19d3f3",
           "#FF6692",
           "#B6E880",
           "#FF97FF",
           "#FECB52"
          ],
          "font": {
           "color": "#2a3f5f"
          },
          "geo": {
           "bgcolor": "white",
           "lakecolor": "white",
           "landcolor": "#E5ECF6",
           "showlakes": true,
           "showland": true,
           "subunitcolor": "white"
          },
          "hoverlabel": {
           "align": "left"
          },
          "hovermode": "closest",
          "mapbox": {
           "style": "light"
          },
          "paper_bgcolor": "white",
          "plot_bgcolor": "#E5ECF6",
          "polar": {
           "angularaxis": {
            "gridcolor": "white",
            "linecolor": "white",
            "ticks": ""
           },
           "bgcolor": "#E5ECF6",
           "radialaxis": {
            "gridcolor": "white",
            "linecolor": "white",
            "ticks": ""
           }
          },
          "scene": {
           "xaxis": {
            "backgroundcolor": "#E5ECF6",
            "gridcolor": "white",
            "gridwidth": 2,
            "linecolor": "white",
            "showbackground": true,
            "ticks": "",
            "zerolinecolor": "white"
           },
           "yaxis": {
            "backgroundcolor": "#E5ECF6",
            "gridcolor": "white",
            "gridwidth": 2,
            "linecolor": "white",
            "showbackground": true,
            "ticks": "",
            "zerolinecolor": "white"
           },
           "zaxis": {
            "backgroundcolor": "#E5ECF6",
            "gridcolor": "white",
            "gridwidth": 2,
            "linecolor": "white",
            "showbackground": true,
            "ticks": "",
            "zerolinecolor": "white"
           }
          },
          "shapedefaults": {
           "line": {
            "color": "#2a3f5f"
           }
          },
          "ternary": {
           "aaxis": {
            "gridcolor": "white",
            "linecolor": "white",
            "ticks": ""
           },
           "baxis": {
            "gridcolor": "white",
            "linecolor": "white",
            "ticks": ""
           },
           "bgcolor": "#E5ECF6",
           "caxis": {
            "gridcolor": "white",
            "linecolor": "white",
            "ticks": ""
           }
          },
          "title": {
           "x": 0.05
          },
          "xaxis": {
           "automargin": true,
           "gridcolor": "white",
           "linecolor": "white",
           "ticks": "",
           "title": {
            "standoff": 15
           },
           "zerolinecolor": "white",
           "zerolinewidth": 2
          },
          "yaxis": {
           "automargin": true,
           "gridcolor": "white",
           "linecolor": "white",
           "ticks": "",
           "title": {
            "standoff": 15
           },
           "zerolinecolor": "white",
           "zerolinewidth": 2
          }
         }
        }
       }
      }
     },
     "metadata": {},
     "output_type": "display_data"
    }
   ],
   "source": [
    "import plotly.graph_objects as go\n",
    "\n",
    "import numpy as np\n",
    "\n",
    "x0 = np.random.randn(2000)\n",
    "x1 = np.random.randn(2000) + 1\n",
    "\n",
    "fig = go.Figure()\n",
    "fig.add_trace(go.Histogram(x=x0))\n",
    "fig.add_trace(go.Histogram(x=x1))\n",
    "\n",
    "# The two histograms are drawn on top of another\n",
    "fig.update_layout(barmode='stack')\n",
    "fig.show()\n"
   ]
  },
  {
   "cell_type": "code",
   "execution_count": 41,
   "metadata": {},
   "outputs": [
    {
     "data": {
      "application/vnd.plotly.v1+json": {
       "config": {
        "plotlyServerURL": "https://plot.ly"
       },
       "data": [
        {
         "opacity": 0.75,
         "type": "histogram",
         "x": [
          -1.193718573154833,
          -1.1252200984199845,
          -0.3975409429009942,
          0.5381482345636529,
          -1.6712078344594994,
          -1.7261271116504284,
          1.2305809445005806,
          -0.6956211444004051,
          1.3212105884157492,
          0.23237196882305672,
          0.6357836534327735,
          -1.1442828777255478,
          -0.34475299057312686,
          -0.548231544140508,
          -0.1818014458168223,
          0.2998799843085908,
          -0.31308406376084846,
          -0.008299374116836379,
          -0.08169076872285595,
          -0.6111897560757384,
          2.092250460360313,
          -0.14187731989017555,
          -0.7620031019535387,
          -1.8212522462414085,
          0.5097371407298726,
          0.3319105124749918,
          -0.2746413343214527,
          -0.233918546125552,
          -2.1230039048032996,
          -0.1112114003828488,
          -0.285193214711503,
          -0.8980680602364345,
          -0.5970325528409864,
          1.2348235793446254,
          0.4028903639776412,
          -1.3414259417826333,
          -0.4621323380381441,
          0.38243678266955483,
          0.8522247630703405,
          0.5334235878306103,
          -1.582809540337721,
          0.5093639023801609,
          -0.5444102575870181,
          0.9936637644682413,
          0.4533198670032346,
          -0.6515839360004094,
          -1.328056598540731,
          1.022894572109426,
          0.6799164511271538,
          0.38710324647555283,
          -0.9702272913170211,
          0.026586000533157846,
          -0.6609370223426567,
          -0.026031276003219497,
          -0.8453256754201904,
          2.1001019054433003,
          -0.5621754904653098,
          -0.08004361260850504,
          0.9559842325736976,
          1.050922005212549,
          0.193467621846985,
          1.0595973256078193,
          1.1618732319833398,
          0.7395822728997253,
          1.0072894110988166,
          0.9401270191810845,
          -1.565449814686163,
          0.9563082040635228,
          -1.1305552819733495,
          -1.1341234266382774,
          -0.6902543403885748,
          -1.1000737453866902,
          -0.789463617643573,
          -0.8537860616678281,
          -1.37148281572196,
          -1.2608371908966651,
          -0.7961855789580972,
          -1.834563679671744,
          0.18227518577312396,
          -0.5205832963388367,
          -0.09246462002623597,
          0.21109772627661882,
          -0.5426914675713628,
          0.7486254423724199,
          -1.4826889579106532,
          0.8412250687748433,
          0.28203507545200396,
          0.7699614523848408,
          -0.19841346566452805,
          0.3370931762173984,
          -0.25608362943125806,
          0.048911115079781346,
          -1.7144858035308457,
          -0.2870228816878727,
          -0.14723079212026208,
          -0.0810136409304275,
          -1.2397105896489327,
          -1.1404759572428098,
          -1.1165878551843798,
          1.7210209246197206,
          -0.047249445251958316,
          0.5659927650308726,
          1.723137486397414,
          0.522857845046441,
          -0.03301796528496923,
          0.7928746881199996,
          0.38256742567979296,
          -0.15840570713337335,
          -0.3264037076652982,
          0.2098545633186202,
          1.706153700330675,
          -1.1491273114579206,
          -0.6471280909452328,
          -0.3693200871963437,
          -0.4891493287415767,
          -0.04886306392688789,
          -1.0889860236878546,
          -0.7336063182420389,
          -1.1280201172135382,
          -0.9595063495106967,
          0.24403161224627878,
          -0.8989924723960049,
          -0.019751475307669842,
          0.9273023246692805,
          1.4899145379927115,
          0.15278250033335383,
          0.8523831174626112,
          0.5019858300567563,
          1.474914504261993,
          -2.7272769781529598,
          -1.4435572703145532,
          -1.214016466563316,
          0.8631730029469802,
          2.7625051542754324,
          -0.29675765970024803,
          1.292000153647455,
          -0.46876332453602604,
          0.433756646524478,
          2.2349763461744794,
          -0.8679140502183826,
          0.9019309137058836,
          -0.9590869872062071,
          1.6662564586119162,
          -0.17025190779001304,
          -1.0845366564264292,
          0.5644636393739842,
          0.6275600535329564,
          -0.7027152373577183,
          -0.9038371630201801,
          0.25149213556236355,
          -1.4698739261343816,
          0.34311001482396897,
          -0.8795923943813686,
          1.8525197351012932,
          0.1535841063063392,
          1.1854614708475024,
          -0.7114478484259471,
          -0.5288009075055864,
          -0.5537573664622548,
          -0.46618827771721066,
          1.1038750894788085,
          1.4346697809191384,
          1.9267362084535116,
          -2.031421327976453,
          0.2877608777654567,
          0.12658683007621738,
          -0.9942800527156478,
          -0.05483856201213858,
          1.6847252711016827,
          0.026336761667752798,
          0.4783460540262928,
          -0.5644446212955053,
          -1.7539051362735698,
          -1.2175848093668684,
          0.9452893053289584,
          1.0697482147008586,
          -0.6410356143460049,
          -2.0726522183007754,
          -0.3943036260276202,
          -0.27522769401752106,
          0.703302691408453,
          1.1078860195190587,
          1.2287742459319828,
          -0.636693229925549,
          0.9403028226043009,
          -0.22523077565848845,
          -0.13363100660259733,
          -1.211389904419245,
          0.02154504619706536,
          -0.6466721958234323,
          -1.0884266295114395,
          1.0151787452325862,
          -0.27699231116086376,
          -0.7015670182357117,
          -0.02454711914420886,
          -0.05408404907499887,
          0.2466788054073929,
          -0.8823484543576557,
          -1.8492066020688103,
          -0.21964760007043962,
          -0.7371421158573415,
          0.2847614552081733,
          0.41766745832846514,
          0.7538508717795868,
          0.21347894161248415,
          -0.6240908926269221,
          -0.6018452355405429,
          0.7824218461504516,
          -1.1796267448003677,
          -0.08428908374597784,
          -1.0646635436670853,
          0.9003160832213543,
          1.1179596184964693,
          -0.6022696433011573,
          -1.0994746024027342,
          -0.3652736329350129,
          1.6069971761265733,
          -0.7878957773954461,
          0.3600532732868998,
          -0.46900231934523745,
          0.8311264194179805,
          0.5282932498893054,
          0.026692539234744107,
          -0.6271786292415816,
          -0.3867643228697795,
          0.5804770314857259,
          -0.1146788656648358,
          -0.001495399646090937,
          0.2583033782349892,
          0.7379212821179164,
          -0.4114014659006484,
          2.3130286038561394,
          -0.8328908649068211,
          0.364351868832987,
          -1.0410570047854717,
          -0.9352556239252326,
          -0.8473240256576349,
          -0.9929577194266137,
          0.3151974731606635,
          -1.0423503126903053,
          -0.7222112074875716,
          1.2948365502602461,
          1.0298920971325445,
          -0.587298302067148,
          -0.14189179094897733,
          -1.3191847645302923,
          -0.6984439751055146,
          -0.14769063462943197,
          1.023811459146536,
          -0.8237255690112252,
          1.3847953473201045,
          -1.1391743684913689,
          0.4873982158906051,
          -0.7492859258009966,
          -0.8781180220563854,
          1.0350398080865755,
          0.22540438759719175,
          -0.5601237076082437,
          -0.12163064288933802,
          -2.1549646965372067,
          0.9190597191643101,
          -1.1777604557076695,
          0.2079320313489526,
          -0.6014215539356489,
          -0.21241930636849274,
          -0.3324456447661428,
          0.25401499197094973,
          -1.1279770698797236,
          1.215600618057503,
          -0.12300640582721153,
          0.5156425996926836,
          -0.17205082872433722,
          -0.7288027733758399,
          1.0693315965334396,
          -0.761191517626771,
          -0.8947572692144372,
          0.36204971640288297,
          1.2453544411945618,
          1.190035207410073,
          0.558103048302728,
          2.286607584779255,
          -0.6034760037658712,
          -0.3133391937634537,
          0.005251849355550012,
          -1.551857212978512,
          0.11866625832069529,
          1.4701064620095505,
          1.7199064040316363,
          -0.9198728834448452,
          0.40538700038080266,
          0.4053651748455824,
          1.4763868799741444,
          -0.8603621987755399,
          -0.19891302174071568,
          0.8588301597836111,
          -0.4977066035326097,
          -0.23270892032162438,
          0.13241610227106898,
          1.056884384144058,
          0.3640735482844759,
          -1.7082931446830176,
          0.31140776830740835,
          0.19823211707958205,
          -0.22015601180989647,
          0.7342620770347942,
          1.014609881846082,
          0.820689913825424,
          -0.9875278444035589,
          -0.7440102190402599,
          1.157778325983788,
          -0.5031743543299569,
          0.009306668964873296,
          -1.2433381297628998,
          1.153599827723832,
          1.319090065903211,
          -1.0703404315902494,
          -0.69192770228334,
          1.0325549979901971,
          0.866466808302783,
          0.11926912703008809,
          1.4481726697833937,
          1.1053931570866982,
          -0.4871266882875592,
          0.9294206144567622,
          0.15782661597761244,
          0.5970495568994177,
          -0.21976091357207714,
          -0.9570807205426772,
          1.7284877057995798,
          -0.9254723092361803,
          0.07753870038261314,
          -2.4010066101820104,
          -0.3140190730690977,
          0.468285622044468,
          -0.5805829322741303,
          -1.0671492508957952,
          0.8819289368011323,
          -0.008440924604336847,
          2.2777273361373727,
          0.8102773359138888,
          -1.3034756074624394,
          1.7797166621012779,
          0.942802435084667,
          0.06658584077907764,
          0.8786298724088437,
          -0.7756930161956868,
          -0.5783756098910204,
          -0.6247707494387532,
          0.3091139256500967,
          -1.266600264884261,
          0.6907512869056748,
          1.0572473695490578,
          -0.7978553490975583,
          -1.7391433735518032,
          -0.25293409413062584,
          0.2934597966642948,
          -1.1356196821618896,
          -1.2266034046986907,
          -0.03958692639149728,
          -0.6722907241071301,
          0.038592879685579,
          -0.8388251841207955,
          0.1651285321777509,
          1.767996784858948,
          -0.9230207282281316,
          0.7557975672631515,
          -0.3333744281278097,
          0.6369984334026905,
          0.3015868362967534,
          -0.7757549882620224,
          1.5028288601818993,
          1.594644814466386,
          2.247838632192778,
          1.9346399480578143,
          0.03198925501083197,
          -0.36157841944038827,
          0.052292826673166135,
          -0.483052231041277,
          1.426715993111581,
          -0.7531132314980232,
          1.550310481428136,
          0.7503805275645197,
          0.9021776539630162,
          -0.45713995258817386,
          0.11217885298463985,
          -0.5900661960713129,
          -0.7969402313089312,
          0.4140351095657479,
          0.5841811443138362,
          0.38145276059688055,
          -0.7511857708925639,
          -0.4455924503034028,
          1.9096032032177876,
          -0.22577626067106685,
          0.3312661060002425,
          3.113011935067357,
          0.5034438021051799,
          0.5746684784120328,
          -0.38361681953070054,
          0.19618376180505423,
          -2.062683665580258,
          0.27365273526434053,
          0.458488707329234,
          -0.4031574794110808,
          -0.49929118353920404,
          1.8530696576232244,
          -1.4235943367707544,
          -1.7215401307404863,
          -0.027435329606015146,
          -1.8995398540235604,
          0.17172995683621997,
          0.856539586488115,
          -0.1316315796182908,
          1.083710080597748,
          1.1092810289130786,
          0.7263564321332627,
          -0.04326748215425617,
          0.7733259010395178,
          0.8998054677618129,
          0.21372478582523372,
          0.5186050535951635,
          1.4516414853423325,
          0.20261383273928404,
          1.3521418483349923,
          -0.49026875931128516,
          -0.7368213202268156,
          -0.3016255809599039,
          -0.757815509090579,
          -0.09490138502047597,
          -1.7399602887785859,
          1.401775774079456,
          1.087995944927573,
          -0.3471611955096251,
          -1.553128560481275,
          0.40493342555653017,
          -0.10183524108403653,
          -1.1260947136556474,
          1.4358437758730702,
          1.2715013433486348,
          -1.3654850742607416,
          0.5097581423563156,
          0.9062846446030127,
          -0.17430072179212924,
          0.7760826797003942,
          -0.45883042258194773,
          1.454815550211585,
          0.6957880909851295,
          -0.39677767079039156,
          0.3292796262520574,
          -0.5117809608058791,
          -0.9077910907948166,
          0.6889317269015011,
          0.3834135035110672,
          -1.3143401382943403,
          -0.005613541937367648,
          0.27684261847847474,
          0.6911558082101568,
          1.2364028821012076,
          -0.9892834731344742,
          0.8166488432900206,
          -1.2496744626585783,
          0.8162536291344393,
          0.005022410239249168,
          1.0671275140192344,
          1.7334058801550418,
          -1.199228403477658,
          -2.101150703939555,
          0.9506509865917119,
          0.623075713361644,
          0.43331949875023046,
          0.48547312079478994,
          -1.26968503144113,
          0.8387989349807266,
          -0.4861856113885327,
          -2.9896673261283957,
          -0.8786090586973628,
          -1.326910038487037,
          -0.03164002437895202,
          0.1890179514897078,
          -0.8709107152507728,
          0.07425000916165113,
          -0.5068846421360328,
          0.8549834955125172,
          0.16764474443947372,
          2.781305059206995,
          -0.7941750539611959,
          0.5060160005264308,
          0.49001236826443606,
          0.5851433970930001,
          0.58011786366826,
          -1.0327802888259603,
          0.3185129856446166,
          1.2125814333518357,
          -0.4952379505726862,
          -0.8806948359217082,
          0.3693588432740412,
          0.1693983447627344,
          -0.11787130111848378,
          0.1379495325556426,
          0.4000282539836069
         ]
        },
        {
         "opacity": 0.75,
         "type": "histogram",
         "x": [
          0.858924447662786,
          1.480854229703171,
          -0.09790096210451082,
          3.070057907539756,
          1.4698468205455428,
          1.1575429822138912,
          3.730107133104237,
          1.7370494172495237,
          2.1160455512545333,
          0.7957030220797605,
          1.4024618365335624,
          0.9894786580301448,
          1.6896904778163004,
          2.554966938346114,
          2.294629647405139,
          1.0621626563721862,
          1.7137285521994259,
          0.052685350708819745,
          0.5843503184708443,
          0.19434099812491346,
          2.2291848978699944,
          0.48280452067030954,
          0.9213092041061939,
          0.7842610054729422,
          2.2946359135554824,
          1.874386771578604,
          1.3713783137156428,
          1.3634355471239823,
          -0.48278390572716146,
          0.043316507100083945,
          -0.9435210945283545,
          0.5793833475303296,
          2.01174044273049,
          1.7953446943330928,
          0.4251721043577492,
          2.1667143625289507,
          1.1398514771327763,
          0.9781286272645972,
          1.5669395285110557,
          0.7728616274662449,
          -0.34078134377391645,
          0.5223732915568773,
          1.8488662727046976,
          3.380410305933845,
          1.8144870829254565,
          1.0511918080756393,
          0.13251939664578916,
          0.7252292660023218,
          -0.3679126170607725,
          1.4565608649851216,
          0.33736935467513385,
          2.0205572906839118,
          1.294445650899608,
          1.9036220610033976,
          -0.16399192997959644,
          0.5798594371111564,
          1.726940572654276,
          0.5272680207721643,
          0.07862911121889515,
          0.11865844660564084,
          2.6011392933988775,
          1.654918064661944,
          -0.33317399601598074,
          0.9610778902893605,
          -0.012889724088776422,
          0.8562356835581421,
          1.524567477273906,
          0.21555960030402765,
          0.6206324822614899,
          1.8500712984952403,
          2.1977232774741244,
          -0.53632529078442,
          0.33484099556104774,
          0.8575959721272285,
          -1.5498049794081288,
          0.7813991808275433,
          0.6887992500288287,
          1.770686586484014,
          2.8593322041387284,
          0.3346238715038964,
          0.3137133193707834,
          3.690358453836626,
          0.7045440410924078,
          -0.030925525592748748,
          1.3241314596562177,
          -0.6382968658005661,
          1.7674944339139955,
          0.8038561026038711,
          2.5248067740777262,
          0.352284835502218,
          1.510959696909639,
          0.849617717626195,
          -0.10698613886130781,
          1.2125991450995521,
          0.6528211260296901,
          1.1050513074752415,
          0.6993477756839356,
          2.013404708300544,
          1.9371614553980159,
          1.3070607246694086,
          0.5549142084051701,
          -0.35568531144877746,
          -0.5518221786753998,
          1.9525601514164497,
          -0.649667020128627,
          0.24572791379932313,
          1.155486002940921,
          1.5453873180347615,
          0.7615289641749424,
          1.6939396116681358,
          0.10818723874867964,
          2.318987425888726,
          0.6810242015521994,
          1.298448965558761,
          0.6305136355714002,
          0.5102905396946671,
          0.4815515673511904,
          0.9152199176542335,
          1.4058179631202068,
          1.0647132360057399,
          2.2083925476023767,
          2.875033259135151,
          0.6687179474870515,
          0.8088812531083347,
          0.9686673495103181,
          0.42147654713900673,
          0.4781555178353606,
          0.033888530745214474,
          0.44823637404295225,
          0.22562448492747766,
          0.14548971055705373,
          -1.2415424775565604,
          1.1051100969575094,
          1.876237713223576,
          1.257830649821115,
          0.34971681336408567,
          0.3705748783352927,
          -0.12558376900659018,
          0.10929678166865053,
          2.5103116679020356,
          0.7891883611163256,
          2.4794793543639266,
          0.5639121639124534,
          1.6103798393390532,
          1.7957535609519315,
          1.7114204974798048,
          0.8021391690407302,
          0.39354373250255836,
          0.981941770647435,
          1.7547179792223315,
          0.04836530619779378,
          1.5248697665226612,
          1.7867568821735293,
          0.2806831796081777,
          0.9765116670659952,
          2.8017186435129493,
          0.06663175938283539,
          0.945266510570304,
          2.7660536217824836,
          0.7187776813837194,
          1.2937241681819756,
          2.812353121806186,
          0.6307711871068435,
          0.49267006188532847,
          -1.2904865370149863,
          0.8534838630183301,
          1.06919124589667,
          1.6592044960377388,
          0.10318481477198682,
          -0.945758488749888,
          0.8026144513820624,
          0.9280553027303775,
          1.5843321300751243,
          1.167912622813757,
          -0.6995901535216389,
          1.8650622909834802,
          -0.18222411649235193,
          1.117713379530507,
          2.2894218227755605,
          1.6454204501925465,
          1.2176185857423816,
          0.4533996261432721,
          1.9365941340415278,
          1.5482989979511583,
          0.9309650485614266,
          0.3394266580104979,
          1.4280100062671586,
          0.5815469038273886,
          1.069641683412971,
          1.0662829817095212,
          1.6962618378334553,
          1.232101933891581,
          3.0095425383427634,
          0.4425938492963295,
          0.9162478433127272,
          1.2393621244309527,
          0.8583948974115223,
          2.914095586573555,
          -0.4258262724845199,
          -0.9005761210829439,
          -0.8364615954432457,
          -0.4115342238796147,
          2.896655272453497,
          1.0961191225506766,
          0.534509790800896,
          1.986132807649885,
          0.477224899854368,
          2.6157436458028505,
          0.8818312381560202,
          0.2267046912985593,
          1.0526751549462068,
          0.9505458190777916,
          1.03260022608851,
          0.7338708667499199,
          -0.5781178460036576,
          2.084157607991091,
          -0.2930992409542539,
          0.615424056304874,
          1.4003205442234548,
          1.2190757761375133,
          0.43057725126233937,
          1.7927380299272029,
          1.0915888991585376,
          1.5035776965568646,
          1.423761942495534,
          -0.455210492071469,
          1.1394604770245347,
          0.5759131387013382,
          0.7594621018574461,
          -0.4357019953002197,
          0.1698670032309113,
          0.18104020124288678,
          3.058120272216079,
          0.8013022560805659,
          0.783167617742885,
          0.5240350939877352,
          0.2928233429902882,
          0.11182337688868305,
          1.9105672679816061,
          -0.41615757443599266,
          1.8056922958268689,
          1.3094003240650165,
          0.590794111225358,
          3.5272823671045677,
          -0.43818971636311077,
          1.0690406694673769,
          -0.5412751315439173,
          0.12650213278317346,
          0.8462440079795794,
          1.3355531533983434,
          0.8587419805861595,
          1.4308531496791965,
          1.248586533958981,
          0.7355037968628284,
          1.3730638121309675,
          0.6939109564756645,
          0.5344397425521377,
          1.0283158524551794,
          0.7320437620880578,
          0.182995427463859,
          2.45619989190081,
          0.9885037413249852,
          0.46638488877385853,
          0.8794682259257623,
          2.332991805974949,
          1.0353329688373918,
          0.1958735744275436,
          0.413935508450352,
          -0.3413178415066702,
          1.0387493027195844,
          1.4278746581459836,
          1.3747889009525964,
          0.3339921247973552,
          1.5176236399111316,
          -1.0192598078894224,
          -0.11674566794371533,
          -0.9540657439134204,
          -0.5414830533834851,
          2.1881221828386863,
          -0.13934112533674026,
          1.1012911881607372,
          2.3674244191153635,
          -0.3455742506518156,
          2.018531194923291,
          0.11783112257165251,
          2.308404635321077,
          -0.08565899835054092,
          0.8686928181795864,
          2.781420371716589,
          0.4542361603245235,
          1.1247332515744746,
          1.0257095280318729,
          1.4570748293783637,
          4.2940161787403,
          1.2739260806655899,
          0.6074082381391558,
          2.569419819083894,
          0.8249718082886083,
          1.2026873945970773,
          0.8553653781278382,
          0.971088709644577,
          0.9162500240099021,
          1.2289976101978546,
          1.54322843241613,
          0.14169876522064107,
          2.062636262277139,
          -0.9865097639501568,
          2.194160602539585,
          0.25673112870749826,
          0.9521546640919526,
          0.7117426288136453,
          2.6040394299774094,
          1.5499878098354398,
          -0.05671874720849268,
          3.157797764283919,
          1.2283480750099074,
          -0.3253007314382521,
          0.522753004803894,
          1.310600324744525,
          0.9186570623320875,
          -0.7386083473888476,
          1.663059941896951,
          0.5110774394444981,
          0.5358430893530807,
          1.0914909177676653,
          2.3740380363430513,
          3.3601552921370903,
          1.8254064799577248,
          0.7765319572600946,
          -0.44856568515655026,
          0.8696896588608922,
          0.9668231395462231,
          0.49463578832494304,
          2.4159113935023138,
          1.4347347012917377,
          0.4332131329333089,
          -0.3078008560732024,
          1.1739940819735408,
          0.7054826732714048,
          0.586595414377929,
          -0.8942594817966296,
          0.1866340133145582,
          1.6299293408467443,
          2.963489479618538,
          -0.2839979790448095,
          1.721195818989126,
          0.8077663784183856,
          1.0232906654243192,
          0.2678492544309359,
          -0.08605506678121189,
          -0.06372260402686036,
          2.1293593952945917,
          1.51098330932698,
          1.0860393494038127,
          1.4509514292942447,
          2.670547073993256,
          -0.7442002063928381,
          1.9800474092096474,
          0.9494121369320384,
          0.02386103419741681,
          1.1157201838396578,
          2.5575226301956384,
          -0.21706329792114198,
          0.9341430920913886,
          0.9253812238962081,
          1.7670053266704029,
          1.47323215456331,
          -0.5396268250062328,
          0.095268203417467,
          1.3872799724545806,
          1.7335955683786213,
          0.348096717009993,
          1.1493865636828033,
          1.79761436646601,
          0.2187337079388746,
          0.11856149678734629,
          1.761338791888472,
          1.5874369554753276,
          1.4699540185055051,
          1.2329399587611123,
          2.4157638363460077,
          0.8940291893267743,
          1.321064293947789,
          -0.17453265187371825,
          0.5075902046353409,
          2.1060763894548877,
          0.8715159260929386,
          1.5556462181968325,
          0.3996152925055354,
          0.5169177550837256,
          0.9449747197246181,
          3.0019632331335213,
          2.270439049857779,
          2.9692160926663176,
          0.41475230380444283,
          1.0140176771864264,
          0.6885579272858258,
          1.9680494716211703,
          0.3174010917904396,
          1.3022996966823697,
          1.353980859947701,
          -0.7474489678273752,
          1.8683197240103455,
          -0.24465932068946739,
          -0.20725110524909618,
          1.3774463445175715,
          2.19066145179539,
          1.755304678954683,
          -0.17598547463845082,
          -0.27120499531439046,
          0.8749470533748105,
          1.410220323462453,
          1.985944025902945,
          1.3457523829115061,
          0.9869635019641401,
          2.303146192476466,
          0.6501797028157874,
          1.3291821302314624,
          1.4496167159449036,
          0.7230376611102715,
          -0.07877454877594459,
          0.8115163782097297,
          1.0884166359278926,
          1.5377260929297645,
          -0.33967916660236686,
          1.8015819617488067,
          1.3871561183124936,
          0.025091731768423386,
          0.4171708345162578,
          0.9022329799013937,
          2.429376716040016,
          -0.32733553503927526,
          0.11220570331209734,
          1.1365641913128945,
          1.2733600379147607,
          0.005983317036355462,
          -0.5929178602762453,
          3.1939638080641424,
          -0.29689335596352784,
          3.520582448299467,
          0.46754355829014016,
          2.215444840046641,
          -0.03941878926806153,
          0.5980188102128579,
          1.7269412853450496,
          0.6131726327586069,
          1.8799002915464988,
          2.09023035058594,
          2.181951275451902,
          2.332733005319284,
          2.515692662672265,
          0.9874556260787029,
          1.4975597975549484,
          2.5266456943623705,
          -0.17773562722885883,
          0.5224270113951964,
          0.5464341959802601,
          0.624182194581689,
          1.2212799480518994,
          -0.11099815218659903,
          0.35416575887579416,
          0.4764546715940533,
          0.7740069157942878,
          1.4480090901926943,
          1.615188976794569,
          0.5137712553573743,
          1.4132388908008893,
          0.8104878472277934,
          0.8747412531952466,
          2.394929137371797,
          3.024158076542465,
          -0.8931873344355625,
          1.0324123578751359,
          1.4686932620347302,
          0.6372478933822491,
          0.08852484394421534,
          0.8366470147940365,
          1.403559882872471,
          0.5582997217843513,
          -0.08742816262102471,
          1.4435234488481024,
          1.2993520887724073,
          2.3295126845259904,
          1.6615571099402495,
          1.934966692246342,
          1.80685068731662,
          -0.06380019215185784,
          1.1862117696462409,
          0.8685730863006573,
          2.260192199506349,
          0.7381409556692029,
          -0.2209198590336976,
          1.5781735760789488,
          1.3291963611594864,
          0.6997114190019211,
          0.9321731539267138,
          0.515269742469563,
          1.758082646622877,
          1.8651989529883592,
          0.9821402877824451
         ]
        }
       ],
       "layout": {
        "barmode": "overlay",
        "template": {
         "data": {
          "bar": [
           {
            "error_x": {
             "color": "#2a3f5f"
            },
            "error_y": {
             "color": "#2a3f5f"
            },
            "marker": {
             "line": {
              "color": "#E5ECF6",
              "width": 0.5
             },
             "pattern": {
              "fillmode": "overlay",
              "size": 10,
              "solidity": 0.2
             }
            },
            "type": "bar"
           }
          ],
          "barpolar": [
           {
            "marker": {
             "line": {
              "color": "#E5ECF6",
              "width": 0.5
             },
             "pattern": {
              "fillmode": "overlay",
              "size": 10,
              "solidity": 0.2
             }
            },
            "type": "barpolar"
           }
          ],
          "carpet": [
           {
            "aaxis": {
             "endlinecolor": "#2a3f5f",
             "gridcolor": "white",
             "linecolor": "white",
             "minorgridcolor": "white",
             "startlinecolor": "#2a3f5f"
            },
            "baxis": {
             "endlinecolor": "#2a3f5f",
             "gridcolor": "white",
             "linecolor": "white",
             "minorgridcolor": "white",
             "startlinecolor": "#2a3f5f"
            },
            "type": "carpet"
           }
          ],
          "choropleth": [
           {
            "colorbar": {
             "outlinewidth": 0,
             "ticks": ""
            },
            "type": "choropleth"
           }
          ],
          "contour": [
           {
            "colorbar": {
             "outlinewidth": 0,
             "ticks": ""
            },
            "colorscale": [
             [
              0,
              "#0d0887"
             ],
             [
              0.1111111111111111,
              "#46039f"
             ],
             [
              0.2222222222222222,
              "#7201a8"
             ],
             [
              0.3333333333333333,
              "#9c179e"
             ],
             [
              0.4444444444444444,
              "#bd3786"
             ],
             [
              0.5555555555555556,
              "#d8576b"
             ],
             [
              0.6666666666666666,
              "#ed7953"
             ],
             [
              0.7777777777777778,
              "#fb9f3a"
             ],
             [
              0.8888888888888888,
              "#fdca26"
             ],
             [
              1,
              "#f0f921"
             ]
            ],
            "type": "contour"
           }
          ],
          "contourcarpet": [
           {
            "colorbar": {
             "outlinewidth": 0,
             "ticks": ""
            },
            "type": "contourcarpet"
           }
          ],
          "heatmap": [
           {
            "colorbar": {
             "outlinewidth": 0,
             "ticks": ""
            },
            "colorscale": [
             [
              0,
              "#0d0887"
             ],
             [
              0.1111111111111111,
              "#46039f"
             ],
             [
              0.2222222222222222,
              "#7201a8"
             ],
             [
              0.3333333333333333,
              "#9c179e"
             ],
             [
              0.4444444444444444,
              "#bd3786"
             ],
             [
              0.5555555555555556,
              "#d8576b"
             ],
             [
              0.6666666666666666,
              "#ed7953"
             ],
             [
              0.7777777777777778,
              "#fb9f3a"
             ],
             [
              0.8888888888888888,
              "#fdca26"
             ],
             [
              1,
              "#f0f921"
             ]
            ],
            "type": "heatmap"
           }
          ],
          "heatmapgl": [
           {
            "colorbar": {
             "outlinewidth": 0,
             "ticks": ""
            },
            "colorscale": [
             [
              0,
              "#0d0887"
             ],
             [
              0.1111111111111111,
              "#46039f"
             ],
             [
              0.2222222222222222,
              "#7201a8"
             ],
             [
              0.3333333333333333,
              "#9c179e"
             ],
             [
              0.4444444444444444,
              "#bd3786"
             ],
             [
              0.5555555555555556,
              "#d8576b"
             ],
             [
              0.6666666666666666,
              "#ed7953"
             ],
             [
              0.7777777777777778,
              "#fb9f3a"
             ],
             [
              0.8888888888888888,
              "#fdca26"
             ],
             [
              1,
              "#f0f921"
             ]
            ],
            "type": "heatmapgl"
           }
          ],
          "histogram": [
           {
            "marker": {
             "pattern": {
              "fillmode": "overlay",
              "size": 10,
              "solidity": 0.2
             }
            },
            "type": "histogram"
           }
          ],
          "histogram2d": [
           {
            "colorbar": {
             "outlinewidth": 0,
             "ticks": ""
            },
            "colorscale": [
             [
              0,
              "#0d0887"
             ],
             [
              0.1111111111111111,
              "#46039f"
             ],
             [
              0.2222222222222222,
              "#7201a8"
             ],
             [
              0.3333333333333333,
              "#9c179e"
             ],
             [
              0.4444444444444444,
              "#bd3786"
             ],
             [
              0.5555555555555556,
              "#d8576b"
             ],
             [
              0.6666666666666666,
              "#ed7953"
             ],
             [
              0.7777777777777778,
              "#fb9f3a"
             ],
             [
              0.8888888888888888,
              "#fdca26"
             ],
             [
              1,
              "#f0f921"
             ]
            ],
            "type": "histogram2d"
           }
          ],
          "histogram2dcontour": [
           {
            "colorbar": {
             "outlinewidth": 0,
             "ticks": ""
            },
            "colorscale": [
             [
              0,
              "#0d0887"
             ],
             [
              0.1111111111111111,
              "#46039f"
             ],
             [
              0.2222222222222222,
              "#7201a8"
             ],
             [
              0.3333333333333333,
              "#9c179e"
             ],
             [
              0.4444444444444444,
              "#bd3786"
             ],
             [
              0.5555555555555556,
              "#d8576b"
             ],
             [
              0.6666666666666666,
              "#ed7953"
             ],
             [
              0.7777777777777778,
              "#fb9f3a"
             ],
             [
              0.8888888888888888,
              "#fdca26"
             ],
             [
              1,
              "#f0f921"
             ]
            ],
            "type": "histogram2dcontour"
           }
          ],
          "mesh3d": [
           {
            "colorbar": {
             "outlinewidth": 0,
             "ticks": ""
            },
            "type": "mesh3d"
           }
          ],
          "parcoords": [
           {
            "line": {
             "colorbar": {
              "outlinewidth": 0,
              "ticks": ""
             }
            },
            "type": "parcoords"
           }
          ],
          "pie": [
           {
            "automargin": true,
            "type": "pie"
           }
          ],
          "scatter": [
           {
            "fillpattern": {
             "fillmode": "overlay",
             "size": 10,
             "solidity": 0.2
            },
            "type": "scatter"
           }
          ],
          "scatter3d": [
           {
            "line": {
             "colorbar": {
              "outlinewidth": 0,
              "ticks": ""
             }
            },
            "marker": {
             "colorbar": {
              "outlinewidth": 0,
              "ticks": ""
             }
            },
            "type": "scatter3d"
           }
          ],
          "scattercarpet": [
           {
            "marker": {
             "colorbar": {
              "outlinewidth": 0,
              "ticks": ""
             }
            },
            "type": "scattercarpet"
           }
          ],
          "scattergeo": [
           {
            "marker": {
             "colorbar": {
              "outlinewidth": 0,
              "ticks": ""
             }
            },
            "type": "scattergeo"
           }
          ],
          "scattergl": [
           {
            "marker": {
             "colorbar": {
              "outlinewidth": 0,
              "ticks": ""
             }
            },
            "type": "scattergl"
           }
          ],
          "scattermapbox": [
           {
            "marker": {
             "colorbar": {
              "outlinewidth": 0,
              "ticks": ""
             }
            },
            "type": "scattermapbox"
           }
          ],
          "scatterpolar": [
           {
            "marker": {
             "colorbar": {
              "outlinewidth": 0,
              "ticks": ""
             }
            },
            "type": "scatterpolar"
           }
          ],
          "scatterpolargl": [
           {
            "marker": {
             "colorbar": {
              "outlinewidth": 0,
              "ticks": ""
             }
            },
            "type": "scatterpolargl"
           }
          ],
          "scatterternary": [
           {
            "marker": {
             "colorbar": {
              "outlinewidth": 0,
              "ticks": ""
             }
            },
            "type": "scatterternary"
           }
          ],
          "surface": [
           {
            "colorbar": {
             "outlinewidth": 0,
             "ticks": ""
            },
            "colorscale": [
             [
              0,
              "#0d0887"
             ],
             [
              0.1111111111111111,
              "#46039f"
             ],
             [
              0.2222222222222222,
              "#7201a8"
             ],
             [
              0.3333333333333333,
              "#9c179e"
             ],
             [
              0.4444444444444444,
              "#bd3786"
             ],
             [
              0.5555555555555556,
              "#d8576b"
             ],
             [
              0.6666666666666666,
              "#ed7953"
             ],
             [
              0.7777777777777778,
              "#fb9f3a"
             ],
             [
              0.8888888888888888,
              "#fdca26"
             ],
             [
              1,
              "#f0f921"
             ]
            ],
            "type": "surface"
           }
          ],
          "table": [
           {
            "cells": {
             "fill": {
              "color": "#EBF0F8"
             },
             "line": {
              "color": "white"
             }
            },
            "header": {
             "fill": {
              "color": "#C8D4E3"
             },
             "line": {
              "color": "white"
             }
            },
            "type": "table"
           }
          ]
         },
         "layout": {
          "annotationdefaults": {
           "arrowcolor": "#2a3f5f",
           "arrowhead": 0,
           "arrowwidth": 1
          },
          "autotypenumbers": "strict",
          "coloraxis": {
           "colorbar": {
            "outlinewidth": 0,
            "ticks": ""
           }
          },
          "colorscale": {
           "diverging": [
            [
             0,
             "#8e0152"
            ],
            [
             0.1,
             "#c51b7d"
            ],
            [
             0.2,
             "#de77ae"
            ],
            [
             0.3,
             "#f1b6da"
            ],
            [
             0.4,
             "#fde0ef"
            ],
            [
             0.5,
             "#f7f7f7"
            ],
            [
             0.6,
             "#e6f5d0"
            ],
            [
             0.7,
             "#b8e186"
            ],
            [
             0.8,
             "#7fbc41"
            ],
            [
             0.9,
             "#4d9221"
            ],
            [
             1,
             "#276419"
            ]
           ],
           "sequential": [
            [
             0,
             "#0d0887"
            ],
            [
             0.1111111111111111,
             "#46039f"
            ],
            [
             0.2222222222222222,
             "#7201a8"
            ],
            [
             0.3333333333333333,
             "#9c179e"
            ],
            [
             0.4444444444444444,
             "#bd3786"
            ],
            [
             0.5555555555555556,
             "#d8576b"
            ],
            [
             0.6666666666666666,
             "#ed7953"
            ],
            [
             0.7777777777777778,
             "#fb9f3a"
            ],
            [
             0.8888888888888888,
             "#fdca26"
            ],
            [
             1,
             "#f0f921"
            ]
           ],
           "sequentialminus": [
            [
             0,
             "#0d0887"
            ],
            [
             0.1111111111111111,
             "#46039f"
            ],
            [
             0.2222222222222222,
             "#7201a8"
            ],
            [
             0.3333333333333333,
             "#9c179e"
            ],
            [
             0.4444444444444444,
             "#bd3786"
            ],
            [
             0.5555555555555556,
             "#d8576b"
            ],
            [
             0.6666666666666666,
             "#ed7953"
            ],
            [
             0.7777777777777778,
             "#fb9f3a"
            ],
            [
             0.8888888888888888,
             "#fdca26"
            ],
            [
             1,
             "#f0f921"
            ]
           ]
          },
          "colorway": [
           "#636efa",
           "#EF553B",
           "#00cc96",
           "#ab63fa",
           "#FFA15A",
           "#19d3f3",
           "#FF6692",
           "#B6E880",
           "#FF97FF",
           "#FECB52"
          ],
          "font": {
           "color": "#2a3f5f"
          },
          "geo": {
           "bgcolor": "white",
           "lakecolor": "white",
           "landcolor": "#E5ECF6",
           "showlakes": true,
           "showland": true,
           "subunitcolor": "white"
          },
          "hoverlabel": {
           "align": "left"
          },
          "hovermode": "closest",
          "mapbox": {
           "style": "light"
          },
          "paper_bgcolor": "white",
          "plot_bgcolor": "#E5ECF6",
          "polar": {
           "angularaxis": {
            "gridcolor": "white",
            "linecolor": "white",
            "ticks": ""
           },
           "bgcolor": "#E5ECF6",
           "radialaxis": {
            "gridcolor": "white",
            "linecolor": "white",
            "ticks": ""
           }
          },
          "scene": {
           "xaxis": {
            "backgroundcolor": "#E5ECF6",
            "gridcolor": "white",
            "gridwidth": 2,
            "linecolor": "white",
            "showbackground": true,
            "ticks": "",
            "zerolinecolor": "white"
           },
           "yaxis": {
            "backgroundcolor": "#E5ECF6",
            "gridcolor": "white",
            "gridwidth": 2,
            "linecolor": "white",
            "showbackground": true,
            "ticks": "",
            "zerolinecolor": "white"
           },
           "zaxis": {
            "backgroundcolor": "#E5ECF6",
            "gridcolor": "white",
            "gridwidth": 2,
            "linecolor": "white",
            "showbackground": true,
            "ticks": "",
            "zerolinecolor": "white"
           }
          },
          "shapedefaults": {
           "line": {
            "color": "#2a3f5f"
           }
          },
          "ternary": {
           "aaxis": {
            "gridcolor": "white",
            "linecolor": "white",
            "ticks": ""
           },
           "baxis": {
            "gridcolor": "white",
            "linecolor": "white",
            "ticks": ""
           },
           "bgcolor": "#E5ECF6",
           "caxis": {
            "gridcolor": "white",
            "linecolor": "white",
            "ticks": ""
           }
          },
          "title": {
           "x": 0.05
          },
          "xaxis": {
           "automargin": true,
           "gridcolor": "white",
           "linecolor": "white",
           "ticks": "",
           "title": {
            "standoff": 15
           },
           "zerolinecolor": "white",
           "zerolinewidth": 2
          },
          "yaxis": {
           "automargin": true,
           "gridcolor": "white",
           "linecolor": "white",
           "ticks": "",
           "title": {
            "standoff": 15
           },
           "zerolinecolor": "white",
           "zerolinewidth": 2
          }
         }
        }
       }
      }
     },
     "metadata": {},
     "output_type": "display_data"
    }
   ],
   "source": [
    "import plotly.graph_objects as go\n",
    "\n",
    "import numpy as np\n",
    "\n",
    "x0 = np.random.randn(500)\n",
    "# Add 1 to shift the mean of the Gaussian distribution\n",
    "x1 = np.random.randn(500) + 1\n",
    "\n",
    "fig = go.Figure()\n",
    "fig.add_trace(go.Histogram(x=x0))\n",
    "fig.add_trace(go.Histogram(x=x1))\n",
    "\n",
    "# Overlay both histograms\n",
    "fig.update_layout(barmode='overlay')\n",
    "# Reduce opacity to see both histograms\n",
    "fig.update_traces(opacity=0.75)\n",
    "fig.show()\n"
   ]
  },
  {
   "cell_type": "code",
   "execution_count": 53,
   "metadata": {},
   "outputs": [
    {
     "data": {
      "application/vnd.plotly.v1+json": {
       "config": {
        "plotlyServerURL": "https://plot.ly"
       },
       "data": [
        {
         "hovertemplate": "year=%{x}<br>lifeExp=%{y}<extra></extra>",
         "legendgroup": "",
         "line": {
          "color": "#636efa",
          "dash": "solid"
         },
         "marker": {
          "symbol": "circle"
         },
         "mode": "lines",
         "name": "",
         "orientation": "v",
         "showlegend": false,
         "type": "scatter",
         "x": [
          1952,
          1957,
          1962,
          1967,
          1972,
          1977,
          1982,
          1987,
          1992,
          1997,
          2002,
          2007
         ],
         "xaxis": "x",
         "y": [
          68.75,
          69.96,
          71.3,
          72.13,
          72.88,
          74.21,
          75.76,
          76.86,
          77.95,
          78.61,
          79.77,
          80.653
         ],
         "yaxis": "y"
        }
       ],
       "layout": {
        "legend": {
         "tracegroupgap": 0
        },
        "template": {
         "data": {
          "bar": [
           {
            "error_x": {
             "color": "#2a3f5f"
            },
            "error_y": {
             "color": "#2a3f5f"
            },
            "marker": {
             "line": {
              "color": "#E5ECF6",
              "width": 0.5
             },
             "pattern": {
              "fillmode": "overlay",
              "size": 10,
              "solidity": 0.2
             }
            },
            "type": "bar"
           }
          ],
          "barpolar": [
           {
            "marker": {
             "line": {
              "color": "#E5ECF6",
              "width": 0.5
             },
             "pattern": {
              "fillmode": "overlay",
              "size": 10,
              "solidity": 0.2
             }
            },
            "type": "barpolar"
           }
          ],
          "carpet": [
           {
            "aaxis": {
             "endlinecolor": "#2a3f5f",
             "gridcolor": "white",
             "linecolor": "white",
             "minorgridcolor": "white",
             "startlinecolor": "#2a3f5f"
            },
            "baxis": {
             "endlinecolor": "#2a3f5f",
             "gridcolor": "white",
             "linecolor": "white",
             "minorgridcolor": "white",
             "startlinecolor": "#2a3f5f"
            },
            "type": "carpet"
           }
          ],
          "choropleth": [
           {
            "colorbar": {
             "outlinewidth": 0,
             "ticks": ""
            },
            "type": "choropleth"
           }
          ],
          "contour": [
           {
            "colorbar": {
             "outlinewidth": 0,
             "ticks": ""
            },
            "colorscale": [
             [
              0,
              "#0d0887"
             ],
             [
              0.1111111111111111,
              "#46039f"
             ],
             [
              0.2222222222222222,
              "#7201a8"
             ],
             [
              0.3333333333333333,
              "#9c179e"
             ],
             [
              0.4444444444444444,
              "#bd3786"
             ],
             [
              0.5555555555555556,
              "#d8576b"
             ],
             [
              0.6666666666666666,
              "#ed7953"
             ],
             [
              0.7777777777777778,
              "#fb9f3a"
             ],
             [
              0.8888888888888888,
              "#fdca26"
             ],
             [
              1,
              "#f0f921"
             ]
            ],
            "type": "contour"
           }
          ],
          "contourcarpet": [
           {
            "colorbar": {
             "outlinewidth": 0,
             "ticks": ""
            },
            "type": "contourcarpet"
           }
          ],
          "heatmap": [
           {
            "colorbar": {
             "outlinewidth": 0,
             "ticks": ""
            },
            "colorscale": [
             [
              0,
              "#0d0887"
             ],
             [
              0.1111111111111111,
              "#46039f"
             ],
             [
              0.2222222222222222,
              "#7201a8"
             ],
             [
              0.3333333333333333,
              "#9c179e"
             ],
             [
              0.4444444444444444,
              "#bd3786"
             ],
             [
              0.5555555555555556,
              "#d8576b"
             ],
             [
              0.6666666666666666,
              "#ed7953"
             ],
             [
              0.7777777777777778,
              "#fb9f3a"
             ],
             [
              0.8888888888888888,
              "#fdca26"
             ],
             [
              1,
              "#f0f921"
             ]
            ],
            "type": "heatmap"
           }
          ],
          "heatmapgl": [
           {
            "colorbar": {
             "outlinewidth": 0,
             "ticks": ""
            },
            "colorscale": [
             [
              0,
              "#0d0887"
             ],
             [
              0.1111111111111111,
              "#46039f"
             ],
             [
              0.2222222222222222,
              "#7201a8"
             ],
             [
              0.3333333333333333,
              "#9c179e"
             ],
             [
              0.4444444444444444,
              "#bd3786"
             ],
             [
              0.5555555555555556,
              "#d8576b"
             ],
             [
              0.6666666666666666,
              "#ed7953"
             ],
             [
              0.7777777777777778,
              "#fb9f3a"
             ],
             [
              0.8888888888888888,
              "#fdca26"
             ],
             [
              1,
              "#f0f921"
             ]
            ],
            "type": "heatmapgl"
           }
          ],
          "histogram": [
           {
            "marker": {
             "pattern": {
              "fillmode": "overlay",
              "size": 10,
              "solidity": 0.2
             }
            },
            "type": "histogram"
           }
          ],
          "histogram2d": [
           {
            "colorbar": {
             "outlinewidth": 0,
             "ticks": ""
            },
            "colorscale": [
             [
              0,
              "#0d0887"
             ],
             [
              0.1111111111111111,
              "#46039f"
             ],
             [
              0.2222222222222222,
              "#7201a8"
             ],
             [
              0.3333333333333333,
              "#9c179e"
             ],
             [
              0.4444444444444444,
              "#bd3786"
             ],
             [
              0.5555555555555556,
              "#d8576b"
             ],
             [
              0.6666666666666666,
              "#ed7953"
             ],
             [
              0.7777777777777778,
              "#fb9f3a"
             ],
             [
              0.8888888888888888,
              "#fdca26"
             ],
             [
              1,
              "#f0f921"
             ]
            ],
            "type": "histogram2d"
           }
          ],
          "histogram2dcontour": [
           {
            "colorbar": {
             "outlinewidth": 0,
             "ticks": ""
            },
            "colorscale": [
             [
              0,
              "#0d0887"
             ],
             [
              0.1111111111111111,
              "#46039f"
             ],
             [
              0.2222222222222222,
              "#7201a8"
             ],
             [
              0.3333333333333333,
              "#9c179e"
             ],
             [
              0.4444444444444444,
              "#bd3786"
             ],
             [
              0.5555555555555556,
              "#d8576b"
             ],
             [
              0.6666666666666666,
              "#ed7953"
             ],
             [
              0.7777777777777778,
              "#fb9f3a"
             ],
             [
              0.8888888888888888,
              "#fdca26"
             ],
             [
              1,
              "#f0f921"
             ]
            ],
            "type": "histogram2dcontour"
           }
          ],
          "mesh3d": [
           {
            "colorbar": {
             "outlinewidth": 0,
             "ticks": ""
            },
            "type": "mesh3d"
           }
          ],
          "parcoords": [
           {
            "line": {
             "colorbar": {
              "outlinewidth": 0,
              "ticks": ""
             }
            },
            "type": "parcoords"
           }
          ],
          "pie": [
           {
            "automargin": true,
            "type": "pie"
           }
          ],
          "scatter": [
           {
            "fillpattern": {
             "fillmode": "overlay",
             "size": 10,
             "solidity": 0.2
            },
            "type": "scatter"
           }
          ],
          "scatter3d": [
           {
            "line": {
             "colorbar": {
              "outlinewidth": 0,
              "ticks": ""
             }
            },
            "marker": {
             "colorbar": {
              "outlinewidth": 0,
              "ticks": ""
             }
            },
            "type": "scatter3d"
           }
          ],
          "scattercarpet": [
           {
            "marker": {
             "colorbar": {
              "outlinewidth": 0,
              "ticks": ""
             }
            },
            "type": "scattercarpet"
           }
          ],
          "scattergeo": [
           {
            "marker": {
             "colorbar": {
              "outlinewidth": 0,
              "ticks": ""
             }
            },
            "type": "scattergeo"
           }
          ],
          "scattergl": [
           {
            "marker": {
             "colorbar": {
              "outlinewidth": 0,
              "ticks": ""
             }
            },
            "type": "scattergl"
           }
          ],
          "scattermapbox": [
           {
            "marker": {
             "colorbar": {
              "outlinewidth": 0,
              "ticks": ""
             }
            },
            "type": "scattermapbox"
           }
          ],
          "scatterpolar": [
           {
            "marker": {
             "colorbar": {
              "outlinewidth": 0,
              "ticks": ""
             }
            },
            "type": "scatterpolar"
           }
          ],
          "scatterpolargl": [
           {
            "marker": {
             "colorbar": {
              "outlinewidth": 0,
              "ticks": ""
             }
            },
            "type": "scatterpolargl"
           }
          ],
          "scatterternary": [
           {
            "marker": {
             "colorbar": {
              "outlinewidth": 0,
              "ticks": ""
             }
            },
            "type": "scatterternary"
           }
          ],
          "surface": [
           {
            "colorbar": {
             "outlinewidth": 0,
             "ticks": ""
            },
            "colorscale": [
             [
              0,
              "#0d0887"
             ],
             [
              0.1111111111111111,
              "#46039f"
             ],
             [
              0.2222222222222222,
              "#7201a8"
             ],
             [
              0.3333333333333333,
              "#9c179e"
             ],
             [
              0.4444444444444444,
              "#bd3786"
             ],
             [
              0.5555555555555556,
              "#d8576b"
             ],
             [
              0.6666666666666666,
              "#ed7953"
             ],
             [
              0.7777777777777778,
              "#fb9f3a"
             ],
             [
              0.8888888888888888,
              "#fdca26"
             ],
             [
              1,
              "#f0f921"
             ]
            ],
            "type": "surface"
           }
          ],
          "table": [
           {
            "cells": {
             "fill": {
              "color": "#EBF0F8"
             },
             "line": {
              "color": "white"
             }
            },
            "header": {
             "fill": {
              "color": "#C8D4E3"
             },
             "line": {
              "color": "white"
             }
            },
            "type": "table"
           }
          ]
         },
         "layout": {
          "annotationdefaults": {
           "arrowcolor": "#2a3f5f",
           "arrowhead": 0,
           "arrowwidth": 1
          },
          "autotypenumbers": "strict",
          "coloraxis": {
           "colorbar": {
            "outlinewidth": 0,
            "ticks": ""
           }
          },
          "colorscale": {
           "diverging": [
            [
             0,
             "#8e0152"
            ],
            [
             0.1,
             "#c51b7d"
            ],
            [
             0.2,
             "#de77ae"
            ],
            [
             0.3,
             "#f1b6da"
            ],
            [
             0.4,
             "#fde0ef"
            ],
            [
             0.5,
             "#f7f7f7"
            ],
            [
             0.6,
             "#e6f5d0"
            ],
            [
             0.7,
             "#b8e186"
            ],
            [
             0.8,
             "#7fbc41"
            ],
            [
             0.9,
             "#4d9221"
            ],
            [
             1,
             "#276419"
            ]
           ],
           "sequential": [
            [
             0,
             "#0d0887"
            ],
            [
             0.1111111111111111,
             "#46039f"
            ],
            [
             0.2222222222222222,
             "#7201a8"
            ],
            [
             0.3333333333333333,
             "#9c179e"
            ],
            [
             0.4444444444444444,
             "#bd3786"
            ],
            [
             0.5555555555555556,
             "#d8576b"
            ],
            [
             0.6666666666666666,
             "#ed7953"
            ],
            [
             0.7777777777777778,
             "#fb9f3a"
            ],
            [
             0.8888888888888888,
             "#fdca26"
            ],
            [
             1,
             "#f0f921"
            ]
           ],
           "sequentialminus": [
            [
             0,
             "#0d0887"
            ],
            [
             0.1111111111111111,
             "#46039f"
            ],
            [
             0.2222222222222222,
             "#7201a8"
            ],
            [
             0.3333333333333333,
             "#9c179e"
            ],
            [
             0.4444444444444444,
             "#bd3786"
            ],
            [
             0.5555555555555556,
             "#d8576b"
            ],
            [
             0.6666666666666666,
             "#ed7953"
            ],
            [
             0.7777777777777778,
             "#fb9f3a"
            ],
            [
             0.8888888888888888,
             "#fdca26"
            ],
            [
             1,
             "#f0f921"
            ]
           ]
          },
          "colorway": [
           "#636efa",
           "#EF553B",
           "#00cc96",
           "#ab63fa",
           "#FFA15A",
           "#19d3f3",
           "#FF6692",
           "#B6E880",
           "#FF97FF",
           "#FECB52"
          ],
          "font": {
           "color": "#2a3f5f"
          },
          "geo": {
           "bgcolor": "white",
           "lakecolor": "white",
           "landcolor": "#E5ECF6",
           "showlakes": true,
           "showland": true,
           "subunitcolor": "white"
          },
          "hoverlabel": {
           "align": "left"
          },
          "hovermode": "closest",
          "mapbox": {
           "style": "light"
          },
          "paper_bgcolor": "white",
          "plot_bgcolor": "#E5ECF6",
          "polar": {
           "angularaxis": {
            "gridcolor": "white",
            "linecolor": "white",
            "ticks": ""
           },
           "bgcolor": "#E5ECF6",
           "radialaxis": {
            "gridcolor": "white",
            "linecolor": "white",
            "ticks": ""
           }
          },
          "scene": {
           "xaxis": {
            "backgroundcolor": "#E5ECF6",
            "gridcolor": "white",
            "gridwidth": 2,
            "linecolor": "white",
            "showbackground": true,
            "ticks": "",
            "zerolinecolor": "white"
           },
           "yaxis": {
            "backgroundcolor": "#E5ECF6",
            "gridcolor": "white",
            "gridwidth": 2,
            "linecolor": "white",
            "showbackground": true,
            "ticks": "",
            "zerolinecolor": "white"
           },
           "zaxis": {
            "backgroundcolor": "#E5ECF6",
            "gridcolor": "white",
            "gridwidth": 2,
            "linecolor": "white",
            "showbackground": true,
            "ticks": "",
            "zerolinecolor": "white"
           }
          },
          "shapedefaults": {
           "line": {
            "color": "#2a3f5f"
           }
          },
          "ternary": {
           "aaxis": {
            "gridcolor": "white",
            "linecolor": "white",
            "ticks": ""
           },
           "baxis": {
            "gridcolor": "white",
            "linecolor": "white",
            "ticks": ""
           },
           "bgcolor": "#E5ECF6",
           "caxis": {
            "gridcolor": "white",
            "linecolor": "white",
            "ticks": ""
           }
          },
          "title": {
           "x": 0.05
          },
          "xaxis": {
           "automargin": true,
           "gridcolor": "white",
           "linecolor": "white",
           "ticks": "",
           "title": {
            "standoff": 15
           },
           "zerolinecolor": "white",
           "zerolinewidth": 2
          },
          "yaxis": {
           "automargin": true,
           "gridcolor": "white",
           "linecolor": "white",
           "ticks": "",
           "title": {
            "standoff": 15
           },
           "zerolinecolor": "white",
           "zerolinewidth": 2
          }
         }
        },
        "title": {
         "text": "Life expectancy in Canada"
        },
        "xaxis": {
         "anchor": "y",
         "domain": [
          0,
          1
         ],
         "title": {
          "text": "year"
         }
        },
        "yaxis": {
         "anchor": "x",
         "domain": [
          0,
          1
         ],
         "title": {
          "text": "lifeExp"
         }
        }
       }
      }
     },
     "metadata": {},
     "output_type": "display_data"
    }
   ],
   "source": [
    "import plotly.express as px\n",
    "\n",
    "df = px.data.gapminder().query(\"country=='Canada'\")\n",
    "fig = px.line(df, x=\"year\", y=\"lifeExp\", title='Life expectancy in Canada')\n",
    "fig.show()\n"
   ]
  },
  {
   "cell_type": "code",
   "execution_count": 54,
   "metadata": {},
   "outputs": [
    {
     "data": {
      "application/vnd.plotly.v1+json": {
       "config": {
        "plotlyServerURL": "https://plot.ly"
       },
       "data": [
        {
         "hovertemplate": "country=Australia<br>year=%{x}<br>lifeExp=%{y}<extra></extra>",
         "legendgroup": "Australia",
         "line": {
          "color": "#636efa",
          "dash": "solid"
         },
         "marker": {
          "symbol": "circle"
         },
         "mode": "lines",
         "name": "Australia",
         "orientation": "v",
         "showlegend": true,
         "type": "scatter",
         "x": [
          1952,
          1957,
          1962,
          1967,
          1972,
          1977,
          1982,
          1987,
          1992,
          1997,
          2002,
          2007
         ],
         "xaxis": "x",
         "y": [
          69.12,
          70.33,
          70.93,
          71.1,
          71.93,
          73.49,
          74.74,
          76.32,
          77.56,
          78.83,
          80.37,
          81.235
         ],
         "yaxis": "y"
        },
        {
         "hovertemplate": "country=New Zealand<br>year=%{x}<br>lifeExp=%{y}<extra></extra>",
         "legendgroup": "New Zealand",
         "line": {
          "color": "#EF553B",
          "dash": "solid"
         },
         "marker": {
          "symbol": "circle"
         },
         "mode": "lines",
         "name": "New Zealand",
         "orientation": "v",
         "showlegend": true,
         "type": "scatter",
         "x": [
          1952,
          1957,
          1962,
          1967,
          1972,
          1977,
          1982,
          1987,
          1992,
          1997,
          2002,
          2007
         ],
         "xaxis": "x",
         "y": [
          69.39,
          70.26,
          71.24,
          71.52,
          71.89,
          72.22,
          73.84,
          74.32,
          76.33,
          77.55,
          79.11,
          80.204
         ],
         "yaxis": "y"
        }
       ],
       "layout": {
        "legend": {
         "title": {
          "text": "country"
         },
         "tracegroupgap": 0
        },
        "margin": {
         "t": 60
        },
        "template": {
         "data": {
          "bar": [
           {
            "error_x": {
             "color": "#2a3f5f"
            },
            "error_y": {
             "color": "#2a3f5f"
            },
            "marker": {
             "line": {
              "color": "#E5ECF6",
              "width": 0.5
             },
             "pattern": {
              "fillmode": "overlay",
              "size": 10,
              "solidity": 0.2
             }
            },
            "type": "bar"
           }
          ],
          "barpolar": [
           {
            "marker": {
             "line": {
              "color": "#E5ECF6",
              "width": 0.5
             },
             "pattern": {
              "fillmode": "overlay",
              "size": 10,
              "solidity": 0.2
             }
            },
            "type": "barpolar"
           }
          ],
          "carpet": [
           {
            "aaxis": {
             "endlinecolor": "#2a3f5f",
             "gridcolor": "white",
             "linecolor": "white",
             "minorgridcolor": "white",
             "startlinecolor": "#2a3f5f"
            },
            "baxis": {
             "endlinecolor": "#2a3f5f",
             "gridcolor": "white",
             "linecolor": "white",
             "minorgridcolor": "white",
             "startlinecolor": "#2a3f5f"
            },
            "type": "carpet"
           }
          ],
          "choropleth": [
           {
            "colorbar": {
             "outlinewidth": 0,
             "ticks": ""
            },
            "type": "choropleth"
           }
          ],
          "contour": [
           {
            "colorbar": {
             "outlinewidth": 0,
             "ticks": ""
            },
            "colorscale": [
             [
              0,
              "#0d0887"
             ],
             [
              0.1111111111111111,
              "#46039f"
             ],
             [
              0.2222222222222222,
              "#7201a8"
             ],
             [
              0.3333333333333333,
              "#9c179e"
             ],
             [
              0.4444444444444444,
              "#bd3786"
             ],
             [
              0.5555555555555556,
              "#d8576b"
             ],
             [
              0.6666666666666666,
              "#ed7953"
             ],
             [
              0.7777777777777778,
              "#fb9f3a"
             ],
             [
              0.8888888888888888,
              "#fdca26"
             ],
             [
              1,
              "#f0f921"
             ]
            ],
            "type": "contour"
           }
          ],
          "contourcarpet": [
           {
            "colorbar": {
             "outlinewidth": 0,
             "ticks": ""
            },
            "type": "contourcarpet"
           }
          ],
          "heatmap": [
           {
            "colorbar": {
             "outlinewidth": 0,
             "ticks": ""
            },
            "colorscale": [
             [
              0,
              "#0d0887"
             ],
             [
              0.1111111111111111,
              "#46039f"
             ],
             [
              0.2222222222222222,
              "#7201a8"
             ],
             [
              0.3333333333333333,
              "#9c179e"
             ],
             [
              0.4444444444444444,
              "#bd3786"
             ],
             [
              0.5555555555555556,
              "#d8576b"
             ],
             [
              0.6666666666666666,
              "#ed7953"
             ],
             [
              0.7777777777777778,
              "#fb9f3a"
             ],
             [
              0.8888888888888888,
              "#fdca26"
             ],
             [
              1,
              "#f0f921"
             ]
            ],
            "type": "heatmap"
           }
          ],
          "heatmapgl": [
           {
            "colorbar": {
             "outlinewidth": 0,
             "ticks": ""
            },
            "colorscale": [
             [
              0,
              "#0d0887"
             ],
             [
              0.1111111111111111,
              "#46039f"
             ],
             [
              0.2222222222222222,
              "#7201a8"
             ],
             [
              0.3333333333333333,
              "#9c179e"
             ],
             [
              0.4444444444444444,
              "#bd3786"
             ],
             [
              0.5555555555555556,
              "#d8576b"
             ],
             [
              0.6666666666666666,
              "#ed7953"
             ],
             [
              0.7777777777777778,
              "#fb9f3a"
             ],
             [
              0.8888888888888888,
              "#fdca26"
             ],
             [
              1,
              "#f0f921"
             ]
            ],
            "type": "heatmapgl"
           }
          ],
          "histogram": [
           {
            "marker": {
             "pattern": {
              "fillmode": "overlay",
              "size": 10,
              "solidity": 0.2
             }
            },
            "type": "histogram"
           }
          ],
          "histogram2d": [
           {
            "colorbar": {
             "outlinewidth": 0,
             "ticks": ""
            },
            "colorscale": [
             [
              0,
              "#0d0887"
             ],
             [
              0.1111111111111111,
              "#46039f"
             ],
             [
              0.2222222222222222,
              "#7201a8"
             ],
             [
              0.3333333333333333,
              "#9c179e"
             ],
             [
              0.4444444444444444,
              "#bd3786"
             ],
             [
              0.5555555555555556,
              "#d8576b"
             ],
             [
              0.6666666666666666,
              "#ed7953"
             ],
             [
              0.7777777777777778,
              "#fb9f3a"
             ],
             [
              0.8888888888888888,
              "#fdca26"
             ],
             [
              1,
              "#f0f921"
             ]
            ],
            "type": "histogram2d"
           }
          ],
          "histogram2dcontour": [
           {
            "colorbar": {
             "outlinewidth": 0,
             "ticks": ""
            },
            "colorscale": [
             [
              0,
              "#0d0887"
             ],
             [
              0.1111111111111111,
              "#46039f"
             ],
             [
              0.2222222222222222,
              "#7201a8"
             ],
             [
              0.3333333333333333,
              "#9c179e"
             ],
             [
              0.4444444444444444,
              "#bd3786"
             ],
             [
              0.5555555555555556,
              "#d8576b"
             ],
             [
              0.6666666666666666,
              "#ed7953"
             ],
             [
              0.7777777777777778,
              "#fb9f3a"
             ],
             [
              0.8888888888888888,
              "#fdca26"
             ],
             [
              1,
              "#f0f921"
             ]
            ],
            "type": "histogram2dcontour"
           }
          ],
          "mesh3d": [
           {
            "colorbar": {
             "outlinewidth": 0,
             "ticks": ""
            },
            "type": "mesh3d"
           }
          ],
          "parcoords": [
           {
            "line": {
             "colorbar": {
              "outlinewidth": 0,
              "ticks": ""
             }
            },
            "type": "parcoords"
           }
          ],
          "pie": [
           {
            "automargin": true,
            "type": "pie"
           }
          ],
          "scatter": [
           {
            "fillpattern": {
             "fillmode": "overlay",
             "size": 10,
             "solidity": 0.2
            },
            "type": "scatter"
           }
          ],
          "scatter3d": [
           {
            "line": {
             "colorbar": {
              "outlinewidth": 0,
              "ticks": ""
             }
            },
            "marker": {
             "colorbar": {
              "outlinewidth": 0,
              "ticks": ""
             }
            },
            "type": "scatter3d"
           }
          ],
          "scattercarpet": [
           {
            "marker": {
             "colorbar": {
              "outlinewidth": 0,
              "ticks": ""
             }
            },
            "type": "scattercarpet"
           }
          ],
          "scattergeo": [
           {
            "marker": {
             "colorbar": {
              "outlinewidth": 0,
              "ticks": ""
             }
            },
            "type": "scattergeo"
           }
          ],
          "scattergl": [
           {
            "marker": {
             "colorbar": {
              "outlinewidth": 0,
              "ticks": ""
             }
            },
            "type": "scattergl"
           }
          ],
          "scattermapbox": [
           {
            "marker": {
             "colorbar": {
              "outlinewidth": 0,
              "ticks": ""
             }
            },
            "type": "scattermapbox"
           }
          ],
          "scatterpolar": [
           {
            "marker": {
             "colorbar": {
              "outlinewidth": 0,
              "ticks": ""
             }
            },
            "type": "scatterpolar"
           }
          ],
          "scatterpolargl": [
           {
            "marker": {
             "colorbar": {
              "outlinewidth": 0,
              "ticks": ""
             }
            },
            "type": "scatterpolargl"
           }
          ],
          "scatterternary": [
           {
            "marker": {
             "colorbar": {
              "outlinewidth": 0,
              "ticks": ""
             }
            },
            "type": "scatterternary"
           }
          ],
          "surface": [
           {
            "colorbar": {
             "outlinewidth": 0,
             "ticks": ""
            },
            "colorscale": [
             [
              0,
              "#0d0887"
             ],
             [
              0.1111111111111111,
              "#46039f"
             ],
             [
              0.2222222222222222,
              "#7201a8"
             ],
             [
              0.3333333333333333,
              "#9c179e"
             ],
             [
              0.4444444444444444,
              "#bd3786"
             ],
             [
              0.5555555555555556,
              "#d8576b"
             ],
             [
              0.6666666666666666,
              "#ed7953"
             ],
             [
              0.7777777777777778,
              "#fb9f3a"
             ],
             [
              0.8888888888888888,
              "#fdca26"
             ],
             [
              1,
              "#f0f921"
             ]
            ],
            "type": "surface"
           }
          ],
          "table": [
           {
            "cells": {
             "fill": {
              "color": "#EBF0F8"
             },
             "line": {
              "color": "white"
             }
            },
            "header": {
             "fill": {
              "color": "#C8D4E3"
             },
             "line": {
              "color": "white"
             }
            },
            "type": "table"
           }
          ]
         },
         "layout": {
          "annotationdefaults": {
           "arrowcolor": "#2a3f5f",
           "arrowhead": 0,
           "arrowwidth": 1
          },
          "autotypenumbers": "strict",
          "coloraxis": {
           "colorbar": {
            "outlinewidth": 0,
            "ticks": ""
           }
          },
          "colorscale": {
           "diverging": [
            [
             0,
             "#8e0152"
            ],
            [
             0.1,
             "#c51b7d"
            ],
            [
             0.2,
             "#de77ae"
            ],
            [
             0.3,
             "#f1b6da"
            ],
            [
             0.4,
             "#fde0ef"
            ],
            [
             0.5,
             "#f7f7f7"
            ],
            [
             0.6,
             "#e6f5d0"
            ],
            [
             0.7,
             "#b8e186"
            ],
            [
             0.8,
             "#7fbc41"
            ],
            [
             0.9,
             "#4d9221"
            ],
            [
             1,
             "#276419"
            ]
           ],
           "sequential": [
            [
             0,
             "#0d0887"
            ],
            [
             0.1111111111111111,
             "#46039f"
            ],
            [
             0.2222222222222222,
             "#7201a8"
            ],
            [
             0.3333333333333333,
             "#9c179e"
            ],
            [
             0.4444444444444444,
             "#bd3786"
            ],
            [
             0.5555555555555556,
             "#d8576b"
            ],
            [
             0.6666666666666666,
             "#ed7953"
            ],
            [
             0.7777777777777778,
             "#fb9f3a"
            ],
            [
             0.8888888888888888,
             "#fdca26"
            ],
            [
             1,
             "#f0f921"
            ]
           ],
           "sequentialminus": [
            [
             0,
             "#0d0887"
            ],
            [
             0.1111111111111111,
             "#46039f"
            ],
            [
             0.2222222222222222,
             "#7201a8"
            ],
            [
             0.3333333333333333,
             "#9c179e"
            ],
            [
             0.4444444444444444,
             "#bd3786"
            ],
            [
             0.5555555555555556,
             "#d8576b"
            ],
            [
             0.6666666666666666,
             "#ed7953"
            ],
            [
             0.7777777777777778,
             "#fb9f3a"
            ],
            [
             0.8888888888888888,
             "#fdca26"
            ],
            [
             1,
             "#f0f921"
            ]
           ]
          },
          "colorway": [
           "#636efa",
           "#EF553B",
           "#00cc96",
           "#ab63fa",
           "#FFA15A",
           "#19d3f3",
           "#FF6692",
           "#B6E880",
           "#FF97FF",
           "#FECB52"
          ],
          "font": {
           "color": "#2a3f5f"
          },
          "geo": {
           "bgcolor": "white",
           "lakecolor": "white",
           "landcolor": "#E5ECF6",
           "showlakes": true,
           "showland": true,
           "subunitcolor": "white"
          },
          "hoverlabel": {
           "align": "left"
          },
          "hovermode": "closest",
          "mapbox": {
           "style": "light"
          },
          "paper_bgcolor": "white",
          "plot_bgcolor": "#E5ECF6",
          "polar": {
           "angularaxis": {
            "gridcolor": "white",
            "linecolor": "white",
            "ticks": ""
           },
           "bgcolor": "#E5ECF6",
           "radialaxis": {
            "gridcolor": "white",
            "linecolor": "white",
            "ticks": ""
           }
          },
          "scene": {
           "xaxis": {
            "backgroundcolor": "#E5ECF6",
            "gridcolor": "white",
            "gridwidth": 2,
            "linecolor": "white",
            "showbackground": true,
            "ticks": "",
            "zerolinecolor": "white"
           },
           "yaxis": {
            "backgroundcolor": "#E5ECF6",
            "gridcolor": "white",
            "gridwidth": 2,
            "linecolor": "white",
            "showbackground": true,
            "ticks": "",
            "zerolinecolor": "white"
           },
           "zaxis": {
            "backgroundcolor": "#E5ECF6",
            "gridcolor": "white",
            "gridwidth": 2,
            "linecolor": "white",
            "showbackground": true,
            "ticks": "",
            "zerolinecolor": "white"
           }
          },
          "shapedefaults": {
           "line": {
            "color": "#2a3f5f"
           }
          },
          "ternary": {
           "aaxis": {
            "gridcolor": "white",
            "linecolor": "white",
            "ticks": ""
           },
           "baxis": {
            "gridcolor": "white",
            "linecolor": "white",
            "ticks": ""
           },
           "bgcolor": "#E5ECF6",
           "caxis": {
            "gridcolor": "white",
            "linecolor": "white",
            "ticks": ""
           }
          },
          "title": {
           "x": 0.05
          },
          "xaxis": {
           "automargin": true,
           "gridcolor": "white",
           "linecolor": "white",
           "ticks": "",
           "title": {
            "standoff": 15
           },
           "zerolinecolor": "white",
           "zerolinewidth": 2
          },
          "yaxis": {
           "automargin": true,
           "gridcolor": "white",
           "linecolor": "white",
           "ticks": "",
           "title": {
            "standoff": 15
           },
           "zerolinecolor": "white",
           "zerolinewidth": 2
          }
         }
        },
        "xaxis": {
         "anchor": "y",
         "domain": [
          0,
          1
         ],
         "title": {
          "text": "year"
         }
        },
        "yaxis": {
         "anchor": "x",
         "domain": [
          0,
          1
         ],
         "title": {
          "text": "lifeExp"
         }
        }
       }
      }
     },
     "metadata": {},
     "output_type": "display_data"
    }
   ],
   "source": [
    "import plotly.express as px\n",
    "\n",
    "df = px.data.gapminder().query(\"continent=='Oceania'\")\n",
    "fig = px.line(df, x=\"year\", y=\"lifeExp\", color='country')\n",
    "fig.show()"
   ]
  },
  {
   "cell_type": "code",
   "execution_count": 55,
   "metadata": {},
   "outputs": [
    {
     "data": {
      "application/vnd.plotly.v1+json": {
       "config": {
        "plotlyServerURL": "https://plot.ly"
       },
       "data": [
        {
         "hovertemplate": "country=Australia<br>year=%{x}<br>lifeExp=%{y}<extra></extra>",
         "legendgroup": "Australia",
         "line": {
          "color": "#636efa",
          "dash": "solid"
         },
         "marker": {
          "symbol": "circle"
         },
         "mode": "lines+markers",
         "name": "Australia",
         "orientation": "v",
         "showlegend": true,
         "type": "scatter",
         "x": [
          1952,
          1957,
          1962,
          1967,
          1972,
          1977,
          1982,
          1987,
          1992,
          1997,
          2002,
          2007
         ],
         "xaxis": "x",
         "y": [
          69.12,
          70.33,
          70.93,
          71.1,
          71.93,
          73.49,
          74.74,
          76.32,
          77.56,
          78.83,
          80.37,
          81.235
         ],
         "yaxis": "y"
        },
        {
         "hovertemplate": "country=New Zealand<br>year=%{x}<br>lifeExp=%{y}<extra></extra>",
         "legendgroup": "New Zealand",
         "line": {
          "color": "#EF553B",
          "dash": "solid"
         },
         "marker": {
          "symbol": "circle"
         },
         "mode": "lines+markers",
         "name": "New Zealand",
         "orientation": "v",
         "showlegend": true,
         "type": "scatter",
         "x": [
          1952,
          1957,
          1962,
          1967,
          1972,
          1977,
          1982,
          1987,
          1992,
          1997,
          2002,
          2007
         ],
         "xaxis": "x",
         "y": [
          69.39,
          70.26,
          71.24,
          71.52,
          71.89,
          72.22,
          73.84,
          74.32,
          76.33,
          77.55,
          79.11,
          80.204
         ],
         "yaxis": "y"
        }
       ],
       "layout": {
        "legend": {
         "title": {
          "text": "country"
         },
         "tracegroupgap": 0
        },
        "margin": {
         "t": 60
        },
        "template": {
         "data": {
          "bar": [
           {
            "error_x": {
             "color": "#2a3f5f"
            },
            "error_y": {
             "color": "#2a3f5f"
            },
            "marker": {
             "line": {
              "color": "#E5ECF6",
              "width": 0.5
             },
             "pattern": {
              "fillmode": "overlay",
              "size": 10,
              "solidity": 0.2
             }
            },
            "type": "bar"
           }
          ],
          "barpolar": [
           {
            "marker": {
             "line": {
              "color": "#E5ECF6",
              "width": 0.5
             },
             "pattern": {
              "fillmode": "overlay",
              "size": 10,
              "solidity": 0.2
             }
            },
            "type": "barpolar"
           }
          ],
          "carpet": [
           {
            "aaxis": {
             "endlinecolor": "#2a3f5f",
             "gridcolor": "white",
             "linecolor": "white",
             "minorgridcolor": "white",
             "startlinecolor": "#2a3f5f"
            },
            "baxis": {
             "endlinecolor": "#2a3f5f",
             "gridcolor": "white",
             "linecolor": "white",
             "minorgridcolor": "white",
             "startlinecolor": "#2a3f5f"
            },
            "type": "carpet"
           }
          ],
          "choropleth": [
           {
            "colorbar": {
             "outlinewidth": 0,
             "ticks": ""
            },
            "type": "choropleth"
           }
          ],
          "contour": [
           {
            "colorbar": {
             "outlinewidth": 0,
             "ticks": ""
            },
            "colorscale": [
             [
              0,
              "#0d0887"
             ],
             [
              0.1111111111111111,
              "#46039f"
             ],
             [
              0.2222222222222222,
              "#7201a8"
             ],
             [
              0.3333333333333333,
              "#9c179e"
             ],
             [
              0.4444444444444444,
              "#bd3786"
             ],
             [
              0.5555555555555556,
              "#d8576b"
             ],
             [
              0.6666666666666666,
              "#ed7953"
             ],
             [
              0.7777777777777778,
              "#fb9f3a"
             ],
             [
              0.8888888888888888,
              "#fdca26"
             ],
             [
              1,
              "#f0f921"
             ]
            ],
            "type": "contour"
           }
          ],
          "contourcarpet": [
           {
            "colorbar": {
             "outlinewidth": 0,
             "ticks": ""
            },
            "type": "contourcarpet"
           }
          ],
          "heatmap": [
           {
            "colorbar": {
             "outlinewidth": 0,
             "ticks": ""
            },
            "colorscale": [
             [
              0,
              "#0d0887"
             ],
             [
              0.1111111111111111,
              "#46039f"
             ],
             [
              0.2222222222222222,
              "#7201a8"
             ],
             [
              0.3333333333333333,
              "#9c179e"
             ],
             [
              0.4444444444444444,
              "#bd3786"
             ],
             [
              0.5555555555555556,
              "#d8576b"
             ],
             [
              0.6666666666666666,
              "#ed7953"
             ],
             [
              0.7777777777777778,
              "#fb9f3a"
             ],
             [
              0.8888888888888888,
              "#fdca26"
             ],
             [
              1,
              "#f0f921"
             ]
            ],
            "type": "heatmap"
           }
          ],
          "heatmapgl": [
           {
            "colorbar": {
             "outlinewidth": 0,
             "ticks": ""
            },
            "colorscale": [
             [
              0,
              "#0d0887"
             ],
             [
              0.1111111111111111,
              "#46039f"
             ],
             [
              0.2222222222222222,
              "#7201a8"
             ],
             [
              0.3333333333333333,
              "#9c179e"
             ],
             [
              0.4444444444444444,
              "#bd3786"
             ],
             [
              0.5555555555555556,
              "#d8576b"
             ],
             [
              0.6666666666666666,
              "#ed7953"
             ],
             [
              0.7777777777777778,
              "#fb9f3a"
             ],
             [
              0.8888888888888888,
              "#fdca26"
             ],
             [
              1,
              "#f0f921"
             ]
            ],
            "type": "heatmapgl"
           }
          ],
          "histogram": [
           {
            "marker": {
             "pattern": {
              "fillmode": "overlay",
              "size": 10,
              "solidity": 0.2
             }
            },
            "type": "histogram"
           }
          ],
          "histogram2d": [
           {
            "colorbar": {
             "outlinewidth": 0,
             "ticks": ""
            },
            "colorscale": [
             [
              0,
              "#0d0887"
             ],
             [
              0.1111111111111111,
              "#46039f"
             ],
             [
              0.2222222222222222,
              "#7201a8"
             ],
             [
              0.3333333333333333,
              "#9c179e"
             ],
             [
              0.4444444444444444,
              "#bd3786"
             ],
             [
              0.5555555555555556,
              "#d8576b"
             ],
             [
              0.6666666666666666,
              "#ed7953"
             ],
             [
              0.7777777777777778,
              "#fb9f3a"
             ],
             [
              0.8888888888888888,
              "#fdca26"
             ],
             [
              1,
              "#f0f921"
             ]
            ],
            "type": "histogram2d"
           }
          ],
          "histogram2dcontour": [
           {
            "colorbar": {
             "outlinewidth": 0,
             "ticks": ""
            },
            "colorscale": [
             [
              0,
              "#0d0887"
             ],
             [
              0.1111111111111111,
              "#46039f"
             ],
             [
              0.2222222222222222,
              "#7201a8"
             ],
             [
              0.3333333333333333,
              "#9c179e"
             ],
             [
              0.4444444444444444,
              "#bd3786"
             ],
             [
              0.5555555555555556,
              "#d8576b"
             ],
             [
              0.6666666666666666,
              "#ed7953"
             ],
             [
              0.7777777777777778,
              "#fb9f3a"
             ],
             [
              0.8888888888888888,
              "#fdca26"
             ],
             [
              1,
              "#f0f921"
             ]
            ],
            "type": "histogram2dcontour"
           }
          ],
          "mesh3d": [
           {
            "colorbar": {
             "outlinewidth": 0,
             "ticks": ""
            },
            "type": "mesh3d"
           }
          ],
          "parcoords": [
           {
            "line": {
             "colorbar": {
              "outlinewidth": 0,
              "ticks": ""
             }
            },
            "type": "parcoords"
           }
          ],
          "pie": [
           {
            "automargin": true,
            "type": "pie"
           }
          ],
          "scatter": [
           {
            "fillpattern": {
             "fillmode": "overlay",
             "size": 10,
             "solidity": 0.2
            },
            "type": "scatter"
           }
          ],
          "scatter3d": [
           {
            "line": {
             "colorbar": {
              "outlinewidth": 0,
              "ticks": ""
             }
            },
            "marker": {
             "colorbar": {
              "outlinewidth": 0,
              "ticks": ""
             }
            },
            "type": "scatter3d"
           }
          ],
          "scattercarpet": [
           {
            "marker": {
             "colorbar": {
              "outlinewidth": 0,
              "ticks": ""
             }
            },
            "type": "scattercarpet"
           }
          ],
          "scattergeo": [
           {
            "marker": {
             "colorbar": {
              "outlinewidth": 0,
              "ticks": ""
             }
            },
            "type": "scattergeo"
           }
          ],
          "scattergl": [
           {
            "marker": {
             "colorbar": {
              "outlinewidth": 0,
              "ticks": ""
             }
            },
            "type": "scattergl"
           }
          ],
          "scattermapbox": [
           {
            "marker": {
             "colorbar": {
              "outlinewidth": 0,
              "ticks": ""
             }
            },
            "type": "scattermapbox"
           }
          ],
          "scatterpolar": [
           {
            "marker": {
             "colorbar": {
              "outlinewidth": 0,
              "ticks": ""
             }
            },
            "type": "scatterpolar"
           }
          ],
          "scatterpolargl": [
           {
            "marker": {
             "colorbar": {
              "outlinewidth": 0,
              "ticks": ""
             }
            },
            "type": "scatterpolargl"
           }
          ],
          "scatterternary": [
           {
            "marker": {
             "colorbar": {
              "outlinewidth": 0,
              "ticks": ""
             }
            },
            "type": "scatterternary"
           }
          ],
          "surface": [
           {
            "colorbar": {
             "outlinewidth": 0,
             "ticks": ""
            },
            "colorscale": [
             [
              0,
              "#0d0887"
             ],
             [
              0.1111111111111111,
              "#46039f"
             ],
             [
              0.2222222222222222,
              "#7201a8"
             ],
             [
              0.3333333333333333,
              "#9c179e"
             ],
             [
              0.4444444444444444,
              "#bd3786"
             ],
             [
              0.5555555555555556,
              "#d8576b"
             ],
             [
              0.6666666666666666,
              "#ed7953"
             ],
             [
              0.7777777777777778,
              "#fb9f3a"
             ],
             [
              0.8888888888888888,
              "#fdca26"
             ],
             [
              1,
              "#f0f921"
             ]
            ],
            "type": "surface"
           }
          ],
          "table": [
           {
            "cells": {
             "fill": {
              "color": "#EBF0F8"
             },
             "line": {
              "color": "white"
             }
            },
            "header": {
             "fill": {
              "color": "#C8D4E3"
             },
             "line": {
              "color": "white"
             }
            },
            "type": "table"
           }
          ]
         },
         "layout": {
          "annotationdefaults": {
           "arrowcolor": "#2a3f5f",
           "arrowhead": 0,
           "arrowwidth": 1
          },
          "autotypenumbers": "strict",
          "coloraxis": {
           "colorbar": {
            "outlinewidth": 0,
            "ticks": ""
           }
          },
          "colorscale": {
           "diverging": [
            [
             0,
             "#8e0152"
            ],
            [
             0.1,
             "#c51b7d"
            ],
            [
             0.2,
             "#de77ae"
            ],
            [
             0.3,
             "#f1b6da"
            ],
            [
             0.4,
             "#fde0ef"
            ],
            [
             0.5,
             "#f7f7f7"
            ],
            [
             0.6,
             "#e6f5d0"
            ],
            [
             0.7,
             "#b8e186"
            ],
            [
             0.8,
             "#7fbc41"
            ],
            [
             0.9,
             "#4d9221"
            ],
            [
             1,
             "#276419"
            ]
           ],
           "sequential": [
            [
             0,
             "#0d0887"
            ],
            [
             0.1111111111111111,
             "#46039f"
            ],
            [
             0.2222222222222222,
             "#7201a8"
            ],
            [
             0.3333333333333333,
             "#9c179e"
            ],
            [
             0.4444444444444444,
             "#bd3786"
            ],
            [
             0.5555555555555556,
             "#d8576b"
            ],
            [
             0.6666666666666666,
             "#ed7953"
            ],
            [
             0.7777777777777778,
             "#fb9f3a"
            ],
            [
             0.8888888888888888,
             "#fdca26"
            ],
            [
             1,
             "#f0f921"
            ]
           ],
           "sequentialminus": [
            [
             0,
             "#0d0887"
            ],
            [
             0.1111111111111111,
             "#46039f"
            ],
            [
             0.2222222222222222,
             "#7201a8"
            ],
            [
             0.3333333333333333,
             "#9c179e"
            ],
            [
             0.4444444444444444,
             "#bd3786"
            ],
            [
             0.5555555555555556,
             "#d8576b"
            ],
            [
             0.6666666666666666,
             "#ed7953"
            ],
            [
             0.7777777777777778,
             "#fb9f3a"
            ],
            [
             0.8888888888888888,
             "#fdca26"
            ],
            [
             1,
             "#f0f921"
            ]
           ]
          },
          "colorway": [
           "#636efa",
           "#EF553B",
           "#00cc96",
           "#ab63fa",
           "#FFA15A",
           "#19d3f3",
           "#FF6692",
           "#B6E880",
           "#FF97FF",
           "#FECB52"
          ],
          "font": {
           "color": "#2a3f5f"
          },
          "geo": {
           "bgcolor": "white",
           "lakecolor": "white",
           "landcolor": "#E5ECF6",
           "showlakes": true,
           "showland": true,
           "subunitcolor": "white"
          },
          "hoverlabel": {
           "align": "left"
          },
          "hovermode": "closest",
          "mapbox": {
           "style": "light"
          },
          "paper_bgcolor": "white",
          "plot_bgcolor": "#E5ECF6",
          "polar": {
           "angularaxis": {
            "gridcolor": "white",
            "linecolor": "white",
            "ticks": ""
           },
           "bgcolor": "#E5ECF6",
           "radialaxis": {
            "gridcolor": "white",
            "linecolor": "white",
            "ticks": ""
           }
          },
          "scene": {
           "xaxis": {
            "backgroundcolor": "#E5ECF6",
            "gridcolor": "white",
            "gridwidth": 2,
            "linecolor": "white",
            "showbackground": true,
            "ticks": "",
            "zerolinecolor": "white"
           },
           "yaxis": {
            "backgroundcolor": "#E5ECF6",
            "gridcolor": "white",
            "gridwidth": 2,
            "linecolor": "white",
            "showbackground": true,
            "ticks": "",
            "zerolinecolor": "white"
           },
           "zaxis": {
            "backgroundcolor": "#E5ECF6",
            "gridcolor": "white",
            "gridwidth": 2,
            "linecolor": "white",
            "showbackground": true,
            "ticks": "",
            "zerolinecolor": "white"
           }
          },
          "shapedefaults": {
           "line": {
            "color": "#2a3f5f"
           }
          },
          "ternary": {
           "aaxis": {
            "gridcolor": "white",
            "linecolor": "white",
            "ticks": ""
           },
           "baxis": {
            "gridcolor": "white",
            "linecolor": "white",
            "ticks": ""
           },
           "bgcolor": "#E5ECF6",
           "caxis": {
            "gridcolor": "white",
            "linecolor": "white",
            "ticks": ""
           }
          },
          "title": {
           "x": 0.05
          },
          "xaxis": {
           "automargin": true,
           "gridcolor": "white",
           "linecolor": "white",
           "ticks": "",
           "title": {
            "standoff": 15
           },
           "zerolinecolor": "white",
           "zerolinewidth": 2
          },
          "yaxis": {
           "automargin": true,
           "gridcolor": "white",
           "linecolor": "white",
           "ticks": "",
           "title": {
            "standoff": 15
           },
           "zerolinecolor": "white",
           "zerolinewidth": 2
          }
         }
        },
        "xaxis": {
         "anchor": "y",
         "domain": [
          0,
          1
         ],
         "title": {
          "text": "year"
         }
        },
        "yaxis": {
         "anchor": "x",
         "domain": [
          0,
          1
         ],
         "title": {
          "text": "lifeExp"
         }
        }
       }
      }
     },
     "metadata": {},
     "output_type": "display_data"
    }
   ],
   "source": [
    "import plotly.express as px\n",
    "df = px.data.gapminder().query(\"continent == 'Oceania'\")\n",
    "fig = px.line(df, x='year', y='lifeExp', color='country', markers=True)\n",
    "fig.show()\n"
   ]
  },
  {
   "cell_type": "code",
   "execution_count": 60,
   "metadata": {},
   "outputs": [
    {
     "data": {
      "text/plain": [
       "Index(['darija_ar', 'eng', 'p4_transl', 'eng_p4_transl', 'similarity_p4',\n",
       "       'similarity_eng_p4', 'triple_verbs'],\n",
       "      dtype='object')"
      ]
     },
     "execution_count": 60,
     "metadata": {},
     "output_type": "execute_result"
    }
   ],
   "source": [
    "dataset.columns"
   ]
  },
  {
   "cell_type": "code",
   "execution_count": 63,
   "metadata": {},
   "outputs": [
    {
     "data": {
      "application/vnd.plotly.v1+json": {
       "config": {
        "plotlyServerURL": "https://plot.ly"
       },
       "data": [
        {
         "hovertemplate": "prompts=%{x}<br>means=%{y}<extra></extra>",
         "legendgroup": "",
         "line": {
          "color": "#636efa",
          "dash": "solid"
         },
         "marker": {
          "symbol": "circle"
         },
         "mode": "lines+markers",
         "name": "",
         "orientation": "v",
         "showlegend": false,
         "type": "scatter",
         "x": [
          "prompt 1",
          "prompt 2"
         ],
         "xaxis": "x",
         "y": [
          0.7028333333333333,
          0.7200952380952381
         ],
         "yaxis": "y"
        }
       ],
       "layout": {
        "legend": {
         "tracegroupgap": 0
        },
        "margin": {
         "t": 60
        },
        "template": {
         "data": {
          "bar": [
           {
            "error_x": {
             "color": "#2a3f5f"
            },
            "error_y": {
             "color": "#2a3f5f"
            },
            "marker": {
             "line": {
              "color": "#E5ECF6",
              "width": 0.5
             },
             "pattern": {
              "fillmode": "overlay",
              "size": 10,
              "solidity": 0.2
             }
            },
            "type": "bar"
           }
          ],
          "barpolar": [
           {
            "marker": {
             "line": {
              "color": "#E5ECF6",
              "width": 0.5
             },
             "pattern": {
              "fillmode": "overlay",
              "size": 10,
              "solidity": 0.2
             }
            },
            "type": "barpolar"
           }
          ],
          "carpet": [
           {
            "aaxis": {
             "endlinecolor": "#2a3f5f",
             "gridcolor": "white",
             "linecolor": "white",
             "minorgridcolor": "white",
             "startlinecolor": "#2a3f5f"
            },
            "baxis": {
             "endlinecolor": "#2a3f5f",
             "gridcolor": "white",
             "linecolor": "white",
             "minorgridcolor": "white",
             "startlinecolor": "#2a3f5f"
            },
            "type": "carpet"
           }
          ],
          "choropleth": [
           {
            "colorbar": {
             "outlinewidth": 0,
             "ticks": ""
            },
            "type": "choropleth"
           }
          ],
          "contour": [
           {
            "colorbar": {
             "outlinewidth": 0,
             "ticks": ""
            },
            "colorscale": [
             [
              0,
              "#0d0887"
             ],
             [
              0.1111111111111111,
              "#46039f"
             ],
             [
              0.2222222222222222,
              "#7201a8"
             ],
             [
              0.3333333333333333,
              "#9c179e"
             ],
             [
              0.4444444444444444,
              "#bd3786"
             ],
             [
              0.5555555555555556,
              "#d8576b"
             ],
             [
              0.6666666666666666,
              "#ed7953"
             ],
             [
              0.7777777777777778,
              "#fb9f3a"
             ],
             [
              0.8888888888888888,
              "#fdca26"
             ],
             [
              1,
              "#f0f921"
             ]
            ],
            "type": "contour"
           }
          ],
          "contourcarpet": [
           {
            "colorbar": {
             "outlinewidth": 0,
             "ticks": ""
            },
            "type": "contourcarpet"
           }
          ],
          "heatmap": [
           {
            "colorbar": {
             "outlinewidth": 0,
             "ticks": ""
            },
            "colorscale": [
             [
              0,
              "#0d0887"
             ],
             [
              0.1111111111111111,
              "#46039f"
             ],
             [
              0.2222222222222222,
              "#7201a8"
             ],
             [
              0.3333333333333333,
              "#9c179e"
             ],
             [
              0.4444444444444444,
              "#bd3786"
             ],
             [
              0.5555555555555556,
              "#d8576b"
             ],
             [
              0.6666666666666666,
              "#ed7953"
             ],
             [
              0.7777777777777778,
              "#fb9f3a"
             ],
             [
              0.8888888888888888,
              "#fdca26"
             ],
             [
              1,
              "#f0f921"
             ]
            ],
            "type": "heatmap"
           }
          ],
          "heatmapgl": [
           {
            "colorbar": {
             "outlinewidth": 0,
             "ticks": ""
            },
            "colorscale": [
             [
              0,
              "#0d0887"
             ],
             [
              0.1111111111111111,
              "#46039f"
             ],
             [
              0.2222222222222222,
              "#7201a8"
             ],
             [
              0.3333333333333333,
              "#9c179e"
             ],
             [
              0.4444444444444444,
              "#bd3786"
             ],
             [
              0.5555555555555556,
              "#d8576b"
             ],
             [
              0.6666666666666666,
              "#ed7953"
             ],
             [
              0.7777777777777778,
              "#fb9f3a"
             ],
             [
              0.8888888888888888,
              "#fdca26"
             ],
             [
              1,
              "#f0f921"
             ]
            ],
            "type": "heatmapgl"
           }
          ],
          "histogram": [
           {
            "marker": {
             "pattern": {
              "fillmode": "overlay",
              "size": 10,
              "solidity": 0.2
             }
            },
            "type": "histogram"
           }
          ],
          "histogram2d": [
           {
            "colorbar": {
             "outlinewidth": 0,
             "ticks": ""
            },
            "colorscale": [
             [
              0,
              "#0d0887"
             ],
             [
              0.1111111111111111,
              "#46039f"
             ],
             [
              0.2222222222222222,
              "#7201a8"
             ],
             [
              0.3333333333333333,
              "#9c179e"
             ],
             [
              0.4444444444444444,
              "#bd3786"
             ],
             [
              0.5555555555555556,
              "#d8576b"
             ],
             [
              0.6666666666666666,
              "#ed7953"
             ],
             [
              0.7777777777777778,
              "#fb9f3a"
             ],
             [
              0.8888888888888888,
              "#fdca26"
             ],
             [
              1,
              "#f0f921"
             ]
            ],
            "type": "histogram2d"
           }
          ],
          "histogram2dcontour": [
           {
            "colorbar": {
             "outlinewidth": 0,
             "ticks": ""
            },
            "colorscale": [
             [
              0,
              "#0d0887"
             ],
             [
              0.1111111111111111,
              "#46039f"
             ],
             [
              0.2222222222222222,
              "#7201a8"
             ],
             [
              0.3333333333333333,
              "#9c179e"
             ],
             [
              0.4444444444444444,
              "#bd3786"
             ],
             [
              0.5555555555555556,
              "#d8576b"
             ],
             [
              0.6666666666666666,
              "#ed7953"
             ],
             [
              0.7777777777777778,
              "#fb9f3a"
             ],
             [
              0.8888888888888888,
              "#fdca26"
             ],
             [
              1,
              "#f0f921"
             ]
            ],
            "type": "histogram2dcontour"
           }
          ],
          "mesh3d": [
           {
            "colorbar": {
             "outlinewidth": 0,
             "ticks": ""
            },
            "type": "mesh3d"
           }
          ],
          "parcoords": [
           {
            "line": {
             "colorbar": {
              "outlinewidth": 0,
              "ticks": ""
             }
            },
            "type": "parcoords"
           }
          ],
          "pie": [
           {
            "automargin": true,
            "type": "pie"
           }
          ],
          "scatter": [
           {
            "fillpattern": {
             "fillmode": "overlay",
             "size": 10,
             "solidity": 0.2
            },
            "type": "scatter"
           }
          ],
          "scatter3d": [
           {
            "line": {
             "colorbar": {
              "outlinewidth": 0,
              "ticks": ""
             }
            },
            "marker": {
             "colorbar": {
              "outlinewidth": 0,
              "ticks": ""
             }
            },
            "type": "scatter3d"
           }
          ],
          "scattercarpet": [
           {
            "marker": {
             "colorbar": {
              "outlinewidth": 0,
              "ticks": ""
             }
            },
            "type": "scattercarpet"
           }
          ],
          "scattergeo": [
           {
            "marker": {
             "colorbar": {
              "outlinewidth": 0,
              "ticks": ""
             }
            },
            "type": "scattergeo"
           }
          ],
          "scattergl": [
           {
            "marker": {
             "colorbar": {
              "outlinewidth": 0,
              "ticks": ""
             }
            },
            "type": "scattergl"
           }
          ],
          "scattermapbox": [
           {
            "marker": {
             "colorbar": {
              "outlinewidth": 0,
              "ticks": ""
             }
            },
            "type": "scattermapbox"
           }
          ],
          "scatterpolar": [
           {
            "marker": {
             "colorbar": {
              "outlinewidth": 0,
              "ticks": ""
             }
            },
            "type": "scatterpolar"
           }
          ],
          "scatterpolargl": [
           {
            "marker": {
             "colorbar": {
              "outlinewidth": 0,
              "ticks": ""
             }
            },
            "type": "scatterpolargl"
           }
          ],
          "scatterternary": [
           {
            "marker": {
             "colorbar": {
              "outlinewidth": 0,
              "ticks": ""
             }
            },
            "type": "scatterternary"
           }
          ],
          "surface": [
           {
            "colorbar": {
             "outlinewidth": 0,
             "ticks": ""
            },
            "colorscale": [
             [
              0,
              "#0d0887"
             ],
             [
              0.1111111111111111,
              "#46039f"
             ],
             [
              0.2222222222222222,
              "#7201a8"
             ],
             [
              0.3333333333333333,
              "#9c179e"
             ],
             [
              0.4444444444444444,
              "#bd3786"
             ],
             [
              0.5555555555555556,
              "#d8576b"
             ],
             [
              0.6666666666666666,
              "#ed7953"
             ],
             [
              0.7777777777777778,
              "#fb9f3a"
             ],
             [
              0.8888888888888888,
              "#fdca26"
             ],
             [
              1,
              "#f0f921"
             ]
            ],
            "type": "surface"
           }
          ],
          "table": [
           {
            "cells": {
             "fill": {
              "color": "#EBF0F8"
             },
             "line": {
              "color": "white"
             }
            },
            "header": {
             "fill": {
              "color": "#C8D4E3"
             },
             "line": {
              "color": "white"
             }
            },
            "type": "table"
           }
          ]
         },
         "layout": {
          "annotationdefaults": {
           "arrowcolor": "#2a3f5f",
           "arrowhead": 0,
           "arrowwidth": 1
          },
          "autotypenumbers": "strict",
          "coloraxis": {
           "colorbar": {
            "outlinewidth": 0,
            "ticks": ""
           }
          },
          "colorscale": {
           "diverging": [
            [
             0,
             "#8e0152"
            ],
            [
             0.1,
             "#c51b7d"
            ],
            [
             0.2,
             "#de77ae"
            ],
            [
             0.3,
             "#f1b6da"
            ],
            [
             0.4,
             "#fde0ef"
            ],
            [
             0.5,
             "#f7f7f7"
            ],
            [
             0.6,
             "#e6f5d0"
            ],
            [
             0.7,
             "#b8e186"
            ],
            [
             0.8,
             "#7fbc41"
            ],
            [
             0.9,
             "#4d9221"
            ],
            [
             1,
             "#276419"
            ]
           ],
           "sequential": [
            [
             0,
             "#0d0887"
            ],
            [
             0.1111111111111111,
             "#46039f"
            ],
            [
             0.2222222222222222,
             "#7201a8"
            ],
            [
             0.3333333333333333,
             "#9c179e"
            ],
            [
             0.4444444444444444,
             "#bd3786"
            ],
            [
             0.5555555555555556,
             "#d8576b"
            ],
            [
             0.6666666666666666,
             "#ed7953"
            ],
            [
             0.7777777777777778,
             "#fb9f3a"
            ],
            [
             0.8888888888888888,
             "#fdca26"
            ],
            [
             1,
             "#f0f921"
            ]
           ],
           "sequentialminus": [
            [
             0,
             "#0d0887"
            ],
            [
             0.1111111111111111,
             "#46039f"
            ],
            [
             0.2222222222222222,
             "#7201a8"
            ],
            [
             0.3333333333333333,
             "#9c179e"
            ],
            [
             0.4444444444444444,
             "#bd3786"
            ],
            [
             0.5555555555555556,
             "#d8576b"
            ],
            [
             0.6666666666666666,
             "#ed7953"
            ],
            [
             0.7777777777777778,
             "#fb9f3a"
            ],
            [
             0.8888888888888888,
             "#fdca26"
            ],
            [
             1,
             "#f0f921"
            ]
           ]
          },
          "colorway": [
           "#636efa",
           "#EF553B",
           "#00cc96",
           "#ab63fa",
           "#FFA15A",
           "#19d3f3",
           "#FF6692",
           "#B6E880",
           "#FF97FF",
           "#FECB52"
          ],
          "font": {
           "color": "#2a3f5f"
          },
          "geo": {
           "bgcolor": "white",
           "lakecolor": "white",
           "landcolor": "#E5ECF6",
           "showlakes": true,
           "showland": true,
           "subunitcolor": "white"
          },
          "hoverlabel": {
           "align": "left"
          },
          "hovermode": "closest",
          "mapbox": {
           "style": "light"
          },
          "paper_bgcolor": "white",
          "plot_bgcolor": "#E5ECF6",
          "polar": {
           "angularaxis": {
            "gridcolor": "white",
            "linecolor": "white",
            "ticks": ""
           },
           "bgcolor": "#E5ECF6",
           "radialaxis": {
            "gridcolor": "white",
            "linecolor": "white",
            "ticks": ""
           }
          },
          "scene": {
           "xaxis": {
            "backgroundcolor": "#E5ECF6",
            "gridcolor": "white",
            "gridwidth": 2,
            "linecolor": "white",
            "showbackground": true,
            "ticks": "",
            "zerolinecolor": "white"
           },
           "yaxis": {
            "backgroundcolor": "#E5ECF6",
            "gridcolor": "white",
            "gridwidth": 2,
            "linecolor": "white",
            "showbackground": true,
            "ticks": "",
            "zerolinecolor": "white"
           },
           "zaxis": {
            "backgroundcolor": "#E5ECF6",
            "gridcolor": "white",
            "gridwidth": 2,
            "linecolor": "white",
            "showbackground": true,
            "ticks": "",
            "zerolinecolor": "white"
           }
          },
          "shapedefaults": {
           "line": {
            "color": "#2a3f5f"
           }
          },
          "ternary": {
           "aaxis": {
            "gridcolor": "white",
            "linecolor": "white",
            "ticks": ""
           },
           "baxis": {
            "gridcolor": "white",
            "linecolor": "white",
            "ticks": ""
           },
           "bgcolor": "#E5ECF6",
           "caxis": {
            "gridcolor": "white",
            "linecolor": "white",
            "ticks": ""
           }
          },
          "title": {
           "x": 0.05
          },
          "xaxis": {
           "automargin": true,
           "gridcolor": "white",
           "linecolor": "white",
           "ticks": "",
           "title": {
            "standoff": 15
           },
           "zerolinecolor": "white",
           "zerolinewidth": 2
          },
          "yaxis": {
           "automargin": true,
           "gridcolor": "white",
           "linecolor": "white",
           "ticks": "",
           "title": {
            "standoff": 15
           },
           "zerolinecolor": "white",
           "zerolinewidth": 2
          }
         }
        },
        "xaxis": {
         "anchor": "y",
         "domain": [
          0,
          1
         ],
         "title": {
          "text": "prompts"
         }
        },
        "yaxis": {
         "anchor": "x",
         "domain": [
          0,
          1
         ],
         "title": {
          "text": "means"
         }
        }
       }
      }
     },
     "metadata": {},
     "output_type": "display_data"
    }
   ],
   "source": [
    "import plotly.express as px\n",
    "\n",
    "progression = pd.DataFrame()\n",
    "progression['means'] = [ dataset['similarity_p4'].mean(), dataset['similarity_eng_p4'].mean()]\n",
    "progression['prompts'] =  ['prompt 1', 'prompt 2']\n",
    "\n",
    "fig = px.line(progression, x='prompts', y='means',  markers=True)\n",
    "fig.show()\n"
   ]
  }
 ],
 "metadata": {
  "kernelspec": {
   "display_name": "Python 3",
   "language": "python",
   "name": "python3"
  },
  "language_info": {
   "codemirror_mode": {
    "name": "ipython",
    "version": 3
   },
   "file_extension": ".py",
   "mimetype": "text/x-python",
   "name": "python",
   "nbconvert_exporter": "python",
   "pygments_lexer": "ipython3",
   "version": "3.11.8"
  }
 },
 "nbformat": 4,
 "nbformat_minor": 2
}
