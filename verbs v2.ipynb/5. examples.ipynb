{
 "cells": [
  {
   "cell_type": "code",
   "execution_count": null,
   "metadata": {},
   "outputs": [],
   "source": [
    "            {\"role\": \"user\", \"content\": \"شرب\"},\n",
    "            {\"role\": \"assistant\", \"content\": \"drink\"},\n",
    "            {\"role\": \"user\", \"content\":  f'{verb}' }\n",
    "\n",
    "            {\"role\": \"user\", \"content\": \"شرب\"},\n",
    "            {\"role\": \"assistant\", \"content\": \"drink\"},\n",
    "            {\"role\": \"user\", \"content\": \"ستدعا\"},\n",
    "            {\"role\": \"assistant\", \"content\": \"summon\"},\n",
    "            {\"role\": \"user\", \"content\": \"طفا\"},\n",
    "            {\"role\": \"assistant\", \"content\": \"turn off\"},\n",
    "            {\"role\": \"user\", \"content\":  f'{verb}' }\n"
   ]
  }
 ],
 "metadata": {
  "language_info": {
   "name": "python"
  }
 },
 "nbformat": 4,
 "nbformat_minor": 2
}
