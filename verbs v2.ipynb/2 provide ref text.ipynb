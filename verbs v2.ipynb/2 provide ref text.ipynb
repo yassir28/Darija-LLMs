{
 "cells": [
  {
   "cell_type": "code",
   "execution_count": null,
   "metadata": {},
   "outputs": [],
   "source": []
  },
  {
   "cell_type": "markdown",
   "metadata": {},
   "source": [
    "Provide reference text\n",
    "Language models can confidently invent fake answers, especially when asked about esoteric topics or for citations and URLs. In the same way that a sheet of notes can help a student do better on a test, providing reference text to these models can help in answering with fewer fabrications.\n",
    "\n",
    "Tactics:\n",
    "Instruct the model to answer using a reference text\n",
    "SYSTEM\n",
    "Use the provided articles delimited by triple quotes to answer questions. If the answer cannot be found in the articles, write \"I could not find an answer.\"\n",
    "\n",
    "USER\n",
    "<insert articles, each delimited by triple quotes>\n",
    "\n",
    "Question: <insert question here>\n",
    "\n",
    "Instruct the model to answer with citations from a reference text\n",
    "\n",
    "SYSTEM\n",
    "You will be provided with a document delimited by triple quotes and a question. Your task is to answer the question using only the provided document and to cite the passage(s) of the document used to answer the question. If the document does not contain the information needed to answer this question then simply write: \"Insufficient information.\" If an answer to the question is provided, it must be annotated with a citation. Use the following format for to cite relevant passages ({\"citation\": …}).\n",
    "\n",
    "USER\n",
    "\"\"\"<insert document here>\"\"\"\n",
    "\n",
    "Question: <insert question here>\n",
    "\n",
    "\n"
   ]
  }
 ],
 "metadata": {
  "language_info": {
   "name": "python"
  }
 },
 "nbformat": 4,
 "nbformat_minor": 2
}
