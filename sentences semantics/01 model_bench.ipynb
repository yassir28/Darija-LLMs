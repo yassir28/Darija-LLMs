{
 "cells": [
  {
   "cell_type": "markdown",
   "metadata": {},
   "source": [
    "I think we have to use sentece transformers wether be it Comet or something else:"
   ]
  },
  {
   "cell_type": "markdown",
   "metadata": {},
   "source": [
    "First model: chatgpt comet-ml and paraphrase-MiniLM-L6-v2 suggetion\n",
    "second model: youtube suggesiton"
   ]
  },
  {
   "cell_type": "code",
   "execution_count": 21,
   "metadata": {},
   "outputs": [
    {
     "name": "stdout",
     "output_type": "stream",
     "text": [
      "It seems like they are trying to stay cool.\n"
     ]
    }
   ],
   "source": [
    "from openai import OpenAI\n",
    "import pandas as pd\n",
    "client = OpenAI()\n",
    "\n",
    "df = pd.read_csv('sentences.csv')\n",
    "\n",
    "def translate(arb):\n",
    "    completion = client.chat.completions.create(\n",
    "        model=\"gpt-3.5-turbo\",\n",
    "        messages=[\n",
    "            {\"role\": \"system\", \"content\": \"You are an expert in Moroccan Darija dialect and in translating Darija to English.\" +\n",
    "             \"Purpose of the translation: To study the accuracy of gpt api on Darija translation to English.\"\n",
    "             \"Target audience: Darija Computational linguists.\"\n",
    "            },\n",
    "            {\"role\": \"user\", \"content\": \"Translate the provided Moroccan Darija dialect sentence into English using word-by-word translation.\"             },\n",
    "            {\"role\": \"assistant\", \"content\": \"OK, I understand. I am ready to translate to English.\"},\n",
    "            {\"role\": \"user\", \"content\": \"هوما مخبّيين شي حاجة, أنا متيقّن!\"},\n",
    "            {\"role\": \"assistant\", \"content\": \"They're hiding something, I'm sure!\"},\n",
    "            {\"role\": \"user\", \"content\":  f\"{arb}\" }\n",
    "            ], \n",
    "            #\n",
    "        temperature=0.1  # Deterministic responses\n",
    "        )\n",
    "    return completion.choices[0].message.content\n",
    "#df['transl'] = df['darija_ar'].apply(translate)\n",
    "sentence = translate(df['darija_ar'][1])\n",
    "\n",
    "# Display or save the resulting DataFrame\n",
    "print(sentence)"
   ]
  },
  {
   "cell_type": "code",
   "execution_count": 29,
   "metadata": {},
   "outputs": [
    {
     "name": "stdout",
     "output_type": "stream",
     "text": [
      "leave\n",
      "go out\n",
      "Similarity: 0.9354116916656494\n"
     ]
    }
   ],
   "source": [
    "from sentence_transformers import SentenceTransformer, util\n",
    "#from sklearn.metrics.pariwise import cosine_similarity\n",
    "\n",
    "model_name = 'bert-base-nli-mean-tokens'\n",
    "# Load a pre-trained SentenceTransformer model\n",
    "model = SentenceTransformer(model_name)\n",
    "\n",
    "# Define the two sentences\n",
    "sentence1 = sentence\n",
    "sentence2 = df['eng']\n",
    "\n",
    "# Encode the sentences to get their embeddings\n",
    "embedding1 = model.encode(sentence1, convert_to_tensor=True)\n",
    "embedding2 = model.encode(sentence2, convert_to_tensor=True)\n",
    "\n",
    "# Calculate the cosine similarity between the embeddings\n",
    "similarity = util.pytorch_cos_sim(embedding1, embedding2)\n",
    "\n",
    "print(sentence1)\n",
    "print(sentence2)\n",
    "print(f\"Similarity: {similarity.item()}\")"
   ]
  },
  {
   "cell_type": "markdown",
   "metadata": {},
   "source": [
    "first model:\n",
    "it doesnt perform well on singular words\n",
    "\n",
    "second model:\n",
    "performs better on sentences than the first and on words as well.\n"
   ]
  },
  {
   "cell_type": "code",
   "execution_count": 39,
   "metadata": {},
   "outputs": [
    {
     "data": {
      "text/plain": [
       "array([[0.8901905]], dtype=float32)"
      ]
     },
     "execution_count": 39,
     "metadata": {},
     "output_type": "execute_result"
    }
   ],
   "source": [
    "from sklearn.metrics.pairwise import cosine_similarity\n",
    "sentences = [\"we leave\", \"go out\"]\n",
    "sentence_vecs = model.encode(sentences)\n",
    "sentence_vecs.shape\n",
    "cosine_similarity([sentence_vecs[0]],[sentence_vecs[1]])"
   ]
  },
  {
   "cell_type": "markdown",
   "metadata": {},
   "source": [
    "same result different method"
   ]
  }
 ],
 "metadata": {
  "kernelspec": {
   "display_name": "Python 3",
   "language": "python",
   "name": "python3"
  },
  "language_info": {
   "codemirror_mode": {
    "name": "ipython",
    "version": 3
   },
   "file_extension": ".py",
   "mimetype": "text/x-python",
   "name": "python",
   "nbconvert_exporter": "python",
   "pygments_lexer": "ipython3",
   "version": "3.11.8"
  }
 },
 "nbformat": 4,
 "nbformat_minor": 2
}
