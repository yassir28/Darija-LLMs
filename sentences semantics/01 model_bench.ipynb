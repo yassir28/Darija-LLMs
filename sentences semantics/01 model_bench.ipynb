{
 "cells": [
  {
   "cell_type": "code",
   "execution_count": 1,
   "metadata": {},
   "outputs": [
    {
     "name": "stdout",
     "output_type": "stream",
     "text": [
      "Seems like they are trying to stay cool.\n"
     ]
    }
   ],
   "source": [
    "from openai import OpenAI\n",
    "import pandas as pd\n",
    "client = OpenAI()\n",
    "\n",
    "df = pd.read_csv('sentences.csv')\n",
    "\n",
    "def translate(arb):\n",
    "    completion = client.chat.completions.create(\n",
    "        model=\"gpt-3.5-turbo\",\n",
    "        messages=[\n",
    "            {\"role\": \"system\", \"content\": \"You are an expert in Moroccan Darija dialect and in translating Darija to English.\" +\n",
    "             \"Purpose of the translation: To study the accuracy of gpt api on Darija translation to English.\"\n",
    "             \"Target audience: Darija Computational linguists.\"\n",
    "            },\n",
    "            {\"role\": \"user\", \"content\": \"Translate the provided Moroccan Darija dialect sentence into English using word-by-word translation.\"             },\n",
    "            {\"role\": \"assistant\", \"content\": \"OK, I understand. I am ready to translate to English.\"},\n",
    "            {\"role\": \"user\", \"content\": \"هوما مخبّيين شي حاجة, أنا متيقّن!\"},\n",
    "            {\"role\": \"assistant\", \"content\": \"They're hiding something, I'm sure!\"},\n",
    "            {\"role\": \"user\", \"content\":  f\"{arb}\" }\n",
    "            ], \n",
    "            #\n",
    "        temperature=0.1  # Deterministic responses\n",
    "        )\n",
    "    return completion.choices[0].message.content\n",
    "#df['transl'] = df['darija_ar'].apply(translate)\n",
    "sentence = translate(df['darija_ar'][1])\n",
    "\n",
    "# Display or save the resulting DataFrame\n",
    "print(sentence)"
   ]
  },
  {
   "cell_type": "markdown",
   "metadata": {},
   "source": [
    "First model: comet-ml and paraphrase-MiniLM-L6-v2 suggetion"
   ]
  },
  {
   "cell_type": "code",
   "execution_count": 10,
   "metadata": {},
   "outputs": [
    {
     "name": "stderr",
     "output_type": "stream",
     "text": [
      "c:\\Users\\yassi\\AppData\\Local\\Programs\\Python\\Python311\\Lib\\site-packages\\huggingface_hub\\file_download.py:1132: FutureWarning: `resume_download` is deprecated and will be removed in version 1.0.0. Downloads always resume when possible. If you want to force a new download, use `force_download=True`.\n",
      "  warnings.warn(\n"
     ]
    },
    {
     "name": "stdout",
     "output_type": "stream",
     "text": [
      "sentece similarity: 0.7992310523986816\n",
      "verb similarity: 0.48648974299430847\n"
     ]
    }
   ],
   "source": [
    "from sentence_transformers import SentenceTransformer, util\n",
    "\n",
    "# Load a pre-trained SentenceTransformer model\n",
    "model = SentenceTransformer('paraphrase-MiniLM-L6-v2')\n",
    "\n",
    "# Define the two sentences\n",
    "s1 = \"Seems like they are trying to stay cool.\"\n",
    "s2 = \"It's obvious they're trying to keep their cool.\"\n",
    "\n",
    "w1 = \"we leave\"\n",
    "w2 = \"to go out\"\n",
    "\n",
    "# Encode the sentences to get their embeddings\n",
    "semb1 = model.encode(s1, convert_to_tensor=True)\n",
    "semb2 = model.encode(s2, convert_to_tensor=True)\n",
    "\n",
    "wemb1 = model.encode(w1, convert_to_tensor=True)\n",
    "wemb2 = model.encode(w2, convert_to_tensor=True)\n",
    "\n",
    "\n",
    "# Calculate the cosine similarity between the embeddings\n",
    "s_similarity = util.pytorch_cos_sim(semb1, semb2)\n",
    "w_similarity = util.pytorch_cos_sim(wemb1, wemb2)\n",
    "\n",
    "print(f\"sentece similarity: {s_similarity.item()}\")\n",
    "print(f\"verb similarity: {w_similarity.item()}\")\n"
   ]
  },
  {
   "cell_type": "markdown",
   "metadata": {},
   "source": [
    "second model: Bert based transformer"
   ]
  },
  {
   "cell_type": "code",
   "execution_count": 11,
   "metadata": {},
   "outputs": [
    {
     "name": "stdout",
     "output_type": "stream",
     "text": [
      "Seems like they are trying to stay cool.\n",
      "It's obvious they're trying to keep their cool.\n",
      "Similarity: 0.9145830869674683\n"
     ]
    }
   ],
   "source": [
    "from sentence_transformers import SentenceTransformer, util\n",
    "#from sklearn.metrics.pariwise import cosine_similarity\n",
    "\n",
    "model_name = 'bert-base-nli-mean-tokens'\n",
    "# Load a pre-trained SentenceTransformer model\n",
    "model = SentenceTransformer(model_name)\n",
    "\n",
    "# Define the two sentences\n",
    "sentence1 = sentence\n",
    "sentence2 = df['eng'][1]\n",
    "\n",
    "# Encode the sentences to get their embeddings\n",
    "embedding1 = model.encode(sentence1, convert_to_tensor=True)\n",
    "embedding2 = model.encode(sentence2, convert_to_tensor=True)\n",
    "\n",
    "# Calculate the cosine similarity between the embeddings\n",
    "similarity = util.pytorch_cos_sim(embedding1, embedding2)\n",
    "\n",
    "print(sentence1)\n",
    "print(sentence2)\n",
    "print(f\"Similarity: {similarity.item()}\")"
   ]
  },
  {
   "cell_type": "code",
   "execution_count": 12,
   "metadata": {},
   "outputs": [
    {
     "name": "stdout",
     "output_type": "stream",
     "text": [
      "we leave\n",
      "to go out\n",
      "Similarity: 0.8262754678726196\n"
     ]
    }
   ],
   "source": [
    "word1 = \"we leave\"\n",
    "word2 = \"to go out\"\n",
    "\n",
    "# Encode the sentences to get their embeddings\n",
    "embedding1 = model.encode(word1, convert_to_tensor=True)\n",
    "embedding2 = model.encode(word2, convert_to_tensor=True)\n",
    "\n",
    "# Calculate the cosine similarity between the embeddings\n",
    "similarity = util.pytorch_cos_sim(embedding1, embedding2)\n",
    "\n",
    "print(word1)\n",
    "print(word2)\n",
    "print(f\"Similarity: {similarity.item()}\")"
   ]
  },
  {
   "cell_type": "markdown",
   "metadata": {},
   "source": [
    "Results:\n",
    "\n",
    "first model:\n",
    "it doesnt perform well on singular words\n",
    "\n",
    "second model:\n",
    "performs better on sentences than the first and on words as well.\n",
    "# ------------------"
   ]
  },
  {
   "cell_type": "markdown",
   "metadata": {},
   "source": [
    "##### This is the same metric using a different library sikit learn"
   ]
  },
  {
   "cell_type": "code",
   "execution_count": 5,
   "metadata": {},
   "outputs": [
    {
     "data": {
      "text/plain": [
       "array([[0.8262754]], dtype=float32)"
      ]
     },
     "execution_count": 5,
     "metadata": {},
     "output_type": "execute_result"
    }
   ],
   "source": [
    "from sklearn.metrics.pairwise import cosine_similarity\n",
    "sentences = [\"we leave\", \"to go out\"]\n",
    "sentence_vecs = model.encode(sentences)\n",
    "sentence_vecs.shape\n",
    "cosine_similarity([sentence_vecs[0]],[sentence_vecs[1]])"
   ]
  }
 ],
 "metadata": {
  "kernelspec": {
   "display_name": "Python 3",
   "language": "python",
   "name": "python3"
  },
  "language_info": {
   "codemirror_mode": {
    "name": "ipython",
    "version": 3
   },
   "file_extension": ".py",
   "mimetype": "text/x-python",
   "name": "python",
   "nbconvert_exporter": "python",
   "pygments_lexer": "ipython3",
   "version": "3.11.8"
  }
 },
 "nbformat": 4,
 "nbformat_minor": 2
}
