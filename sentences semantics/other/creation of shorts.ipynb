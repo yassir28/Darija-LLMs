{
 "cells": [
  {
   "cell_type": "markdown",
   "metadata": {},
   "source": [
    "# 3words-constructions"
   ]
  },
  {
   "cell_type": "code",
   "execution_count": 9,
   "metadata": {},
   "outputs": [
    {
     "name": "stdout",
     "output_type": "stream",
     "text": [
      "Filtered sentences have been written to 3words-constructions.csv\n"
     ]
    }
   ],
   "source": [
    "import pandas as pd\n",
    "\n",
    "# Load the CSV file\n",
    "df = pd.read_csv('sentences.csv')\n",
    "\n",
    "# Function to count tokens in a sentence\n",
    "def token_count(sentence):\n",
    "    return len(sentence.split())\n",
    "\n",
    "# Filter sentences with 5 or fewer tokens\n",
    "filtered_df = df[df['darija_ar'].apply(token_count) == 3]\n",
    "\n",
    "# Write the filtered sentences to a new CSV file\n",
    "filtered_df.to_csv('3word-constructions.csv', index=False)\n",
    "\n",
    "print(\"Filtered sentences have been written to 3words-constructions.csv\")"
   ]
  },
  {
   "cell_type": "markdown",
   "metadata": {},
   "source": [
    "# 1 word constructions"
   ]
  },
  {
   "cell_type": "code",
   "execution_count": 10,
   "metadata": {},
   "outputs": [
    {
     "name": "stdout",
     "output_type": "stream",
     "text": [
      "Filtered sentences have been written to 1word-constructions.csv\n"
     ]
    }
   ],
   "source": [
    "import pandas as pd\n",
    "\n",
    "# Load the CSV file\n",
    "df = pd.read_csv('sentences.csv')\n",
    "\n",
    "# Function to count tokens in a sentence\n",
    "def token_count(sentence):\n",
    "    return len(sentence.split())\n",
    "\n",
    "# Filter sentences with 5 or fewer tokens\n",
    "filtered_df = df[df['darija_ar'].apply(token_count) == 1]\n",
    "\n",
    "# Write the filtered sentences to a new CSV file\n",
    "filtered_df.to_csv('1word-constructions.csv', index=False)\n",
    "\n",
    "print(\"Filtered sentences have been written to 1word-constructions.csv\")"
   ]
  },
  {
   "cell_type": "code",
   "execution_count": 11,
   "metadata": {},
   "outputs": [
    {
     "name": "stdout",
     "output_type": "stream",
     "text": [
      "Filtered sentences have been written to 1word-constructions.csv\n"
     ]
    }
   ],
   "source": [
    "import pandas as pd\n",
    "\n",
    "# Load the CSV file\n",
    "df = pd.read_csv('sentences.csv')\n",
    "\n",
    "# Function to count tokens in a sentence\n",
    "def token_count(sentence):\n",
    "    return len(sentence.split())\n",
    "\n",
    "# Filter sentences with 5 or fewer tokens\n",
    "filtered_df = df[df['darija_ar'].apply(token_count) == 2]\n",
    "\n",
    "# Write the filtered sentences to a new CSV file\n",
    "filtered_df.to_csv('2word-constructions.csv', index=False)\n",
    "\n",
    "print(\"Filtered sentences have been written to 1word-constructions.csv\")"
   ]
  },
  {
   "cell_type": "code",
   "execution_count": 12,
   "metadata": {},
   "outputs": [
    {
     "name": "stdout",
     "output_type": "stream",
     "text": [
      "Filtered sentences have been written to 1word-constructions.csv\n"
     ]
    }
   ],
   "source": [
    "import pandas as pd\n",
    "\n",
    "# Load the CSV file\n",
    "df = pd.read_csv('sentences.csv')\n",
    "\n",
    "# Function to count tokens in a sentence\n",
    "def token_count(sentence):\n",
    "    return len(sentence.split())\n",
    "\n",
    "# Filter sentences with 5 or fewer tokens\n",
    "filtered_df = df[df['darija_ar'].apply(token_count) == 4]\n",
    "\n",
    "# Write the filtered sentences to a new CSV file\n",
    "filtered_df.to_csv('4word-constructions.csv', index=False)\n",
    "\n",
    "print(\"Filtered sentences have been written to 1word-constructions.csv\")"
   ]
  },
  {
   "cell_type": "code",
   "execution_count": 13,
   "metadata": {},
   "outputs": [
    {
     "name": "stdout",
     "output_type": "stream",
     "text": [
      "Filtered sentences have been written to 1word-constructions.csv\n"
     ]
    }
   ],
   "source": [
    "import pandas as pd\n",
    "\n",
    "# Load the CSV file\n",
    "df = pd.read_csv('sentences.csv')\n",
    "\n",
    "# Function to count tokens in a sentence\n",
    "def token_count(sentence):\n",
    "    return len(sentence.split())\n",
    "\n",
    "# Filter sentences with 5 or fewer tokens\n",
    "filtered_df = df[df['darija_ar'].apply(token_count) >= 5]\n",
    "\n",
    "# Write the filtered sentences to a new CSV file\n",
    "filtered_df.to_csv('5word-constructions.csv', index=False)\n",
    "\n",
    "print(\"Filtered sentences have been written to 1word-constructions.csv\")"
   ]
  },
  {
   "cell_type": "code",
   "execution_count": null,
   "metadata": {},
   "outputs": [],
   "source": []
  }
 ],
 "metadata": {
  "kernelspec": {
   "display_name": "Python 3",
   "language": "python",
   "name": "python3"
  },
  "language_info": {
   "codemirror_mode": {
    "name": "ipython",
    "version": 3
   },
   "file_extension": ".py",
   "mimetype": "text/x-python",
   "name": "python",
   "nbconvert_exporter": "python",
   "pygments_lexer": "ipython3",
   "version": "3.11.8"
  }
 },
 "nbformat": 4,
 "nbformat_minor": 2
}
