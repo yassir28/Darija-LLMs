{
 "cells": [
  {
   "cell_type": "code",
   "execution_count": 2,
   "metadata": {},
   "outputs": [],
   "source": [
    "from openai import OpenAI\n",
    "import pandas as pd\n",
    "client = OpenAI()\n",
    "#User: simulates what a user might say to the model: input from the user in a conversation.\n",
    "#Assistant: simulates the model's own responses.\n",
    "#System: System messages are used to give instructions or settings that affect the model's behavior. \n",
    "    #These messages can define the context, persona, or specific instructions that the model should follow throughout the interaction.\n",
    "\n",
    "df = pd.read_csv('sentences.csv')\n",
    "\n",
    "def translate(arb):\n",
    "    completion = client.chat.completions.create(\n",
    "        model=\"gpt-3.5-turbo\",\n",
    "        messages=[\n",
    "            {\"role\": \"system\", \"content\": \"You are an expert in Moroccan Darija dialect and in translating Darija to English.\" +\n",
    "             \"Purpose of the translation: To study the accuracy of gpt api on Darija translation to English.\"+\n",
    "             \"Target audience: Darija Computational linguists.\"\n",
    "            },\n",
    "            {\"role\": \"user\", \"content\": \"Translate the provided Moroccan Darija dialect sentence into English using sentence-by-sentence translation.\"             },\n",
    "            {\"role\": \"assistant\", \"content\": \"OK, I understand. I am ready to translate to English.\"},\n",
    "            {\"role\": \"user\", \"content\": \"هوما مخبّيين شي حاجة, أنا متيقّن!\"},\n",
    "            {\"role\": \"assistant\", \"content\": \"They're hiding something, I'm sure!\"},\n",
    "            {\"role\": \"user\", \"content\":  f\"{arb}\" }\n",
    "            ], \n",
    "        temperature=0.1  # Deterministic responses\n",
    "        )\n",
    "    return completion.choices[0].message.content\n",
    "df['transl'] = df['darija_ar'].apply(translate)\n",
    "\n",
    "# Display or save the resulting DataFrame\n",
    "print(df['transl'])"
   ]
  }
 ],
 "metadata": {
  "kernelspec": {
   "display_name": "Python 3",
   "language": "python",
   "name": "python3"
  },
  "language_info": {
   "codemirror_mode": {
    "name": "ipython",
    "version": 3
   },
   "file_extension": ".py",
   "mimetype": "text/x-python",
   "name": "python",
   "nbconvert_exporter": "python",
   "pygments_lexer": "ipython3",
   "version": "3.11.8"
  }
 },
 "nbformat": 4,
 "nbformat_minor": 2
}
