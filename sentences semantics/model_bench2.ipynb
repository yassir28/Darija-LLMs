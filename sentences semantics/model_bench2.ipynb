{
 "cells": [
  {
   "cell_type": "markdown",
   "metadata": {},
   "source": [
    "Third model: comet\n",
    "\n",
    "spacy-sentence-bert: Bridges Spacy and Sentence-BERT, allowing users to utilize Sentence-BERT's capabilities within the Spacy ecosystem.\n"
   ]
  },
  {
   "cell_type": "code",
   "execution_count": 2,
   "metadata": {},
   "outputs": [
    {
     "name": "stdout",
     "output_type": "stream",
     "text": [
      "we leave | go out | Similarity: 0.7280201144791087\n"
     ]
    }
   ],
   "source": [
    "import spacy_sentence_bert\n",
    "\n",
    "# Load the Sentence-BERT model\n",
    "nlp = spacy_sentence_bert.load_model('en_stsb_roberta_large')\n",
    "\n",
    "# Define the two sentences you want to compare\n",
    "sentence1 = \"we leave\"\n",
    "sentence2 = \"go out\"\n",
    "\n",
    "# Process the sentences with the model\n",
    "doc1 = nlp(sentence1)\n",
    "doc2 = nlp(sentence2)\n",
    "\n",
    "# Calculate the similarity\n",
    "similarity = doc1.similarity(doc2)\n",
    "\n",
    "# Print the sentences and their similarity value\n",
    "print(f\"{doc1.text} | {doc2.text} | Similarity: {similarity}\")"
   ]
  },
  {
   "cell_type": "markdown",
   "metadata": {},
   "source": [
    "the second model works better"
   ]
  },
  {
   "cell_type": "markdown",
   "metadata": {},
   "source": []
  }
 ],
 "metadata": {
  "kernelspec": {
   "display_name": "Python 3",
   "language": "python",
   "name": "python3"
  },
  "language_info": {
   "codemirror_mode": {
    "name": "ipython",
    "version": 3
   },
   "file_extension": ".py",
   "mimetype": "text/x-python",
   "name": "python",
   "nbconvert_exporter": "python",
   "pygments_lexer": "ipython3",
   "version": "3.11.8"
  }
 },
 "nbformat": 4,
 "nbformat_minor": 2
}
