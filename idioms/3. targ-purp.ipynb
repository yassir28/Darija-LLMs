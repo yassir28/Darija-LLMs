{
 "cells": [
  {
   "cell_type": "markdown",
   "metadata": {},
   "source": [
    "The examples are brought from the paper of the Japanese.\n",
    "\n",
    "The other one is of my doing."
   ]
  },
  {
   "cell_type": "code",
   "execution_count": 9,
   "metadata": {},
   "outputs": [],
   "source": [
    "\n",
    "from openai import OpenAI\n",
    "import pandas as pd\n",
    "client = OpenAI()\n",
    "\n",
    "df = pd.read_csv('id2.csv')\n",
    "\n",
    "def meaning(id):\n",
    "    completion = client.chat.completions.create(\n",
    "        model=\"gpt-3.5-turbo\",\n",
    "        messages=[\n",
    "            {\"role\": \"system\", \"content\": \"You will be provided with an idiom in Moroccan Darija dialect, \"+\n",
    "            \"and your task is to determine its possible meaning.\"},\n",
    "           {\"role\": \"user\", \"content\": \"طلع تاكول الكرموس, نزل شكون قالها ليك.\"},\n",
    "            {\"role\": \"assistant\", \"content\": \"The idiom is about someone who's been told to do something but then he gets blamed after he does it.\"},\n",
    "            {\"role\": \"user\", \"content\":  f\"{id}\" }\n",
    "            ], \n",
    "        temperature=0\n",
    "        )\n",
    "    return completion.choices[0].message.content\n",
    "\n",
    "\n",
    "def ohne(id):\n",
    "    completion = client.chat.completions.create(\n",
    "        model=\"gpt-3.5-turbo\",\n",
    "        messages=[\n",
    "            {\"role\": \"system\", \"content\": \"You will be provided with an idiom in Moroccan Darija dialect, \"+\n",
    "            \"and your task is to translate it into an equivalent idiom or construction in English with no explanations.\"},\n",
    "            {\"role\": \"user\", \"content\":  f\"{id}\" }\n",
    "            ], \n",
    "        temperature=0\n",
    "        )\n",
    "    return completion.choices[0].message.content\n",
    "\n",
    "def culture(id):\n",
    "    completion = client.chat.completions.create(\n",
    "        model=\"gpt-3.5-turbo\",\n",
    "        messages=[\n",
    "            {\"role\": \"system\", \"content\": \"Translate the provided Moroccan Darija dialect idiom into English. \"+\n",
    "            \"Please fulfill the following conditions when translating.\\n\"+\n",
    "            \"Purpose of the translation: Use natural expressions that can be \"+\n",
    "            \"understood by English speakers who are not very familiar with Moroccan culture.\\n\"+\n",
    "            \"Target audience: General English-speaking audience.\"},\n",
    "            {\"role\": \"user\", \"content\":  f\"{id}\" }\n",
    "            ], \n",
    "        temperature=0\n",
    "        )\n",
    "    return completion.choices[0].message.content\n",
    "\n",
    "\n",
    "def dynamic(id):\n",
    "    completion = client.chat.completions.create(\n",
    "        model=\"gpt-3.5-turbo\",\n",
    "        messages=[\n",
    "            {\"role\": \"system\", \"content\": \n",
    "             \"Dynamic equivalence is a strategy for translating from the perspective of equalizing the \"+\n",
    "            \"reader’s response to the [source text] and the [target text]. In the example below, the word \"+\n",
    "            \"“Lamb” in the original text would be translated as “lamb” in the literal translation. However, \"+\n",
    "            \"when translating for Iceland, which has no sheep, it is difficult to convey the nuance of the \"+\n",
    "            \"word “lamb”. From the standpoint of equalizing the reader’s reaction, this is a ruse to translate \"+\n",
    "            \"it as “seal”. It is believed that “lamb” in the [source text] and “seal” in the [target text]\"+\n",
    "            \"will evoke the same reaction in the reader.\\n\"+\n",
    "            \"[source text] Lamb of God\\n\"+\n",
    "            \"[target text] Seal of God\\n\"+\n",
    "            \"Following this concept and example, please translate the following [source text] into English \"+\n",
    "            \"using the dynamic equivalent. Please replace the translation with something that would be \"+\n",
    "            \"understood in an English-speaking culture.\"\n",
    "             },\n",
    "            {\"role\": \"user\", \"content\":  f\"{id}\" }\n",
    "            ], \n",
    "        temperature=0\n",
    "        )\n",
    "    return completion.choices[0].message.content\n",
    "\n",
    "def multiple_turns(id):\n",
    "    literal_completion = client.chat.completions.create(\n",
    "        model=\"gpt-3.5-turbo\",\n",
    "        messages=[\n",
    "            {\"role\": \"system\", \"content\": \"You are an expert in Language translation from Moroccan Darija dialect to English. \" +\n",
    "            \"You will be provided with a sentence in Moroccan Darija dialect, \"+\n",
    "            \"and your task is to translate it into an English sentence. \"+\n",
    "            \"The translation must be literal with no explanations.\"},\n",
    "            #{\"role\": \"assistant\", \"content\": \"OK, I understand. I am ready for the translation.\"},\n",
    "            {\"role\": \"user\", \"content\": \"طلع تاكول الكرموس, نزل شكون قالها ليك.\"},\n",
    "            {\"role\": \"assistant\", \"content\": \"Come upstairs and have some figs, get downstairs who told you so!\"},\n",
    "            {\"role\": \"user\", \"content\":  f\"{id}\" }\n",
    "        ], \n",
    "        temperature=0  # Deterministic responses\n",
    "    )\n",
    "    literal = literal_completion.choices[0].message.content\n",
    "\n",
    "    # Step 1: Conclude a possible explanation for the given Darija idiom\n",
    "    explanation_completion = client.chat.completions.create(\n",
    "        model=\"gpt-3.5-turbo\",\n",
    "        messages=[\n",
    "            {\"role\": \"system\", \"content\":\n",
    "            \"You will receive a literal English translation of a Moroccan Darija idiom, \"+\n",
    "            \"and your task is to determine its possible meaning.\"},\n",
    "            {\"role\": \"user\", \"content\": \"Come upstairs and have some figs, get downstairs who told you so!\"},\n",
    "            {\"role\": \"assistant\", \"content\": \"The idiom is about someone who's been told to do something but then he gets blamed after he does it.\"},\n",
    "\n",
    "            {\"role\": \"user\", \"content\": f\"{literal}\" }\n",
    "        ], \n",
    "        temperature=0  # Deterministic responses\n",
    "    )\n",
    "    explanation = explanation_completion.choices[0].message.content\n",
    "    \n",
    "    # Step 2: Give an equivalent idiom from the explanation\n",
    "    equivalent_completion = client.chat.completions.create(\n",
    "        model=\"gpt-3.5-turbo\",\n",
    "        messages=[\n",
    "            {\"role\": \"system\", \"content\":\n",
    "            \"You will be provided with an explanation of an idiom, \"+\n",
    "            \"and your task is to provide the equivalent English idiom or construction for it.\"},\n",
    "            {\"role\": \"user\", \"content\": \"The idiom is about someone who's been told to do something but then he gets blamed after he does it.\"},\n",
    "            {\"role\": \"assistant\", \"content\": \"Caught between a rock and a hard place\"},\n",
    "            {\"role\": \"user\", \"content\": f\"{explanation}\" }\n",
    "        ], \n",
    "        temperature=0  # Deterministic responses\n",
    "    )\n",
    "    equivalent_idiom = equivalent_completion.choices[0].message.content\n",
    "    \n",
    "    # Step 3: Revise output of the translation before outputting it\n",
    "    revision_completion = client.chat.completions.create(\n",
    "        model=\"gpt-3.5-turbo\",\n",
    "        messages=[\n",
    "            {\"role\": \"system\", \"content\":\n",
    "            \"You will receive a possible English idiom, \" +\n",
    "            \"and your task is to revise it for accuracy and appropriateness. \" +\n",
    "            \"If it fits as an idiom, keep it; if not, provide a suitable alternative.\"},\n",
    "            {\"role\": \"user\", \"content\": \"Caught between a rock and a hard place.\"},\n",
    "            {\"role\": \"assistant\", \"content\": \"Caught between a rock and a hard place.\"},\n",
    "            {\"role\": \"user\", \"content\": f\"{equivalent_idiom}\" }\n",
    "        ], \n",
    "        temperature=0  # Deterministic responses\n",
    "    )\n",
    "    revised_idiom = revision_completion.choices[0].message.content\n",
    "    \n",
    "    return literal, explanation,equivalent_idiom,revised_idiom\n"
   ]
  },
  {
   "cell_type": "code",
   "execution_count": 11,
   "metadata": {},
   "outputs": [
    {
     "name": "stdout",
     "output_type": "stream",
     "text": [
      "Literal translation: You! The one naked, what do you need? I need a ring made of gold my lord.\n",
      "\n",
      "prompt's literal translation: What do you want, you naked one, give me the gold ring, sir.\n",
      "prompt's explanation of original idiom in English: This idiom means \"Mind your own business\" in English.\n",
      "\n",
      "Simple equivalent translation: What do you want, O naked one, give me the golden ring, my lord.\n",
      "Purpose and target translation: What do you want, you naked one? You want me to give you a gold ring, my lord.\n",
      "Culture specefic translation: What's up, naked one? I want the gold ring, my lord.\n",
      "\n",
      "multiple Turns translation:\n",
      "First turn: Literal translation's possible meaning: This idiom means that someone is being nosy or interfering in someone else's business.\n",
      "Second turn: equivalent of the meaning in English: To ask for the moon\n",
      "Third turn: Recheck of the translation: To ask for the moon\n"
     ]
    }
   ],
   "source": [
    "darija_idiom = \"أش خاصك يا العريان, خاصني خاتم الذهب يا مولاي.\"\n",
    "print(\"Literal translation: You! The one naked, what do you need? I need a ring made of gold my lord.\\n\")\n",
    "\n",
    "print(f\"prompt's literal translation: {multiple_turns(darija_idiom)[0]}\")\n",
    "print(f\"prompt's explanation of original idiom in English: {meaning(darija_idiom)}\\n\")\n",
    "\n",
    "\n",
    "print(f\"Simple equivalent translation: {ohne(darija_idiom)}\")\n",
    "print(f\"Purpose and target translation: {culture(darija_idiom)}\")\n",
    "print(f\"Culture specefic translation: {dynamic(darija_idiom)}\\n\")\n",
    "\n",
    "print(\"multiple Turns translation:\")\n",
    "print(f\"First turn: Literal translation's possible meaning: {multiple_turns(darija_idiom)[1]}\")\n",
    "print(f\"Second turn: equivalent of the meaning in English: {multiple_turns(darija_idiom)[2]}\")\n",
    "print(f\"Third turn: Recheck of the translation: {multiple_turns(darija_idiom)[3]}\")"
   ]
  },
  {
   "cell_type": "code",
   "execution_count": 10,
   "metadata": {},
   "outputs": [
    {
     "name": "stdout",
     "output_type": "stream",
     "text": [
      "Literal translation: Came to do her eyeliner, blinded her instead.\n",
      "\n",
      "prompt's literal translation: He came to fix it for her.\n",
      "prompt's explanation of original idiom in English: This idiom means that someone is trying to make a situation worse instead of improving it.\n",
      "\n",
      "Simple equivalent translation: He came to put kohl on her eyes.\n",
      "Purpose and target translation: He came to put kohl on her eyes.\n",
      "Culture specefic translation: He hit the nail on the head.\n",
      "\n",
      "multiple Turns translation:\n",
      "First turn: Literal translation's possible meaning: This idiom means that someone is trying to help or solve a problem for someone else.\n",
      "Second turn: equivalent of the meaning in English: To lend a helping hand\n",
      "Third turn: Recheck of the translation: To lend a helping hand\n"
     ]
    }
   ],
   "source": [
    "darija_idiom = \"جا يكحلها عماها.\"\n",
    "print(\"Literal translation: Came to do her eyeliner, blinded her instead.\\n\")\n",
    "\n",
    "print(f\"prompt's literal translation: {multiple_turns(darija_idiom)[0]}\")\n",
    "print(f\"prompt's explanation of original idiom in English: {meaning(darija_idiom)}\\n\")\n",
    "\n",
    "\n",
    "print(f\"Simple equivalent translation: {ohne(darija_idiom)}\")\n",
    "print(f\"Purpose and target translation: {culture(darija_idiom)}\")\n",
    "print(f\"Culture specefic translation: {dynamic(darija_idiom)}\\n\")\n",
    "\n",
    "print(\"multiple Turns translation:\")\n",
    "print(f\"First turn: Literal translation's possible meaning: {multiple_turns(darija_idiom)[1]}\")\n",
    "print(f\"Second turn: equivalent of the meaning in English: {multiple_turns(darija_idiom)[2]}\")\n",
    "print(f\"Third turn: Recheck of the translation: {multiple_turns(darija_idiom)[3]}\")\n"
   ]
  },
  {
   "cell_type": "code",
   "execution_count": 17,
   "metadata": {},
   "outputs": [
    {
     "name": "stdout",
     "output_type": "stream",
     "text": [
      "Literal translation: If one doesn't have money, their speech is tasteless.\n",
      "\n",
      "prompt's literal translation: Whoever doesn't have money, their words are considered nonsense.\n",
      "prompt's explanation of original idiom in English: This idiom means that someone who doesn't have money is not taken seriously or their words are not valued.\n",
      "\n",
      "Simple equivalent translation: Empty vessels make the most noise.\n",
      "Purpose and target translation: Someone who doesn't have money, their words are worthless.\n",
      "Culture specefic translation: Broke as a joke.\n",
      "\n",
      "multiple Turns translation:\n",
      "First turn: Literal translation's possible meaning: This idiom means that people who are not financially stable or successful are often not taken seriously or their opinions are not valued.\n",
      "Second turn: equivalent of the meaning in English: \"Money talks\"\n",
      "Third turn: Recheck of the translation: \"Money talks\"\n"
     ]
    }
   ],
   "source": [
    "darija_idiom = \"اللي ما عندو فلوس كلامو مسوس.\"\n",
    "print(\"Literal translation: If one doesn't have money, their speech is tasteless.\\n\")\n",
    "\n",
    "print(f\"prompt's literal translation: {multiple_turns(darija_idiom)[0]}\")\n",
    "print(f\"prompt's explanation of original idiom in English: {meaning(darija_idiom)}\\n\")\n",
    "\n",
    "\n",
    "print(f\"Simple equivalent translation: {ohne(darija_idiom)}\")\n",
    "print(f\"Purpose and target translation: {culture(darija_idiom)}\")\n",
    "print(f\"Culture specefic translation: {dynamic(darija_idiom)}\\n\")\n",
    "\n",
    "print(\"multiple Turns translation:\")\n",
    "print(f\"First turn: Literal translation's possible meaning: {multiple_turns(darija_idiom)[1]}\")\n",
    "print(f\"Second turn: equivalent of the meaning in English: {multiple_turns(darija_idiom)[2]}\")\n",
    "print(f\"Third turn: Recheck of the translation: {multiple_turns(darija_idiom)[3]}\")"
   ]
  },
  {
   "cell_type": "code",
   "execution_count": 19,
   "metadata": {},
   "outputs": [
    {
     "name": "stdout",
     "output_type": "stream",
     "text": [
      "Literal translation: Praise in public, criticize in private.\n",
      "\n",
      "prompt's literal translation: Praise your friend in front of people and scold him in private.\n",
      "prompt's explanation of original idiom in English: This idiom means to praise your friend in front of others, even if you have to criticize him in private.\n",
      "\n",
      "Simple equivalent translation: Praise your friend in front of people, but scold him in private.\n",
      "Purpose and target translation: Praise your friend in front of others, even if you have to blame him in private.\n",
      "Culture specefic translation: Praise your friend in public and blame the head, not the tail.\n",
      "\n",
      "multiple Turns translation:\n",
      "First turn: Literal translation's possible meaning: This idiom means to speak well of your friend in public and criticize them in private.\n",
      "Second turn: equivalent of the meaning in English: \"Speak of the devil and he shall appear.\"\n",
      "Third turn: Recheck of the translation: To speak with a forked tongue\n"
     ]
    }
   ],
   "source": [
    "darija_idiom = \"امدح صاحبك مع الناس ولومو الراس فالراس\"\n",
    "print(\"Literal translation: Praise in public, criticize in private.\\n\")\n",
    "\n",
    "print(f\"prompt's literal translation: {multiple_turns(darija_idiom)[0]}\")\n",
    "print(f\"prompt's explanation of original idiom in English: {meaning(darija_idiom)}\\n\")\n",
    "\n",
    "\n",
    "print(f\"Simple equivalent translation: {ohne(darija_idiom)}\")\n",
    "print(f\"Purpose and target translation: {culture(darija_idiom)}\")\n",
    "print(f\"Culture specefic translation: {dynamic(darija_idiom)}\\n\")\n",
    "\n",
    "print(\"multiple Turns translation:\")\n",
    "print(f\"First turn: Literal translation's possible meaning: {multiple_turns(darija_idiom)[1]}\")\n",
    "print(f\"Second turn: equivalent of the meaning in English: {multiple_turns(darija_idiom)[2]}\")\n",
    "print(f\"Third turn: Recheck of the translation: {multiple_turns(darija_idiom)[3]}\")"
   ]
  },
  {
   "cell_type": "code",
   "execution_count": 20,
   "metadata": {},
   "outputs": [
    {
     "name": "stdout",
     "output_type": "stream",
     "text": [
      "Literal translation: One eye saw and the other eye did not see.\n",
      "\n",
      "prompt's literal translation: Put an eye that sees and an eye that doesn't see.\n",
      "prompt's explanation of original idiom in English: This idiom means \"to pretend not to see or know something.\"\n",
      "\n",
      "Simple equivalent translation: Turn a blind eye.\n",
      "Purpose and target translation: One eye saw, the other eye didn't.\n",
      "Culture specefic translation: Seeing is believing\n",
      "\n",
      "multiple Turns translation:\n",
      "First turn: Literal translation's possible meaning: This idiom means to be cautious and observant, to pay attention to details and be aware of your surroundings.\n",
      "Second turn: equivalent of the meaning in English: Keep your eyes peeled\n",
      "Third turn: Recheck of the translation: Keep your eyes peeled\n"
     ]
    }
   ],
   "source": [
    "darija_idiom = \"دير عين شافت وعين ماشافت\"\n",
    "print(\"Literal translation: One eye saw and the other eye did not see.\\n\")\n",
    "\n",
    "print(f\"prompt's literal translation: {multiple_turns(darija_idiom)[0]}\")\n",
    "print(f\"prompt's explanation of original idiom in English: {meaning(darija_idiom)}\\n\")\n",
    "\n",
    "\n",
    "print(f\"Simple equivalent translation: {ohne(darija_idiom)}\")\n",
    "print(f\"Purpose and target translation: {culture(darija_idiom)}\")\n",
    "print(f\"Culture specefic translation: {dynamic(darija_idiom)}\\n\")\n",
    "\n",
    "print(\"multiple Turns translation:\")\n",
    "print(f\"First turn: Literal translation's possible meaning: {multiple_turns(darija_idiom)[1]}\")\n",
    "print(f\"Second turn: equivalent of the meaning in English: {multiple_turns(darija_idiom)[2]}\")\n",
    "print(f\"Third turn: Recheck of the translation: {multiple_turns(darija_idiom)[3]}\")"
   ]
  },
  {
   "cell_type": "code",
   "execution_count": 21,
   "metadata": {},
   "outputs": [
    {
     "name": "stdout",
     "output_type": "stream",
     "text": [
      "Literal translation: If one wants honey, they must endure the sting of bees.\n",
      "\n",
      "prompt's literal translation: Whoever wants honey should be patient for the beeswax.\n",
      "prompt's explanation of original idiom in English: This idiom means that if someone wants to achieve something good or valuable, they need to be patient and endure some difficulties or challenges along the way.\n",
      "\n",
      "Simple equivalent translation: If you want honey, be prepared to deal with bees.\n",
      "Purpose and target translation: Whoever wants honey must endure the sting of bees.\n",
      "Culture specefic translation: He who wants honey must endure the sting of the bee.\n",
      "\n",
      "multiple Turns translation:\n",
      "First turn: Literal translation's possible meaning: This idiom means that if you want to achieve something good or valuable, you need to be patient and willing to put in the necessary effort or work.\n",
      "Second turn: equivalent of the meaning in English: Good things come to those who wait\n",
      "Third turn: Recheck of the translation: Good things come to those who work hard and persevere.\n"
     ]
    }
   ],
   "source": [
    "darija_idiom = \"اللي بغي لعسل يصبر لقريص النحل\"\n",
    "print(\"Literal translation: If one wants honey, they must endure the sting of bees.\\n\")\n",
    "\n",
    "print(f\"prompt's literal translation: {multiple_turns(darija_idiom)[0]}\")\n",
    "print(f\"prompt's explanation of original idiom in English: {meaning(darija_idiom)}\\n\")\n",
    "\n",
    "\n",
    "print(f\"Simple equivalent translation: {ohne(darija_idiom)}\")\n",
    "print(f\"Purpose and target translation: {culture(darija_idiom)}\")\n",
    "print(f\"Culture specefic translation: {dynamic(darija_idiom)}\\n\")\n",
    "\n",
    "print(\"multiple Turns translation:\")\n",
    "print(f\"First turn: Literal translation's possible meaning: {multiple_turns(darija_idiom)[1]}\")\n",
    "print(f\"Second turn: equivalent of the meaning in English: {multiple_turns(darija_idiom)[2]}\")\n",
    "print(f\"Third turn: Recheck of the translation: {multiple_turns(darija_idiom)[3]}\")\n"
   ]
  },
  {
   "cell_type": "code",
   "execution_count": 15,
   "metadata": {},
   "outputs": [
    {
     "name": "stdout",
     "output_type": "stream",
     "text": [
      "Literal translation: Tie your donkey with other donkeys, it will only learn to bray, neigh and from the path he'll stray.\n",
      "\n",
      "prompt's literal translation: Tie your donkey with the other donkeys, it will learn the braying and neighing and get out of the way.\n",
      "prompt's explanation of original idiom in English: This idiom means \"Associate with those who are knowledgeable and experienced to learn and improve yourself.\"\n",
      "\n",
      "Simple equivalent translation: Tie your donkey with the donkeys, it will learn how to bray and trot and stay on the road.\n",
      "Purpose and target translation: Tie your donkey with the donkeys, it will learn the braying and the neighing and get out of the way.\n",
      "Culture specefic translation: Tie your donkey with the donkeys, it learns the braying and the neighing and goes out of the way.\n",
      "\n",
      "multiple Turns translation:\n",
      "First turn: Literal translation's possible meaning: This idiom means that when you spend time with a certain group of people, you start to adopt their habits and behaviors.\n",
      "Second turn: equivalent of the meaning in English: When in Rome, do as the Romans do.\n",
      "Third turn: Recheck of the translation: When in Rome, do as the Romans do.\n"
     ]
    }
   ],
   "source": [
    "darija_idiom = \"اربط حمارك مع الحمير، يتعلم الشيق والنهيق وخرجان الطريق\"\n",
    "print(\"Literal translation: Tie your donkey with other donkeys, it will only learn to bray, neigh and from the path he'll stray.\\n\")\n",
    "\n",
    "print(f\"prompt's literal translation: {multiple_turns(darija_idiom)[0]}\")\n",
    "print(f\"prompt's explanation of original idiom in English: {meaning(darija_idiom)}\\n\")\n",
    "\n",
    "\n",
    "print(f\"Simple equivalent translation: {ohne(darija_idiom)}\")\n",
    "print(f\"Purpose and target translation: {culture(darija_idiom)}\")\n",
    "print(f\"Culture specefic translation: {dynamic(darija_idiom)}\\n\")\n",
    "\n",
    "print(\"multiple Turns translation:\")\n",
    "print(f\"First turn: Literal translation's possible meaning: {multiple_turns(darija_idiom)[1]}\")\n",
    "print(f\"Second turn: equivalent of the meaning in English: {multiple_turns(darija_idiom)[2]}\")\n",
    "print(f\"Third turn: Recheck of the translation: {multiple_turns(darija_idiom)[3]}\")\n"
   ]
  },
  {
   "cell_type": "code",
   "execution_count": 22,
   "metadata": {},
   "outputs": [
    {
     "name": "stdout",
     "output_type": "stream",
     "text": [
      "Literal translation: A grand funeral for a dead mouse.\n",
      "\n",
      "prompt's literal translation: The funeral is big and the deceased is a mouse.\n",
      "prompt's explanation of original idiom in English: This idiom means that the coffin is big but the deceased is small, implying that someone is making a big deal out of a small issue.\n",
      "\n",
      "Simple equivalent translation: The coffin is big, but the deceased is a mouse.\n",
      "Purpose and target translation: The funeral is grand, but the deceased is gone.\n",
      "Culture specefic translation: The funeral is grand and the deceased is a mouse.\n",
      "\n",
      "multiple Turns translation:\n",
      "First turn: Literal translation's possible meaning: This idiom means that a big fuss is being made over something insignificant or unimportant.\n",
      "Second turn: equivalent of the meaning in English: Making a mountain out of a molehill\n",
      "Third turn: Recheck of the translation: Making a mountain out of a molehill.\n"
     ]
    }
   ],
   "source": [
    "darija_idiom = \"الگنازة كبيرة والميت فار\"\n",
    "print(\"Literal translation: A grand funeral for a dead mouse.\\n\")\n",
    "\n",
    "print(f\"prompt's literal translation: {multiple_turns(darija_idiom)[0]}\")\n",
    "print(f\"prompt's explanation of original idiom in English: {meaning(darija_idiom)}\\n\")\n",
    "\n",
    "\n",
    "print(f\"Simple equivalent translation: {ohne(darija_idiom)}\")\n",
    "print(f\"Purpose and target translation: {culture(darija_idiom)}\")\n",
    "print(f\"Culture specefic translation: {dynamic(darija_idiom)}\\n\")\n",
    "\n",
    "print(\"multiple Turns translation:\")\n",
    "print(f\"First turn: Literal translation's possible meaning: {multiple_turns(darija_idiom)[1]}\")\n",
    "print(f\"Second turn: equivalent of the meaning in English: {multiple_turns(darija_idiom)[2]}\")\n",
    "print(f\"Third turn: Recheck of the translation: {multiple_turns(darija_idiom)[3]}\")\n"
   ]
  },
  {
   "cell_type": "code",
   "execution_count": 24,
   "metadata": {},
   "outputs": [
    {
     "name": "stdout",
     "output_type": "stream",
     "text": [
      "Literal translation: If you are raised with something you grow old with it.\n",
      "\n",
      "prompt's literal translation: Whoever is raised on something will grow accustomed to it.\n",
      "prompt's explanation of original idiom in English: This idiom means that if someone is raised or brought up with a certain thing, they will eventually get used to it or become accustomed to it.\n",
      "\n",
      "Simple equivalent translation: You can't teach an old dog new tricks.\n",
      "Purpose and target translation: If you raise something, it will grow on you.\n",
      "Culture specefic translation: Someone who is raised on something will eventually outgrow it.\n",
      "\n",
      "multiple Turns translation:\n",
      "First turn: Literal translation's possible meaning: This idiom means that people tend to get used to whatever they are exposed to from a young age.\n",
      "Second turn: equivalent of the meaning in English: You can't teach an old dog new tricks.\n",
      "Third turn: Recheck of the translation: You can't teach an old dog new tricks.\n"
     ]
    }
   ],
   "source": [
    "\n",
    "darija_idiom = \"اللي تربي على شي حاجة كبر عليها\"\n",
    "print(\"Literal translation: If you are raised with something you grow old with it.\\n\")\n",
    "\n",
    "print(f\"prompt's literal translation: {multiple_turns(darija_idiom)[0]}\")\n",
    "print(f\"prompt's explanation of original idiom in English: {meaning(darija_idiom)}\\n\")\n",
    "\n",
    "\n",
    "print(f\"Simple equivalent translation: {ohne(darija_idiom)}\")\n",
    "print(f\"Purpose and target translation: {culture(darija_idiom)}\")\n",
    "print(f\"Culture specefic translation: {dynamic(darija_idiom)}\\n\")\n",
    "\n",
    "print(\"multiple Turns translation:\")\n",
    "print(f\"First turn: Literal translation's possible meaning: {multiple_turns(darija_idiom)[1]}\")\n",
    "print(f\"Second turn: equivalent of the meaning in English: {multiple_turns(darija_idiom)[2]}\")\n",
    "print(f\"Third turn: Recheck of the translation: {multiple_turns(darija_idiom)[3]}\")\n"
   ]
  },
  {
   "cell_type": "code",
   "execution_count": 25,
   "metadata": {},
   "outputs": [
    {
     "name": "stdout",
     "output_type": "stream",
     "text": [
      "Literal translation: One who dugs a hole fells into it.\n",
      "\n",
      "prompt's literal translation: Who digs a hole will fall into it.\n",
      "prompt's explanation of original idiom in English: This idiom means \"he who digs a hole will fall into it\", which is similar to the English saying \"you reap what you sow\". It implies that someone who causes trouble or creates a problem for others will eventually face the consequences themselves.\n",
      "\n",
      "Simple equivalent translation: He who digs a pit will fall into it.\n",
      "Purpose and target translation: \"He who digs a hole falls into it.\"\n",
      "Culture specefic translation: He dug a hole and fell into it.\n",
      "\n",
      "multiple Turns translation:\n",
      "First turn: Literal translation's possible meaning: This idiom means that if you do something wrong or harmful, you will likely face the consequences or negative outcomes of your actions.\n",
      "Second turn: equivalent of the meaning in English: You reap what you sow\n",
      "Third turn: Recheck of the translation: You reap what you sow.\n"
     ]
    }
   ],
   "source": [
    "\n",
    "darija_idiom = \"لي حفر شي حفرة كيطيح فيها\"\n",
    "print(\"Literal translation: One who dugs a hole fells into it.\\n\")\n",
    "\n",
    "print(f\"prompt's literal translation: {multiple_turns(darija_idiom)[0]}\")\n",
    "print(f\"prompt's explanation of original idiom in English: {meaning(darija_idiom)}\\n\")\n",
    "\n",
    "\n",
    "print(f\"Simple equivalent translation: {ohne(darija_idiom)}\")\n",
    "print(f\"Purpose and target translation: {culture(darija_idiom)}\")\n",
    "print(f\"Culture specefic translation: {dynamic(darija_idiom)}\\n\")\n",
    "\n",
    "print(\"multiple Turns translation:\")\n",
    "print(f\"First turn: Literal translation's possible meaning: {multiple_turns(darija_idiom)[1]}\")\n",
    "print(f\"Second turn: equivalent of the meaning in English: {multiple_turns(darija_idiom)[2]}\")\n",
    "print(f\"Third turn: Recheck of the translation: {multiple_turns(darija_idiom)[3]}\")\n",
    "\n"
   ]
  },
  {
   "cell_type": "code",
   "execution_count": 27,
   "metadata": {},
   "outputs": [
    {
     "name": "stdout",
     "output_type": "stream",
     "text": [
      "Literal translation: Flies do not enter a closed mouth.\n",
      "\n",
      "prompt's literal translation: A closed mouth doesn't let flies in.\n",
      "prompt's explanation of original idiom in English: This idiom means that a closed mouth doesn't let flies in, implying that it's better to keep quiet and avoid trouble.\n",
      "\n",
      "Simple equivalent translation: A closed mouth catches no flies.\n",
      "Purpose and target translation: A blocked mouth doesn't let flies in.\n",
      "Culture specefic translation: A closed mouth catches no flies.\n",
      "\n",
      "multiple Turns translation:\n",
      "First turn: Literal translation's possible meaning: This idiom means that it's better to keep quiet and not say anything, as speaking may lead to trouble or problems.\n",
      "Second turn: equivalent of the meaning in English: Silence is golden\n",
      "Third turn: Recheck of the translation: Silence is golden\n"
     ]
    }
   ],
   "source": [
    "\n",
    "darija_idiom = \"الفم المسدود ما يدخلو دبان\"\n",
    "print(\"Literal translation: Flies do not enter a closed mouth.\\n\")\n",
    "\n",
    "print(f\"prompt's literal translation: {multiple_turns(darija_idiom)[0]}\")\n",
    "print(f\"prompt's explanation of original idiom in English: {meaning(darija_idiom)}\\n\")\n",
    "\n",
    "\n",
    "print(f\"Simple equivalent translation: {ohne(darija_idiom)}\")\n",
    "print(f\"Purpose and target translation: {culture(darija_idiom)}\")\n",
    "print(f\"Culture specefic translation: {dynamic(darija_idiom)}\\n\")\n",
    "\n",
    "print(\"multiple Turns translation:\")\n",
    "print(f\"First turn: Literal translation's possible meaning: {multiple_turns(darija_idiom)[1]}\")\n",
    "print(f\"Second turn: equivalent of the meaning in English: {multiple_turns(darija_idiom)[2]}\")\n",
    "print(f\"Third turn: Recheck of the translation: {multiple_turns(darija_idiom)[3]}\")"
   ]
  },
  {
   "cell_type": "code",
   "execution_count": 28,
   "metadata": {},
   "outputs": [
    {
     "name": "stdout",
     "output_type": "stream",
     "text": [
      "Literal translation: Come upstairs and have some figs, get downstairs who told you so!.\n",
      "\n",
      "prompt's literal translation: Go up and eat the figs, come down who told you that.\n",
      "prompt's explanation of original idiom in English: This idiom means \"to take the blame for something you didn't do.\"\n",
      "\n",
      "Simple equivalent translation: He went to eat the watermelon, and someone came and told you.\n",
      "Purpose and target translation: He went out to eat cherries, and someone came down and told you.\n",
      "Culture specefic translation: Went to eat some popcorn, came back, guess who said it to you\n",
      "\n",
      "multiple Turns translation:\n",
      "First turn: Literal translation's possible meaning: This idiom means that someone is being told to do something, but then when they do it, they are criticized or blamed for it. It implies a sense of confusion or contradiction in the instructions given.\n",
      "Second turn: equivalent of the meaning in English: Damned if you do, damned if you don't\n",
      "Third turn: Recheck of the translation: Damned if you do, damned if you don't.\n"
     ]
    }
   ],
   "source": [
    "\n",
    "darija_idiom = \"طلع تاكول الكرموس, نزل شكون قالها ليك\"\n",
    "print(\"Literal translation: Come upstairs and have some figs, get downstairs who told you so!.\\n\")\n",
    "\n",
    "print(f\"prompt's literal translation: {multiple_turns(darija_idiom)[0]}\")\n",
    "print(f\"prompt's explanation of original idiom in English: {meaning(darija_idiom)}\\n\")\n",
    "\n",
    "\n",
    "print(f\"Simple equivalent translation: {ohne(darija_idiom)}\")\n",
    "print(f\"Purpose and target translation: {culture(darija_idiom)}\")\n",
    "print(f\"Culture specefic translation: {dynamic(darija_idiom)}\\n\")\n",
    "\n",
    "print(\"multiple Turns translation:\")\n",
    "print(f\"First turn: Literal translation's possible meaning: {multiple_turns(darija_idiom)[1]}\")\n",
    "print(f\"Second turn: equivalent of the meaning in English: {multiple_turns(darija_idiom)[2]}\")\n",
    "print(f\"Third turn: Recheck of the translation: {multiple_turns(darija_idiom)[3]}\")\n"
   ]
  },
  {
   "cell_type": "code",
   "execution_count": 29,
   "metadata": {},
   "outputs": [
    {
     "name": "stdout",
     "output_type": "stream",
     "text": [
      "Literal translation: Don't stick your hand in holes in the ground so that you don't get bitten by snakes.\n",
      "\n",
      "prompt's literal translation: Don't put your hand in the fire so it doesn't bite you.\n",
      "prompt's explanation of original idiom in English: This idiom means \"Don't meddle in other people's business so they don't bite you.\" It is a warning against interfering in matters that do not concern you to avoid potential negative consequences.\n",
      "\n",
      "Simple equivalent translation: Don't put your hand in the beehive if you don't want to get stung.\n",
      "Purpose and target translation: Don't put your hand in the beehive so you won't get stung.\n",
      "Culture specefic translation: Don't put your hand in the cookie jar or you might get bitten.\n",
      "\n",
      "multiple Turns translation:\n",
      "First turn: Literal translation's possible meaning: This idiom means to avoid getting involved in a risky or dangerous situation to prevent negative consequences.\n",
      "Second turn: equivalent of the meaning in English: An ounce of prevention is worth a pound of cure.\n",
      "Third turn: Recheck of the translation: To avoid\n"
     ]
    }
   ],
   "source": [
    "\n",
    "darija_idiom = \"ماديرش يدك في غيران باش مايعضوكش الحنوشة\"\n",
    "print(\"Literal translation: Don't stick your hand in holes in the ground so that you don't get bitten by snakes.\\n\")\n",
    "\n",
    "print(f\"prompt's literal translation: {multiple_turns(darija_idiom)[0]}\")\n",
    "print(f\"prompt's explanation of original idiom in English: {meaning(darija_idiom)}\\n\")\n",
    "\n",
    "\n",
    "print(f\"Simple equivalent translation: {ohne(darija_idiom)}\")\n",
    "print(f\"Purpose and target translation: {culture(darija_idiom)}\")\n",
    "print(f\"Culture specefic translation: {dynamic(darija_idiom)}\\n\")\n",
    "\n",
    "print(\"multiple Turns translation:\")\n",
    "print(f\"First turn: Literal translation's possible meaning: {multiple_turns(darija_idiom)[1]}\")\n",
    "print(f\"Second turn: equivalent of the meaning in English: {multiple_turns(darija_idiom)[2]}\")\n",
    "print(f\"Third turn: Recheck of the translation: {multiple_turns(darija_idiom)[3]}\")\n",
    "\n"
   ]
  },
  {
   "cell_type": "code",
   "execution_count": 30,
   "metadata": {},
   "outputs": [
    {
     "name": "stdout",
     "output_type": "stream",
     "text": [
      "Literal translation: Don't put your face in bran if you don't want to get pecked by the hens.\n",
      "\n",
      "prompt's literal translation: Don't put your head in the chaff so the chickens don't peck you.\n",
      "prompt's explanation of original idiom in English: This idiom means \"Don't involve yourself in matters that don't concern you to avoid getting into trouble.\"\n",
      "\n",
      "Simple equivalent translation: Don't bury your head in the sand so the chickens don't peck you.\n",
      "Purpose and target translation: Don't put your head in the chicken feed so the chickens won't peck at you.\n",
      "Culture specefic translation: Don't bury your head in the sand so they don't peck you like chickens.\n",
      "\n",
      "multiple Turns translation:\n",
      "First turn: Literal translation's possible meaning: This idiom means to not involve yourself in matters that don't concern you, in order to avoid unnecessary trouble or conflict.\n",
      "Second turn: equivalent of the meaning in English: Mind your own business\n",
      "Third turn: Recheck of the translation: Mind your own business\n"
     ]
    }
   ],
   "source": [
    "\n",
    "darija_idiom = \"ماديرش راسك في نخالة باش ماينقبوكش الدجاج\"\n",
    "print(\"Literal translation: Don't put your face in bran if you don't want to get pecked by the hens.\\n\")\n",
    "\n",
    "print(f\"prompt's literal translation: {multiple_turns(darija_idiom)[0]}\")\n",
    "print(f\"prompt's explanation of original idiom in English: {meaning(darija_idiom)}\\n\")\n",
    "\n",
    "\n",
    "print(f\"Simple equivalent translation: {ohne(darija_idiom)}\")\n",
    "print(f\"Purpose and target translation: {culture(darija_idiom)}\")\n",
    "print(f\"Culture specefic translation: {dynamic(darija_idiom)}\\n\")\n",
    "\n",
    "print(\"multiple Turns translation:\")\n",
    "print(f\"First turn: Literal translation's possible meaning: {multiple_turns(darija_idiom)[1]}\")\n",
    "print(f\"Second turn: equivalent of the meaning in English: {multiple_turns(darija_idiom)[2]}\")\n",
    "print(f\"Third turn: Recheck of the translation: {multiple_turns(darija_idiom)[3]}\")"
   ]
  },
  {
   "cell_type": "code",
   "execution_count": 31,
   "metadata": {},
   "outputs": [
    {
     "name": "stdout",
     "output_type": "stream",
     "text": [
      "Literal translation: The mice are fighting over the neighbor's yeast.\n",
      "\n",
      "prompt's literal translation: The dogs are barking at the neighbors' dough.\n",
      "prompt's explanation of original idiom in English: This idiom means \"to act like a mouse in the neighbor's dough,\" which implies being nosy or meddling in other people's business.\n",
      "\n",
      "Simple equivalent translation: The fox is guarding the neighbors' dough.\n",
      "Purpose and target translation: He's like a fox guarding the neighbors' dough.\n",
      "Culture specefic translation: Pizza or burgers at the neighbors' party\n",
      "\n",
      "multiple Turns translation:\n",
      "First turn: Literal translation's possible meaning: This idiom means that people are talking about things that are none of their business or that they are gossiping about others.\n",
      "Second turn: equivalent of the meaning in English: To talk out of turn\n",
      "Third turn: Recheck of the translation: To speak out of turn\n"
     ]
    }
   ],
   "source": [
    "\n",
    "darija_idiom = \"دابزو يا الفيران على خميرة الجيران\"\n",
    "print(\"Literal translation: The mice are fighting over the neighbor's yeast.\\n\")\n",
    "\n",
    "print(f\"prompt's literal translation: {multiple_turns(darija_idiom)[0]}\")\n",
    "print(f\"prompt's explanation of original idiom in English: {meaning(darija_idiom)}\\n\")\n",
    "\n",
    "\n",
    "print(f\"Simple equivalent translation: {ohne(darija_idiom)}\")\n",
    "print(f\"Purpose and target translation: {culture(darija_idiom)}\")\n",
    "print(f\"Culture specefic translation: {dynamic(darija_idiom)}\\n\")\n",
    "\n",
    "print(\"multiple Turns translation:\")\n",
    "print(f\"First turn: Literal translation's possible meaning: {multiple_turns(darija_idiom)[1]}\")\n",
    "print(f\"Second turn: equivalent of the meaning in English: {multiple_turns(darija_idiom)[2]}\")\n",
    "print(f\"Third turn: Recheck of the translation: {multiple_turns(darija_idiom)[3]}\")\n",
    "\n"
   ]
  },
  {
   "cell_type": "code",
   "execution_count": 32,
   "metadata": {},
   "outputs": [
    {
     "name": "stdout",
     "output_type": "stream",
     "text": [
      "Literal translation: If one says the porridge is cold, put his hand in it.\n",
      "\n",
      "prompt's literal translation: Who said the porridge is cold, put his hand in it.\n",
      "prompt's explanation of original idiom in English: This idiom means that the person who criticized something should try to improve it themselves.\n",
      "\n",
      "Simple equivalent translation: If someone says the porridge is cold, put their hand in it.\n",
      "Purpose and target translation: Whoever says the porridge is cold, should stir it themselves.\n",
      "Culture specefic translation: Whoever said porridge is cold, should stir it themselves.\n",
      "\n",
      "multiple Turns translation:\n",
      "First turn: Literal translation's possible meaning: This idiom means that someone is confident in their ability to handle a situation or solve a problem.\n",
      "Second turn: equivalent of the meaning in English: Don't knock it until you try it.\n",
      "Third turn: Recheck of the translation: To have a trick up one's sleeve\n"
     ]
    }
   ],
   "source": [
    "\n",
    "darija_idiom = \"اللي قال العصيدة باردة، ادير يدو فيها\"\n",
    "print(\"Literal translation: If one says the porridge is cold, put his hand in it.\\n\")\n",
    "\n",
    "print(f\"prompt's literal translation: {multiple_turns(darija_idiom)[0]}\")\n",
    "print(f\"prompt's explanation of original idiom in English: {meaning(darija_idiom)}\\n\")\n",
    "\n",
    "\n",
    "print(f\"Simple equivalent translation: {ohne(darija_idiom)}\")\n",
    "print(f\"Purpose and target translation: {culture(darija_idiom)}\")\n",
    "print(f\"Culture specefic translation: {dynamic(darija_idiom)}\\n\")\n",
    "\n",
    "print(\"multiple Turns translation:\")\n",
    "print(f\"First turn: Literal translation's possible meaning: {multiple_turns(darija_idiom)[1]}\")\n",
    "print(f\"Second turn: equivalent of the meaning in English: {multiple_turns(darija_idiom)[2]}\")\n",
    "print(f\"Third turn: Recheck of the translation: {multiple_turns(darija_idiom)[3]}\")\n",
    "\n",
    "\n"
   ]
  },
  {
   "cell_type": "code",
   "execution_count": 33,
   "metadata": {},
   "outputs": [
    {
     "name": "stdout",
     "output_type": "stream",
     "text": [
      "Literal translation: So many elephants have been stung by scorpions.\n",
      "\n",
      "prompt's literal translation: How many bites can a scorpion give to an elephant?\n",
      "prompt's explanation of original idiom in English: This idiom means that someone is facing a problem or challenge that is much smaller or less significant than what they are capable of handling.\n",
      "\n",
      "Simple equivalent translation: How many times can a scorpion sting an elephant?\n",
      "Purpose and target translation: How many times can a scorpion sting an elephant?\n",
      "Culture specefic translation: How many times the elephant got stung by a scorpion\n",
      "\n",
      "multiple Turns translation:\n",
      "First turn: Literal translation's possible meaning: This idiom means that someone is asking a question that has an obvious or impossible answer. It is used to point out when someone is asking a nonsensical or irrelevant question.\n",
      "Second turn: equivalent of the meaning in English: Asking for the moon\n",
      "Third turn: Recheck of the translation: Asking for the moon\n"
     ]
    }
   ],
   "source": [
    "\n",
    "darija_idiom = \"شحال من الفيل قرصاتوا عقرب\"\n",
    "print(\"Literal translation: So many elephants have been stung by scorpions.\\n\")\n",
    "\n",
    "print(f\"prompt's literal translation: {multiple_turns(darija_idiom)[0]}\")\n",
    "print(f\"prompt's explanation of original idiom in English: {meaning(darija_idiom)}\\n\")\n",
    "\n",
    "\n",
    "print(f\"Simple equivalent translation: {ohne(darija_idiom)}\")\n",
    "print(f\"Purpose and target translation: {culture(darija_idiom)}\")\n",
    "print(f\"Culture specefic translation: {dynamic(darija_idiom)}\\n\")\n",
    "\n",
    "print(\"multiple Turns translation:\")\n",
    "print(f\"First turn: Literal translation's possible meaning: {multiple_turns(darija_idiom)[1]}\")\n",
    "print(f\"Second turn: equivalent of the meaning in English: {multiple_turns(darija_idiom)[2]}\")\n",
    "print(f\"Third turn: Recheck of the translation: {multiple_turns(darija_idiom)[3]}\")\n",
    "\n",
    "\n",
    "\n",
    "\n"
   ]
  },
  {
   "cell_type": "code",
   "execution_count": 34,
   "metadata": {},
   "outputs": [
    {
     "name": "stdout",
     "output_type": "stream",
     "text": [
      "Literal translation: The world is a sleeve, everyone wears it for a while.\n",
      "\n",
      "prompt's literal translation: The world is a sleeve, everyone wears it for a while.\n",
      "prompt's explanation of original idiom in English: This idiom means that everyone has their own way of dealing with life's challenges or difficulties.\n",
      "\n",
      "Simple equivalent translation: The world is a sleeve, everyone wears it for an hour.\n",
      "Purpose and target translation: The world is a slippery place, everyone wears it for an hour.\n",
      "Culture specefic translation: The world is like a wristwatch, everyone wears it for a while.\n",
      "\n",
      "multiple Turns translation:\n",
      "First turn: Literal translation's possible meaning: This idiom means that everyone has their time in the spotlight or their moment of fame, but eventually, it will pass and someone else will take their place.\n",
      "Second turn: equivalent of the meaning in English: Different strokes for different folks\n",
      "Third turn: Recheck of the translation: Different strokes for different folks.\n"
     ]
    }
   ],
   "source": [
    "\n",
    "\n",
    "darija_idiom = \"الدنيا دراعة كل واحد كيلبسها ساعة\"\n",
    "print(\"Literal translation: The world is a sleeve, everyone wears it for a while.\\n\")\n",
    "\n",
    "print(f\"prompt's literal translation: {multiple_turns(darija_idiom)[0]}\")\n",
    "print(f\"prompt's explanation of original idiom in English: {meaning(darija_idiom)}\\n\")\n",
    "\n",
    "\n",
    "print(f\"Simple equivalent translation: {ohne(darija_idiom)}\")\n",
    "print(f\"Purpose and target translation: {culture(darija_idiom)}\")\n",
    "print(f\"Culture specefic translation: {dynamic(darija_idiom)}\\n\")\n",
    "\n",
    "print(\"multiple Turns translation:\")\n",
    "print(f\"First turn: Literal translation's possible meaning: {multiple_turns(darija_idiom)[1]}\")\n",
    "print(f\"Second turn: equivalent of the meaning in English: {multiple_turns(darija_idiom)[2]}\")\n",
    "print(f\"Third turn: Recheck of the translation: {multiple_turns(darija_idiom)[3]}\")\n",
    "\n",
    "\n"
   ]
  },
  {
   "cell_type": "code",
   "execution_count": 35,
   "metadata": {},
   "outputs": [
    {
     "name": "stdout",
     "output_type": "stream",
     "text": [
      "Literal translation: The beauty is only in the actions.\n",
      "\n",
      "prompt's literal translation: The good is only in doing good.\n",
      "prompt's explanation of original idiom in English: This idiom means \"the good is only in doing good deeds.\" It emphasizes the importance of performing good actions and deeds.\n",
      "\n",
      "Simple equivalent translation: Actions speak louder than words.\n",
      "Purpose and target translation: Beauty lies in good deeds.\n",
      "Culture specefic translation: All that glitters is not gold\n",
      "\n",
      "multiple Turns translation:\n",
      "First turn: Literal translation's possible meaning: This idiom means that good deeds should be done without expecting anything in return.\n",
      "Second turn: equivalent of the meaning in English: \"Virtue is its own reward.\"\n",
      "Third turn: Recheck of the translation: \"Virtue is its own reward.\"\n"
     ]
    }
   ],
   "source": [
    "\n",
    "\n",
    "darija_idiom = \"الزين إلا زين الفعال\"\n",
    "print(\"Literal translation: The beauty is only in the actions.\\n\")\n",
    "\n",
    "print(f\"prompt's literal translation: {multiple_turns(darija_idiom)[0]}\")\n",
    "print(f\"prompt's explanation of original idiom in English: {meaning(darija_idiom)}\\n\")\n",
    "\n",
    "\n",
    "print(f\"Simple equivalent translation: {ohne(darija_idiom)}\")\n",
    "print(f\"Purpose and target translation: {culture(darija_idiom)}\")\n",
    "print(f\"Culture specefic translation: {dynamic(darija_idiom)}\\n\")\n",
    "\n",
    "print(\"multiple Turns translation:\")\n",
    "print(f\"First turn: Literal translation's possible meaning: {multiple_turns(darija_idiom)[1]}\")\n",
    "print(f\"Second turn: equivalent of the meaning in English: {multiple_turns(darija_idiom)[2]}\")\n",
    "print(f\"Third turn: Recheck of the translation: {multiple_turns(darija_idiom)[3]}\")\n",
    "\n",
    "\n"
   ]
  },
  {
   "cell_type": "code",
   "execution_count": 36,
   "metadata": {},
   "outputs": [
    {
     "name": "stdout",
     "output_type": "stream",
     "text": [
      "Literal translation: The donkey is hiding but his ears are sticking out in plain sight.\n",
      "\n",
      "prompt's literal translation: The donkey is stubborn and its ears are outside.\n",
      "prompt's explanation of original idiom in English: This idiom means that someone is pretending to be innocent or unaware of something, while in reality they are fully aware and involved.\n",
      "\n",
      "Simple equivalent translation: The donkey hides its ears outside.\n",
      "Purpose and target translation: The donkey hides its ears outside.\n",
      "Culture specefic translation: The donkey is stubborn and its ears are outside.\n",
      "\n",
      "multiple Turns translation:\n",
      "First turn: Literal translation's possible meaning: This idiom means that someone is stubborn and refuses to listen to reason or advice.\n",
      "Second turn: equivalent of the meaning in English: The cat is out of the bag\n",
      "Third turn: Recheck of the translation: To feign ignorance\n"
     ]
    }
   ],
   "source": [
    "\n",
    "darija_idiom = \"الحمار مخبي ووذنيه برّا\"\n",
    "print(\"Literal translation: The donkey is hiding but his ears are sticking out in plain sight.\\n\")\n",
    "\n",
    "print(f\"prompt's literal translation: {multiple_turns(darija_idiom)[0]}\")\n",
    "print(f\"prompt's explanation of original idiom in English: {meaning(darija_idiom)}\\n\")\n",
    "\n",
    "\n",
    "print(f\"Simple equivalent translation: {ohne(darija_idiom)}\")\n",
    "print(f\"Purpose and target translation: {culture(darija_idiom)}\")\n",
    "print(f\"Culture specefic translation: {dynamic(darija_idiom)}\\n\")\n",
    "\n",
    "print(\"multiple Turns translation:\")\n",
    "print(f\"First turn: Literal translation's possible meaning: {multiple_turns(darija_idiom)[1]}\")\n",
    "print(f\"Second turn: equivalent of the meaning in English: {multiple_turns(darija_idiom)[2]}\")\n",
    "print(f\"Third turn: Recheck of the translation: {multiple_turns(darija_idiom)[3]}\")\n",
    "\n",
    "\n"
   ]
  },
  {
   "cell_type": "code",
   "execution_count": 37,
   "metadata": {},
   "outputs": [
    {
     "name": "stdout",
     "output_type": "stream",
     "text": [
      "Literal translation: The jurist Dahman read the letter for seven days and declared the handwriting was poor.\n",
      "\n",
      "prompt's literal translation: The wise man, Dhahman, read the letter for seven days, and told them the line is clear.\n",
      "prompt's explanation of original idiom in English: This idiom means that someone has put in a lot of effort and time into something, only to realize that it was all in vain.\n",
      "\n",
      "Simple equivalent translation: The scholar Dahman read the Quran for seven days, and then told them the line was crooked.\n",
      "Purpose and target translation: The scholar Dahman read the Quran for seven days, and then told them the line was blurry.\n",
      "Culture specefic translation: The scholar Dahman, read the camel hump for seven days, and told them the line is clear.\n",
      "\n",
      "multiple Turns translation:\n",
      "First turn: Literal translation's possible meaning: This idiom means that someone is taking a long time to understand or make a decision about something that should be obvious or straightforward.\n",
      "Second turn: equivalent of the meaning in English: To drag one's feet\n",
      "Third turn: Recheck of the translation: To procrastinate\n"
     ]
    }
   ],
   "source": [
    "darija_idiom = \"الفقيه دحمان، قرا البرة سبع ايام، وقاليهم الخط عيان\"\n",
    "print(\"Literal translation: The jurist Dahman read the letter for seven days and declared the handwriting was poor.\\n\")\n",
    "\n",
    "print(f\"prompt's literal translation: {multiple_turns(darija_idiom)[0]}\")\n",
    "print(f\"prompt's explanation of original idiom in English: {meaning(darija_idiom)}\\n\")\n",
    "\n",
    "\n",
    "print(f\"Simple equivalent translation: {ohne(darija_idiom)}\")\n",
    "print(f\"Purpose and target translation: {culture(darija_idiom)}\")\n",
    "print(f\"Culture specefic translation: {dynamic(darija_idiom)}\\n\")\n",
    "\n",
    "print(\"multiple Turns translation:\")\n",
    "print(f\"First turn: Literal translation's possible meaning: {multiple_turns(darija_idiom)[1]}\")\n",
    "print(f\"Second turn: equivalent of the meaning in English: {multiple_turns(darija_idiom)[2]}\")\n",
    "print(f\"Third turn: Recheck of the translation: {multiple_turns(darija_idiom)[3]}\")\n"
   ]
  },
  {
   "cell_type": "code",
   "execution_count": null,
   "metadata": {},
   "outputs": [],
   "source": []
  }
 ],
 "metadata": {
  "kernelspec": {
   "display_name": "Python 3",
   "language": "python",
   "name": "python3"
  },
  "language_info": {
   "codemirror_mode": {
    "name": "ipython",
    "version": 3
   },
   "file_extension": ".py",
   "mimetype": "text/x-python",
   "name": "python",
   "nbconvert_exporter": "python",
   "pygments_lexer": "ipython3",
   "version": "3.11.8"
  }
 },
 "nbformat": 4,
 "nbformat_minor": 2
}
