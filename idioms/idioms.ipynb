{
 "cells": [
  {
   "cell_type": "code",
   "execution_count": 6,
   "metadata": {},
   "outputs": [
    {
     "name": "stdout",
     "output_type": "stream",
     "text": [
      "Index(['literal_eng', 'equivalent_eng', 'darija_ar', 'explanation',\n",
      "       'eng_equivalent_case', 'transl', 'literal'],\n",
      "      dtype='object')\n"
     ]
    }
   ],
   "source": [
    "from openai import OpenAI\n",
    "import pandas as pd\n",
    "client = OpenAI()\n",
    "\n",
    "df = pd.read_csv('idioms.csv')\n",
    "def equivalent(id):\n",
    "    completion = client.chat.completions.create(\n",
    "        model=\"gpt-3.5-turbo\",\n",
    "        messages=[\n",
    "            {\"role\": \"system\", \"content\": \"You are an expert in Language translation from Moroccan Darija dialect to English. \" +\n",
    "            \"You will be provided with an idiom in Moroccan Darija dialect, \"+\n",
    "            \"and your task is to translate it into an equivalent idiom or construction in English with no explanations.\"},\n",
    "            #{\"role\": \"assistant\", \"content\": \"OK, I understand. I am ready for the translation.\"},\n",
    "            {\"role\": \"user\", \"content\": \"طلع تاكول الكرموس, نزل شكون قالها ليك.\"},\n",
    "            {\"role\": \"assistant\", \"content\": \"Caught between a rock and a hard place.\"},\n",
    "\n",
    "            {\"role\": \"user\", \"content\":  f\"{id}\" }\n",
    "            ], \n",
    "            #\n",
    "        temperature=0  # Deterministic responses\n",
    "        )\n",
    "    return completion.choices[0].message.content\n",
    "def literal(id):\n",
    "    completion = client.chat.completions.create(\n",
    "        model=\"gpt-3.5-turbo\",\n",
    "        messages=[\n",
    "            {\"role\": \"system\", \"content\": \"You are an expert in Language translation from Moroccan Darija dialect to English. \" +\n",
    "            \"You will be provided with a sentence in Moroccan Darija dialect, \"+\n",
    "            \"and your task is to translate it into English with no explanations.\"},\n",
    "            #{\"role\": \"assistant\", \"content\": \"OK, I understand. I am ready for the translation.\"},\n",
    "            {\"role\": \"user\", \"content\": \"طلع تاكول الكرموس, نزل شكون قالها ليك.\"},\n",
    "            {\"role\": \"assistant\", \"content\": \"Come upstairs and have some figs, get downstairs who told you so!\"},\n",
    "\n",
    "            {\"role\": \"user\", \"content\":  f\"{id}\" }\n",
    "            ], \n",
    "            #\n",
    "        temperature=0  # Deterministic responses\n",
    "        )\n",
    "    return completion.choices[0].message.content\n",
    "print(df.columns)"
   ]
  },
  {
   "cell_type": "code",
   "execution_count": 7,
   "metadata": {},
   "outputs": [],
   "source": [
    "dataset = df.copy()\n",
    "columns_to_delete = [ 'explanation', 'eng_equivalent_case', 'transl', 'literal']\n",
    "dataset.drop(columns=columns_to_delete, inplace=True)\n",
    "dataset['equivalent'] = dataset['darija_ar'].apply(equivalent)\n",
    "dataset['literal'] = dataset['darija_ar'].apply(literal)\n"
   ]
  },
  {
   "cell_type": "code",
   "execution_count": 8,
   "metadata": {},
   "outputs": [],
   "source": [
    "dataset.to_csv('id1.csv', index=False)"
   ]
  },
  {
   "cell_type": "code",
   "execution_count": 9,
   "metadata": {},
   "outputs": [
    {
     "name": "stderr",
     "output_type": "stream",
     "text": [
      "c:\\Users\\yassi\\AppData\\Local\\Programs\\Python\\Python311\\Lib\\site-packages\\huggingface_hub\\file_download.py:1132: FutureWarning:\n",
      "\n",
      "`resume_download` is deprecated and will be removed in version 1.0.0. Downloads always resume when possible. If you want to force a new download, use `force_download=True`.\n",
      "\n"
     ]
    },
    {
     "data": {
      "text/html": [
       "<div>\n",
       "<style scoped>\n",
       "    .dataframe tbody tr th:only-of-type {\n",
       "        vertical-align: middle;\n",
       "    }\n",
       "\n",
       "    .dataframe tbody tr th {\n",
       "        vertical-align: top;\n",
       "    }\n",
       "\n",
       "    .dataframe thead th {\n",
       "        text-align: right;\n",
       "    }\n",
       "</style>\n",
       "<table border=\"1\" class=\"dataframe\">\n",
       "  <thead>\n",
       "    <tr style=\"text-align: right;\">\n",
       "      <th></th>\n",
       "      <th>equivalent</th>\n",
       "      <th>literal</th>\n",
       "    </tr>\n",
       "  </thead>\n",
       "  <tbody>\n",
       "    <tr>\n",
       "      <th>count</th>\n",
       "      <td>35.000000</td>\n",
       "      <td>35.000000</td>\n",
       "    </tr>\n",
       "    <tr>\n",
       "      <th>mean</th>\n",
       "      <td>0.423609</td>\n",
       "      <td>0.395377</td>\n",
       "    </tr>\n",
       "    <tr>\n",
       "      <th>std</th>\n",
       "      <td>0.231222</td>\n",
       "      <td>0.224429</td>\n",
       "    </tr>\n",
       "    <tr>\n",
       "      <th>min</th>\n",
       "      <td>0.095434</td>\n",
       "      <td>0.046513</td>\n",
       "    </tr>\n",
       "    <tr>\n",
       "      <th>25%</th>\n",
       "      <td>0.269110</td>\n",
       "      <td>0.192386</td>\n",
       "    </tr>\n",
       "    <tr>\n",
       "      <th>50%</th>\n",
       "      <td>0.385503</td>\n",
       "      <td>0.376093</td>\n",
       "    </tr>\n",
       "    <tr>\n",
       "      <th>75%</th>\n",
       "      <td>0.511702</td>\n",
       "      <td>0.576362</td>\n",
       "    </tr>\n",
       "    <tr>\n",
       "      <th>max</th>\n",
       "      <td>0.982657</td>\n",
       "      <td>0.797132</td>\n",
       "    </tr>\n",
       "  </tbody>\n",
       "</table>\n",
       "</div>"
      ],
      "text/plain": [
       "       equivalent    literal\n",
       "count   35.000000  35.000000\n",
       "mean     0.423609   0.395377\n",
       "std      0.231222   0.224429\n",
       "min      0.095434   0.046513\n",
       "25%      0.269110   0.192386\n",
       "50%      0.385503   0.376093\n",
       "75%      0.511702   0.576362\n",
       "max      0.982657   0.797132"
      ]
     },
     "execution_count": 9,
     "metadata": {},
     "output_type": "execute_result"
    }
   ],
   "source": [
    "from sentence_transformers import SentenceTransformer, util\n",
    "import plotly.graph_objects as go\n",
    "\n",
    "dataset = pd.read_csv('id1.csv')\n",
    "\n",
    "model_name = 'bert-base-nli-mean-tokens'\n",
    "model = SentenceTransformer(model_name)\n",
    "\n",
    "\n",
    "def evaluate_pairs(transl, eng):\n",
    "    results = []\n",
    "    for i in range(len(transl)):\n",
    "        sentence1, sentence2 = transl[i], eng[i]\n",
    "        embedding1 = model.encode(sentence1, convert_to_tensor=True)\n",
    "        embedding2 = model.encode(sentence2, convert_to_tensor=True)\n",
    "        similarity = util.pytorch_cos_sim(embedding1, embedding2).item()\n",
    "        results.append((i+2, sentence1, sentence2, similarity))\n",
    "\n",
    "    return results\n",
    "\n",
    "equivalent = dataset['equivalent']\n",
    "literal = dataset['literal']\n",
    "equivalent_eng =  dataset['equivalent_eng']\n",
    "literal_eng =  dataset['equivalent_eng']\n",
    "\n",
    "similarities_eq = evaluate_pairs(equivalent, equivalent_eng)\n",
    "percentages_eq = [result[3] for result in similarities_eq]\n",
    "\n",
    "similarities_lit = evaluate_pairs(literal, literal_eng)\n",
    "percentages_lit = [result[3] for result in similarities_lit]\n",
    "\n",
    "percentages = pd.DataFrame()\n",
    "percentages['equivalent'] = percentages_eq\n",
    "percentages['literal'] = percentages_lit\n",
    "percentages.describe()\n"
   ]
  },
  {
   "cell_type": "code",
   "execution_count": 10,
   "metadata": {},
   "outputs": [
    {
     "data": {
      "application/vnd.plotly.v1+json": {
       "config": {
        "plotlyServerURL": "https://plot.ly"
       },
       "data": [
        {
         "histfunc": "count",
         "name": "Equivalent translation",
         "type": "histogram",
         "x": [
          0.42801642417907715,
          0.21283793449401855,
          0.11415231972932816,
          0.382408082485199,
          0.4511890411376953,
          0.38550251722335815,
          0.34882205724716187,
          0.47346973419189453,
          0.8716068267822266,
          0.9681137204170227,
          0.9826568365097046,
          0.11390718817710876,
          0.5366819500923157,
          0.5436403751373291,
          0.40760597586631775,
          0.2620789408683777,
          0.22775784134864807,
          0.21197043359279633,
          0.40634018182754517,
          0.40678226947784424,
          0.7216017842292786,
          0.19952236115932465,
          0.48672205209732056,
          0.6028622388839722,
          0.32844674587249756,
          0.27614033222198486,
          0.3137878179550171,
          0.36850881576538086,
          0.17424127459526062,
          0.276741623878479,
          0.3122909963130951,
          0.46057572960853577,
          0.09543381631374359,
          0.742431104183197,
          0.731463611125946
         ],
         "y": [
          0.42801642417907715,
          0.21283793449401855,
          0.11415231972932816,
          0.382408082485199,
          0.4511890411376953,
          0.38550251722335815,
          0.34882205724716187,
          0.47346973419189453,
          0.8716068267822266,
          0.9681137204170227,
          0.9826568365097046,
          0.11390718817710876,
          0.5366819500923157,
          0.5436403751373291,
          0.40760597586631775,
          0.2620789408683777,
          0.22775784134864807,
          0.21197043359279633,
          0.40634018182754517,
          0.40678226947784424,
          0.7216017842292786,
          0.19952236115932465,
          0.48672205209732056,
          0.6028622388839722,
          0.32844674587249756,
          0.27614033222198486,
          0.3137878179550171,
          0.36850881576538086,
          0.17424127459526062,
          0.276741623878479,
          0.3122909963130951,
          0.46057572960853577,
          0.09543381631374359,
          0.742431104183197,
          0.731463611125946
         ]
        },
        {
         "histfunc": "count",
         "name": "Literal translation",
         "type": "histogram",
         "x": [
          0.046513259410858154,
          0.1906881332397461,
          0.20724335312843323,
          0.06273309886455536,
          0.5952301621437073,
          0.5008332133293152,
          0.3258817195892334,
          0.4244508147239685,
          0.7372487783432007,
          0.7226310968399048,
          0.6611579656600952,
          0.2131226360797882,
          0.4940842092037201,
          0.08562900871038437,
          0.36026594042778015,
          0.47235673666000366,
          0.3760925531387329,
          0.19408422708511353,
          0.1793600469827652,
          0.5263534784317017,
          0.7755837440490723,
          0.6358292698860168,
          0.33502233028411865,
          0.6019903421401978,
          0.42543768882751465,
          0.24556244909763336,
          0.13529253005981445,
          0.5159018635749817,
          0.3655453324317932,
          0.17143043875694275,
          0.08506651222705841,
          0.17164576053619385,
          0.6432840824127197,
          0.7971324920654297,
          0.5574935674667358
         ],
         "y": [
          0.046513259410858154,
          0.1906881332397461,
          0.20724335312843323,
          0.06273309886455536,
          0.5952301621437073,
          0.5008332133293152,
          0.3258817195892334,
          0.4244508147239685,
          0.7372487783432007,
          0.7226310968399048,
          0.6611579656600952,
          0.2131226360797882,
          0.4940842092037201,
          0.08562900871038437,
          0.36026594042778015,
          0.47235673666000366,
          0.3760925531387329,
          0.19408422708511353,
          0.1793600469827652,
          0.5263534784317017,
          0.7755837440490723,
          0.6358292698860168,
          0.33502233028411865,
          0.6019903421401978,
          0.42543768882751465,
          0.24556244909763336,
          0.13529253005981445,
          0.5159018635749817,
          0.3655453324317932,
          0.17143043875694275,
          0.08506651222705841,
          0.17164576053619385,
          0.6432840824127197,
          0.7971324920654297,
          0.5574935674667358
         ]
        }
       ],
       "layout": {
        "template": {
         "data": {
          "bar": [
           {
            "error_x": {
             "color": "#2a3f5f"
            },
            "error_y": {
             "color": "#2a3f5f"
            },
            "marker": {
             "line": {
              "color": "#E5ECF6",
              "width": 0.5
             },
             "pattern": {
              "fillmode": "overlay",
              "size": 10,
              "solidity": 0.2
             }
            },
            "type": "bar"
           }
          ],
          "barpolar": [
           {
            "marker": {
             "line": {
              "color": "#E5ECF6",
              "width": 0.5
             },
             "pattern": {
              "fillmode": "overlay",
              "size": 10,
              "solidity": 0.2
             }
            },
            "type": "barpolar"
           }
          ],
          "carpet": [
           {
            "aaxis": {
             "endlinecolor": "#2a3f5f",
             "gridcolor": "white",
             "linecolor": "white",
             "minorgridcolor": "white",
             "startlinecolor": "#2a3f5f"
            },
            "baxis": {
             "endlinecolor": "#2a3f5f",
             "gridcolor": "white",
             "linecolor": "white",
             "minorgridcolor": "white",
             "startlinecolor": "#2a3f5f"
            },
            "type": "carpet"
           }
          ],
          "choropleth": [
           {
            "colorbar": {
             "outlinewidth": 0,
             "ticks": ""
            },
            "type": "choropleth"
           }
          ],
          "contour": [
           {
            "colorbar": {
             "outlinewidth": 0,
             "ticks": ""
            },
            "colorscale": [
             [
              0,
              "#0d0887"
             ],
             [
              0.1111111111111111,
              "#46039f"
             ],
             [
              0.2222222222222222,
              "#7201a8"
             ],
             [
              0.3333333333333333,
              "#9c179e"
             ],
             [
              0.4444444444444444,
              "#bd3786"
             ],
             [
              0.5555555555555556,
              "#d8576b"
             ],
             [
              0.6666666666666666,
              "#ed7953"
             ],
             [
              0.7777777777777778,
              "#fb9f3a"
             ],
             [
              0.8888888888888888,
              "#fdca26"
             ],
             [
              1,
              "#f0f921"
             ]
            ],
            "type": "contour"
           }
          ],
          "contourcarpet": [
           {
            "colorbar": {
             "outlinewidth": 0,
             "ticks": ""
            },
            "type": "contourcarpet"
           }
          ],
          "heatmap": [
           {
            "colorbar": {
             "outlinewidth": 0,
             "ticks": ""
            },
            "colorscale": [
             [
              0,
              "#0d0887"
             ],
             [
              0.1111111111111111,
              "#46039f"
             ],
             [
              0.2222222222222222,
              "#7201a8"
             ],
             [
              0.3333333333333333,
              "#9c179e"
             ],
             [
              0.4444444444444444,
              "#bd3786"
             ],
             [
              0.5555555555555556,
              "#d8576b"
             ],
             [
              0.6666666666666666,
              "#ed7953"
             ],
             [
              0.7777777777777778,
              "#fb9f3a"
             ],
             [
              0.8888888888888888,
              "#fdca26"
             ],
             [
              1,
              "#f0f921"
             ]
            ],
            "type": "heatmap"
           }
          ],
          "heatmapgl": [
           {
            "colorbar": {
             "outlinewidth": 0,
             "ticks": ""
            },
            "colorscale": [
             [
              0,
              "#0d0887"
             ],
             [
              0.1111111111111111,
              "#46039f"
             ],
             [
              0.2222222222222222,
              "#7201a8"
             ],
             [
              0.3333333333333333,
              "#9c179e"
             ],
             [
              0.4444444444444444,
              "#bd3786"
             ],
             [
              0.5555555555555556,
              "#d8576b"
             ],
             [
              0.6666666666666666,
              "#ed7953"
             ],
             [
              0.7777777777777778,
              "#fb9f3a"
             ],
             [
              0.8888888888888888,
              "#fdca26"
             ],
             [
              1,
              "#f0f921"
             ]
            ],
            "type": "heatmapgl"
           }
          ],
          "histogram": [
           {
            "marker": {
             "pattern": {
              "fillmode": "overlay",
              "size": 10,
              "solidity": 0.2
             }
            },
            "type": "histogram"
           }
          ],
          "histogram2d": [
           {
            "colorbar": {
             "outlinewidth": 0,
             "ticks": ""
            },
            "colorscale": [
             [
              0,
              "#0d0887"
             ],
             [
              0.1111111111111111,
              "#46039f"
             ],
             [
              0.2222222222222222,
              "#7201a8"
             ],
             [
              0.3333333333333333,
              "#9c179e"
             ],
             [
              0.4444444444444444,
              "#bd3786"
             ],
             [
              0.5555555555555556,
              "#d8576b"
             ],
             [
              0.6666666666666666,
              "#ed7953"
             ],
             [
              0.7777777777777778,
              "#fb9f3a"
             ],
             [
              0.8888888888888888,
              "#fdca26"
             ],
             [
              1,
              "#f0f921"
             ]
            ],
            "type": "histogram2d"
           }
          ],
          "histogram2dcontour": [
           {
            "colorbar": {
             "outlinewidth": 0,
             "ticks": ""
            },
            "colorscale": [
             [
              0,
              "#0d0887"
             ],
             [
              0.1111111111111111,
              "#46039f"
             ],
             [
              0.2222222222222222,
              "#7201a8"
             ],
             [
              0.3333333333333333,
              "#9c179e"
             ],
             [
              0.4444444444444444,
              "#bd3786"
             ],
             [
              0.5555555555555556,
              "#d8576b"
             ],
             [
              0.6666666666666666,
              "#ed7953"
             ],
             [
              0.7777777777777778,
              "#fb9f3a"
             ],
             [
              0.8888888888888888,
              "#fdca26"
             ],
             [
              1,
              "#f0f921"
             ]
            ],
            "type": "histogram2dcontour"
           }
          ],
          "mesh3d": [
           {
            "colorbar": {
             "outlinewidth": 0,
             "ticks": ""
            },
            "type": "mesh3d"
           }
          ],
          "parcoords": [
           {
            "line": {
             "colorbar": {
              "outlinewidth": 0,
              "ticks": ""
             }
            },
            "type": "parcoords"
           }
          ],
          "pie": [
           {
            "automargin": true,
            "type": "pie"
           }
          ],
          "scatter": [
           {
            "fillpattern": {
             "fillmode": "overlay",
             "size": 10,
             "solidity": 0.2
            },
            "type": "scatter"
           }
          ],
          "scatter3d": [
           {
            "line": {
             "colorbar": {
              "outlinewidth": 0,
              "ticks": ""
             }
            },
            "marker": {
             "colorbar": {
              "outlinewidth": 0,
              "ticks": ""
             }
            },
            "type": "scatter3d"
           }
          ],
          "scattercarpet": [
           {
            "marker": {
             "colorbar": {
              "outlinewidth": 0,
              "ticks": ""
             }
            },
            "type": "scattercarpet"
           }
          ],
          "scattergeo": [
           {
            "marker": {
             "colorbar": {
              "outlinewidth": 0,
              "ticks": ""
             }
            },
            "type": "scattergeo"
           }
          ],
          "scattergl": [
           {
            "marker": {
             "colorbar": {
              "outlinewidth": 0,
              "ticks": ""
             }
            },
            "type": "scattergl"
           }
          ],
          "scattermapbox": [
           {
            "marker": {
             "colorbar": {
              "outlinewidth": 0,
              "ticks": ""
             }
            },
            "type": "scattermapbox"
           }
          ],
          "scatterpolar": [
           {
            "marker": {
             "colorbar": {
              "outlinewidth": 0,
              "ticks": ""
             }
            },
            "type": "scatterpolar"
           }
          ],
          "scatterpolargl": [
           {
            "marker": {
             "colorbar": {
              "outlinewidth": 0,
              "ticks": ""
             }
            },
            "type": "scatterpolargl"
           }
          ],
          "scatterternary": [
           {
            "marker": {
             "colorbar": {
              "outlinewidth": 0,
              "ticks": ""
             }
            },
            "type": "scatterternary"
           }
          ],
          "surface": [
           {
            "colorbar": {
             "outlinewidth": 0,
             "ticks": ""
            },
            "colorscale": [
             [
              0,
              "#0d0887"
             ],
             [
              0.1111111111111111,
              "#46039f"
             ],
             [
              0.2222222222222222,
              "#7201a8"
             ],
             [
              0.3333333333333333,
              "#9c179e"
             ],
             [
              0.4444444444444444,
              "#bd3786"
             ],
             [
              0.5555555555555556,
              "#d8576b"
             ],
             [
              0.6666666666666666,
              "#ed7953"
             ],
             [
              0.7777777777777778,
              "#fb9f3a"
             ],
             [
              0.8888888888888888,
              "#fdca26"
             ],
             [
              1,
              "#f0f921"
             ]
            ],
            "type": "surface"
           }
          ],
          "table": [
           {
            "cells": {
             "fill": {
              "color": "#EBF0F8"
             },
             "line": {
              "color": "white"
             }
            },
            "header": {
             "fill": {
              "color": "#C8D4E3"
             },
             "line": {
              "color": "white"
             }
            },
            "type": "table"
           }
          ]
         },
         "layout": {
          "annotationdefaults": {
           "arrowcolor": "#2a3f5f",
           "arrowhead": 0,
           "arrowwidth": 1
          },
          "autotypenumbers": "strict",
          "coloraxis": {
           "colorbar": {
            "outlinewidth": 0,
            "ticks": ""
           }
          },
          "colorscale": {
           "diverging": [
            [
             0,
             "#8e0152"
            ],
            [
             0.1,
             "#c51b7d"
            ],
            [
             0.2,
             "#de77ae"
            ],
            [
             0.3,
             "#f1b6da"
            ],
            [
             0.4,
             "#fde0ef"
            ],
            [
             0.5,
             "#f7f7f7"
            ],
            [
             0.6,
             "#e6f5d0"
            ],
            [
             0.7,
             "#b8e186"
            ],
            [
             0.8,
             "#7fbc41"
            ],
            [
             0.9,
             "#4d9221"
            ],
            [
             1,
             "#276419"
            ]
           ],
           "sequential": [
            [
             0,
             "#0d0887"
            ],
            [
             0.1111111111111111,
             "#46039f"
            ],
            [
             0.2222222222222222,
             "#7201a8"
            ],
            [
             0.3333333333333333,
             "#9c179e"
            ],
            [
             0.4444444444444444,
             "#bd3786"
            ],
            [
             0.5555555555555556,
             "#d8576b"
            ],
            [
             0.6666666666666666,
             "#ed7953"
            ],
            [
             0.7777777777777778,
             "#fb9f3a"
            ],
            [
             0.8888888888888888,
             "#fdca26"
            ],
            [
             1,
             "#f0f921"
            ]
           ],
           "sequentialminus": [
            [
             0,
             "#0d0887"
            ],
            [
             0.1111111111111111,
             "#46039f"
            ],
            [
             0.2222222222222222,
             "#7201a8"
            ],
            [
             0.3333333333333333,
             "#9c179e"
            ],
            [
             0.4444444444444444,
             "#bd3786"
            ],
            [
             0.5555555555555556,
             "#d8576b"
            ],
            [
             0.6666666666666666,
             "#ed7953"
            ],
            [
             0.7777777777777778,
             "#fb9f3a"
            ],
            [
             0.8888888888888888,
             "#fdca26"
            ],
            [
             1,
             "#f0f921"
            ]
           ]
          },
          "colorway": [
           "#636efa",
           "#EF553B",
           "#00cc96",
           "#ab63fa",
           "#FFA15A",
           "#19d3f3",
           "#FF6692",
           "#B6E880",
           "#FF97FF",
           "#FECB52"
          ],
          "font": {
           "color": "#2a3f5f"
          },
          "geo": {
           "bgcolor": "white",
           "lakecolor": "white",
           "landcolor": "#E5ECF6",
           "showlakes": true,
           "showland": true,
           "subunitcolor": "white"
          },
          "hoverlabel": {
           "align": "left"
          },
          "hovermode": "closest",
          "mapbox": {
           "style": "light"
          },
          "paper_bgcolor": "white",
          "plot_bgcolor": "#E5ECF6",
          "polar": {
           "angularaxis": {
            "gridcolor": "white",
            "linecolor": "white",
            "ticks": ""
           },
           "bgcolor": "#E5ECF6",
           "radialaxis": {
            "gridcolor": "white",
            "linecolor": "white",
            "ticks": ""
           }
          },
          "scene": {
           "xaxis": {
            "backgroundcolor": "#E5ECF6",
            "gridcolor": "white",
            "gridwidth": 2,
            "linecolor": "white",
            "showbackground": true,
            "ticks": "",
            "zerolinecolor": "white"
           },
           "yaxis": {
            "backgroundcolor": "#E5ECF6",
            "gridcolor": "white",
            "gridwidth": 2,
            "linecolor": "white",
            "showbackground": true,
            "ticks": "",
            "zerolinecolor": "white"
           },
           "zaxis": {
            "backgroundcolor": "#E5ECF6",
            "gridcolor": "white",
            "gridwidth": 2,
            "linecolor": "white",
            "showbackground": true,
            "ticks": "",
            "zerolinecolor": "white"
           }
          },
          "shapedefaults": {
           "line": {
            "color": "#2a3f5f"
           }
          },
          "ternary": {
           "aaxis": {
            "gridcolor": "white",
            "linecolor": "white",
            "ticks": ""
           },
           "baxis": {
            "gridcolor": "white",
            "linecolor": "white",
            "ticks": ""
           },
           "bgcolor": "#E5ECF6",
           "caxis": {
            "gridcolor": "white",
            "linecolor": "white",
            "ticks": ""
           }
          },
          "title": {
           "x": 0.05
          },
          "xaxis": {
           "automargin": true,
           "gridcolor": "white",
           "linecolor": "white",
           "ticks": "",
           "title": {
            "standoff": 15
           },
           "zerolinecolor": "white",
           "zerolinewidth": 2
          },
          "yaxis": {
           "automargin": true,
           "gridcolor": "white",
           "linecolor": "white",
           "ticks": "",
           "title": {
            "standoff": 15
           },
           "zerolinecolor": "white",
           "zerolinewidth": 2
          }
         }
        }
       }
      }
     },
     "metadata": {},
     "output_type": "display_data"
    }
   ],
   "source": [
    "fig = go.Figure()\n",
    "\n",
    "fig.add_trace(go.Histogram(histfunc=\"count\", y=percentages_eq, x=percentages_eq, name=\"Equivalent translation\"))\n",
    "fig.add_trace(go.Histogram(histfunc=\"count\", y=percentages_lit, x=percentages_lit, name=\"Literal translation\"))\n",
    "\n",
    "fig.show()"
   ]
  }
 ],
 "metadata": {
  "kernelspec": {
   "display_name": "Python 3",
   "language": "python",
   "name": "python3"
  },
  "language_info": {
   "codemirror_mode": {
    "name": "ipython",
    "version": 3
   },
   "file_extension": ".py",
   "mimetype": "text/x-python",
   "name": "python",
   "nbconvert_exporter": "python",
   "pygments_lexer": "ipython3",
   "version": "3.11.8"
  }
 },
 "nbformat": 4,
 "nbformat_minor": 2
}
