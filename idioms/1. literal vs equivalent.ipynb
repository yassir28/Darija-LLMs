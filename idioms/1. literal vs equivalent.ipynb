{
 "cells": [
  {
   "cell_type": "code",
   "execution_count": 1,
   "metadata": {},
   "outputs": [],
   "source": [
    "from openai import OpenAI\n",
    "import pandas as pd\n",
    "client = OpenAI()\n",
    "\n",
    "def darija_equivalent(id):\n",
    "    completion = client.chat.completions.create(\n",
    "        model=\"gpt-3.5-turbo\",\n",
    "        messages=[\n",
    "            {\"role\": \"system\", \"content\": \"نتا خبير فلهجة الدارجة المغربية وفالترجمة من الدارجة للنجليزية. \" + \n",
    "            \"غادي نعطيك واحد المثل شعبي فالدارجة المغربية، والمهمة ديالك هي تترجمها لمثل شعبي مكافئ أو جملة مكافئة فالانجليزية. \" +\n",
    "            \"الترجمة خصها تكون بلا تفسيرات.\"},\n",
    "            #{\"role\": \"assistant\", \"content\": \"OK, I understand. I am ready for the translation.\"},\n",
    "            {\"role\": \"user\", \"content\": \"الگنازة كبيرة والميت فار.\"},\n",
    "            {\"role\": \"assistant\", \"content\": \"Making a mountain out of a molehill.\"},\n",
    "\n",
    "            {\"role\": \"user\", \"content\":  f\"{id}\" }\n",
    "            ], \n",
    "            #\n",
    "        temperature=0  # Deterministic responses\n",
    "        )\n",
    "    return completion.choices[0].message.content\n",
    "\n",
    "def eng_equivalent(id):\n",
    "    completion = client.chat.completions.create(\n",
    "        model=\"gpt-3.5-turbo\",\n",
    "        messages=[\n",
    "            {\"role\": \"system\", \"content\": \"You are an expert in Language translation from Moroccan Darija dialect to English. \" +\n",
    "            \"You will be provided with an idiom in Moroccan Darija dialect, \"+\n",
    "            \"and your task is to translate it into an equivalent idiom or equivalent construction in English. \"+\n",
    "            \"The translation must be with no explanations.\"},\n",
    "            #{\"role\": \"assistant\", \"content\": \"OK, I understand. I am ready for the translation.\"},\n",
    "            {\"role\": \"user\", \"content\": \"الگنازة كبيرة والميت فار.\"},\n",
    "            {\"role\": \"assistant\", \"content\": \"Making a mountain out of a molehill.\"},\n",
    "\n",
    "            {\"role\": \"user\", \"content\":  f\"{id}\" }\n",
    "            ], \n",
    "            #\n",
    "        temperature=0  # Deterministic responses\n",
    "        )\n",
    "    return completion.choices[0].message.content\n",
    "\n",
    "\n",
    "def darija_literal(id):\n",
    "    completion = client.chat.completions.create(\n",
    "        model=\"gpt-3.5-turbo\",\n",
    "        messages=[\n",
    "            {\"role\": \"system\", \"content\": \"نتا خبير فلهجة الدارجة المغربية وفالترجمة من الدارجة لنجليزية. \" + \n",
    "            \"غادي نعطيك واحد الجملة بالدارجة المغربية، والمهمة ديالك هي تترجمها لجملة بالانجليزية. \" +\n",
    "            \"الترجمة خصها تكون حرفية بلا تفسيرات.\"},\n",
    "            #{\"role\": \"assistant\", \"content\": \"OK, I understand. I am ready for the translation.\"},\n",
    "            {\"role\": \"user\", \"content\": \"طلع تاكول الكرموس, نزل شكون قالها ليك.\"},\n",
    "            {\"role\": \"assistant\", \"content\": \"Come upstairs and have some figs, get downstairs who told you so!\"},\n",
    "\n",
    "            {\"role\": \"user\", \"content\":  f\"{id}\" }\n",
    "            ], \n",
    "            #\n",
    "        temperature=0  # Deterministic responses\n",
    "        )\n",
    "    return completion.choices[0].message.content\n",
    "\n",
    "\n",
    "def eng_literal(id):\n",
    "    completion = client.chat.completions.create(\n",
    "        model=\"gpt-3.5-turbo\",\n",
    "        messages=[\n",
    "            {\"role\": \"system\", \"content\": \"You are an expert in Language translation from Moroccan Darija dialect to English. \" +\n",
    "            \"You will be provided with a sentence in Moroccan Darija dialect, \"+\n",
    "            \"and your task is to translate it into an English sentence. \"+\n",
    "            \"The translation must be literal with no explanations.\"},\n",
    "            #{\"role\": \"assistant\", \"content\": \"OK, I understand. I am ready for the translation.\"},\n",
    "            {\"role\": \"user\", \"content\": \"طلع تاكول الكرموس, نزل شكون قالها ليك.\"},\n",
    "            {\"role\": \"assistant\", \"content\": \"Come upstairs and have some figs, get downstairs who told you so!\"},\n",
    "\n",
    "            {\"role\": \"user\", \"content\":  f\"{id}\" }\n",
    "            ], \n",
    "            #\n",
    "        temperature=0  # Deterministic responses\n",
    "        )\n",
    "    return completion.choices[0].message.content"
   ]
  },
  {
   "cell_type": "code",
   "execution_count": 7,
   "metadata": {},
   "outputs": [],
   "source": [
    "df = pd.read_csv('idioms.csv')"
   ]
  },
  {
   "cell_type": "code",
   "execution_count": null,
   "metadata": {},
   "outputs": [],
   "source": [
    "dataset = df.copy()\n",
    "columns_to_delete = ['explanation']\n",
    "dataset.drop(columns=columns_to_delete, inplace=True)\n",
    "\n",
    "dataset['eng_equivalent'] = dataset['darija_ar'].apply(eng_equivalent)\n",
    "dataset['eng_literal'] = dataset['darija_ar'].apply(eng_literal)\n",
    "dataset['darija_equivalent'] = dataset['darija_ar'].apply(darija_equivalent)\n",
    "dataset['darija_literal'] = dataset['darija_ar'].apply(darija_literal)"
   ]
  },
  {
   "cell_type": "code",
   "execution_count": 8,
   "metadata": {},
   "outputs": [],
   "source": [
    "dataset.to_csv('id1.csv', index=False)"
   ]
  },
  {
   "cell_type": "code",
   "execution_count": 9,
   "metadata": {},
   "outputs": [
    {
     "name": "stderr",
     "output_type": "stream",
     "text": [
      "c:\\Users\\yassi\\AppData\\Local\\Programs\\Python\\Python311\\Lib\\site-packages\\huggingface_hub\\file_download.py:1132: FutureWarning: `resume_download` is deprecated and will be removed in version 1.0.0. Downloads always resume when possible. If you want to force a new download, use `force_download=True`.\n",
      "  warnings.warn(\n"
     ]
    },
    {
     "data": {
      "text/html": [
       "<div>\n",
       "<style scoped>\n",
       "    .dataframe tbody tr th:only-of-type {\n",
       "        vertical-align: middle;\n",
       "    }\n",
       "\n",
       "    .dataframe tbody tr th {\n",
       "        vertical-align: top;\n",
       "    }\n",
       "\n",
       "    .dataframe thead th {\n",
       "        text-align: right;\n",
       "    }\n",
       "</style>\n",
       "<table border=\"1\" class=\"dataframe\">\n",
       "  <thead>\n",
       "    <tr style=\"text-align: right;\">\n",
       "      <th></th>\n",
       "      <th>eng_equivalent</th>\n",
       "      <th>eng_literal</th>\n",
       "      <th>darija_equivalent</th>\n",
       "      <th>darija_literal</th>\n",
       "    </tr>\n",
       "  </thead>\n",
       "  <tbody>\n",
       "    <tr>\n",
       "      <th>count</th>\n",
       "      <td>21.000000</td>\n",
       "      <td>21.000000</td>\n",
       "      <td>21.000000</td>\n",
       "      <td>21.000000</td>\n",
       "    </tr>\n",
       "    <tr>\n",
       "      <th>mean</th>\n",
       "      <td>0.457229</td>\n",
       "      <td>0.673659</td>\n",
       "      <td>0.415567</td>\n",
       "      <td>0.541788</td>\n",
       "    </tr>\n",
       "    <tr>\n",
       "      <th>std</th>\n",
       "      <td>0.191180</td>\n",
       "      <td>0.202480</td>\n",
       "      <td>0.213140</td>\n",
       "      <td>0.262182</td>\n",
       "    </tr>\n",
       "    <tr>\n",
       "      <th>min</th>\n",
       "      <td>0.115195</td>\n",
       "      <td>0.207160</td>\n",
       "      <td>0.115195</td>\n",
       "      <td>0.102330</td>\n",
       "    </tr>\n",
       "    <tr>\n",
       "      <th>25%</th>\n",
       "      <td>0.273622</td>\n",
       "      <td>0.566386</td>\n",
       "      <td>0.245459</td>\n",
       "      <td>0.340761</td>\n",
       "    </tr>\n",
       "    <tr>\n",
       "      <th>50%</th>\n",
       "      <td>0.509145</td>\n",
       "      <td>0.725031</td>\n",
       "      <td>0.363050</td>\n",
       "      <td>0.496327</td>\n",
       "    </tr>\n",
       "    <tr>\n",
       "      <th>75%</th>\n",
       "      <td>0.602862</td>\n",
       "      <td>0.816178</td>\n",
       "      <td>0.602862</td>\n",
       "      <td>0.770730</td>\n",
       "    </tr>\n",
       "    <tr>\n",
       "      <th>max</th>\n",
       "      <td>0.753380</td>\n",
       "      <td>0.941359</td>\n",
       "      <td>0.806552</td>\n",
       "      <td>0.889043</td>\n",
       "    </tr>\n",
       "  </tbody>\n",
       "</table>\n",
       "</div>"
      ],
      "text/plain": [
       "       eng_equivalent  eng_literal  darija_equivalent  darija_literal\n",
       "count       21.000000    21.000000          21.000000       21.000000\n",
       "mean         0.457229     0.673659           0.415567        0.541788\n",
       "std          0.191180     0.202480           0.213140        0.262182\n",
       "min          0.115195     0.207160           0.115195        0.102330\n",
       "25%          0.273622     0.566386           0.245459        0.340761\n",
       "50%          0.509145     0.725031           0.363050        0.496327\n",
       "75%          0.602862     0.816178           0.602862        0.770730\n",
       "max          0.753380     0.941359           0.806552        0.889043"
      ]
     },
     "execution_count": 9,
     "metadata": {},
     "output_type": "execute_result"
    }
   ],
   "source": [
    "from sentence_transformers import SentenceTransformer, util\n",
    "import plotly.graph_objects as go\n",
    "\n",
    "dataset = pd.read_csv('id1.csv')\n",
    "\n",
    "model_name = 'bert-base-nli-mean-tokens'\n",
    "model = SentenceTransformer(model_name)\n",
    "\n",
    "\n",
    "def evaluate_pairs(transl, eng):\n",
    "    results = []\n",
    "    for i in range(len(transl)):\n",
    "        sentence1, sentence2 = transl[i], eng[i]\n",
    "        embedding1 = model.encode(sentence1, convert_to_tensor=True)\n",
    "        embedding2 = model.encode(sentence2, convert_to_tensor=True)\n",
    "        similarity = util.pytorch_cos_sim(embedding1, embedding2).item()\n",
    "        results.append((i+2, sentence1, sentence2, similarity))\n",
    "\n",
    "    return results\n",
    "\n",
    "eng_equivalent = dataset['eng_equivalent']\n",
    "eng_literal = dataset['eng_literal']\n",
    "darija_equivalent =  dataset['darija_equivalent']\n",
    "darija_literal =  dataset['darija_equivalent']\n",
    "\n",
    "equivalent = dataset['equivalent']\n",
    "literal = dataset['literal']\n",
    "\n",
    "eng_similarities_eq = evaluate_pairs(eng_equivalent, equivalent)\n",
    "eng_percentages_eq = [result[3] for result in eng_similarities_eq]\n",
    "\n",
    "eng_similarities_lit = evaluate_pairs(eng_literal, literal)\n",
    "eng_percentages_lit = [result[3] for result in eng_similarities_lit]\n",
    "\n",
    "darija_similarities_eq = evaluate_pairs(darija_equivalent, equivalent)\n",
    "darija_percentages_eq = [result[3] for result in darija_similarities_eq]\n",
    "\n",
    "darija_similarities_lit = evaluate_pairs(darija_literal, literal)\n",
    "darija_percentages_lit= [result[3] for result in darija_similarities_lit]\n",
    "\n",
    "percentages = pd.DataFrame()\n",
    "percentages['eng_equivalent'] = eng_percentages_eq\n",
    "percentages['eng_literal'] = eng_percentages_lit\n",
    "percentages['darija_equivalent'] = darija_percentages_eq\n",
    "percentages['darija_literal'] = darija_percentages_lit\n",
    "\n",
    "percentages.describe()\n"
   ]
  },
  {
   "cell_type": "code",
   "execution_count": 15,
   "metadata": {},
   "outputs": [
    {
     "data": {
      "application/vnd.plotly.v1+json": {
       "config": {
        "plotlyServerURL": "https://plot.ly"
       },
       "data": [
        {
         "name": "English equivalent translation prompt",
         "type": "box",
         "y": [
          0.21283793449401855,
          0.4511890411376953,
          0.3413271903991699,
          0.34882205724716187,
          0.7533799409866333,
          0.7438268661499023,
          0.6611579656600952,
          0.27362245321273804,
          0.542159914970398,
          0.27181994915008545,
          0.2620789408683777,
          0.11519528925418854,
          0.1549321711063385,
          0.6349323987960815,
          0.583129346370697,
          0.6028622388839722,
          0.5091447830200195,
          0.4322909116744995,
          0.5245587825775146,
          0.5765553712844849,
          0.6059939861297607
         ]
        },
        {
         "name": "English literal translation prompt",
         "type": "box",
         "y": [
          0.9396321773529053,
          0.6203473806381226,
          0.5110827684402466,
          0.7669569253921509,
          0.8607661724090576,
          0.8161782026290894,
          0.7250305414199829,
          0.5663857460021973,
          0.2071598917245865,
          0.4240679442882538,
          0.3054095506668091,
          0.9413589239120483,
          0.5043283104896545,
          0.7892725467681885,
          0.6992908716201782,
          0.9345298409461975,
          0.5774974226951599,
          0.6411799192428589,
          0.7704653143882751,
          0.8200910687446594,
          0.7257977724075317
         ]
        },
        {
         "name": "Darija equivalent translation prompt",
         "type": "box",
         "y": [
          0.21283793449401855,
          0.6952773928642273,
          0.36304980516433716,
          0.34882205724716187,
          0.8065515756607056,
          0.7438268661499023,
          0.44899025559425354,
          0.34530532360076904,
          0.5366819500923157,
          0.13908104598522186,
          0.45446646213531494,
          0.11519528925418854,
          0.15968197584152222,
          0.6791379451751709,
          0.48672205209732056,
          0.6028622388839722,
          0.2975805401802063,
          0.24545904994010925,
          0.19181130826473236,
          0.2475731372833252,
          0.6059939861297607
         ]
        },
        {
         "name": "Darija literal translation prompt",
         "type": "box",
         "y": [
          0.20232437551021576,
          0.4174312353134155,
          0.34076106548309326,
          0.6219136714935303,
          0.8744053840637207,
          0.7105792760848999,
          0.4963266849517822,
          0.4173859655857086,
          0.2170221358537674,
          0.26109930872917175,
          0.3688192665576935,
          0.8890426158905029,
          0.8468318581581116,
          0.770729660987854,
          0.23239953815937042,
          0.8282032012939453,
          0.10232973098754883,
          0.44980737566947937,
          0.8729857802391052,
          0.7564305067062378,
          0.7007281184196472
         ]
        }
       ],
       "layout": {
        "boxmode": "group",
        "template": {
         "data": {
          "bar": [
           {
            "error_x": {
             "color": "#2a3f5f"
            },
            "error_y": {
             "color": "#2a3f5f"
            },
            "marker": {
             "line": {
              "color": "#E5ECF6",
              "width": 0.5
             },
             "pattern": {
              "fillmode": "overlay",
              "size": 10,
              "solidity": 0.2
             }
            },
            "type": "bar"
           }
          ],
          "barpolar": [
           {
            "marker": {
             "line": {
              "color": "#E5ECF6",
              "width": 0.5
             },
             "pattern": {
              "fillmode": "overlay",
              "size": 10,
              "solidity": 0.2
             }
            },
            "type": "barpolar"
           }
          ],
          "carpet": [
           {
            "aaxis": {
             "endlinecolor": "#2a3f5f",
             "gridcolor": "white",
             "linecolor": "white",
             "minorgridcolor": "white",
             "startlinecolor": "#2a3f5f"
            },
            "baxis": {
             "endlinecolor": "#2a3f5f",
             "gridcolor": "white",
             "linecolor": "white",
             "minorgridcolor": "white",
             "startlinecolor": "#2a3f5f"
            },
            "type": "carpet"
           }
          ],
          "choropleth": [
           {
            "colorbar": {
             "outlinewidth": 0,
             "ticks": ""
            },
            "type": "choropleth"
           }
          ],
          "contour": [
           {
            "colorbar": {
             "outlinewidth": 0,
             "ticks": ""
            },
            "colorscale": [
             [
              0,
              "#0d0887"
             ],
             [
              0.1111111111111111,
              "#46039f"
             ],
             [
              0.2222222222222222,
              "#7201a8"
             ],
             [
              0.3333333333333333,
              "#9c179e"
             ],
             [
              0.4444444444444444,
              "#bd3786"
             ],
             [
              0.5555555555555556,
              "#d8576b"
             ],
             [
              0.6666666666666666,
              "#ed7953"
             ],
             [
              0.7777777777777778,
              "#fb9f3a"
             ],
             [
              0.8888888888888888,
              "#fdca26"
             ],
             [
              1,
              "#f0f921"
             ]
            ],
            "type": "contour"
           }
          ],
          "contourcarpet": [
           {
            "colorbar": {
             "outlinewidth": 0,
             "ticks": ""
            },
            "type": "contourcarpet"
           }
          ],
          "heatmap": [
           {
            "colorbar": {
             "outlinewidth": 0,
             "ticks": ""
            },
            "colorscale": [
             [
              0,
              "#0d0887"
             ],
             [
              0.1111111111111111,
              "#46039f"
             ],
             [
              0.2222222222222222,
              "#7201a8"
             ],
             [
              0.3333333333333333,
              "#9c179e"
             ],
             [
              0.4444444444444444,
              "#bd3786"
             ],
             [
              0.5555555555555556,
              "#d8576b"
             ],
             [
              0.6666666666666666,
              "#ed7953"
             ],
             [
              0.7777777777777778,
              "#fb9f3a"
             ],
             [
              0.8888888888888888,
              "#fdca26"
             ],
             [
              1,
              "#f0f921"
             ]
            ],
            "type": "heatmap"
           }
          ],
          "heatmapgl": [
           {
            "colorbar": {
             "outlinewidth": 0,
             "ticks": ""
            },
            "colorscale": [
             [
              0,
              "#0d0887"
             ],
             [
              0.1111111111111111,
              "#46039f"
             ],
             [
              0.2222222222222222,
              "#7201a8"
             ],
             [
              0.3333333333333333,
              "#9c179e"
             ],
             [
              0.4444444444444444,
              "#bd3786"
             ],
             [
              0.5555555555555556,
              "#d8576b"
             ],
             [
              0.6666666666666666,
              "#ed7953"
             ],
             [
              0.7777777777777778,
              "#fb9f3a"
             ],
             [
              0.8888888888888888,
              "#fdca26"
             ],
             [
              1,
              "#f0f921"
             ]
            ],
            "type": "heatmapgl"
           }
          ],
          "histogram": [
           {
            "marker": {
             "pattern": {
              "fillmode": "overlay",
              "size": 10,
              "solidity": 0.2
             }
            },
            "type": "histogram"
           }
          ],
          "histogram2d": [
           {
            "colorbar": {
             "outlinewidth": 0,
             "ticks": ""
            },
            "colorscale": [
             [
              0,
              "#0d0887"
             ],
             [
              0.1111111111111111,
              "#46039f"
             ],
             [
              0.2222222222222222,
              "#7201a8"
             ],
             [
              0.3333333333333333,
              "#9c179e"
             ],
             [
              0.4444444444444444,
              "#bd3786"
             ],
             [
              0.5555555555555556,
              "#d8576b"
             ],
             [
              0.6666666666666666,
              "#ed7953"
             ],
             [
              0.7777777777777778,
              "#fb9f3a"
             ],
             [
              0.8888888888888888,
              "#fdca26"
             ],
             [
              1,
              "#f0f921"
             ]
            ],
            "type": "histogram2d"
           }
          ],
          "histogram2dcontour": [
           {
            "colorbar": {
             "outlinewidth": 0,
             "ticks": ""
            },
            "colorscale": [
             [
              0,
              "#0d0887"
             ],
             [
              0.1111111111111111,
              "#46039f"
             ],
             [
              0.2222222222222222,
              "#7201a8"
             ],
             [
              0.3333333333333333,
              "#9c179e"
             ],
             [
              0.4444444444444444,
              "#bd3786"
             ],
             [
              0.5555555555555556,
              "#d8576b"
             ],
             [
              0.6666666666666666,
              "#ed7953"
             ],
             [
              0.7777777777777778,
              "#fb9f3a"
             ],
             [
              0.8888888888888888,
              "#fdca26"
             ],
             [
              1,
              "#f0f921"
             ]
            ],
            "type": "histogram2dcontour"
           }
          ],
          "mesh3d": [
           {
            "colorbar": {
             "outlinewidth": 0,
             "ticks": ""
            },
            "type": "mesh3d"
           }
          ],
          "parcoords": [
           {
            "line": {
             "colorbar": {
              "outlinewidth": 0,
              "ticks": ""
             }
            },
            "type": "parcoords"
           }
          ],
          "pie": [
           {
            "automargin": true,
            "type": "pie"
           }
          ],
          "scatter": [
           {
            "fillpattern": {
             "fillmode": "overlay",
             "size": 10,
             "solidity": 0.2
            },
            "type": "scatter"
           }
          ],
          "scatter3d": [
           {
            "line": {
             "colorbar": {
              "outlinewidth": 0,
              "ticks": ""
             }
            },
            "marker": {
             "colorbar": {
              "outlinewidth": 0,
              "ticks": ""
             }
            },
            "type": "scatter3d"
           }
          ],
          "scattercarpet": [
           {
            "marker": {
             "colorbar": {
              "outlinewidth": 0,
              "ticks": ""
             }
            },
            "type": "scattercarpet"
           }
          ],
          "scattergeo": [
           {
            "marker": {
             "colorbar": {
              "outlinewidth": 0,
              "ticks": ""
             }
            },
            "type": "scattergeo"
           }
          ],
          "scattergl": [
           {
            "marker": {
             "colorbar": {
              "outlinewidth": 0,
              "ticks": ""
             }
            },
            "type": "scattergl"
           }
          ],
          "scattermapbox": [
           {
            "marker": {
             "colorbar": {
              "outlinewidth": 0,
              "ticks": ""
             }
            },
            "type": "scattermapbox"
           }
          ],
          "scatterpolar": [
           {
            "marker": {
             "colorbar": {
              "outlinewidth": 0,
              "ticks": ""
             }
            },
            "type": "scatterpolar"
           }
          ],
          "scatterpolargl": [
           {
            "marker": {
             "colorbar": {
              "outlinewidth": 0,
              "ticks": ""
             }
            },
            "type": "scatterpolargl"
           }
          ],
          "scatterternary": [
           {
            "marker": {
             "colorbar": {
              "outlinewidth": 0,
              "ticks": ""
             }
            },
            "type": "scatterternary"
           }
          ],
          "surface": [
           {
            "colorbar": {
             "outlinewidth": 0,
             "ticks": ""
            },
            "colorscale": [
             [
              0,
              "#0d0887"
             ],
             [
              0.1111111111111111,
              "#46039f"
             ],
             [
              0.2222222222222222,
              "#7201a8"
             ],
             [
              0.3333333333333333,
              "#9c179e"
             ],
             [
              0.4444444444444444,
              "#bd3786"
             ],
             [
              0.5555555555555556,
              "#d8576b"
             ],
             [
              0.6666666666666666,
              "#ed7953"
             ],
             [
              0.7777777777777778,
              "#fb9f3a"
             ],
             [
              0.8888888888888888,
              "#fdca26"
             ],
             [
              1,
              "#f0f921"
             ]
            ],
            "type": "surface"
           }
          ],
          "table": [
           {
            "cells": {
             "fill": {
              "color": "#EBF0F8"
             },
             "line": {
              "color": "white"
             }
            },
            "header": {
             "fill": {
              "color": "#C8D4E3"
             },
             "line": {
              "color": "white"
             }
            },
            "type": "table"
           }
          ]
         },
         "layout": {
          "annotationdefaults": {
           "arrowcolor": "#2a3f5f",
           "arrowhead": 0,
           "arrowwidth": 1
          },
          "autotypenumbers": "strict",
          "coloraxis": {
           "colorbar": {
            "outlinewidth": 0,
            "ticks": ""
           }
          },
          "colorscale": {
           "diverging": [
            [
             0,
             "#8e0152"
            ],
            [
             0.1,
             "#c51b7d"
            ],
            [
             0.2,
             "#de77ae"
            ],
            [
             0.3,
             "#f1b6da"
            ],
            [
             0.4,
             "#fde0ef"
            ],
            [
             0.5,
             "#f7f7f7"
            ],
            [
             0.6,
             "#e6f5d0"
            ],
            [
             0.7,
             "#b8e186"
            ],
            [
             0.8,
             "#7fbc41"
            ],
            [
             0.9,
             "#4d9221"
            ],
            [
             1,
             "#276419"
            ]
           ],
           "sequential": [
            [
             0,
             "#0d0887"
            ],
            [
             0.1111111111111111,
             "#46039f"
            ],
            [
             0.2222222222222222,
             "#7201a8"
            ],
            [
             0.3333333333333333,
             "#9c179e"
            ],
            [
             0.4444444444444444,
             "#bd3786"
            ],
            [
             0.5555555555555556,
             "#d8576b"
            ],
            [
             0.6666666666666666,
             "#ed7953"
            ],
            [
             0.7777777777777778,
             "#fb9f3a"
            ],
            [
             0.8888888888888888,
             "#fdca26"
            ],
            [
             1,
             "#f0f921"
            ]
           ],
           "sequentialminus": [
            [
             0,
             "#0d0887"
            ],
            [
             0.1111111111111111,
             "#46039f"
            ],
            [
             0.2222222222222222,
             "#7201a8"
            ],
            [
             0.3333333333333333,
             "#9c179e"
            ],
            [
             0.4444444444444444,
             "#bd3786"
            ],
            [
             0.5555555555555556,
             "#d8576b"
            ],
            [
             0.6666666666666666,
             "#ed7953"
            ],
            [
             0.7777777777777778,
             "#fb9f3a"
            ],
            [
             0.8888888888888888,
             "#fdca26"
            ],
            [
             1,
             "#f0f921"
            ]
           ]
          },
          "colorway": [
           "#636efa",
           "#EF553B",
           "#00cc96",
           "#ab63fa",
           "#FFA15A",
           "#19d3f3",
           "#FF6692",
           "#B6E880",
           "#FF97FF",
           "#FECB52"
          ],
          "font": {
           "color": "#2a3f5f"
          },
          "geo": {
           "bgcolor": "white",
           "lakecolor": "white",
           "landcolor": "#E5ECF6",
           "showlakes": true,
           "showland": true,
           "subunitcolor": "white"
          },
          "hoverlabel": {
           "align": "left"
          },
          "hovermode": "closest",
          "mapbox": {
           "style": "light"
          },
          "paper_bgcolor": "white",
          "plot_bgcolor": "#E5ECF6",
          "polar": {
           "angularaxis": {
            "gridcolor": "white",
            "linecolor": "white",
            "ticks": ""
           },
           "bgcolor": "#E5ECF6",
           "radialaxis": {
            "gridcolor": "white",
            "linecolor": "white",
            "ticks": ""
           }
          },
          "scene": {
           "xaxis": {
            "backgroundcolor": "#E5ECF6",
            "gridcolor": "white",
            "gridwidth": 2,
            "linecolor": "white",
            "showbackground": true,
            "ticks": "",
            "zerolinecolor": "white"
           },
           "yaxis": {
            "backgroundcolor": "#E5ECF6",
            "gridcolor": "white",
            "gridwidth": 2,
            "linecolor": "white",
            "showbackground": true,
            "ticks": "",
            "zerolinecolor": "white"
           },
           "zaxis": {
            "backgroundcolor": "#E5ECF6",
            "gridcolor": "white",
            "gridwidth": 2,
            "linecolor": "white",
            "showbackground": true,
            "ticks": "",
            "zerolinecolor": "white"
           }
          },
          "shapedefaults": {
           "line": {
            "color": "#2a3f5f"
           }
          },
          "ternary": {
           "aaxis": {
            "gridcolor": "white",
            "linecolor": "white",
            "ticks": ""
           },
           "baxis": {
            "gridcolor": "white",
            "linecolor": "white",
            "ticks": ""
           },
           "bgcolor": "#E5ECF6",
           "caxis": {
            "gridcolor": "white",
            "linecolor": "white",
            "ticks": ""
           }
          },
          "title": {
           "x": 0.05
          },
          "xaxis": {
           "automargin": true,
           "gridcolor": "white",
           "linecolor": "white",
           "ticks": "",
           "title": {
            "standoff": 15
           },
           "zerolinecolor": "white",
           "zerolinewidth": 2
          },
          "yaxis": {
           "automargin": true,
           "gridcolor": "white",
           "linecolor": "white",
           "ticks": "",
           "title": {
            "standoff": 15
           },
           "zerolinecolor": "white",
           "zerolinewidth": 2
          }
         }
        },
        "title": {
         "text": "Box Plot of Similarity Scores for all the prompts."
        },
        "xaxis": {
         "title": {
          "text": "Prompt"
         }
        },
        "yaxis": {
         "title": {
          "text": "Similarity Score"
         }
        }
       }
      }
     },
     "metadata": {},
     "output_type": "display_data"
    }
   ],
   "source": [
    "import plotly.graph_objects as go\n",
    "fig = go.Figure()\n",
    "\n",
    "fig.add_trace(go.Box(y=percentages['eng_equivalent'], name='English equivalent translation prompt'))\n",
    "fig.add_trace(go.Box(y=percentages['eng_literal'], name='English literal translation prompt'))\n",
    "fig.add_trace(go.Box(y=percentages['darija_equivalent'], name='Darija equivalent translation prompt'))\n",
    "fig.add_trace(go.Box(y=percentages['darija_literal'], name='Darija literal translation prompt'))\n",
    "\n",
    "# Update layout\n",
    "fig.update_layout(\n",
    "    title='Box Plot of Similarity Scores for all the prompts.',\n",
    "    yaxis_title='Similarity Score',\n",
    "    xaxis_title='Prompt',\n",
    "    boxmode='group'  # group the box plots together\n",
    ")\n",
    "\n",
    "# Show plot\n",
    "fig.show()"
   ]
  },
  {
   "cell_type": "code",
   "execution_count": 19,
   "metadata": {},
   "outputs": [
    {
     "data": {
      "application/vnd.plotly.v1+json": {
       "config": {
        "plotlyServerURL": "https://plot.ly"
       },
       "data": [
        {
         "histfunc": "count",
         "name": "Darija equivalent translation prompt",
         "type": "histogram",
         "x": [
          0.21283793449401855,
          0.6952773928642273,
          0.36304980516433716,
          0.34882205724716187,
          0.8065515756607056,
          0.7438268661499023,
          0.44899025559425354,
          0.34530532360076904,
          0.5366819500923157,
          0.13908104598522186,
          0.45446646213531494,
          0.11519528925418854,
          0.15968197584152222,
          0.6791379451751709,
          0.48672205209732056,
          0.6028622388839722,
          0.2975805401802063,
          0.24545904994010925,
          0.19181130826473236,
          0.2475731372833252,
          0.6059939861297607
         ],
         "y": [
          0.21283793449401855,
          0.6952773928642273,
          0.36304980516433716,
          0.34882205724716187,
          0.8065515756607056,
          0.7438268661499023,
          0.44899025559425354,
          0.34530532360076904,
          0.5366819500923157,
          0.13908104598522186,
          0.45446646213531494,
          0.11519528925418854,
          0.15968197584152222,
          0.6791379451751709,
          0.48672205209732056,
          0.6028622388839722,
          0.2975805401802063,
          0.24545904994010925,
          0.19181130826473236,
          0.2475731372833252,
          0.6059939861297607
         ]
        },
        {
         "histfunc": "count",
         "name": "Darija literal translation prompt",
         "type": "histogram",
         "x": [
          0.20232437551021576,
          0.4174312353134155,
          0.34076106548309326,
          0.6219136714935303,
          0.8744053840637207,
          0.7105792760848999,
          0.4963266849517822,
          0.4173859655857086,
          0.2170221358537674,
          0.26109930872917175,
          0.3688192665576935,
          0.8890426158905029,
          0.8468318581581116,
          0.770729660987854,
          0.23239953815937042,
          0.8282032012939453,
          0.10232973098754883,
          0.44980737566947937,
          0.8729857802391052,
          0.7564305067062378,
          0.7007281184196472
         ],
         "y": [
          0.20232437551021576,
          0.4174312353134155,
          0.34076106548309326,
          0.6219136714935303,
          0.8744053840637207,
          0.7105792760848999,
          0.4963266849517822,
          0.4173859655857086,
          0.2170221358537674,
          0.26109930872917175,
          0.3688192665576935,
          0.8890426158905029,
          0.8468318581581116,
          0.770729660987854,
          0.23239953815937042,
          0.8282032012939453,
          0.10232973098754883,
          0.44980737566947937,
          0.8729857802391052,
          0.7564305067062378,
          0.7007281184196472
         ]
        }
       ],
       "layout": {
        "template": {
         "data": {
          "bar": [
           {
            "error_x": {
             "color": "#2a3f5f"
            },
            "error_y": {
             "color": "#2a3f5f"
            },
            "marker": {
             "line": {
              "color": "#E5ECF6",
              "width": 0.5
             },
             "pattern": {
              "fillmode": "overlay",
              "size": 10,
              "solidity": 0.2
             }
            },
            "type": "bar"
           }
          ],
          "barpolar": [
           {
            "marker": {
             "line": {
              "color": "#E5ECF6",
              "width": 0.5
             },
             "pattern": {
              "fillmode": "overlay",
              "size": 10,
              "solidity": 0.2
             }
            },
            "type": "barpolar"
           }
          ],
          "carpet": [
           {
            "aaxis": {
             "endlinecolor": "#2a3f5f",
             "gridcolor": "white",
             "linecolor": "white",
             "minorgridcolor": "white",
             "startlinecolor": "#2a3f5f"
            },
            "baxis": {
             "endlinecolor": "#2a3f5f",
             "gridcolor": "white",
             "linecolor": "white",
             "minorgridcolor": "white",
             "startlinecolor": "#2a3f5f"
            },
            "type": "carpet"
           }
          ],
          "choropleth": [
           {
            "colorbar": {
             "outlinewidth": 0,
             "ticks": ""
            },
            "type": "choropleth"
           }
          ],
          "contour": [
           {
            "colorbar": {
             "outlinewidth": 0,
             "ticks": ""
            },
            "colorscale": [
             [
              0,
              "#0d0887"
             ],
             [
              0.1111111111111111,
              "#46039f"
             ],
             [
              0.2222222222222222,
              "#7201a8"
             ],
             [
              0.3333333333333333,
              "#9c179e"
             ],
             [
              0.4444444444444444,
              "#bd3786"
             ],
             [
              0.5555555555555556,
              "#d8576b"
             ],
             [
              0.6666666666666666,
              "#ed7953"
             ],
             [
              0.7777777777777778,
              "#fb9f3a"
             ],
             [
              0.8888888888888888,
              "#fdca26"
             ],
             [
              1,
              "#f0f921"
             ]
            ],
            "type": "contour"
           }
          ],
          "contourcarpet": [
           {
            "colorbar": {
             "outlinewidth": 0,
             "ticks": ""
            },
            "type": "contourcarpet"
           }
          ],
          "heatmap": [
           {
            "colorbar": {
             "outlinewidth": 0,
             "ticks": ""
            },
            "colorscale": [
             [
              0,
              "#0d0887"
             ],
             [
              0.1111111111111111,
              "#46039f"
             ],
             [
              0.2222222222222222,
              "#7201a8"
             ],
             [
              0.3333333333333333,
              "#9c179e"
             ],
             [
              0.4444444444444444,
              "#bd3786"
             ],
             [
              0.5555555555555556,
              "#d8576b"
             ],
             [
              0.6666666666666666,
              "#ed7953"
             ],
             [
              0.7777777777777778,
              "#fb9f3a"
             ],
             [
              0.8888888888888888,
              "#fdca26"
             ],
             [
              1,
              "#f0f921"
             ]
            ],
            "type": "heatmap"
           }
          ],
          "heatmapgl": [
           {
            "colorbar": {
             "outlinewidth": 0,
             "ticks": ""
            },
            "colorscale": [
             [
              0,
              "#0d0887"
             ],
             [
              0.1111111111111111,
              "#46039f"
             ],
             [
              0.2222222222222222,
              "#7201a8"
             ],
             [
              0.3333333333333333,
              "#9c179e"
             ],
             [
              0.4444444444444444,
              "#bd3786"
             ],
             [
              0.5555555555555556,
              "#d8576b"
             ],
             [
              0.6666666666666666,
              "#ed7953"
             ],
             [
              0.7777777777777778,
              "#fb9f3a"
             ],
             [
              0.8888888888888888,
              "#fdca26"
             ],
             [
              1,
              "#f0f921"
             ]
            ],
            "type": "heatmapgl"
           }
          ],
          "histogram": [
           {
            "marker": {
             "pattern": {
              "fillmode": "overlay",
              "size": 10,
              "solidity": 0.2
             }
            },
            "type": "histogram"
           }
          ],
          "histogram2d": [
           {
            "colorbar": {
             "outlinewidth": 0,
             "ticks": ""
            },
            "colorscale": [
             [
              0,
              "#0d0887"
             ],
             [
              0.1111111111111111,
              "#46039f"
             ],
             [
              0.2222222222222222,
              "#7201a8"
             ],
             [
              0.3333333333333333,
              "#9c179e"
             ],
             [
              0.4444444444444444,
              "#bd3786"
             ],
             [
              0.5555555555555556,
              "#d8576b"
             ],
             [
              0.6666666666666666,
              "#ed7953"
             ],
             [
              0.7777777777777778,
              "#fb9f3a"
             ],
             [
              0.8888888888888888,
              "#fdca26"
             ],
             [
              1,
              "#f0f921"
             ]
            ],
            "type": "histogram2d"
           }
          ],
          "histogram2dcontour": [
           {
            "colorbar": {
             "outlinewidth": 0,
             "ticks": ""
            },
            "colorscale": [
             [
              0,
              "#0d0887"
             ],
             [
              0.1111111111111111,
              "#46039f"
             ],
             [
              0.2222222222222222,
              "#7201a8"
             ],
             [
              0.3333333333333333,
              "#9c179e"
             ],
             [
              0.4444444444444444,
              "#bd3786"
             ],
             [
              0.5555555555555556,
              "#d8576b"
             ],
             [
              0.6666666666666666,
              "#ed7953"
             ],
             [
              0.7777777777777778,
              "#fb9f3a"
             ],
             [
              0.8888888888888888,
              "#fdca26"
             ],
             [
              1,
              "#f0f921"
             ]
            ],
            "type": "histogram2dcontour"
           }
          ],
          "mesh3d": [
           {
            "colorbar": {
             "outlinewidth": 0,
             "ticks": ""
            },
            "type": "mesh3d"
           }
          ],
          "parcoords": [
           {
            "line": {
             "colorbar": {
              "outlinewidth": 0,
              "ticks": ""
             }
            },
            "type": "parcoords"
           }
          ],
          "pie": [
           {
            "automargin": true,
            "type": "pie"
           }
          ],
          "scatter": [
           {
            "fillpattern": {
             "fillmode": "overlay",
             "size": 10,
             "solidity": 0.2
            },
            "type": "scatter"
           }
          ],
          "scatter3d": [
           {
            "line": {
             "colorbar": {
              "outlinewidth": 0,
              "ticks": ""
             }
            },
            "marker": {
             "colorbar": {
              "outlinewidth": 0,
              "ticks": ""
             }
            },
            "type": "scatter3d"
           }
          ],
          "scattercarpet": [
           {
            "marker": {
             "colorbar": {
              "outlinewidth": 0,
              "ticks": ""
             }
            },
            "type": "scattercarpet"
           }
          ],
          "scattergeo": [
           {
            "marker": {
             "colorbar": {
              "outlinewidth": 0,
              "ticks": ""
             }
            },
            "type": "scattergeo"
           }
          ],
          "scattergl": [
           {
            "marker": {
             "colorbar": {
              "outlinewidth": 0,
              "ticks": ""
             }
            },
            "type": "scattergl"
           }
          ],
          "scattermapbox": [
           {
            "marker": {
             "colorbar": {
              "outlinewidth": 0,
              "ticks": ""
             }
            },
            "type": "scattermapbox"
           }
          ],
          "scatterpolar": [
           {
            "marker": {
             "colorbar": {
              "outlinewidth": 0,
              "ticks": ""
             }
            },
            "type": "scatterpolar"
           }
          ],
          "scatterpolargl": [
           {
            "marker": {
             "colorbar": {
              "outlinewidth": 0,
              "ticks": ""
             }
            },
            "type": "scatterpolargl"
           }
          ],
          "scatterternary": [
           {
            "marker": {
             "colorbar": {
              "outlinewidth": 0,
              "ticks": ""
             }
            },
            "type": "scatterternary"
           }
          ],
          "surface": [
           {
            "colorbar": {
             "outlinewidth": 0,
             "ticks": ""
            },
            "colorscale": [
             [
              0,
              "#0d0887"
             ],
             [
              0.1111111111111111,
              "#46039f"
             ],
             [
              0.2222222222222222,
              "#7201a8"
             ],
             [
              0.3333333333333333,
              "#9c179e"
             ],
             [
              0.4444444444444444,
              "#bd3786"
             ],
             [
              0.5555555555555556,
              "#d8576b"
             ],
             [
              0.6666666666666666,
              "#ed7953"
             ],
             [
              0.7777777777777778,
              "#fb9f3a"
             ],
             [
              0.8888888888888888,
              "#fdca26"
             ],
             [
              1,
              "#f0f921"
             ]
            ],
            "type": "surface"
           }
          ],
          "table": [
           {
            "cells": {
             "fill": {
              "color": "#EBF0F8"
             },
             "line": {
              "color": "white"
             }
            },
            "header": {
             "fill": {
              "color": "#C8D4E3"
             },
             "line": {
              "color": "white"
             }
            },
            "type": "table"
           }
          ]
         },
         "layout": {
          "annotationdefaults": {
           "arrowcolor": "#2a3f5f",
           "arrowhead": 0,
           "arrowwidth": 1
          },
          "autotypenumbers": "strict",
          "coloraxis": {
           "colorbar": {
            "outlinewidth": 0,
            "ticks": ""
           }
          },
          "colorscale": {
           "diverging": [
            [
             0,
             "#8e0152"
            ],
            [
             0.1,
             "#c51b7d"
            ],
            [
             0.2,
             "#de77ae"
            ],
            [
             0.3,
             "#f1b6da"
            ],
            [
             0.4,
             "#fde0ef"
            ],
            [
             0.5,
             "#f7f7f7"
            ],
            [
             0.6,
             "#e6f5d0"
            ],
            [
             0.7,
             "#b8e186"
            ],
            [
             0.8,
             "#7fbc41"
            ],
            [
             0.9,
             "#4d9221"
            ],
            [
             1,
             "#276419"
            ]
           ],
           "sequential": [
            [
             0,
             "#0d0887"
            ],
            [
             0.1111111111111111,
             "#46039f"
            ],
            [
             0.2222222222222222,
             "#7201a8"
            ],
            [
             0.3333333333333333,
             "#9c179e"
            ],
            [
             0.4444444444444444,
             "#bd3786"
            ],
            [
             0.5555555555555556,
             "#d8576b"
            ],
            [
             0.6666666666666666,
             "#ed7953"
            ],
            [
             0.7777777777777778,
             "#fb9f3a"
            ],
            [
             0.8888888888888888,
             "#fdca26"
            ],
            [
             1,
             "#f0f921"
            ]
           ],
           "sequentialminus": [
            [
             0,
             "#0d0887"
            ],
            [
             0.1111111111111111,
             "#46039f"
            ],
            [
             0.2222222222222222,
             "#7201a8"
            ],
            [
             0.3333333333333333,
             "#9c179e"
            ],
            [
             0.4444444444444444,
             "#bd3786"
            ],
            [
             0.5555555555555556,
             "#d8576b"
            ],
            [
             0.6666666666666666,
             "#ed7953"
            ],
            [
             0.7777777777777778,
             "#fb9f3a"
            ],
            [
             0.8888888888888888,
             "#fdca26"
            ],
            [
             1,
             "#f0f921"
            ]
           ]
          },
          "colorway": [
           "#636efa",
           "#EF553B",
           "#00cc96",
           "#ab63fa",
           "#FFA15A",
           "#19d3f3",
           "#FF6692",
           "#B6E880",
           "#FF97FF",
           "#FECB52"
          ],
          "font": {
           "color": "#2a3f5f"
          },
          "geo": {
           "bgcolor": "white",
           "lakecolor": "white",
           "landcolor": "#E5ECF6",
           "showlakes": true,
           "showland": true,
           "subunitcolor": "white"
          },
          "hoverlabel": {
           "align": "left"
          },
          "hovermode": "closest",
          "mapbox": {
           "style": "light"
          },
          "paper_bgcolor": "white",
          "plot_bgcolor": "#E5ECF6",
          "polar": {
           "angularaxis": {
            "gridcolor": "white",
            "linecolor": "white",
            "ticks": ""
           },
           "bgcolor": "#E5ECF6",
           "radialaxis": {
            "gridcolor": "white",
            "linecolor": "white",
            "ticks": ""
           }
          },
          "scene": {
           "xaxis": {
            "backgroundcolor": "#E5ECF6",
            "gridcolor": "white",
            "gridwidth": 2,
            "linecolor": "white",
            "showbackground": true,
            "ticks": "",
            "zerolinecolor": "white"
           },
           "yaxis": {
            "backgroundcolor": "#E5ECF6",
            "gridcolor": "white",
            "gridwidth": 2,
            "linecolor": "white",
            "showbackground": true,
            "ticks": "",
            "zerolinecolor": "white"
           },
           "zaxis": {
            "backgroundcolor": "#E5ECF6",
            "gridcolor": "white",
            "gridwidth": 2,
            "linecolor": "white",
            "showbackground": true,
            "ticks": "",
            "zerolinecolor": "white"
           }
          },
          "shapedefaults": {
           "line": {
            "color": "#2a3f5f"
           }
          },
          "ternary": {
           "aaxis": {
            "gridcolor": "white",
            "linecolor": "white",
            "ticks": ""
           },
           "baxis": {
            "gridcolor": "white",
            "linecolor": "white",
            "ticks": ""
           },
           "bgcolor": "#E5ECF6",
           "caxis": {
            "gridcolor": "white",
            "linecolor": "white",
            "ticks": ""
           }
          },
          "title": {
           "x": 0.05
          },
          "xaxis": {
           "automargin": true,
           "gridcolor": "white",
           "linecolor": "white",
           "ticks": "",
           "title": {
            "standoff": 15
           },
           "zerolinecolor": "white",
           "zerolinewidth": 2
          },
          "yaxis": {
           "automargin": true,
           "gridcolor": "white",
           "linecolor": "white",
           "ticks": "",
           "title": {
            "standoff": 15
           },
           "zerolinecolor": "white",
           "zerolinewidth": 2
          }
         }
        }
       }
      }
     },
     "metadata": {},
     "output_type": "display_data"
    }
   ],
   "source": [
    "import plotly.graph_objects as go\n",
    "\n",
    "\n",
    "fig = go.Figure()\n",
    "\n",
    "fig.add_trace(go.Histogram(histfunc=\"count\", y=percentages['darija_equivalent'], x=percentages['darija_equivalent'], name=\"Darija equivalent translation prompt\"))\n",
    "fig.add_trace(go.Histogram(histfunc=\"count\", y=percentages['darija_literal'], x=percentages['darija_literal'], name=\"Darija literal translation prompt\"))\n",
    "\n",
    "fig.show()"
   ]
  },
  {
   "cell_type": "code",
   "execution_count": 21,
   "metadata": {},
   "outputs": [
    {
     "data": {
      "application/vnd.plotly.v1+json": {
       "config": {
        "plotlyServerURL": "https://plot.ly"
       },
       "data": [
        {
         "histfunc": "count",
         "name": "English equivalent translation prompt",
         "type": "histogram",
         "x": [
          0.21283793449401855,
          0.4511890411376953,
          0.3413271903991699,
          0.34882205724716187,
          0.7533799409866333,
          0.7438268661499023,
          0.6611579656600952,
          0.27362245321273804,
          0.542159914970398,
          0.27181994915008545,
          0.2620789408683777,
          0.11519528925418854,
          0.1549321711063385,
          0.6349323987960815,
          0.583129346370697,
          0.6028622388839722,
          0.5091447830200195,
          0.4322909116744995,
          0.5245587825775146,
          0.5765553712844849,
          0.6059939861297607
         ],
         "y": [
          0.21283793449401855,
          0.4511890411376953,
          0.3413271903991699,
          0.34882205724716187,
          0.7533799409866333,
          0.7438268661499023,
          0.6611579656600952,
          0.27362245321273804,
          0.542159914970398,
          0.27181994915008545,
          0.2620789408683777,
          0.11519528925418854,
          0.1549321711063385,
          0.6349323987960815,
          0.583129346370697,
          0.6028622388839722,
          0.5091447830200195,
          0.4322909116744995,
          0.5245587825775146,
          0.5765553712844849,
          0.6059939861297607
         ]
        },
        {
         "histfunc": "count",
         "name": "English literal translation prompt",
         "type": "histogram",
         "x": [
          0.9396321773529053,
          0.6203473806381226,
          0.5110827684402466,
          0.7669569253921509,
          0.8607661724090576,
          0.8161782026290894,
          0.7250305414199829,
          0.5663857460021973,
          0.2071598917245865,
          0.4240679442882538,
          0.3054095506668091,
          0.9413589239120483,
          0.5043283104896545,
          0.7892725467681885,
          0.6992908716201782,
          0.9345298409461975,
          0.5774974226951599,
          0.6411799192428589,
          0.7704653143882751,
          0.8200910687446594,
          0.7257977724075317
         ],
         "y": [
          0.9396321773529053,
          0.6203473806381226,
          0.5110827684402466,
          0.7669569253921509,
          0.8607661724090576,
          0.8161782026290894,
          0.7250305414199829,
          0.5663857460021973,
          0.2071598917245865,
          0.4240679442882538,
          0.3054095506668091,
          0.9413589239120483,
          0.5043283104896545,
          0.7892725467681885,
          0.6992908716201782,
          0.9345298409461975,
          0.5774974226951599,
          0.6411799192428589,
          0.7704653143882751,
          0.8200910687446594,
          0.7257977724075317
         ]
        }
       ],
       "layout": {
        "template": {
         "data": {
          "bar": [
           {
            "error_x": {
             "color": "#2a3f5f"
            },
            "error_y": {
             "color": "#2a3f5f"
            },
            "marker": {
             "line": {
              "color": "#E5ECF6",
              "width": 0.5
             },
             "pattern": {
              "fillmode": "overlay",
              "size": 10,
              "solidity": 0.2
             }
            },
            "type": "bar"
           }
          ],
          "barpolar": [
           {
            "marker": {
             "line": {
              "color": "#E5ECF6",
              "width": 0.5
             },
             "pattern": {
              "fillmode": "overlay",
              "size": 10,
              "solidity": 0.2
             }
            },
            "type": "barpolar"
           }
          ],
          "carpet": [
           {
            "aaxis": {
             "endlinecolor": "#2a3f5f",
             "gridcolor": "white",
             "linecolor": "white",
             "minorgridcolor": "white",
             "startlinecolor": "#2a3f5f"
            },
            "baxis": {
             "endlinecolor": "#2a3f5f",
             "gridcolor": "white",
             "linecolor": "white",
             "minorgridcolor": "white",
             "startlinecolor": "#2a3f5f"
            },
            "type": "carpet"
           }
          ],
          "choropleth": [
           {
            "colorbar": {
             "outlinewidth": 0,
             "ticks": ""
            },
            "type": "choropleth"
           }
          ],
          "contour": [
           {
            "colorbar": {
             "outlinewidth": 0,
             "ticks": ""
            },
            "colorscale": [
             [
              0,
              "#0d0887"
             ],
             [
              0.1111111111111111,
              "#46039f"
             ],
             [
              0.2222222222222222,
              "#7201a8"
             ],
             [
              0.3333333333333333,
              "#9c179e"
             ],
             [
              0.4444444444444444,
              "#bd3786"
             ],
             [
              0.5555555555555556,
              "#d8576b"
             ],
             [
              0.6666666666666666,
              "#ed7953"
             ],
             [
              0.7777777777777778,
              "#fb9f3a"
             ],
             [
              0.8888888888888888,
              "#fdca26"
             ],
             [
              1,
              "#f0f921"
             ]
            ],
            "type": "contour"
           }
          ],
          "contourcarpet": [
           {
            "colorbar": {
             "outlinewidth": 0,
             "ticks": ""
            },
            "type": "contourcarpet"
           }
          ],
          "heatmap": [
           {
            "colorbar": {
             "outlinewidth": 0,
             "ticks": ""
            },
            "colorscale": [
             [
              0,
              "#0d0887"
             ],
             [
              0.1111111111111111,
              "#46039f"
             ],
             [
              0.2222222222222222,
              "#7201a8"
             ],
             [
              0.3333333333333333,
              "#9c179e"
             ],
             [
              0.4444444444444444,
              "#bd3786"
             ],
             [
              0.5555555555555556,
              "#d8576b"
             ],
             [
              0.6666666666666666,
              "#ed7953"
             ],
             [
              0.7777777777777778,
              "#fb9f3a"
             ],
             [
              0.8888888888888888,
              "#fdca26"
             ],
             [
              1,
              "#f0f921"
             ]
            ],
            "type": "heatmap"
           }
          ],
          "heatmapgl": [
           {
            "colorbar": {
             "outlinewidth": 0,
             "ticks": ""
            },
            "colorscale": [
             [
              0,
              "#0d0887"
             ],
             [
              0.1111111111111111,
              "#46039f"
             ],
             [
              0.2222222222222222,
              "#7201a8"
             ],
             [
              0.3333333333333333,
              "#9c179e"
             ],
             [
              0.4444444444444444,
              "#bd3786"
             ],
             [
              0.5555555555555556,
              "#d8576b"
             ],
             [
              0.6666666666666666,
              "#ed7953"
             ],
             [
              0.7777777777777778,
              "#fb9f3a"
             ],
             [
              0.8888888888888888,
              "#fdca26"
             ],
             [
              1,
              "#f0f921"
             ]
            ],
            "type": "heatmapgl"
           }
          ],
          "histogram": [
           {
            "marker": {
             "pattern": {
              "fillmode": "overlay",
              "size": 10,
              "solidity": 0.2
             }
            },
            "type": "histogram"
           }
          ],
          "histogram2d": [
           {
            "colorbar": {
             "outlinewidth": 0,
             "ticks": ""
            },
            "colorscale": [
             [
              0,
              "#0d0887"
             ],
             [
              0.1111111111111111,
              "#46039f"
             ],
             [
              0.2222222222222222,
              "#7201a8"
             ],
             [
              0.3333333333333333,
              "#9c179e"
             ],
             [
              0.4444444444444444,
              "#bd3786"
             ],
             [
              0.5555555555555556,
              "#d8576b"
             ],
             [
              0.6666666666666666,
              "#ed7953"
             ],
             [
              0.7777777777777778,
              "#fb9f3a"
             ],
             [
              0.8888888888888888,
              "#fdca26"
             ],
             [
              1,
              "#f0f921"
             ]
            ],
            "type": "histogram2d"
           }
          ],
          "histogram2dcontour": [
           {
            "colorbar": {
             "outlinewidth": 0,
             "ticks": ""
            },
            "colorscale": [
             [
              0,
              "#0d0887"
             ],
             [
              0.1111111111111111,
              "#46039f"
             ],
             [
              0.2222222222222222,
              "#7201a8"
             ],
             [
              0.3333333333333333,
              "#9c179e"
             ],
             [
              0.4444444444444444,
              "#bd3786"
             ],
             [
              0.5555555555555556,
              "#d8576b"
             ],
             [
              0.6666666666666666,
              "#ed7953"
             ],
             [
              0.7777777777777778,
              "#fb9f3a"
             ],
             [
              0.8888888888888888,
              "#fdca26"
             ],
             [
              1,
              "#f0f921"
             ]
            ],
            "type": "histogram2dcontour"
           }
          ],
          "mesh3d": [
           {
            "colorbar": {
             "outlinewidth": 0,
             "ticks": ""
            },
            "type": "mesh3d"
           }
          ],
          "parcoords": [
           {
            "line": {
             "colorbar": {
              "outlinewidth": 0,
              "ticks": ""
             }
            },
            "type": "parcoords"
           }
          ],
          "pie": [
           {
            "automargin": true,
            "type": "pie"
           }
          ],
          "scatter": [
           {
            "fillpattern": {
             "fillmode": "overlay",
             "size": 10,
             "solidity": 0.2
            },
            "type": "scatter"
           }
          ],
          "scatter3d": [
           {
            "line": {
             "colorbar": {
              "outlinewidth": 0,
              "ticks": ""
             }
            },
            "marker": {
             "colorbar": {
              "outlinewidth": 0,
              "ticks": ""
             }
            },
            "type": "scatter3d"
           }
          ],
          "scattercarpet": [
           {
            "marker": {
             "colorbar": {
              "outlinewidth": 0,
              "ticks": ""
             }
            },
            "type": "scattercarpet"
           }
          ],
          "scattergeo": [
           {
            "marker": {
             "colorbar": {
              "outlinewidth": 0,
              "ticks": ""
             }
            },
            "type": "scattergeo"
           }
          ],
          "scattergl": [
           {
            "marker": {
             "colorbar": {
              "outlinewidth": 0,
              "ticks": ""
             }
            },
            "type": "scattergl"
           }
          ],
          "scattermapbox": [
           {
            "marker": {
             "colorbar": {
              "outlinewidth": 0,
              "ticks": ""
             }
            },
            "type": "scattermapbox"
           }
          ],
          "scatterpolar": [
           {
            "marker": {
             "colorbar": {
              "outlinewidth": 0,
              "ticks": ""
             }
            },
            "type": "scatterpolar"
           }
          ],
          "scatterpolargl": [
           {
            "marker": {
             "colorbar": {
              "outlinewidth": 0,
              "ticks": ""
             }
            },
            "type": "scatterpolargl"
           }
          ],
          "scatterternary": [
           {
            "marker": {
             "colorbar": {
              "outlinewidth": 0,
              "ticks": ""
             }
            },
            "type": "scatterternary"
           }
          ],
          "surface": [
           {
            "colorbar": {
             "outlinewidth": 0,
             "ticks": ""
            },
            "colorscale": [
             [
              0,
              "#0d0887"
             ],
             [
              0.1111111111111111,
              "#46039f"
             ],
             [
              0.2222222222222222,
              "#7201a8"
             ],
             [
              0.3333333333333333,
              "#9c179e"
             ],
             [
              0.4444444444444444,
              "#bd3786"
             ],
             [
              0.5555555555555556,
              "#d8576b"
             ],
             [
              0.6666666666666666,
              "#ed7953"
             ],
             [
              0.7777777777777778,
              "#fb9f3a"
             ],
             [
              0.8888888888888888,
              "#fdca26"
             ],
             [
              1,
              "#f0f921"
             ]
            ],
            "type": "surface"
           }
          ],
          "table": [
           {
            "cells": {
             "fill": {
              "color": "#EBF0F8"
             },
             "line": {
              "color": "white"
             }
            },
            "header": {
             "fill": {
              "color": "#C8D4E3"
             },
             "line": {
              "color": "white"
             }
            },
            "type": "table"
           }
          ]
         },
         "layout": {
          "annotationdefaults": {
           "arrowcolor": "#2a3f5f",
           "arrowhead": 0,
           "arrowwidth": 1
          },
          "autotypenumbers": "strict",
          "coloraxis": {
           "colorbar": {
            "outlinewidth": 0,
            "ticks": ""
           }
          },
          "colorscale": {
           "diverging": [
            [
             0,
             "#8e0152"
            ],
            [
             0.1,
             "#c51b7d"
            ],
            [
             0.2,
             "#de77ae"
            ],
            [
             0.3,
             "#f1b6da"
            ],
            [
             0.4,
             "#fde0ef"
            ],
            [
             0.5,
             "#f7f7f7"
            ],
            [
             0.6,
             "#e6f5d0"
            ],
            [
             0.7,
             "#b8e186"
            ],
            [
             0.8,
             "#7fbc41"
            ],
            [
             0.9,
             "#4d9221"
            ],
            [
             1,
             "#276419"
            ]
           ],
           "sequential": [
            [
             0,
             "#0d0887"
            ],
            [
             0.1111111111111111,
             "#46039f"
            ],
            [
             0.2222222222222222,
             "#7201a8"
            ],
            [
             0.3333333333333333,
             "#9c179e"
            ],
            [
             0.4444444444444444,
             "#bd3786"
            ],
            [
             0.5555555555555556,
             "#d8576b"
            ],
            [
             0.6666666666666666,
             "#ed7953"
            ],
            [
             0.7777777777777778,
             "#fb9f3a"
            ],
            [
             0.8888888888888888,
             "#fdca26"
            ],
            [
             1,
             "#f0f921"
            ]
           ],
           "sequentialminus": [
            [
             0,
             "#0d0887"
            ],
            [
             0.1111111111111111,
             "#46039f"
            ],
            [
             0.2222222222222222,
             "#7201a8"
            ],
            [
             0.3333333333333333,
             "#9c179e"
            ],
            [
             0.4444444444444444,
             "#bd3786"
            ],
            [
             0.5555555555555556,
             "#d8576b"
            ],
            [
             0.6666666666666666,
             "#ed7953"
            ],
            [
             0.7777777777777778,
             "#fb9f3a"
            ],
            [
             0.8888888888888888,
             "#fdca26"
            ],
            [
             1,
             "#f0f921"
            ]
           ]
          },
          "colorway": [
           "#636efa",
           "#EF553B",
           "#00cc96",
           "#ab63fa",
           "#FFA15A",
           "#19d3f3",
           "#FF6692",
           "#B6E880",
           "#FF97FF",
           "#FECB52"
          ],
          "font": {
           "color": "#2a3f5f"
          },
          "geo": {
           "bgcolor": "white",
           "lakecolor": "white",
           "landcolor": "#E5ECF6",
           "showlakes": true,
           "showland": true,
           "subunitcolor": "white"
          },
          "hoverlabel": {
           "align": "left"
          },
          "hovermode": "closest",
          "mapbox": {
           "style": "light"
          },
          "paper_bgcolor": "white",
          "plot_bgcolor": "#E5ECF6",
          "polar": {
           "angularaxis": {
            "gridcolor": "white",
            "linecolor": "white",
            "ticks": ""
           },
           "bgcolor": "#E5ECF6",
           "radialaxis": {
            "gridcolor": "white",
            "linecolor": "white",
            "ticks": ""
           }
          },
          "scene": {
           "xaxis": {
            "backgroundcolor": "#E5ECF6",
            "gridcolor": "white",
            "gridwidth": 2,
            "linecolor": "white",
            "showbackground": true,
            "ticks": "",
            "zerolinecolor": "white"
           },
           "yaxis": {
            "backgroundcolor": "#E5ECF6",
            "gridcolor": "white",
            "gridwidth": 2,
            "linecolor": "white",
            "showbackground": true,
            "ticks": "",
            "zerolinecolor": "white"
           },
           "zaxis": {
            "backgroundcolor": "#E5ECF6",
            "gridcolor": "white",
            "gridwidth": 2,
            "linecolor": "white",
            "showbackground": true,
            "ticks": "",
            "zerolinecolor": "white"
           }
          },
          "shapedefaults": {
           "line": {
            "color": "#2a3f5f"
           }
          },
          "ternary": {
           "aaxis": {
            "gridcolor": "white",
            "linecolor": "white",
            "ticks": ""
           },
           "baxis": {
            "gridcolor": "white",
            "linecolor": "white",
            "ticks": ""
           },
           "bgcolor": "#E5ECF6",
           "caxis": {
            "gridcolor": "white",
            "linecolor": "white",
            "ticks": ""
           }
          },
          "title": {
           "x": 0.05
          },
          "xaxis": {
           "automargin": true,
           "gridcolor": "white",
           "linecolor": "white",
           "ticks": "",
           "title": {
            "standoff": 15
           },
           "zerolinecolor": "white",
           "zerolinewidth": 2
          },
          "yaxis": {
           "automargin": true,
           "gridcolor": "white",
           "linecolor": "white",
           "ticks": "",
           "title": {
            "standoff": 15
           },
           "zerolinecolor": "white",
           "zerolinewidth": 2
          }
         }
        }
       }
      }
     },
     "metadata": {},
     "output_type": "display_data"
    }
   ],
   "source": [
    "import plotly.graph_objects as go\n",
    "\n",
    "\n",
    "fig = go.Figure()\n",
    "\n",
    "fig.add_trace(go.Histogram(histfunc=\"count\", y=percentages['eng_equivalent'], x=percentages['eng_equivalent'], name=\"English equivalent translation prompt\"))\n",
    "fig.add_trace(go.Histogram(histfunc=\"count\", y=percentages['eng_literal'], x=percentages['eng_literal'], name=\"English literal translation prompt\"))\n",
    "fig.show()"
   ]
  },
  {
   "cell_type": "code",
   "execution_count": 22,
   "metadata": {},
   "outputs": [
    {
     "name": "stdout",
     "output_type": "stream",
     "text": [
      "[(2, 'Mind your own business.', 'Putting the cart before the horse.', 0.21283793449401855), (3, 'The guilty dog barks the loudest.', 'The burnt child dreads the fire.', 0.4511890411376953), (4, 'He came to put kohl on her eyes.', 'Adding insult to injury.', 0.3413271903991699), (5, 'Empty vessels make the most noise.', 'Money talks.', 0.34882205724716187), (6, 'Speak well of your friend in public, but scold him in private.', 'Praise in public, criticize in private.', 0.7533799409866333), (7, 'Out of sight, out of mind.', 'Turning the blind eye.', 0.7438268661499023), (8, 'Mind your own business.', 'Turn the blind eye.', 0.6611579656600952), (9, 'The shoe only pinches the foot that wears it.', 'You never know a man until you walk a mile in his shoes.', 0.27362245321273804), (10, 'Mind your own beeswax.', 'breaking it down Barney style.', 0.542159914970398), (11, 'The crown needs a head.', 'It rains on the rich and poor alike.', 0.27181994915008545), (12, 'A shot in the dark.', 'Measure twice, cut once.', 0.2620789408683777), (13, 'If you want honey, be prepared to deal with bees.', 'No pain, no gain.', 0.11519528925418854), (14, 'The funeral is grand, but the deceased is a mouse.', 'Making a mountain out of a molehill.', 0.1549321711063385), (15, \"They said you're bitter, he said they've tasted you.\", 'fool me once shame on you, fool me twice shame on me.', 0.6349323987960815), (16, 'Familiarity breeds contempt.', 'Old habits die hard.', 0.583129346370697), (17, 'He who digs a pit will fall into it.', 'They dug their own grave.', 0.6028622388839722), (18, 'People will be people.', \"He's spinning his wheels.\", 0.5091447830200195), (19, 'A marriage planned in haste will end in waste.', \"Rome wasn't built in a day.\", 0.4322909116744995), (20, 'A wise man changes his mind, a fool never will.', \"Don't judge a book by its cover.\", 0.5245587825775146), (21, \"Tell me who your friends are, and I'll tell you who you are.\", \"You're known by the company you keep.\", 0.5765553712844849), (22, 'A closed mouth catches no flies.', 'Silence is golden.', 0.6059939861297607)]\n",
      "[(2, 'Mind your own business.', 'Putting the cart before the horse.', 0.21283793449401855), (3, 'The guilty dog barks the loudest.', 'The burnt child dreads the fire.', 0.4511890411376953), (4, 'He came to put kohl on her eyes.', 'Adding insult to injury.', 0.3413271903991699), (5, 'Empty vessels make the most noise.', 'Money talks.', 0.34882205724716187), (9, 'The shoe only pinches the foot that wears it.', 'You never know a man until you walk a mile in his shoes.', 0.27362245321273804), (10, 'Mind your own beeswax.', 'breaking it down Barney style.', 0.542159914970398), (11, 'The crown needs a head.', 'It rains on the rich and poor alike.', 0.27181994915008545), (12, 'A shot in the dark.', 'Measure twice, cut once.', 0.2620789408683777), (13, 'If you want honey, be prepared to deal with bees.', 'No pain, no gain.', 0.11519528925418854), (14, 'The funeral is grand, but the deceased is a mouse.', 'Making a mountain out of a molehill.', 0.1549321711063385), (16, 'Familiarity breeds contempt.', 'Old habits die hard.', 0.583129346370697), (18, 'People will be people.', \"He's spinning his wheels.\", 0.5091447830200195), (19, 'A marriage planned in haste will end in waste.', \"Rome wasn't built in a day.\", 0.4322909116744995), (20, 'A wise man changes his mind, a fool never will.', \"Don't judge a book by its cover.\", 0.5245587825775146), (21, \"Tell me who your friends are, and I'll tell you who you are.\", \"You're known by the company you keep.\", 0.5765553712844849)]\n"
     ]
    }
   ],
   "source": [
    "print(eng_similarities_eq)\n",
    "threshold = 0.6\n",
    "\n",
    "filtered_elements = [element for element in eng_similarities_eq if element[3] <= threshold]\n",
    "print(filtered_elements)\n"
   ]
  },
  {
   "cell_type": "markdown",
   "metadata": {},
   "source": [
    "# The whole set"
   ]
  },
  {
   "cell_type": "code",
   "execution_count": 4,
   "metadata": {},
   "outputs": [
    {
     "name": "stdout",
     "output_type": "stream",
     "text": [
      "Index(['literal', 'equivalent', 'darija_ar'], dtype='object')\n"
     ]
    }
   ],
   "source": [
    "import pandas as pd\n",
    "data = pd.read_csv('original.csv')"
   ]
  },
  {
   "cell_type": "code",
   "execution_count": 6,
   "metadata": {},
   "outputs": [],
   "source": [
    "data['eng_equivalent'] = data['darija_ar'].apply(eng_equivalent)\n",
    "data['eng_literal'] = data['darija_ar'].apply(eng_literal)\n",
    "data['darija_equivalent'] = data['darija_ar'].apply(darija_equivalent)\n",
    "data['darija_literal'] = data['darija_ar'].apply(darija_literal)"
   ]
  },
  {
   "cell_type": "code",
   "execution_count": 7,
   "metadata": {},
   "outputs": [],
   "source": [
    "data.to_csv('original.csv', index=False)"
   ]
  },
  {
   "cell_type": "code",
   "execution_count": 23,
   "metadata": {},
   "outputs": [
    {
     "name": "stderr",
     "output_type": "stream",
     "text": [
      "c:\\Users\\yassi\\AppData\\Local\\Programs\\Python\\Python311\\Lib\\site-packages\\huggingface_hub\\file_download.py:1132: FutureWarning:\n",
      "\n",
      "`resume_download` is deprecated and will be removed in version 1.0.0. Downloads always resume when possible. If you want to force a new download, use `force_download=True`.\n",
      "\n"
     ]
    },
    {
     "data": {
      "text/html": [
       "<div>\n",
       "<style scoped>\n",
       "    .dataframe tbody tr th:only-of-type {\n",
       "        vertical-align: middle;\n",
       "    }\n",
       "\n",
       "    .dataframe tbody tr th {\n",
       "        vertical-align: top;\n",
       "    }\n",
       "\n",
       "    .dataframe thead th {\n",
       "        text-align: right;\n",
       "    }\n",
       "</style>\n",
       "<table border=\"1\" class=\"dataframe\">\n",
       "  <thead>\n",
       "    <tr style=\"text-align: right;\">\n",
       "      <th></th>\n",
       "      <th>eng_equivalent</th>\n",
       "      <th>eng_literal</th>\n",
       "      <th>darija_equivalent</th>\n",
       "      <th>darija_literal</th>\n",
       "    </tr>\n",
       "  </thead>\n",
       "  <tbody>\n",
       "    <tr>\n",
       "      <th>count</th>\n",
       "      <td>35.000000</td>\n",
       "      <td>35.000000</td>\n",
       "      <td>35.000000</td>\n",
       "      <td>35.000000</td>\n",
       "    </tr>\n",
       "    <tr>\n",
       "      <th>mean</th>\n",
       "      <td>0.361350</td>\n",
       "      <td>0.684603</td>\n",
       "      <td>0.379110</td>\n",
       "      <td>0.521881</td>\n",
       "    </tr>\n",
       "    <tr>\n",
       "      <th>std</th>\n",
       "      <td>0.210571</td>\n",
       "      <td>0.188713</td>\n",
       "      <td>0.166336</td>\n",
       "      <td>0.235818</td>\n",
       "    </tr>\n",
       "    <tr>\n",
       "      <th>min</th>\n",
       "      <td>0.068562</td>\n",
       "      <td>0.207160</td>\n",
       "      <td>0.115195</td>\n",
       "      <td>0.202324</td>\n",
       "    </tr>\n",
       "    <tr>\n",
       "      <th>25%</th>\n",
       "      <td>0.185478</td>\n",
       "      <td>0.550585</td>\n",
       "      <td>0.251092</td>\n",
       "      <td>0.288982</td>\n",
       "    </tr>\n",
       "    <tr>\n",
       "      <th>50%</th>\n",
       "      <td>0.332063</td>\n",
       "      <td>0.725798</td>\n",
       "      <td>0.368509</td>\n",
       "      <td>0.505402</td>\n",
       "    </tr>\n",
       "    <tr>\n",
       "      <th>75%</th>\n",
       "      <td>0.498739</td>\n",
       "      <td>0.818048</td>\n",
       "      <td>0.469667</td>\n",
       "      <td>0.727899</td>\n",
       "    </tr>\n",
       "    <tr>\n",
       "      <th>max</th>\n",
       "      <td>0.860649</td>\n",
       "      <td>0.939632</td>\n",
       "      <td>0.806552</td>\n",
       "      <td>0.889043</td>\n",
       "    </tr>\n",
       "  </tbody>\n",
       "</table>\n",
       "</div>"
      ],
      "text/plain": [
       "       eng_equivalent  eng_literal  darija_equivalent  darija_literal\n",
       "count       35.000000    35.000000          35.000000       35.000000\n",
       "mean         0.361350     0.684603           0.379110        0.521881\n",
       "std          0.210571     0.188713           0.166336        0.235818\n",
       "min          0.068562     0.207160           0.115195        0.202324\n",
       "25%          0.185478     0.550585           0.251092        0.288982\n",
       "50%          0.332063     0.725798           0.368509        0.505402\n",
       "75%          0.498739     0.818048           0.469667        0.727899\n",
       "max          0.860649     0.939632           0.806552        0.889043"
      ]
     },
     "execution_count": 23,
     "metadata": {},
     "output_type": "execute_result"
    }
   ],
   "source": [
    "from sentence_transformers import SentenceTransformer, util\n",
    "import plotly.graph_objects as go\n",
    "\n",
    "data = pd.read_csv('original.csv')\n",
    "\n",
    "model_name = 'bert-base-nli-mean-tokens'\n",
    "model = SentenceTransformer(model_name)\n",
    "\n",
    "\n",
    "def evaluate_pairs(transl, eng):\n",
    "    results = []\n",
    "    for i in range(len(transl)):\n",
    "        sentence1, sentence2 = transl[i], eng[i]\n",
    "        embedding1 = model.encode(sentence1, convert_to_tensor=True)\n",
    "        embedding2 = model.encode(sentence2, convert_to_tensor=True)\n",
    "        similarity = util.pytorch_cos_sim(embedding1, embedding2).item()\n",
    "        results.append((i+2, sentence1, sentence2, similarity))\n",
    "\n",
    "    return results\n",
    "\n",
    "eng_equivalent = data['eng_equivalent']\n",
    "eng_literal = data['eng_literal']\n",
    "darija_equivalent =  data['darija_equivalent']\n",
    "darija_literal =  data['darija_equivalent']\n",
    "\n",
    "equivalent = data['equivalent']\n",
    "literal = data['literal']\n",
    "\n",
    "eng_similarities_eq = evaluate_pairs(eng_equivalent, equivalent)\n",
    "eng_percentages_eq = [result[3] for result in eng_similarities_eq]\n",
    "\n",
    "eng_similarities_lit = evaluate_pairs(eng_literal, literal)\n",
    "eng_percentages_lit = [result[3] for result in eng_similarities_lit]\n",
    "\n",
    "darija_similarities_eq = evaluate_pairs(darija_equivalent, equivalent)\n",
    "darija_percentages_eq = [result[3] for result in darija_similarities_eq]\n",
    "\n",
    "darija_similarities_lit = evaluate_pairs(darija_literal, literal)\n",
    "darija_percentages_lit= [result[3] for result in darija_similarities_lit]\n",
    "\n",
    "percentages = pd.DataFrame()\n",
    "percentages['eng_equivalent'] = eng_percentages_eq\n",
    "percentages['eng_literal'] = eng_percentages_lit\n",
    "percentages['darija_equivalent'] = darija_percentages_eq\n",
    "percentages['darija_literal'] = darija_percentages_lit\n",
    "\n",
    "percentages.describe()\n"
   ]
  },
  {
   "cell_type": "code",
   "execution_count": 24,
   "metadata": {},
   "outputs": [
    {
     "data": {
      "application/vnd.plotly.v1+json": {
       "config": {
        "plotlyServerURL": "https://plot.ly"
       },
       "data": [
        {
         "name": "English equivalent translation prompt",
         "type": "box",
         "y": [
          0.21283793449401855,
          0.4511890411376953,
          0.3413271903991699,
          0.34882205724716187,
          0.8606492280960083,
          0.7438268661499023,
          0.6611579656600952,
          0.42095357179641724,
          0.542159914970398,
          0.27181994915008545,
          0.2620789408683777,
          0.11519528925418854,
          0.1549321711063385,
          0.651084840297699,
          0.583129346370697,
          0.6028622388839722,
          0.32844674587249756,
          0.17424127459526062,
          0.32126563787460327,
          0.08387848734855652,
          0.6059939861297607,
          0.06856164336204529,
          0.11415231972932816,
          0.07054528594017029,
          0.455318808555603,
          0.6467329263687134,
          0.40678226947784424,
          0.42776060104370117,
          0.2148500680923462,
          0.16648827493190765,
          0.36850881576538086,
          0.19671443104743958,
          0.3004443943500519,
          0.3320629894733429,
          0.1404789388179779
         ]
        },
        {
         "name": "English literal translation prompt",
         "type": "box",
         "y": [
          0.9396321773529053,
          0.6203473806381226,
          0.5110827684402466,
          0.7669569253921509,
          0.8425660729408264,
          0.8161782026290894,
          0.7250305414199829,
          0.5663857460021973,
          0.2071598917245865,
          0.4240679442882538,
          0.5126977562904358,
          0.8711893558502197,
          0.8468318581581116,
          0.7892725467681885,
          0.6992908716201782,
          0.8417866230010986,
          0.27325838804244995,
          0.6529446244239807,
          0.7704653143882751,
          0.8114896416664124,
          0.7257977724075317,
          0.8064022660255432,
          0.8650668859481812,
          0.9049745798110962,
          0.6540650129318237,
          0.9311807751655579,
          0.3953515589237213,
          0.4673469066619873,
          0.8199169635772705,
          0.6695101261138916,
          0.8021025061607361,
          0.8094427585601807,
          0.42031073570251465,
          0.5347843170166016,
          0.6662271022796631
         ]
        },
        {
         "name": "Darija equivalent translation prompt",
         "type": "box",
         "y": [
          0.21283793449401855,
          0.34861552715301514,
          0.36304980516433716,
          0.34882205724716187,
          0.8065515756607056,
          0.7438268661499023,
          0.44899025559425354,
          0.2878786325454712,
          0.5366819500923157,
          0.13908104598522186,
          0.4441462755203247,
          0.11519528925418854,
          0.15968197584152222,
          0.5839316844940186,
          0.48672205209732056,
          0.6028622388839722,
          0.478758841753006,
          0.17424127459526062,
          0.19181130826473236,
          0.2475731372833252,
          0.6059939861297607,
          0.176256000995636,
          0.28170737624168396,
          0.382408082485199,
          0.4803728461265564,
          0.40634018182754517,
          0.40678226947784424,
          0.3643176853656769,
          0.2148500680923462,
          0.3701269030570984,
          0.36850881576538086,
          0.46057572960853577,
          0.44268089532852173,
          0.3320629894733429,
          0.2546111047267914
         ]
        },
        {
         "name": "Darija literal translation prompt",
         "type": "box",
         "y": [
          0.20232437551021576,
          0.3062644600868225,
          0.34076106548309326,
          0.6219136714935303,
          0.8744053840637207,
          0.7105792760848999,
          0.4963266849517822,
          0.758112907409668,
          0.2170221358537674,
          0.26109930872917175,
          0.5091691017150879,
          0.8890426158905029,
          0.8468318581581116,
          0.6337459087371826,
          0.23239953815937042,
          0.8282032012939453,
          0.26536431908607483,
          0.4749167561531067,
          0.8729857802391052,
          0.7564305067062378,
          0.7007281184196472,
          0.2997434139251709,
          0.6826835870742798,
          0.7162043452262878,
          0.505402147769928,
          0.5433052778244019,
          0.22937680780887604,
          0.33629462122917175,
          0.8127862215042114,
          0.40939226746559143,
          0.4522716701030731,
          0.20653018355369568,
          0.25540128350257874,
          0.2782204747200012,
          0.7395941615104675
         ]
        }
       ],
       "layout": {
        "boxmode": "group",
        "template": {
         "data": {
          "bar": [
           {
            "error_x": {
             "color": "#2a3f5f"
            },
            "error_y": {
             "color": "#2a3f5f"
            },
            "marker": {
             "line": {
              "color": "#E5ECF6",
              "width": 0.5
             },
             "pattern": {
              "fillmode": "overlay",
              "size": 10,
              "solidity": 0.2
             }
            },
            "type": "bar"
           }
          ],
          "barpolar": [
           {
            "marker": {
             "line": {
              "color": "#E5ECF6",
              "width": 0.5
             },
             "pattern": {
              "fillmode": "overlay",
              "size": 10,
              "solidity": 0.2
             }
            },
            "type": "barpolar"
           }
          ],
          "carpet": [
           {
            "aaxis": {
             "endlinecolor": "#2a3f5f",
             "gridcolor": "white",
             "linecolor": "white",
             "minorgridcolor": "white",
             "startlinecolor": "#2a3f5f"
            },
            "baxis": {
             "endlinecolor": "#2a3f5f",
             "gridcolor": "white",
             "linecolor": "white",
             "minorgridcolor": "white",
             "startlinecolor": "#2a3f5f"
            },
            "type": "carpet"
           }
          ],
          "choropleth": [
           {
            "colorbar": {
             "outlinewidth": 0,
             "ticks": ""
            },
            "type": "choropleth"
           }
          ],
          "contour": [
           {
            "colorbar": {
             "outlinewidth": 0,
             "ticks": ""
            },
            "colorscale": [
             [
              0,
              "#0d0887"
             ],
             [
              0.1111111111111111,
              "#46039f"
             ],
             [
              0.2222222222222222,
              "#7201a8"
             ],
             [
              0.3333333333333333,
              "#9c179e"
             ],
             [
              0.4444444444444444,
              "#bd3786"
             ],
             [
              0.5555555555555556,
              "#d8576b"
             ],
             [
              0.6666666666666666,
              "#ed7953"
             ],
             [
              0.7777777777777778,
              "#fb9f3a"
             ],
             [
              0.8888888888888888,
              "#fdca26"
             ],
             [
              1,
              "#f0f921"
             ]
            ],
            "type": "contour"
           }
          ],
          "contourcarpet": [
           {
            "colorbar": {
             "outlinewidth": 0,
             "ticks": ""
            },
            "type": "contourcarpet"
           }
          ],
          "heatmap": [
           {
            "colorbar": {
             "outlinewidth": 0,
             "ticks": ""
            },
            "colorscale": [
             [
              0,
              "#0d0887"
             ],
             [
              0.1111111111111111,
              "#46039f"
             ],
             [
              0.2222222222222222,
              "#7201a8"
             ],
             [
              0.3333333333333333,
              "#9c179e"
             ],
             [
              0.4444444444444444,
              "#bd3786"
             ],
             [
              0.5555555555555556,
              "#d8576b"
             ],
             [
              0.6666666666666666,
              "#ed7953"
             ],
             [
              0.7777777777777778,
              "#fb9f3a"
             ],
             [
              0.8888888888888888,
              "#fdca26"
             ],
             [
              1,
              "#f0f921"
             ]
            ],
            "type": "heatmap"
           }
          ],
          "heatmapgl": [
           {
            "colorbar": {
             "outlinewidth": 0,
             "ticks": ""
            },
            "colorscale": [
             [
              0,
              "#0d0887"
             ],
             [
              0.1111111111111111,
              "#46039f"
             ],
             [
              0.2222222222222222,
              "#7201a8"
             ],
             [
              0.3333333333333333,
              "#9c179e"
             ],
             [
              0.4444444444444444,
              "#bd3786"
             ],
             [
              0.5555555555555556,
              "#d8576b"
             ],
             [
              0.6666666666666666,
              "#ed7953"
             ],
             [
              0.7777777777777778,
              "#fb9f3a"
             ],
             [
              0.8888888888888888,
              "#fdca26"
             ],
             [
              1,
              "#f0f921"
             ]
            ],
            "type": "heatmapgl"
           }
          ],
          "histogram": [
           {
            "marker": {
             "pattern": {
              "fillmode": "overlay",
              "size": 10,
              "solidity": 0.2
             }
            },
            "type": "histogram"
           }
          ],
          "histogram2d": [
           {
            "colorbar": {
             "outlinewidth": 0,
             "ticks": ""
            },
            "colorscale": [
             [
              0,
              "#0d0887"
             ],
             [
              0.1111111111111111,
              "#46039f"
             ],
             [
              0.2222222222222222,
              "#7201a8"
             ],
             [
              0.3333333333333333,
              "#9c179e"
             ],
             [
              0.4444444444444444,
              "#bd3786"
             ],
             [
              0.5555555555555556,
              "#d8576b"
             ],
             [
              0.6666666666666666,
              "#ed7953"
             ],
             [
              0.7777777777777778,
              "#fb9f3a"
             ],
             [
              0.8888888888888888,
              "#fdca26"
             ],
             [
              1,
              "#f0f921"
             ]
            ],
            "type": "histogram2d"
           }
          ],
          "histogram2dcontour": [
           {
            "colorbar": {
             "outlinewidth": 0,
             "ticks": ""
            },
            "colorscale": [
             [
              0,
              "#0d0887"
             ],
             [
              0.1111111111111111,
              "#46039f"
             ],
             [
              0.2222222222222222,
              "#7201a8"
             ],
             [
              0.3333333333333333,
              "#9c179e"
             ],
             [
              0.4444444444444444,
              "#bd3786"
             ],
             [
              0.5555555555555556,
              "#d8576b"
             ],
             [
              0.6666666666666666,
              "#ed7953"
             ],
             [
              0.7777777777777778,
              "#fb9f3a"
             ],
             [
              0.8888888888888888,
              "#fdca26"
             ],
             [
              1,
              "#f0f921"
             ]
            ],
            "type": "histogram2dcontour"
           }
          ],
          "mesh3d": [
           {
            "colorbar": {
             "outlinewidth": 0,
             "ticks": ""
            },
            "type": "mesh3d"
           }
          ],
          "parcoords": [
           {
            "line": {
             "colorbar": {
              "outlinewidth": 0,
              "ticks": ""
             }
            },
            "type": "parcoords"
           }
          ],
          "pie": [
           {
            "automargin": true,
            "type": "pie"
           }
          ],
          "scatter": [
           {
            "fillpattern": {
             "fillmode": "overlay",
             "size": 10,
             "solidity": 0.2
            },
            "type": "scatter"
           }
          ],
          "scatter3d": [
           {
            "line": {
             "colorbar": {
              "outlinewidth": 0,
              "ticks": ""
             }
            },
            "marker": {
             "colorbar": {
              "outlinewidth": 0,
              "ticks": ""
             }
            },
            "type": "scatter3d"
           }
          ],
          "scattercarpet": [
           {
            "marker": {
             "colorbar": {
              "outlinewidth": 0,
              "ticks": ""
             }
            },
            "type": "scattercarpet"
           }
          ],
          "scattergeo": [
           {
            "marker": {
             "colorbar": {
              "outlinewidth": 0,
              "ticks": ""
             }
            },
            "type": "scattergeo"
           }
          ],
          "scattergl": [
           {
            "marker": {
             "colorbar": {
              "outlinewidth": 0,
              "ticks": ""
             }
            },
            "type": "scattergl"
           }
          ],
          "scattermapbox": [
           {
            "marker": {
             "colorbar": {
              "outlinewidth": 0,
              "ticks": ""
             }
            },
            "type": "scattermapbox"
           }
          ],
          "scatterpolar": [
           {
            "marker": {
             "colorbar": {
              "outlinewidth": 0,
              "ticks": ""
             }
            },
            "type": "scatterpolar"
           }
          ],
          "scatterpolargl": [
           {
            "marker": {
             "colorbar": {
              "outlinewidth": 0,
              "ticks": ""
             }
            },
            "type": "scatterpolargl"
           }
          ],
          "scatterternary": [
           {
            "marker": {
             "colorbar": {
              "outlinewidth": 0,
              "ticks": ""
             }
            },
            "type": "scatterternary"
           }
          ],
          "surface": [
           {
            "colorbar": {
             "outlinewidth": 0,
             "ticks": ""
            },
            "colorscale": [
             [
              0,
              "#0d0887"
             ],
             [
              0.1111111111111111,
              "#46039f"
             ],
             [
              0.2222222222222222,
              "#7201a8"
             ],
             [
              0.3333333333333333,
              "#9c179e"
             ],
             [
              0.4444444444444444,
              "#bd3786"
             ],
             [
              0.5555555555555556,
              "#d8576b"
             ],
             [
              0.6666666666666666,
              "#ed7953"
             ],
             [
              0.7777777777777778,
              "#fb9f3a"
             ],
             [
              0.8888888888888888,
              "#fdca26"
             ],
             [
              1,
              "#f0f921"
             ]
            ],
            "type": "surface"
           }
          ],
          "table": [
           {
            "cells": {
             "fill": {
              "color": "#EBF0F8"
             },
             "line": {
              "color": "white"
             }
            },
            "header": {
             "fill": {
              "color": "#C8D4E3"
             },
             "line": {
              "color": "white"
             }
            },
            "type": "table"
           }
          ]
         },
         "layout": {
          "annotationdefaults": {
           "arrowcolor": "#2a3f5f",
           "arrowhead": 0,
           "arrowwidth": 1
          },
          "autotypenumbers": "strict",
          "coloraxis": {
           "colorbar": {
            "outlinewidth": 0,
            "ticks": ""
           }
          },
          "colorscale": {
           "diverging": [
            [
             0,
             "#8e0152"
            ],
            [
             0.1,
             "#c51b7d"
            ],
            [
             0.2,
             "#de77ae"
            ],
            [
             0.3,
             "#f1b6da"
            ],
            [
             0.4,
             "#fde0ef"
            ],
            [
             0.5,
             "#f7f7f7"
            ],
            [
             0.6,
             "#e6f5d0"
            ],
            [
             0.7,
             "#b8e186"
            ],
            [
             0.8,
             "#7fbc41"
            ],
            [
             0.9,
             "#4d9221"
            ],
            [
             1,
             "#276419"
            ]
           ],
           "sequential": [
            [
             0,
             "#0d0887"
            ],
            [
             0.1111111111111111,
             "#46039f"
            ],
            [
             0.2222222222222222,
             "#7201a8"
            ],
            [
             0.3333333333333333,
             "#9c179e"
            ],
            [
             0.4444444444444444,
             "#bd3786"
            ],
            [
             0.5555555555555556,
             "#d8576b"
            ],
            [
             0.6666666666666666,
             "#ed7953"
            ],
            [
             0.7777777777777778,
             "#fb9f3a"
            ],
            [
             0.8888888888888888,
             "#fdca26"
            ],
            [
             1,
             "#f0f921"
            ]
           ],
           "sequentialminus": [
            [
             0,
             "#0d0887"
            ],
            [
             0.1111111111111111,
             "#46039f"
            ],
            [
             0.2222222222222222,
             "#7201a8"
            ],
            [
             0.3333333333333333,
             "#9c179e"
            ],
            [
             0.4444444444444444,
             "#bd3786"
            ],
            [
             0.5555555555555556,
             "#d8576b"
            ],
            [
             0.6666666666666666,
             "#ed7953"
            ],
            [
             0.7777777777777778,
             "#fb9f3a"
            ],
            [
             0.8888888888888888,
             "#fdca26"
            ],
            [
             1,
             "#f0f921"
            ]
           ]
          },
          "colorway": [
           "#636efa",
           "#EF553B",
           "#00cc96",
           "#ab63fa",
           "#FFA15A",
           "#19d3f3",
           "#FF6692",
           "#B6E880",
           "#FF97FF",
           "#FECB52"
          ],
          "font": {
           "color": "#2a3f5f"
          },
          "geo": {
           "bgcolor": "white",
           "lakecolor": "white",
           "landcolor": "#E5ECF6",
           "showlakes": true,
           "showland": true,
           "subunitcolor": "white"
          },
          "hoverlabel": {
           "align": "left"
          },
          "hovermode": "closest",
          "mapbox": {
           "style": "light"
          },
          "paper_bgcolor": "white",
          "plot_bgcolor": "#E5ECF6",
          "polar": {
           "angularaxis": {
            "gridcolor": "white",
            "linecolor": "white",
            "ticks": ""
           },
           "bgcolor": "#E5ECF6",
           "radialaxis": {
            "gridcolor": "white",
            "linecolor": "white",
            "ticks": ""
           }
          },
          "scene": {
           "xaxis": {
            "backgroundcolor": "#E5ECF6",
            "gridcolor": "white",
            "gridwidth": 2,
            "linecolor": "white",
            "showbackground": true,
            "ticks": "",
            "zerolinecolor": "white"
           },
           "yaxis": {
            "backgroundcolor": "#E5ECF6",
            "gridcolor": "white",
            "gridwidth": 2,
            "linecolor": "white",
            "showbackground": true,
            "ticks": "",
            "zerolinecolor": "white"
           },
           "zaxis": {
            "backgroundcolor": "#E5ECF6",
            "gridcolor": "white",
            "gridwidth": 2,
            "linecolor": "white",
            "showbackground": true,
            "ticks": "",
            "zerolinecolor": "white"
           }
          },
          "shapedefaults": {
           "line": {
            "color": "#2a3f5f"
           }
          },
          "ternary": {
           "aaxis": {
            "gridcolor": "white",
            "linecolor": "white",
            "ticks": ""
           },
           "baxis": {
            "gridcolor": "white",
            "linecolor": "white",
            "ticks": ""
           },
           "bgcolor": "#E5ECF6",
           "caxis": {
            "gridcolor": "white",
            "linecolor": "white",
            "ticks": ""
           }
          },
          "title": {
           "x": 0.05
          },
          "xaxis": {
           "automargin": true,
           "gridcolor": "white",
           "linecolor": "white",
           "ticks": "",
           "title": {
            "standoff": 15
           },
           "zerolinecolor": "white",
           "zerolinewidth": 2
          },
          "yaxis": {
           "automargin": true,
           "gridcolor": "white",
           "linecolor": "white",
           "ticks": "",
           "title": {
            "standoff": 15
           },
           "zerolinecolor": "white",
           "zerolinewidth": 2
          }
         }
        },
        "title": {
         "text": "Box Plot of Similarity Scores for all the prompts."
        },
        "xaxis": {
         "title": {
          "text": "Prompt"
         }
        },
        "yaxis": {
         "title": {
          "text": "Similarity Score"
         }
        }
       }
      }
     },
     "metadata": {},
     "output_type": "display_data"
    }
   ],
   "source": [
    "import plotly.graph_objects as go\n",
    "fig = go.Figure()\n",
    "\n",
    "fig.add_trace(go.Box(y=percentages['eng_equivalent'], name='English equivalent translation prompt'))\n",
    "fig.add_trace(go.Box(y=percentages['eng_literal'], name='English literal translation prompt'))\n",
    "fig.add_trace(go.Box(y=percentages['darija_equivalent'], name='Darija equivalent translation prompt'))\n",
    "fig.add_trace(go.Box(y=percentages['darija_literal'], name='Darija literal translation prompt'))\n",
    "\n",
    "# Update layout\n",
    "fig.update_layout(\n",
    "    title='Box Plot of Similarity Scores for all the prompts.',\n",
    "    yaxis_title='Similarity Score',\n",
    "    xaxis_title='Prompt',\n",
    "    boxmode='group'  # group the box plots together\n",
    ")\n",
    "\n",
    "# Show plot\n",
    "fig.show()"
   ]
  },
  {
   "cell_type": "code",
   "execution_count": 32,
   "metadata": {},
   "outputs": [
    {
     "name": "stdout",
     "output_type": "stream",
     "text": [
      "                                            darija_ar  \\\n",
      "0      أش خاصك يا العريان, خاصني خاتم الذهب يا مولاي.   \n",
      "1                      اللي عضو الحنش كيخاف من الحبل.   \n",
      "2                       اللي ما عندو فلوس كلامو مسوس.   \n",
      "3             امدح صاحبك مع الناس ولومو الراس فالراس.   \n",
      "4                           دير عين شافت وعين ماشافت.   \n",
      "5                                       دير عين ميكا.   \n",
      "6                     اللي بغي لعسل يصبر لقريص النحل.   \n",
      "7                           الگنازة كبيرة والميت فار.   \n",
      "8                              قالو شمتك، قالو جربتك.   \n",
      "9                    اللي تربي على شي حاجة كبر عليها.   \n",
      "10                         لي حفر شي حفرة كيطيح فيها.   \n",
      "11                              زواج ليلة تدبيره عام.   \n",
      "12       الفقيه اللي نتسناو براكته دخل للجامع ببلغته.   \n",
      "13  اربط حمارك مع الحمير، يتعلم الشيق والنهيق وخرج...   \n",
      "14                        الفم المسدود ما يدخلو دبان.   \n",
      "15              طلع تاكول الكرموس, نزل شكون قالها ليك   \n",
      "16           ماديرش يدك في غيران باش مايعضوكش الحنوشة   \n",
      "17          ماديرش راسك في نخالة باش ماينقبوكش الدجاج   \n",
      "18                 دابزو يا الفيران على خميرة الجيران   \n",
      "19              اللي قال العصيدة باردة، ادير يدو فيها   \n",
      "20                         شحال من الفيل قرصاتوا عقرب   \n",
      "21                  الدنيا دراعة كل واحد كيلبسها ساعة   \n",
      "22                               الزين إلا زين الفعال   \n",
      "23                            الحمار مخبي ووذنيه برّا   \n",
      "24  الفقيه دحمان، قرا البرة سبع ايام، وقاليهم الخط...   \n",
      "\n",
      "                               equivalent translation  \\\n",
      "0                  Putting the cart before the horse.   \n",
      "1                    The burnt child dreads the fire.   \n",
      "2                                        Money talks.   \n",
      "3             Praise in public, criticize in private.   \n",
      "4                              Turning the blind eye.   \n",
      "5                                 Turn the blind eye.   \n",
      "6                                   No pain, no gain.   \n",
      "7                Making a mountain out of a molehill.   \n",
      "8   fool me once shame on you, fool me twice shame...   \n",
      "9                                Old habits die hard.   \n",
      "10                          They dug their own grave.   \n",
      "11                        Rome wasn't built in a day.   \n",
      "12                   Don't judge a book by its cover.   \n",
      "13              You're known by the company you keep.   \n",
      "14                                 Silence is golden.   \n",
      "15            Caught between a rock and a hard place.   \n",
      "16                             Practice common sense!   \n",
      "17                             Practice common sense!   \n",
      "18  Interfering in someone else's quarrel is like ...   \n",
      "19               Not seeing the forest for the trees.   \n",
      "20                   Don't judge a book by its cover.   \n",
      "21                                     Life is short.   \n",
      "22                             All beauty, no brains.   \n",
      "23                 You can't hide from your problems.   \n",
      "24    Refusing to admit fault for one's shortcomings.   \n",
      "\n",
      "                                  literal translation  \\\n",
      "0   You! The one naked, what do you need? I need a...   \n",
      "1             One bitten by a snake will fear a cord.   \n",
      "2   If one doesn't have money, their speech is tas...   \n",
      "3   Say nice things on your friend around others; ...   \n",
      "4          One eye saw and the other eye did not see.   \n",
      "5                      Put a plastic bag on your eye.   \n",
      "6   If one wants honey, they must endure the sting...   \n",
      "7                   A grand funeral for a dead mouse.   \n",
      "8   One said to the other I tricked you and the ot...   \n",
      "9   If you are raised with something you grow old ...   \n",
      "10                 One who dugs a hole fells into it.   \n",
      "11              A day's wedding is a year's planning.   \n",
      "12  The Fqih that we expect his blessing entered t...   \n",
      "13  Tie your donkey with other donkeys, it will on...   \n",
      "14                 Flies do not enter a closed mouth.   \n",
      "15  Come upstairs and have some figs, get downstai...   \n",
      "16  Don't stick your hand in holes in the ground s...   \n",
      "17  Don't put your face in bran if you don't want ...   \n",
      "18   The mice are fighting over the neighbor's yeast.   \n",
      "19  If one says the porridge is cold, put his hand...   \n",
      "20    So many elephants have been stung by scorpions.   \n",
      "21   The world is a shirt everyone wears for an hour.   \n",
      "22                 The beauty is only in the actions.   \n",
      "23  The donkey is hiding but his ears are sticking...   \n",
      "24  The jurist Dahman read the letter for seven da...   \n",
      "\n",
      "                                   prompt translation  similarity  \n",
      "0   What do you want, you naked one, give me the g...    0.939632  \n",
      "1   The one who stole the beehive is afraid of the...    0.620347  \n",
      "2   Whoever doesn't have money, their words are co...    0.766957  \n",
      "3   Praise your friend in front of people and blam...    0.842566  \n",
      "4   Put an eye that sees and an eye that doesn't see.    0.816178  \n",
      "5                                Put some eye makeup.    0.725031  \n",
      "6   Whoever wants honey should be patient for the ...    0.871189  \n",
      "7     The funeral is big and the deceased is a mouse.    0.846832  \n",
      "8   They said they mocked you, they said they trie...    0.789273  \n",
      "9   Whoever is raised on something will grow accus...    0.699291  \n",
      "10                 Who digs a hole will fall into it.    0.841787  \n",
      "11                 A wedding is planned in one night.    0.652945  \n",
      "12  The scholar we were waiting for entered the mo...    0.770465  \n",
      "13  Tie your donkey with the other donkeys, it wil...    0.811490  \n",
      "14               A closed mouth doesn't let flies in.    0.725798  \n",
      "15  Go up and eat the figs, come down who told you...    0.806402  \n",
      "16  Don't put your hand in the fire so it doesn't ...    0.865067  \n",
      "17  Don't put your head in the chaff so the chicke...    0.904975  \n",
      "18      The dogs are barking at the neighbors' dough.    0.654065  \n",
      "19  Who said the porridge is cold, put their hand ...    0.931181  \n",
      "20  How many times does an elephant get stung by a...    0.819917  \n",
      "21  The world is a sleeve, everyone wears it for a...    0.669510  \n",
      "22                    The good is only in doing good.    0.802103  \n",
      "23     The donkey is hiding and his ears are outside.    0.809443  \n",
      "24  The wise man, Dhahman, read the letter for sev...    0.666227  \n"
     ]
    }
   ],
   "source": [
    "threshold = 0.6\n",
    "filtered_elements = [element for element in eng_similarities_lit if element[3] >= threshold]\n",
    "\n",
    "# Create the DataFrame for_cot\n",
    "for_cot = pd.DataFrame({\n",
    "    'darija_ar': [data.loc[element[0]-2, 'darija_ar'] for element in filtered_elements],\n",
    "    'equivalent translation': [data.loc[element[0]-2, 'equivalent'] for element in filtered_elements],\n",
    "    'literal translation': [element[2] for element in filtered_elements],\n",
    "    'prompt translation': [element[1] for element in filtered_elements],\n",
    "    'similarity': [element[3] for element in filtered_elements]\n",
    "})\n",
    "\n",
    "# Output the for_cot DataFrame\n",
    "print(for_cot)"
   ]
  },
  {
   "cell_type": "code",
   "execution_count": 36,
   "metadata": {},
   "outputs": [],
   "source": [
    "for_cot.to_csv('id2.csv', index=False)"
   ]
  }
 ],
 "metadata": {
  "kernelspec": {
   "display_name": "Python 3",
   "language": "python",
   "name": "python3"
  },
  "language_info": {
   "codemirror_mode": {
    "name": "ipython",
    "version": 3
   },
   "file_extension": ".py",
   "mimetype": "text/x-python",
   "name": "python",
   "nbconvert_exporter": "python",
   "pygments_lexer": "ipython3",
   "version": "3.11.8"
  }
 },
 "nbformat": 4,
 "nbformat_minor": 2
}
