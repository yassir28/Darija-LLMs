{
 "cells": [
  {
   "cell_type": "markdown",
   "metadata": {},
   "source": [
    "id2: all those from English literal translation prompt that were comprehended.\n",
    "\n",
    "uniques : do not have an equivalent in Darija as an idiom\n",
    "\n",
    "id1, idioms: a part of idioms that are not unique\n",
    "\n",
    "original: all the idioms"
   ]
  },
  {
   "cell_type": "code",
   "execution_count": 1,
   "metadata": {},
   "outputs": [
    {
     "name": "stdout",
     "output_type": "stream",
     "text": [
      "Index(['literal_eng', 'equivalent_eng', 'darija_ar', 'explanation',\n",
      "       'Unnamed: 4'],\n",
      "      dtype='object')\n"
     ]
    }
   ],
   "source": [
    "from openai import OpenAI\n",
    "import pandas as pd\n",
    "client = OpenAI()\n",
    "\n",
    "df = pd.read_csv('id2.csv')\n",
    "def equivalent(id):\n",
    "    completion = client.chat.completions.create(\n",
    "        model=\"gpt-3.5-turbo\",\n",
    "        messages=[\n",
    "            {\"role\": \"system\", \"content\": \"You are an expert in Language translation from Moroccan Darija dialect to English. \" +\n",
    "            \"You will be provided with an idiom in Moroccan Darija dialect, \"+\n",
    "            \"and your task is to translate it into an equivalent idiom or construction in English with no explanations.\"},\n",
    "            {\"role\": \"user\", \"content\": \"طلع تاكول الكرموس, نزل شكون قالها ليك.\"},\n",
    "            {\"role\": \"assistant\", \"content\": \"Caught between a rock and a hard place.\"},\n",
    "            {\"role\": \"user\", \"content\":  f\"{id}\" }\n",
    "            ], \n",
    "        temperature=0\n",
    "        )\n",
    "    return completion.choices[0].message.content"
   ]
  },
  {
   "cell_type": "code",
   "execution_count": 4,
   "metadata": {},
   "outputs": [
    {
     "name": "stdout",
     "output_type": "stream",
     "text": [
      "['طلع تاكول الكرموس, نزل شكون قالها ليك.', 'أش خاصك يا العريان, خاصني خاتم الذهب يا مولاي.', 'ماديرش يدك في غيران باش مايعضوكش الحنوشة.', 'ماديرش راسك في نخالة باش ماينقبوكش الدجاج.', 'اللي عضو الحنش كيخاف من الحبل.', 'جا يكحلها عماها.', 'اللي ما عندو فلوس كلامو مسوس.', 'دابزو يا الفيران على خميرة الجيران.', 'امدح صاحبك مع الناس ولومو الراس فالراس.', 'دير عين شافت وعين ماشافت.', 'دير عين ميكا.', 'ما تيحس بالمزود غير اللي مخبوط به.', 'خصك معاهم الخشيبات.', 'الفقيه دحمان، قرا البرة سبع ايام، وقاليهم الخط عيان.', 'مول التاج كيحتاج.', 'مية تخميمة وتخميمة ولا ضربة بالمقص.', 'اللي بغي لعسل يصبر لقريص النحل.', 'الگنازة كبيرة والميت فار.', 'اللي قال العصيدة باردة، ادير يدو فيها.', 'ما يحكك اضهري غير ظفري.', 'قالو شمتك، قالو جربتك.', 'دوز على الواد الهرهوري ولا دوز على الواد السكوتي.', 'اللي تربي على شي حاجة كبر عليها.', 'لي حفر شي حفرة كيطيح فيها.', 'الناس في الناس والقرع في مشيط الراس.', 'شحال من الفيل قرصاتوا عقرب.', 'الدنيا دراعة كل واحد كيلبسها ساعة.', 'الزين إلا زين الفعال.', 'زواج ليلة تدبيره عام.', 'الفقيه اللي نتسناو براكته ادخل للجامع ببلغته.', 'اربط حمارك مع الحمير، يتعلم الشيق والنهيق وخرجان الطريق.', 'الحمار مخبي ووذنيه برّا.', 'فران وقاد بحومة.', 'الفم المسدود ما يدخلو دبان.', 'الدنيا شي عطاتو وشي زواتو.']\n"
     ]
    }
   ],
   "source": [
    "from sentence_transformers import SentenceTransformer, util\n",
    "import plotly.graph_objects as go\n",
    "\n",
    "data = pd.read_csv('id2.csv')\n",
    "\n",
    "model_name = 'bert-base-nli-mean-tokens'\n",
    "model = SentenceTransformer(model_name)\n",
    "\n",
    "\n",
    "def evaluate_pairs(transl, eng):\n",
    "    results = []\n",
    "    for i in range(len(transl)):\n",
    "        sentence1, sentence2 = transl[i], eng[i]\n",
    "        embedding1 = model.encode(sentence1, convert_to_tensor=True)\n",
    "        embedding2 = model.encode(sentence2, convert_to_tensor=True)\n",
    "        similarity = util.pytorch_cos_sim(embedding1, embedding2).item()\n",
    "        results.append((i+2, sentence1, sentence2, similarity))\n",
    "\n",
    "    return results\n",
    "\n",
    "eng_equivalent = data['eng_equivalent']\n",
    "eng_literal = data['eng_literal']\n",
    "darija_equivalent =  data['darija_equivalent']\n",
    "darija_literal =  data['darija_equivalent']\n",
    "\n",
    "equivalent = data['equivalent']\n",
    "literal = data['literal']\n",
    "\n",
    "eng_similarities_eq = evaluate_pairs(eng_equivalent, equivalent)\n",
    "eng_percentages_eq = [result[3] for result in eng_similarities_eq]\n",
    "\n",
    "eng_similarities_lit = evaluate_pairs(eng_literal, literal)\n",
    "eng_percentages_lit = [result[3] for result in eng_similarities_lit]\n",
    "\n",
    "darija_similarities_eq = evaluate_pairs(darija_equivalent, equivalent)\n",
    "darija_percentages_eq = [result[3] for result in darija_similarities_eq]\n",
    "\n",
    "darija_similarities_lit = evaluate_pairs(darija_literal, literal)\n",
    "darija_percentages_lit= [result[3] for result in darija_similarities_lit]\n",
    "\n",
    "percentages = pd.DataFrame()\n",
    "percentages['eng_equivalent'] = eng_percentages_eq\n",
    "percentages['eng_literal'] = eng_percentages_lit\n",
    "percentages['darija_equivalent'] = darija_percentages_eq\n",
    "percentages['darija_literal'] = darija_percentages_lit\n",
    "\n",
    "percentages.describe()\n"
   ]
  },
  {
   "cell_type": "code",
   "execution_count": null,
   "metadata": {},
   "outputs": [],
   "source": [
    "import plotly.graph_objects as go\n",
    "fig = go.Figure()\n",
    "\n",
    "fig.add_trace(go.Box(y=percentages['eng_equivalent'], name='English equivalent translation prompt'))\n",
    "fig.add_trace(go.Box(y=percentages['eng_literal'], name='English literal translation prompt'))\n",
    "fig.add_trace(go.Box(y=percentages['darija_equivalent'], name='Darija equivalent translation prompt'))\n",
    "fig.add_trace(go.Box(y=percentages['darija_literal'], name='Darija literal translation prompt'))\n",
    "\n",
    "# Update layout\n",
    "fig.update_layout(\n",
    "    title='Box Plot of Similarity Scores for all the prompts.',\n",
    "    yaxis_title='Similarity Score',\n",
    "    xaxis_title='Prompt',\n",
    "    boxmode='group'  # group the box plots together\n",
    ")\n",
    "# Show plot\n",
    "fig.show()"
   ]
  },
  {
   "cell_type": "code",
   "execution_count": 1,
   "metadata": {},
   "outputs": [],
   "source": [
    "from openai import OpenAI\n",
    "import pandas as pd\n",
    "\n",
    "client = OpenAI()\n",
    "\n",
    "df = pd.read_csv('id2.csv')\n",
    "\n",
    "def equivalent(id):\n",
    "    literal_completion = client.chat.completions.create(\n",
    "        model=\"gpt-3.5-turbo\",\n",
    "        messages=[\n",
    "            {\"role\": \"system\", \"content\": \"You are an expert in Language translation from Moroccan Darija dialect to English. \" +\n",
    "            \"You will be provided with a sentence in Moroccan Darija dialect, \"+\n",
    "            \"and your task is to translate it into an English sentence. \"+\n",
    "            \"The translation must be literal with no explanations.\"},\n",
    "            #{\"role\": \"assistant\", \"content\": \"OK, I understand. I am ready for the translation.\"},\n",
    "            {\"role\": \"user\", \"content\": \"طلع تاكول الكرموس, نزل شكون قالها ليك.\"},\n",
    "            {\"role\": \"assistant\", \"content\": \"Come upstairs and have some figs, get downstairs who told you so!\"},\n",
    "            {\"role\": \"user\", \"content\":  f\"{id}\" }\n",
    "        ], \n",
    "        temperature=0  # Deterministic responses\n",
    "    )\n",
    "    literal = literal_completion.choices[0].message.content\n",
    "\n",
    "    # Step 1: Conclude a possible explanation for the given Darija idiom\n",
    "    explanation_completion = client.chat.completions.create(\n",
    "        model=\"gpt-3.5-turbo\",\n",
    "        messages=[\n",
    "            {\"role\": \"system\", \"content\":\n",
    "            \"You will receive a literal English translation of a Moroccan Darija idiom, \"+\n",
    "            \"and your task is to determine its possible meaning.\"},\n",
    "            {\"role\": \"user\", \"content\": \"Come upstairs and have some figs, get downstairs who told you so!\"},\n",
    "            {\"role\": \"assistant\", \"content\": \"The idiom is about someone who's been told to do something but then he gets blamed after he does it.\"},\n",
    "\n",
    "            {\"role\": \"user\", \"content\": f\"{literal}\" }\n",
    "        ], \n",
    "        temperature=0  # Deterministic responses\n",
    "    )\n",
    "    explanation = explanation_completion.choices[0].message.content\n",
    "    \n",
    "    # Step 2: Give an equivalent idiom from the explanation\n",
    "    equivalent_completion = client.chat.completions.create(\n",
    "        model=\"gpt-3.5-turbo\",\n",
    "        messages=[\n",
    "            {\"role\": \"system\", \"content\":\n",
    "            \"You will be provided with an explanation of an idiom, \"+\n",
    "            \"and your task is to provide the equivalent English idiom or construction for it.\"},\n",
    "            {\"role\": \"user\", \"content\": \"The idiom is about someone who's been told to do something but then he gets blamed after he does it.\"},\n",
    "            {\"role\": \"assistant\", \"content\": \"Caught between a rock and a hard place\"},\n",
    "            {\"role\": \"user\", \"content\": f\"{explanation}\" }\n",
    "        ], \n",
    "        temperature=0  # Deterministic responses\n",
    "    )\n",
    "    equivalent_idiom = equivalent_completion.choices[0].message.content\n",
    "    \n",
    "    # Step 3: Revise output of the translation before outputting it\n",
    "    revision_completion = client.chat.completions.create(\n",
    "        model=\"gpt-3.5-turbo\",\n",
    "        messages=[\n",
    "            {\"role\": \"system\", \"content\":\n",
    "            \"You will receive a possible English idiom, \" +\n",
    "            \"and your task is to revise it for accuracy and appropriateness. \" +\n",
    "            \"If it fits as an idiom, keep it; if not, provide a suitable alternative.\"},\n",
    "            {\"role\": \"user\", \"content\": \"Caught between a rock and a hard place.\"},\n",
    "            {\"role\": \"assistant\", \"content\": \"Caught between a rock and a hard place.\"},\n",
    "            {\"role\": \"user\", \"content\": f\"{equivalent_idiom}\" }\n",
    "        ], \n",
    "        temperature=0  # Deterministic responses\n",
    "    )\n",
    "    revised_idiom = revision_completion.choices[0].message.content\n",
    "    \n",
    "    return literal, explanation,equivalent_idiom,revised_idiom\n",
    "\n",
    "# Example usage\n"
   ]
  },
  {
   "cell_type": "code",
   "execution_count": 5,
   "metadata": {},
   "outputs": [
    {
     "name": "stdout",
     "output_type": "stream",
     "text": [
      "Literal translation: What do you want, you naked one, give me the gold ring, sir.\n",
      "Its meaning: This idiom means that someone is asking for something unreasonable or impossible.\n",
      "equivalent in English: To ask for the moon\n",
      "Recheck: To ask for the moon\n"
     ]
    }
   ],
   "source": [
    "darija_idiom = \"أش خاصك يا العريان, خاصني خاتم الذهب يا مولاي.\"\n",
    "print(f\"Literal translation: {equivalent(darija_idiom)[0]}\")\n",
    "print(f\"Its meaning: {equivalent(darija_idiom)[1]}\")\n",
    "print(f\"equivalent in English: {equivalent(darija_idiom)[2]}\")\n",
    "print(f\"Recheck: {equivalent(darija_idiom)[3]}\")\n"
   ]
  },
  {
   "cell_type": "markdown",
   "metadata": {},
   "source": [
    "It's not systematic for multiple turns"
   ]
  }
 ],
 "metadata": {
  "kernelspec": {
   "display_name": "Python 3",
   "language": "python",
   "name": "python3"
  },
  "language_info": {
   "codemirror_mode": {
    "name": "ipython",
    "version": 3
   },
   "file_extension": ".py",
   "mimetype": "text/x-python",
   "name": "python",
   "nbconvert_exporter": "python",
   "pygments_lexer": "ipython3",
   "version": "3.11.8"
  }
 },
 "nbformat": 4,
 "nbformat_minor": 2
}
