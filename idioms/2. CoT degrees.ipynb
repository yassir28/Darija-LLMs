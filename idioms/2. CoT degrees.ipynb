{
 "cells": [
  {
   "cell_type": "code",
   "execution_count": 1,
   "metadata": {},
   "outputs": [
    {
     "name": "stdout",
     "output_type": "stream",
     "text": [
      "Index(['literal_eng', 'equivalent_eng', 'darija_ar', 'explanation',\n",
      "       'Unnamed: 4'],\n",
      "      dtype='object')\n"
     ]
    }
   ],
   "source": [
    "from openai import OpenAI\n",
    "import pandas as pd\n",
    "client = OpenAI()\n",
    "\n",
    "df = pd.read_csv('idioms.csv')\n",
    "def equivalent(id):\n",
    "    completion = client.chat.completions.create(\n",
    "        model=\"gpt-3.5-turbo\",\n",
    "        messages=[\n",
    "            {\"role\": \"system\", \"content\": \"You are an expert in Language translation from Moroccan Darija dialect to English. \" +\n",
    "            \"You will be provided with an idiom in Moroccan Darija dialect, \"+\n",
    "            \"and your task is to translate it into an equivalent idiom or construction in English with no explanations.\"},\n",
    "            #{\"role\": \"assistant\", \"content\": \"OK, I understand. I am ready for the translation.\"},\n",
    "            {\"role\": \"user\", \"content\": \"طلع تاكول الكرموس, نزل شكون قالها ليك.\"},\n",
    "            {\"role\": \"assistant\", \"content\": \"Caught between a rock and a hard place.\"},\n",
    "\n",
    "            {\"role\": \"user\", \"content\":  f\"{id}\" }\n",
    "            ], \n",
    "            #\n",
    "        temperature=0  # Deterministic responses\n",
    "        )\n",
    "    return completion.choices[0].message.content\n",
    "def literal(id):\n",
    "    completion = client.chat.completions.create(\n",
    "        model=\"gpt-3.5-turbo\",\n",
    "        messages=[\n",
    "            {\"role\": \"system\", \"content\": \"You are an expert in Language translation from Moroccan Darija dialect to English. \" +\n",
    "            \"You will be provided with a sentence in Moroccan Darija dialect, \"+\n",
    "            \"and your task is to translate it into English with no explanations.\"},\n",
    "            #{\"role\": \"assistant\", \"content\": \"OK, I understand. I am ready for the translation.\"},\n",
    "            {\"role\": \"user\", \"content\": \"طلع تاكول الكرموس, نزل شكون قالها ليك.\"},\n",
    "            {\"role\": \"assistant\", \"content\": \"Come upstairs and have some figs, get downstairs who told you so!\"},\n",
    "\n",
    "            {\"role\": \"user\", \"content\":  f\"{id}\" }\n",
    "            ], \n",
    "            #\n",
    "        temperature=0  # Deterministic responses\n",
    "        )\n",
    "    return completion.choices[0].message.content\n",
    "print(df.columns)"
   ]
  },
  {
   "cell_type": "code",
   "execution_count": 4,
   "metadata": {},
   "outputs": [
    {
     "name": "stdout",
     "output_type": "stream",
     "text": [
      "['طلع تاكول الكرموس, نزل شكون قالها ليك.', 'أش خاصك يا العريان, خاصني خاتم الذهب يا مولاي.', 'ماديرش يدك في غيران باش مايعضوكش الحنوشة.', 'ماديرش راسك في نخالة باش ماينقبوكش الدجاج.', 'اللي عضو الحنش كيخاف من الحبل.', 'جا يكحلها عماها.', 'اللي ما عندو فلوس كلامو مسوس.', 'دابزو يا الفيران على خميرة الجيران.', 'امدح صاحبك مع الناس ولومو الراس فالراس.', 'دير عين شافت وعين ماشافت.', 'دير عين ميكا.', 'ما تيحس بالمزود غير اللي مخبوط به.', 'خصك معاهم الخشيبات.', 'الفقيه دحمان، قرا البرة سبع ايام، وقاليهم الخط عيان.', 'مول التاج كيحتاج.', 'مية تخميمة وتخميمة ولا ضربة بالمقص.', 'اللي بغي لعسل يصبر لقريص النحل.', 'الگنازة كبيرة والميت فار.', 'اللي قال العصيدة باردة، ادير يدو فيها.', 'ما يحكك اضهري غير ظفري.', 'قالو شمتك، قالو جربتك.', 'دوز على الواد الهرهوري ولا دوز على الواد السكوتي.', 'اللي تربي على شي حاجة كبر عليها.', 'لي حفر شي حفرة كيطيح فيها.', 'الناس في الناس والقرع في مشيط الراس.', 'شحال من الفيل قرصاتوا عقرب.', 'الدنيا دراعة كل واحد كيلبسها ساعة.', 'الزين إلا زين الفعال.', 'زواج ليلة تدبيره عام.', 'الفقيه اللي نتسناو براكته ادخل للجامع ببلغته.', 'اربط حمارك مع الحمير، يتعلم الشيق والنهيق وخرجان الطريق.', 'الحمار مخبي ووذنيه برّا.', 'فران وقاد بحومة.', 'الفم المسدود ما يدخلو دبان.', 'الدنيا شي عطاتو وشي زواتو.']\n"
     ]
    }
   ],
   "source": [
    "print(df['darija_ar'].tolist())"
   ]
  }
 ],
 "metadata": {
  "kernelspec": {
   "display_name": "Python 3",
   "language": "python",
   "name": "python3"
  },
  "language_info": {
   "codemirror_mode": {
    "name": "ipython",
    "version": 3
   },
   "file_extension": ".py",
   "mimetype": "text/x-python",
   "name": "python",
   "nbconvert_exporter": "python",
   "pygments_lexer": "ipython3",
   "version": "3.11.8"
  }
 },
 "nbformat": 4,
 "nbformat_minor": 2
}
