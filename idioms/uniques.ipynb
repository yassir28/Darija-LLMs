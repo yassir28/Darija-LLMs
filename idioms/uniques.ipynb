{
 "cells": [
  {
   "cell_type": "markdown",
   "metadata": {},
   "source": [
    "This would be next level idioms. that dont have an equivalent in darija and we need to make the API make an equivalent for it giving some explanations and letting them know to give equivalent terms. There is a paper about this.\n"
   ]
  }
 ],
 "metadata": {
  "language_info": {
   "name": "python"
  }
 },
 "nbformat": 4,
 "nbformat_minor": 2
}
