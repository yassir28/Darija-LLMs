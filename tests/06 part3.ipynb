{
 "cells": [
  {
   "cell_type": "markdown",
   "metadata": {},
   "source": [
    "The upgrade:\n",
    "\n",
    "transliteration + arabic"
   ]
  },
  {
   "cell_type": "code",
   "execution_count": 3,
   "metadata": {},
   "outputs": [
    {
     "name": "stdout",
     "output_type": "stream",
     "text": [
      "0              eat\n",
      "1            drink\n",
      "2            enter\n",
      "3             exit\n",
      "4       understand\n",
      "           ...    \n",
      "1027        inform\n",
      "1028      turn off\n",
      "1029         smell\n",
      "1030         cheat\n",
      "1031          peel\n",
      "Name: transl, Length: 1032, dtype: object\n"
     ]
    }
   ],
   "source": [
    "from openai import OpenAI\n",
    "import pandas as pd\n",
    "client = OpenAI()\n",
    "#User: simulates what a user might say to the model: input from the user in a conversation.\n",
    "#Assistant: simulates the model's own responses.\n",
    "#System: System messages are used to give instructions or settings that affect the model's behavior. \n",
    "    #These messages can define the context, persona, or specific instructions that the model should follow throughout the interaction.\n",
    "\n",
    "df = pd.read_csv('verbs.csv')\n",
    "\n",
    "def translate_verb(arb, latin):\n",
    "    completion = client.chat.completions.create(\n",
    "        model=\"gpt-3.5-turbo\",\n",
    "        messages=[\n",
    "            {\"role\": \"system\", \"content\": \"You are an expert in Moroccan Darija dialect and in translating Darija to English.\" +\n",
    "             \"Purpose of the translation: To study the accuracy of LLMs on Darija,\" +\n",
    "             \"making sure to account for particular nuances of Darija such as diacritics, emphasis and articulation.\"+\n",
    "             \"Target audience: Darija Computational linguists.\"\n",
    "            },\n",
    "            {\"role\": \"user\", \"content\": \"Translate the provided Moroccan Darija dialect verb into English using word-by-word translation.\"             },\n",
    "            {\"role\": \"assistant\", \"content\": \"OK, I understand. I am ready for the verb translation.\"},\n",
    "            {\"role\": \"user\", \"content\": \"ولّا / wlla\"},\n",
    "            {\"role\": \"assistant\", \"content\": \"become\"},\n",
    "            {\"role\": \"user\", \"content\": \"ستدعا / sted3a\"},\n",
    "            {\"role\": \"assistant\", \"content\": \"summon\"},\n",
    "            {\"role\": \"user\", \"content\": \"با / ba\"},\n",
    "            {\"role\": \"assistant\", \"content\": \"want\"},\n",
    "            {\"role\": \"user\", \"content\": \"عنا / 3na\"},\n",
    "            {\"role\": \"assistant\", \"content\": \"mean\"},\n",
    "            {\"role\": \"user\", \"content\": \"شدّ / chdd\"},\n",
    "            {\"role\": \"assistant\", \"content\": \"hold\"},\n",
    "            {\"role\": \"user\", \"content\": \"غضب / ghdb\"},\n",
    "            {\"role\": \"assistant\", \"content\": \"anger\"},\n",
    "            {\"role\": \"user\", \"content\": \"دار / dar\"},\n",
    "            {\"role\": \"assistant\", \"content\": \"do\"},\n",
    "            {\"role\": \"user\", \"content\": \"عندو / 3ndo\"},\n",
    "            {\"role\": \"assistant\", \"content\": \"have\"},  \n",
    "            {\"role\": \"user\", \"content\": \"تسخسخ / tskhskh\"},\n",
    "            {\"role\": \"assistant\", \"content\": \"exhaust\"},\n",
    "            {\"role\": \"user\", \"content\": \"سلت / slt\"},\n",
    "            {\"role\": \"assistant\", \"content\": \"take off\"},\n",
    "            {\"role\": \"user\", \"content\": \"تاوا / ttawa\"},\n",
    "            {\"role\": \"assistant\", \"content\": \"bargain\"},\n",
    "            {\"role\": \"user\", \"content\": \"عام / 3am\"},\n",
    "            {\"role\": \"assistant\", \"content\": \"swim\"},\n",
    "            {\"role\": \"user\", \"content\": \"طلع / tl3\"},\n",
    "            {\"role\": \"assistant\", \"content\": \"ascend\"},\n",
    "            {\"role\": \"user\", \"content\": \"نقّص / n99eS\"},\n",
    "            {\"role\": \"assistant\", \"content\": \"reduce\"},\n",
    "            {\"role\": \"user\", \"content\": \"قاس / 9as\"},            \n",
    "            {\"role\": \"assistant\", \"content\": \"touch\"},\n",
    "            {\"role\": \"user\", \"content\":  f\"{arb} / {latin}\" }\n",
    "            ], \n",
    "            #\n",
    "        temperature=0.1  # Deterministic responses\n",
    "        )\n",
    "    return completion.choices[0].message.content\n",
    "\n",
    "df['transl'] = df.apply(lambda row: translate_verb(row['darija_ar'], row['n1']), axis=1)\n",
    "\n",
    "\n",
    "print(df[\"transl\"])"
   ]
  },
  {
   "cell_type": "markdown",
   "metadata": {},
   "source": [
    "# the combo of transliteration and arabic isnt as good."
   ]
  },
  {
   "cell_type": "markdown",
   "metadata": {},
   "source": [
    "Baseline query:"
   ]
  }
 ],
 "metadata": {
  "kernelspec": {
   "display_name": "Python 3",
   "language": "python",
   "name": "python3"
  },
  "language_info": {
   "codemirror_mode": {
    "name": "ipython",
    "version": 3
   },
   "file_extension": ".py",
   "mimetype": "text/x-python",
   "name": "python",
   "nbconvert_exporter": "python",
   "pygments_lexer": "ipython3",
   "version": "3.11.8"
  }
 },
 "nbformat": 4,
 "nbformat_minor": 2
}
