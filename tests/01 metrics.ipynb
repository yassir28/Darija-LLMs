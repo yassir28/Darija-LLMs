{
 "cells": [
  {
   "cell_type": "markdown",
   "metadata": {},
   "source": [
    "(1)"
   ]
  },
  {
   "cell_type": "code",
   "execution_count": 1,
   "metadata": {},
   "outputs": [
    {
     "name": "stdout",
     "output_type": "stream",
     "text": [
      "Synset('exit.v.01')\n",
      "Synset('go_out.v.02')\n",
      "Synset('go_out.v.03')\n",
      "Synset('go_out.v.04')\n",
      "Synset('go_out.v.05')\n",
      "Synset('go_steady.v.01')\n"
     ]
    }
   ],
   "source": [
    "from nltk.corpus import wordnet as wn\n",
    "\n",
    "synsets1 = wn.synsets('go_out', pos=wn.VERB)\n",
    "for synset in synsets1:\n",
    "    print(synset)"
   ]
  },
  {
   "cell_type": "code",
   "execution_count": 32,
   "metadata": {},
   "outputs": [
    {
     "name": "stdout",
     "output_type": "stream",
     "text": [
      "The maximum path similarity between 'coast' and 'shore' is: 0.5000\n",
      "The maximum path similarity between 'journey' and 'voyage' is: 0.5000\n",
      "The maximum path similarity between 'car' and 'automobile' is: 1.0000\n",
      "The maximum path similarity between 'python' and 'java' is: 0.0714\n",
      "The maximum path similarity between 'forest' and 'tree' is: 0.3333\n",
      "The maximum path similarity between 'love' and 'hate' is: 0.3333\n",
      "The maximum path similarity between 'boy' and 'girl' is: 0.2000\n"
     ]
    }
   ],
   "source": [
    "from nltk.corpus import wordnet as wn\n",
    "\n",
    "def max_path_similarity(word1, word2):\n",
    "    \"\"\"Calculate the maximum path similarity between two words.\"\"\"\n",
    "    synsets1 = wn.synsets(word1)\n",
    "    synsets2 = wn.synsets(word2)\n",
    "    max_score = 0\n",
    "    for syn1 in synsets1:\n",
    "        for syn2 in synsets2:\n",
    "            score = syn1.path_similarity(syn2)\n",
    "            if score and score > max_score:\n",
    "                max_score = score\n",
    "    return max_score\n",
    "\n",
    "# List of word pairs categorized by their expected similarity\n",
    "word_pairs = [\n",
    "    # Very high similarity - almost synonyms\n",
    "    (\"coast\", \"shore\"),\n",
    "    (\"journey\", \"voyage\"),\n",
    "    (\"car\", \"automobile\"),\n",
    "    \n",
    "    # Moderate to low similarity - part-whole relationship or closely similar concepts\n",
    "    (\"python\", \"java\"),\n",
    "    (\"forest\", \"tree\"),\n",
    "    \n",
    "    # Antonyms or distinct but related concepts\n",
    "    (\"love\", \"hate\"),\n",
    "    (\"boy\", \"girl\"),\n",
    "]\n",
    "\n",
    "# Calculate and print the path similarity for each pair\n",
    "for word1, word2 in word_pairs:\n",
    "    similarity = max_path_similarity(word1, word2)\n",
    "    print(f\"The maximum path similarity between '{word1}' and '{word2}' is: {similarity:.4f}\")\n"
   ]
  },
  {
   "cell_type": "markdown",
   "metadata": {},
   "source": [
    "#### Similarity looks right subjectively =>0.5\n",
    "#### >> instances from the verbs csv file"
   ]
  },
  {
   "cell_type": "code",
   "execution_count": 33,
   "metadata": {},
   "outputs": [
    {
     "name": "stdout",
     "output_type": "stream",
     "text": [
      "go out - exit: Similarity = 0.00, Similar = False\n",
      "understand - comprehend: Similarity = 0.50, Similar = True\n",
      "explain - clarify: Similarity = 0.50, Similar = True\n",
      "learn - study: Similarity = 1.00, Similar = True\n",
      "teach - instruct: Similarity = 1.00, Similar = True\n",
      "hear - listen: Similarity = 1.00, Similar = True\n",
      "see - observe: Similarity = 0.50, Similar = True\n",
      "smell - scent: Similarity = 1.00, Similar = True\n",
      "taste - flavor: Similarity = 0.50, Similar = True\n",
      "touch - feel: Similarity = 0.50, Similar = True\n",
      "go - move: Similarity = 1.00, Similar = True\n",
      "come - arrive: Similarity = 1.00, Similar = True\n",
      "ascend - rise: Similarity = 1.00, Similar = True\n",
      "go down - descend: Similarity = 0.00, Similar = False\n"
     ]
    },
    {
     "name": "stderr",
     "output_type": "stream",
     "text": [
      "[nltk_data] Downloading package wordnet to\n",
      "[nltk_data]     C:\\Users\\yassi\\AppData\\Roaming\\nltk_data...\n",
      "[nltk_data]   Package wordnet is already up-to-date!\n"
     ]
    }
   ],
   "source": [
    "from nltk.corpus import wordnet as wn\n",
    "from nltk import download\n",
    "\n",
    "# Download necessary NLTK data\n",
    "download('wordnet')\n",
    "\n",
    "def word_similarity(word1, word2):\n",
    "    \"\"\"Computing the maximum path similarity score between two words.\"\"\"\n",
    "    synsets1 = wn.synsets(word1,)\n",
    "    synsets2 = wn.synsets(word2)\n",
    "    \n",
    "    max_score = 0\n",
    "    for syn1 in synsets1:\n",
    "        for syn2 in synsets2:\n",
    "            score = syn1.path_similarity(syn2)\n",
    "            if score and score > max_score:\n",
    "                max_score = score\n",
    "    return max_score\n",
    "\n",
    "def evaluate_pairs(word_pairs, threshold=0.5):\n",
    "    \"\"\"Evaluating each pair using WordNet path similarity and a threshold.\"\"\"\n",
    "    results = []\n",
    "    for word1, word2 in word_pairs:\n",
    "        similarity = word_similarity(word1, word2)\n",
    "        results.append((word1, word2, similarity, similarity >= threshold))\n",
    "    return results\n",
    "\n",
    "# Example word pairs\n",
    "word_pairs = [\n",
    "    (\"go out\", \"exit\"),\n",
    "    (\"understand\", \"comprehend\"),\n",
    "    (\"explain\", \"clarify\"),\n",
    "    (\"learn\", \"study\"),\n",
    "    (\"teach\", \"instruct\"),\n",
    "    (\"hear\", \"listen\"),\n",
    "    (\"see\", \"observe\"),\n",
    "    (\"smell\", \"scent\"),\n",
    "    (\"taste\", \"flavor\"),\n",
    "    (\"touch\", \"feel\"),\n",
    "    (\"go\", \"move\"),\n",
    "    (\"come\", \"arrive\"),\n",
    "    (\"ascend\", \"rise\"),\n",
    "    (\"go down\", \"descend\")\n",
    "]\n",
    "\n",
    "# Evaluate the pairs\n",
    "evaluated_pairs = evaluate_pairs(word_pairs)\n",
    "\n",
    "# Print the results\n",
    "for word1, word2, similarity, is_similar in evaluated_pairs:\n",
    "    print(f\"{word1} - {word2}: Similarity = {similarity:.2f}, Similar = {is_similar}\")\n"
   ]
  }
 ],
 "metadata": {
  "kernelspec": {
   "display_name": "Python 3",
   "language": "python",
   "name": "python3"
  },
  "language_info": {
   "codemirror_mode": {
    "name": "ipython",
    "version": 3
   },
   "file_extension": ".py",
   "mimetype": "text/x-python",
   "name": "python",
   "nbconvert_exporter": "python",
   "pygments_lexer": "ipython3",
   "version": "3.11.8"
  }
 },
 "nbformat": 4,
 "nbformat_minor": 2
}
