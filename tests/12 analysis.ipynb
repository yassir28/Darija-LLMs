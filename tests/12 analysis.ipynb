{
 "cells": [
  {
   "cell_type": "markdown",
   "metadata": {},
   "source": [
    "Transliteration vs translation ??"
   ]
  },
  {
   "cell_type": "markdown",
   "metadata": {},
   "source": [
    "#### Can a mix of arabic and transliteration  solve issue of diacritics?"
   ]
  },
  {
   "cell_type": "markdown",
   "metadata": {},
   "source": [
    "Analytics of 50 words in Model of transliteration & arb since so far is the state of the art."
   ]
  },
  {
   "cell_type": "markdown",
   "metadata": {},
   "source": [
    "\n",
    "\n",
    "These are the examples of words that didnt match in the first 50 words from the verbs.\n",
    "\n",
    "\n",
    "- {9rra read teach}: emphasis (diacritics) isnt recognised.\n",
    "\n",
    "- {Da9 knocked taste}: articulation: darija doesnt use letter \"dh\" instead it uses a lighter one in speech and writing d and that makes an interpretation difference for the model. Tho the model doesnt notice the emphasis difference and base its translation presumably on that letter. possible reversion to arabic. \n",
    "\n",
    "- {9as measured touch}:  revert to msa.\n",
    "\n",
    "- {Tala3 go_out ascend} : in darija this has a deviated meaning the msa might have deviated long ago => makes sense\n",
    "\n",
    "- {3am live swim}  can be interpreted as \"year\" but also has a meaning in the dictionary of arabic with swim but it's an old meaning that's not usually used in Arabic nowadays only in Darija. Model has ouputted a random verb which at least is conform to the query of a verb output.  \n",
    "\n",
    "- {slat asked take_off}. has outputted a verb that sounds the same. Reversion to MSA.\n",
    "\n",
    "- {ttawa iron bargain} I don't understand the model's rationale.  \n",
    "\n",
    "- {ms7 wipe clean}: this is both the wordnet's fault for giving it too low of similarity 0.16 and the dataset's, cos it has both meanings (that can only be understood in context).\n",
    "\n",
    "- {tskhskh whisper exhaust} : unique to darija\n",
    "\n",
    "- {ghdb get-angry anger} : model doesnt follow instruction as told \n",
    "\n",
    "- {dar HOUSE DO}: has a right interpretation but as a name. model doesnt recognize it as a verb. unique to darija\n",
    "\n",
    "- {3ndo he-has have} : doesnt follow instructions\n",
    "\n",
    "- {chedd tighten get}: meaning can only be infered from context in darija\n",
    "\n",
    "- {ba come want} : meaningless interpretation\n",
    "\n",
    "- {wlla or become} \n",
    "\n",
    "- {3na have mean}\n"
   ]
  }
 ],
 "metadata": {
  "kernelspec": {
   "display_name": "Python 3",
   "language": "python",
   "name": "python3"
  },
  "language_info": {
   "codemirror_mode": {
    "name": "ipython",
    "version": 3
   },
   "file_extension": ".py",
   "mimetype": "text/x-python",
   "name": "python",
   "nbconvert_exporter": "python",
   "pygments_lexer": "ipython3",
   "version": "3.11.8"
  }
 },
 "nbformat": 4,
 "nbformat_minor": 2
}
