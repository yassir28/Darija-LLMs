{
 "cells": [
  {
   "cell_type": "markdown",
   "metadata": {},
   "source": [
    "Bevor Beispiele: \n",
    "\n",
    "'He will cover the expenses until the next three months.', 'We will cover all the material up to next Tuesday', 0.6612762212753296, False\n",
    "\n",
    "'He started reading early!' , 'so start studying soon!', 0.7224154472351074, True\n",
    "\n",
    "# Short constructions\n",
    "\n",
    "#### 1 word"
   ]
  },
  {
   "cell_type": "code",
   "execution_count": 5,
   "metadata": {},
   "outputs": [
    {
     "name": "stdout",
     "output_type": "stream",
     "text": [
      "Index(['eng', 'darija_ar', 'transl'], dtype='object')\n",
      "Index(['eng', 'darija_ar', 'transl'], dtype='object')\n",
      "Index(['eng', 'darija_ar', 'transl'], dtype='object')\n",
      "Index(['eng', 'darija_ar', 'transl'], dtype='object')\n",
      "Index(['darija', 'eng', 'darija_ar'], dtype='object')\n",
      "Index(['darija', 'eng', 'darija_ar'], dtype='object')\n",
      "Index(['darija', 'eng', 'darija_ar'], dtype='object')\n",
      "Index(['darija', 'eng', 'darija_ar'], dtype='object')\n",
      "Index(['darija', 'eng', 'darija_ar'], dtype='object')\n",
      "Index(['darija', 'eng', 'darija_ar'], dtype='object')\n",
      "Index(['darija', 'eng', 'darija_ar'], dtype='object')\n",
      "Index(['darija', 'eng', 'darija_ar'], dtype='object')\n",
      "Index(['darija', 'eng', 'darija_ar'], dtype='object')\n"
     ]
    }
   ],
   "source": [
    "from openai import OpenAI\n",
    "import pandas as pd\n",
    "client = OpenAI()\n",
    "df_one = pd.read_csv('word1.csv')\n",
    "df_two = pd.read_csv('word2.csv')\n",
    "df_three = pd.read_csv('word3.csv')\n",
    "df_four = pd.read_csv('word4.csv')\n",
    "df_five = pd.read_csv('word5.csv')\n",
    "df_six = pd.read_csv('word6.csv')\n",
    "df_seven = pd.read_csv('word7.csv')\n",
    "df_eight = pd.read_csv('word8.csv')\n",
    "df_nine = pd.read_csv('word9.csv')\n",
    "df_ten = pd.read_csv('word10.csv')\n",
    "df_eleven = pd.read_csv('word11.csv')\n",
    "df_twelve = pd.read_csv('word12.csv')\n",
    "df_thirteen = pd.read_csv('word13.csv')\n",
    "\n",
    "def one(stc):\n",
    "    completion = client.chat.completions.create(\n",
    "        model=\"gpt-3.5-turbo\",\n",
    "        messages=[\n",
    "            {\"role\": \"system\", \"content\":     \"You are an expert in Language translation from Moroccan Darija dialect to English. \" +\n",
    "             \"You will be provided with a short one word sentence in Moroccan Darija dialect, and your task is to translate it into a sentence in English with no explanations.\"},\n",
    "            #{\"role\": \"assistant\", \"content\": \"OK, I understand. I am ready to translate to English.\"},\n",
    "            {\"role\": \"user\", \"content\": \"لايسّر\"},\n",
    "            {\"role\": \"assistant\", \"content\": \"Good luck\"},\n",
    "            {\"role\": \"user\", \"content\":  f\"{stc}\" }\n",
    "            ], \n",
    "        temperature=0.1  # Deterministic responses\n",
    "        )\n",
    "    return completion.choices[0].message.content\n",
    "\n",
    "\n",
    "def two(stc):\n",
    "    completion = client.chat.completions.create(\n",
    "        model=\"gpt-3.5-turbo\",\n",
    "        messages=[\n",
    "            {\"role\": \"system\", \"content\":     \"You are an expert in Language translation from Moroccan Darija dialect to English. \" +\n",
    "             \"You will be provided with a short sentence in Moroccan Darija dialect, and your task is to translate it into a sentence in English with no explanations.\"},\n",
    "            #{\"role\": \"assistant\", \"content\": \"OK, I understand. I am ready to translate to English.\"},\n",
    "            {\"role\": \"user\", \"content\": \"هادشي موهيمّ\"},\n",
    "            {\"role\": \"assistant\", \"content\": \"It's so interesting\"},\n",
    "            {\"role\": \"user\", \"content\":  f\"{stc}\" }\n",
    "            ], \n",
    "        temperature=0.1  # Deterministic responses\n",
    "        )\n",
    "    return completion.choices[0].message.content\n",
    "\n",
    "\n",
    "def three(stc):\n",
    "    completion = client.chat.completions.create(\n",
    "        model=\"gpt-3.5-turbo\",\n",
    "        messages=[\n",
    "            {\"role\": \"system\", \"content\":     \"You are an expert in Language translation from Moroccan Darija dialect to English. \" +\n",
    "             \"You will be provided with a short one word sentence in Moroccan Darija dialect, and your task is to translate it into a sentence in English with no explanations.\"},\n",
    "            #{\"role\": \"assistant\", \"content\": \"OK, I understand. I am ready to translate to English.\"},\n",
    "            {\"role\": \"user\", \"content\": \"نسا عليا هادشي\"},\n",
    "            {\"role\": \"assistant\", \"content\": \"Forget about it\"},\n",
    "            {\"role\": \"user\", \"content\":  f\"{stc}\" }\n",
    "            ], \n",
    "        temperature=0.1  # Deterministic responses\n",
    "        )\n",
    "    return completion.choices[0].message.content\n",
    "\n",
    "\n",
    "\n",
    "def four(stc):\n",
    "    completion = client.chat.completions.create(\n",
    "        model=\"gpt-3.5-turbo\",\n",
    "        messages=[\n",
    "            {\"role\": \"system\", \"content\":     \"You are an expert in Language translation from Moroccan Darija dialect to English. \" +\n",
    "             \"You will be provided with a short sentence in Moroccan Darija dialect, and your task is to translate it into a sentence in English with no explanations.\"},\n",
    "            #{\"role\": \"assistant\", \"content\": \"OK, I understand. I am ready to translate to English.\"},\n",
    "            {\"role\": \"user\", \"content\": \"أرا ليا داك ساك\"},\n",
    "            {\"role\": \"assistant\", \"content\": \"hand me that bag\"},\n",
    "            {\"role\": \"user\", \"content\":  f\"{stc}\" }\n",
    "            ], \n",
    "        temperature=0.1  # Deterministic responses\n",
    "        )\n",
    "    return completion.choices[0].message.content\n",
    "\n",
    "\n",
    "def five(stc):\n",
    "    completion = client.chat.completions.create(\n",
    "        model=\"gpt-3.5-turbo\",\n",
    "        messages=[\n",
    "            {\"role\": \"system\", \"content\":     \"You are an expert in Language translation from Moroccan Darija dialect to English. \" +\n",
    "             \"You will be provided with a short sentence in Moroccan Darija dialect, and your task is to translate it into a sentence in English with no explanations.\"},\n",
    "            #{\"role\": \"assistant\", \"content\": \"OK, I understand. I am ready to translate to English.\"},\n",
    "            {\"role\": \"user\", \"content\": \"باينا هوما تايحاولو إبقاو مبرّدين\"},\n",
    "            {\"role\": \"assistant\", \"content\": \"It's obvious they're trying to keep their cool\"},\n",
    "            {\"role\": \"user\", \"content\":  f\"{stc}\" }\n",
    "            ], \n",
    "        temperature=0.1  # Deterministic responses\n",
    "        )\n",
    "    return completion.choices[0].message.content\n",
    "\n",
    "def six(stc):\n",
    "    completion = client.chat.completions.create(\n",
    "        model=\"gpt-3.5-turbo\",\n",
    "        messages=[\n",
    "            {\"role\": \"system\", \"content\":     \"You are an expert in Language translation from Moroccan Darija dialect to English. \" +\n",
    "             \"You will be provided with a short sentence in Moroccan Darija dialect, and your task is to translate it into a sentence in English with no explanations.\"},\n",
    "            #{\"role\": \"assistant\", \"content\": \"OK, I understand. I am ready to translate to English.\"},\n",
    "            {\"role\": \"user\", \"content\": \"شحال ت الناس كاينين ف إفران\"},\n",
    "            {\"role\": \"assistant\", \"content\": \"how many people are there in Ifran\"},\n",
    "            {\"role\": \"user\", \"content\":  f\"{stc}\" }\n",
    "            ], \n",
    "        temperature=0.1  # Deterministic responses\n",
    "        )\n",
    "    return completion.choices[0].message.content\n",
    "\n",
    "def seven(stc):\n",
    "    completion = client.chat.completions.create(\n",
    "        model=\"gpt-3.5-turbo\",\n",
    "        messages=[\n",
    "            {\"role\": \"system\", \"content\":     \"You are an expert in Language translation from Moroccan Darija dialect to English. \" +\n",
    "             \"You will be provided with a short sentence in Moroccan Darija dialect, and your task is to translate it into a sentence in English with no explanations.\"},\n",
    "            #{\"role\": \"assistant\", \"content\": \"OK, I understand. I am ready to translate to English.\"},\n",
    "            {\"role\": \"user\", \"content\": \"بان ليا راك عارف لخارج حسن منّي\"},\n",
    "            {\"role\": \"assistant\", \"content\": \"You look like you know the outdoors better than me\"},\n",
    "            {\"role\": \"user\", \"content\":  f\"{stc}\" }\n",
    "            ], \n",
    "        temperature=0.1  # Deterministic responses\n",
    "        )\n",
    "    return completion.choices[0].message.content\n",
    "\n",
    "def eight(stc):\n",
    "    completion = client.chat.completions.create(\n",
    "        model=\"gpt-3.5-turbo\",\n",
    "        messages=[\n",
    "            {\"role\": \"system\", \"content\":     \"You are an expert in Language translation from Moroccan Darija dialect to English. \" +\n",
    "             \"You will be provided with a short sentence in Moroccan Darija dialect, and your task is to translate it into a sentence in English with no explanations.\"},\n",
    "            #{\"role\": \"assistant\", \"content\": \"OK, I understand. I am ready to translate to English.\"},\n",
    "            {\"role\": \"user\", \"content\": \"مايمكنش ليك التيق ف الناسّ فل بلايسّ لمسدودين\"},\n",
    "            {\"role\": \"assistant\", \"content\": \"You can never trust people in confined spaces\"},\n",
    "            {\"role\": \"user\", \"content\":  f\"{stc}\" }\n",
    "            ], \n",
    "        temperature=0.1  # Deterministic responses\n",
    "        )\n",
    "    return completion.choices[0].message.content\n",
    "def nine(stc):\n",
    "    completion = client.chat.completions.create(\n",
    "        model=\"gpt-3.5-turbo\",\n",
    "        messages=[\n",
    "            {\"role\": \"system\", \"content\":     \"You are an expert in Language translation from Moroccan Darija dialect to English. \" +\n",
    "             \"You will be provided with a short sentence in Moroccan Darija dialect, and your task is to translate it into a sentence in English with no explanations.\"},\n",
    "            #{\"role\": \"assistant\", \"content\": \"OK, I understand. I am ready to translate to English.\"},\n",
    "            {\"role\": \"user\", \"content\": \"واش تقدر دير ليا كيكا ديال فروتا وتزاوقها بتلج\"},\n",
    "            {\"role\": \"assistant\", \"content\": \"Could you make me a fruit cake with icing decorations\"},\n",
    "            {\"role\": \"user\", \"content\":  f\"{stc}\" }\n",
    "            ], \n",
    "        temperature=0.1  # Deterministic responses\n",
    "        )\n",
    "    return completion.choices[0].message.content\n",
    "\n",
    "def ten(stc):\n",
    "    completion = client.chat.completions.create(\n",
    "        model=\"gpt-3.5-turbo\",\n",
    "        messages=[\n",
    "            {\"role\": \"system\", \"content\":     \"You are an expert in Language translation from Moroccan Darija dialect to English. \" +\n",
    "             \"You will be provided with a short sentence in Moroccan Darija dialect, and your task is to translate it into a sentence in English with no explanations.\"},\n",
    "            #{\"role\": \"assistant\", \"content\": \"OK, I understand. I am ready to translate to English.\"},\n",
    "            {\"role\": \"user\", \"content\": \"أه, حتا أنا كاتعجبني هاد ضايا معا لبط أُ لبجاع\"},\n",
    "            {\"role\": \"assistant\", \"content\": \"Yes, I also like this pond with the ducks and the swans\"},\n",
    "            {\"role\": \"user\", \"content\":  f\"{stc}\" }\n",
    "            ], \n",
    "        temperature=0.1  # Deterministic responses\n",
    "        )\n",
    "    return completion.choices[0].message.content\n",
    "def eleven(stc):\n",
    "    completion = client.chat.completions.create(\n",
    "        model=\"gpt-3.5-turbo\",\n",
    "        messages=[\n",
    "            {\"role\": \"system\", \"content\":     \"You are an expert in Language translation from Moroccan Darija dialect to English. \" +\n",
    "             \"You will be provided with a short sentence in Moroccan Darija dialect, and your task is to translate it into a sentence in English with no explanations.\"},\n",
    "            #{\"role\": \"assistant\", \"content\": \"OK, I understand. I am ready to translate to English.\"},\n",
    "            {\"role\": \"user\", \"content\": \"لحاجا لواحيدا لي كانطلب منّك تديرها هيا تشدّ لقرعا ت الروج\"},\n",
    "            {\"role\": \"assistant\", \"content\": \"The only thing I'm asking you to do is keep the bottle of red wine\"},\n",
    "            {\"role\": \"user\", \"content\":  f\"{stc}\" }\n",
    "            ], \n",
    "        temperature=0.1  # Deterministic responses\n",
    "        )\n",
    "    return completion.choices[0].message.content\n",
    "\n",
    "def twelve(stc):\n",
    "    completion = client.chat.completions.create(\n",
    "        model=\"gpt-3.5-turbo\",\n",
    "        messages=[\n",
    "            {\"role\": \"system\", \"content\":     \"You are an expert in Language translation from Moroccan Darija dialect to English. \" +\n",
    "             \"You will be provided with a short sentence in Moroccan Darija dialect, and your task is to translate it into a sentence in English with no explanations.\"},\n",
    "            #{\"role\": \"assistant\", \"content\": \"OK, I understand. I am ready to translate to English.\"},\n",
    "            {\"role\": \"user\", \"content\": \"غادي يكون عاندنا متيحان, إلا كان هادشي ليكاتقساد, سيمانا جايا نهار لخميس\"},\n",
    "            {\"role\": \"assistant\", \"content\": \"We will have an exam, if that is what you mean, next week on Thursday\"},\n",
    "            {\"role\": \"user\", \"content\":  f\"{stc}\" }\n",
    "            ], \n",
    "        temperature=0.1  # Deterministic responses\n",
    "        )\n",
    "    return completion.choices[0].message.content\n",
    "\n",
    "def thirteen(stc):\n",
    "    completion = client.chat.completions.create(\n",
    "        model=\"gpt-3.5-turbo\",\n",
    "        messages=[\n",
    "            {\"role\": \"system\", \"content\":     \"You are an expert in Language translation from Moroccan Darija dialect to English. \" +\n",
    "             \"You will be provided with a short sentence in Moroccan Darija dialect, and your task is to translate it into a sentence in English with no explanations.\"},\n",
    "            #{\"role\": \"assistant\", \"content\": \"OK, I understand. I am ready to translate to English.\"},\n",
    "            {\"role\": \"user\", \"content\": \"غادي يكون عاندنا متيحان, إلا كان هادشي ليكاتقساد, سيمانا جايا نهار لخميس\"},\n",
    "            {\"role\": \"assistant\", \"content\": \"We will have an exam, if that is what you mean, next week on Thursday\"},\n",
    "            {\"role\": \"user\", \"content\":  f\"{stc}\" }\n",
    "            ], \n",
    "        temperature=0.1  # Deterministic responses\n",
    "        )\n",
    "    return completion.choices[0].message.content\n",
    "\n",
    "print(df_one.columns)\n",
    "print(df_two.columns)\n",
    "print(df_three.columns)\n",
    "print(df_four.columns)\n",
    "print(df_five.columns)\n",
    "print(df_six.columns)\n",
    "print(df_seven.columns)\n",
    "print(df_eight.columns)\n",
    "print(df_nine.columns)\n",
    "print(df_ten.columns)\n",
    "print(df_eleven.columns)\n",
    "print(df_twelve.columns)\n",
    "print(df_thirteen.columns)"
   ]
  },
  {
   "cell_type": "code",
   "execution_count": 6,
   "metadata": {},
   "outputs": [],
   "source": [
    "dataset_one =df_one.copy() \n",
    "dataset_two =df_two.copy() \n",
    "dataset_three =df_three.copy() \n",
    "dataset_four =df_four.copy() \n",
    "dataset_five =df_five.copy() \n",
    "dataset_six =df_six.copy() \n",
    "dataset_seven =df_seven.copy() \n",
    "dataset_eight =df_eight.copy() \n",
    "dataset_nine =df_nine.copy() \n",
    "dataset_ten =df_ten.copy() \n",
    "dataset_eleven =df_eleven.copy() \n",
    "dataset_twelve =df_twelve.copy() \n",
    "dataset_thirteen =df_thirteen.copy() \n",
    "\n",
    "\n",
    "columns_to_delete = ['darija']\n",
    "\n",
    "dataset_five.drop(columns=columns_to_delete, inplace=True)\n",
    "dataset_six.drop(columns=columns_to_delete, inplace=True)\n",
    "dataset_seven.drop(columns=columns_to_delete, inplace=True)\n",
    "dataset_eight.drop(columns=columns_to_delete, inplace=True)\n",
    "dataset_nine.drop(columns=columns_to_delete, inplace=True)\n",
    "dataset_ten.drop(columns=columns_to_delete, inplace=True)\n",
    "dataset_eleven.drop(columns=columns_to_delete, inplace=True)\n",
    "dataset_twelve.drop(columns=columns_to_delete, inplace=True)\n",
    "dataset_thirteen.drop(columns=columns_to_delete, inplace=True)\n",
    "\n",
    "dataset_one['transl'] = dataset_one['darija_ar'].apply(one)\n",
    "dataset_two['transl'] = dataset_two['darija_ar'].apply(two)\n",
    "dataset_three['transl'] = dataset_three['darija_ar'].apply(three)\n",
    "dataset_four['transl'] = dataset_four['darija_ar'].apply(four)\n",
    "dataset_five['transl'] = dataset_five['darija_ar'].apply(five)\n",
    "dataset_six['transl'] = dataset_six['darija_ar'].apply(six)\n",
    "dataset_seven['transl'] = dataset_seven['darija_ar'].apply(seven)\n",
    "dataset_eight['transl'] = dataset_eight['darija_ar'].apply(eight)\n",
    "dataset_nine['transl'] = dataset_nine['darija_ar'].apply(nine)\n",
    "dataset_ten['transl'] = dataset_ten['darija_ar'].apply(ten)\n",
    "dataset_eleven['transl'] = dataset_eleven['darija_ar'].apply(eleven)\n",
    "dataset_twelve['transl'] = dataset_twelve['darija_ar'].apply(twelve)\n",
    "dataset_thirteen['transl'] = dataset_thirteen['darija_ar'].apply(thirteen)"
   ]
  },
  {
   "cell_type": "code",
   "execution_count": 7,
   "metadata": {},
   "outputs": [],
   "source": [
    "dataset_one.to_csv('word1.csv', index=False)\n",
    "dataset_two.to_csv('word2.csv', index=False)\n",
    "dataset_three.to_csv('word3.csv', index=False)\n",
    "dataset_four.to_csv('word4.csv', index=False)\n",
    "dataset_five.to_csv('word5.csv', index=False)\n",
    "dataset_six.to_csv('word6.csv', index=False)\n",
    "dataset_seven.to_csv('word7.csv', index=False)\n",
    "dataset_eight.to_csv('word8.csv', index=False)\n",
    "dataset_nine.to_csv('word9.csv', index=False)\n",
    "dataset_ten.to_csv('word10.csv', index=False)\n",
    "dataset_eleven.to_csv('word11.csv', index=False)\n",
    "dataset_twelve.to_csv('word12.csv', index=False)\n",
    "dataset_thirteen.to_csv('word13.csv', index=False)"
   ]
  },
  {
   "cell_type": "code",
   "execution_count": 8,
   "metadata": {},
   "outputs": [
    {
     "name": "stderr",
     "output_type": "stream",
     "text": [
      "c:\\Users\\yassi\\AppData\\Local\\Programs\\Python\\Python311\\Lib\\site-packages\\huggingface_hub\\file_download.py:1132: FutureWarning: `resume_download` is deprecated and will be removed in version 1.0.0. Downloads always resume when possible. If you want to force a new download, use `force_download=True`.\n",
      "  warnings.warn(\n",
      "c:\\Users\\yassi\\AppData\\Local\\Programs\\Python\\Python311\\Lib\\site-packages\\huggingface_hub\\file_download.py:1132: FutureWarning: `resume_download` is deprecated and will be removed in version 1.0.0. Downloads always resume when possible. If you want to force a new download, use `force_download=True`.\n",
      "  warnings.warn(\n"
     ]
    }
   ],
   "source": [
    "from sentence_transformers import SentenceTransformer, util\n",
    "import plotly.graph_objects as go\n",
    "\n",
    "dataset_one= pd.read_csv('word1.csv')\n",
    "dataset_two= pd.read_csv('word2.csv')\n",
    "dataset_three= pd.read_csv('word3.csv')\n",
    "dataset_four= pd.read_csv('word4.csv')\n",
    "dataset_five= pd.read_csv('word5.csv')\n",
    "dataset_six= pd.read_csv('word6.csv')\n",
    "dataset_seven= pd.read_csv('word7.csv')\n",
    "dataset_eight= pd.read_csv('word8.csv')\n",
    "dataset_nine= pd.read_csv('word9.csv')\n",
    "dataset_ten= pd.read_csv('word10.csv')\n",
    "dataset_eleven= pd.read_csv('word11.csv')\n",
    "dataset_twelve= pd.read_csv('word12.csv')\n",
    "dataset_thirteen= pd.read_csv('word13.csv')\n",
    "\n",
    "# Initialize model\n",
    "model_name = 'bert-base-nli-mean-tokens'\n",
    "model = SentenceTransformer(model_name)\n",
    "\n",
    "\n",
    "def evaluate_pairs(transl, eng):\n",
    "    results = []\n",
    "    for i in range(len(transl)):\n",
    "        sentence1, sentence2 = transl[i], eng[i]\n",
    "        embedding1 = model.encode(sentence1, convert_to_tensor=True)\n",
    "        embedding2 = model.encode(sentence2, convert_to_tensor=True)\n",
    "        similarity = util.pytorch_cos_sim(embedding1, embedding2).item()\n",
    "        results.append((i+2, sentence1, sentence2, similarity))\n",
    "\n",
    "    return results\n",
    "\n",
    "transl_one = dataset_one['transl']\n",
    "eng_one =  dataset_one['eng']\n",
    "similarities = evaluate_pairs(transl_one, eng_one)\n",
    "percentages_one = [result for *_, result in similarities]\n",
    "\n",
    "transl_two = dataset_two['transl']\n",
    "eng_two =  dataset_two['eng']\n",
    "similarities = evaluate_pairs(transl_two, eng_two)\n",
    "percentages_two = [result for *_, result in similarities]\n",
    "\n",
    "\n",
    "transl_three = dataset_three['transl']\n",
    "eng_three =  dataset_three['eng']\n",
    "similarities = evaluate_pairs(transl_three, eng_three)\n",
    "percentages_three = [result for *_, result in similarities]\n",
    "\n",
    "\n",
    "transl_four = dataset_four['transl']\n",
    "eng_four =  dataset_four['eng']\n",
    "similarities = evaluate_pairs(transl_four, eng_four)\n",
    "percentages_four = [result for *_, result in similarities]\n",
    "\n",
    "transl_five = dataset_five['transl']\n",
    "eng_five =  dataset_five['eng']\n",
    "similarities = evaluate_pairs(transl_five, eng_five)\n",
    "percentages_five = [result for *_, result in similarities]\n",
    "\n",
    "\n",
    "transl_six = dataset_six['transl']\n",
    "eng_six =  dataset_six['eng']\n",
    "similarities = evaluate_pairs(transl_six, eng_six)\n",
    "percentages_six = [result for *_, result in similarities]\n",
    "\n",
    "transl_seven = dataset_seven['transl']\n",
    "eng_seven =  dataset_seven['eng']\n",
    "similarities = evaluate_pairs(transl_seven, eng_seven)\n",
    "percentages_seven = [result for *_, result in similarities]\n",
    "\n",
    "transl_eight = dataset_eight['transl']\n",
    "eng_eight =  dataset_eight['eng']\n",
    "similarities = evaluate_pairs(transl_eight, eng_eight)\n",
    "percentages_eight = [result for *_, result in similarities]\n",
    "\n",
    "transl_nine = dataset_nine['transl']\n",
    "eng_nine =  dataset_nine['eng']\n",
    "similarities = evaluate_pairs(transl_nine, eng_nine)\n",
    "percentages_nine = [result for *_, result in similarities]\n",
    "\n",
    "\n",
    "transl_ten = dataset_ten['transl']\n",
    "eng_ten =  dataset_ten['eng']\n",
    "similarities = evaluate_pairs(transl_ten, eng_ten)\n",
    "percentages_ten = [result for *_, result in similarities]\n",
    "\n",
    "transl_eleven = dataset_eleven['transl']\n",
    "eng_eleven =  dataset_eleven['eng']\n",
    "similarities = evaluate_pairs(transl_eleven, eng_eleven)\n",
    "percentages_eleven = [result for *_, result in similarities]\n",
    "\n",
    "transl_twelve = dataset_twelve['transl']\n",
    "eng_twelve =  dataset_twelve['eng']\n",
    "similarities = evaluate_pairs(transl_twelve, eng_twelve)\n",
    "percentages_twelve = [result for *_, result in similarities]\n",
    "\n",
    "transl_thirteen = dataset_thirteen['transl']\n",
    "eng_thirteen =  dataset_thirteen['eng']\n",
    "similarities = evaluate_pairs(transl_thirteen, eng_thirteen)\n",
    "percentages_thirteen = [result for *_, result in similarities]"
   ]
  },
  {
   "cell_type": "code",
   "execution_count": 11,
   "metadata": {},
   "outputs": [
    {
     "data": {
      "application/vnd.plotly.v1+json": {
       "config": {
        "plotlyServerURL": "https://plot.ly"
       },
       "data": [
        {
         "histfunc": "count",
         "name": "One word sentences",
         "type": "histogram",
         "x": [
          0.8856703042984009,
          0.7980146408081055,
          0.7258920073509216,
          0.6768054962158203,
          0.9892771244049072,
          0.8409910202026367,
          0.9513050317764282,
          0.706678032875061,
          0.7054896950721741,
          0.5264849066734314,
          0.9132909178733826,
          0.8409993648529053,
          0.9507207870483398,
          0.9443386793136597,
          0.8516219258308411,
          1,
          0.9912242889404297,
          0.9341317415237427,
          0.9182873964309692,
          0.9052188396453857,
          0.7526390552520752,
          1,
          0.9605642557144165,
          0.8554357886314392,
          0.711711049079895,
          0.6617124676704407,
          0.8846371173858643,
          0.5628024339675903,
          0.9912242889404297,
          0.9691421985626221,
          0.9999998807907104,
          0.8463515043258667,
          0.5097287893295288,
          0.9118488430976868,
          0.8011348247528076,
          0.7998113036155701,
          1.000000238418579,
          0.9847387075424194,
          0.9671240448951721,
          0.6557479500770569,
          0.8036215305328369,
          0.9999999403953552,
          0.8554911613464355,
          0.772251307964325,
          0.35711097717285156,
          0.9161810874938965,
          0.904062807559967,
          0.9484055042266846,
          0.5912002921104431,
          0.524109959602356,
          0.4086383283138275,
          0.986091136932373,
          0.891082763671875,
          0.9999999403953552,
          0.7684717178344727,
          0.9484055042266846,
          0.8352854251861572,
          0.8539360165596008,
          0.994718074798584,
          0.9999998211860657,
          0.8335599899291992,
          0.9614319801330566,
          0.9713799953460693,
          0.6010522842407227,
          0.9828010201454163,
          1,
          0.9999999403953552,
          0.6228457689285278,
          1,
          0.9078938961029053,
          0.9999998807907104,
          0.8402714729309082,
          0.9056341648101807,
          0.9350801706314087,
          0.8107750415802002,
          1,
          0.9677137732505798,
          0.9999998807907104,
          0.8733487725257874,
          0.502116322517395,
          0.9734036326408386,
          0.8452669382095337,
          0.995261549949646,
          0.8641290068626404,
          0.9570203423500061,
          0.7667186856269836,
          0.9858816862106323,
          0.8554332256317139,
          0.865480899810791,
          0.9556741714477539,
          0.6532230377197266,
          1,
          0.5368188619613647,
          1,
          0.9074409008026123,
          0.8411833047866821,
          0.933674693107605,
          0.7526390552520752,
          0.9396387338638306,
          0.9999998807907104
         ],
         "y": [
          0.8856703042984009,
          0.7980146408081055,
          0.7258920073509216,
          0.6768054962158203,
          0.9892771244049072,
          0.8409910202026367,
          0.9513050317764282,
          0.706678032875061,
          0.7054896950721741,
          0.5264849066734314,
          0.9132909178733826,
          0.8409993648529053,
          0.9507207870483398,
          0.9443386793136597,
          0.8516219258308411,
          1,
          0.9912242889404297,
          0.9341317415237427,
          0.9182873964309692,
          0.9052188396453857,
          0.7526390552520752,
          1,
          0.9605642557144165,
          0.8554357886314392,
          0.711711049079895,
          0.6617124676704407,
          0.8846371173858643,
          0.5628024339675903,
          0.9912242889404297,
          0.9691421985626221,
          0.9999998807907104,
          0.8463515043258667,
          0.5097287893295288,
          0.9118488430976868,
          0.8011348247528076,
          0.7998113036155701,
          1.000000238418579,
          0.9847387075424194,
          0.9671240448951721,
          0.6557479500770569,
          0.8036215305328369,
          0.9999999403953552,
          0.8554911613464355,
          0.772251307964325,
          0.35711097717285156,
          0.9161810874938965,
          0.904062807559967,
          0.9484055042266846,
          0.5912002921104431,
          0.524109959602356,
          0.4086383283138275,
          0.986091136932373,
          0.891082763671875,
          0.9999999403953552,
          0.7684717178344727,
          0.9484055042266846,
          0.8352854251861572,
          0.8539360165596008,
          0.994718074798584,
          0.9999998211860657,
          0.8335599899291992,
          0.9614319801330566,
          0.9713799953460693,
          0.6010522842407227,
          0.9828010201454163,
          1,
          0.9999999403953552,
          0.6228457689285278,
          1,
          0.9078938961029053,
          0.9999998807907104,
          0.8402714729309082,
          0.9056341648101807,
          0.9350801706314087,
          0.8107750415802002,
          1,
          0.9677137732505798,
          0.9999998807907104,
          0.8733487725257874,
          0.502116322517395,
          0.9734036326408386,
          0.8452669382095337,
          0.995261549949646,
          0.8641290068626404,
          0.9570203423500061,
          0.7667186856269836,
          0.9858816862106323,
          0.8554332256317139,
          0.865480899810791,
          0.9556741714477539,
          0.6532230377197266,
          1,
          0.5368188619613647,
          1,
          0.9074409008026123,
          0.8411833047866821,
          0.933674693107605,
          0.7526390552520752,
          0.9396387338638306,
          0.9999998807907104
         ]
        },
        {
         "histfunc": "count",
         "name": "two words sentences",
         "type": "histogram",
         "x": [
          0.626734733581543,
          1,
          0.9799060821533203,
          0.9999998807907104,
          1,
          0.9510349631309509,
          0.9006837606430054,
          0.7395665645599365,
          0.9978639483451843,
          0.7818455696105957,
          0.9680413007736206,
          0.9830308556556702,
          0.5333057045936584,
          0.9297782182693481,
          0.5453344583511353,
          0.9757102727890015,
          0.9598882794380188,
          1,
          0.9830228686332703,
          0.7275309562683105,
          0.9548707008361816,
          0.9857969880104065,
          0.6256700754165649,
          0.3020176589488983,
          0.9305307269096375,
          0.9572705030441284,
          0.9916423559188843,
          0.994107723236084,
          0.613884687423706,
          0.8472775220870972,
          0.914708137512207,
          1,
          0.9861574172973633,
          0.9072284698486328,
          0.6360432505607605,
          1.000000238418579,
          0.5321136713027954,
          0.3443239629268646,
          0.6184759140014648,
          0.3102020025253296,
          0.7818455696105957,
          0.8238726854324341,
          0.7676067352294922,
          0.8320720195770264,
          0.8757647275924683,
          0.8499743938446045,
          0.9893503189086914,
          0.6701637506484985,
          0.43996715545654297,
          0.8962914943695068,
          0.9906388521194458,
          0.9982415437698364,
          0.45371463894844055,
          0.7385768890380859,
          0.3639499545097351,
          0.4887939691543579,
          0.8360936641693115,
          0.8408877849578857,
          0.4953702390193939,
          0.9965469837188721,
          0.6292181015014648,
          0.7137738466262817,
          0.9805291891098022,
          0.6609394550323486,
          0.978615403175354,
          0.5483654737472534,
          0.8003002405166626,
          0.24501343071460724,
          0.9169267416000366,
          0.8598251342773438,
          0.8587252497673035,
          0.9855227470397949,
          0.9824227094650269,
          0.8861753940582275,
          0.9693765044212341,
          0.3921946883201599,
          0.9463151693344116,
          0.9608724117279053,
          0.975494384765625,
          0.6609516143798828,
          0.774896502494812,
          0.7752097845077515,
          0.6617781519889832,
          0.9999998807907104,
          0.48434019088745117,
          0.6234726905822754,
          0.9047139883041382,
          0.9878885746002197,
          0.3443981409072876,
          0.9737981557846069,
          0.8646526336669922,
          0.738148033618927,
          0.6245132684707642,
          0.9342703819274902,
          0.9578883647918701,
          0.9710811376571655,
          0.8343967795372009,
          0.975494384765625,
          0.9734815955162048,
          0.7875163555145264
         ],
         "y": [
          0.626734733581543,
          1,
          0.9799060821533203,
          0.9999998807907104,
          1,
          0.9510349631309509,
          0.9006837606430054,
          0.7395665645599365,
          0.9978639483451843,
          0.7818455696105957,
          0.9680413007736206,
          0.9830308556556702,
          0.5333057045936584,
          0.9297782182693481,
          0.5453344583511353,
          0.9757102727890015,
          0.9598882794380188,
          1,
          0.9830228686332703,
          0.7275309562683105,
          0.9548707008361816,
          0.9857969880104065,
          0.6256700754165649,
          0.3020176589488983,
          0.9305307269096375,
          0.9572705030441284,
          0.9916423559188843,
          0.994107723236084,
          0.613884687423706,
          0.8472775220870972,
          0.914708137512207,
          1,
          0.9861574172973633,
          0.9072284698486328,
          0.6360432505607605,
          1.000000238418579,
          0.5321136713027954,
          0.3443239629268646,
          0.6184759140014648,
          0.3102020025253296,
          0.7818455696105957,
          0.8238726854324341,
          0.7676067352294922,
          0.8320720195770264,
          0.8757647275924683,
          0.8499743938446045,
          0.9893503189086914,
          0.6701637506484985,
          0.43996715545654297,
          0.8962914943695068,
          0.9906388521194458,
          0.9982415437698364,
          0.45371463894844055,
          0.7385768890380859,
          0.3639499545097351,
          0.4887939691543579,
          0.8360936641693115,
          0.8408877849578857,
          0.4953702390193939,
          0.9965469837188721,
          0.6292181015014648,
          0.7137738466262817,
          0.9805291891098022,
          0.6609394550323486,
          0.978615403175354,
          0.5483654737472534,
          0.8003002405166626,
          0.24501343071460724,
          0.9169267416000366,
          0.8598251342773438,
          0.8587252497673035,
          0.9855227470397949,
          0.9824227094650269,
          0.8861753940582275,
          0.9693765044212341,
          0.3921946883201599,
          0.9463151693344116,
          0.9608724117279053,
          0.975494384765625,
          0.6609516143798828,
          0.774896502494812,
          0.7752097845077515,
          0.6617781519889832,
          0.9999998807907104,
          0.48434019088745117,
          0.6234726905822754,
          0.9047139883041382,
          0.9878885746002197,
          0.3443981409072876,
          0.9737981557846069,
          0.8646526336669922,
          0.738148033618927,
          0.6245132684707642,
          0.9342703819274902,
          0.9578883647918701,
          0.9710811376571655,
          0.8343967795372009,
          0.975494384765625,
          0.9734815955162048,
          0.7875163555145264
         ]
        }
       ],
       "layout": {
        "template": {
         "data": {
          "bar": [
           {
            "error_x": {
             "color": "#2a3f5f"
            },
            "error_y": {
             "color": "#2a3f5f"
            },
            "marker": {
             "line": {
              "color": "#E5ECF6",
              "width": 0.5
             },
             "pattern": {
              "fillmode": "overlay",
              "size": 10,
              "solidity": 0.2
             }
            },
            "type": "bar"
           }
          ],
          "barpolar": [
           {
            "marker": {
             "line": {
              "color": "#E5ECF6",
              "width": 0.5
             },
             "pattern": {
              "fillmode": "overlay",
              "size": 10,
              "solidity": 0.2
             }
            },
            "type": "barpolar"
           }
          ],
          "carpet": [
           {
            "aaxis": {
             "endlinecolor": "#2a3f5f",
             "gridcolor": "white",
             "linecolor": "white",
             "minorgridcolor": "white",
             "startlinecolor": "#2a3f5f"
            },
            "baxis": {
             "endlinecolor": "#2a3f5f",
             "gridcolor": "white",
             "linecolor": "white",
             "minorgridcolor": "white",
             "startlinecolor": "#2a3f5f"
            },
            "type": "carpet"
           }
          ],
          "choropleth": [
           {
            "colorbar": {
             "outlinewidth": 0,
             "ticks": ""
            },
            "type": "choropleth"
           }
          ],
          "contour": [
           {
            "colorbar": {
             "outlinewidth": 0,
             "ticks": ""
            },
            "colorscale": [
             [
              0,
              "#0d0887"
             ],
             [
              0.1111111111111111,
              "#46039f"
             ],
             [
              0.2222222222222222,
              "#7201a8"
             ],
             [
              0.3333333333333333,
              "#9c179e"
             ],
             [
              0.4444444444444444,
              "#bd3786"
             ],
             [
              0.5555555555555556,
              "#d8576b"
             ],
             [
              0.6666666666666666,
              "#ed7953"
             ],
             [
              0.7777777777777778,
              "#fb9f3a"
             ],
             [
              0.8888888888888888,
              "#fdca26"
             ],
             [
              1,
              "#f0f921"
             ]
            ],
            "type": "contour"
           }
          ],
          "contourcarpet": [
           {
            "colorbar": {
             "outlinewidth": 0,
             "ticks": ""
            },
            "type": "contourcarpet"
           }
          ],
          "heatmap": [
           {
            "colorbar": {
             "outlinewidth": 0,
             "ticks": ""
            },
            "colorscale": [
             [
              0,
              "#0d0887"
             ],
             [
              0.1111111111111111,
              "#46039f"
             ],
             [
              0.2222222222222222,
              "#7201a8"
             ],
             [
              0.3333333333333333,
              "#9c179e"
             ],
             [
              0.4444444444444444,
              "#bd3786"
             ],
             [
              0.5555555555555556,
              "#d8576b"
             ],
             [
              0.6666666666666666,
              "#ed7953"
             ],
             [
              0.7777777777777778,
              "#fb9f3a"
             ],
             [
              0.8888888888888888,
              "#fdca26"
             ],
             [
              1,
              "#f0f921"
             ]
            ],
            "type": "heatmap"
           }
          ],
          "heatmapgl": [
           {
            "colorbar": {
             "outlinewidth": 0,
             "ticks": ""
            },
            "colorscale": [
             [
              0,
              "#0d0887"
             ],
             [
              0.1111111111111111,
              "#46039f"
             ],
             [
              0.2222222222222222,
              "#7201a8"
             ],
             [
              0.3333333333333333,
              "#9c179e"
             ],
             [
              0.4444444444444444,
              "#bd3786"
             ],
             [
              0.5555555555555556,
              "#d8576b"
             ],
             [
              0.6666666666666666,
              "#ed7953"
             ],
             [
              0.7777777777777778,
              "#fb9f3a"
             ],
             [
              0.8888888888888888,
              "#fdca26"
             ],
             [
              1,
              "#f0f921"
             ]
            ],
            "type": "heatmapgl"
           }
          ],
          "histogram": [
           {
            "marker": {
             "pattern": {
              "fillmode": "overlay",
              "size": 10,
              "solidity": 0.2
             }
            },
            "type": "histogram"
           }
          ],
          "histogram2d": [
           {
            "colorbar": {
             "outlinewidth": 0,
             "ticks": ""
            },
            "colorscale": [
             [
              0,
              "#0d0887"
             ],
             [
              0.1111111111111111,
              "#46039f"
             ],
             [
              0.2222222222222222,
              "#7201a8"
             ],
             [
              0.3333333333333333,
              "#9c179e"
             ],
             [
              0.4444444444444444,
              "#bd3786"
             ],
             [
              0.5555555555555556,
              "#d8576b"
             ],
             [
              0.6666666666666666,
              "#ed7953"
             ],
             [
              0.7777777777777778,
              "#fb9f3a"
             ],
             [
              0.8888888888888888,
              "#fdca26"
             ],
             [
              1,
              "#f0f921"
             ]
            ],
            "type": "histogram2d"
           }
          ],
          "histogram2dcontour": [
           {
            "colorbar": {
             "outlinewidth": 0,
             "ticks": ""
            },
            "colorscale": [
             [
              0,
              "#0d0887"
             ],
             [
              0.1111111111111111,
              "#46039f"
             ],
             [
              0.2222222222222222,
              "#7201a8"
             ],
             [
              0.3333333333333333,
              "#9c179e"
             ],
             [
              0.4444444444444444,
              "#bd3786"
             ],
             [
              0.5555555555555556,
              "#d8576b"
             ],
             [
              0.6666666666666666,
              "#ed7953"
             ],
             [
              0.7777777777777778,
              "#fb9f3a"
             ],
             [
              0.8888888888888888,
              "#fdca26"
             ],
             [
              1,
              "#f0f921"
             ]
            ],
            "type": "histogram2dcontour"
           }
          ],
          "mesh3d": [
           {
            "colorbar": {
             "outlinewidth": 0,
             "ticks": ""
            },
            "type": "mesh3d"
           }
          ],
          "parcoords": [
           {
            "line": {
             "colorbar": {
              "outlinewidth": 0,
              "ticks": ""
             }
            },
            "type": "parcoords"
           }
          ],
          "pie": [
           {
            "automargin": true,
            "type": "pie"
           }
          ],
          "scatter": [
           {
            "fillpattern": {
             "fillmode": "overlay",
             "size": 10,
             "solidity": 0.2
            },
            "type": "scatter"
           }
          ],
          "scatter3d": [
           {
            "line": {
             "colorbar": {
              "outlinewidth": 0,
              "ticks": ""
             }
            },
            "marker": {
             "colorbar": {
              "outlinewidth": 0,
              "ticks": ""
             }
            },
            "type": "scatter3d"
           }
          ],
          "scattercarpet": [
           {
            "marker": {
             "colorbar": {
              "outlinewidth": 0,
              "ticks": ""
             }
            },
            "type": "scattercarpet"
           }
          ],
          "scattergeo": [
           {
            "marker": {
             "colorbar": {
              "outlinewidth": 0,
              "ticks": ""
             }
            },
            "type": "scattergeo"
           }
          ],
          "scattergl": [
           {
            "marker": {
             "colorbar": {
              "outlinewidth": 0,
              "ticks": ""
             }
            },
            "type": "scattergl"
           }
          ],
          "scattermapbox": [
           {
            "marker": {
             "colorbar": {
              "outlinewidth": 0,
              "ticks": ""
             }
            },
            "type": "scattermapbox"
           }
          ],
          "scatterpolar": [
           {
            "marker": {
             "colorbar": {
              "outlinewidth": 0,
              "ticks": ""
             }
            },
            "type": "scatterpolar"
           }
          ],
          "scatterpolargl": [
           {
            "marker": {
             "colorbar": {
              "outlinewidth": 0,
              "ticks": ""
             }
            },
            "type": "scatterpolargl"
           }
          ],
          "scatterternary": [
           {
            "marker": {
             "colorbar": {
              "outlinewidth": 0,
              "ticks": ""
             }
            },
            "type": "scatterternary"
           }
          ],
          "surface": [
           {
            "colorbar": {
             "outlinewidth": 0,
             "ticks": ""
            },
            "colorscale": [
             [
              0,
              "#0d0887"
             ],
             [
              0.1111111111111111,
              "#46039f"
             ],
             [
              0.2222222222222222,
              "#7201a8"
             ],
             [
              0.3333333333333333,
              "#9c179e"
             ],
             [
              0.4444444444444444,
              "#bd3786"
             ],
             [
              0.5555555555555556,
              "#d8576b"
             ],
             [
              0.6666666666666666,
              "#ed7953"
             ],
             [
              0.7777777777777778,
              "#fb9f3a"
             ],
             [
              0.8888888888888888,
              "#fdca26"
             ],
             [
              1,
              "#f0f921"
             ]
            ],
            "type": "surface"
           }
          ],
          "table": [
           {
            "cells": {
             "fill": {
              "color": "#EBF0F8"
             },
             "line": {
              "color": "white"
             }
            },
            "header": {
             "fill": {
              "color": "#C8D4E3"
             },
             "line": {
              "color": "white"
             }
            },
            "type": "table"
           }
          ]
         },
         "layout": {
          "annotationdefaults": {
           "arrowcolor": "#2a3f5f",
           "arrowhead": 0,
           "arrowwidth": 1
          },
          "autotypenumbers": "strict",
          "coloraxis": {
           "colorbar": {
            "outlinewidth": 0,
            "ticks": ""
           }
          },
          "colorscale": {
           "diverging": [
            [
             0,
             "#8e0152"
            ],
            [
             0.1,
             "#c51b7d"
            ],
            [
             0.2,
             "#de77ae"
            ],
            [
             0.3,
             "#f1b6da"
            ],
            [
             0.4,
             "#fde0ef"
            ],
            [
             0.5,
             "#f7f7f7"
            ],
            [
             0.6,
             "#e6f5d0"
            ],
            [
             0.7,
             "#b8e186"
            ],
            [
             0.8,
             "#7fbc41"
            ],
            [
             0.9,
             "#4d9221"
            ],
            [
             1,
             "#276419"
            ]
           ],
           "sequential": [
            [
             0,
             "#0d0887"
            ],
            [
             0.1111111111111111,
             "#46039f"
            ],
            [
             0.2222222222222222,
             "#7201a8"
            ],
            [
             0.3333333333333333,
             "#9c179e"
            ],
            [
             0.4444444444444444,
             "#bd3786"
            ],
            [
             0.5555555555555556,
             "#d8576b"
            ],
            [
             0.6666666666666666,
             "#ed7953"
            ],
            [
             0.7777777777777778,
             "#fb9f3a"
            ],
            [
             0.8888888888888888,
             "#fdca26"
            ],
            [
             1,
             "#f0f921"
            ]
           ],
           "sequentialminus": [
            [
             0,
             "#0d0887"
            ],
            [
             0.1111111111111111,
             "#46039f"
            ],
            [
             0.2222222222222222,
             "#7201a8"
            ],
            [
             0.3333333333333333,
             "#9c179e"
            ],
            [
             0.4444444444444444,
             "#bd3786"
            ],
            [
             0.5555555555555556,
             "#d8576b"
            ],
            [
             0.6666666666666666,
             "#ed7953"
            ],
            [
             0.7777777777777778,
             "#fb9f3a"
            ],
            [
             0.8888888888888888,
             "#fdca26"
            ],
            [
             1,
             "#f0f921"
            ]
           ]
          },
          "colorway": [
           "#636efa",
           "#EF553B",
           "#00cc96",
           "#ab63fa",
           "#FFA15A",
           "#19d3f3",
           "#FF6692",
           "#B6E880",
           "#FF97FF",
           "#FECB52"
          ],
          "font": {
           "color": "#2a3f5f"
          },
          "geo": {
           "bgcolor": "white",
           "lakecolor": "white",
           "landcolor": "#E5ECF6",
           "showlakes": true,
           "showland": true,
           "subunitcolor": "white"
          },
          "hoverlabel": {
           "align": "left"
          },
          "hovermode": "closest",
          "mapbox": {
           "style": "light"
          },
          "paper_bgcolor": "white",
          "plot_bgcolor": "#E5ECF6",
          "polar": {
           "angularaxis": {
            "gridcolor": "white",
            "linecolor": "white",
            "ticks": ""
           },
           "bgcolor": "#E5ECF6",
           "radialaxis": {
            "gridcolor": "white",
            "linecolor": "white",
            "ticks": ""
           }
          },
          "scene": {
           "xaxis": {
            "backgroundcolor": "#E5ECF6",
            "gridcolor": "white",
            "gridwidth": 2,
            "linecolor": "white",
            "showbackground": true,
            "ticks": "",
            "zerolinecolor": "white"
           },
           "yaxis": {
            "backgroundcolor": "#E5ECF6",
            "gridcolor": "white",
            "gridwidth": 2,
            "linecolor": "white",
            "showbackground": true,
            "ticks": "",
            "zerolinecolor": "white"
           },
           "zaxis": {
            "backgroundcolor": "#E5ECF6",
            "gridcolor": "white",
            "gridwidth": 2,
            "linecolor": "white",
            "showbackground": true,
            "ticks": "",
            "zerolinecolor": "white"
           }
          },
          "shapedefaults": {
           "line": {
            "color": "#2a3f5f"
           }
          },
          "ternary": {
           "aaxis": {
            "gridcolor": "white",
            "linecolor": "white",
            "ticks": ""
           },
           "baxis": {
            "gridcolor": "white",
            "linecolor": "white",
            "ticks": ""
           },
           "bgcolor": "#E5ECF6",
           "caxis": {
            "gridcolor": "white",
            "linecolor": "white",
            "ticks": ""
           }
          },
          "title": {
           "x": 0.05
          },
          "xaxis": {
           "automargin": true,
           "gridcolor": "white",
           "linecolor": "white",
           "ticks": "",
           "title": {
            "standoff": 15
           },
           "zerolinecolor": "white",
           "zerolinewidth": 2
          },
          "yaxis": {
           "automargin": true,
           "gridcolor": "white",
           "linecolor": "white",
           "ticks": "",
           "title": {
            "standoff": 15
           },
           "zerolinecolor": "white",
           "zerolinewidth": 2
          }
         }
        }
       }
      }
     },
     "metadata": {},
     "output_type": "display_data"
    }
   ],
   "source": [
    "fig = go.Figure()\n",
    "\n",
    "fig.add_trace(go.Histogram(histfunc=\"count\", y=percentages_one, x=percentages_one, name=\"One word sentences\"))\n",
    "fig.add_trace(go.Histogram(histfunc=\"count\", y=percentages_two, x=percentages_two, name=\"two words sentences\"))\n",
    "\n",
    "fig.show()"
   ]
  },
  {
   "cell_type": "code",
   "execution_count": 12,
   "metadata": {},
   "outputs": [
    {
     "data": {
      "application/vnd.plotly.v1+json": {
       "config": {
        "plotlyServerURL": "https://plot.ly"
       },
       "data": [
        {
         "histfunc": "count",
         "name": "two words sentences",
         "type": "histogram",
         "x": [
          0.626734733581543,
          1,
          0.9799060821533203,
          0.9999998807907104,
          1,
          0.9510349631309509,
          0.9006837606430054,
          0.7395665645599365,
          0.9978639483451843,
          0.7818455696105957,
          0.9680413007736206,
          0.9830308556556702,
          0.5333057045936584,
          0.9297782182693481,
          0.5453344583511353,
          0.9757102727890015,
          0.9598882794380188,
          1,
          0.9830228686332703,
          0.7275309562683105,
          0.9548707008361816,
          0.9857969880104065,
          0.6256700754165649,
          0.3020176589488983,
          0.9305307269096375,
          0.9572705030441284,
          0.9916423559188843,
          0.994107723236084,
          0.613884687423706,
          0.8472775220870972,
          0.914708137512207,
          1,
          0.9861574172973633,
          0.9072284698486328,
          0.6360432505607605,
          1.000000238418579,
          0.5321136713027954,
          0.3443239629268646,
          0.6184759140014648,
          0.3102020025253296,
          0.7818455696105957,
          0.8238726854324341,
          0.7676067352294922,
          0.8320720195770264,
          0.8757647275924683,
          0.8499743938446045,
          0.9893503189086914,
          0.6701637506484985,
          0.43996715545654297,
          0.8962914943695068,
          0.9906388521194458,
          0.9982415437698364,
          0.45371463894844055,
          0.7385768890380859,
          0.3639499545097351,
          0.4887939691543579,
          0.8360936641693115,
          0.8408877849578857,
          0.4953702390193939,
          0.9965469837188721,
          0.6292181015014648,
          0.7137738466262817,
          0.9805291891098022,
          0.6609394550323486,
          0.978615403175354,
          0.5483654737472534,
          0.8003002405166626,
          0.24501343071460724,
          0.9169267416000366,
          0.8598251342773438,
          0.8587252497673035,
          0.9855227470397949,
          0.9824227094650269,
          0.8861753940582275,
          0.9693765044212341,
          0.3921946883201599,
          0.9463151693344116,
          0.9608724117279053,
          0.975494384765625,
          0.6609516143798828,
          0.774896502494812,
          0.7752097845077515,
          0.6617781519889832,
          0.9999998807907104,
          0.48434019088745117,
          0.6234726905822754,
          0.9047139883041382,
          0.9878885746002197,
          0.3443981409072876,
          0.9737981557846069,
          0.8646526336669922,
          0.738148033618927,
          0.6245132684707642,
          0.9342703819274902,
          0.9578883647918701,
          0.9710811376571655,
          0.8343967795372009,
          0.975494384765625,
          0.9734815955162048,
          0.7875163555145264
         ],
         "y": [
          0.626734733581543,
          1,
          0.9799060821533203,
          0.9999998807907104,
          1,
          0.9510349631309509,
          0.9006837606430054,
          0.7395665645599365,
          0.9978639483451843,
          0.7818455696105957,
          0.9680413007736206,
          0.9830308556556702,
          0.5333057045936584,
          0.9297782182693481,
          0.5453344583511353,
          0.9757102727890015,
          0.9598882794380188,
          1,
          0.9830228686332703,
          0.7275309562683105,
          0.9548707008361816,
          0.9857969880104065,
          0.6256700754165649,
          0.3020176589488983,
          0.9305307269096375,
          0.9572705030441284,
          0.9916423559188843,
          0.994107723236084,
          0.613884687423706,
          0.8472775220870972,
          0.914708137512207,
          1,
          0.9861574172973633,
          0.9072284698486328,
          0.6360432505607605,
          1.000000238418579,
          0.5321136713027954,
          0.3443239629268646,
          0.6184759140014648,
          0.3102020025253296,
          0.7818455696105957,
          0.8238726854324341,
          0.7676067352294922,
          0.8320720195770264,
          0.8757647275924683,
          0.8499743938446045,
          0.9893503189086914,
          0.6701637506484985,
          0.43996715545654297,
          0.8962914943695068,
          0.9906388521194458,
          0.9982415437698364,
          0.45371463894844055,
          0.7385768890380859,
          0.3639499545097351,
          0.4887939691543579,
          0.8360936641693115,
          0.8408877849578857,
          0.4953702390193939,
          0.9965469837188721,
          0.6292181015014648,
          0.7137738466262817,
          0.9805291891098022,
          0.6609394550323486,
          0.978615403175354,
          0.5483654737472534,
          0.8003002405166626,
          0.24501343071460724,
          0.9169267416000366,
          0.8598251342773438,
          0.8587252497673035,
          0.9855227470397949,
          0.9824227094650269,
          0.8861753940582275,
          0.9693765044212341,
          0.3921946883201599,
          0.9463151693344116,
          0.9608724117279053,
          0.975494384765625,
          0.6609516143798828,
          0.774896502494812,
          0.7752097845077515,
          0.6617781519889832,
          0.9999998807907104,
          0.48434019088745117,
          0.6234726905822754,
          0.9047139883041382,
          0.9878885746002197,
          0.3443981409072876,
          0.9737981557846069,
          0.8646526336669922,
          0.738148033618927,
          0.6245132684707642,
          0.9342703819274902,
          0.9578883647918701,
          0.9710811376571655,
          0.8343967795372009,
          0.975494384765625,
          0.9734815955162048,
          0.7875163555145264
         ]
        },
        {
         "histfunc": "count",
         "name": "three words sentences",
         "type": "histogram",
         "x": [
          0.64286208152771,
          0.741635799407959,
          0.9385789036750793,
          0.9620341658592224,
          0.9222398996353149,
          0.8293043375015259,
          0.8847764730453491,
          0.8848836421966553,
          0.95759117603302,
          0.5381799936294556,
          0.9896489381790161,
          0.8530164957046509,
          0.9121538996696472,
          0.9806399941444397,
          0.8365249633789062,
          0.8033069968223572,
          0.8997634649276733,
          0.7555677890777588,
          0.9314150810241699,
          0.78743976354599,
          0.9626191854476929,
          1.000000238418579,
          0.9617236852645874,
          0.6845155954360962,
          0.959320604801178,
          0.8581247925758362,
          0.3988940715789795,
          0.9217724800109863,
          0.8931694030761719,
          0.9874149560928345,
          0.9176090955734253,
          0.9608778357505798,
          0.9028403759002686,
          0.46294844150543213,
          0.9969358444213867,
          0.9479718208312988,
          0.9999999403953552,
          0.47050008177757263,
          0.9583943486213684,
          0.529711127281189,
          0.4499289095401764,
          0.3937222361564636,
          0.4747554659843445,
          0.8499287366867065,
          0.9142348766326904,
          0.5714849829673767,
          0.6022394895553589,
          0.9853947162628174,
          0.9964467287063599,
          0.774688720703125,
          0.828139066696167,
          0.33388444781303406,
          0.9704018831253052,
          0.9049142003059387,
          0.7576083540916443,
          0.9669265747070312,
          0.3849017322063446,
          0.8249772787094116,
          0.9892482161521912,
          0.4971280097961426,
          0.39290863275527954,
          0.8633542060852051,
          0.7851167321205139,
          0.8242443799972534,
          1,
          0.9402239322662354,
          0.7946611642837524,
          0.8131968379020691,
          0.865622878074646,
          1.000000238418579,
          0.35620826482772827,
          1,
          0.3660522699356079,
          0.5948261022567749,
          0.965259313583374,
          0.79355388879776,
          0.9557396173477173,
          0.2551605999469757,
          0.7621439695358276,
          0.5894981622695923,
          0.9050546884536743,
          0.40739214420318604,
          0.4417567849159241,
          0.6239275932312012,
          1,
          0.9030194282531738,
          0.8362208604812622,
          1.0000001192092896,
          0.9574596285820007,
          0.9772313833236694,
          0.9826411008834839,
          0.2740507125854492,
          0.832769513130188,
          0.3810928761959076,
          0.9702168107032776,
          0.9674429893493652,
          0.9420522451400757,
          1.0000001192092896,
          0.7044352889060974,
          0.5590549111366272
         ],
         "y": [
          0.64286208152771,
          0.741635799407959,
          0.9385789036750793,
          0.9620341658592224,
          0.9222398996353149,
          0.8293043375015259,
          0.8847764730453491,
          0.8848836421966553,
          0.95759117603302,
          0.5381799936294556,
          0.9896489381790161,
          0.8530164957046509,
          0.9121538996696472,
          0.9806399941444397,
          0.8365249633789062,
          0.8033069968223572,
          0.8997634649276733,
          0.7555677890777588,
          0.9314150810241699,
          0.78743976354599,
          0.9626191854476929,
          1.000000238418579,
          0.9617236852645874,
          0.6845155954360962,
          0.959320604801178,
          0.8581247925758362,
          0.3988940715789795,
          0.9217724800109863,
          0.8931694030761719,
          0.9874149560928345,
          0.9176090955734253,
          0.9608778357505798,
          0.9028403759002686,
          0.46294844150543213,
          0.9969358444213867,
          0.9479718208312988,
          0.9999999403953552,
          0.47050008177757263,
          0.9583943486213684,
          0.529711127281189,
          0.4499289095401764,
          0.3937222361564636,
          0.4747554659843445,
          0.8499287366867065,
          0.9142348766326904,
          0.5714849829673767,
          0.6022394895553589,
          0.9853947162628174,
          0.9964467287063599,
          0.774688720703125,
          0.828139066696167,
          0.33388444781303406,
          0.9704018831253052,
          0.9049142003059387,
          0.7576083540916443,
          0.9669265747070312,
          0.3849017322063446,
          0.8249772787094116,
          0.9892482161521912,
          0.4971280097961426,
          0.39290863275527954,
          0.8633542060852051,
          0.7851167321205139,
          0.8242443799972534,
          1,
          0.9402239322662354,
          0.7946611642837524,
          0.8131968379020691,
          0.865622878074646,
          1.000000238418579,
          0.35620826482772827,
          1,
          0.3660522699356079,
          0.5948261022567749,
          0.965259313583374,
          0.79355388879776,
          0.9557396173477173,
          0.2551605999469757,
          0.7621439695358276,
          0.5894981622695923,
          0.9050546884536743,
          0.40739214420318604,
          0.4417567849159241,
          0.6239275932312012,
          1,
          0.9030194282531738,
          0.8362208604812622,
          1.0000001192092896,
          0.9574596285820007,
          0.9772313833236694,
          0.9826411008834839,
          0.2740507125854492,
          0.832769513130188,
          0.3810928761959076,
          0.9702168107032776,
          0.9674429893493652,
          0.9420522451400757,
          1.0000001192092896,
          0.7044352889060974,
          0.5590549111366272
         ]
        }
       ],
       "layout": {
        "template": {
         "data": {
          "bar": [
           {
            "error_x": {
             "color": "#2a3f5f"
            },
            "error_y": {
             "color": "#2a3f5f"
            },
            "marker": {
             "line": {
              "color": "#E5ECF6",
              "width": 0.5
             },
             "pattern": {
              "fillmode": "overlay",
              "size": 10,
              "solidity": 0.2
             }
            },
            "type": "bar"
           }
          ],
          "barpolar": [
           {
            "marker": {
             "line": {
              "color": "#E5ECF6",
              "width": 0.5
             },
             "pattern": {
              "fillmode": "overlay",
              "size": 10,
              "solidity": 0.2
             }
            },
            "type": "barpolar"
           }
          ],
          "carpet": [
           {
            "aaxis": {
             "endlinecolor": "#2a3f5f",
             "gridcolor": "white",
             "linecolor": "white",
             "minorgridcolor": "white",
             "startlinecolor": "#2a3f5f"
            },
            "baxis": {
             "endlinecolor": "#2a3f5f",
             "gridcolor": "white",
             "linecolor": "white",
             "minorgridcolor": "white",
             "startlinecolor": "#2a3f5f"
            },
            "type": "carpet"
           }
          ],
          "choropleth": [
           {
            "colorbar": {
             "outlinewidth": 0,
             "ticks": ""
            },
            "type": "choropleth"
           }
          ],
          "contour": [
           {
            "colorbar": {
             "outlinewidth": 0,
             "ticks": ""
            },
            "colorscale": [
             [
              0,
              "#0d0887"
             ],
             [
              0.1111111111111111,
              "#46039f"
             ],
             [
              0.2222222222222222,
              "#7201a8"
             ],
             [
              0.3333333333333333,
              "#9c179e"
             ],
             [
              0.4444444444444444,
              "#bd3786"
             ],
             [
              0.5555555555555556,
              "#d8576b"
             ],
             [
              0.6666666666666666,
              "#ed7953"
             ],
             [
              0.7777777777777778,
              "#fb9f3a"
             ],
             [
              0.8888888888888888,
              "#fdca26"
             ],
             [
              1,
              "#f0f921"
             ]
            ],
            "type": "contour"
           }
          ],
          "contourcarpet": [
           {
            "colorbar": {
             "outlinewidth": 0,
             "ticks": ""
            },
            "type": "contourcarpet"
           }
          ],
          "heatmap": [
           {
            "colorbar": {
             "outlinewidth": 0,
             "ticks": ""
            },
            "colorscale": [
             [
              0,
              "#0d0887"
             ],
             [
              0.1111111111111111,
              "#46039f"
             ],
             [
              0.2222222222222222,
              "#7201a8"
             ],
             [
              0.3333333333333333,
              "#9c179e"
             ],
             [
              0.4444444444444444,
              "#bd3786"
             ],
             [
              0.5555555555555556,
              "#d8576b"
             ],
             [
              0.6666666666666666,
              "#ed7953"
             ],
             [
              0.7777777777777778,
              "#fb9f3a"
             ],
             [
              0.8888888888888888,
              "#fdca26"
             ],
             [
              1,
              "#f0f921"
             ]
            ],
            "type": "heatmap"
           }
          ],
          "heatmapgl": [
           {
            "colorbar": {
             "outlinewidth": 0,
             "ticks": ""
            },
            "colorscale": [
             [
              0,
              "#0d0887"
             ],
             [
              0.1111111111111111,
              "#46039f"
             ],
             [
              0.2222222222222222,
              "#7201a8"
             ],
             [
              0.3333333333333333,
              "#9c179e"
             ],
             [
              0.4444444444444444,
              "#bd3786"
             ],
             [
              0.5555555555555556,
              "#d8576b"
             ],
             [
              0.6666666666666666,
              "#ed7953"
             ],
             [
              0.7777777777777778,
              "#fb9f3a"
             ],
             [
              0.8888888888888888,
              "#fdca26"
             ],
             [
              1,
              "#f0f921"
             ]
            ],
            "type": "heatmapgl"
           }
          ],
          "histogram": [
           {
            "marker": {
             "pattern": {
              "fillmode": "overlay",
              "size": 10,
              "solidity": 0.2
             }
            },
            "type": "histogram"
           }
          ],
          "histogram2d": [
           {
            "colorbar": {
             "outlinewidth": 0,
             "ticks": ""
            },
            "colorscale": [
             [
              0,
              "#0d0887"
             ],
             [
              0.1111111111111111,
              "#46039f"
             ],
             [
              0.2222222222222222,
              "#7201a8"
             ],
             [
              0.3333333333333333,
              "#9c179e"
             ],
             [
              0.4444444444444444,
              "#bd3786"
             ],
             [
              0.5555555555555556,
              "#d8576b"
             ],
             [
              0.6666666666666666,
              "#ed7953"
             ],
             [
              0.7777777777777778,
              "#fb9f3a"
             ],
             [
              0.8888888888888888,
              "#fdca26"
             ],
             [
              1,
              "#f0f921"
             ]
            ],
            "type": "histogram2d"
           }
          ],
          "histogram2dcontour": [
           {
            "colorbar": {
             "outlinewidth": 0,
             "ticks": ""
            },
            "colorscale": [
             [
              0,
              "#0d0887"
             ],
             [
              0.1111111111111111,
              "#46039f"
             ],
             [
              0.2222222222222222,
              "#7201a8"
             ],
             [
              0.3333333333333333,
              "#9c179e"
             ],
             [
              0.4444444444444444,
              "#bd3786"
             ],
             [
              0.5555555555555556,
              "#d8576b"
             ],
             [
              0.6666666666666666,
              "#ed7953"
             ],
             [
              0.7777777777777778,
              "#fb9f3a"
             ],
             [
              0.8888888888888888,
              "#fdca26"
             ],
             [
              1,
              "#f0f921"
             ]
            ],
            "type": "histogram2dcontour"
           }
          ],
          "mesh3d": [
           {
            "colorbar": {
             "outlinewidth": 0,
             "ticks": ""
            },
            "type": "mesh3d"
           }
          ],
          "parcoords": [
           {
            "line": {
             "colorbar": {
              "outlinewidth": 0,
              "ticks": ""
             }
            },
            "type": "parcoords"
           }
          ],
          "pie": [
           {
            "automargin": true,
            "type": "pie"
           }
          ],
          "scatter": [
           {
            "fillpattern": {
             "fillmode": "overlay",
             "size": 10,
             "solidity": 0.2
            },
            "type": "scatter"
           }
          ],
          "scatter3d": [
           {
            "line": {
             "colorbar": {
              "outlinewidth": 0,
              "ticks": ""
             }
            },
            "marker": {
             "colorbar": {
              "outlinewidth": 0,
              "ticks": ""
             }
            },
            "type": "scatter3d"
           }
          ],
          "scattercarpet": [
           {
            "marker": {
             "colorbar": {
              "outlinewidth": 0,
              "ticks": ""
             }
            },
            "type": "scattercarpet"
           }
          ],
          "scattergeo": [
           {
            "marker": {
             "colorbar": {
              "outlinewidth": 0,
              "ticks": ""
             }
            },
            "type": "scattergeo"
           }
          ],
          "scattergl": [
           {
            "marker": {
             "colorbar": {
              "outlinewidth": 0,
              "ticks": ""
             }
            },
            "type": "scattergl"
           }
          ],
          "scattermapbox": [
           {
            "marker": {
             "colorbar": {
              "outlinewidth": 0,
              "ticks": ""
             }
            },
            "type": "scattermapbox"
           }
          ],
          "scatterpolar": [
           {
            "marker": {
             "colorbar": {
              "outlinewidth": 0,
              "ticks": ""
             }
            },
            "type": "scatterpolar"
           }
          ],
          "scatterpolargl": [
           {
            "marker": {
             "colorbar": {
              "outlinewidth": 0,
              "ticks": ""
             }
            },
            "type": "scatterpolargl"
           }
          ],
          "scatterternary": [
           {
            "marker": {
             "colorbar": {
              "outlinewidth": 0,
              "ticks": ""
             }
            },
            "type": "scatterternary"
           }
          ],
          "surface": [
           {
            "colorbar": {
             "outlinewidth": 0,
             "ticks": ""
            },
            "colorscale": [
             [
              0,
              "#0d0887"
             ],
             [
              0.1111111111111111,
              "#46039f"
             ],
             [
              0.2222222222222222,
              "#7201a8"
             ],
             [
              0.3333333333333333,
              "#9c179e"
             ],
             [
              0.4444444444444444,
              "#bd3786"
             ],
             [
              0.5555555555555556,
              "#d8576b"
             ],
             [
              0.6666666666666666,
              "#ed7953"
             ],
             [
              0.7777777777777778,
              "#fb9f3a"
             ],
             [
              0.8888888888888888,
              "#fdca26"
             ],
             [
              1,
              "#f0f921"
             ]
            ],
            "type": "surface"
           }
          ],
          "table": [
           {
            "cells": {
             "fill": {
              "color": "#EBF0F8"
             },
             "line": {
              "color": "white"
             }
            },
            "header": {
             "fill": {
              "color": "#C8D4E3"
             },
             "line": {
              "color": "white"
             }
            },
            "type": "table"
           }
          ]
         },
         "layout": {
          "annotationdefaults": {
           "arrowcolor": "#2a3f5f",
           "arrowhead": 0,
           "arrowwidth": 1
          },
          "autotypenumbers": "strict",
          "coloraxis": {
           "colorbar": {
            "outlinewidth": 0,
            "ticks": ""
           }
          },
          "colorscale": {
           "diverging": [
            [
             0,
             "#8e0152"
            ],
            [
             0.1,
             "#c51b7d"
            ],
            [
             0.2,
             "#de77ae"
            ],
            [
             0.3,
             "#f1b6da"
            ],
            [
             0.4,
             "#fde0ef"
            ],
            [
             0.5,
             "#f7f7f7"
            ],
            [
             0.6,
             "#e6f5d0"
            ],
            [
             0.7,
             "#b8e186"
            ],
            [
             0.8,
             "#7fbc41"
            ],
            [
             0.9,
             "#4d9221"
            ],
            [
             1,
             "#276419"
            ]
           ],
           "sequential": [
            [
             0,
             "#0d0887"
            ],
            [
             0.1111111111111111,
             "#46039f"
            ],
            [
             0.2222222222222222,
             "#7201a8"
            ],
            [
             0.3333333333333333,
             "#9c179e"
            ],
            [
             0.4444444444444444,
             "#bd3786"
            ],
            [
             0.5555555555555556,
             "#d8576b"
            ],
            [
             0.6666666666666666,
             "#ed7953"
            ],
            [
             0.7777777777777778,
             "#fb9f3a"
            ],
            [
             0.8888888888888888,
             "#fdca26"
            ],
            [
             1,
             "#f0f921"
            ]
           ],
           "sequentialminus": [
            [
             0,
             "#0d0887"
            ],
            [
             0.1111111111111111,
             "#46039f"
            ],
            [
             0.2222222222222222,
             "#7201a8"
            ],
            [
             0.3333333333333333,
             "#9c179e"
            ],
            [
             0.4444444444444444,
             "#bd3786"
            ],
            [
             0.5555555555555556,
             "#d8576b"
            ],
            [
             0.6666666666666666,
             "#ed7953"
            ],
            [
             0.7777777777777778,
             "#fb9f3a"
            ],
            [
             0.8888888888888888,
             "#fdca26"
            ],
            [
             1,
             "#f0f921"
            ]
           ]
          },
          "colorway": [
           "#636efa",
           "#EF553B",
           "#00cc96",
           "#ab63fa",
           "#FFA15A",
           "#19d3f3",
           "#FF6692",
           "#B6E880",
           "#FF97FF",
           "#FECB52"
          ],
          "font": {
           "color": "#2a3f5f"
          },
          "geo": {
           "bgcolor": "white",
           "lakecolor": "white",
           "landcolor": "#E5ECF6",
           "showlakes": true,
           "showland": true,
           "subunitcolor": "white"
          },
          "hoverlabel": {
           "align": "left"
          },
          "hovermode": "closest",
          "mapbox": {
           "style": "light"
          },
          "paper_bgcolor": "white",
          "plot_bgcolor": "#E5ECF6",
          "polar": {
           "angularaxis": {
            "gridcolor": "white",
            "linecolor": "white",
            "ticks": ""
           },
           "bgcolor": "#E5ECF6",
           "radialaxis": {
            "gridcolor": "white",
            "linecolor": "white",
            "ticks": ""
           }
          },
          "scene": {
           "xaxis": {
            "backgroundcolor": "#E5ECF6",
            "gridcolor": "white",
            "gridwidth": 2,
            "linecolor": "white",
            "showbackground": true,
            "ticks": "",
            "zerolinecolor": "white"
           },
           "yaxis": {
            "backgroundcolor": "#E5ECF6",
            "gridcolor": "white",
            "gridwidth": 2,
            "linecolor": "white",
            "showbackground": true,
            "ticks": "",
            "zerolinecolor": "white"
           },
           "zaxis": {
            "backgroundcolor": "#E5ECF6",
            "gridcolor": "white",
            "gridwidth": 2,
            "linecolor": "white",
            "showbackground": true,
            "ticks": "",
            "zerolinecolor": "white"
           }
          },
          "shapedefaults": {
           "line": {
            "color": "#2a3f5f"
           }
          },
          "ternary": {
           "aaxis": {
            "gridcolor": "white",
            "linecolor": "white",
            "ticks": ""
           },
           "baxis": {
            "gridcolor": "white",
            "linecolor": "white",
            "ticks": ""
           },
           "bgcolor": "#E5ECF6",
           "caxis": {
            "gridcolor": "white",
            "linecolor": "white",
            "ticks": ""
           }
          },
          "title": {
           "x": 0.05
          },
          "xaxis": {
           "automargin": true,
           "gridcolor": "white",
           "linecolor": "white",
           "ticks": "",
           "title": {
            "standoff": 15
           },
           "zerolinecolor": "white",
           "zerolinewidth": 2
          },
          "yaxis": {
           "automargin": true,
           "gridcolor": "white",
           "linecolor": "white",
           "ticks": "",
           "title": {
            "standoff": 15
           },
           "zerolinecolor": "white",
           "zerolinewidth": 2
          }
         }
        }
       }
      }
     },
     "metadata": {},
     "output_type": "display_data"
    }
   ],
   "source": [
    "fig = go.Figure()\n",
    "fig.add_trace(go.Histogram(histfunc=\"count\", y=percentages_two, x=percentages_two, name=\"two words sentences\"))\n",
    "fig.add_trace(go.Histogram(histfunc=\"count\", y=percentages_three, x=percentages_three, name=\"three words sentences\"))\n",
    "\n",
    "fig.show()\n"
   ]
  },
  {
   "cell_type": "code",
   "execution_count": null,
   "metadata": {},
   "outputs": [
    {
     "data": {
      "application/vnd.plotly.v1+json": {
       "config": {
        "plotlyServerURL": "https://plot.ly"
       },
       "data": [
        {
         "histfunc": "count",
         "name": "three words sentences",
         "type": "histogram",
         "x": [
          0.6003402471542358,
          0.8676134347915649,
          0.9385789036750793,
          0.9620341658592224,
          0.9121701717376709,
          0.8828895092010498,
          0.8847764730453491,
          0.8443692922592163,
          0.5392993092536926,
          0.7784312963485718,
          0.9896489381790161,
          0.8530164957046509,
          0.9121538996696472,
          0.9885540008544922,
          0.7412214279174805,
          0.8033069968223572,
          0.8997634649276733,
          0.7085273265838623,
          0.9314150810241699,
          0.78743976354599,
          0.9626191854476929,
          1.000000238418579,
          0.9603261351585388,
          0.6845155954360962,
          0.959320604801178,
          0.8581247925758362,
          0.3988940715789795,
          0.8202451467514038,
          0.8870338797569275,
          0.9844009876251221,
          0.472647100687027,
          0.9608778357505798,
          0.7146049737930298,
          0.7251002788543701,
          0.9969358444213867,
          0.9387013912200928,
          0.9999999403953552,
          0.47050008177757263,
          0.9583943486213684,
          0.529711127281189,
          0.5476647615432739,
          0.44381511211395264,
          0.6025670170783997,
          0.8499287366867065,
          0.9142348766326904,
          0.5768008232116699,
          0.6022394895553589,
          0.9853947162628174,
          0.9964467287063599,
          0.5933656692504883,
          0.9893155097961426,
          0.9731916189193726,
          0.9704018831253052,
          0.9049142003059387,
          0.7576083540916443,
          0.9669265747070312,
          0.3902735114097595,
          0.8249772787094116,
          0.96523118019104,
          0.5327969789505005,
          0.39290863275527954,
          0.857408881187439,
          0.7908006310462952,
          0.4156274199485779,
          0.9963797330856323,
          0.9498676657676697,
          0.8216890692710876,
          0.8546560406684875,
          0.865622878074646,
          1.000000238418579,
          0.4826314151287079,
          1,
          0.33194708824157715,
          0.6489369869232178,
          0.965259313583374,
          0.5388938188552856,
          0.9690898656845093,
          0.325908899307251,
          0.7621439695358276,
          0.5851465463638306,
          0.9050546884536743,
          0.9330875873565674,
          0.8271498680114746,
          0.5852994918823242,
          1,
          0.904833197593689,
          0.8229400515556335,
          1.0000001192092896,
          0.9574596285820007,
          0.9772313833236694,
          0.9826411008834839,
          0.2740507125854492,
          0.7616087198257446,
          0.5122472643852234,
          0.9702168107032776,
          0.9674429893493652,
          0.9420522451400757,
          1.0000001192092896,
          0.7044352889060974,
          0.5590549111366272
         ],
         "y": [
          0.6003402471542358,
          0.8676134347915649,
          0.9385789036750793,
          0.9620341658592224,
          0.9121701717376709,
          0.8828895092010498,
          0.8847764730453491,
          0.8443692922592163,
          0.5392993092536926,
          0.7784312963485718,
          0.9896489381790161,
          0.8530164957046509,
          0.9121538996696472,
          0.9885540008544922,
          0.7412214279174805,
          0.8033069968223572,
          0.8997634649276733,
          0.7085273265838623,
          0.9314150810241699,
          0.78743976354599,
          0.9626191854476929,
          1.000000238418579,
          0.9603261351585388,
          0.6845155954360962,
          0.959320604801178,
          0.8581247925758362,
          0.3988940715789795,
          0.8202451467514038,
          0.8870338797569275,
          0.9844009876251221,
          0.472647100687027,
          0.9608778357505798,
          0.7146049737930298,
          0.7251002788543701,
          0.9969358444213867,
          0.9387013912200928,
          0.9999999403953552,
          0.47050008177757263,
          0.9583943486213684,
          0.529711127281189,
          0.5476647615432739,
          0.44381511211395264,
          0.6025670170783997,
          0.8499287366867065,
          0.9142348766326904,
          0.5768008232116699,
          0.6022394895553589,
          0.9853947162628174,
          0.9964467287063599,
          0.5933656692504883,
          0.9893155097961426,
          0.9731916189193726,
          0.9704018831253052,
          0.9049142003059387,
          0.7576083540916443,
          0.9669265747070312,
          0.3902735114097595,
          0.8249772787094116,
          0.96523118019104,
          0.5327969789505005,
          0.39290863275527954,
          0.857408881187439,
          0.7908006310462952,
          0.4156274199485779,
          0.9963797330856323,
          0.9498676657676697,
          0.8216890692710876,
          0.8546560406684875,
          0.865622878074646,
          1.000000238418579,
          0.4826314151287079,
          1,
          0.33194708824157715,
          0.6489369869232178,
          0.965259313583374,
          0.5388938188552856,
          0.9690898656845093,
          0.325908899307251,
          0.7621439695358276,
          0.5851465463638306,
          0.9050546884536743,
          0.9330875873565674,
          0.8271498680114746,
          0.5852994918823242,
          1,
          0.904833197593689,
          0.8229400515556335,
          1.0000001192092896,
          0.9574596285820007,
          0.9772313833236694,
          0.9826411008834839,
          0.2740507125854492,
          0.7616087198257446,
          0.5122472643852234,
          0.9702168107032776,
          0.9674429893493652,
          0.9420522451400757,
          1.0000001192092896,
          0.7044352889060974,
          0.5590549111366272
         ]
        },
        {
         "histfunc": "count",
         "name": "four words sentences",
         "type": "histogram",
         "x": [
          0.8204952478408813,
          0.9954919219017029,
          0.7224154472351074,
          0.7749122977256775,
          0.7334334850311279,
          0.8784036636352539,
          0.9690334796905518,
          0.5942057967185974,
          0.538862407207489,
          0.564704179763794,
          0.9999998211860657,
          0.7358789443969727,
          0.9377734661102295,
          0.5288787484169006,
          0.9731781482696533,
          0.9823958873748779,
          0.863921582698822,
          0.8361274003982544,
          0.6060925722122192,
          0.7888438701629639,
          0.641865611076355,
          0.8428723812103271,
          0.7267018556594849,
          0.9445934295654297,
          0.8873851895332336,
          0.7742223739624023,
          0.6404811143875122,
          0.8025707602500916,
          0.8779840469360352,
          0.9105703830718994,
          0.9953484535217285,
          0.9463354349136353,
          0.4526141285896301,
          1.0000001192092896,
          0.4315333366394043,
          0.9744455814361572,
          0.8275699615478516,
          0.6550195813179016,
          0.9658012986183167,
          0.6356275677680969,
          0.699978768825531,
          0.5744662284851074,
          0.5707961916923523,
          0.42231959104537964,
          0.9788373112678528,
          0.8575552105903625,
          0.8835423588752747,
          0.8845282793045044,
          0.6432321071624756,
          0.8286691904067993,
          0.9878545999526978,
          0.4494694471359253,
          0.36461082100868225,
          0.9048649072647095,
          0.5465314388275146,
          0.7134480476379395,
          0.4219823181629181,
          0.9071093797683716,
          0.9596904516220093,
          0.825931191444397,
          0.9999999403953552,
          0.9108773469924927,
          0.7455747127532959,
          0.23500996828079224,
          0.6096082925796509,
          0.851122260093689,
          0.43929561972618103,
          0.9807577133178711,
          0.9758718609809875,
          0.8155975341796875,
          0.24016784131526947,
          0.8432139754295349,
          0.9129856824874878,
          0.9629610776901245,
          0.6155885457992554,
          0.6818892955780029,
          0.6211636066436768,
          0.7585533857345581,
          1,
          0.9715295433998108,
          0.8322221040725708,
          0.8330907225608826,
          0.941562831401825,
          0.6262955665588379,
          0.9524637460708618,
          0.9464210271835327,
          0.9368414878845215,
          0.6391712427139282,
          0.8051483035087585,
          0.776290774345398,
          0.8976322412490845,
          0.8029484748840332,
          0.2509816288948059,
          0.4437313973903656,
          0.7633282542228699,
          0.9191732406616211,
          0.545712947845459,
          0.46567249298095703,
          0.9582091569900513,
          0.7438509464263916
         ],
         "y": [
          0.8204952478408813,
          0.9954919219017029,
          0.7224154472351074,
          0.7749122977256775,
          0.7334334850311279,
          0.8784036636352539,
          0.9690334796905518,
          0.5942057967185974,
          0.538862407207489,
          0.564704179763794,
          0.9999998211860657,
          0.7358789443969727,
          0.9377734661102295,
          0.5288787484169006,
          0.9731781482696533,
          0.9823958873748779,
          0.863921582698822,
          0.8361274003982544,
          0.6060925722122192,
          0.7888438701629639,
          0.641865611076355,
          0.8428723812103271,
          0.7267018556594849,
          0.9445934295654297,
          0.8873851895332336,
          0.7742223739624023,
          0.6404811143875122,
          0.8025707602500916,
          0.8779840469360352,
          0.9105703830718994,
          0.9953484535217285,
          0.9463354349136353,
          0.4526141285896301,
          1.0000001192092896,
          0.4315333366394043,
          0.9744455814361572,
          0.8275699615478516,
          0.6550195813179016,
          0.9658012986183167,
          0.6356275677680969,
          0.699978768825531,
          0.5744662284851074,
          0.5707961916923523,
          0.42231959104537964,
          0.9788373112678528,
          0.8575552105903625,
          0.8835423588752747,
          0.8845282793045044,
          0.6432321071624756,
          0.8286691904067993,
          0.9878545999526978,
          0.4494694471359253,
          0.36461082100868225,
          0.9048649072647095,
          0.5465314388275146,
          0.7134480476379395,
          0.4219823181629181,
          0.9071093797683716,
          0.9596904516220093,
          0.825931191444397,
          0.9999999403953552,
          0.9108773469924927,
          0.7455747127532959,
          0.23500996828079224,
          0.6096082925796509,
          0.851122260093689,
          0.43929561972618103,
          0.9807577133178711,
          0.9758718609809875,
          0.8155975341796875,
          0.24016784131526947,
          0.8432139754295349,
          0.9129856824874878,
          0.9629610776901245,
          0.6155885457992554,
          0.6818892955780029,
          0.6211636066436768,
          0.7585533857345581,
          1,
          0.9715295433998108,
          0.8322221040725708,
          0.8330907225608826,
          0.941562831401825,
          0.6262955665588379,
          0.9524637460708618,
          0.9464210271835327,
          0.9368414878845215,
          0.6391712427139282,
          0.8051483035087585,
          0.776290774345398,
          0.8976322412490845,
          0.8029484748840332,
          0.2509816288948059,
          0.4437313973903656,
          0.7633282542228699,
          0.9191732406616211,
          0.545712947845459,
          0.46567249298095703,
          0.9582091569900513,
          0.7438509464263916
         ]
        }
       ],
       "layout": {
        "template": {
         "data": {
          "bar": [
           {
            "error_x": {
             "color": "#2a3f5f"
            },
            "error_y": {
             "color": "#2a3f5f"
            },
            "marker": {
             "line": {
              "color": "#E5ECF6",
              "width": 0.5
             },
             "pattern": {
              "fillmode": "overlay",
              "size": 10,
              "solidity": 0.2
             }
            },
            "type": "bar"
           }
          ],
          "barpolar": [
           {
            "marker": {
             "line": {
              "color": "#E5ECF6",
              "width": 0.5
             },
             "pattern": {
              "fillmode": "overlay",
              "size": 10,
              "solidity": 0.2
             }
            },
            "type": "barpolar"
           }
          ],
          "carpet": [
           {
            "aaxis": {
             "endlinecolor": "#2a3f5f",
             "gridcolor": "white",
             "linecolor": "white",
             "minorgridcolor": "white",
             "startlinecolor": "#2a3f5f"
            },
            "baxis": {
             "endlinecolor": "#2a3f5f",
             "gridcolor": "white",
             "linecolor": "white",
             "minorgridcolor": "white",
             "startlinecolor": "#2a3f5f"
            },
            "type": "carpet"
           }
          ],
          "choropleth": [
           {
            "colorbar": {
             "outlinewidth": 0,
             "ticks": ""
            },
            "type": "choropleth"
           }
          ],
          "contour": [
           {
            "colorbar": {
             "outlinewidth": 0,
             "ticks": ""
            },
            "colorscale": [
             [
              0,
              "#0d0887"
             ],
             [
              0.1111111111111111,
              "#46039f"
             ],
             [
              0.2222222222222222,
              "#7201a8"
             ],
             [
              0.3333333333333333,
              "#9c179e"
             ],
             [
              0.4444444444444444,
              "#bd3786"
             ],
             [
              0.5555555555555556,
              "#d8576b"
             ],
             [
              0.6666666666666666,
              "#ed7953"
             ],
             [
              0.7777777777777778,
              "#fb9f3a"
             ],
             [
              0.8888888888888888,
              "#fdca26"
             ],
             [
              1,
              "#f0f921"
             ]
            ],
            "type": "contour"
           }
          ],
          "contourcarpet": [
           {
            "colorbar": {
             "outlinewidth": 0,
             "ticks": ""
            },
            "type": "contourcarpet"
           }
          ],
          "heatmap": [
           {
            "colorbar": {
             "outlinewidth": 0,
             "ticks": ""
            },
            "colorscale": [
             [
              0,
              "#0d0887"
             ],
             [
              0.1111111111111111,
              "#46039f"
             ],
             [
              0.2222222222222222,
              "#7201a8"
             ],
             [
              0.3333333333333333,
              "#9c179e"
             ],
             [
              0.4444444444444444,
              "#bd3786"
             ],
             [
              0.5555555555555556,
              "#d8576b"
             ],
             [
              0.6666666666666666,
              "#ed7953"
             ],
             [
              0.7777777777777778,
              "#fb9f3a"
             ],
             [
              0.8888888888888888,
              "#fdca26"
             ],
             [
              1,
              "#f0f921"
             ]
            ],
            "type": "heatmap"
           }
          ],
          "heatmapgl": [
           {
            "colorbar": {
             "outlinewidth": 0,
             "ticks": ""
            },
            "colorscale": [
             [
              0,
              "#0d0887"
             ],
             [
              0.1111111111111111,
              "#46039f"
             ],
             [
              0.2222222222222222,
              "#7201a8"
             ],
             [
              0.3333333333333333,
              "#9c179e"
             ],
             [
              0.4444444444444444,
              "#bd3786"
             ],
             [
              0.5555555555555556,
              "#d8576b"
             ],
             [
              0.6666666666666666,
              "#ed7953"
             ],
             [
              0.7777777777777778,
              "#fb9f3a"
             ],
             [
              0.8888888888888888,
              "#fdca26"
             ],
             [
              1,
              "#f0f921"
             ]
            ],
            "type": "heatmapgl"
           }
          ],
          "histogram": [
           {
            "marker": {
             "pattern": {
              "fillmode": "overlay",
              "size": 10,
              "solidity": 0.2
             }
            },
            "type": "histogram"
           }
          ],
          "histogram2d": [
           {
            "colorbar": {
             "outlinewidth": 0,
             "ticks": ""
            },
            "colorscale": [
             [
              0,
              "#0d0887"
             ],
             [
              0.1111111111111111,
              "#46039f"
             ],
             [
              0.2222222222222222,
              "#7201a8"
             ],
             [
              0.3333333333333333,
              "#9c179e"
             ],
             [
              0.4444444444444444,
              "#bd3786"
             ],
             [
              0.5555555555555556,
              "#d8576b"
             ],
             [
              0.6666666666666666,
              "#ed7953"
             ],
             [
              0.7777777777777778,
              "#fb9f3a"
             ],
             [
              0.8888888888888888,
              "#fdca26"
             ],
             [
              1,
              "#f0f921"
             ]
            ],
            "type": "histogram2d"
           }
          ],
          "histogram2dcontour": [
           {
            "colorbar": {
             "outlinewidth": 0,
             "ticks": ""
            },
            "colorscale": [
             [
              0,
              "#0d0887"
             ],
             [
              0.1111111111111111,
              "#46039f"
             ],
             [
              0.2222222222222222,
              "#7201a8"
             ],
             [
              0.3333333333333333,
              "#9c179e"
             ],
             [
              0.4444444444444444,
              "#bd3786"
             ],
             [
              0.5555555555555556,
              "#d8576b"
             ],
             [
              0.6666666666666666,
              "#ed7953"
             ],
             [
              0.7777777777777778,
              "#fb9f3a"
             ],
             [
              0.8888888888888888,
              "#fdca26"
             ],
             [
              1,
              "#f0f921"
             ]
            ],
            "type": "histogram2dcontour"
           }
          ],
          "mesh3d": [
           {
            "colorbar": {
             "outlinewidth": 0,
             "ticks": ""
            },
            "type": "mesh3d"
           }
          ],
          "parcoords": [
           {
            "line": {
             "colorbar": {
              "outlinewidth": 0,
              "ticks": ""
             }
            },
            "type": "parcoords"
           }
          ],
          "pie": [
           {
            "automargin": true,
            "type": "pie"
           }
          ],
          "scatter": [
           {
            "fillpattern": {
             "fillmode": "overlay",
             "size": 10,
             "solidity": 0.2
            },
            "type": "scatter"
           }
          ],
          "scatter3d": [
           {
            "line": {
             "colorbar": {
              "outlinewidth": 0,
              "ticks": ""
             }
            },
            "marker": {
             "colorbar": {
              "outlinewidth": 0,
              "ticks": ""
             }
            },
            "type": "scatter3d"
           }
          ],
          "scattercarpet": [
           {
            "marker": {
             "colorbar": {
              "outlinewidth": 0,
              "ticks": ""
             }
            },
            "type": "scattercarpet"
           }
          ],
          "scattergeo": [
           {
            "marker": {
             "colorbar": {
              "outlinewidth": 0,
              "ticks": ""
             }
            },
            "type": "scattergeo"
           }
          ],
          "scattergl": [
           {
            "marker": {
             "colorbar": {
              "outlinewidth": 0,
              "ticks": ""
             }
            },
            "type": "scattergl"
           }
          ],
          "scattermapbox": [
           {
            "marker": {
             "colorbar": {
              "outlinewidth": 0,
              "ticks": ""
             }
            },
            "type": "scattermapbox"
           }
          ],
          "scatterpolar": [
           {
            "marker": {
             "colorbar": {
              "outlinewidth": 0,
              "ticks": ""
             }
            },
            "type": "scatterpolar"
           }
          ],
          "scatterpolargl": [
           {
            "marker": {
             "colorbar": {
              "outlinewidth": 0,
              "ticks": ""
             }
            },
            "type": "scatterpolargl"
           }
          ],
          "scatterternary": [
           {
            "marker": {
             "colorbar": {
              "outlinewidth": 0,
              "ticks": ""
             }
            },
            "type": "scatterternary"
           }
          ],
          "surface": [
           {
            "colorbar": {
             "outlinewidth": 0,
             "ticks": ""
            },
            "colorscale": [
             [
              0,
              "#0d0887"
             ],
             [
              0.1111111111111111,
              "#46039f"
             ],
             [
              0.2222222222222222,
              "#7201a8"
             ],
             [
              0.3333333333333333,
              "#9c179e"
             ],
             [
              0.4444444444444444,
              "#bd3786"
             ],
             [
              0.5555555555555556,
              "#d8576b"
             ],
             [
              0.6666666666666666,
              "#ed7953"
             ],
             [
              0.7777777777777778,
              "#fb9f3a"
             ],
             [
              0.8888888888888888,
              "#fdca26"
             ],
             [
              1,
              "#f0f921"
             ]
            ],
            "type": "surface"
           }
          ],
          "table": [
           {
            "cells": {
             "fill": {
              "color": "#EBF0F8"
             },
             "line": {
              "color": "white"
             }
            },
            "header": {
             "fill": {
              "color": "#C8D4E3"
             },
             "line": {
              "color": "white"
             }
            },
            "type": "table"
           }
          ]
         },
         "layout": {
          "annotationdefaults": {
           "arrowcolor": "#2a3f5f",
           "arrowhead": 0,
           "arrowwidth": 1
          },
          "autotypenumbers": "strict",
          "coloraxis": {
           "colorbar": {
            "outlinewidth": 0,
            "ticks": ""
           }
          },
          "colorscale": {
           "diverging": [
            [
             0,
             "#8e0152"
            ],
            [
             0.1,
             "#c51b7d"
            ],
            [
             0.2,
             "#de77ae"
            ],
            [
             0.3,
             "#f1b6da"
            ],
            [
             0.4,
             "#fde0ef"
            ],
            [
             0.5,
             "#f7f7f7"
            ],
            [
             0.6,
             "#e6f5d0"
            ],
            [
             0.7,
             "#b8e186"
            ],
            [
             0.8,
             "#7fbc41"
            ],
            [
             0.9,
             "#4d9221"
            ],
            [
             1,
             "#276419"
            ]
           ],
           "sequential": [
            [
             0,
             "#0d0887"
            ],
            [
             0.1111111111111111,
             "#46039f"
            ],
            [
             0.2222222222222222,
             "#7201a8"
            ],
            [
             0.3333333333333333,
             "#9c179e"
            ],
            [
             0.4444444444444444,
             "#bd3786"
            ],
            [
             0.5555555555555556,
             "#d8576b"
            ],
            [
             0.6666666666666666,
             "#ed7953"
            ],
            [
             0.7777777777777778,
             "#fb9f3a"
            ],
            [
             0.8888888888888888,
             "#fdca26"
            ],
            [
             1,
             "#f0f921"
            ]
           ],
           "sequentialminus": [
            [
             0,
             "#0d0887"
            ],
            [
             0.1111111111111111,
             "#46039f"
            ],
            [
             0.2222222222222222,
             "#7201a8"
            ],
            [
             0.3333333333333333,
             "#9c179e"
            ],
            [
             0.4444444444444444,
             "#bd3786"
            ],
            [
             0.5555555555555556,
             "#d8576b"
            ],
            [
             0.6666666666666666,
             "#ed7953"
            ],
            [
             0.7777777777777778,
             "#fb9f3a"
            ],
            [
             0.8888888888888888,
             "#fdca26"
            ],
            [
             1,
             "#f0f921"
            ]
           ]
          },
          "colorway": [
           "#636efa",
           "#EF553B",
           "#00cc96",
           "#ab63fa",
           "#FFA15A",
           "#19d3f3",
           "#FF6692",
           "#B6E880",
           "#FF97FF",
           "#FECB52"
          ],
          "font": {
           "color": "#2a3f5f"
          },
          "geo": {
           "bgcolor": "white",
           "lakecolor": "white",
           "landcolor": "#E5ECF6",
           "showlakes": true,
           "showland": true,
           "subunitcolor": "white"
          },
          "hoverlabel": {
           "align": "left"
          },
          "hovermode": "closest",
          "mapbox": {
           "style": "light"
          },
          "paper_bgcolor": "white",
          "plot_bgcolor": "#E5ECF6",
          "polar": {
           "angularaxis": {
            "gridcolor": "white",
            "linecolor": "white",
            "ticks": ""
           },
           "bgcolor": "#E5ECF6",
           "radialaxis": {
            "gridcolor": "white",
            "linecolor": "white",
            "ticks": ""
           }
          },
          "scene": {
           "xaxis": {
            "backgroundcolor": "#E5ECF6",
            "gridcolor": "white",
            "gridwidth": 2,
            "linecolor": "white",
            "showbackground": true,
            "ticks": "",
            "zerolinecolor": "white"
           },
           "yaxis": {
            "backgroundcolor": "#E5ECF6",
            "gridcolor": "white",
            "gridwidth": 2,
            "linecolor": "white",
            "showbackground": true,
            "ticks": "",
            "zerolinecolor": "white"
           },
           "zaxis": {
            "backgroundcolor": "#E5ECF6",
            "gridcolor": "white",
            "gridwidth": 2,
            "linecolor": "white",
            "showbackground": true,
            "ticks": "",
            "zerolinecolor": "white"
           }
          },
          "shapedefaults": {
           "line": {
            "color": "#2a3f5f"
           }
          },
          "ternary": {
           "aaxis": {
            "gridcolor": "white",
            "linecolor": "white",
            "ticks": ""
           },
           "baxis": {
            "gridcolor": "white",
            "linecolor": "white",
            "ticks": ""
           },
           "bgcolor": "#E5ECF6",
           "caxis": {
            "gridcolor": "white",
            "linecolor": "white",
            "ticks": ""
           }
          },
          "title": {
           "x": 0.05
          },
          "xaxis": {
           "automargin": true,
           "gridcolor": "white",
           "linecolor": "white",
           "ticks": "",
           "title": {
            "standoff": 15
           },
           "zerolinecolor": "white",
           "zerolinewidth": 2
          },
          "yaxis": {
           "automargin": true,
           "gridcolor": "white",
           "linecolor": "white",
           "ticks": "",
           "title": {
            "standoff": 15
           },
           "zerolinecolor": "white",
           "zerolinewidth": 2
          }
         }
        }
       }
      }
     },
     "metadata": {},
     "output_type": "display_data"
    }
   ],
   "source": [
    "fig = go.Figure()\n",
    "\n",
    "fig.add_trace(go.Histogram(histfunc=\"count\", y=percentages_three, x=percentages_three, name=\"three words sentences\"))\n",
    "\n",
    "fig.add_trace(go.Histogram(histfunc=\"count\", y=percentages_four, x=percentages_four, name=\"four words sentences\"))\n",
    "\n",
    "fig.show()\n"
   ]
  },
  {
   "cell_type": "code",
   "execution_count": 13,
   "metadata": {},
   "outputs": [
    {
     "data": {
      "application/vnd.plotly.v1+json": {
       "config": {
        "plotlyServerURL": "https://plot.ly"
       },
       "data": [
        {
         "histfunc": "count",
         "name": "four words sentences",
         "type": "histogram",
         "x": [
          0.9780573844909668,
          0.9894101023674011,
          0.7692865133285522,
          0.8133152723312378,
          0.7968389987945557,
          0.8739559650421143,
          0.8446152806282043,
          0.6089800596237183,
          0.538862407207489,
          0.7830408811569214,
          0.9999998211860657,
          0.9673511385917664,
          0.8930277824401855,
          0.5777741074562073,
          0.9684559106826782,
          0.9819891452789307,
          0.990257203578949,
          0.7489171028137207,
          0.8366107940673828,
          0.7979662418365479,
          0.6085944175720215,
          0.9075895547866821,
          0.7267018556594849,
          0.9806650876998901,
          0.8873851895332336,
          0.6437078714370728,
          0.6404811143875122,
          0.8025707602500916,
          0.9055665731430054,
          0.7936564683914185,
          0.9953484535217285,
          0.5535793304443359,
          0.2850174605846405,
          1.0000001192092896,
          0.6860988140106201,
          0.8348770141601562,
          0.8536273837089539,
          0.6550195813179016,
          0.9658012986183167,
          0.5166752338409424,
          0.6754965782165527,
          0.7416451573371887,
          0.5707961916923523,
          0.42943763732910156,
          0.9788373112678528,
          0.8575552105903625,
          0.8835423588752747,
          0.8845282793045044,
          0.7331804633140564,
          0.7946040630340576,
          0.9878545999526978,
          0.4546688199043274,
          0.9413246512413025,
          0.8589368462562561,
          0.5465314388275146,
          0.8166875839233398,
          0.8638471364974976,
          0.8865398168563843,
          0.9596904516220093,
          0.04179332032799721,
          0.9999999403953552,
          0.8562406301498413,
          0.7641615867614746,
          0.23500996828079224,
          0.6096082925796509,
          0.7060602903366089,
          0.7187405228614807,
          0.9677709937095642,
          0.9758718609809875,
          0.8173627853393555,
          0.24016784131526947,
          0.8660017251968384,
          0.9531124830245972,
          0.9629610776901245,
          0.6155885457992554,
          0.6818892955780029,
          0.49915987253189087,
          0.5067010521888733,
          1,
          0.9897531867027283,
          0.8411794900894165,
          0.8143181800842285,
          0.941562831401825,
          0.3473820984363556,
          0.9524637460708618,
          0.9438686370849609,
          0.9423094987869263,
          0.6366406679153442,
          0.8051483035087585,
          0.776290774345398,
          0.8976322412490845,
          0.7735565304756165,
          0.20509853959083557,
          0.7207725644111633,
          0.640304684638977,
          0.6297831535339355,
          0.577910304069519,
          0.9652479887008667,
          0.9636330008506775,
          0.7438509464263916
         ],
         "y": [
          0.9780573844909668,
          0.9894101023674011,
          0.7692865133285522,
          0.8133152723312378,
          0.7968389987945557,
          0.8739559650421143,
          0.8446152806282043,
          0.6089800596237183,
          0.538862407207489,
          0.7830408811569214,
          0.9999998211860657,
          0.9673511385917664,
          0.8930277824401855,
          0.5777741074562073,
          0.9684559106826782,
          0.9819891452789307,
          0.990257203578949,
          0.7489171028137207,
          0.8366107940673828,
          0.7979662418365479,
          0.6085944175720215,
          0.9075895547866821,
          0.7267018556594849,
          0.9806650876998901,
          0.8873851895332336,
          0.6437078714370728,
          0.6404811143875122,
          0.8025707602500916,
          0.9055665731430054,
          0.7936564683914185,
          0.9953484535217285,
          0.5535793304443359,
          0.2850174605846405,
          1.0000001192092896,
          0.6860988140106201,
          0.8348770141601562,
          0.8536273837089539,
          0.6550195813179016,
          0.9658012986183167,
          0.5166752338409424,
          0.6754965782165527,
          0.7416451573371887,
          0.5707961916923523,
          0.42943763732910156,
          0.9788373112678528,
          0.8575552105903625,
          0.8835423588752747,
          0.8845282793045044,
          0.7331804633140564,
          0.7946040630340576,
          0.9878545999526978,
          0.4546688199043274,
          0.9413246512413025,
          0.8589368462562561,
          0.5465314388275146,
          0.8166875839233398,
          0.8638471364974976,
          0.8865398168563843,
          0.9596904516220093,
          0.04179332032799721,
          0.9999999403953552,
          0.8562406301498413,
          0.7641615867614746,
          0.23500996828079224,
          0.6096082925796509,
          0.7060602903366089,
          0.7187405228614807,
          0.9677709937095642,
          0.9758718609809875,
          0.8173627853393555,
          0.24016784131526947,
          0.8660017251968384,
          0.9531124830245972,
          0.9629610776901245,
          0.6155885457992554,
          0.6818892955780029,
          0.49915987253189087,
          0.5067010521888733,
          1,
          0.9897531867027283,
          0.8411794900894165,
          0.8143181800842285,
          0.941562831401825,
          0.3473820984363556,
          0.9524637460708618,
          0.9438686370849609,
          0.9423094987869263,
          0.6366406679153442,
          0.8051483035087585,
          0.776290774345398,
          0.8976322412490845,
          0.7735565304756165,
          0.20509853959083557,
          0.7207725644111633,
          0.640304684638977,
          0.6297831535339355,
          0.577910304069519,
          0.9652479887008667,
          0.9636330008506775,
          0.7438509464263916
         ]
        },
        {
         "histfunc": "count",
         "name": "five or more words sentences",
         "type": "histogram",
         "x": [
          0.9072954654693604,
          0.7351494431495667,
          0.4117192029953003,
          0.46959859132766724,
          0.5739201307296753,
          0.9779132604598999,
          0.4888285994529724,
          0.7795675992965698,
          0.8986822366714478,
          0.2900736331939697,
          0.8097768425941467,
          0.8924274444580078,
          0.9122880697250366,
          0.9227092862129211,
          0.887698769569397,
          0.410932332277298,
          0.9917716979980469,
          0.6512298583984375,
          0.5825623273849487,
          0.6394098997116089,
          0.8179634213447571,
          0.6549315452575684,
          0.806961178779602,
          0.9820542931556702,
          0.5799588561058044,
          0.8687965869903564,
          0.6499897241592407,
          0.8799267411231995,
          0.7281920909881592,
          0.7589783668518066,
          0.5665791034698486,
          0.8934741020202637,
          0.9020214676856995,
          0.8415822982788086,
          0.6157137155532837,
          0.835928201675415,
          0.9107258319854736,
          0.9539519548416138,
          0.42433661222457886,
          0.5766903758049011,
          0.35080599784851074,
          0.6851513385772705,
          0.9457689523696899,
          0.3897307515144348,
          0.49040287733078003,
          0.5810813903808594,
          0.8614425659179688,
          0.9389909505844116,
          0.855008602142334,
          0.7240934371948242,
          0.2604096531867981,
          0.4521799087524414,
          0.16058792173862457,
          0.5628771781921387,
          0.6792705655097961,
          0.9403026103973389,
          0.4821123480796814,
          0.4833337068557739,
          0.29983651638031006,
          0.9204908609390259,
          0.7147915363311768,
          0.5057564973831177,
          0.6962181329727173,
          0.9979067444801331,
          0.8539949655532837,
          0.8550980091094971,
          0.9871389865875244,
          0.2888738811016083,
          0.8666954040527344,
          0.705735981464386,
          0.9202256202697754,
          0.2842416763305664,
          0.8413752317428589,
          0.61684250831604,
          0.8016321063041687,
          0.4752255082130432,
          0.4777473211288452,
          0.9138514399528503,
          0.4539816975593567,
          0.7316433191299438,
          0.7423732280731201,
          0.7629364728927612,
          0.9612517952919006,
          0.8577240705490112,
          0.9072638750076294,
          0.5909394025802612,
          0.821815013885498,
          0.8915613889694214,
          0.7806692719459534,
          0.8303806781768799,
          0.5942318439483643,
          0.6636670827865601,
          0.9073360562324524,
          0.8652211427688599,
          0.6834521889686584,
          0.9040217399597168,
          0.7255637049674988,
          0.7673532366752625,
          0.6055182218551636,
          0.5656764507293701
         ],
         "y": [
          0.9072954654693604,
          0.7351494431495667,
          0.4117192029953003,
          0.46959859132766724,
          0.5739201307296753,
          0.9779132604598999,
          0.4888285994529724,
          0.7795675992965698,
          0.8986822366714478,
          0.2900736331939697,
          0.8097768425941467,
          0.8924274444580078,
          0.9122880697250366,
          0.9227092862129211,
          0.887698769569397,
          0.410932332277298,
          0.9917716979980469,
          0.6512298583984375,
          0.5825623273849487,
          0.6394098997116089,
          0.8179634213447571,
          0.6549315452575684,
          0.806961178779602,
          0.9820542931556702,
          0.5799588561058044,
          0.8687965869903564,
          0.6499897241592407,
          0.8799267411231995,
          0.7281920909881592,
          0.7589783668518066,
          0.5665791034698486,
          0.8934741020202637,
          0.9020214676856995,
          0.8415822982788086,
          0.6157137155532837,
          0.835928201675415,
          0.9107258319854736,
          0.9539519548416138,
          0.42433661222457886,
          0.5766903758049011,
          0.35080599784851074,
          0.6851513385772705,
          0.9457689523696899,
          0.3897307515144348,
          0.49040287733078003,
          0.5810813903808594,
          0.8614425659179688,
          0.9389909505844116,
          0.855008602142334,
          0.7240934371948242,
          0.2604096531867981,
          0.4521799087524414,
          0.16058792173862457,
          0.5628771781921387,
          0.6792705655097961,
          0.9403026103973389,
          0.4821123480796814,
          0.4833337068557739,
          0.29983651638031006,
          0.9204908609390259,
          0.7147915363311768,
          0.5057564973831177,
          0.6962181329727173,
          0.9979067444801331,
          0.8539949655532837,
          0.8550980091094971,
          0.9871389865875244,
          0.2888738811016083,
          0.8666954040527344,
          0.705735981464386,
          0.9202256202697754,
          0.2842416763305664,
          0.8413752317428589,
          0.61684250831604,
          0.8016321063041687,
          0.4752255082130432,
          0.4777473211288452,
          0.9138514399528503,
          0.4539816975593567,
          0.7316433191299438,
          0.7423732280731201,
          0.7629364728927612,
          0.9612517952919006,
          0.8577240705490112,
          0.9072638750076294,
          0.5909394025802612,
          0.821815013885498,
          0.8915613889694214,
          0.7806692719459534,
          0.8303806781768799,
          0.5942318439483643,
          0.6636670827865601,
          0.9073360562324524,
          0.8652211427688599,
          0.6834521889686584,
          0.9040217399597168,
          0.7255637049674988,
          0.7673532366752625,
          0.6055182218551636,
          0.5656764507293701
         ]
        }
       ],
       "layout": {
        "template": {
         "data": {
          "bar": [
           {
            "error_x": {
             "color": "#2a3f5f"
            },
            "error_y": {
             "color": "#2a3f5f"
            },
            "marker": {
             "line": {
              "color": "#E5ECF6",
              "width": 0.5
             },
             "pattern": {
              "fillmode": "overlay",
              "size": 10,
              "solidity": 0.2
             }
            },
            "type": "bar"
           }
          ],
          "barpolar": [
           {
            "marker": {
             "line": {
              "color": "#E5ECF6",
              "width": 0.5
             },
             "pattern": {
              "fillmode": "overlay",
              "size": 10,
              "solidity": 0.2
             }
            },
            "type": "barpolar"
           }
          ],
          "carpet": [
           {
            "aaxis": {
             "endlinecolor": "#2a3f5f",
             "gridcolor": "white",
             "linecolor": "white",
             "minorgridcolor": "white",
             "startlinecolor": "#2a3f5f"
            },
            "baxis": {
             "endlinecolor": "#2a3f5f",
             "gridcolor": "white",
             "linecolor": "white",
             "minorgridcolor": "white",
             "startlinecolor": "#2a3f5f"
            },
            "type": "carpet"
           }
          ],
          "choropleth": [
           {
            "colorbar": {
             "outlinewidth": 0,
             "ticks": ""
            },
            "type": "choropleth"
           }
          ],
          "contour": [
           {
            "colorbar": {
             "outlinewidth": 0,
             "ticks": ""
            },
            "colorscale": [
             [
              0,
              "#0d0887"
             ],
             [
              0.1111111111111111,
              "#46039f"
             ],
             [
              0.2222222222222222,
              "#7201a8"
             ],
             [
              0.3333333333333333,
              "#9c179e"
             ],
             [
              0.4444444444444444,
              "#bd3786"
             ],
             [
              0.5555555555555556,
              "#d8576b"
             ],
             [
              0.6666666666666666,
              "#ed7953"
             ],
             [
              0.7777777777777778,
              "#fb9f3a"
             ],
             [
              0.8888888888888888,
              "#fdca26"
             ],
             [
              1,
              "#f0f921"
             ]
            ],
            "type": "contour"
           }
          ],
          "contourcarpet": [
           {
            "colorbar": {
             "outlinewidth": 0,
             "ticks": ""
            },
            "type": "contourcarpet"
           }
          ],
          "heatmap": [
           {
            "colorbar": {
             "outlinewidth": 0,
             "ticks": ""
            },
            "colorscale": [
             [
              0,
              "#0d0887"
             ],
             [
              0.1111111111111111,
              "#46039f"
             ],
             [
              0.2222222222222222,
              "#7201a8"
             ],
             [
              0.3333333333333333,
              "#9c179e"
             ],
             [
              0.4444444444444444,
              "#bd3786"
             ],
             [
              0.5555555555555556,
              "#d8576b"
             ],
             [
              0.6666666666666666,
              "#ed7953"
             ],
             [
              0.7777777777777778,
              "#fb9f3a"
             ],
             [
              0.8888888888888888,
              "#fdca26"
             ],
             [
              1,
              "#f0f921"
             ]
            ],
            "type": "heatmap"
           }
          ],
          "heatmapgl": [
           {
            "colorbar": {
             "outlinewidth": 0,
             "ticks": ""
            },
            "colorscale": [
             [
              0,
              "#0d0887"
             ],
             [
              0.1111111111111111,
              "#46039f"
             ],
             [
              0.2222222222222222,
              "#7201a8"
             ],
             [
              0.3333333333333333,
              "#9c179e"
             ],
             [
              0.4444444444444444,
              "#bd3786"
             ],
             [
              0.5555555555555556,
              "#d8576b"
             ],
             [
              0.6666666666666666,
              "#ed7953"
             ],
             [
              0.7777777777777778,
              "#fb9f3a"
             ],
             [
              0.8888888888888888,
              "#fdca26"
             ],
             [
              1,
              "#f0f921"
             ]
            ],
            "type": "heatmapgl"
           }
          ],
          "histogram": [
           {
            "marker": {
             "pattern": {
              "fillmode": "overlay",
              "size": 10,
              "solidity": 0.2
             }
            },
            "type": "histogram"
           }
          ],
          "histogram2d": [
           {
            "colorbar": {
             "outlinewidth": 0,
             "ticks": ""
            },
            "colorscale": [
             [
              0,
              "#0d0887"
             ],
             [
              0.1111111111111111,
              "#46039f"
             ],
             [
              0.2222222222222222,
              "#7201a8"
             ],
             [
              0.3333333333333333,
              "#9c179e"
             ],
             [
              0.4444444444444444,
              "#bd3786"
             ],
             [
              0.5555555555555556,
              "#d8576b"
             ],
             [
              0.6666666666666666,
              "#ed7953"
             ],
             [
              0.7777777777777778,
              "#fb9f3a"
             ],
             [
              0.8888888888888888,
              "#fdca26"
             ],
             [
              1,
              "#f0f921"
             ]
            ],
            "type": "histogram2d"
           }
          ],
          "histogram2dcontour": [
           {
            "colorbar": {
             "outlinewidth": 0,
             "ticks": ""
            },
            "colorscale": [
             [
              0,
              "#0d0887"
             ],
             [
              0.1111111111111111,
              "#46039f"
             ],
             [
              0.2222222222222222,
              "#7201a8"
             ],
             [
              0.3333333333333333,
              "#9c179e"
             ],
             [
              0.4444444444444444,
              "#bd3786"
             ],
             [
              0.5555555555555556,
              "#d8576b"
             ],
             [
              0.6666666666666666,
              "#ed7953"
             ],
             [
              0.7777777777777778,
              "#fb9f3a"
             ],
             [
              0.8888888888888888,
              "#fdca26"
             ],
             [
              1,
              "#f0f921"
             ]
            ],
            "type": "histogram2dcontour"
           }
          ],
          "mesh3d": [
           {
            "colorbar": {
             "outlinewidth": 0,
             "ticks": ""
            },
            "type": "mesh3d"
           }
          ],
          "parcoords": [
           {
            "line": {
             "colorbar": {
              "outlinewidth": 0,
              "ticks": ""
             }
            },
            "type": "parcoords"
           }
          ],
          "pie": [
           {
            "automargin": true,
            "type": "pie"
           }
          ],
          "scatter": [
           {
            "fillpattern": {
             "fillmode": "overlay",
             "size": 10,
             "solidity": 0.2
            },
            "type": "scatter"
           }
          ],
          "scatter3d": [
           {
            "line": {
             "colorbar": {
              "outlinewidth": 0,
              "ticks": ""
             }
            },
            "marker": {
             "colorbar": {
              "outlinewidth": 0,
              "ticks": ""
             }
            },
            "type": "scatter3d"
           }
          ],
          "scattercarpet": [
           {
            "marker": {
             "colorbar": {
              "outlinewidth": 0,
              "ticks": ""
             }
            },
            "type": "scattercarpet"
           }
          ],
          "scattergeo": [
           {
            "marker": {
             "colorbar": {
              "outlinewidth": 0,
              "ticks": ""
             }
            },
            "type": "scattergeo"
           }
          ],
          "scattergl": [
           {
            "marker": {
             "colorbar": {
              "outlinewidth": 0,
              "ticks": ""
             }
            },
            "type": "scattergl"
           }
          ],
          "scattermapbox": [
           {
            "marker": {
             "colorbar": {
              "outlinewidth": 0,
              "ticks": ""
             }
            },
            "type": "scattermapbox"
           }
          ],
          "scatterpolar": [
           {
            "marker": {
             "colorbar": {
              "outlinewidth": 0,
              "ticks": ""
             }
            },
            "type": "scatterpolar"
           }
          ],
          "scatterpolargl": [
           {
            "marker": {
             "colorbar": {
              "outlinewidth": 0,
              "ticks": ""
             }
            },
            "type": "scatterpolargl"
           }
          ],
          "scatterternary": [
           {
            "marker": {
             "colorbar": {
              "outlinewidth": 0,
              "ticks": ""
             }
            },
            "type": "scatterternary"
           }
          ],
          "surface": [
           {
            "colorbar": {
             "outlinewidth": 0,
             "ticks": ""
            },
            "colorscale": [
             [
              0,
              "#0d0887"
             ],
             [
              0.1111111111111111,
              "#46039f"
             ],
             [
              0.2222222222222222,
              "#7201a8"
             ],
             [
              0.3333333333333333,
              "#9c179e"
             ],
             [
              0.4444444444444444,
              "#bd3786"
             ],
             [
              0.5555555555555556,
              "#d8576b"
             ],
             [
              0.6666666666666666,
              "#ed7953"
             ],
             [
              0.7777777777777778,
              "#fb9f3a"
             ],
             [
              0.8888888888888888,
              "#fdca26"
             ],
             [
              1,
              "#f0f921"
             ]
            ],
            "type": "surface"
           }
          ],
          "table": [
           {
            "cells": {
             "fill": {
              "color": "#EBF0F8"
             },
             "line": {
              "color": "white"
             }
            },
            "header": {
             "fill": {
              "color": "#C8D4E3"
             },
             "line": {
              "color": "white"
             }
            },
            "type": "table"
           }
          ]
         },
         "layout": {
          "annotationdefaults": {
           "arrowcolor": "#2a3f5f",
           "arrowhead": 0,
           "arrowwidth": 1
          },
          "autotypenumbers": "strict",
          "coloraxis": {
           "colorbar": {
            "outlinewidth": 0,
            "ticks": ""
           }
          },
          "colorscale": {
           "diverging": [
            [
             0,
             "#8e0152"
            ],
            [
             0.1,
             "#c51b7d"
            ],
            [
             0.2,
             "#de77ae"
            ],
            [
             0.3,
             "#f1b6da"
            ],
            [
             0.4,
             "#fde0ef"
            ],
            [
             0.5,
             "#f7f7f7"
            ],
            [
             0.6,
             "#e6f5d0"
            ],
            [
             0.7,
             "#b8e186"
            ],
            [
             0.8,
             "#7fbc41"
            ],
            [
             0.9,
             "#4d9221"
            ],
            [
             1,
             "#276419"
            ]
           ],
           "sequential": [
            [
             0,
             "#0d0887"
            ],
            [
             0.1111111111111111,
             "#46039f"
            ],
            [
             0.2222222222222222,
             "#7201a8"
            ],
            [
             0.3333333333333333,
             "#9c179e"
            ],
            [
             0.4444444444444444,
             "#bd3786"
            ],
            [
             0.5555555555555556,
             "#d8576b"
            ],
            [
             0.6666666666666666,
             "#ed7953"
            ],
            [
             0.7777777777777778,
             "#fb9f3a"
            ],
            [
             0.8888888888888888,
             "#fdca26"
            ],
            [
             1,
             "#f0f921"
            ]
           ],
           "sequentialminus": [
            [
             0,
             "#0d0887"
            ],
            [
             0.1111111111111111,
             "#46039f"
            ],
            [
             0.2222222222222222,
             "#7201a8"
            ],
            [
             0.3333333333333333,
             "#9c179e"
            ],
            [
             0.4444444444444444,
             "#bd3786"
            ],
            [
             0.5555555555555556,
             "#d8576b"
            ],
            [
             0.6666666666666666,
             "#ed7953"
            ],
            [
             0.7777777777777778,
             "#fb9f3a"
            ],
            [
             0.8888888888888888,
             "#fdca26"
            ],
            [
             1,
             "#f0f921"
            ]
           ]
          },
          "colorway": [
           "#636efa",
           "#EF553B",
           "#00cc96",
           "#ab63fa",
           "#FFA15A",
           "#19d3f3",
           "#FF6692",
           "#B6E880",
           "#FF97FF",
           "#FECB52"
          ],
          "font": {
           "color": "#2a3f5f"
          },
          "geo": {
           "bgcolor": "white",
           "lakecolor": "white",
           "landcolor": "#E5ECF6",
           "showlakes": true,
           "showland": true,
           "subunitcolor": "white"
          },
          "hoverlabel": {
           "align": "left"
          },
          "hovermode": "closest",
          "mapbox": {
           "style": "light"
          },
          "paper_bgcolor": "white",
          "plot_bgcolor": "#E5ECF6",
          "polar": {
           "angularaxis": {
            "gridcolor": "white",
            "linecolor": "white",
            "ticks": ""
           },
           "bgcolor": "#E5ECF6",
           "radialaxis": {
            "gridcolor": "white",
            "linecolor": "white",
            "ticks": ""
           }
          },
          "scene": {
           "xaxis": {
            "backgroundcolor": "#E5ECF6",
            "gridcolor": "white",
            "gridwidth": 2,
            "linecolor": "white",
            "showbackground": true,
            "ticks": "",
            "zerolinecolor": "white"
           },
           "yaxis": {
            "backgroundcolor": "#E5ECF6",
            "gridcolor": "white",
            "gridwidth": 2,
            "linecolor": "white",
            "showbackground": true,
            "ticks": "",
            "zerolinecolor": "white"
           },
           "zaxis": {
            "backgroundcolor": "#E5ECF6",
            "gridcolor": "white",
            "gridwidth": 2,
            "linecolor": "white",
            "showbackground": true,
            "ticks": "",
            "zerolinecolor": "white"
           }
          },
          "shapedefaults": {
           "line": {
            "color": "#2a3f5f"
           }
          },
          "ternary": {
           "aaxis": {
            "gridcolor": "white",
            "linecolor": "white",
            "ticks": ""
           },
           "baxis": {
            "gridcolor": "white",
            "linecolor": "white",
            "ticks": ""
           },
           "bgcolor": "#E5ECF6",
           "caxis": {
            "gridcolor": "white",
            "linecolor": "white",
            "ticks": ""
           }
          },
          "title": {
           "x": 0.05
          },
          "xaxis": {
           "automargin": true,
           "gridcolor": "white",
           "linecolor": "white",
           "ticks": "",
           "title": {
            "standoff": 15
           },
           "zerolinecolor": "white",
           "zerolinewidth": 2
          },
          "yaxis": {
           "automargin": true,
           "gridcolor": "white",
           "linecolor": "white",
           "ticks": "",
           "title": {
            "standoff": 15
           },
           "zerolinecolor": "white",
           "zerolinewidth": 2
          }
         }
        }
       }
      }
     },
     "metadata": {},
     "output_type": "display_data"
    }
   ],
   "source": [
    "fig = go.Figure()\n",
    "\n",
    "fig.add_trace(go.Histogram(histfunc=\"count\", y=percentages_four, x=percentages_four, name=\"four words sentences\"))\n",
    "\n",
    "fig.add_trace(go.Histogram(histfunc=\"count\", y=percentages_five, x=percentages_five, name=\"five or more words sentences\"))\n",
    "fig.show()\n"
   ]
  },
  {
   "cell_type": "code",
   "execution_count": 14,
   "metadata": {},
   "outputs": [
    {
     "data": {
      "application/vnd.plotly.v1+json": {
       "config": {
        "plotlyServerURL": "https://plot.ly"
       },
       "data": [
        {
         "histfunc": "count",
         "name": "five or more words sentences",
         "type": "histogram",
         "x": [
          0.9072954654693604,
          0.7351494431495667,
          0.4117192029953003,
          0.46959859132766724,
          0.5739201307296753,
          0.9779132604598999,
          0.4888285994529724,
          0.7795675992965698,
          0.8986822366714478,
          0.2900736331939697,
          0.8097768425941467,
          0.8924274444580078,
          0.9122880697250366,
          0.9227092862129211,
          0.887698769569397,
          0.410932332277298,
          0.9917716979980469,
          0.6512298583984375,
          0.5825623273849487,
          0.6394098997116089,
          0.8179634213447571,
          0.6549315452575684,
          0.806961178779602,
          0.9820542931556702,
          0.5799588561058044,
          0.8687965869903564,
          0.6499897241592407,
          0.8799267411231995,
          0.7281920909881592,
          0.7589783668518066,
          0.5665791034698486,
          0.8934741020202637,
          0.9020214676856995,
          0.8415822982788086,
          0.6157137155532837,
          0.835928201675415,
          0.9107258319854736,
          0.9539519548416138,
          0.42433661222457886,
          0.5766903758049011,
          0.35080599784851074,
          0.6851513385772705,
          0.9457689523696899,
          0.3897307515144348,
          0.49040287733078003,
          0.5810813903808594,
          0.8614425659179688,
          0.9389909505844116,
          0.855008602142334,
          0.7240934371948242,
          0.2604096531867981,
          0.4521799087524414,
          0.16058792173862457,
          0.5628771781921387,
          0.6792705655097961,
          0.9403026103973389,
          0.4821123480796814,
          0.4833337068557739,
          0.29983651638031006,
          0.9204908609390259,
          0.7147915363311768,
          0.5057564973831177,
          0.6962181329727173,
          0.9979067444801331,
          0.8539949655532837,
          0.8550980091094971,
          0.9871389865875244,
          0.2888738811016083,
          0.8666954040527344,
          0.705735981464386,
          0.9202256202697754,
          0.2842416763305664,
          0.8413752317428589,
          0.61684250831604,
          0.8016321063041687,
          0.4752255082130432,
          0.4777473211288452,
          0.9138514399528503,
          0.4539816975593567,
          0.7316433191299438,
          0.7423732280731201,
          0.7629364728927612,
          0.9612517952919006,
          0.8577240705490112,
          0.9072638750076294,
          0.5909394025802612,
          0.821815013885498,
          0.8915613889694214,
          0.7806692719459534,
          0.8303806781768799,
          0.5942318439483643,
          0.6636670827865601,
          0.9073360562324524,
          0.8652211427688599,
          0.6834521889686584,
          0.9040217399597168,
          0.7255637049674988,
          0.7673532366752625,
          0.6055182218551636,
          0.5656764507293701
         ],
         "y": [
          0.9072954654693604,
          0.7351494431495667,
          0.4117192029953003,
          0.46959859132766724,
          0.5739201307296753,
          0.9779132604598999,
          0.4888285994529724,
          0.7795675992965698,
          0.8986822366714478,
          0.2900736331939697,
          0.8097768425941467,
          0.8924274444580078,
          0.9122880697250366,
          0.9227092862129211,
          0.887698769569397,
          0.410932332277298,
          0.9917716979980469,
          0.6512298583984375,
          0.5825623273849487,
          0.6394098997116089,
          0.8179634213447571,
          0.6549315452575684,
          0.806961178779602,
          0.9820542931556702,
          0.5799588561058044,
          0.8687965869903564,
          0.6499897241592407,
          0.8799267411231995,
          0.7281920909881592,
          0.7589783668518066,
          0.5665791034698486,
          0.8934741020202637,
          0.9020214676856995,
          0.8415822982788086,
          0.6157137155532837,
          0.835928201675415,
          0.9107258319854736,
          0.9539519548416138,
          0.42433661222457886,
          0.5766903758049011,
          0.35080599784851074,
          0.6851513385772705,
          0.9457689523696899,
          0.3897307515144348,
          0.49040287733078003,
          0.5810813903808594,
          0.8614425659179688,
          0.9389909505844116,
          0.855008602142334,
          0.7240934371948242,
          0.2604096531867981,
          0.4521799087524414,
          0.16058792173862457,
          0.5628771781921387,
          0.6792705655097961,
          0.9403026103973389,
          0.4821123480796814,
          0.4833337068557739,
          0.29983651638031006,
          0.9204908609390259,
          0.7147915363311768,
          0.5057564973831177,
          0.6962181329727173,
          0.9979067444801331,
          0.8539949655532837,
          0.8550980091094971,
          0.9871389865875244,
          0.2888738811016083,
          0.8666954040527344,
          0.705735981464386,
          0.9202256202697754,
          0.2842416763305664,
          0.8413752317428589,
          0.61684250831604,
          0.8016321063041687,
          0.4752255082130432,
          0.4777473211288452,
          0.9138514399528503,
          0.4539816975593567,
          0.7316433191299438,
          0.7423732280731201,
          0.7629364728927612,
          0.9612517952919006,
          0.8577240705490112,
          0.9072638750076294,
          0.5909394025802612,
          0.821815013885498,
          0.8915613889694214,
          0.7806692719459534,
          0.8303806781768799,
          0.5942318439483643,
          0.6636670827865601,
          0.9073360562324524,
          0.8652211427688599,
          0.6834521889686584,
          0.9040217399597168,
          0.7255637049674988,
          0.7673532366752625,
          0.6055182218551636,
          0.5656764507293701
         ]
        },
        {
         "histfunc": "count",
         "name": "four words sentences",
         "type": "histogram",
         "x": [
          0.9780573844909668,
          0.9894101023674011,
          0.7692865133285522,
          0.8133152723312378,
          0.7968389987945557,
          0.8739559650421143,
          0.8446152806282043,
          0.6089800596237183,
          0.538862407207489,
          0.7830408811569214,
          0.9999998211860657,
          0.9673511385917664,
          0.8930277824401855,
          0.5777741074562073,
          0.9684559106826782,
          0.9819891452789307,
          0.990257203578949,
          0.7489171028137207,
          0.8366107940673828,
          0.7979662418365479,
          0.6085944175720215,
          0.9075895547866821,
          0.7267018556594849,
          0.9806650876998901,
          0.8873851895332336,
          0.6437078714370728,
          0.6404811143875122,
          0.8025707602500916,
          0.9055665731430054,
          0.7936564683914185,
          0.9953484535217285,
          0.5535793304443359,
          0.2850174605846405,
          1.0000001192092896,
          0.6860988140106201,
          0.8348770141601562,
          0.8536273837089539,
          0.6550195813179016,
          0.9658012986183167,
          0.5166752338409424,
          0.6754965782165527,
          0.7416451573371887,
          0.5707961916923523,
          0.42943763732910156,
          0.9788373112678528,
          0.8575552105903625,
          0.8835423588752747,
          0.8845282793045044,
          0.7331804633140564,
          0.7946040630340576,
          0.9878545999526978,
          0.4546688199043274,
          0.9413246512413025,
          0.8589368462562561,
          0.5465314388275146,
          0.8166875839233398,
          0.8638471364974976,
          0.8865398168563843,
          0.9596904516220093,
          0.04179332032799721,
          0.9999999403953552,
          0.8562406301498413,
          0.7641615867614746,
          0.23500996828079224,
          0.6096082925796509,
          0.7060602903366089,
          0.7187405228614807,
          0.9677709937095642,
          0.9758718609809875,
          0.8173627853393555,
          0.24016784131526947,
          0.8660017251968384,
          0.9531124830245972,
          0.9629610776901245,
          0.6155885457992554,
          0.6818892955780029,
          0.49915987253189087,
          0.5067010521888733,
          1,
          0.9897531867027283,
          0.8411794900894165,
          0.8143181800842285,
          0.941562831401825,
          0.3473820984363556,
          0.9524637460708618,
          0.9438686370849609,
          0.9423094987869263,
          0.6366406679153442,
          0.8051483035087585,
          0.776290774345398,
          0.8976322412490845,
          0.7735565304756165,
          0.20509853959083557,
          0.7207725644111633,
          0.640304684638977,
          0.6297831535339355,
          0.577910304069519,
          0.9652479887008667,
          0.9636330008506775,
          0.7438509464263916
         ],
         "y": [
          0.9780573844909668,
          0.9894101023674011,
          0.7692865133285522,
          0.8133152723312378,
          0.7968389987945557,
          0.8739559650421143,
          0.8446152806282043,
          0.6089800596237183,
          0.538862407207489,
          0.7830408811569214,
          0.9999998211860657,
          0.9673511385917664,
          0.8930277824401855,
          0.5777741074562073,
          0.9684559106826782,
          0.9819891452789307,
          0.990257203578949,
          0.7489171028137207,
          0.8366107940673828,
          0.7979662418365479,
          0.6085944175720215,
          0.9075895547866821,
          0.7267018556594849,
          0.9806650876998901,
          0.8873851895332336,
          0.6437078714370728,
          0.6404811143875122,
          0.8025707602500916,
          0.9055665731430054,
          0.7936564683914185,
          0.9953484535217285,
          0.5535793304443359,
          0.2850174605846405,
          1.0000001192092896,
          0.6860988140106201,
          0.8348770141601562,
          0.8536273837089539,
          0.6550195813179016,
          0.9658012986183167,
          0.5166752338409424,
          0.6754965782165527,
          0.7416451573371887,
          0.5707961916923523,
          0.42943763732910156,
          0.9788373112678528,
          0.8575552105903625,
          0.8835423588752747,
          0.8845282793045044,
          0.7331804633140564,
          0.7946040630340576,
          0.9878545999526978,
          0.4546688199043274,
          0.9413246512413025,
          0.8589368462562561,
          0.5465314388275146,
          0.8166875839233398,
          0.8638471364974976,
          0.8865398168563843,
          0.9596904516220093,
          0.04179332032799721,
          0.9999999403953552,
          0.8562406301498413,
          0.7641615867614746,
          0.23500996828079224,
          0.6096082925796509,
          0.7060602903366089,
          0.7187405228614807,
          0.9677709937095642,
          0.9758718609809875,
          0.8173627853393555,
          0.24016784131526947,
          0.8660017251968384,
          0.9531124830245972,
          0.9629610776901245,
          0.6155885457992554,
          0.6818892955780029,
          0.49915987253189087,
          0.5067010521888733,
          1,
          0.9897531867027283,
          0.8411794900894165,
          0.8143181800842285,
          0.941562831401825,
          0.3473820984363556,
          0.9524637460708618,
          0.9438686370849609,
          0.9423094987869263,
          0.6366406679153442,
          0.8051483035087585,
          0.776290774345398,
          0.8976322412490845,
          0.7735565304756165,
          0.20509853959083557,
          0.7207725644111633,
          0.640304684638977,
          0.6297831535339355,
          0.577910304069519,
          0.9652479887008667,
          0.9636330008506775,
          0.7438509464263916
         ]
        },
        {
         "histfunc": "count",
         "name": "three words sentences",
         "type": "histogram",
         "x": [
          0.64286208152771,
          0.741635799407959,
          0.9385789036750793,
          0.9620341658592224,
          0.9222398996353149,
          0.8293043375015259,
          0.8847764730453491,
          0.8848836421966553,
          0.95759117603302,
          0.5381799936294556,
          0.9896489381790161,
          0.8530164957046509,
          0.9121538996696472,
          0.9806399941444397,
          0.8365249633789062,
          0.8033069968223572,
          0.8997634649276733,
          0.7555677890777588,
          0.9314150810241699,
          0.78743976354599,
          0.9626191854476929,
          1.000000238418579,
          0.9617236852645874,
          0.6845155954360962,
          0.959320604801178,
          0.8581247925758362,
          0.3988940715789795,
          0.9217724800109863,
          0.8931694030761719,
          0.9874149560928345,
          0.9176090955734253,
          0.9608778357505798,
          0.9028403759002686,
          0.46294844150543213,
          0.9969358444213867,
          0.9479718208312988,
          0.9999999403953552,
          0.47050008177757263,
          0.9583943486213684,
          0.529711127281189,
          0.4499289095401764,
          0.3937222361564636,
          0.4747554659843445,
          0.8499287366867065,
          0.9142348766326904,
          0.5714849829673767,
          0.6022394895553589,
          0.9853947162628174,
          0.9964467287063599,
          0.774688720703125,
          0.828139066696167,
          0.33388444781303406,
          0.9704018831253052,
          0.9049142003059387,
          0.7576083540916443,
          0.9669265747070312,
          0.3849017322063446,
          0.8249772787094116,
          0.9892482161521912,
          0.4971280097961426,
          0.39290863275527954,
          0.8633542060852051,
          0.7851167321205139,
          0.8242443799972534,
          1,
          0.9402239322662354,
          0.7946611642837524,
          0.8131968379020691,
          0.865622878074646,
          1.000000238418579,
          0.35620826482772827,
          1,
          0.3660522699356079,
          0.5948261022567749,
          0.965259313583374,
          0.79355388879776,
          0.9557396173477173,
          0.2551605999469757,
          0.7621439695358276,
          0.5894981622695923,
          0.9050546884536743,
          0.40739214420318604,
          0.4417567849159241,
          0.6239275932312012,
          1,
          0.9030194282531738,
          0.8362208604812622,
          1.0000001192092896,
          0.9574596285820007,
          0.9772313833236694,
          0.9826411008834839,
          0.2740507125854492,
          0.832769513130188,
          0.3810928761959076,
          0.9702168107032776,
          0.9674429893493652,
          0.9420522451400757,
          1.0000001192092896,
          0.7044352889060974,
          0.5590549111366272
         ],
         "y": [
          0.64286208152771,
          0.741635799407959,
          0.9385789036750793,
          0.9620341658592224,
          0.9222398996353149,
          0.8293043375015259,
          0.8847764730453491,
          0.8848836421966553,
          0.95759117603302,
          0.5381799936294556,
          0.9896489381790161,
          0.8530164957046509,
          0.9121538996696472,
          0.9806399941444397,
          0.8365249633789062,
          0.8033069968223572,
          0.8997634649276733,
          0.7555677890777588,
          0.9314150810241699,
          0.78743976354599,
          0.9626191854476929,
          1.000000238418579,
          0.9617236852645874,
          0.6845155954360962,
          0.959320604801178,
          0.8581247925758362,
          0.3988940715789795,
          0.9217724800109863,
          0.8931694030761719,
          0.9874149560928345,
          0.9176090955734253,
          0.9608778357505798,
          0.9028403759002686,
          0.46294844150543213,
          0.9969358444213867,
          0.9479718208312988,
          0.9999999403953552,
          0.47050008177757263,
          0.9583943486213684,
          0.529711127281189,
          0.4499289095401764,
          0.3937222361564636,
          0.4747554659843445,
          0.8499287366867065,
          0.9142348766326904,
          0.5714849829673767,
          0.6022394895553589,
          0.9853947162628174,
          0.9964467287063599,
          0.774688720703125,
          0.828139066696167,
          0.33388444781303406,
          0.9704018831253052,
          0.9049142003059387,
          0.7576083540916443,
          0.9669265747070312,
          0.3849017322063446,
          0.8249772787094116,
          0.9892482161521912,
          0.4971280097961426,
          0.39290863275527954,
          0.8633542060852051,
          0.7851167321205139,
          0.8242443799972534,
          1,
          0.9402239322662354,
          0.7946611642837524,
          0.8131968379020691,
          0.865622878074646,
          1.000000238418579,
          0.35620826482772827,
          1,
          0.3660522699356079,
          0.5948261022567749,
          0.965259313583374,
          0.79355388879776,
          0.9557396173477173,
          0.2551605999469757,
          0.7621439695358276,
          0.5894981622695923,
          0.9050546884536743,
          0.40739214420318604,
          0.4417567849159241,
          0.6239275932312012,
          1,
          0.9030194282531738,
          0.8362208604812622,
          1.0000001192092896,
          0.9574596285820007,
          0.9772313833236694,
          0.9826411008834839,
          0.2740507125854492,
          0.832769513130188,
          0.3810928761959076,
          0.9702168107032776,
          0.9674429893493652,
          0.9420522451400757,
          1.0000001192092896,
          0.7044352889060974,
          0.5590549111366272
         ]
        },
        {
         "histfunc": "count",
         "name": "two words sentences",
         "type": "histogram",
         "x": [
          0.626734733581543,
          1,
          0.9799060821533203,
          0.9999998807907104,
          1,
          0.9510349631309509,
          0.9006837606430054,
          0.7395665645599365,
          0.9978639483451843,
          0.7818455696105957,
          0.9680413007736206,
          0.9830308556556702,
          0.5333057045936584,
          0.9297782182693481,
          0.5453344583511353,
          0.9757102727890015,
          0.9598882794380188,
          1,
          0.9830228686332703,
          0.7275309562683105,
          0.9548707008361816,
          0.9857969880104065,
          0.6256700754165649,
          0.3020176589488983,
          0.9305307269096375,
          0.9572705030441284,
          0.9916423559188843,
          0.994107723236084,
          0.613884687423706,
          0.8472775220870972,
          0.914708137512207,
          1,
          0.9861574172973633,
          0.9072284698486328,
          0.6360432505607605,
          1.000000238418579,
          0.5321136713027954,
          0.3443239629268646,
          0.6184759140014648,
          0.3102020025253296,
          0.7818455696105957,
          0.8238726854324341,
          0.7676067352294922,
          0.8320720195770264,
          0.8757647275924683,
          0.8499743938446045,
          0.9893503189086914,
          0.6701637506484985,
          0.43996715545654297,
          0.8962914943695068,
          0.9906388521194458,
          0.9982415437698364,
          0.45371463894844055,
          0.7385768890380859,
          0.3639499545097351,
          0.4887939691543579,
          0.8360936641693115,
          0.8408877849578857,
          0.4953702390193939,
          0.9965469837188721,
          0.6292181015014648,
          0.7137738466262817,
          0.9805291891098022,
          0.6609394550323486,
          0.978615403175354,
          0.5483654737472534,
          0.8003002405166626,
          0.24501343071460724,
          0.9169267416000366,
          0.8598251342773438,
          0.8587252497673035,
          0.9855227470397949,
          0.9824227094650269,
          0.8861753940582275,
          0.9693765044212341,
          0.3921946883201599,
          0.9463151693344116,
          0.9608724117279053,
          0.975494384765625,
          0.6609516143798828,
          0.774896502494812,
          0.7752097845077515,
          0.6617781519889832,
          0.9999998807907104,
          0.48434019088745117,
          0.6234726905822754,
          0.9047139883041382,
          0.9878885746002197,
          0.3443981409072876,
          0.9737981557846069,
          0.8646526336669922,
          0.738148033618927,
          0.6245132684707642,
          0.9342703819274902,
          0.9578883647918701,
          0.9710811376571655,
          0.8343967795372009,
          0.975494384765625,
          0.9734815955162048,
          0.7875163555145264
         ],
         "y": [
          0.626734733581543,
          1,
          0.9799060821533203,
          0.9999998807907104,
          1,
          0.9510349631309509,
          0.9006837606430054,
          0.7395665645599365,
          0.9978639483451843,
          0.7818455696105957,
          0.9680413007736206,
          0.9830308556556702,
          0.5333057045936584,
          0.9297782182693481,
          0.5453344583511353,
          0.9757102727890015,
          0.9598882794380188,
          1,
          0.9830228686332703,
          0.7275309562683105,
          0.9548707008361816,
          0.9857969880104065,
          0.6256700754165649,
          0.3020176589488983,
          0.9305307269096375,
          0.9572705030441284,
          0.9916423559188843,
          0.994107723236084,
          0.613884687423706,
          0.8472775220870972,
          0.914708137512207,
          1,
          0.9861574172973633,
          0.9072284698486328,
          0.6360432505607605,
          1.000000238418579,
          0.5321136713027954,
          0.3443239629268646,
          0.6184759140014648,
          0.3102020025253296,
          0.7818455696105957,
          0.8238726854324341,
          0.7676067352294922,
          0.8320720195770264,
          0.8757647275924683,
          0.8499743938446045,
          0.9893503189086914,
          0.6701637506484985,
          0.43996715545654297,
          0.8962914943695068,
          0.9906388521194458,
          0.9982415437698364,
          0.45371463894844055,
          0.7385768890380859,
          0.3639499545097351,
          0.4887939691543579,
          0.8360936641693115,
          0.8408877849578857,
          0.4953702390193939,
          0.9965469837188721,
          0.6292181015014648,
          0.7137738466262817,
          0.9805291891098022,
          0.6609394550323486,
          0.978615403175354,
          0.5483654737472534,
          0.8003002405166626,
          0.24501343071460724,
          0.9169267416000366,
          0.8598251342773438,
          0.8587252497673035,
          0.9855227470397949,
          0.9824227094650269,
          0.8861753940582275,
          0.9693765044212341,
          0.3921946883201599,
          0.9463151693344116,
          0.9608724117279053,
          0.975494384765625,
          0.6609516143798828,
          0.774896502494812,
          0.7752097845077515,
          0.6617781519889832,
          0.9999998807907104,
          0.48434019088745117,
          0.6234726905822754,
          0.9047139883041382,
          0.9878885746002197,
          0.3443981409072876,
          0.9737981557846069,
          0.8646526336669922,
          0.738148033618927,
          0.6245132684707642,
          0.9342703819274902,
          0.9578883647918701,
          0.9710811376571655,
          0.8343967795372009,
          0.975494384765625,
          0.9734815955162048,
          0.7875163555145264
         ]
        },
        {
         "histfunc": "count",
         "name": "One word sentences",
         "type": "histogram",
         "x": [
          0.8856703042984009,
          0.7980146408081055,
          0.7258920073509216,
          0.6768054962158203,
          0.9892771244049072,
          0.8409910202026367,
          0.9513050317764282,
          0.706678032875061,
          0.7054896950721741,
          0.5264849066734314,
          0.9132909178733826,
          0.8409993648529053,
          0.9507207870483398,
          0.9443386793136597,
          0.8516219258308411,
          1,
          0.9912242889404297,
          0.9341317415237427,
          0.9182873964309692,
          0.9052188396453857,
          0.7526390552520752,
          1,
          0.9605642557144165,
          0.8554357886314392,
          0.711711049079895,
          0.6617124676704407,
          0.8846371173858643,
          0.5628024339675903,
          0.9912242889404297,
          0.9691421985626221,
          0.9999998807907104,
          0.8463515043258667,
          0.5097287893295288,
          0.9118488430976868,
          0.8011348247528076,
          0.7998113036155701,
          1.000000238418579,
          0.9847387075424194,
          0.9671240448951721,
          0.6557479500770569,
          0.8036215305328369,
          0.9999999403953552,
          0.8554911613464355,
          0.772251307964325,
          0.35711097717285156,
          0.9161810874938965,
          0.904062807559967,
          0.9484055042266846,
          0.5912002921104431,
          0.524109959602356,
          0.4086383283138275,
          0.986091136932373,
          0.891082763671875,
          0.9999999403953552,
          0.7684717178344727,
          0.9484055042266846,
          0.8352854251861572,
          0.8539360165596008,
          0.994718074798584,
          0.9999998211860657,
          0.8335599899291992,
          0.9614319801330566,
          0.9713799953460693,
          0.6010522842407227,
          0.9828010201454163,
          1,
          0.9999999403953552,
          0.6228457689285278,
          1,
          0.9078938961029053,
          0.9999998807907104,
          0.8402714729309082,
          0.9056341648101807,
          0.9350801706314087,
          0.8107750415802002,
          1,
          0.9677137732505798,
          0.9999998807907104,
          0.8733487725257874,
          0.502116322517395,
          0.9734036326408386,
          0.8452669382095337,
          0.995261549949646,
          0.8641290068626404,
          0.9570203423500061,
          0.7667186856269836,
          0.9858816862106323,
          0.8554332256317139,
          0.865480899810791,
          0.9556741714477539,
          0.6532230377197266,
          1,
          0.5368188619613647,
          1,
          0.9074409008026123,
          0.8411833047866821,
          0.933674693107605,
          0.7526390552520752,
          0.9396387338638306,
          0.9999998807907104
         ],
         "y": [
          0.8856703042984009,
          0.7980146408081055,
          0.7258920073509216,
          0.6768054962158203,
          0.9892771244049072,
          0.8409910202026367,
          0.9513050317764282,
          0.706678032875061,
          0.7054896950721741,
          0.5264849066734314,
          0.9132909178733826,
          0.8409993648529053,
          0.9507207870483398,
          0.9443386793136597,
          0.8516219258308411,
          1,
          0.9912242889404297,
          0.9341317415237427,
          0.9182873964309692,
          0.9052188396453857,
          0.7526390552520752,
          1,
          0.9605642557144165,
          0.8554357886314392,
          0.711711049079895,
          0.6617124676704407,
          0.8846371173858643,
          0.5628024339675903,
          0.9912242889404297,
          0.9691421985626221,
          0.9999998807907104,
          0.8463515043258667,
          0.5097287893295288,
          0.9118488430976868,
          0.8011348247528076,
          0.7998113036155701,
          1.000000238418579,
          0.9847387075424194,
          0.9671240448951721,
          0.6557479500770569,
          0.8036215305328369,
          0.9999999403953552,
          0.8554911613464355,
          0.772251307964325,
          0.35711097717285156,
          0.9161810874938965,
          0.904062807559967,
          0.9484055042266846,
          0.5912002921104431,
          0.524109959602356,
          0.4086383283138275,
          0.986091136932373,
          0.891082763671875,
          0.9999999403953552,
          0.7684717178344727,
          0.9484055042266846,
          0.8352854251861572,
          0.8539360165596008,
          0.994718074798584,
          0.9999998211860657,
          0.8335599899291992,
          0.9614319801330566,
          0.9713799953460693,
          0.6010522842407227,
          0.9828010201454163,
          1,
          0.9999999403953552,
          0.6228457689285278,
          1,
          0.9078938961029053,
          0.9999998807907104,
          0.8402714729309082,
          0.9056341648101807,
          0.9350801706314087,
          0.8107750415802002,
          1,
          0.9677137732505798,
          0.9999998807907104,
          0.8733487725257874,
          0.502116322517395,
          0.9734036326408386,
          0.8452669382095337,
          0.995261549949646,
          0.8641290068626404,
          0.9570203423500061,
          0.7667186856269836,
          0.9858816862106323,
          0.8554332256317139,
          0.865480899810791,
          0.9556741714477539,
          0.6532230377197266,
          1,
          0.5368188619613647,
          1,
          0.9074409008026123,
          0.8411833047866821,
          0.933674693107605,
          0.7526390552520752,
          0.9396387338638306,
          0.9999998807907104
         ]
        }
       ],
       "layout": {
        "template": {
         "data": {
          "bar": [
           {
            "error_x": {
             "color": "#2a3f5f"
            },
            "error_y": {
             "color": "#2a3f5f"
            },
            "marker": {
             "line": {
              "color": "#E5ECF6",
              "width": 0.5
             },
             "pattern": {
              "fillmode": "overlay",
              "size": 10,
              "solidity": 0.2
             }
            },
            "type": "bar"
           }
          ],
          "barpolar": [
           {
            "marker": {
             "line": {
              "color": "#E5ECF6",
              "width": 0.5
             },
             "pattern": {
              "fillmode": "overlay",
              "size": 10,
              "solidity": 0.2
             }
            },
            "type": "barpolar"
           }
          ],
          "carpet": [
           {
            "aaxis": {
             "endlinecolor": "#2a3f5f",
             "gridcolor": "white",
             "linecolor": "white",
             "minorgridcolor": "white",
             "startlinecolor": "#2a3f5f"
            },
            "baxis": {
             "endlinecolor": "#2a3f5f",
             "gridcolor": "white",
             "linecolor": "white",
             "minorgridcolor": "white",
             "startlinecolor": "#2a3f5f"
            },
            "type": "carpet"
           }
          ],
          "choropleth": [
           {
            "colorbar": {
             "outlinewidth": 0,
             "ticks": ""
            },
            "type": "choropleth"
           }
          ],
          "contour": [
           {
            "colorbar": {
             "outlinewidth": 0,
             "ticks": ""
            },
            "colorscale": [
             [
              0,
              "#0d0887"
             ],
             [
              0.1111111111111111,
              "#46039f"
             ],
             [
              0.2222222222222222,
              "#7201a8"
             ],
             [
              0.3333333333333333,
              "#9c179e"
             ],
             [
              0.4444444444444444,
              "#bd3786"
             ],
             [
              0.5555555555555556,
              "#d8576b"
             ],
             [
              0.6666666666666666,
              "#ed7953"
             ],
             [
              0.7777777777777778,
              "#fb9f3a"
             ],
             [
              0.8888888888888888,
              "#fdca26"
             ],
             [
              1,
              "#f0f921"
             ]
            ],
            "type": "contour"
           }
          ],
          "contourcarpet": [
           {
            "colorbar": {
             "outlinewidth": 0,
             "ticks": ""
            },
            "type": "contourcarpet"
           }
          ],
          "heatmap": [
           {
            "colorbar": {
             "outlinewidth": 0,
             "ticks": ""
            },
            "colorscale": [
             [
              0,
              "#0d0887"
             ],
             [
              0.1111111111111111,
              "#46039f"
             ],
             [
              0.2222222222222222,
              "#7201a8"
             ],
             [
              0.3333333333333333,
              "#9c179e"
             ],
             [
              0.4444444444444444,
              "#bd3786"
             ],
             [
              0.5555555555555556,
              "#d8576b"
             ],
             [
              0.6666666666666666,
              "#ed7953"
             ],
             [
              0.7777777777777778,
              "#fb9f3a"
             ],
             [
              0.8888888888888888,
              "#fdca26"
             ],
             [
              1,
              "#f0f921"
             ]
            ],
            "type": "heatmap"
           }
          ],
          "heatmapgl": [
           {
            "colorbar": {
             "outlinewidth": 0,
             "ticks": ""
            },
            "colorscale": [
             [
              0,
              "#0d0887"
             ],
             [
              0.1111111111111111,
              "#46039f"
             ],
             [
              0.2222222222222222,
              "#7201a8"
             ],
             [
              0.3333333333333333,
              "#9c179e"
             ],
             [
              0.4444444444444444,
              "#bd3786"
             ],
             [
              0.5555555555555556,
              "#d8576b"
             ],
             [
              0.6666666666666666,
              "#ed7953"
             ],
             [
              0.7777777777777778,
              "#fb9f3a"
             ],
             [
              0.8888888888888888,
              "#fdca26"
             ],
             [
              1,
              "#f0f921"
             ]
            ],
            "type": "heatmapgl"
           }
          ],
          "histogram": [
           {
            "marker": {
             "pattern": {
              "fillmode": "overlay",
              "size": 10,
              "solidity": 0.2
             }
            },
            "type": "histogram"
           }
          ],
          "histogram2d": [
           {
            "colorbar": {
             "outlinewidth": 0,
             "ticks": ""
            },
            "colorscale": [
             [
              0,
              "#0d0887"
             ],
             [
              0.1111111111111111,
              "#46039f"
             ],
             [
              0.2222222222222222,
              "#7201a8"
             ],
             [
              0.3333333333333333,
              "#9c179e"
             ],
             [
              0.4444444444444444,
              "#bd3786"
             ],
             [
              0.5555555555555556,
              "#d8576b"
             ],
             [
              0.6666666666666666,
              "#ed7953"
             ],
             [
              0.7777777777777778,
              "#fb9f3a"
             ],
             [
              0.8888888888888888,
              "#fdca26"
             ],
             [
              1,
              "#f0f921"
             ]
            ],
            "type": "histogram2d"
           }
          ],
          "histogram2dcontour": [
           {
            "colorbar": {
             "outlinewidth": 0,
             "ticks": ""
            },
            "colorscale": [
             [
              0,
              "#0d0887"
             ],
             [
              0.1111111111111111,
              "#46039f"
             ],
             [
              0.2222222222222222,
              "#7201a8"
             ],
             [
              0.3333333333333333,
              "#9c179e"
             ],
             [
              0.4444444444444444,
              "#bd3786"
             ],
             [
              0.5555555555555556,
              "#d8576b"
             ],
             [
              0.6666666666666666,
              "#ed7953"
             ],
             [
              0.7777777777777778,
              "#fb9f3a"
             ],
             [
              0.8888888888888888,
              "#fdca26"
             ],
             [
              1,
              "#f0f921"
             ]
            ],
            "type": "histogram2dcontour"
           }
          ],
          "mesh3d": [
           {
            "colorbar": {
             "outlinewidth": 0,
             "ticks": ""
            },
            "type": "mesh3d"
           }
          ],
          "parcoords": [
           {
            "line": {
             "colorbar": {
              "outlinewidth": 0,
              "ticks": ""
             }
            },
            "type": "parcoords"
           }
          ],
          "pie": [
           {
            "automargin": true,
            "type": "pie"
           }
          ],
          "scatter": [
           {
            "fillpattern": {
             "fillmode": "overlay",
             "size": 10,
             "solidity": 0.2
            },
            "type": "scatter"
           }
          ],
          "scatter3d": [
           {
            "line": {
             "colorbar": {
              "outlinewidth": 0,
              "ticks": ""
             }
            },
            "marker": {
             "colorbar": {
              "outlinewidth": 0,
              "ticks": ""
             }
            },
            "type": "scatter3d"
           }
          ],
          "scattercarpet": [
           {
            "marker": {
             "colorbar": {
              "outlinewidth": 0,
              "ticks": ""
             }
            },
            "type": "scattercarpet"
           }
          ],
          "scattergeo": [
           {
            "marker": {
             "colorbar": {
              "outlinewidth": 0,
              "ticks": ""
             }
            },
            "type": "scattergeo"
           }
          ],
          "scattergl": [
           {
            "marker": {
             "colorbar": {
              "outlinewidth": 0,
              "ticks": ""
             }
            },
            "type": "scattergl"
           }
          ],
          "scattermapbox": [
           {
            "marker": {
             "colorbar": {
              "outlinewidth": 0,
              "ticks": ""
             }
            },
            "type": "scattermapbox"
           }
          ],
          "scatterpolar": [
           {
            "marker": {
             "colorbar": {
              "outlinewidth": 0,
              "ticks": ""
             }
            },
            "type": "scatterpolar"
           }
          ],
          "scatterpolargl": [
           {
            "marker": {
             "colorbar": {
              "outlinewidth": 0,
              "ticks": ""
             }
            },
            "type": "scatterpolargl"
           }
          ],
          "scatterternary": [
           {
            "marker": {
             "colorbar": {
              "outlinewidth": 0,
              "ticks": ""
             }
            },
            "type": "scatterternary"
           }
          ],
          "surface": [
           {
            "colorbar": {
             "outlinewidth": 0,
             "ticks": ""
            },
            "colorscale": [
             [
              0,
              "#0d0887"
             ],
             [
              0.1111111111111111,
              "#46039f"
             ],
             [
              0.2222222222222222,
              "#7201a8"
             ],
             [
              0.3333333333333333,
              "#9c179e"
             ],
             [
              0.4444444444444444,
              "#bd3786"
             ],
             [
              0.5555555555555556,
              "#d8576b"
             ],
             [
              0.6666666666666666,
              "#ed7953"
             ],
             [
              0.7777777777777778,
              "#fb9f3a"
             ],
             [
              0.8888888888888888,
              "#fdca26"
             ],
             [
              1,
              "#f0f921"
             ]
            ],
            "type": "surface"
           }
          ],
          "table": [
           {
            "cells": {
             "fill": {
              "color": "#EBF0F8"
             },
             "line": {
              "color": "white"
             }
            },
            "header": {
             "fill": {
              "color": "#C8D4E3"
             },
             "line": {
              "color": "white"
             }
            },
            "type": "table"
           }
          ]
         },
         "layout": {
          "annotationdefaults": {
           "arrowcolor": "#2a3f5f",
           "arrowhead": 0,
           "arrowwidth": 1
          },
          "autotypenumbers": "strict",
          "coloraxis": {
           "colorbar": {
            "outlinewidth": 0,
            "ticks": ""
           }
          },
          "colorscale": {
           "diverging": [
            [
             0,
             "#8e0152"
            ],
            [
             0.1,
             "#c51b7d"
            ],
            [
             0.2,
             "#de77ae"
            ],
            [
             0.3,
             "#f1b6da"
            ],
            [
             0.4,
             "#fde0ef"
            ],
            [
             0.5,
             "#f7f7f7"
            ],
            [
             0.6,
             "#e6f5d0"
            ],
            [
             0.7,
             "#b8e186"
            ],
            [
             0.8,
             "#7fbc41"
            ],
            [
             0.9,
             "#4d9221"
            ],
            [
             1,
             "#276419"
            ]
           ],
           "sequential": [
            [
             0,
             "#0d0887"
            ],
            [
             0.1111111111111111,
             "#46039f"
            ],
            [
             0.2222222222222222,
             "#7201a8"
            ],
            [
             0.3333333333333333,
             "#9c179e"
            ],
            [
             0.4444444444444444,
             "#bd3786"
            ],
            [
             0.5555555555555556,
             "#d8576b"
            ],
            [
             0.6666666666666666,
             "#ed7953"
            ],
            [
             0.7777777777777778,
             "#fb9f3a"
            ],
            [
             0.8888888888888888,
             "#fdca26"
            ],
            [
             1,
             "#f0f921"
            ]
           ],
           "sequentialminus": [
            [
             0,
             "#0d0887"
            ],
            [
             0.1111111111111111,
             "#46039f"
            ],
            [
             0.2222222222222222,
             "#7201a8"
            ],
            [
             0.3333333333333333,
             "#9c179e"
            ],
            [
             0.4444444444444444,
             "#bd3786"
            ],
            [
             0.5555555555555556,
             "#d8576b"
            ],
            [
             0.6666666666666666,
             "#ed7953"
            ],
            [
             0.7777777777777778,
             "#fb9f3a"
            ],
            [
             0.8888888888888888,
             "#fdca26"
            ],
            [
             1,
             "#f0f921"
            ]
           ]
          },
          "colorway": [
           "#636efa",
           "#EF553B",
           "#00cc96",
           "#ab63fa",
           "#FFA15A",
           "#19d3f3",
           "#FF6692",
           "#B6E880",
           "#FF97FF",
           "#FECB52"
          ],
          "font": {
           "color": "#2a3f5f"
          },
          "geo": {
           "bgcolor": "white",
           "lakecolor": "white",
           "landcolor": "#E5ECF6",
           "showlakes": true,
           "showland": true,
           "subunitcolor": "white"
          },
          "hoverlabel": {
           "align": "left"
          },
          "hovermode": "closest",
          "mapbox": {
           "style": "light"
          },
          "paper_bgcolor": "white",
          "plot_bgcolor": "#E5ECF6",
          "polar": {
           "angularaxis": {
            "gridcolor": "white",
            "linecolor": "white",
            "ticks": ""
           },
           "bgcolor": "#E5ECF6",
           "radialaxis": {
            "gridcolor": "white",
            "linecolor": "white",
            "ticks": ""
           }
          },
          "scene": {
           "xaxis": {
            "backgroundcolor": "#E5ECF6",
            "gridcolor": "white",
            "gridwidth": 2,
            "linecolor": "white",
            "showbackground": true,
            "ticks": "",
            "zerolinecolor": "white"
           },
           "yaxis": {
            "backgroundcolor": "#E5ECF6",
            "gridcolor": "white",
            "gridwidth": 2,
            "linecolor": "white",
            "showbackground": true,
            "ticks": "",
            "zerolinecolor": "white"
           },
           "zaxis": {
            "backgroundcolor": "#E5ECF6",
            "gridcolor": "white",
            "gridwidth": 2,
            "linecolor": "white",
            "showbackground": true,
            "ticks": "",
            "zerolinecolor": "white"
           }
          },
          "shapedefaults": {
           "line": {
            "color": "#2a3f5f"
           }
          },
          "ternary": {
           "aaxis": {
            "gridcolor": "white",
            "linecolor": "white",
            "ticks": ""
           },
           "baxis": {
            "gridcolor": "white",
            "linecolor": "white",
            "ticks": ""
           },
           "bgcolor": "#E5ECF6",
           "caxis": {
            "gridcolor": "white",
            "linecolor": "white",
            "ticks": ""
           }
          },
          "title": {
           "x": 0.05
          },
          "xaxis": {
           "automargin": true,
           "gridcolor": "white",
           "linecolor": "white",
           "ticks": "",
           "title": {
            "standoff": 15
           },
           "zerolinecolor": "white",
           "zerolinewidth": 2
          },
          "yaxis": {
           "automargin": true,
           "gridcolor": "white",
           "linecolor": "white",
           "ticks": "",
           "title": {
            "standoff": 15
           },
           "zerolinecolor": "white",
           "zerolinewidth": 2
          }
         }
        }
       }
      }
     },
     "metadata": {},
     "output_type": "display_data"
    }
   ],
   "source": [
    "fig = go.Figure()\n",
    "\n",
    "\n",
    "fig.add_trace(go.Histogram(histfunc=\"count\", y=percentages_five, x=percentages_five, name=\"five or more words sentences\"))\n",
    "fig.add_trace(go.Histogram(histfunc=\"count\", y=percentages_four, x=percentages_four, name=\"four words sentences\"))\n",
    "\n",
    "fig.add_trace(go.Histogram(histfunc=\"count\", y=percentages_three, x=percentages_three, name=\"three words sentences\"))\n",
    "\n",
    "fig.add_trace(go.Histogram(histfunc=\"count\", y=percentages_two, x=percentages_two, name=\"two words sentences\"))\n",
    "\n",
    "fig.add_trace(go.Histogram(histfunc=\"count\", y=percentages_one, x=percentages_one, name=\"One word sentences\"))\n",
    "\n",
    "fig.show()\n"
   ]
  },
  {
   "cell_type": "code",
   "execution_count": 15,
   "metadata": {},
   "outputs": [
    {
     "data": {
      "text/html": [
       "<div>\n",
       "<style scoped>\n",
       "    .dataframe tbody tr th:only-of-type {\n",
       "        vertical-align: middle;\n",
       "    }\n",
       "\n",
       "    .dataframe tbody tr th {\n",
       "        vertical-align: top;\n",
       "    }\n",
       "\n",
       "    .dataframe thead th {\n",
       "        text-align: right;\n",
       "    }\n",
       "</style>\n",
       "<table border=\"1\" class=\"dataframe\">\n",
       "  <thead>\n",
       "    <tr style=\"text-align: right;\">\n",
       "      <th></th>\n",
       "      <th>one-word sentence</th>\n",
       "      <th>two-word sentence</th>\n",
       "      <th>three-word sentence</th>\n",
       "      <th>four-word sentence</th>\n",
       "      <th>five-word sentence</th>\n",
       "      <th>six-word sentence</th>\n",
       "      <th>seven-word sentence</th>\n",
       "      <th>eight-word sentence</th>\n",
       "      <th>nine-word sentence</th>\n",
       "      <th>ten-word sentence</th>\n",
       "      <th>eleven-word sentence</th>\n",
       "      <th>twelve-word sentence</th>\n",
       "      <th>thirteen-word sentence</th>\n",
       "    </tr>\n",
       "  </thead>\n",
       "  <tbody>\n",
       "    <tr>\n",
       "      <th>count</th>\n",
       "      <td>100.000000</td>\n",
       "      <td>100.000000</td>\n",
       "      <td>100.000000</td>\n",
       "      <td>100.000000</td>\n",
       "      <td>100.000000</td>\n",
       "      <td>100.000000</td>\n",
       "      <td>100.000000</td>\n",
       "      <td>100.000000</td>\n",
       "      <td>100.000000</td>\n",
       "      <td>100.000000</td>\n",
       "      <td>100.000000</td>\n",
       "      <td>100.000000</td>\n",
       "      <td>100.000000</td>\n",
       "    </tr>\n",
       "    <tr>\n",
       "      <th>mean</th>\n",
       "      <td>0.855867</td>\n",
       "      <td>0.803088</td>\n",
       "      <td>0.788815</td>\n",
       "      <td>0.769943</td>\n",
       "      <td>0.709641</td>\n",
       "      <td>0.747950</td>\n",
       "      <td>0.732507</td>\n",
       "      <td>0.748796</td>\n",
       "      <td>0.716547</td>\n",
       "      <td>0.716901</td>\n",
       "      <td>0.709622</td>\n",
       "      <td>0.697547</td>\n",
       "      <td>0.728410</td>\n",
       "    </tr>\n",
       "    <tr>\n",
       "      <th>std</th>\n",
       "      <td>0.151779</td>\n",
       "      <td>0.205177</td>\n",
       "      <td>0.214776</td>\n",
       "      <td>0.204327</td>\n",
       "      <td>0.203419</td>\n",
       "      <td>0.199913</td>\n",
       "      <td>0.181305</td>\n",
       "      <td>0.168943</td>\n",
       "      <td>0.182100</td>\n",
       "      <td>0.194618</td>\n",
       "      <td>0.177800</td>\n",
       "      <td>0.185179</td>\n",
       "      <td>0.153734</td>\n",
       "    </tr>\n",
       "    <tr>\n",
       "      <th>min</th>\n",
       "      <td>0.357111</td>\n",
       "      <td>0.245013</td>\n",
       "      <td>0.255161</td>\n",
       "      <td>0.041793</td>\n",
       "      <td>0.160588</td>\n",
       "      <td>0.214060</td>\n",
       "      <td>0.301053</td>\n",
       "      <td>0.291997</td>\n",
       "      <td>0.260954</td>\n",
       "      <td>0.166947</td>\n",
       "      <td>0.153937</td>\n",
       "      <td>0.159836</td>\n",
       "      <td>0.233401</td>\n",
       "    </tr>\n",
       "    <tr>\n",
       "      <th>25%</th>\n",
       "      <td>0.799362</td>\n",
       "      <td>0.660949</td>\n",
       "      <td>0.638128</td>\n",
       "      <td>0.642901</td>\n",
       "      <td>0.575998</td>\n",
       "      <td>0.630755</td>\n",
       "      <td>0.630222</td>\n",
       "      <td>0.631385</td>\n",
       "      <td>0.599561</td>\n",
       "      <td>0.603629</td>\n",
       "      <td>0.637186</td>\n",
       "      <td>0.595220</td>\n",
       "      <td>0.614321</td>\n",
       "    </tr>\n",
       "    <tr>\n",
       "      <th>50%</th>\n",
       "      <td>0.905427</td>\n",
       "      <td>0.870209</td>\n",
       "      <td>0.864489</td>\n",
       "      <td>0.813817</td>\n",
       "      <td>0.738761</td>\n",
       "      <td>0.800298</td>\n",
       "      <td>0.739775</td>\n",
       "      <td>0.736936</td>\n",
       "      <td>0.741265</td>\n",
       "      <td>0.767303</td>\n",
       "      <td>0.740066</td>\n",
       "      <td>0.726887</td>\n",
       "      <td>0.752291</td>\n",
       "    </tr>\n",
       "    <tr>\n",
       "      <th>75%</th>\n",
       "      <td>0.975753</td>\n",
       "      <td>0.975548</td>\n",
       "      <td>0.961089</td>\n",
       "      <td>0.942699</td>\n",
       "      <td>0.888664</td>\n",
       "      <td>0.915838</td>\n",
       "      <td>0.880229</td>\n",
       "      <td>0.912146</td>\n",
       "      <td>0.866806</td>\n",
       "      <td>0.867162</td>\n",
       "      <td>0.855036</td>\n",
       "      <td>0.833510</td>\n",
       "      <td>0.842487</td>\n",
       "    </tr>\n",
       "    <tr>\n",
       "      <th>max</th>\n",
       "      <td>1.000000</td>\n",
       "      <td>1.000000</td>\n",
       "      <td>1.000000</td>\n",
       "      <td>1.000000</td>\n",
       "      <td>0.997907</td>\n",
       "      <td>1.000000</td>\n",
       "      <td>0.996915</td>\n",
       "      <td>1.000000</td>\n",
       "      <td>1.000000</td>\n",
       "      <td>0.986655</td>\n",
       "      <td>0.986572</td>\n",
       "      <td>0.993290</td>\n",
       "      <td>0.966815</td>\n",
       "    </tr>\n",
       "  </tbody>\n",
       "</table>\n",
       "</div>"
      ],
      "text/plain": [
       "       one-word sentence  two-word sentence  three-word sentence  \\\n",
       "count         100.000000         100.000000           100.000000   \n",
       "mean            0.855867           0.803088             0.788815   \n",
       "std             0.151779           0.205177             0.214776   \n",
       "min             0.357111           0.245013             0.255161   \n",
       "25%             0.799362           0.660949             0.638128   \n",
       "50%             0.905427           0.870209             0.864489   \n",
       "75%             0.975753           0.975548             0.961089   \n",
       "max             1.000000           1.000000             1.000000   \n",
       "\n",
       "       four-word sentence  five-word sentence  six-word sentence  \\\n",
       "count          100.000000          100.000000         100.000000   \n",
       "mean             0.769943            0.709641           0.747950   \n",
       "std              0.204327            0.203419           0.199913   \n",
       "min              0.041793            0.160588           0.214060   \n",
       "25%              0.642901            0.575998           0.630755   \n",
       "50%              0.813817            0.738761           0.800298   \n",
       "75%              0.942699            0.888664           0.915838   \n",
       "max              1.000000            0.997907           1.000000   \n",
       "\n",
       "       seven-word sentence  eight-word sentence  nine-word sentence  \\\n",
       "count           100.000000           100.000000          100.000000   \n",
       "mean              0.732507             0.748796            0.716547   \n",
       "std               0.181305             0.168943            0.182100   \n",
       "min               0.301053             0.291997            0.260954   \n",
       "25%               0.630222             0.631385            0.599561   \n",
       "50%               0.739775             0.736936            0.741265   \n",
       "75%               0.880229             0.912146            0.866806   \n",
       "max               0.996915             1.000000            1.000000   \n",
       "\n",
       "       ten-word sentence  eleven-word sentence  twelve-word sentence  \\\n",
       "count         100.000000            100.000000            100.000000   \n",
       "mean            0.716901              0.709622              0.697547   \n",
       "std             0.194618              0.177800              0.185179   \n",
       "min             0.166947              0.153937              0.159836   \n",
       "25%             0.603629              0.637186              0.595220   \n",
       "50%             0.767303              0.740066              0.726887   \n",
       "75%             0.867162              0.855036              0.833510   \n",
       "max             0.986655              0.986572              0.993290   \n",
       "\n",
       "       thirteen-word sentence  \n",
       "count              100.000000  \n",
       "mean                 0.728410  \n",
       "std                  0.153734  \n",
       "min                  0.233401  \n",
       "25%                  0.614321  \n",
       "50%                  0.752291  \n",
       "75%                  0.842487  \n",
       "max                  0.966815  "
      ]
     },
     "execution_count": 15,
     "metadata": {},
     "output_type": "execute_result"
    }
   ],
   "source": [
    "percentages = pd.DataFrame()\n",
    "percentages['one-word sentence'] = percentages_one\n",
    "percentages['two-word sentence'] = percentages_two\n",
    "percentages['three-word sentence'] = percentages_three\n",
    "percentages['four-word sentence'] = percentages_four\n",
    "percentages['five-word sentence'] = percentages_five\n",
    "\n",
    "percentages['six-word sentence'] = percentages_six\n",
    "percentages['seven-word sentence'] = percentages_seven\n",
    "percentages['eight-word sentence'] = percentages_eight\n",
    "percentages['nine-word sentence'] = percentages_nine\n",
    "percentages['ten-word sentence'] = percentages_ten\n",
    "\n",
    "percentages['eleven-word sentence'] = percentages_eleven\n",
    "percentages['twelve-word sentence'] = percentages_twelve\n",
    "percentages['thirteen-word sentence'] = percentages_thirteen\n",
    "percentages.describe()"
   ]
  },
  {
   "cell_type": "code",
   "execution_count": 17,
   "metadata": {},
   "outputs": [
    {
     "data": {
      "application/vnd.plotly.v1+json": {
       "config": {
        "plotlyServerURL": "https://plot.ly"
       },
       "data": [
        {
         "name": "One word sentences",
         "type": "box",
         "y": [
          0.8856703042984009,
          0.7980146408081055,
          0.7258920073509216,
          0.6768054962158203,
          0.9892771244049072,
          0.8409910202026367,
          0.9513050317764282,
          0.706678032875061,
          0.7054896950721741,
          0.5264849066734314,
          0.9132909178733826,
          0.8409993648529053,
          0.9507207870483398,
          0.9443386793136597,
          0.8516219258308411,
          1,
          0.9912242889404297,
          0.9341317415237427,
          0.9182873964309692,
          0.9052188396453857,
          0.7526390552520752,
          1,
          0.9605642557144165,
          0.8554357886314392,
          0.711711049079895,
          0.6617124676704407,
          0.8846371173858643,
          0.5628024339675903,
          0.9912242889404297,
          0.9691421985626221,
          0.9999998807907104,
          0.8463515043258667,
          0.5097287893295288,
          0.9118488430976868,
          0.8011348247528076,
          0.7998113036155701,
          1.000000238418579,
          0.9847387075424194,
          0.9671240448951721,
          0.6557479500770569,
          0.8036215305328369,
          0.9999999403953552,
          0.8554911613464355,
          0.772251307964325,
          0.35711097717285156,
          0.9161810874938965,
          0.904062807559967,
          0.9484055042266846,
          0.5912002921104431,
          0.524109959602356,
          0.4086383283138275,
          0.986091136932373,
          0.891082763671875,
          0.9999999403953552,
          0.7684717178344727,
          0.9484055042266846,
          0.8352854251861572,
          0.8539360165596008,
          0.994718074798584,
          0.9999998211860657,
          0.8335599899291992,
          0.9614319801330566,
          0.9713799953460693,
          0.6010522842407227,
          0.9828010201454163,
          1,
          0.9999999403953552,
          0.6228457689285278,
          1,
          0.9078938961029053,
          0.9999998807907104,
          0.8402714729309082,
          0.9056341648101807,
          0.9350801706314087,
          0.8107750415802002,
          1,
          0.9677137732505798,
          0.9999998807907104,
          0.8733487725257874,
          0.502116322517395,
          0.9734036326408386,
          0.8452669382095337,
          0.995261549949646,
          0.8641290068626404,
          0.9570203423500061,
          0.7667186856269836,
          0.9858816862106323,
          0.8554332256317139,
          0.865480899810791,
          0.9556741714477539,
          0.6532230377197266,
          1,
          0.5368188619613647,
          1,
          0.9074409008026123,
          0.8411833047866821,
          0.933674693107605,
          0.7526390552520752,
          0.9396387338638306,
          0.9999998807907104
         ]
        },
        {
         "name": "Two words sentences",
         "type": "box",
         "y": [
          0.626734733581543,
          1,
          0.9799060821533203,
          0.9999998807907104,
          1,
          0.9510349631309509,
          0.9006837606430054,
          0.7395665645599365,
          0.9978639483451843,
          0.7818455696105957,
          0.9680413007736206,
          0.9830308556556702,
          0.5333057045936584,
          0.9297782182693481,
          0.5453344583511353,
          0.9757102727890015,
          0.9598882794380188,
          1,
          0.9830228686332703,
          0.7275309562683105,
          0.9548707008361816,
          0.9857969880104065,
          0.6256700754165649,
          0.3020176589488983,
          0.9305307269096375,
          0.9572705030441284,
          0.9916423559188843,
          0.994107723236084,
          0.613884687423706,
          0.8472775220870972,
          0.914708137512207,
          1,
          0.9861574172973633,
          0.9072284698486328,
          0.6360432505607605,
          1.000000238418579,
          0.5321136713027954,
          0.3443239629268646,
          0.6184759140014648,
          0.3102020025253296,
          0.7818455696105957,
          0.8238726854324341,
          0.7676067352294922,
          0.8320720195770264,
          0.8757647275924683,
          0.8499743938446045,
          0.9893503189086914,
          0.6701637506484985,
          0.43996715545654297,
          0.8962914943695068,
          0.9906388521194458,
          0.9982415437698364,
          0.45371463894844055,
          0.7385768890380859,
          0.3639499545097351,
          0.4887939691543579,
          0.8360936641693115,
          0.8408877849578857,
          0.4953702390193939,
          0.9965469837188721,
          0.6292181015014648,
          0.7137738466262817,
          0.9805291891098022,
          0.6609394550323486,
          0.978615403175354,
          0.5483654737472534,
          0.8003002405166626,
          0.24501343071460724,
          0.9169267416000366,
          0.8598251342773438,
          0.8587252497673035,
          0.9855227470397949,
          0.9824227094650269,
          0.8861753940582275,
          0.9693765044212341,
          0.3921946883201599,
          0.9463151693344116,
          0.9608724117279053,
          0.975494384765625,
          0.6609516143798828,
          0.774896502494812,
          0.7752097845077515,
          0.6617781519889832,
          0.9999998807907104,
          0.48434019088745117,
          0.6234726905822754,
          0.9047139883041382,
          0.9878885746002197,
          0.3443981409072876,
          0.9737981557846069,
          0.8646526336669922,
          0.738148033618927,
          0.6245132684707642,
          0.9342703819274902,
          0.9578883647918701,
          0.9710811376571655,
          0.8343967795372009,
          0.975494384765625,
          0.9734815955162048,
          0.7875163555145264
         ]
        },
        {
         "name": "Three words sentences",
         "type": "box",
         "y": [
          0.64286208152771,
          0.741635799407959,
          0.9385789036750793,
          0.9620341658592224,
          0.9222398996353149,
          0.8293043375015259,
          0.8847764730453491,
          0.8848836421966553,
          0.95759117603302,
          0.5381799936294556,
          0.9896489381790161,
          0.8530164957046509,
          0.9121538996696472,
          0.9806399941444397,
          0.8365249633789062,
          0.8033069968223572,
          0.8997634649276733,
          0.7555677890777588,
          0.9314150810241699,
          0.78743976354599,
          0.9626191854476929,
          1.000000238418579,
          0.9617236852645874,
          0.6845155954360962,
          0.959320604801178,
          0.8581247925758362,
          0.3988940715789795,
          0.9217724800109863,
          0.8931694030761719,
          0.9874149560928345,
          0.9176090955734253,
          0.9608778357505798,
          0.9028403759002686,
          0.46294844150543213,
          0.9969358444213867,
          0.9479718208312988,
          0.9999999403953552,
          0.47050008177757263,
          0.9583943486213684,
          0.529711127281189,
          0.4499289095401764,
          0.3937222361564636,
          0.4747554659843445,
          0.8499287366867065,
          0.9142348766326904,
          0.5714849829673767,
          0.6022394895553589,
          0.9853947162628174,
          0.9964467287063599,
          0.774688720703125,
          0.828139066696167,
          0.33388444781303406,
          0.9704018831253052,
          0.9049142003059387,
          0.7576083540916443,
          0.9669265747070312,
          0.3849017322063446,
          0.8249772787094116,
          0.9892482161521912,
          0.4971280097961426,
          0.39290863275527954,
          0.8633542060852051,
          0.7851167321205139,
          0.8242443799972534,
          1,
          0.9402239322662354,
          0.7946611642837524,
          0.8131968379020691,
          0.865622878074646,
          1.000000238418579,
          0.35620826482772827,
          1,
          0.3660522699356079,
          0.5948261022567749,
          0.965259313583374,
          0.79355388879776,
          0.9557396173477173,
          0.2551605999469757,
          0.7621439695358276,
          0.5894981622695923,
          0.9050546884536743,
          0.40739214420318604,
          0.4417567849159241,
          0.6239275932312012,
          1,
          0.9030194282531738,
          0.8362208604812622,
          1.0000001192092896,
          0.9574596285820007,
          0.9772313833236694,
          0.9826411008834839,
          0.2740507125854492,
          0.832769513130188,
          0.3810928761959076,
          0.9702168107032776,
          0.9674429893493652,
          0.9420522451400757,
          1.0000001192092896,
          0.7044352889060974,
          0.5590549111366272
         ]
        },
        {
         "name": "Four words sentences",
         "type": "box",
         "y": [
          0.9780573844909668,
          0.9894101023674011,
          0.7692865133285522,
          0.8133152723312378,
          0.7968389987945557,
          0.8739559650421143,
          0.8446152806282043,
          0.6089800596237183,
          0.538862407207489,
          0.7830408811569214,
          0.9999998211860657,
          0.9673511385917664,
          0.8930277824401855,
          0.5777741074562073,
          0.9684559106826782,
          0.9819891452789307,
          0.990257203578949,
          0.7489171028137207,
          0.8366107940673828,
          0.7979662418365479,
          0.6085944175720215,
          0.9075895547866821,
          0.7267018556594849,
          0.9806650876998901,
          0.8873851895332336,
          0.6437078714370728,
          0.6404811143875122,
          0.8025707602500916,
          0.9055665731430054,
          0.7936564683914185,
          0.9953484535217285,
          0.5535793304443359,
          0.2850174605846405,
          1.0000001192092896,
          0.6860988140106201,
          0.8348770141601562,
          0.8536273837089539,
          0.6550195813179016,
          0.9658012986183167,
          0.5166752338409424,
          0.6754965782165527,
          0.7416451573371887,
          0.5707961916923523,
          0.42943763732910156,
          0.9788373112678528,
          0.8575552105903625,
          0.8835423588752747,
          0.8845282793045044,
          0.7331804633140564,
          0.7946040630340576,
          0.9878545999526978,
          0.4546688199043274,
          0.9413246512413025,
          0.8589368462562561,
          0.5465314388275146,
          0.8166875839233398,
          0.8638471364974976,
          0.8865398168563843,
          0.9596904516220093,
          0.04179332032799721,
          0.9999999403953552,
          0.8562406301498413,
          0.7641615867614746,
          0.23500996828079224,
          0.6096082925796509,
          0.7060602903366089,
          0.7187405228614807,
          0.9677709937095642,
          0.9758718609809875,
          0.8173627853393555,
          0.24016784131526947,
          0.8660017251968384,
          0.9531124830245972,
          0.9629610776901245,
          0.6155885457992554,
          0.6818892955780029,
          0.49915987253189087,
          0.5067010521888733,
          1,
          0.9897531867027283,
          0.8411794900894165,
          0.8143181800842285,
          0.941562831401825,
          0.3473820984363556,
          0.9524637460708618,
          0.9438686370849609,
          0.9423094987869263,
          0.6366406679153442,
          0.8051483035087585,
          0.776290774345398,
          0.8976322412490845,
          0.7735565304756165,
          0.20509853959083557,
          0.7207725644111633,
          0.640304684638977,
          0.6297831535339355,
          0.577910304069519,
          0.9652479887008667,
          0.9636330008506775,
          0.7438509464263916
         ]
        },
        {
         "name": "Five or more words sentences",
         "type": "box",
         "y": [
          0.9072954654693604,
          0.7351494431495667,
          0.4117192029953003,
          0.46959859132766724,
          0.5739201307296753,
          0.9779132604598999,
          0.4888285994529724,
          0.7795675992965698,
          0.8986822366714478,
          0.2900736331939697,
          0.8097768425941467,
          0.8924274444580078,
          0.9122880697250366,
          0.9227092862129211,
          0.887698769569397,
          0.410932332277298,
          0.9917716979980469,
          0.6512298583984375,
          0.5825623273849487,
          0.6394098997116089,
          0.8179634213447571,
          0.6549315452575684,
          0.806961178779602,
          0.9820542931556702,
          0.5799588561058044,
          0.8687965869903564,
          0.6499897241592407,
          0.8799267411231995,
          0.7281920909881592,
          0.7589783668518066,
          0.5665791034698486,
          0.8934741020202637,
          0.9020214676856995,
          0.8415822982788086,
          0.6157137155532837,
          0.835928201675415,
          0.9107258319854736,
          0.9539519548416138,
          0.42433661222457886,
          0.5766903758049011,
          0.35080599784851074,
          0.6851513385772705,
          0.9457689523696899,
          0.3897307515144348,
          0.49040287733078003,
          0.5810813903808594,
          0.8614425659179688,
          0.9389909505844116,
          0.855008602142334,
          0.7240934371948242,
          0.2604096531867981,
          0.4521799087524414,
          0.16058792173862457,
          0.5628771781921387,
          0.6792705655097961,
          0.9403026103973389,
          0.4821123480796814,
          0.4833337068557739,
          0.29983651638031006,
          0.9204908609390259,
          0.7147915363311768,
          0.5057564973831177,
          0.6962181329727173,
          0.9979067444801331,
          0.8539949655532837,
          0.8550980091094971,
          0.9871389865875244,
          0.2888738811016083,
          0.8666954040527344,
          0.705735981464386,
          0.9202256202697754,
          0.2842416763305664,
          0.8413752317428589,
          0.61684250831604,
          0.8016321063041687,
          0.4752255082130432,
          0.4777473211288452,
          0.9138514399528503,
          0.4539816975593567,
          0.7316433191299438,
          0.7423732280731201,
          0.7629364728927612,
          0.9612517952919006,
          0.8577240705490112,
          0.9072638750076294,
          0.5909394025802612,
          0.821815013885498,
          0.8915613889694214,
          0.7806692719459534,
          0.8303806781768799,
          0.5942318439483643,
          0.6636670827865601,
          0.9073360562324524,
          0.8652211427688599,
          0.6834521889686584,
          0.9040217399597168,
          0.7255637049674988,
          0.7673532366752625,
          0.6055182218551636,
          0.5656764507293701
         ]
        }
       ],
       "layout": {
        "boxmode": "group",
        "template": {
         "data": {
          "bar": [
           {
            "error_x": {
             "color": "#2a3f5f"
            },
            "error_y": {
             "color": "#2a3f5f"
            },
            "marker": {
             "line": {
              "color": "#E5ECF6",
              "width": 0.5
             },
             "pattern": {
              "fillmode": "overlay",
              "size": 10,
              "solidity": 0.2
             }
            },
            "type": "bar"
           }
          ],
          "barpolar": [
           {
            "marker": {
             "line": {
              "color": "#E5ECF6",
              "width": 0.5
             },
             "pattern": {
              "fillmode": "overlay",
              "size": 10,
              "solidity": 0.2
             }
            },
            "type": "barpolar"
           }
          ],
          "carpet": [
           {
            "aaxis": {
             "endlinecolor": "#2a3f5f",
             "gridcolor": "white",
             "linecolor": "white",
             "minorgridcolor": "white",
             "startlinecolor": "#2a3f5f"
            },
            "baxis": {
             "endlinecolor": "#2a3f5f",
             "gridcolor": "white",
             "linecolor": "white",
             "minorgridcolor": "white",
             "startlinecolor": "#2a3f5f"
            },
            "type": "carpet"
           }
          ],
          "choropleth": [
           {
            "colorbar": {
             "outlinewidth": 0,
             "ticks": ""
            },
            "type": "choropleth"
           }
          ],
          "contour": [
           {
            "colorbar": {
             "outlinewidth": 0,
             "ticks": ""
            },
            "colorscale": [
             [
              0,
              "#0d0887"
             ],
             [
              0.1111111111111111,
              "#46039f"
             ],
             [
              0.2222222222222222,
              "#7201a8"
             ],
             [
              0.3333333333333333,
              "#9c179e"
             ],
             [
              0.4444444444444444,
              "#bd3786"
             ],
             [
              0.5555555555555556,
              "#d8576b"
             ],
             [
              0.6666666666666666,
              "#ed7953"
             ],
             [
              0.7777777777777778,
              "#fb9f3a"
             ],
             [
              0.8888888888888888,
              "#fdca26"
             ],
             [
              1,
              "#f0f921"
             ]
            ],
            "type": "contour"
           }
          ],
          "contourcarpet": [
           {
            "colorbar": {
             "outlinewidth": 0,
             "ticks": ""
            },
            "type": "contourcarpet"
           }
          ],
          "heatmap": [
           {
            "colorbar": {
             "outlinewidth": 0,
             "ticks": ""
            },
            "colorscale": [
             [
              0,
              "#0d0887"
             ],
             [
              0.1111111111111111,
              "#46039f"
             ],
             [
              0.2222222222222222,
              "#7201a8"
             ],
             [
              0.3333333333333333,
              "#9c179e"
             ],
             [
              0.4444444444444444,
              "#bd3786"
             ],
             [
              0.5555555555555556,
              "#d8576b"
             ],
             [
              0.6666666666666666,
              "#ed7953"
             ],
             [
              0.7777777777777778,
              "#fb9f3a"
             ],
             [
              0.8888888888888888,
              "#fdca26"
             ],
             [
              1,
              "#f0f921"
             ]
            ],
            "type": "heatmap"
           }
          ],
          "heatmapgl": [
           {
            "colorbar": {
             "outlinewidth": 0,
             "ticks": ""
            },
            "colorscale": [
             [
              0,
              "#0d0887"
             ],
             [
              0.1111111111111111,
              "#46039f"
             ],
             [
              0.2222222222222222,
              "#7201a8"
             ],
             [
              0.3333333333333333,
              "#9c179e"
             ],
             [
              0.4444444444444444,
              "#bd3786"
             ],
             [
              0.5555555555555556,
              "#d8576b"
             ],
             [
              0.6666666666666666,
              "#ed7953"
             ],
             [
              0.7777777777777778,
              "#fb9f3a"
             ],
             [
              0.8888888888888888,
              "#fdca26"
             ],
             [
              1,
              "#f0f921"
             ]
            ],
            "type": "heatmapgl"
           }
          ],
          "histogram": [
           {
            "marker": {
             "pattern": {
              "fillmode": "overlay",
              "size": 10,
              "solidity": 0.2
             }
            },
            "type": "histogram"
           }
          ],
          "histogram2d": [
           {
            "colorbar": {
             "outlinewidth": 0,
             "ticks": ""
            },
            "colorscale": [
             [
              0,
              "#0d0887"
             ],
             [
              0.1111111111111111,
              "#46039f"
             ],
             [
              0.2222222222222222,
              "#7201a8"
             ],
             [
              0.3333333333333333,
              "#9c179e"
             ],
             [
              0.4444444444444444,
              "#bd3786"
             ],
             [
              0.5555555555555556,
              "#d8576b"
             ],
             [
              0.6666666666666666,
              "#ed7953"
             ],
             [
              0.7777777777777778,
              "#fb9f3a"
             ],
             [
              0.8888888888888888,
              "#fdca26"
             ],
             [
              1,
              "#f0f921"
             ]
            ],
            "type": "histogram2d"
           }
          ],
          "histogram2dcontour": [
           {
            "colorbar": {
             "outlinewidth": 0,
             "ticks": ""
            },
            "colorscale": [
             [
              0,
              "#0d0887"
             ],
             [
              0.1111111111111111,
              "#46039f"
             ],
             [
              0.2222222222222222,
              "#7201a8"
             ],
             [
              0.3333333333333333,
              "#9c179e"
             ],
             [
              0.4444444444444444,
              "#bd3786"
             ],
             [
              0.5555555555555556,
              "#d8576b"
             ],
             [
              0.6666666666666666,
              "#ed7953"
             ],
             [
              0.7777777777777778,
              "#fb9f3a"
             ],
             [
              0.8888888888888888,
              "#fdca26"
             ],
             [
              1,
              "#f0f921"
             ]
            ],
            "type": "histogram2dcontour"
           }
          ],
          "mesh3d": [
           {
            "colorbar": {
             "outlinewidth": 0,
             "ticks": ""
            },
            "type": "mesh3d"
           }
          ],
          "parcoords": [
           {
            "line": {
             "colorbar": {
              "outlinewidth": 0,
              "ticks": ""
             }
            },
            "type": "parcoords"
           }
          ],
          "pie": [
           {
            "automargin": true,
            "type": "pie"
           }
          ],
          "scatter": [
           {
            "fillpattern": {
             "fillmode": "overlay",
             "size": 10,
             "solidity": 0.2
            },
            "type": "scatter"
           }
          ],
          "scatter3d": [
           {
            "line": {
             "colorbar": {
              "outlinewidth": 0,
              "ticks": ""
             }
            },
            "marker": {
             "colorbar": {
              "outlinewidth": 0,
              "ticks": ""
             }
            },
            "type": "scatter3d"
           }
          ],
          "scattercarpet": [
           {
            "marker": {
             "colorbar": {
              "outlinewidth": 0,
              "ticks": ""
             }
            },
            "type": "scattercarpet"
           }
          ],
          "scattergeo": [
           {
            "marker": {
             "colorbar": {
              "outlinewidth": 0,
              "ticks": ""
             }
            },
            "type": "scattergeo"
           }
          ],
          "scattergl": [
           {
            "marker": {
             "colorbar": {
              "outlinewidth": 0,
              "ticks": ""
             }
            },
            "type": "scattergl"
           }
          ],
          "scattermapbox": [
           {
            "marker": {
             "colorbar": {
              "outlinewidth": 0,
              "ticks": ""
             }
            },
            "type": "scattermapbox"
           }
          ],
          "scatterpolar": [
           {
            "marker": {
             "colorbar": {
              "outlinewidth": 0,
              "ticks": ""
             }
            },
            "type": "scatterpolar"
           }
          ],
          "scatterpolargl": [
           {
            "marker": {
             "colorbar": {
              "outlinewidth": 0,
              "ticks": ""
             }
            },
            "type": "scatterpolargl"
           }
          ],
          "scatterternary": [
           {
            "marker": {
             "colorbar": {
              "outlinewidth": 0,
              "ticks": ""
             }
            },
            "type": "scatterternary"
           }
          ],
          "surface": [
           {
            "colorbar": {
             "outlinewidth": 0,
             "ticks": ""
            },
            "colorscale": [
             [
              0,
              "#0d0887"
             ],
             [
              0.1111111111111111,
              "#46039f"
             ],
             [
              0.2222222222222222,
              "#7201a8"
             ],
             [
              0.3333333333333333,
              "#9c179e"
             ],
             [
              0.4444444444444444,
              "#bd3786"
             ],
             [
              0.5555555555555556,
              "#d8576b"
             ],
             [
              0.6666666666666666,
              "#ed7953"
             ],
             [
              0.7777777777777778,
              "#fb9f3a"
             ],
             [
              0.8888888888888888,
              "#fdca26"
             ],
             [
              1,
              "#f0f921"
             ]
            ],
            "type": "surface"
           }
          ],
          "table": [
           {
            "cells": {
             "fill": {
              "color": "#EBF0F8"
             },
             "line": {
              "color": "white"
             }
            },
            "header": {
             "fill": {
              "color": "#C8D4E3"
             },
             "line": {
              "color": "white"
             }
            },
            "type": "table"
           }
          ]
         },
         "layout": {
          "annotationdefaults": {
           "arrowcolor": "#2a3f5f",
           "arrowhead": 0,
           "arrowwidth": 1
          },
          "autotypenumbers": "strict",
          "coloraxis": {
           "colorbar": {
            "outlinewidth": 0,
            "ticks": ""
           }
          },
          "colorscale": {
           "diverging": [
            [
             0,
             "#8e0152"
            ],
            [
             0.1,
             "#c51b7d"
            ],
            [
             0.2,
             "#de77ae"
            ],
            [
             0.3,
             "#f1b6da"
            ],
            [
             0.4,
             "#fde0ef"
            ],
            [
             0.5,
             "#f7f7f7"
            ],
            [
             0.6,
             "#e6f5d0"
            ],
            [
             0.7,
             "#b8e186"
            ],
            [
             0.8,
             "#7fbc41"
            ],
            [
             0.9,
             "#4d9221"
            ],
            [
             1,
             "#276419"
            ]
           ],
           "sequential": [
            [
             0,
             "#0d0887"
            ],
            [
             0.1111111111111111,
             "#46039f"
            ],
            [
             0.2222222222222222,
             "#7201a8"
            ],
            [
             0.3333333333333333,
             "#9c179e"
            ],
            [
             0.4444444444444444,
             "#bd3786"
            ],
            [
             0.5555555555555556,
             "#d8576b"
            ],
            [
             0.6666666666666666,
             "#ed7953"
            ],
            [
             0.7777777777777778,
             "#fb9f3a"
            ],
            [
             0.8888888888888888,
             "#fdca26"
            ],
            [
             1,
             "#f0f921"
            ]
           ],
           "sequentialminus": [
            [
             0,
             "#0d0887"
            ],
            [
             0.1111111111111111,
             "#46039f"
            ],
            [
             0.2222222222222222,
             "#7201a8"
            ],
            [
             0.3333333333333333,
             "#9c179e"
            ],
            [
             0.4444444444444444,
             "#bd3786"
            ],
            [
             0.5555555555555556,
             "#d8576b"
            ],
            [
             0.6666666666666666,
             "#ed7953"
            ],
            [
             0.7777777777777778,
             "#fb9f3a"
            ],
            [
             0.8888888888888888,
             "#fdca26"
            ],
            [
             1,
             "#f0f921"
            ]
           ]
          },
          "colorway": [
           "#636efa",
           "#EF553B",
           "#00cc96",
           "#ab63fa",
           "#FFA15A",
           "#19d3f3",
           "#FF6692",
           "#B6E880",
           "#FF97FF",
           "#FECB52"
          ],
          "font": {
           "color": "#2a3f5f"
          },
          "geo": {
           "bgcolor": "white",
           "lakecolor": "white",
           "landcolor": "#E5ECF6",
           "showlakes": true,
           "showland": true,
           "subunitcolor": "white"
          },
          "hoverlabel": {
           "align": "left"
          },
          "hovermode": "closest",
          "mapbox": {
           "style": "light"
          },
          "paper_bgcolor": "white",
          "plot_bgcolor": "#E5ECF6",
          "polar": {
           "angularaxis": {
            "gridcolor": "white",
            "linecolor": "white",
            "ticks": ""
           },
           "bgcolor": "#E5ECF6",
           "radialaxis": {
            "gridcolor": "white",
            "linecolor": "white",
            "ticks": ""
           }
          },
          "scene": {
           "xaxis": {
            "backgroundcolor": "#E5ECF6",
            "gridcolor": "white",
            "gridwidth": 2,
            "linecolor": "white",
            "showbackground": true,
            "ticks": "",
            "zerolinecolor": "white"
           },
           "yaxis": {
            "backgroundcolor": "#E5ECF6",
            "gridcolor": "white",
            "gridwidth": 2,
            "linecolor": "white",
            "showbackground": true,
            "ticks": "",
            "zerolinecolor": "white"
           },
           "zaxis": {
            "backgroundcolor": "#E5ECF6",
            "gridcolor": "white",
            "gridwidth": 2,
            "linecolor": "white",
            "showbackground": true,
            "ticks": "",
            "zerolinecolor": "white"
           }
          },
          "shapedefaults": {
           "line": {
            "color": "#2a3f5f"
           }
          },
          "ternary": {
           "aaxis": {
            "gridcolor": "white",
            "linecolor": "white",
            "ticks": ""
           },
           "baxis": {
            "gridcolor": "white",
            "linecolor": "white",
            "ticks": ""
           },
           "bgcolor": "#E5ECF6",
           "caxis": {
            "gridcolor": "white",
            "linecolor": "white",
            "ticks": ""
           }
          },
          "title": {
           "x": 0.05
          },
          "xaxis": {
           "automargin": true,
           "gridcolor": "white",
           "linecolor": "white",
           "ticks": "",
           "title": {
            "standoff": 15
           },
           "zerolinecolor": "white",
           "zerolinewidth": 2
          },
          "yaxis": {
           "automargin": true,
           "gridcolor": "white",
           "linecolor": "white",
           "ticks": "",
           "title": {
            "standoff": 15
           },
           "zerolinecolor": "white",
           "zerolinewidth": 2
          }
         }
        },
        "title": {
         "text": "Box Plot of Similarity Scores for all the prompts."
        },
        "xaxis": {
         "title": {
          "text": "Prompt"
         }
        },
        "yaxis": {
         "title": {
          "text": "Similarity Score"
         }
        }
       }
      }
     },
     "metadata": {},
     "output_type": "display_data"
    }
   ],
   "source": [
    "import plotly.graph_objects as go\n",
    "fig = go.Figure()\n",
    "\n",
    "fig.add_trace(go.Box(y=percentages['one-word sentence'], name='One word sentences'))\n",
    "fig.add_trace(go.Box(y=percentages['two-word sentence'], name='Two words sentences'))\n",
    "fig.add_trace(go.Box(y=percentages['three-word sentence'], name='Three words sentences'))\n",
    "fig.add_trace(go.Box(y=percentages['four-word sentence'], name='Four words sentences'))\n",
    "fig.add_trace(go.Box(y=percentages['five-word sentence'], name='Five or more words sentences'))\n",
    "\n",
    "# Update layout\n",
    "fig.update_layout(\n",
    "    title='Box Plot of Similarity Scores for all the prompts.',\n",
    "    yaxis_title='Similarity Score',\n",
    "    xaxis_title='Prompt',\n",
    "    boxmode='group'\n",
    ")\n",
    "\n",
    "# Show plot\n",
    "fig.show()"
   ]
  },
  {
   "cell_type": "code",
   "execution_count": 20,
   "metadata": {},
   "outputs": [
    {
     "name": "stdout",
     "output_type": "stream",
     "text": [
      "       means Longitude in input from sentences prompt type\n",
      "0   0.855867                 one-word sentence     English\n",
      "1   0.803088                 two-word sentence     English\n",
      "2   0.788815               three-word sentence     English\n",
      "3   0.769943                four-word sentence     English\n",
      "4   0.709641                five-word sentence     English\n",
      "5   0.747950                 six-word sentence     English\n",
      "6   0.732507               seven-word sentence     English\n",
      "7   0.748796               eight-word sentence     English\n",
      "8   0.716547                nine-word sentence     English\n",
      "9   0.716901                 ten-word sentence     English\n",
      "10  0.709622              eleven-word sentence     English\n",
      "11  0.697547              twelve-word sentence     English\n"
     ]
    },
    {
     "data": {
      "application/vnd.plotly.v1+json": {
       "config": {
        "plotlyServerURL": "https://plot.ly"
       },
       "data": [
        {
         "hovertemplate": "prompt type=English<br>Longitude in input from sentences=%{x}<br>means=%{y}<extra></extra>",
         "legendgroup": "English",
         "line": {
          "color": "#636efa",
          "dash": "solid"
         },
         "marker": {
          "symbol": "circle"
         },
         "mode": "lines+markers",
         "name": "English",
         "orientation": "v",
         "showlegend": true,
         "type": "scatter",
         "x": [
          "one-word sentence",
          "two-word sentence",
          "three-word sentence",
          "four-word sentence",
          "five-word sentence",
          "six-word sentence",
          "seven-word sentence",
          "eight-word sentence",
          "nine-word sentence",
          "ten-word sentence",
          "eleven-word sentence",
          "twelve-word sentence"
         ],
         "xaxis": "x",
         "y": [
          0.8558665320277214,
          0.8030882067978382,
          0.7888145279884339,
          0.7699428974464536,
          0.7096412272751331,
          0.747950267791748,
          0.7325072774291038,
          0.7487957906723023,
          0.7165467140078544,
          0.7169014662504196,
          0.7096221376955509,
          0.697547013759613
         ],
         "yaxis": "y"
        }
       ],
       "layout": {
        "legend": {
         "title": {
          "text": "prompt type"
         },
         "tracegroupgap": 0
        },
        "margin": {
         "t": 60
        },
        "template": {
         "data": {
          "bar": [
           {
            "error_x": {
             "color": "#2a3f5f"
            },
            "error_y": {
             "color": "#2a3f5f"
            },
            "marker": {
             "line": {
              "color": "#E5ECF6",
              "width": 0.5
             },
             "pattern": {
              "fillmode": "overlay",
              "size": 10,
              "solidity": 0.2
             }
            },
            "type": "bar"
           }
          ],
          "barpolar": [
           {
            "marker": {
             "line": {
              "color": "#E5ECF6",
              "width": 0.5
             },
             "pattern": {
              "fillmode": "overlay",
              "size": 10,
              "solidity": 0.2
             }
            },
            "type": "barpolar"
           }
          ],
          "carpet": [
           {
            "aaxis": {
             "endlinecolor": "#2a3f5f",
             "gridcolor": "white",
             "linecolor": "white",
             "minorgridcolor": "white",
             "startlinecolor": "#2a3f5f"
            },
            "baxis": {
             "endlinecolor": "#2a3f5f",
             "gridcolor": "white",
             "linecolor": "white",
             "minorgridcolor": "white",
             "startlinecolor": "#2a3f5f"
            },
            "type": "carpet"
           }
          ],
          "choropleth": [
           {
            "colorbar": {
             "outlinewidth": 0,
             "ticks": ""
            },
            "type": "choropleth"
           }
          ],
          "contour": [
           {
            "colorbar": {
             "outlinewidth": 0,
             "ticks": ""
            },
            "colorscale": [
             [
              0,
              "#0d0887"
             ],
             [
              0.1111111111111111,
              "#46039f"
             ],
             [
              0.2222222222222222,
              "#7201a8"
             ],
             [
              0.3333333333333333,
              "#9c179e"
             ],
             [
              0.4444444444444444,
              "#bd3786"
             ],
             [
              0.5555555555555556,
              "#d8576b"
             ],
             [
              0.6666666666666666,
              "#ed7953"
             ],
             [
              0.7777777777777778,
              "#fb9f3a"
             ],
             [
              0.8888888888888888,
              "#fdca26"
             ],
             [
              1,
              "#f0f921"
             ]
            ],
            "type": "contour"
           }
          ],
          "contourcarpet": [
           {
            "colorbar": {
             "outlinewidth": 0,
             "ticks": ""
            },
            "type": "contourcarpet"
           }
          ],
          "heatmap": [
           {
            "colorbar": {
             "outlinewidth": 0,
             "ticks": ""
            },
            "colorscale": [
             [
              0,
              "#0d0887"
             ],
             [
              0.1111111111111111,
              "#46039f"
             ],
             [
              0.2222222222222222,
              "#7201a8"
             ],
             [
              0.3333333333333333,
              "#9c179e"
             ],
             [
              0.4444444444444444,
              "#bd3786"
             ],
             [
              0.5555555555555556,
              "#d8576b"
             ],
             [
              0.6666666666666666,
              "#ed7953"
             ],
             [
              0.7777777777777778,
              "#fb9f3a"
             ],
             [
              0.8888888888888888,
              "#fdca26"
             ],
             [
              1,
              "#f0f921"
             ]
            ],
            "type": "heatmap"
           }
          ],
          "heatmapgl": [
           {
            "colorbar": {
             "outlinewidth": 0,
             "ticks": ""
            },
            "colorscale": [
             [
              0,
              "#0d0887"
             ],
             [
              0.1111111111111111,
              "#46039f"
             ],
             [
              0.2222222222222222,
              "#7201a8"
             ],
             [
              0.3333333333333333,
              "#9c179e"
             ],
             [
              0.4444444444444444,
              "#bd3786"
             ],
             [
              0.5555555555555556,
              "#d8576b"
             ],
             [
              0.6666666666666666,
              "#ed7953"
             ],
             [
              0.7777777777777778,
              "#fb9f3a"
             ],
             [
              0.8888888888888888,
              "#fdca26"
             ],
             [
              1,
              "#f0f921"
             ]
            ],
            "type": "heatmapgl"
           }
          ],
          "histogram": [
           {
            "marker": {
             "pattern": {
              "fillmode": "overlay",
              "size": 10,
              "solidity": 0.2
             }
            },
            "type": "histogram"
           }
          ],
          "histogram2d": [
           {
            "colorbar": {
             "outlinewidth": 0,
             "ticks": ""
            },
            "colorscale": [
             [
              0,
              "#0d0887"
             ],
             [
              0.1111111111111111,
              "#46039f"
             ],
             [
              0.2222222222222222,
              "#7201a8"
             ],
             [
              0.3333333333333333,
              "#9c179e"
             ],
             [
              0.4444444444444444,
              "#bd3786"
             ],
             [
              0.5555555555555556,
              "#d8576b"
             ],
             [
              0.6666666666666666,
              "#ed7953"
             ],
             [
              0.7777777777777778,
              "#fb9f3a"
             ],
             [
              0.8888888888888888,
              "#fdca26"
             ],
             [
              1,
              "#f0f921"
             ]
            ],
            "type": "histogram2d"
           }
          ],
          "histogram2dcontour": [
           {
            "colorbar": {
             "outlinewidth": 0,
             "ticks": ""
            },
            "colorscale": [
             [
              0,
              "#0d0887"
             ],
             [
              0.1111111111111111,
              "#46039f"
             ],
             [
              0.2222222222222222,
              "#7201a8"
             ],
             [
              0.3333333333333333,
              "#9c179e"
             ],
             [
              0.4444444444444444,
              "#bd3786"
             ],
             [
              0.5555555555555556,
              "#d8576b"
             ],
             [
              0.6666666666666666,
              "#ed7953"
             ],
             [
              0.7777777777777778,
              "#fb9f3a"
             ],
             [
              0.8888888888888888,
              "#fdca26"
             ],
             [
              1,
              "#f0f921"
             ]
            ],
            "type": "histogram2dcontour"
           }
          ],
          "mesh3d": [
           {
            "colorbar": {
             "outlinewidth": 0,
             "ticks": ""
            },
            "type": "mesh3d"
           }
          ],
          "parcoords": [
           {
            "line": {
             "colorbar": {
              "outlinewidth": 0,
              "ticks": ""
             }
            },
            "type": "parcoords"
           }
          ],
          "pie": [
           {
            "automargin": true,
            "type": "pie"
           }
          ],
          "scatter": [
           {
            "fillpattern": {
             "fillmode": "overlay",
             "size": 10,
             "solidity": 0.2
            },
            "type": "scatter"
           }
          ],
          "scatter3d": [
           {
            "line": {
             "colorbar": {
              "outlinewidth": 0,
              "ticks": ""
             }
            },
            "marker": {
             "colorbar": {
              "outlinewidth": 0,
              "ticks": ""
             }
            },
            "type": "scatter3d"
           }
          ],
          "scattercarpet": [
           {
            "marker": {
             "colorbar": {
              "outlinewidth": 0,
              "ticks": ""
             }
            },
            "type": "scattercarpet"
           }
          ],
          "scattergeo": [
           {
            "marker": {
             "colorbar": {
              "outlinewidth": 0,
              "ticks": ""
             }
            },
            "type": "scattergeo"
           }
          ],
          "scattergl": [
           {
            "marker": {
             "colorbar": {
              "outlinewidth": 0,
              "ticks": ""
             }
            },
            "type": "scattergl"
           }
          ],
          "scattermapbox": [
           {
            "marker": {
             "colorbar": {
              "outlinewidth": 0,
              "ticks": ""
             }
            },
            "type": "scattermapbox"
           }
          ],
          "scatterpolar": [
           {
            "marker": {
             "colorbar": {
              "outlinewidth": 0,
              "ticks": ""
             }
            },
            "type": "scatterpolar"
           }
          ],
          "scatterpolargl": [
           {
            "marker": {
             "colorbar": {
              "outlinewidth": 0,
              "ticks": ""
             }
            },
            "type": "scatterpolargl"
           }
          ],
          "scatterternary": [
           {
            "marker": {
             "colorbar": {
              "outlinewidth": 0,
              "ticks": ""
             }
            },
            "type": "scatterternary"
           }
          ],
          "surface": [
           {
            "colorbar": {
             "outlinewidth": 0,
             "ticks": ""
            },
            "colorscale": [
             [
              0,
              "#0d0887"
             ],
             [
              0.1111111111111111,
              "#46039f"
             ],
             [
              0.2222222222222222,
              "#7201a8"
             ],
             [
              0.3333333333333333,
              "#9c179e"
             ],
             [
              0.4444444444444444,
              "#bd3786"
             ],
             [
              0.5555555555555556,
              "#d8576b"
             ],
             [
              0.6666666666666666,
              "#ed7953"
             ],
             [
              0.7777777777777778,
              "#fb9f3a"
             ],
             [
              0.8888888888888888,
              "#fdca26"
             ],
             [
              1,
              "#f0f921"
             ]
            ],
            "type": "surface"
           }
          ],
          "table": [
           {
            "cells": {
             "fill": {
              "color": "#EBF0F8"
             },
             "line": {
              "color": "white"
             }
            },
            "header": {
             "fill": {
              "color": "#C8D4E3"
             },
             "line": {
              "color": "white"
             }
            },
            "type": "table"
           }
          ]
         },
         "layout": {
          "annotationdefaults": {
           "arrowcolor": "#2a3f5f",
           "arrowhead": 0,
           "arrowwidth": 1
          },
          "autotypenumbers": "strict",
          "coloraxis": {
           "colorbar": {
            "outlinewidth": 0,
            "ticks": ""
           }
          },
          "colorscale": {
           "diverging": [
            [
             0,
             "#8e0152"
            ],
            [
             0.1,
             "#c51b7d"
            ],
            [
             0.2,
             "#de77ae"
            ],
            [
             0.3,
             "#f1b6da"
            ],
            [
             0.4,
             "#fde0ef"
            ],
            [
             0.5,
             "#f7f7f7"
            ],
            [
             0.6,
             "#e6f5d0"
            ],
            [
             0.7,
             "#b8e186"
            ],
            [
             0.8,
             "#7fbc41"
            ],
            [
             0.9,
             "#4d9221"
            ],
            [
             1,
             "#276419"
            ]
           ],
           "sequential": [
            [
             0,
             "#0d0887"
            ],
            [
             0.1111111111111111,
             "#46039f"
            ],
            [
             0.2222222222222222,
             "#7201a8"
            ],
            [
             0.3333333333333333,
             "#9c179e"
            ],
            [
             0.4444444444444444,
             "#bd3786"
            ],
            [
             0.5555555555555556,
             "#d8576b"
            ],
            [
             0.6666666666666666,
             "#ed7953"
            ],
            [
             0.7777777777777778,
             "#fb9f3a"
            ],
            [
             0.8888888888888888,
             "#fdca26"
            ],
            [
             1,
             "#f0f921"
            ]
           ],
           "sequentialminus": [
            [
             0,
             "#0d0887"
            ],
            [
             0.1111111111111111,
             "#46039f"
            ],
            [
             0.2222222222222222,
             "#7201a8"
            ],
            [
             0.3333333333333333,
             "#9c179e"
            ],
            [
             0.4444444444444444,
             "#bd3786"
            ],
            [
             0.5555555555555556,
             "#d8576b"
            ],
            [
             0.6666666666666666,
             "#ed7953"
            ],
            [
             0.7777777777777778,
             "#fb9f3a"
            ],
            [
             0.8888888888888888,
             "#fdca26"
            ],
            [
             1,
             "#f0f921"
            ]
           ]
          },
          "colorway": [
           "#636efa",
           "#EF553B",
           "#00cc96",
           "#ab63fa",
           "#FFA15A",
           "#19d3f3",
           "#FF6692",
           "#B6E880",
           "#FF97FF",
           "#FECB52"
          ],
          "font": {
           "color": "#2a3f5f"
          },
          "geo": {
           "bgcolor": "white",
           "lakecolor": "white",
           "landcolor": "#E5ECF6",
           "showlakes": true,
           "showland": true,
           "subunitcolor": "white"
          },
          "hoverlabel": {
           "align": "left"
          },
          "hovermode": "closest",
          "mapbox": {
           "style": "light"
          },
          "paper_bgcolor": "white",
          "plot_bgcolor": "#E5ECF6",
          "polar": {
           "angularaxis": {
            "gridcolor": "white",
            "linecolor": "white",
            "ticks": ""
           },
           "bgcolor": "#E5ECF6",
           "radialaxis": {
            "gridcolor": "white",
            "linecolor": "white",
            "ticks": ""
           }
          },
          "scene": {
           "xaxis": {
            "backgroundcolor": "#E5ECF6",
            "gridcolor": "white",
            "gridwidth": 2,
            "linecolor": "white",
            "showbackground": true,
            "ticks": "",
            "zerolinecolor": "white"
           },
           "yaxis": {
            "backgroundcolor": "#E5ECF6",
            "gridcolor": "white",
            "gridwidth": 2,
            "linecolor": "white",
            "showbackground": true,
            "ticks": "",
            "zerolinecolor": "white"
           },
           "zaxis": {
            "backgroundcolor": "#E5ECF6",
            "gridcolor": "white",
            "gridwidth": 2,
            "linecolor": "white",
            "showbackground": true,
            "ticks": "",
            "zerolinecolor": "white"
           }
          },
          "shapedefaults": {
           "line": {
            "color": "#2a3f5f"
           }
          },
          "ternary": {
           "aaxis": {
            "gridcolor": "white",
            "linecolor": "white",
            "ticks": ""
           },
           "baxis": {
            "gridcolor": "white",
            "linecolor": "white",
            "ticks": ""
           },
           "bgcolor": "#E5ECF6",
           "caxis": {
            "gridcolor": "white",
            "linecolor": "white",
            "ticks": ""
           }
          },
          "title": {
           "x": 0.05
          },
          "xaxis": {
           "automargin": true,
           "gridcolor": "white",
           "linecolor": "white",
           "ticks": "",
           "title": {
            "standoff": 15
           },
           "zerolinecolor": "white",
           "zerolinewidth": 2
          },
          "yaxis": {
           "automargin": true,
           "gridcolor": "white",
           "linecolor": "white",
           "ticks": "",
           "title": {
            "standoff": 15
           },
           "zerolinecolor": "white",
           "zerolinewidth": 2
          }
         }
        },
        "xaxis": {
         "anchor": "y",
         "domain": [
          0,
          1
         ],
         "title": {
          "text": "Longitude in input from sentences"
         }
        },
        "yaxis": {
         "anchor": "x",
         "domain": [
          0,
          1
         ],
         "range": [
          0,
          1
         ],
         "title": {
          "text": "means"
         }
        }
       }
      }
     },
     "metadata": {},
     "output_type": "display_data"
    }
   ],
   "source": [
    "import plotly.express as px\n",
    "\n",
    "averages = pd.DataFrame()\n",
    "eng_averages = pd.DataFrame()\n",
    "\n",
    "mean1= percentages['one-word sentence'].mean()\n",
    "mean2= percentages['two-word sentence'].mean()\n",
    "mean3= percentages['three-word sentence'].mean()\n",
    "mean4= percentages['four-word sentence'].mean()\n",
    "mean5= percentages['five-word sentence'].mean()\n",
    "mean6= percentages['six-word sentence'].mean()\n",
    "mean7= percentages['seven-word sentence'].mean()\n",
    "mean8= percentages['eight-word sentence'].mean()\n",
    "mean9= percentages['nine-word sentence'].mean()\n",
    "mean10= percentages['ten-word sentence'].mean()\n",
    "mean11= percentages['eleven-word sentence'].mean()\n",
    "mean12= percentages['twelve-word sentence'].mean()\n",
    "mean13= percentages['thirteen-word sentence'].mean()\n",
    "\n",
    "\n",
    "averages['means'] = [mean1, mean2, mean3, mean4, mean5, mean6, mean7, mean8, mean9, mean10, mean11, mean12]\n",
    "averages['Longitude in input from sentences'] = ['one-word sentence', 'two-word sentence', 'three-word sentence', 'four-word sentence', 'five-word sentence',\n",
    "                                                 'six-word sentence', 'seven-word sentence', 'eight-word sentence', 'nine-word sentence', 'ten-word sentence',\n",
    "                                                 'eleven-word sentence', 'twelve-word sentence'\n",
    "                                                 ]\n",
    "averages['prompt type'] = ['English', 'English', 'English', 'English', 'English',\n",
    "                           'English', 'English', 'English', 'English', 'English',\n",
    "                           'English', 'English']\n",
    "print(averages)\n",
    "\n",
    "fig = px.line(averages, x=\"Longitude in input from sentences\", y=\"means\",  markers=True, color ='prompt type')\n",
    "fig.update_yaxes(range=[0, 1])\n",
    "\n",
    "fig.show()\n"
   ]
  }
 ],
 "metadata": {
  "kernelspec": {
   "display_name": "Python 3",
   "language": "python",
   "name": "python3"
  },
  "language_info": {
   "codemirror_mode": {
    "name": "ipython",
    "version": 3
   },
   "file_extension": ".py",
   "mimetype": "text/x-python",
   "name": "python",
   "nbconvert_exporter": "python",
   "pygments_lexer": "ipython3",
   "version": "3.11.8"
  }
 },
 "nbformat": 4,
 "nbformat_minor": 2
}
