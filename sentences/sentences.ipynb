{
 "cells": [
  {
   "cell_type": "markdown",
   "metadata": {},
   "source": [
    "Bevor Beispiele: \n",
    "\n",
    "'He will cover the expenses until the next three months.', 'We will cover all the material up to next Tuesday', 0.6612762212753296, False\n",
    "\n",
    "'He started reading early!' , 'so start studying soon!', 0.7224154472351074, True\n",
    "\n",
    "# Short constructions\n",
    "\n",
    "#### 1 word"
   ]
  },
  {
   "cell_type": "code",
   "execution_count": 2,
   "metadata": {},
   "outputs": [
    {
     "name": "stdout",
     "output_type": "stream",
     "text": [
      "Index(['darija', 'eng', 'darija_ar'], dtype='object')\n",
      "Index(['darija', 'eng', 'darija_ar'], dtype='object')\n"
     ]
    }
   ],
   "source": [
    "from openai import OpenAI\n",
    "import pandas as pd\n",
    "client = OpenAI()\n",
    "df_one = pd.read_csv('word1.csv')\n",
    "df_one = df_one.head(100)\n",
    "\n",
    "df_two = pd.read_csv('word2.csv')\n",
    "df_two = df_two.head(100)\n",
    "\n",
    "df_three = pd.read_csv('word3.csv')\n",
    "df_three = df_three.head(100)\n",
    "\n",
    "df_four = pd.read_csv('word4.csv')\n",
    "df_four = df_four.head(100)\n",
    "\n",
    "df_more = pd.read_csv('word5.csv')\n",
    "df_more = df_more.head(100)\n",
    "\n",
    "def one(stc):\n",
    "    completion = client.chat.completions.create(\n",
    "        model=\"gpt-3.5-turbo\",\n",
    "        messages=[\n",
    "            {\"role\": \"system\", \"content\":     \"You are an expert in Language translation from Moroccan Darija dialect to English. \" +\n",
    "             \"You will be provided with a short one word sentence in Moroccan Darija dialect, and your task is to translate it into a sentence in English with no explanations.\"},\n",
    "            #{\"role\": \"assistant\", \"content\": \"OK, I understand. I am ready to translate to English.\"},\n",
    "            {\"role\": \"user\", \"content\": \"لايسّر\"},\n",
    "            {\"role\": \"assistant\", \"content\": \"Good luck\"},\n",
    "            {\"role\": \"user\", \"content\":  f\"{stc}\" }\n",
    "            ], \n",
    "        temperature=0.1  # Deterministic responses\n",
    "        )\n",
    "    return completion.choices[0].message.content\n",
    "\n",
    "def one(stc):\n",
    "    completion = client.chat.completions.create(\n",
    "        model=\"gpt-3.5-turbo\",\n",
    "        messages=[\n",
    "            {\"role\": \"system\", \"content\":     \"You are an expert in Language translation from Moroccan Darija dialect to English. \" +\n",
    "             \"You will be provided with a short one word sentence in Moroccan Darija dialect, and your task is to translate it into a sentence in English with no explanations.\"},\n",
    "            #{\"role\": \"assistant\", \"content\": \"OK, I understand. I am ready to translate to English.\"},\n",
    "            {\"role\": \"user\", \"content\": \"لايسّر\"},\n",
    "            {\"role\": \"assistant\", \"content\": \"Good luck\"},\n",
    "            {\"role\": \"user\", \"content\":  f\"{stc}\" }\n",
    "            ], \n",
    "        temperature=0.1  # Deterministic responses\n",
    "        )\n",
    "    return completion.choices[0].message.content\n",
    "\n",
    "\n",
    "def two(stc):\n",
    "    completion = client.chat.completions.create(\n",
    "        model=\"gpt-3.5-turbo\",\n",
    "        messages=[\n",
    "            {\"role\": \"system\", \"content\":     \"You are an expert in Language translation from Moroccan Darija dialect to English. \" +\n",
    "             \"You will be provided with a short sentence in Moroccan Darija dialect, and your task is to translate it into a sentence in English with no explanations.\"},\n",
    "            #{\"role\": \"assistant\", \"content\": \"OK, I understand. I am ready to translate to English.\"},\n",
    "            {\"role\": \"user\", \"content\": \"لايسّر\"},\n",
    "            {\"role\": \"assistant\", \"content\": \"Good luck\"},\n",
    "            {\"role\": \"user\", \"content\":  f\"{stc}\" }\n",
    "            ], \n",
    "        temperature=0.1  # Deterministic responses\n",
    "        )\n",
    "    return completion.choices[0].message.content\n",
    "\n",
    "\n",
    "def two(stc):\n",
    "    completion = client.chat.completions.create(\n",
    "        model=\"gpt-3.5-turbo\",\n",
    "        messages=[\n",
    "            {\"role\": \"system\", \"content\":     \"You are an expert in Language translation from Moroccan Darija dialect to English. \" +\n",
    "             \"You will be provided with a short sentence in Moroccan Darija dialect, and your task is to translate it into a sentence in English with no explanations.\"},\n",
    "            #{\"role\": \"assistant\", \"content\": \"OK, I understand. I am ready to translate to English.\"},\n",
    "            {\"role\": \"user\", \"content\": \"شهر ربعا\"},\n",
    "            {\"role\": \"assistant\", \"content\": \"April\"},\n",
    "            {\"role\": \"user\", \"content\":  f\"{stc}\" }\n",
    "            ], \n",
    "        temperature=0.1  # Deterministic responses\n",
    "        )\n",
    "    return completion.choices[0].message.content\n",
    "\n",
    "def three(stc):\n",
    "    completion = client.chat.completions.create(\n",
    "        model=\"gpt-3.5-turbo\",\n",
    "        messages=[\n",
    "            {\"role\": \"system\", \"content\":     \"You are an expert in Language translation from Moroccan Darija dialect to English. \" +\n",
    "             \"You will be provided with a short one word sentence in Moroccan Darija dialect, and your task is to translate it into a sentence in English with no explanations.\"},\n",
    "            #{\"role\": \"assistant\", \"content\": \"OK, I understand. I am ready to translate to English.\"},\n",
    "            {\"role\": \"user\", \"content\": \"لايسّر\"},\n",
    "            {\"role\": \"assistant\", \"content\": \"Good luck\"},\n",
    "            {\"role\": \"user\", \"content\":  f\"{stc}\" }\n",
    "            ], \n",
    "        temperature=0.1  # Deterministic responses\n",
    "        )\n",
    "    return completion.choices[0].message.content\n",
    "\n",
    "def three(stc):\n",
    "    completion = client.chat.completions.create(\n",
    "        model=\"gpt-3.5-turbo\",\n",
    "        messages=[\n",
    "            {\"role\": \"system\", \"content\":     \"You are an expert in Language translation from Moroccan Darija dialect to English. \" +\n",
    "             \"You will be provided with a short one word sentence in Moroccan Darija dialect, and your task is to translate it into a sentence in English with no explanations.\"},\n",
    "            #{\"role\": \"assistant\", \"content\": \"OK, I understand. I am ready to translate to English.\"},\n",
    "            {\"role\": \"user\", \"content\": \"لايسّر\"},\n",
    "            {\"role\": \"assistant\", \"content\": \"Good luck\"},\n",
    "            {\"role\": \"user\", \"content\":  f\"{stc}\" }\n",
    "            ], \n",
    "        temperature=0.1  # Deterministic responses\n",
    "        )\n",
    "    return completion.choices[0].message.content\n",
    "\n",
    "\n",
    "def four(stc):\n",
    "    completion = client.chat.completions.create(\n",
    "        model=\"gpt-3.5-turbo\",\n",
    "        messages=[\n",
    "            {\"role\": \"system\", \"content\":     \"You are an expert in Language translation from Moroccan Darija dialect to English. \" +\n",
    "             \"You will be provided with a short sentence in Moroccan Darija dialect, and your task is to translate it into a sentence in English with no explanations.\"},\n",
    "            #{\"role\": \"assistant\", \"content\": \"OK, I understand. I am ready to translate to English.\"},\n",
    "            {\"role\": \"user\", \"content\": \"لايسّر\"},\n",
    "            {\"role\": \"assistant\", \"content\": \"Good luck\"},\n",
    "            {\"role\": \"user\", \"content\":  f\"{stc}\" }\n",
    "            ], \n",
    "        temperature=0.1  # Deterministic responses\n",
    "        )\n",
    "    return completion.choices[0].message.content\n",
    "\n",
    "\n",
    "def four(stc):\n",
    "    completion = client.chat.completions.create(\n",
    "        model=\"gpt-3.5-turbo\",\n",
    "        messages=[\n",
    "            {\"role\": \"system\", \"content\":     \"You are an expert in Language translation from Moroccan Darija dialect to English. \" +\n",
    "             \"You will be provided with a short sentence in Moroccan Darija dialect, and your task is to translate it into a sentence in English with no explanations.\"},\n",
    "            #{\"role\": \"assistant\", \"content\": \"OK, I understand. I am ready to translate to English.\"},\n",
    "            {\"role\": \"user\", \"content\": \"شهر ربعا\"},\n",
    "            {\"role\": \"assistant\", \"content\": \"April\"},\n",
    "            {\"role\": \"user\", \"content\":  f\"{stc}\" }\n",
    "            ], \n",
    "        temperature=0.1  # Deterministic responses\n",
    "        )\n",
    "    return completion.choices[0].message.content\n",
    "\n",
    "def more(stc):\n",
    "    completion = client.chat.completions.create(\n",
    "        model=\"gpt-3.5-turbo\",\n",
    "        messages=[\n",
    "            {\"role\": \"system\", \"content\":     \"You are an expert in Language translation from Moroccan Darija dialect to English. \" +\n",
    "             \"You will be provided with a short sentence in Moroccan Darija dialect, and your task is to translate it into a sentence in English with no explanations.\"},\n",
    "            #{\"role\": \"assistant\", \"content\": \"OK, I understand. I am ready to translate to English.\"},\n",
    "            {\"role\": \"user\", \"content\": \"لايسّر\"},\n",
    "            {\"role\": \"assistant\", \"content\": \"Good luck\"},\n",
    "            {\"role\": \"user\", \"content\":  f\"{stc}\" }\n",
    "            ], \n",
    "        temperature=0.1  # Deterministic responses\n",
    "        )\n",
    "    return completion.choices[0].message.content\n",
    "\n",
    "\n",
    "def more(stc):\n",
    "    completion = client.chat.completions.create(\n",
    "        model=\"gpt-3.5-turbo\",\n",
    "        messages=[\n",
    "            {\"role\": \"system\", \"content\":     \"You are an expert in Language translation from Moroccan Darija dialect to English. \" +\n",
    "             \"You will be provided with a short sentence in Moroccan Darija dialect, and your task is to translate it into a sentence in English with no explanations.\"},\n",
    "            #{\"role\": \"assistant\", \"content\": \"OK, I understand. I am ready to translate to English.\"},\n",
    "            {\"role\": \"user\", \"content\": \"شهر ربعا\"},\n",
    "            {\"role\": \"assistant\", \"content\": \"April\"},\n",
    "            {\"role\": \"user\", \"content\":  f\"{stc}\" }\n",
    "            ], \n",
    "        temperature=0.1  # Deterministic responses\n",
    "        )\n",
    "    return completion.choices[0].message.content\n",
    "\n",
    "print(df_one.columns)\n",
    "print(df_two.columns)\n",
    "print(df_three.columns)\n",
    "print(df_four.columns)\n",
    "print(df_more.columns)"
   ]
  },
  {
   "cell_type": "code",
   "execution_count": 3,
   "metadata": {},
   "outputs": [
    {
     "name": "stdout",
     "output_type": "stream",
     "text": [
      "Index(['eng', 'darija_ar'], dtype='object')\n",
      "0             He got sick!\n",
      "1                 Firstly!\n",
      "2              Don't worry\n",
      "3                     Why?\n",
      "4                I'm sorry\n",
      "              ...         \n",
      "95    We didn't tell them.\n",
      "96                I think.\n",
      "97               Seriously\n",
      "98             Impossible!\n",
      "99               Excellent\n",
      "Name: transl, Length: 100, dtype: object\n",
      "Index(['eng', 'darija_ar'], dtype='object')\n",
      "0     I will go to the beach!\n",
      "1                  I knew it!\n",
      "2                  Oh my God!\n",
      "3            Don't you think?\n",
      "4                  Is it big?\n",
      "               ...           \n",
      "95               On your left\n",
      "96       This is my daughter.\n",
      "97           Yes, two stamps.\n",
      "98            Absolutely not!\n",
      "99     A little absent-minded\n",
      "Name: transl, Length: 100, dtype: object\n"
     ]
    }
   ],
   "source": [
    "dataset_one = df_one.copy()\n",
    "dataset_two = df_two.copy()\n",
    "dataset_three = df_three.copy()\n",
    "dataset_four = df_four.copy()\n",
    "dataset_more = df_more.copy()\n",
    "\n",
    "columns_to_delete = ['darija']\n",
    "dataset_one.drop(columns=columns_to_delete, inplace=True)\n",
    "dataset_two.drop(columns=columns_to_delete, inplace=True)\n",
    "dataset_three.drop(columns=columns_to_delete, inplace=True)\n",
    "dataset_four.drop(columns=columns_to_delete, inplace=True)\n",
    "dataset_more.drop(columns=columns_to_delete, inplace=True)\n",
    "\n",
    "\n",
    "dataset_one['transl'] = dataset_one['darija_ar'].apply(one)\n",
    "dataset_two['transl'] = dataset_two['darija_ar'].apply(two)\n",
    "dataset_three['transl'] = dataset_three['darija_ar'].apply(three)\n",
    "dataset_four['transl'] = dataset_four['darija_ar'].apply(four)\n",
    "dataset_more['transl'] = dataset_more['darija_ar'].apply(more)\n"
   ]
  },
  {
   "cell_type": "code",
   "execution_count": 5,
   "metadata": {},
   "outputs": [],
   "source": [
    "dataset_one.to_csv('word1.csv', index=False)\n",
    "dataset_two.to_csv('word2.csv', index=False)\n",
    "dataset_three.to_csv('word3.csv', index=False)\n",
    "dataset_four.to_csv('word4.csv', index=False)\n",
    "dataset_more.to_csv('word5more.csv', index=False)"
   ]
  },
  {
   "cell_type": "code",
   "execution_count": 1,
   "metadata": {},
   "outputs": [
    {
     "name": "stderr",
     "output_type": "stream",
     "text": [
      "c:\\Users\\yassi\\AppData\\Local\\Programs\\Python\\Python311\\Lib\\site-packages\\tqdm\\auto.py:21: TqdmWarning: IProgress not found. Please update jupyter and ipywidgets. See https://ipywidgets.readthedocs.io/en/stable/user_install.html\n",
      "  from .autonotebook import tqdm as notebook_tqdm\n"
     ]
    },
    {
     "ename": "NameError",
     "evalue": "name 'pd' is not defined",
     "output_type": "error",
     "traceback": [
      "\u001b[1;31m---------------------------------------------------------------------------\u001b[0m",
      "\u001b[1;31mNameError\u001b[0m                                 Traceback (most recent call last)",
      "Cell \u001b[1;32mIn[1], line 4\u001b[0m\n\u001b[0;32m      1\u001b[0m \u001b[38;5;28;01mfrom\u001b[39;00m \u001b[38;5;21;01msentence_transformers\u001b[39;00m \u001b[38;5;28;01mimport\u001b[39;00m SentenceTransformer, util\n\u001b[0;32m      2\u001b[0m \u001b[38;5;28;01mimport\u001b[39;00m \u001b[38;5;21;01mplotly\u001b[39;00m\u001b[38;5;21;01m.\u001b[39;00m\u001b[38;5;21;01mgraph_objects\u001b[39;00m \u001b[38;5;28;01mas\u001b[39;00m \u001b[38;5;21;01mgo\u001b[39;00m\n\u001b[1;32m----> 4\u001b[0m dataset_one \u001b[38;5;241m=\u001b[39m \u001b[43mpd\u001b[49m\u001b[38;5;241m.\u001b[39mread_csv(\u001b[38;5;124m'\u001b[39m\u001b[38;5;124mword1.csv\u001b[39m\u001b[38;5;124m'\u001b[39m)\n\u001b[0;32m      5\u001b[0m dataset_two \u001b[38;5;241m=\u001b[39m pd\u001b[38;5;241m.\u001b[39mread_csv(\u001b[38;5;124m'\u001b[39m\u001b[38;5;124mword2.csv\u001b[39m\u001b[38;5;124m'\u001b[39m)\n\u001b[0;32m      6\u001b[0m dataset_three \u001b[38;5;241m=\u001b[39m pd\u001b[38;5;241m.\u001b[39mread_csv(\u001b[38;5;124m'\u001b[39m\u001b[38;5;124mword3.csv\u001b[39m\u001b[38;5;124m'\u001b[39m)\n",
      "\u001b[1;31mNameError\u001b[0m: name 'pd' is not defined"
     ]
    }
   ],
   "source": [
    "from sentence_transformers import SentenceTransformer, util\n",
    "import plotly.graph_objects as go\n",
    "\n",
    "dataset_one = pd.read_csv('word1.csv')\n",
    "dataset_two = pd.read_csv('word2.csv')\n",
    "dataset_three = pd.read_csv('word3.csv')\n",
    "dataset_four = pd.read_csv('word4.csv')\n",
    "dataset_more = pd.read_csv('word5more.csv')\n",
    "\n",
    "# Initialize model\n",
    "model_name = 'bert-base-nli-mean-tokens'\n",
    "model = SentenceTransformer(model_name)\n",
    "\n",
    "\n",
    "def evaluate_pairs(transl, eng):\n",
    "    results = []\n",
    "    for i in range(len(transl)):\n",
    "        sentence1, sentence2 = transl[i], eng[i]\n",
    "        embedding1 = model.encode(sentence1, convert_to_tensor=True)\n",
    "        embedding2 = model.encode(sentence2, convert_to_tensor=True)\n",
    "        similarity = util.pytorch_cos_sim(embedding1, embedding2).item()\n",
    "        results.append((i+2, sentence1, sentence2, similarity))\n",
    "\n",
    "    return results\n",
    "\n",
    "transl_one = dataset_one['transl']\n",
    "eng_one =  dataset_one['eng']\n",
    "similarities = evaluate_pairs(transl_one, eng_one)\n",
    "percentages_one = [result for *_, result in similarities]\n",
    "\n",
    "transl_two = dataset_two['transl']\n",
    "eng_two =  dataset_two['eng']\n",
    "similarities = evaluate_pairs(transl_two, eng_two)\n",
    "percentages_two = [result for *_, result in similarities]\n",
    "\n",
    "\n",
    "transl_three = dataset_three['transl']\n",
    "eng_three =  dataset_three['eng']\n",
    "similarities = evaluate_pairs(transl_three, eng_three)\n",
    "percentages_three = [result for *_, result in similarities]\n",
    "\n",
    "\n",
    "transl_four = dataset_four['transl']\n",
    "eng_four =  dataset_four['eng']\n",
    "similarities = evaluate_pairs(transl_four, eng_four)\n",
    "percentages_four = [result for *_, result in similarities]\n",
    "\n",
    "transl_more = dataset_more['transl']\n",
    "eng_more =  dataset_more['eng']\n",
    "similarities = evaluate_pairs(transl_more, eng_more)\n",
    "percentages_more = [result for *_, result in similarities]"
   ]
  },
  {
   "cell_type": "code",
   "execution_count": null,
   "metadata": {},
   "outputs": [
    {
     "data": {
      "application/vnd.plotly.v1+json": {
       "config": {
        "plotlyServerURL": "https://plot.ly"
       },
       "data": [
        {
         "histfunc": "count",
         "name": "One word sentences",
         "type": "histogram",
         "x": [
          0.8856703042984009,
          0.7980146408081055,
          0.7258920073509216,
          0.6768054962158203,
          1,
          0.8409910202026367,
          0.9513050317764282,
          0.706678032875061,
          0.7054896950721741,
          0.5264849066734314,
          0.9132909178733826,
          0.8409993648529053,
          0.9507207870483398,
          0.9443386793136597,
          0.8516219258308411,
          1,
          0.9912242889404297,
          0.9341317415237427,
          0.9182873964309692,
          0.9052188396453857,
          0.7526390552520752,
          1,
          0.9605642557144165,
          0.8554357886314392,
          0.711711049079895,
          0.6617124676704407,
          0.9167681932449341,
          0.5628024339675903,
          0.9912242889404297,
          0.9691421985626221,
          0.9999998807907104,
          0.8463515043258667,
          0.5097287893295288,
          0.9118488430976868,
          0.748238205909729,
          0.7998113036155701,
          1.000000238418579,
          0.9847387075424194,
          0.9671240448951721,
          0.6557479500770569,
          0.8499196767807007,
          0.9999999403953552,
          0.8554911613464355,
          0.772251307964325,
          0.35711097717285156,
          0.9161810874938965,
          0.904062807559967,
          0.9484055042266846,
          0.5912002921104431,
          0.524109959602356,
          0.4086383283138275,
          1.0000001192092896,
          0.891082763671875,
          0.9999999403953552,
          0.7684717178344727,
          0.9484055042266846,
          0.8352854251861572,
          0.8539360165596008,
          0.9847387075424194,
          0.8928293585777283,
          0.8335599899291992,
          0.9614319801330566,
          0.9713799953460693,
          0.6010522842407227,
          0.9828010201454163,
          1,
          0.9999999403953552,
          0.6228457689285278,
          1,
          0.9078938961029053,
          0.9999998807907104,
          0.8402714729309082,
          0.9056341648101807,
          0.9350801706314087,
          0.8107750415802002,
          1,
          0.9677137732505798,
          0.9999998807907104,
          0.8733487725257874,
          0.3944084048271179,
          0.9809484481811523,
          0.8452669382095337,
          0.995261549949646,
          0.9154475927352905,
          0.9570203423500061,
          0.7311993837356567,
          0.9858816862106323,
          0.8554332256317139,
          0.865480899810791,
          0.9556741714477539,
          0.8296944499015808,
          1,
          0.5368188619613647,
          1,
          0.92669677734375,
          0.8411833047866821,
          0.933674693107605,
          0.7526390552520752,
          0.9396387338638306,
          0.9999998807907104
         ],
         "y": [
          0.8856703042984009,
          0.7980146408081055,
          0.7258920073509216,
          0.6768054962158203,
          1,
          0.8409910202026367,
          0.9513050317764282,
          0.706678032875061,
          0.7054896950721741,
          0.5264849066734314,
          0.9132909178733826,
          0.8409993648529053,
          0.9507207870483398,
          0.9443386793136597,
          0.8516219258308411,
          1,
          0.9912242889404297,
          0.9341317415237427,
          0.9182873964309692,
          0.9052188396453857,
          0.7526390552520752,
          1,
          0.9605642557144165,
          0.8554357886314392,
          0.711711049079895,
          0.6617124676704407,
          0.9167681932449341,
          0.5628024339675903,
          0.9912242889404297,
          0.9691421985626221,
          0.9999998807907104,
          0.8463515043258667,
          0.5097287893295288,
          0.9118488430976868,
          0.748238205909729,
          0.7998113036155701,
          1.000000238418579,
          0.9847387075424194,
          0.9671240448951721,
          0.6557479500770569,
          0.8499196767807007,
          0.9999999403953552,
          0.8554911613464355,
          0.772251307964325,
          0.35711097717285156,
          0.9161810874938965,
          0.904062807559967,
          0.9484055042266846,
          0.5912002921104431,
          0.524109959602356,
          0.4086383283138275,
          1.0000001192092896,
          0.891082763671875,
          0.9999999403953552,
          0.7684717178344727,
          0.9484055042266846,
          0.8352854251861572,
          0.8539360165596008,
          0.9847387075424194,
          0.8928293585777283,
          0.8335599899291992,
          0.9614319801330566,
          0.9713799953460693,
          0.6010522842407227,
          0.9828010201454163,
          1,
          0.9999999403953552,
          0.6228457689285278,
          1,
          0.9078938961029053,
          0.9999998807907104,
          0.8402714729309082,
          0.9056341648101807,
          0.9350801706314087,
          0.8107750415802002,
          1,
          0.9677137732505798,
          0.9999998807907104,
          0.8733487725257874,
          0.3944084048271179,
          0.9809484481811523,
          0.8452669382095337,
          0.995261549949646,
          0.9154475927352905,
          0.9570203423500061,
          0.7311993837356567,
          0.9858816862106323,
          0.8554332256317139,
          0.865480899810791,
          0.9556741714477539,
          0.8296944499015808,
          1,
          0.5368188619613647,
          1,
          0.92669677734375,
          0.8411833047866821,
          0.933674693107605,
          0.7526390552520752,
          0.9396387338638306,
          0.9999998807907104
         ]
        },
        {
         "histfunc": "count",
         "name": "two words sentences",
         "type": "histogram",
         "x": [
          0.5138582587242126,
          1,
          0.9799060821533203,
          0.9999998807907104,
          1,
          0.8706889152526855,
          0.8826024532318115,
          0.786861777305603,
          0.9978639483451843,
          0.7818455696105957,
          0.9259976148605347,
          0.9400407075881958,
          0.5066134333610535,
          0.9297782182693481,
          0.5452806949615479,
          0.9887059926986694,
          0.9489870667457581,
          1,
          0.9830228686332703,
          0.49811169505119324,
          0.8346251249313354,
          0.9857969880104065,
          0.6256700754165649,
          0.3020176589488983,
          1,
          0.9358317255973816,
          0.9916423559188843,
          0.994107723236084,
          0.613884687423706,
          0.8472775220870972,
          0.8980165719985962,
          1,
          0.9861574172973633,
          0.9072284698486328,
          0.674614667892456,
          1.000000238418579,
          0.5321136713027954,
          0.3302042484283447,
          0.6209735870361328,
          0.3143094778060913,
          0.7818455696105957,
          0.7607707381248474,
          0.7676067352294922,
          0.8438361883163452,
          0.8404281139373779,
          0.9248730540275574,
          0.9893503189086914,
          0.7116458415985107,
          0.5887472629547119,
          0.8962914943695068,
          0.9906388521194458,
          0.9982415437698364,
          0.5009782314300537,
          0.7385768890380859,
          0.45058852434158325,
          0.8787667751312256,
          0.8360936641693115,
          0.9716107845306396,
          0.8513097763061523,
          0.9965469837188721,
          0.8673207759857178,
          0.7137738466262817,
          0.6602516770362854,
          0.6769329905509949,
          0.978615403175354,
          0.5483654737472534,
          0.6914790868759155,
          0.28941377997398376,
          0.782681941986084,
          0.592159628868103,
          0.7135016918182373,
          0.9999998807907104,
          0.9824227094650269,
          0.927627682685852,
          0.9693765044212341,
          0.3921946883201599,
          0.9463151693344116,
          0.5607951879501343,
          0.5347029566764832,
          0.6609516143798828,
          0.7527173757553101,
          0.7752097845077515,
          0.6617781519889832,
          0.8980954885482788,
          0.334485799074173,
          0.6234726905822754,
          0.9164924621582031,
          0.9453717470169067,
          0.4494825601577759,
          0.8185276985168457,
          0.8340417146682739,
          0.7668406963348389,
          0.4998401701450348,
          0.9342703819274902,
          0.9578883647918701,
          0.9710811376571655,
          0.8343967795372009,
          0.5347029566764832,
          0.9734815955162048,
          0.7875163555145264
         ],
         "y": [
          0.5138582587242126,
          1,
          0.9799060821533203,
          0.9999998807907104,
          1,
          0.8706889152526855,
          0.8826024532318115,
          0.786861777305603,
          0.9978639483451843,
          0.7818455696105957,
          0.9259976148605347,
          0.9400407075881958,
          0.5066134333610535,
          0.9297782182693481,
          0.5452806949615479,
          0.9887059926986694,
          0.9489870667457581,
          1,
          0.9830228686332703,
          0.49811169505119324,
          0.8346251249313354,
          0.9857969880104065,
          0.6256700754165649,
          0.3020176589488983,
          1,
          0.9358317255973816,
          0.9916423559188843,
          0.994107723236084,
          0.613884687423706,
          0.8472775220870972,
          0.8980165719985962,
          1,
          0.9861574172973633,
          0.9072284698486328,
          0.674614667892456,
          1.000000238418579,
          0.5321136713027954,
          0.3302042484283447,
          0.6209735870361328,
          0.3143094778060913,
          0.7818455696105957,
          0.7607707381248474,
          0.7676067352294922,
          0.8438361883163452,
          0.8404281139373779,
          0.9248730540275574,
          0.9893503189086914,
          0.7116458415985107,
          0.5887472629547119,
          0.8962914943695068,
          0.9906388521194458,
          0.9982415437698364,
          0.5009782314300537,
          0.7385768890380859,
          0.45058852434158325,
          0.8787667751312256,
          0.8360936641693115,
          0.9716107845306396,
          0.8513097763061523,
          0.9965469837188721,
          0.8673207759857178,
          0.7137738466262817,
          0.6602516770362854,
          0.6769329905509949,
          0.978615403175354,
          0.5483654737472534,
          0.6914790868759155,
          0.28941377997398376,
          0.782681941986084,
          0.592159628868103,
          0.7135016918182373,
          0.9999998807907104,
          0.9824227094650269,
          0.927627682685852,
          0.9693765044212341,
          0.3921946883201599,
          0.9463151693344116,
          0.5607951879501343,
          0.5347029566764832,
          0.6609516143798828,
          0.7527173757553101,
          0.7752097845077515,
          0.6617781519889832,
          0.8980954885482788,
          0.334485799074173,
          0.6234726905822754,
          0.9164924621582031,
          0.9453717470169067,
          0.4494825601577759,
          0.8185276985168457,
          0.8340417146682739,
          0.7668406963348389,
          0.4998401701450348,
          0.9342703819274902,
          0.9578883647918701,
          0.9710811376571655,
          0.8343967795372009,
          0.5347029566764832,
          0.9734815955162048,
          0.7875163555145264
         ]
        }
       ],
       "layout": {
        "template": {
         "data": {
          "bar": [
           {
            "error_x": {
             "color": "#2a3f5f"
            },
            "error_y": {
             "color": "#2a3f5f"
            },
            "marker": {
             "line": {
              "color": "#E5ECF6",
              "width": 0.5
             },
             "pattern": {
              "fillmode": "overlay",
              "size": 10,
              "solidity": 0.2
             }
            },
            "type": "bar"
           }
          ],
          "barpolar": [
           {
            "marker": {
             "line": {
              "color": "#E5ECF6",
              "width": 0.5
             },
             "pattern": {
              "fillmode": "overlay",
              "size": 10,
              "solidity": 0.2
             }
            },
            "type": "barpolar"
           }
          ],
          "carpet": [
           {
            "aaxis": {
             "endlinecolor": "#2a3f5f",
             "gridcolor": "white",
             "linecolor": "white",
             "minorgridcolor": "white",
             "startlinecolor": "#2a3f5f"
            },
            "baxis": {
             "endlinecolor": "#2a3f5f",
             "gridcolor": "white",
             "linecolor": "white",
             "minorgridcolor": "white",
             "startlinecolor": "#2a3f5f"
            },
            "type": "carpet"
           }
          ],
          "choropleth": [
           {
            "colorbar": {
             "outlinewidth": 0,
             "ticks": ""
            },
            "type": "choropleth"
           }
          ],
          "contour": [
           {
            "colorbar": {
             "outlinewidth": 0,
             "ticks": ""
            },
            "colorscale": [
             [
              0,
              "#0d0887"
             ],
             [
              0.1111111111111111,
              "#46039f"
             ],
             [
              0.2222222222222222,
              "#7201a8"
             ],
             [
              0.3333333333333333,
              "#9c179e"
             ],
             [
              0.4444444444444444,
              "#bd3786"
             ],
             [
              0.5555555555555556,
              "#d8576b"
             ],
             [
              0.6666666666666666,
              "#ed7953"
             ],
             [
              0.7777777777777778,
              "#fb9f3a"
             ],
             [
              0.8888888888888888,
              "#fdca26"
             ],
             [
              1,
              "#f0f921"
             ]
            ],
            "type": "contour"
           }
          ],
          "contourcarpet": [
           {
            "colorbar": {
             "outlinewidth": 0,
             "ticks": ""
            },
            "type": "contourcarpet"
           }
          ],
          "heatmap": [
           {
            "colorbar": {
             "outlinewidth": 0,
             "ticks": ""
            },
            "colorscale": [
             [
              0,
              "#0d0887"
             ],
             [
              0.1111111111111111,
              "#46039f"
             ],
             [
              0.2222222222222222,
              "#7201a8"
             ],
             [
              0.3333333333333333,
              "#9c179e"
             ],
             [
              0.4444444444444444,
              "#bd3786"
             ],
             [
              0.5555555555555556,
              "#d8576b"
             ],
             [
              0.6666666666666666,
              "#ed7953"
             ],
             [
              0.7777777777777778,
              "#fb9f3a"
             ],
             [
              0.8888888888888888,
              "#fdca26"
             ],
             [
              1,
              "#f0f921"
             ]
            ],
            "type": "heatmap"
           }
          ],
          "heatmapgl": [
           {
            "colorbar": {
             "outlinewidth": 0,
             "ticks": ""
            },
            "colorscale": [
             [
              0,
              "#0d0887"
             ],
             [
              0.1111111111111111,
              "#46039f"
             ],
             [
              0.2222222222222222,
              "#7201a8"
             ],
             [
              0.3333333333333333,
              "#9c179e"
             ],
             [
              0.4444444444444444,
              "#bd3786"
             ],
             [
              0.5555555555555556,
              "#d8576b"
             ],
             [
              0.6666666666666666,
              "#ed7953"
             ],
             [
              0.7777777777777778,
              "#fb9f3a"
             ],
             [
              0.8888888888888888,
              "#fdca26"
             ],
             [
              1,
              "#f0f921"
             ]
            ],
            "type": "heatmapgl"
           }
          ],
          "histogram": [
           {
            "marker": {
             "pattern": {
              "fillmode": "overlay",
              "size": 10,
              "solidity": 0.2
             }
            },
            "type": "histogram"
           }
          ],
          "histogram2d": [
           {
            "colorbar": {
             "outlinewidth": 0,
             "ticks": ""
            },
            "colorscale": [
             [
              0,
              "#0d0887"
             ],
             [
              0.1111111111111111,
              "#46039f"
             ],
             [
              0.2222222222222222,
              "#7201a8"
             ],
             [
              0.3333333333333333,
              "#9c179e"
             ],
             [
              0.4444444444444444,
              "#bd3786"
             ],
             [
              0.5555555555555556,
              "#d8576b"
             ],
             [
              0.6666666666666666,
              "#ed7953"
             ],
             [
              0.7777777777777778,
              "#fb9f3a"
             ],
             [
              0.8888888888888888,
              "#fdca26"
             ],
             [
              1,
              "#f0f921"
             ]
            ],
            "type": "histogram2d"
           }
          ],
          "histogram2dcontour": [
           {
            "colorbar": {
             "outlinewidth": 0,
             "ticks": ""
            },
            "colorscale": [
             [
              0,
              "#0d0887"
             ],
             [
              0.1111111111111111,
              "#46039f"
             ],
             [
              0.2222222222222222,
              "#7201a8"
             ],
             [
              0.3333333333333333,
              "#9c179e"
             ],
             [
              0.4444444444444444,
              "#bd3786"
             ],
             [
              0.5555555555555556,
              "#d8576b"
             ],
             [
              0.6666666666666666,
              "#ed7953"
             ],
             [
              0.7777777777777778,
              "#fb9f3a"
             ],
             [
              0.8888888888888888,
              "#fdca26"
             ],
             [
              1,
              "#f0f921"
             ]
            ],
            "type": "histogram2dcontour"
           }
          ],
          "mesh3d": [
           {
            "colorbar": {
             "outlinewidth": 0,
             "ticks": ""
            },
            "type": "mesh3d"
           }
          ],
          "parcoords": [
           {
            "line": {
             "colorbar": {
              "outlinewidth": 0,
              "ticks": ""
             }
            },
            "type": "parcoords"
           }
          ],
          "pie": [
           {
            "automargin": true,
            "type": "pie"
           }
          ],
          "scatter": [
           {
            "fillpattern": {
             "fillmode": "overlay",
             "size": 10,
             "solidity": 0.2
            },
            "type": "scatter"
           }
          ],
          "scatter3d": [
           {
            "line": {
             "colorbar": {
              "outlinewidth": 0,
              "ticks": ""
             }
            },
            "marker": {
             "colorbar": {
              "outlinewidth": 0,
              "ticks": ""
             }
            },
            "type": "scatter3d"
           }
          ],
          "scattercarpet": [
           {
            "marker": {
             "colorbar": {
              "outlinewidth": 0,
              "ticks": ""
             }
            },
            "type": "scattercarpet"
           }
          ],
          "scattergeo": [
           {
            "marker": {
             "colorbar": {
              "outlinewidth": 0,
              "ticks": ""
             }
            },
            "type": "scattergeo"
           }
          ],
          "scattergl": [
           {
            "marker": {
             "colorbar": {
              "outlinewidth": 0,
              "ticks": ""
             }
            },
            "type": "scattergl"
           }
          ],
          "scattermapbox": [
           {
            "marker": {
             "colorbar": {
              "outlinewidth": 0,
              "ticks": ""
             }
            },
            "type": "scattermapbox"
           }
          ],
          "scatterpolar": [
           {
            "marker": {
             "colorbar": {
              "outlinewidth": 0,
              "ticks": ""
             }
            },
            "type": "scatterpolar"
           }
          ],
          "scatterpolargl": [
           {
            "marker": {
             "colorbar": {
              "outlinewidth": 0,
              "ticks": ""
             }
            },
            "type": "scatterpolargl"
           }
          ],
          "scatterternary": [
           {
            "marker": {
             "colorbar": {
              "outlinewidth": 0,
              "ticks": ""
             }
            },
            "type": "scatterternary"
           }
          ],
          "surface": [
           {
            "colorbar": {
             "outlinewidth": 0,
             "ticks": ""
            },
            "colorscale": [
             [
              0,
              "#0d0887"
             ],
             [
              0.1111111111111111,
              "#46039f"
             ],
             [
              0.2222222222222222,
              "#7201a8"
             ],
             [
              0.3333333333333333,
              "#9c179e"
             ],
             [
              0.4444444444444444,
              "#bd3786"
             ],
             [
              0.5555555555555556,
              "#d8576b"
             ],
             [
              0.6666666666666666,
              "#ed7953"
             ],
             [
              0.7777777777777778,
              "#fb9f3a"
             ],
             [
              0.8888888888888888,
              "#fdca26"
             ],
             [
              1,
              "#f0f921"
             ]
            ],
            "type": "surface"
           }
          ],
          "table": [
           {
            "cells": {
             "fill": {
              "color": "#EBF0F8"
             },
             "line": {
              "color": "white"
             }
            },
            "header": {
             "fill": {
              "color": "#C8D4E3"
             },
             "line": {
              "color": "white"
             }
            },
            "type": "table"
           }
          ]
         },
         "layout": {
          "annotationdefaults": {
           "arrowcolor": "#2a3f5f",
           "arrowhead": 0,
           "arrowwidth": 1
          },
          "autotypenumbers": "strict",
          "coloraxis": {
           "colorbar": {
            "outlinewidth": 0,
            "ticks": ""
           }
          },
          "colorscale": {
           "diverging": [
            [
             0,
             "#8e0152"
            ],
            [
             0.1,
             "#c51b7d"
            ],
            [
             0.2,
             "#de77ae"
            ],
            [
             0.3,
             "#f1b6da"
            ],
            [
             0.4,
             "#fde0ef"
            ],
            [
             0.5,
             "#f7f7f7"
            ],
            [
             0.6,
             "#e6f5d0"
            ],
            [
             0.7,
             "#b8e186"
            ],
            [
             0.8,
             "#7fbc41"
            ],
            [
             0.9,
             "#4d9221"
            ],
            [
             1,
             "#276419"
            ]
           ],
           "sequential": [
            [
             0,
             "#0d0887"
            ],
            [
             0.1111111111111111,
             "#46039f"
            ],
            [
             0.2222222222222222,
             "#7201a8"
            ],
            [
             0.3333333333333333,
             "#9c179e"
            ],
            [
             0.4444444444444444,
             "#bd3786"
            ],
            [
             0.5555555555555556,
             "#d8576b"
            ],
            [
             0.6666666666666666,
             "#ed7953"
            ],
            [
             0.7777777777777778,
             "#fb9f3a"
            ],
            [
             0.8888888888888888,
             "#fdca26"
            ],
            [
             1,
             "#f0f921"
            ]
           ],
           "sequentialminus": [
            [
             0,
             "#0d0887"
            ],
            [
             0.1111111111111111,
             "#46039f"
            ],
            [
             0.2222222222222222,
             "#7201a8"
            ],
            [
             0.3333333333333333,
             "#9c179e"
            ],
            [
             0.4444444444444444,
             "#bd3786"
            ],
            [
             0.5555555555555556,
             "#d8576b"
            ],
            [
             0.6666666666666666,
             "#ed7953"
            ],
            [
             0.7777777777777778,
             "#fb9f3a"
            ],
            [
             0.8888888888888888,
             "#fdca26"
            ],
            [
             1,
             "#f0f921"
            ]
           ]
          },
          "colorway": [
           "#636efa",
           "#EF553B",
           "#00cc96",
           "#ab63fa",
           "#FFA15A",
           "#19d3f3",
           "#FF6692",
           "#B6E880",
           "#FF97FF",
           "#FECB52"
          ],
          "font": {
           "color": "#2a3f5f"
          },
          "geo": {
           "bgcolor": "white",
           "lakecolor": "white",
           "landcolor": "#E5ECF6",
           "showlakes": true,
           "showland": true,
           "subunitcolor": "white"
          },
          "hoverlabel": {
           "align": "left"
          },
          "hovermode": "closest",
          "mapbox": {
           "style": "light"
          },
          "paper_bgcolor": "white",
          "plot_bgcolor": "#E5ECF6",
          "polar": {
           "angularaxis": {
            "gridcolor": "white",
            "linecolor": "white",
            "ticks": ""
           },
           "bgcolor": "#E5ECF6",
           "radialaxis": {
            "gridcolor": "white",
            "linecolor": "white",
            "ticks": ""
           }
          },
          "scene": {
           "xaxis": {
            "backgroundcolor": "#E5ECF6",
            "gridcolor": "white",
            "gridwidth": 2,
            "linecolor": "white",
            "showbackground": true,
            "ticks": "",
            "zerolinecolor": "white"
           },
           "yaxis": {
            "backgroundcolor": "#E5ECF6",
            "gridcolor": "white",
            "gridwidth": 2,
            "linecolor": "white",
            "showbackground": true,
            "ticks": "",
            "zerolinecolor": "white"
           },
           "zaxis": {
            "backgroundcolor": "#E5ECF6",
            "gridcolor": "white",
            "gridwidth": 2,
            "linecolor": "white",
            "showbackground": true,
            "ticks": "",
            "zerolinecolor": "white"
           }
          },
          "shapedefaults": {
           "line": {
            "color": "#2a3f5f"
           }
          },
          "ternary": {
           "aaxis": {
            "gridcolor": "white",
            "linecolor": "white",
            "ticks": ""
           },
           "baxis": {
            "gridcolor": "white",
            "linecolor": "white",
            "ticks": ""
           },
           "bgcolor": "#E5ECF6",
           "caxis": {
            "gridcolor": "white",
            "linecolor": "white",
            "ticks": ""
           }
          },
          "title": {
           "x": 0.05
          },
          "xaxis": {
           "automargin": true,
           "gridcolor": "white",
           "linecolor": "white",
           "ticks": "",
           "title": {
            "standoff": 15
           },
           "zerolinecolor": "white",
           "zerolinewidth": 2
          },
          "yaxis": {
           "automargin": true,
           "gridcolor": "white",
           "linecolor": "white",
           "ticks": "",
           "title": {
            "standoff": 15
           },
           "zerolinecolor": "white",
           "zerolinewidth": 2
          }
         }
        }
       }
      }
     },
     "metadata": {},
     "output_type": "display_data"
    }
   ],
   "source": [
    "fig = go.Figure()\n",
    "\n",
    "fig.add_trace(go.Histogram(histfunc=\"count\", y=percentages_one, x=percentages_one, name=\"One word sentences\"))\n",
    "fig.add_trace(go.Histogram(histfunc=\"count\", y=percentages_two, x=percentages_two, name=\"two words sentences\"))\n",
    "\n",
    "fig.show()"
   ]
  },
  {
   "cell_type": "code",
   "execution_count": null,
   "metadata": {},
   "outputs": [
    {
     "data": {
      "application/vnd.plotly.v1+json": {
       "config": {
        "plotlyServerURL": "https://plot.ly"
       },
       "data": [
        {
         "histfunc": "count",
         "name": "two words sentences",
         "type": "histogram",
         "x": [
          0.5138582587242126,
          1,
          0.9799060821533203,
          0.9999998807907104,
          1,
          0.8706889152526855,
          0.8826024532318115,
          0.786861777305603,
          0.9978639483451843,
          0.7818455696105957,
          0.9259976148605347,
          0.9400407075881958,
          0.5066134333610535,
          0.9297782182693481,
          0.5452806949615479,
          0.9887059926986694,
          0.9489870667457581,
          1,
          0.9830228686332703,
          0.49811169505119324,
          0.8346251249313354,
          0.9857969880104065,
          0.6256700754165649,
          0.3020176589488983,
          1,
          0.9358317255973816,
          0.9916423559188843,
          0.994107723236084,
          0.613884687423706,
          0.8472775220870972,
          0.8980165719985962,
          1,
          0.9861574172973633,
          0.9072284698486328,
          0.674614667892456,
          1.000000238418579,
          0.5321136713027954,
          0.3302042484283447,
          0.6209735870361328,
          0.3143094778060913,
          0.7818455696105957,
          0.7607707381248474,
          0.7676067352294922,
          0.8438361883163452,
          0.8404281139373779,
          0.9248730540275574,
          0.9893503189086914,
          0.7116458415985107,
          0.5887472629547119,
          0.8962914943695068,
          0.9906388521194458,
          0.9982415437698364,
          0.5009782314300537,
          0.7385768890380859,
          0.45058852434158325,
          0.8787667751312256,
          0.8360936641693115,
          0.9716107845306396,
          0.8513097763061523,
          0.9965469837188721,
          0.8673207759857178,
          0.7137738466262817,
          0.6602516770362854,
          0.6769329905509949,
          0.978615403175354,
          0.5483654737472534,
          0.6914790868759155,
          0.28941377997398376,
          0.782681941986084,
          0.592159628868103,
          0.7135016918182373,
          0.9999998807907104,
          0.9824227094650269,
          0.927627682685852,
          0.9693765044212341,
          0.3921946883201599,
          0.9463151693344116,
          0.5607951879501343,
          0.5347029566764832,
          0.6609516143798828,
          0.7527173757553101,
          0.7752097845077515,
          0.6617781519889832,
          0.8980954885482788,
          0.334485799074173,
          0.6234726905822754,
          0.9164924621582031,
          0.9453717470169067,
          0.4494825601577759,
          0.8185276985168457,
          0.8340417146682739,
          0.7668406963348389,
          0.4998401701450348,
          0.9342703819274902,
          0.9578883647918701,
          0.9710811376571655,
          0.8343967795372009,
          0.5347029566764832,
          0.9734815955162048,
          0.7875163555145264
         ],
         "y": [
          0.5138582587242126,
          1,
          0.9799060821533203,
          0.9999998807907104,
          1,
          0.8706889152526855,
          0.8826024532318115,
          0.786861777305603,
          0.9978639483451843,
          0.7818455696105957,
          0.9259976148605347,
          0.9400407075881958,
          0.5066134333610535,
          0.9297782182693481,
          0.5452806949615479,
          0.9887059926986694,
          0.9489870667457581,
          1,
          0.9830228686332703,
          0.49811169505119324,
          0.8346251249313354,
          0.9857969880104065,
          0.6256700754165649,
          0.3020176589488983,
          1,
          0.9358317255973816,
          0.9916423559188843,
          0.994107723236084,
          0.613884687423706,
          0.8472775220870972,
          0.8980165719985962,
          1,
          0.9861574172973633,
          0.9072284698486328,
          0.674614667892456,
          1.000000238418579,
          0.5321136713027954,
          0.3302042484283447,
          0.6209735870361328,
          0.3143094778060913,
          0.7818455696105957,
          0.7607707381248474,
          0.7676067352294922,
          0.8438361883163452,
          0.8404281139373779,
          0.9248730540275574,
          0.9893503189086914,
          0.7116458415985107,
          0.5887472629547119,
          0.8962914943695068,
          0.9906388521194458,
          0.9982415437698364,
          0.5009782314300537,
          0.7385768890380859,
          0.45058852434158325,
          0.8787667751312256,
          0.8360936641693115,
          0.9716107845306396,
          0.8513097763061523,
          0.9965469837188721,
          0.8673207759857178,
          0.7137738466262817,
          0.6602516770362854,
          0.6769329905509949,
          0.978615403175354,
          0.5483654737472534,
          0.6914790868759155,
          0.28941377997398376,
          0.782681941986084,
          0.592159628868103,
          0.7135016918182373,
          0.9999998807907104,
          0.9824227094650269,
          0.927627682685852,
          0.9693765044212341,
          0.3921946883201599,
          0.9463151693344116,
          0.5607951879501343,
          0.5347029566764832,
          0.6609516143798828,
          0.7527173757553101,
          0.7752097845077515,
          0.6617781519889832,
          0.8980954885482788,
          0.334485799074173,
          0.6234726905822754,
          0.9164924621582031,
          0.9453717470169067,
          0.4494825601577759,
          0.8185276985168457,
          0.8340417146682739,
          0.7668406963348389,
          0.4998401701450348,
          0.9342703819274902,
          0.9578883647918701,
          0.9710811376571655,
          0.8343967795372009,
          0.5347029566764832,
          0.9734815955162048,
          0.7875163555145264
         ]
        },
        {
         "histfunc": "count",
         "name": "three words sentences",
         "type": "histogram",
         "x": [
          0.6003402471542358,
          0.8676134347915649,
          0.9385789036750793,
          0.9620341658592224,
          0.9121701717376709,
          0.8828895092010498,
          0.8847764730453491,
          0.8443692922592163,
          0.5392993092536926,
          0.7784312963485718,
          0.9896489381790161,
          0.8530164957046509,
          0.9121538996696472,
          0.9885540008544922,
          0.7412214279174805,
          0.8033069968223572,
          0.8997634649276733,
          0.7085273265838623,
          0.9314150810241699,
          0.78743976354599,
          0.9626191854476929,
          1.000000238418579,
          0.9603261351585388,
          0.6845155954360962,
          0.959320604801178,
          0.8581247925758362,
          0.3988940715789795,
          0.8202451467514038,
          0.8870338797569275,
          0.9844009876251221,
          0.472647100687027,
          0.9608778357505798,
          0.7146049737930298,
          0.7251002788543701,
          0.9969358444213867,
          0.9387013912200928,
          0.9999999403953552,
          0.47050008177757263,
          0.9583943486213684,
          0.529711127281189,
          0.5476647615432739,
          0.44381511211395264,
          0.6025670170783997,
          0.8499287366867065,
          0.9142348766326904,
          0.5768008232116699,
          0.6022394895553589,
          0.9853947162628174,
          0.9964467287063599,
          0.5933656692504883,
          0.9893155097961426,
          0.9731916189193726,
          0.9704018831253052,
          0.9049142003059387,
          0.7576083540916443,
          0.9669265747070312,
          0.3902735114097595,
          0.8249772787094116,
          0.96523118019104,
          0.5327969789505005,
          0.39290863275527954,
          0.857408881187439,
          0.7908006310462952,
          0.4156274199485779,
          0.9963797330856323,
          0.9498676657676697,
          0.8216890692710876,
          0.8546560406684875,
          0.865622878074646,
          1.000000238418579,
          0.4826314151287079,
          1,
          0.33194708824157715,
          0.6489369869232178,
          0.965259313583374,
          0.5388938188552856,
          0.9690898656845093,
          0.325908899307251,
          0.7621439695358276,
          0.5851465463638306,
          0.9050546884536743,
          0.9330875873565674,
          0.8271498680114746,
          0.5852994918823242,
          1,
          0.904833197593689,
          0.8229400515556335,
          1.0000001192092896,
          0.9574596285820007,
          0.9772313833236694,
          0.9826411008834839,
          0.2740507125854492,
          0.7616087198257446,
          0.5122472643852234,
          0.9702168107032776,
          0.9674429893493652,
          0.9420522451400757,
          1.0000001192092896,
          0.7044352889060974,
          0.5590549111366272
         ],
         "y": [
          0.6003402471542358,
          0.8676134347915649,
          0.9385789036750793,
          0.9620341658592224,
          0.9121701717376709,
          0.8828895092010498,
          0.8847764730453491,
          0.8443692922592163,
          0.5392993092536926,
          0.7784312963485718,
          0.9896489381790161,
          0.8530164957046509,
          0.9121538996696472,
          0.9885540008544922,
          0.7412214279174805,
          0.8033069968223572,
          0.8997634649276733,
          0.7085273265838623,
          0.9314150810241699,
          0.78743976354599,
          0.9626191854476929,
          1.000000238418579,
          0.9603261351585388,
          0.6845155954360962,
          0.959320604801178,
          0.8581247925758362,
          0.3988940715789795,
          0.8202451467514038,
          0.8870338797569275,
          0.9844009876251221,
          0.472647100687027,
          0.9608778357505798,
          0.7146049737930298,
          0.7251002788543701,
          0.9969358444213867,
          0.9387013912200928,
          0.9999999403953552,
          0.47050008177757263,
          0.9583943486213684,
          0.529711127281189,
          0.5476647615432739,
          0.44381511211395264,
          0.6025670170783997,
          0.8499287366867065,
          0.9142348766326904,
          0.5768008232116699,
          0.6022394895553589,
          0.9853947162628174,
          0.9964467287063599,
          0.5933656692504883,
          0.9893155097961426,
          0.9731916189193726,
          0.9704018831253052,
          0.9049142003059387,
          0.7576083540916443,
          0.9669265747070312,
          0.3902735114097595,
          0.8249772787094116,
          0.96523118019104,
          0.5327969789505005,
          0.39290863275527954,
          0.857408881187439,
          0.7908006310462952,
          0.4156274199485779,
          0.9963797330856323,
          0.9498676657676697,
          0.8216890692710876,
          0.8546560406684875,
          0.865622878074646,
          1.000000238418579,
          0.4826314151287079,
          1,
          0.33194708824157715,
          0.6489369869232178,
          0.965259313583374,
          0.5388938188552856,
          0.9690898656845093,
          0.325908899307251,
          0.7621439695358276,
          0.5851465463638306,
          0.9050546884536743,
          0.9330875873565674,
          0.8271498680114746,
          0.5852994918823242,
          1,
          0.904833197593689,
          0.8229400515556335,
          1.0000001192092896,
          0.9574596285820007,
          0.9772313833236694,
          0.9826411008834839,
          0.2740507125854492,
          0.7616087198257446,
          0.5122472643852234,
          0.9702168107032776,
          0.9674429893493652,
          0.9420522451400757,
          1.0000001192092896,
          0.7044352889060974,
          0.5590549111366272
         ]
        }
       ],
       "layout": {
        "template": {
         "data": {
          "bar": [
           {
            "error_x": {
             "color": "#2a3f5f"
            },
            "error_y": {
             "color": "#2a3f5f"
            },
            "marker": {
             "line": {
              "color": "#E5ECF6",
              "width": 0.5
             },
             "pattern": {
              "fillmode": "overlay",
              "size": 10,
              "solidity": 0.2
             }
            },
            "type": "bar"
           }
          ],
          "barpolar": [
           {
            "marker": {
             "line": {
              "color": "#E5ECF6",
              "width": 0.5
             },
             "pattern": {
              "fillmode": "overlay",
              "size": 10,
              "solidity": 0.2
             }
            },
            "type": "barpolar"
           }
          ],
          "carpet": [
           {
            "aaxis": {
             "endlinecolor": "#2a3f5f",
             "gridcolor": "white",
             "linecolor": "white",
             "minorgridcolor": "white",
             "startlinecolor": "#2a3f5f"
            },
            "baxis": {
             "endlinecolor": "#2a3f5f",
             "gridcolor": "white",
             "linecolor": "white",
             "minorgridcolor": "white",
             "startlinecolor": "#2a3f5f"
            },
            "type": "carpet"
           }
          ],
          "choropleth": [
           {
            "colorbar": {
             "outlinewidth": 0,
             "ticks": ""
            },
            "type": "choropleth"
           }
          ],
          "contour": [
           {
            "colorbar": {
             "outlinewidth": 0,
             "ticks": ""
            },
            "colorscale": [
             [
              0,
              "#0d0887"
             ],
             [
              0.1111111111111111,
              "#46039f"
             ],
             [
              0.2222222222222222,
              "#7201a8"
             ],
             [
              0.3333333333333333,
              "#9c179e"
             ],
             [
              0.4444444444444444,
              "#bd3786"
             ],
             [
              0.5555555555555556,
              "#d8576b"
             ],
             [
              0.6666666666666666,
              "#ed7953"
             ],
             [
              0.7777777777777778,
              "#fb9f3a"
             ],
             [
              0.8888888888888888,
              "#fdca26"
             ],
             [
              1,
              "#f0f921"
             ]
            ],
            "type": "contour"
           }
          ],
          "contourcarpet": [
           {
            "colorbar": {
             "outlinewidth": 0,
             "ticks": ""
            },
            "type": "contourcarpet"
           }
          ],
          "heatmap": [
           {
            "colorbar": {
             "outlinewidth": 0,
             "ticks": ""
            },
            "colorscale": [
             [
              0,
              "#0d0887"
             ],
             [
              0.1111111111111111,
              "#46039f"
             ],
             [
              0.2222222222222222,
              "#7201a8"
             ],
             [
              0.3333333333333333,
              "#9c179e"
             ],
             [
              0.4444444444444444,
              "#bd3786"
             ],
             [
              0.5555555555555556,
              "#d8576b"
             ],
             [
              0.6666666666666666,
              "#ed7953"
             ],
             [
              0.7777777777777778,
              "#fb9f3a"
             ],
             [
              0.8888888888888888,
              "#fdca26"
             ],
             [
              1,
              "#f0f921"
             ]
            ],
            "type": "heatmap"
           }
          ],
          "heatmapgl": [
           {
            "colorbar": {
             "outlinewidth": 0,
             "ticks": ""
            },
            "colorscale": [
             [
              0,
              "#0d0887"
             ],
             [
              0.1111111111111111,
              "#46039f"
             ],
             [
              0.2222222222222222,
              "#7201a8"
             ],
             [
              0.3333333333333333,
              "#9c179e"
             ],
             [
              0.4444444444444444,
              "#bd3786"
             ],
             [
              0.5555555555555556,
              "#d8576b"
             ],
             [
              0.6666666666666666,
              "#ed7953"
             ],
             [
              0.7777777777777778,
              "#fb9f3a"
             ],
             [
              0.8888888888888888,
              "#fdca26"
             ],
             [
              1,
              "#f0f921"
             ]
            ],
            "type": "heatmapgl"
           }
          ],
          "histogram": [
           {
            "marker": {
             "pattern": {
              "fillmode": "overlay",
              "size": 10,
              "solidity": 0.2
             }
            },
            "type": "histogram"
           }
          ],
          "histogram2d": [
           {
            "colorbar": {
             "outlinewidth": 0,
             "ticks": ""
            },
            "colorscale": [
             [
              0,
              "#0d0887"
             ],
             [
              0.1111111111111111,
              "#46039f"
             ],
             [
              0.2222222222222222,
              "#7201a8"
             ],
             [
              0.3333333333333333,
              "#9c179e"
             ],
             [
              0.4444444444444444,
              "#bd3786"
             ],
             [
              0.5555555555555556,
              "#d8576b"
             ],
             [
              0.6666666666666666,
              "#ed7953"
             ],
             [
              0.7777777777777778,
              "#fb9f3a"
             ],
             [
              0.8888888888888888,
              "#fdca26"
             ],
             [
              1,
              "#f0f921"
             ]
            ],
            "type": "histogram2d"
           }
          ],
          "histogram2dcontour": [
           {
            "colorbar": {
             "outlinewidth": 0,
             "ticks": ""
            },
            "colorscale": [
             [
              0,
              "#0d0887"
             ],
             [
              0.1111111111111111,
              "#46039f"
             ],
             [
              0.2222222222222222,
              "#7201a8"
             ],
             [
              0.3333333333333333,
              "#9c179e"
             ],
             [
              0.4444444444444444,
              "#bd3786"
             ],
             [
              0.5555555555555556,
              "#d8576b"
             ],
             [
              0.6666666666666666,
              "#ed7953"
             ],
             [
              0.7777777777777778,
              "#fb9f3a"
             ],
             [
              0.8888888888888888,
              "#fdca26"
             ],
             [
              1,
              "#f0f921"
             ]
            ],
            "type": "histogram2dcontour"
           }
          ],
          "mesh3d": [
           {
            "colorbar": {
             "outlinewidth": 0,
             "ticks": ""
            },
            "type": "mesh3d"
           }
          ],
          "parcoords": [
           {
            "line": {
             "colorbar": {
              "outlinewidth": 0,
              "ticks": ""
             }
            },
            "type": "parcoords"
           }
          ],
          "pie": [
           {
            "automargin": true,
            "type": "pie"
           }
          ],
          "scatter": [
           {
            "fillpattern": {
             "fillmode": "overlay",
             "size": 10,
             "solidity": 0.2
            },
            "type": "scatter"
           }
          ],
          "scatter3d": [
           {
            "line": {
             "colorbar": {
              "outlinewidth": 0,
              "ticks": ""
             }
            },
            "marker": {
             "colorbar": {
              "outlinewidth": 0,
              "ticks": ""
             }
            },
            "type": "scatter3d"
           }
          ],
          "scattercarpet": [
           {
            "marker": {
             "colorbar": {
              "outlinewidth": 0,
              "ticks": ""
             }
            },
            "type": "scattercarpet"
           }
          ],
          "scattergeo": [
           {
            "marker": {
             "colorbar": {
              "outlinewidth": 0,
              "ticks": ""
             }
            },
            "type": "scattergeo"
           }
          ],
          "scattergl": [
           {
            "marker": {
             "colorbar": {
              "outlinewidth": 0,
              "ticks": ""
             }
            },
            "type": "scattergl"
           }
          ],
          "scattermapbox": [
           {
            "marker": {
             "colorbar": {
              "outlinewidth": 0,
              "ticks": ""
             }
            },
            "type": "scattermapbox"
           }
          ],
          "scatterpolar": [
           {
            "marker": {
             "colorbar": {
              "outlinewidth": 0,
              "ticks": ""
             }
            },
            "type": "scatterpolar"
           }
          ],
          "scatterpolargl": [
           {
            "marker": {
             "colorbar": {
              "outlinewidth": 0,
              "ticks": ""
             }
            },
            "type": "scatterpolargl"
           }
          ],
          "scatterternary": [
           {
            "marker": {
             "colorbar": {
              "outlinewidth": 0,
              "ticks": ""
             }
            },
            "type": "scatterternary"
           }
          ],
          "surface": [
           {
            "colorbar": {
             "outlinewidth": 0,
             "ticks": ""
            },
            "colorscale": [
             [
              0,
              "#0d0887"
             ],
             [
              0.1111111111111111,
              "#46039f"
             ],
             [
              0.2222222222222222,
              "#7201a8"
             ],
             [
              0.3333333333333333,
              "#9c179e"
             ],
             [
              0.4444444444444444,
              "#bd3786"
             ],
             [
              0.5555555555555556,
              "#d8576b"
             ],
             [
              0.6666666666666666,
              "#ed7953"
             ],
             [
              0.7777777777777778,
              "#fb9f3a"
             ],
             [
              0.8888888888888888,
              "#fdca26"
             ],
             [
              1,
              "#f0f921"
             ]
            ],
            "type": "surface"
           }
          ],
          "table": [
           {
            "cells": {
             "fill": {
              "color": "#EBF0F8"
             },
             "line": {
              "color": "white"
             }
            },
            "header": {
             "fill": {
              "color": "#C8D4E3"
             },
             "line": {
              "color": "white"
             }
            },
            "type": "table"
           }
          ]
         },
         "layout": {
          "annotationdefaults": {
           "arrowcolor": "#2a3f5f",
           "arrowhead": 0,
           "arrowwidth": 1
          },
          "autotypenumbers": "strict",
          "coloraxis": {
           "colorbar": {
            "outlinewidth": 0,
            "ticks": ""
           }
          },
          "colorscale": {
           "diverging": [
            [
             0,
             "#8e0152"
            ],
            [
             0.1,
             "#c51b7d"
            ],
            [
             0.2,
             "#de77ae"
            ],
            [
             0.3,
             "#f1b6da"
            ],
            [
             0.4,
             "#fde0ef"
            ],
            [
             0.5,
             "#f7f7f7"
            ],
            [
             0.6,
             "#e6f5d0"
            ],
            [
             0.7,
             "#b8e186"
            ],
            [
             0.8,
             "#7fbc41"
            ],
            [
             0.9,
             "#4d9221"
            ],
            [
             1,
             "#276419"
            ]
           ],
           "sequential": [
            [
             0,
             "#0d0887"
            ],
            [
             0.1111111111111111,
             "#46039f"
            ],
            [
             0.2222222222222222,
             "#7201a8"
            ],
            [
             0.3333333333333333,
             "#9c179e"
            ],
            [
             0.4444444444444444,
             "#bd3786"
            ],
            [
             0.5555555555555556,
             "#d8576b"
            ],
            [
             0.6666666666666666,
             "#ed7953"
            ],
            [
             0.7777777777777778,
             "#fb9f3a"
            ],
            [
             0.8888888888888888,
             "#fdca26"
            ],
            [
             1,
             "#f0f921"
            ]
           ],
           "sequentialminus": [
            [
             0,
             "#0d0887"
            ],
            [
             0.1111111111111111,
             "#46039f"
            ],
            [
             0.2222222222222222,
             "#7201a8"
            ],
            [
             0.3333333333333333,
             "#9c179e"
            ],
            [
             0.4444444444444444,
             "#bd3786"
            ],
            [
             0.5555555555555556,
             "#d8576b"
            ],
            [
             0.6666666666666666,
             "#ed7953"
            ],
            [
             0.7777777777777778,
             "#fb9f3a"
            ],
            [
             0.8888888888888888,
             "#fdca26"
            ],
            [
             1,
             "#f0f921"
            ]
           ]
          },
          "colorway": [
           "#636efa",
           "#EF553B",
           "#00cc96",
           "#ab63fa",
           "#FFA15A",
           "#19d3f3",
           "#FF6692",
           "#B6E880",
           "#FF97FF",
           "#FECB52"
          ],
          "font": {
           "color": "#2a3f5f"
          },
          "geo": {
           "bgcolor": "white",
           "lakecolor": "white",
           "landcolor": "#E5ECF6",
           "showlakes": true,
           "showland": true,
           "subunitcolor": "white"
          },
          "hoverlabel": {
           "align": "left"
          },
          "hovermode": "closest",
          "mapbox": {
           "style": "light"
          },
          "paper_bgcolor": "white",
          "plot_bgcolor": "#E5ECF6",
          "polar": {
           "angularaxis": {
            "gridcolor": "white",
            "linecolor": "white",
            "ticks": ""
           },
           "bgcolor": "#E5ECF6",
           "radialaxis": {
            "gridcolor": "white",
            "linecolor": "white",
            "ticks": ""
           }
          },
          "scene": {
           "xaxis": {
            "backgroundcolor": "#E5ECF6",
            "gridcolor": "white",
            "gridwidth": 2,
            "linecolor": "white",
            "showbackground": true,
            "ticks": "",
            "zerolinecolor": "white"
           },
           "yaxis": {
            "backgroundcolor": "#E5ECF6",
            "gridcolor": "white",
            "gridwidth": 2,
            "linecolor": "white",
            "showbackground": true,
            "ticks": "",
            "zerolinecolor": "white"
           },
           "zaxis": {
            "backgroundcolor": "#E5ECF6",
            "gridcolor": "white",
            "gridwidth": 2,
            "linecolor": "white",
            "showbackground": true,
            "ticks": "",
            "zerolinecolor": "white"
           }
          },
          "shapedefaults": {
           "line": {
            "color": "#2a3f5f"
           }
          },
          "ternary": {
           "aaxis": {
            "gridcolor": "white",
            "linecolor": "white",
            "ticks": ""
           },
           "baxis": {
            "gridcolor": "white",
            "linecolor": "white",
            "ticks": ""
           },
           "bgcolor": "#E5ECF6",
           "caxis": {
            "gridcolor": "white",
            "linecolor": "white",
            "ticks": ""
           }
          },
          "title": {
           "x": 0.05
          },
          "xaxis": {
           "automargin": true,
           "gridcolor": "white",
           "linecolor": "white",
           "ticks": "",
           "title": {
            "standoff": 15
           },
           "zerolinecolor": "white",
           "zerolinewidth": 2
          },
          "yaxis": {
           "automargin": true,
           "gridcolor": "white",
           "linecolor": "white",
           "ticks": "",
           "title": {
            "standoff": 15
           },
           "zerolinecolor": "white",
           "zerolinewidth": 2
          }
         }
        }
       }
      }
     },
     "metadata": {},
     "output_type": "display_data"
    }
   ],
   "source": [
    "fig = go.Figure()\n",
    "fig.add_trace(go.Histogram(histfunc=\"count\", y=percentages_two, x=percentages_two, name=\"two words sentences\"))\n",
    "fig.add_trace(go.Histogram(histfunc=\"count\", y=percentages_three, x=percentages_three, name=\"three words sentences\"))\n",
    "\n",
    "fig.show()\n"
   ]
  },
  {
   "cell_type": "code",
   "execution_count": null,
   "metadata": {},
   "outputs": [
    {
     "data": {
      "application/vnd.plotly.v1+json": {
       "config": {
        "plotlyServerURL": "https://plot.ly"
       },
       "data": [
        {
         "histfunc": "count",
         "name": "three words sentences",
         "type": "histogram",
         "x": [
          0.6003402471542358,
          0.8676134347915649,
          0.9385789036750793,
          0.9620341658592224,
          0.9121701717376709,
          0.8828895092010498,
          0.8847764730453491,
          0.8443692922592163,
          0.5392993092536926,
          0.7784312963485718,
          0.9896489381790161,
          0.8530164957046509,
          0.9121538996696472,
          0.9885540008544922,
          0.7412214279174805,
          0.8033069968223572,
          0.8997634649276733,
          0.7085273265838623,
          0.9314150810241699,
          0.78743976354599,
          0.9626191854476929,
          1.000000238418579,
          0.9603261351585388,
          0.6845155954360962,
          0.959320604801178,
          0.8581247925758362,
          0.3988940715789795,
          0.8202451467514038,
          0.8870338797569275,
          0.9844009876251221,
          0.472647100687027,
          0.9608778357505798,
          0.7146049737930298,
          0.7251002788543701,
          0.9969358444213867,
          0.9387013912200928,
          0.9999999403953552,
          0.47050008177757263,
          0.9583943486213684,
          0.529711127281189,
          0.5476647615432739,
          0.44381511211395264,
          0.6025670170783997,
          0.8499287366867065,
          0.9142348766326904,
          0.5768008232116699,
          0.6022394895553589,
          0.9853947162628174,
          0.9964467287063599,
          0.5933656692504883,
          0.9893155097961426,
          0.9731916189193726,
          0.9704018831253052,
          0.9049142003059387,
          0.7576083540916443,
          0.9669265747070312,
          0.3902735114097595,
          0.8249772787094116,
          0.96523118019104,
          0.5327969789505005,
          0.39290863275527954,
          0.857408881187439,
          0.7908006310462952,
          0.4156274199485779,
          0.9963797330856323,
          0.9498676657676697,
          0.8216890692710876,
          0.8546560406684875,
          0.865622878074646,
          1.000000238418579,
          0.4826314151287079,
          1,
          0.33194708824157715,
          0.6489369869232178,
          0.965259313583374,
          0.5388938188552856,
          0.9690898656845093,
          0.325908899307251,
          0.7621439695358276,
          0.5851465463638306,
          0.9050546884536743,
          0.9330875873565674,
          0.8271498680114746,
          0.5852994918823242,
          1,
          0.904833197593689,
          0.8229400515556335,
          1.0000001192092896,
          0.9574596285820007,
          0.9772313833236694,
          0.9826411008834839,
          0.2740507125854492,
          0.7616087198257446,
          0.5122472643852234,
          0.9702168107032776,
          0.9674429893493652,
          0.9420522451400757,
          1.0000001192092896,
          0.7044352889060974,
          0.5590549111366272
         ],
         "y": [
          0.6003402471542358,
          0.8676134347915649,
          0.9385789036750793,
          0.9620341658592224,
          0.9121701717376709,
          0.8828895092010498,
          0.8847764730453491,
          0.8443692922592163,
          0.5392993092536926,
          0.7784312963485718,
          0.9896489381790161,
          0.8530164957046509,
          0.9121538996696472,
          0.9885540008544922,
          0.7412214279174805,
          0.8033069968223572,
          0.8997634649276733,
          0.7085273265838623,
          0.9314150810241699,
          0.78743976354599,
          0.9626191854476929,
          1.000000238418579,
          0.9603261351585388,
          0.6845155954360962,
          0.959320604801178,
          0.8581247925758362,
          0.3988940715789795,
          0.8202451467514038,
          0.8870338797569275,
          0.9844009876251221,
          0.472647100687027,
          0.9608778357505798,
          0.7146049737930298,
          0.7251002788543701,
          0.9969358444213867,
          0.9387013912200928,
          0.9999999403953552,
          0.47050008177757263,
          0.9583943486213684,
          0.529711127281189,
          0.5476647615432739,
          0.44381511211395264,
          0.6025670170783997,
          0.8499287366867065,
          0.9142348766326904,
          0.5768008232116699,
          0.6022394895553589,
          0.9853947162628174,
          0.9964467287063599,
          0.5933656692504883,
          0.9893155097961426,
          0.9731916189193726,
          0.9704018831253052,
          0.9049142003059387,
          0.7576083540916443,
          0.9669265747070312,
          0.3902735114097595,
          0.8249772787094116,
          0.96523118019104,
          0.5327969789505005,
          0.39290863275527954,
          0.857408881187439,
          0.7908006310462952,
          0.4156274199485779,
          0.9963797330856323,
          0.9498676657676697,
          0.8216890692710876,
          0.8546560406684875,
          0.865622878074646,
          1.000000238418579,
          0.4826314151287079,
          1,
          0.33194708824157715,
          0.6489369869232178,
          0.965259313583374,
          0.5388938188552856,
          0.9690898656845093,
          0.325908899307251,
          0.7621439695358276,
          0.5851465463638306,
          0.9050546884536743,
          0.9330875873565674,
          0.8271498680114746,
          0.5852994918823242,
          1,
          0.904833197593689,
          0.8229400515556335,
          1.0000001192092896,
          0.9574596285820007,
          0.9772313833236694,
          0.9826411008834839,
          0.2740507125854492,
          0.7616087198257446,
          0.5122472643852234,
          0.9702168107032776,
          0.9674429893493652,
          0.9420522451400757,
          1.0000001192092896,
          0.7044352889060974,
          0.5590549111366272
         ]
        },
        {
         "histfunc": "count",
         "name": "four words sentences",
         "type": "histogram",
         "x": [
          0.8204952478408813,
          0.9954919219017029,
          0.7224154472351074,
          0.7749122977256775,
          0.7334334850311279,
          0.8784036636352539,
          0.9690334796905518,
          0.5942057967185974,
          0.538862407207489,
          0.564704179763794,
          0.9999998211860657,
          0.7358789443969727,
          0.9377734661102295,
          0.5288787484169006,
          0.9731781482696533,
          0.9823958873748779,
          0.863921582698822,
          0.8361274003982544,
          0.6060925722122192,
          0.7888438701629639,
          0.641865611076355,
          0.8428723812103271,
          0.7267018556594849,
          0.9445934295654297,
          0.8873851895332336,
          0.7742223739624023,
          0.6404811143875122,
          0.8025707602500916,
          0.8779840469360352,
          0.9105703830718994,
          0.9953484535217285,
          0.9463354349136353,
          0.4526141285896301,
          1.0000001192092896,
          0.4315333366394043,
          0.9744455814361572,
          0.8275699615478516,
          0.6550195813179016,
          0.9658012986183167,
          0.6356275677680969,
          0.699978768825531,
          0.5744662284851074,
          0.5707961916923523,
          0.42231959104537964,
          0.9788373112678528,
          0.8575552105903625,
          0.8835423588752747,
          0.8845282793045044,
          0.6432321071624756,
          0.8286691904067993,
          0.9878545999526978,
          0.4494694471359253,
          0.36461082100868225,
          0.9048649072647095,
          0.5465314388275146,
          0.7134480476379395,
          0.4219823181629181,
          0.9071093797683716,
          0.9596904516220093,
          0.825931191444397,
          0.9999999403953552,
          0.9108773469924927,
          0.7455747127532959,
          0.23500996828079224,
          0.6096082925796509,
          0.851122260093689,
          0.43929561972618103,
          0.9807577133178711,
          0.9758718609809875,
          0.8155975341796875,
          0.24016784131526947,
          0.8432139754295349,
          0.9129856824874878,
          0.9629610776901245,
          0.6155885457992554,
          0.6818892955780029,
          0.6211636066436768,
          0.7585533857345581,
          1,
          0.9715295433998108,
          0.8322221040725708,
          0.8330907225608826,
          0.941562831401825,
          0.6262955665588379,
          0.9524637460708618,
          0.9464210271835327,
          0.9368414878845215,
          0.6391712427139282,
          0.8051483035087585,
          0.776290774345398,
          0.8976322412490845,
          0.8029484748840332,
          0.2509816288948059,
          0.4437313973903656,
          0.7633282542228699,
          0.9191732406616211,
          0.545712947845459,
          0.46567249298095703,
          0.9582091569900513,
          0.7438509464263916
         ],
         "y": [
          0.8204952478408813,
          0.9954919219017029,
          0.7224154472351074,
          0.7749122977256775,
          0.7334334850311279,
          0.8784036636352539,
          0.9690334796905518,
          0.5942057967185974,
          0.538862407207489,
          0.564704179763794,
          0.9999998211860657,
          0.7358789443969727,
          0.9377734661102295,
          0.5288787484169006,
          0.9731781482696533,
          0.9823958873748779,
          0.863921582698822,
          0.8361274003982544,
          0.6060925722122192,
          0.7888438701629639,
          0.641865611076355,
          0.8428723812103271,
          0.7267018556594849,
          0.9445934295654297,
          0.8873851895332336,
          0.7742223739624023,
          0.6404811143875122,
          0.8025707602500916,
          0.8779840469360352,
          0.9105703830718994,
          0.9953484535217285,
          0.9463354349136353,
          0.4526141285896301,
          1.0000001192092896,
          0.4315333366394043,
          0.9744455814361572,
          0.8275699615478516,
          0.6550195813179016,
          0.9658012986183167,
          0.6356275677680969,
          0.699978768825531,
          0.5744662284851074,
          0.5707961916923523,
          0.42231959104537964,
          0.9788373112678528,
          0.8575552105903625,
          0.8835423588752747,
          0.8845282793045044,
          0.6432321071624756,
          0.8286691904067993,
          0.9878545999526978,
          0.4494694471359253,
          0.36461082100868225,
          0.9048649072647095,
          0.5465314388275146,
          0.7134480476379395,
          0.4219823181629181,
          0.9071093797683716,
          0.9596904516220093,
          0.825931191444397,
          0.9999999403953552,
          0.9108773469924927,
          0.7455747127532959,
          0.23500996828079224,
          0.6096082925796509,
          0.851122260093689,
          0.43929561972618103,
          0.9807577133178711,
          0.9758718609809875,
          0.8155975341796875,
          0.24016784131526947,
          0.8432139754295349,
          0.9129856824874878,
          0.9629610776901245,
          0.6155885457992554,
          0.6818892955780029,
          0.6211636066436768,
          0.7585533857345581,
          1,
          0.9715295433998108,
          0.8322221040725708,
          0.8330907225608826,
          0.941562831401825,
          0.6262955665588379,
          0.9524637460708618,
          0.9464210271835327,
          0.9368414878845215,
          0.6391712427139282,
          0.8051483035087585,
          0.776290774345398,
          0.8976322412490845,
          0.8029484748840332,
          0.2509816288948059,
          0.4437313973903656,
          0.7633282542228699,
          0.9191732406616211,
          0.545712947845459,
          0.46567249298095703,
          0.9582091569900513,
          0.7438509464263916
         ]
        }
       ],
       "layout": {
        "template": {
         "data": {
          "bar": [
           {
            "error_x": {
             "color": "#2a3f5f"
            },
            "error_y": {
             "color": "#2a3f5f"
            },
            "marker": {
             "line": {
              "color": "#E5ECF6",
              "width": 0.5
             },
             "pattern": {
              "fillmode": "overlay",
              "size": 10,
              "solidity": 0.2
             }
            },
            "type": "bar"
           }
          ],
          "barpolar": [
           {
            "marker": {
             "line": {
              "color": "#E5ECF6",
              "width": 0.5
             },
             "pattern": {
              "fillmode": "overlay",
              "size": 10,
              "solidity": 0.2
             }
            },
            "type": "barpolar"
           }
          ],
          "carpet": [
           {
            "aaxis": {
             "endlinecolor": "#2a3f5f",
             "gridcolor": "white",
             "linecolor": "white",
             "minorgridcolor": "white",
             "startlinecolor": "#2a3f5f"
            },
            "baxis": {
             "endlinecolor": "#2a3f5f",
             "gridcolor": "white",
             "linecolor": "white",
             "minorgridcolor": "white",
             "startlinecolor": "#2a3f5f"
            },
            "type": "carpet"
           }
          ],
          "choropleth": [
           {
            "colorbar": {
             "outlinewidth": 0,
             "ticks": ""
            },
            "type": "choropleth"
           }
          ],
          "contour": [
           {
            "colorbar": {
             "outlinewidth": 0,
             "ticks": ""
            },
            "colorscale": [
             [
              0,
              "#0d0887"
             ],
             [
              0.1111111111111111,
              "#46039f"
             ],
             [
              0.2222222222222222,
              "#7201a8"
             ],
             [
              0.3333333333333333,
              "#9c179e"
             ],
             [
              0.4444444444444444,
              "#bd3786"
             ],
             [
              0.5555555555555556,
              "#d8576b"
             ],
             [
              0.6666666666666666,
              "#ed7953"
             ],
             [
              0.7777777777777778,
              "#fb9f3a"
             ],
             [
              0.8888888888888888,
              "#fdca26"
             ],
             [
              1,
              "#f0f921"
             ]
            ],
            "type": "contour"
           }
          ],
          "contourcarpet": [
           {
            "colorbar": {
             "outlinewidth": 0,
             "ticks": ""
            },
            "type": "contourcarpet"
           }
          ],
          "heatmap": [
           {
            "colorbar": {
             "outlinewidth": 0,
             "ticks": ""
            },
            "colorscale": [
             [
              0,
              "#0d0887"
             ],
             [
              0.1111111111111111,
              "#46039f"
             ],
             [
              0.2222222222222222,
              "#7201a8"
             ],
             [
              0.3333333333333333,
              "#9c179e"
             ],
             [
              0.4444444444444444,
              "#bd3786"
             ],
             [
              0.5555555555555556,
              "#d8576b"
             ],
             [
              0.6666666666666666,
              "#ed7953"
             ],
             [
              0.7777777777777778,
              "#fb9f3a"
             ],
             [
              0.8888888888888888,
              "#fdca26"
             ],
             [
              1,
              "#f0f921"
             ]
            ],
            "type": "heatmap"
           }
          ],
          "heatmapgl": [
           {
            "colorbar": {
             "outlinewidth": 0,
             "ticks": ""
            },
            "colorscale": [
             [
              0,
              "#0d0887"
             ],
             [
              0.1111111111111111,
              "#46039f"
             ],
             [
              0.2222222222222222,
              "#7201a8"
             ],
             [
              0.3333333333333333,
              "#9c179e"
             ],
             [
              0.4444444444444444,
              "#bd3786"
             ],
             [
              0.5555555555555556,
              "#d8576b"
             ],
             [
              0.6666666666666666,
              "#ed7953"
             ],
             [
              0.7777777777777778,
              "#fb9f3a"
             ],
             [
              0.8888888888888888,
              "#fdca26"
             ],
             [
              1,
              "#f0f921"
             ]
            ],
            "type": "heatmapgl"
           }
          ],
          "histogram": [
           {
            "marker": {
             "pattern": {
              "fillmode": "overlay",
              "size": 10,
              "solidity": 0.2
             }
            },
            "type": "histogram"
           }
          ],
          "histogram2d": [
           {
            "colorbar": {
             "outlinewidth": 0,
             "ticks": ""
            },
            "colorscale": [
             [
              0,
              "#0d0887"
             ],
             [
              0.1111111111111111,
              "#46039f"
             ],
             [
              0.2222222222222222,
              "#7201a8"
             ],
             [
              0.3333333333333333,
              "#9c179e"
             ],
             [
              0.4444444444444444,
              "#bd3786"
             ],
             [
              0.5555555555555556,
              "#d8576b"
             ],
             [
              0.6666666666666666,
              "#ed7953"
             ],
             [
              0.7777777777777778,
              "#fb9f3a"
             ],
             [
              0.8888888888888888,
              "#fdca26"
             ],
             [
              1,
              "#f0f921"
             ]
            ],
            "type": "histogram2d"
           }
          ],
          "histogram2dcontour": [
           {
            "colorbar": {
             "outlinewidth": 0,
             "ticks": ""
            },
            "colorscale": [
             [
              0,
              "#0d0887"
             ],
             [
              0.1111111111111111,
              "#46039f"
             ],
             [
              0.2222222222222222,
              "#7201a8"
             ],
             [
              0.3333333333333333,
              "#9c179e"
             ],
             [
              0.4444444444444444,
              "#bd3786"
             ],
             [
              0.5555555555555556,
              "#d8576b"
             ],
             [
              0.6666666666666666,
              "#ed7953"
             ],
             [
              0.7777777777777778,
              "#fb9f3a"
             ],
             [
              0.8888888888888888,
              "#fdca26"
             ],
             [
              1,
              "#f0f921"
             ]
            ],
            "type": "histogram2dcontour"
           }
          ],
          "mesh3d": [
           {
            "colorbar": {
             "outlinewidth": 0,
             "ticks": ""
            },
            "type": "mesh3d"
           }
          ],
          "parcoords": [
           {
            "line": {
             "colorbar": {
              "outlinewidth": 0,
              "ticks": ""
             }
            },
            "type": "parcoords"
           }
          ],
          "pie": [
           {
            "automargin": true,
            "type": "pie"
           }
          ],
          "scatter": [
           {
            "fillpattern": {
             "fillmode": "overlay",
             "size": 10,
             "solidity": 0.2
            },
            "type": "scatter"
           }
          ],
          "scatter3d": [
           {
            "line": {
             "colorbar": {
              "outlinewidth": 0,
              "ticks": ""
             }
            },
            "marker": {
             "colorbar": {
              "outlinewidth": 0,
              "ticks": ""
             }
            },
            "type": "scatter3d"
           }
          ],
          "scattercarpet": [
           {
            "marker": {
             "colorbar": {
              "outlinewidth": 0,
              "ticks": ""
             }
            },
            "type": "scattercarpet"
           }
          ],
          "scattergeo": [
           {
            "marker": {
             "colorbar": {
              "outlinewidth": 0,
              "ticks": ""
             }
            },
            "type": "scattergeo"
           }
          ],
          "scattergl": [
           {
            "marker": {
             "colorbar": {
              "outlinewidth": 0,
              "ticks": ""
             }
            },
            "type": "scattergl"
           }
          ],
          "scattermapbox": [
           {
            "marker": {
             "colorbar": {
              "outlinewidth": 0,
              "ticks": ""
             }
            },
            "type": "scattermapbox"
           }
          ],
          "scatterpolar": [
           {
            "marker": {
             "colorbar": {
              "outlinewidth": 0,
              "ticks": ""
             }
            },
            "type": "scatterpolar"
           }
          ],
          "scatterpolargl": [
           {
            "marker": {
             "colorbar": {
              "outlinewidth": 0,
              "ticks": ""
             }
            },
            "type": "scatterpolargl"
           }
          ],
          "scatterternary": [
           {
            "marker": {
             "colorbar": {
              "outlinewidth": 0,
              "ticks": ""
             }
            },
            "type": "scatterternary"
           }
          ],
          "surface": [
           {
            "colorbar": {
             "outlinewidth": 0,
             "ticks": ""
            },
            "colorscale": [
             [
              0,
              "#0d0887"
             ],
             [
              0.1111111111111111,
              "#46039f"
             ],
             [
              0.2222222222222222,
              "#7201a8"
             ],
             [
              0.3333333333333333,
              "#9c179e"
             ],
             [
              0.4444444444444444,
              "#bd3786"
             ],
             [
              0.5555555555555556,
              "#d8576b"
             ],
             [
              0.6666666666666666,
              "#ed7953"
             ],
             [
              0.7777777777777778,
              "#fb9f3a"
             ],
             [
              0.8888888888888888,
              "#fdca26"
             ],
             [
              1,
              "#f0f921"
             ]
            ],
            "type": "surface"
           }
          ],
          "table": [
           {
            "cells": {
             "fill": {
              "color": "#EBF0F8"
             },
             "line": {
              "color": "white"
             }
            },
            "header": {
             "fill": {
              "color": "#C8D4E3"
             },
             "line": {
              "color": "white"
             }
            },
            "type": "table"
           }
          ]
         },
         "layout": {
          "annotationdefaults": {
           "arrowcolor": "#2a3f5f",
           "arrowhead": 0,
           "arrowwidth": 1
          },
          "autotypenumbers": "strict",
          "coloraxis": {
           "colorbar": {
            "outlinewidth": 0,
            "ticks": ""
           }
          },
          "colorscale": {
           "diverging": [
            [
             0,
             "#8e0152"
            ],
            [
             0.1,
             "#c51b7d"
            ],
            [
             0.2,
             "#de77ae"
            ],
            [
             0.3,
             "#f1b6da"
            ],
            [
             0.4,
             "#fde0ef"
            ],
            [
             0.5,
             "#f7f7f7"
            ],
            [
             0.6,
             "#e6f5d0"
            ],
            [
             0.7,
             "#b8e186"
            ],
            [
             0.8,
             "#7fbc41"
            ],
            [
             0.9,
             "#4d9221"
            ],
            [
             1,
             "#276419"
            ]
           ],
           "sequential": [
            [
             0,
             "#0d0887"
            ],
            [
             0.1111111111111111,
             "#46039f"
            ],
            [
             0.2222222222222222,
             "#7201a8"
            ],
            [
             0.3333333333333333,
             "#9c179e"
            ],
            [
             0.4444444444444444,
             "#bd3786"
            ],
            [
             0.5555555555555556,
             "#d8576b"
            ],
            [
             0.6666666666666666,
             "#ed7953"
            ],
            [
             0.7777777777777778,
             "#fb9f3a"
            ],
            [
             0.8888888888888888,
             "#fdca26"
            ],
            [
             1,
             "#f0f921"
            ]
           ],
           "sequentialminus": [
            [
             0,
             "#0d0887"
            ],
            [
             0.1111111111111111,
             "#46039f"
            ],
            [
             0.2222222222222222,
             "#7201a8"
            ],
            [
             0.3333333333333333,
             "#9c179e"
            ],
            [
             0.4444444444444444,
             "#bd3786"
            ],
            [
             0.5555555555555556,
             "#d8576b"
            ],
            [
             0.6666666666666666,
             "#ed7953"
            ],
            [
             0.7777777777777778,
             "#fb9f3a"
            ],
            [
             0.8888888888888888,
             "#fdca26"
            ],
            [
             1,
             "#f0f921"
            ]
           ]
          },
          "colorway": [
           "#636efa",
           "#EF553B",
           "#00cc96",
           "#ab63fa",
           "#FFA15A",
           "#19d3f3",
           "#FF6692",
           "#B6E880",
           "#FF97FF",
           "#FECB52"
          ],
          "font": {
           "color": "#2a3f5f"
          },
          "geo": {
           "bgcolor": "white",
           "lakecolor": "white",
           "landcolor": "#E5ECF6",
           "showlakes": true,
           "showland": true,
           "subunitcolor": "white"
          },
          "hoverlabel": {
           "align": "left"
          },
          "hovermode": "closest",
          "mapbox": {
           "style": "light"
          },
          "paper_bgcolor": "white",
          "plot_bgcolor": "#E5ECF6",
          "polar": {
           "angularaxis": {
            "gridcolor": "white",
            "linecolor": "white",
            "ticks": ""
           },
           "bgcolor": "#E5ECF6",
           "radialaxis": {
            "gridcolor": "white",
            "linecolor": "white",
            "ticks": ""
           }
          },
          "scene": {
           "xaxis": {
            "backgroundcolor": "#E5ECF6",
            "gridcolor": "white",
            "gridwidth": 2,
            "linecolor": "white",
            "showbackground": true,
            "ticks": "",
            "zerolinecolor": "white"
           },
           "yaxis": {
            "backgroundcolor": "#E5ECF6",
            "gridcolor": "white",
            "gridwidth": 2,
            "linecolor": "white",
            "showbackground": true,
            "ticks": "",
            "zerolinecolor": "white"
           },
           "zaxis": {
            "backgroundcolor": "#E5ECF6",
            "gridcolor": "white",
            "gridwidth": 2,
            "linecolor": "white",
            "showbackground": true,
            "ticks": "",
            "zerolinecolor": "white"
           }
          },
          "shapedefaults": {
           "line": {
            "color": "#2a3f5f"
           }
          },
          "ternary": {
           "aaxis": {
            "gridcolor": "white",
            "linecolor": "white",
            "ticks": ""
           },
           "baxis": {
            "gridcolor": "white",
            "linecolor": "white",
            "ticks": ""
           },
           "bgcolor": "#E5ECF6",
           "caxis": {
            "gridcolor": "white",
            "linecolor": "white",
            "ticks": ""
           }
          },
          "title": {
           "x": 0.05
          },
          "xaxis": {
           "automargin": true,
           "gridcolor": "white",
           "linecolor": "white",
           "ticks": "",
           "title": {
            "standoff": 15
           },
           "zerolinecolor": "white",
           "zerolinewidth": 2
          },
          "yaxis": {
           "automargin": true,
           "gridcolor": "white",
           "linecolor": "white",
           "ticks": "",
           "title": {
            "standoff": 15
           },
           "zerolinecolor": "white",
           "zerolinewidth": 2
          }
         }
        }
       }
      }
     },
     "metadata": {},
     "output_type": "display_data"
    }
   ],
   "source": [
    "fig = go.Figure()\n",
    "\n",
    "fig.add_trace(go.Histogram(histfunc=\"count\", y=percentages_three, x=percentages_three, name=\"three words sentences\"))\n",
    "\n",
    "fig.add_trace(go.Histogram(histfunc=\"count\", y=percentages_four, x=percentages_four, name=\"four words sentences\"))\n",
    "\n",
    "fig.show()\n"
   ]
  },
  {
   "cell_type": "code",
   "execution_count": null,
   "metadata": {},
   "outputs": [
    {
     "data": {
      "application/vnd.plotly.v1+json": {
       "config": {
        "plotlyServerURL": "https://plot.ly"
       },
       "data": [
        {
         "histfunc": "count",
         "name": "four words sentences",
         "type": "histogram",
         "x": [
          0.8204952478408813,
          0.9954919219017029,
          0.7224154472351074,
          0.7749122977256775,
          0.7334334850311279,
          0.8784036636352539,
          0.9690334796905518,
          0.5942057967185974,
          0.538862407207489,
          0.564704179763794,
          0.9999998211860657,
          0.7358789443969727,
          0.9377734661102295,
          0.5288787484169006,
          0.9731781482696533,
          0.9823958873748779,
          0.863921582698822,
          0.8361274003982544,
          0.6060925722122192,
          0.7888438701629639,
          0.641865611076355,
          0.8428723812103271,
          0.7267018556594849,
          0.9445934295654297,
          0.8873851895332336,
          0.7742223739624023,
          0.6404811143875122,
          0.8025707602500916,
          0.8779840469360352,
          0.9105703830718994,
          0.9953484535217285,
          0.9463354349136353,
          0.4526141285896301,
          1.0000001192092896,
          0.4315333366394043,
          0.9744455814361572,
          0.8275699615478516,
          0.6550195813179016,
          0.9658012986183167,
          0.6356275677680969,
          0.699978768825531,
          0.5744662284851074,
          0.5707961916923523,
          0.42231959104537964,
          0.9788373112678528,
          0.8575552105903625,
          0.8835423588752747,
          0.8845282793045044,
          0.6432321071624756,
          0.8286691904067993,
          0.9878545999526978,
          0.4494694471359253,
          0.36461082100868225,
          0.9048649072647095,
          0.5465314388275146,
          0.7134480476379395,
          0.4219823181629181,
          0.9071093797683716,
          0.9596904516220093,
          0.825931191444397,
          0.9999999403953552,
          0.9108773469924927,
          0.7455747127532959,
          0.23500996828079224,
          0.6096082925796509,
          0.851122260093689,
          0.43929561972618103,
          0.9807577133178711,
          0.9758718609809875,
          0.8155975341796875,
          0.24016784131526947,
          0.8432139754295349,
          0.9129856824874878,
          0.9629610776901245,
          0.6155885457992554,
          0.6818892955780029,
          0.6211636066436768,
          0.7585533857345581,
          1,
          0.9715295433998108,
          0.8322221040725708,
          0.8330907225608826,
          0.941562831401825,
          0.6262955665588379,
          0.9524637460708618,
          0.9464210271835327,
          0.9368414878845215,
          0.6391712427139282,
          0.8051483035087585,
          0.776290774345398,
          0.8976322412490845,
          0.8029484748840332,
          0.2509816288948059,
          0.4437313973903656,
          0.7633282542228699,
          0.9191732406616211,
          0.545712947845459,
          0.46567249298095703,
          0.9582091569900513,
          0.7438509464263916
         ],
         "y": [
          0.8204952478408813,
          0.9954919219017029,
          0.7224154472351074,
          0.7749122977256775,
          0.7334334850311279,
          0.8784036636352539,
          0.9690334796905518,
          0.5942057967185974,
          0.538862407207489,
          0.564704179763794,
          0.9999998211860657,
          0.7358789443969727,
          0.9377734661102295,
          0.5288787484169006,
          0.9731781482696533,
          0.9823958873748779,
          0.863921582698822,
          0.8361274003982544,
          0.6060925722122192,
          0.7888438701629639,
          0.641865611076355,
          0.8428723812103271,
          0.7267018556594849,
          0.9445934295654297,
          0.8873851895332336,
          0.7742223739624023,
          0.6404811143875122,
          0.8025707602500916,
          0.8779840469360352,
          0.9105703830718994,
          0.9953484535217285,
          0.9463354349136353,
          0.4526141285896301,
          1.0000001192092896,
          0.4315333366394043,
          0.9744455814361572,
          0.8275699615478516,
          0.6550195813179016,
          0.9658012986183167,
          0.6356275677680969,
          0.699978768825531,
          0.5744662284851074,
          0.5707961916923523,
          0.42231959104537964,
          0.9788373112678528,
          0.8575552105903625,
          0.8835423588752747,
          0.8845282793045044,
          0.6432321071624756,
          0.8286691904067993,
          0.9878545999526978,
          0.4494694471359253,
          0.36461082100868225,
          0.9048649072647095,
          0.5465314388275146,
          0.7134480476379395,
          0.4219823181629181,
          0.9071093797683716,
          0.9596904516220093,
          0.825931191444397,
          0.9999999403953552,
          0.9108773469924927,
          0.7455747127532959,
          0.23500996828079224,
          0.6096082925796509,
          0.851122260093689,
          0.43929561972618103,
          0.9807577133178711,
          0.9758718609809875,
          0.8155975341796875,
          0.24016784131526947,
          0.8432139754295349,
          0.9129856824874878,
          0.9629610776901245,
          0.6155885457992554,
          0.6818892955780029,
          0.6211636066436768,
          0.7585533857345581,
          1,
          0.9715295433998108,
          0.8322221040725708,
          0.8330907225608826,
          0.941562831401825,
          0.6262955665588379,
          0.9524637460708618,
          0.9464210271835327,
          0.9368414878845215,
          0.6391712427139282,
          0.8051483035087585,
          0.776290774345398,
          0.8976322412490845,
          0.8029484748840332,
          0.2509816288948059,
          0.4437313973903656,
          0.7633282542228699,
          0.9191732406616211,
          0.545712947845459,
          0.46567249298095703,
          0.9582091569900513,
          0.7438509464263916
         ]
        },
        {
         "histfunc": "count",
         "name": "five or more words sentences",
         "type": "histogram",
         "x": [
          0.9954628944396973,
          0.9090670347213745,
          0.8316942453384399,
          0.7726014852523804,
          0.9428467154502869,
          0.9804149866104126,
          0.7680052518844604,
          0.7289944887161255,
          0.8965433835983276,
          0.4812873601913452,
          0.8659319281578064,
          0.6916226148605347,
          0.7437702417373657,
          0.8973007202148438,
          0.7892184853553772,
          0.6477631330490112,
          0.7064960598945618,
          0.5744451880455017,
          0.9779132604598999,
          0.7944455146789551,
          0.34538885951042175,
          0.6997802257537842,
          0.5858756303787231,
          0.9136996269226074,
          0.42335861921310425,
          0.8097768425941467,
          0.7465651035308838,
          0.9045407772064209,
          0.9391235709190369,
          0.7752883434295654,
          0.9662508368492126,
          0.9629773497581482,
          0.9149705171585083,
          0.942345142364502,
          0.42184701561927795,
          0.9966368675231934,
          0.9706597924232483,
          0.4123254418373108,
          0.6212825179100037,
          0.7384856939315796,
          0.9423909187316895,
          0.8764917254447937,
          0.4676293432712555,
          0.6108021140098572,
          0.959183931350708,
          0.7992242574691772,
          0.8603125810623169,
          0.9308223128318787,
          0.8656849265098572,
          0.8351198434829712,
          0.4600380063056946,
          0.4047940969467163,
          0.9239951372146606,
          0.3886496424674988,
          0.988108217716217,
          0.8856349587440491,
          0.9249295592308044,
          0.6404023766517639,
          0.8017411231994629,
          0.6263993978500366,
          0.6567772030830383,
          0.4699060320854187,
          0.9678633213043213,
          0.6319473385810852,
          0.8787714242935181,
          0.495143324136734,
          0.6736692190170288,
          0.48943182826042175,
          0.7845466136932373,
          0.7650549411773682,
          0.8096985816955566,
          0.8456286191940308,
          0.7866989374160767,
          0.5296571254730225,
          0.7337199449539185,
          0.9484390616416931,
          0.9605785608291626,
          0.6840813159942627,
          0.769047737121582,
          0.5684312582015991,
          0.5771564245223999,
          0.7999135255813599,
          0.8034199476242065,
          0.8333230018615723,
          0.9268672466278076,
          0.9776244759559631,
          0.30954521894454956,
          0.6820317506790161,
          0.7886826992034912,
          0.925531804561615,
          0.7283368706703186,
          0.8640395402908325,
          0.6894960403442383,
          0.4499136209487915,
          0.9674643278121948,
          0.8464885950088501,
          0.7779917120933533,
          0.9045600295066833,
          0.6939793825149536,
          0.6161180734634399
         ],
         "y": [
          0.9954628944396973,
          0.9090670347213745,
          0.8316942453384399,
          0.7726014852523804,
          0.9428467154502869,
          0.9804149866104126,
          0.7680052518844604,
          0.7289944887161255,
          0.8965433835983276,
          0.4812873601913452,
          0.8659319281578064,
          0.6916226148605347,
          0.7437702417373657,
          0.8973007202148438,
          0.7892184853553772,
          0.6477631330490112,
          0.7064960598945618,
          0.5744451880455017,
          0.9779132604598999,
          0.7944455146789551,
          0.34538885951042175,
          0.6997802257537842,
          0.5858756303787231,
          0.9136996269226074,
          0.42335861921310425,
          0.8097768425941467,
          0.7465651035308838,
          0.9045407772064209,
          0.9391235709190369,
          0.7752883434295654,
          0.9662508368492126,
          0.9629773497581482,
          0.9149705171585083,
          0.942345142364502,
          0.42184701561927795,
          0.9966368675231934,
          0.9706597924232483,
          0.4123254418373108,
          0.6212825179100037,
          0.7384856939315796,
          0.9423909187316895,
          0.8764917254447937,
          0.4676293432712555,
          0.6108021140098572,
          0.959183931350708,
          0.7992242574691772,
          0.8603125810623169,
          0.9308223128318787,
          0.8656849265098572,
          0.8351198434829712,
          0.4600380063056946,
          0.4047940969467163,
          0.9239951372146606,
          0.3886496424674988,
          0.988108217716217,
          0.8856349587440491,
          0.9249295592308044,
          0.6404023766517639,
          0.8017411231994629,
          0.6263993978500366,
          0.6567772030830383,
          0.4699060320854187,
          0.9678633213043213,
          0.6319473385810852,
          0.8787714242935181,
          0.495143324136734,
          0.6736692190170288,
          0.48943182826042175,
          0.7845466136932373,
          0.7650549411773682,
          0.8096985816955566,
          0.8456286191940308,
          0.7866989374160767,
          0.5296571254730225,
          0.7337199449539185,
          0.9484390616416931,
          0.9605785608291626,
          0.6840813159942627,
          0.769047737121582,
          0.5684312582015991,
          0.5771564245223999,
          0.7999135255813599,
          0.8034199476242065,
          0.8333230018615723,
          0.9268672466278076,
          0.9776244759559631,
          0.30954521894454956,
          0.6820317506790161,
          0.7886826992034912,
          0.925531804561615,
          0.7283368706703186,
          0.8640395402908325,
          0.6894960403442383,
          0.4499136209487915,
          0.9674643278121948,
          0.8464885950088501,
          0.7779917120933533,
          0.9045600295066833,
          0.6939793825149536,
          0.6161180734634399
         ]
        }
       ],
       "layout": {
        "template": {
         "data": {
          "bar": [
           {
            "error_x": {
             "color": "#2a3f5f"
            },
            "error_y": {
             "color": "#2a3f5f"
            },
            "marker": {
             "line": {
              "color": "#E5ECF6",
              "width": 0.5
             },
             "pattern": {
              "fillmode": "overlay",
              "size": 10,
              "solidity": 0.2
             }
            },
            "type": "bar"
           }
          ],
          "barpolar": [
           {
            "marker": {
             "line": {
              "color": "#E5ECF6",
              "width": 0.5
             },
             "pattern": {
              "fillmode": "overlay",
              "size": 10,
              "solidity": 0.2
             }
            },
            "type": "barpolar"
           }
          ],
          "carpet": [
           {
            "aaxis": {
             "endlinecolor": "#2a3f5f",
             "gridcolor": "white",
             "linecolor": "white",
             "minorgridcolor": "white",
             "startlinecolor": "#2a3f5f"
            },
            "baxis": {
             "endlinecolor": "#2a3f5f",
             "gridcolor": "white",
             "linecolor": "white",
             "minorgridcolor": "white",
             "startlinecolor": "#2a3f5f"
            },
            "type": "carpet"
           }
          ],
          "choropleth": [
           {
            "colorbar": {
             "outlinewidth": 0,
             "ticks": ""
            },
            "type": "choropleth"
           }
          ],
          "contour": [
           {
            "colorbar": {
             "outlinewidth": 0,
             "ticks": ""
            },
            "colorscale": [
             [
              0,
              "#0d0887"
             ],
             [
              0.1111111111111111,
              "#46039f"
             ],
             [
              0.2222222222222222,
              "#7201a8"
             ],
             [
              0.3333333333333333,
              "#9c179e"
             ],
             [
              0.4444444444444444,
              "#bd3786"
             ],
             [
              0.5555555555555556,
              "#d8576b"
             ],
             [
              0.6666666666666666,
              "#ed7953"
             ],
             [
              0.7777777777777778,
              "#fb9f3a"
             ],
             [
              0.8888888888888888,
              "#fdca26"
             ],
             [
              1,
              "#f0f921"
             ]
            ],
            "type": "contour"
           }
          ],
          "contourcarpet": [
           {
            "colorbar": {
             "outlinewidth": 0,
             "ticks": ""
            },
            "type": "contourcarpet"
           }
          ],
          "heatmap": [
           {
            "colorbar": {
             "outlinewidth": 0,
             "ticks": ""
            },
            "colorscale": [
             [
              0,
              "#0d0887"
             ],
             [
              0.1111111111111111,
              "#46039f"
             ],
             [
              0.2222222222222222,
              "#7201a8"
             ],
             [
              0.3333333333333333,
              "#9c179e"
             ],
             [
              0.4444444444444444,
              "#bd3786"
             ],
             [
              0.5555555555555556,
              "#d8576b"
             ],
             [
              0.6666666666666666,
              "#ed7953"
             ],
             [
              0.7777777777777778,
              "#fb9f3a"
             ],
             [
              0.8888888888888888,
              "#fdca26"
             ],
             [
              1,
              "#f0f921"
             ]
            ],
            "type": "heatmap"
           }
          ],
          "heatmapgl": [
           {
            "colorbar": {
             "outlinewidth": 0,
             "ticks": ""
            },
            "colorscale": [
             [
              0,
              "#0d0887"
             ],
             [
              0.1111111111111111,
              "#46039f"
             ],
             [
              0.2222222222222222,
              "#7201a8"
             ],
             [
              0.3333333333333333,
              "#9c179e"
             ],
             [
              0.4444444444444444,
              "#bd3786"
             ],
             [
              0.5555555555555556,
              "#d8576b"
             ],
             [
              0.6666666666666666,
              "#ed7953"
             ],
             [
              0.7777777777777778,
              "#fb9f3a"
             ],
             [
              0.8888888888888888,
              "#fdca26"
             ],
             [
              1,
              "#f0f921"
             ]
            ],
            "type": "heatmapgl"
           }
          ],
          "histogram": [
           {
            "marker": {
             "pattern": {
              "fillmode": "overlay",
              "size": 10,
              "solidity": 0.2
             }
            },
            "type": "histogram"
           }
          ],
          "histogram2d": [
           {
            "colorbar": {
             "outlinewidth": 0,
             "ticks": ""
            },
            "colorscale": [
             [
              0,
              "#0d0887"
             ],
             [
              0.1111111111111111,
              "#46039f"
             ],
             [
              0.2222222222222222,
              "#7201a8"
             ],
             [
              0.3333333333333333,
              "#9c179e"
             ],
             [
              0.4444444444444444,
              "#bd3786"
             ],
             [
              0.5555555555555556,
              "#d8576b"
             ],
             [
              0.6666666666666666,
              "#ed7953"
             ],
             [
              0.7777777777777778,
              "#fb9f3a"
             ],
             [
              0.8888888888888888,
              "#fdca26"
             ],
             [
              1,
              "#f0f921"
             ]
            ],
            "type": "histogram2d"
           }
          ],
          "histogram2dcontour": [
           {
            "colorbar": {
             "outlinewidth": 0,
             "ticks": ""
            },
            "colorscale": [
             [
              0,
              "#0d0887"
             ],
             [
              0.1111111111111111,
              "#46039f"
             ],
             [
              0.2222222222222222,
              "#7201a8"
             ],
             [
              0.3333333333333333,
              "#9c179e"
             ],
             [
              0.4444444444444444,
              "#bd3786"
             ],
             [
              0.5555555555555556,
              "#d8576b"
             ],
             [
              0.6666666666666666,
              "#ed7953"
             ],
             [
              0.7777777777777778,
              "#fb9f3a"
             ],
             [
              0.8888888888888888,
              "#fdca26"
             ],
             [
              1,
              "#f0f921"
             ]
            ],
            "type": "histogram2dcontour"
           }
          ],
          "mesh3d": [
           {
            "colorbar": {
             "outlinewidth": 0,
             "ticks": ""
            },
            "type": "mesh3d"
           }
          ],
          "parcoords": [
           {
            "line": {
             "colorbar": {
              "outlinewidth": 0,
              "ticks": ""
             }
            },
            "type": "parcoords"
           }
          ],
          "pie": [
           {
            "automargin": true,
            "type": "pie"
           }
          ],
          "scatter": [
           {
            "fillpattern": {
             "fillmode": "overlay",
             "size": 10,
             "solidity": 0.2
            },
            "type": "scatter"
           }
          ],
          "scatter3d": [
           {
            "line": {
             "colorbar": {
              "outlinewidth": 0,
              "ticks": ""
             }
            },
            "marker": {
             "colorbar": {
              "outlinewidth": 0,
              "ticks": ""
             }
            },
            "type": "scatter3d"
           }
          ],
          "scattercarpet": [
           {
            "marker": {
             "colorbar": {
              "outlinewidth": 0,
              "ticks": ""
             }
            },
            "type": "scattercarpet"
           }
          ],
          "scattergeo": [
           {
            "marker": {
             "colorbar": {
              "outlinewidth": 0,
              "ticks": ""
             }
            },
            "type": "scattergeo"
           }
          ],
          "scattergl": [
           {
            "marker": {
             "colorbar": {
              "outlinewidth": 0,
              "ticks": ""
             }
            },
            "type": "scattergl"
           }
          ],
          "scattermapbox": [
           {
            "marker": {
             "colorbar": {
              "outlinewidth": 0,
              "ticks": ""
             }
            },
            "type": "scattermapbox"
           }
          ],
          "scatterpolar": [
           {
            "marker": {
             "colorbar": {
              "outlinewidth": 0,
              "ticks": ""
             }
            },
            "type": "scatterpolar"
           }
          ],
          "scatterpolargl": [
           {
            "marker": {
             "colorbar": {
              "outlinewidth": 0,
              "ticks": ""
             }
            },
            "type": "scatterpolargl"
           }
          ],
          "scatterternary": [
           {
            "marker": {
             "colorbar": {
              "outlinewidth": 0,
              "ticks": ""
             }
            },
            "type": "scatterternary"
           }
          ],
          "surface": [
           {
            "colorbar": {
             "outlinewidth": 0,
             "ticks": ""
            },
            "colorscale": [
             [
              0,
              "#0d0887"
             ],
             [
              0.1111111111111111,
              "#46039f"
             ],
             [
              0.2222222222222222,
              "#7201a8"
             ],
             [
              0.3333333333333333,
              "#9c179e"
             ],
             [
              0.4444444444444444,
              "#bd3786"
             ],
             [
              0.5555555555555556,
              "#d8576b"
             ],
             [
              0.6666666666666666,
              "#ed7953"
             ],
             [
              0.7777777777777778,
              "#fb9f3a"
             ],
             [
              0.8888888888888888,
              "#fdca26"
             ],
             [
              1,
              "#f0f921"
             ]
            ],
            "type": "surface"
           }
          ],
          "table": [
           {
            "cells": {
             "fill": {
              "color": "#EBF0F8"
             },
             "line": {
              "color": "white"
             }
            },
            "header": {
             "fill": {
              "color": "#C8D4E3"
             },
             "line": {
              "color": "white"
             }
            },
            "type": "table"
           }
          ]
         },
         "layout": {
          "annotationdefaults": {
           "arrowcolor": "#2a3f5f",
           "arrowhead": 0,
           "arrowwidth": 1
          },
          "autotypenumbers": "strict",
          "coloraxis": {
           "colorbar": {
            "outlinewidth": 0,
            "ticks": ""
           }
          },
          "colorscale": {
           "diverging": [
            [
             0,
             "#8e0152"
            ],
            [
             0.1,
             "#c51b7d"
            ],
            [
             0.2,
             "#de77ae"
            ],
            [
             0.3,
             "#f1b6da"
            ],
            [
             0.4,
             "#fde0ef"
            ],
            [
             0.5,
             "#f7f7f7"
            ],
            [
             0.6,
             "#e6f5d0"
            ],
            [
             0.7,
             "#b8e186"
            ],
            [
             0.8,
             "#7fbc41"
            ],
            [
             0.9,
             "#4d9221"
            ],
            [
             1,
             "#276419"
            ]
           ],
           "sequential": [
            [
             0,
             "#0d0887"
            ],
            [
             0.1111111111111111,
             "#46039f"
            ],
            [
             0.2222222222222222,
             "#7201a8"
            ],
            [
             0.3333333333333333,
             "#9c179e"
            ],
            [
             0.4444444444444444,
             "#bd3786"
            ],
            [
             0.5555555555555556,
             "#d8576b"
            ],
            [
             0.6666666666666666,
             "#ed7953"
            ],
            [
             0.7777777777777778,
             "#fb9f3a"
            ],
            [
             0.8888888888888888,
             "#fdca26"
            ],
            [
             1,
             "#f0f921"
            ]
           ],
           "sequentialminus": [
            [
             0,
             "#0d0887"
            ],
            [
             0.1111111111111111,
             "#46039f"
            ],
            [
             0.2222222222222222,
             "#7201a8"
            ],
            [
             0.3333333333333333,
             "#9c179e"
            ],
            [
             0.4444444444444444,
             "#bd3786"
            ],
            [
             0.5555555555555556,
             "#d8576b"
            ],
            [
             0.6666666666666666,
             "#ed7953"
            ],
            [
             0.7777777777777778,
             "#fb9f3a"
            ],
            [
             0.8888888888888888,
             "#fdca26"
            ],
            [
             1,
             "#f0f921"
            ]
           ]
          },
          "colorway": [
           "#636efa",
           "#EF553B",
           "#00cc96",
           "#ab63fa",
           "#FFA15A",
           "#19d3f3",
           "#FF6692",
           "#B6E880",
           "#FF97FF",
           "#FECB52"
          ],
          "font": {
           "color": "#2a3f5f"
          },
          "geo": {
           "bgcolor": "white",
           "lakecolor": "white",
           "landcolor": "#E5ECF6",
           "showlakes": true,
           "showland": true,
           "subunitcolor": "white"
          },
          "hoverlabel": {
           "align": "left"
          },
          "hovermode": "closest",
          "mapbox": {
           "style": "light"
          },
          "paper_bgcolor": "white",
          "plot_bgcolor": "#E5ECF6",
          "polar": {
           "angularaxis": {
            "gridcolor": "white",
            "linecolor": "white",
            "ticks": ""
           },
           "bgcolor": "#E5ECF6",
           "radialaxis": {
            "gridcolor": "white",
            "linecolor": "white",
            "ticks": ""
           }
          },
          "scene": {
           "xaxis": {
            "backgroundcolor": "#E5ECF6",
            "gridcolor": "white",
            "gridwidth": 2,
            "linecolor": "white",
            "showbackground": true,
            "ticks": "",
            "zerolinecolor": "white"
           },
           "yaxis": {
            "backgroundcolor": "#E5ECF6",
            "gridcolor": "white",
            "gridwidth": 2,
            "linecolor": "white",
            "showbackground": true,
            "ticks": "",
            "zerolinecolor": "white"
           },
           "zaxis": {
            "backgroundcolor": "#E5ECF6",
            "gridcolor": "white",
            "gridwidth": 2,
            "linecolor": "white",
            "showbackground": true,
            "ticks": "",
            "zerolinecolor": "white"
           }
          },
          "shapedefaults": {
           "line": {
            "color": "#2a3f5f"
           }
          },
          "ternary": {
           "aaxis": {
            "gridcolor": "white",
            "linecolor": "white",
            "ticks": ""
           },
           "baxis": {
            "gridcolor": "white",
            "linecolor": "white",
            "ticks": ""
           },
           "bgcolor": "#E5ECF6",
           "caxis": {
            "gridcolor": "white",
            "linecolor": "white",
            "ticks": ""
           }
          },
          "title": {
           "x": 0.05
          },
          "xaxis": {
           "automargin": true,
           "gridcolor": "white",
           "linecolor": "white",
           "ticks": "",
           "title": {
            "standoff": 15
           },
           "zerolinecolor": "white",
           "zerolinewidth": 2
          },
          "yaxis": {
           "automargin": true,
           "gridcolor": "white",
           "linecolor": "white",
           "ticks": "",
           "title": {
            "standoff": 15
           },
           "zerolinecolor": "white",
           "zerolinewidth": 2
          }
         }
        }
       }
      }
     },
     "metadata": {},
     "output_type": "display_data"
    }
   ],
   "source": [
    "fig = go.Figure()\n",
    "\n",
    "fig.add_trace(go.Histogram(histfunc=\"count\", y=percentages_four, x=percentages_four, name=\"four words sentences\"))\n",
    "\n",
    "fig.add_trace(go.Histogram(histfunc=\"count\", y=percentages_more, x=percentages_more, name=\"five or more words sentences\"))\n",
    "fig.show()\n"
   ]
  },
  {
   "cell_type": "code",
   "execution_count": null,
   "metadata": {},
   "outputs": [
    {
     "data": {
      "application/vnd.plotly.v1+json": {
       "config": {
        "plotlyServerURL": "https://plot.ly"
       },
       "data": [
        {
         "histfunc": "count",
         "name": "five or more words sentences",
         "type": "histogram",
         "x": [
          0.9954628944396973,
          0.9090670347213745,
          0.8316942453384399,
          0.7726014852523804,
          0.9428467154502869,
          0.9804149866104126,
          0.7680052518844604,
          0.7289944887161255,
          0.8965433835983276,
          0.4812873601913452,
          0.8659319281578064,
          0.6916226148605347,
          0.7437702417373657,
          0.8973007202148438,
          0.7892184853553772,
          0.6477631330490112,
          0.7064960598945618,
          0.5744451880455017,
          0.9779132604598999,
          0.7944455146789551,
          0.34538885951042175,
          0.6997802257537842,
          0.5858756303787231,
          0.9136996269226074,
          0.42335861921310425,
          0.8097768425941467,
          0.7465651035308838,
          0.9045407772064209,
          0.9391235709190369,
          0.7752883434295654,
          0.9662508368492126,
          0.9629773497581482,
          0.9149705171585083,
          0.942345142364502,
          0.42184701561927795,
          0.9966368675231934,
          0.9706597924232483,
          0.4123254418373108,
          0.6212825179100037,
          0.7384856939315796,
          0.9423909187316895,
          0.8764917254447937,
          0.4676293432712555,
          0.6108021140098572,
          0.959183931350708,
          0.7992242574691772,
          0.8603125810623169,
          0.9308223128318787,
          0.8656849265098572,
          0.8351198434829712,
          0.4600380063056946,
          0.4047940969467163,
          0.9239951372146606,
          0.3886496424674988,
          0.988108217716217,
          0.8856349587440491,
          0.9249295592308044,
          0.6404023766517639,
          0.8017411231994629,
          0.6263993978500366,
          0.6567772030830383,
          0.4699060320854187,
          0.9678633213043213,
          0.6319473385810852,
          0.8787714242935181,
          0.495143324136734,
          0.6736692190170288,
          0.48943182826042175,
          0.7845466136932373,
          0.7650549411773682,
          0.8096985816955566,
          0.8456286191940308,
          0.7866989374160767,
          0.5296571254730225,
          0.7337199449539185,
          0.9484390616416931,
          0.9605785608291626,
          0.6840813159942627,
          0.769047737121582,
          0.5684312582015991,
          0.5771564245223999,
          0.7999135255813599,
          0.8034199476242065,
          0.8333230018615723,
          0.9268672466278076,
          0.9776244759559631,
          0.30954521894454956,
          0.6820317506790161,
          0.7886826992034912,
          0.925531804561615,
          0.7283368706703186,
          0.8640395402908325,
          0.6894960403442383,
          0.4499136209487915,
          0.9674643278121948,
          0.8464885950088501,
          0.7779917120933533,
          0.9045600295066833,
          0.6939793825149536,
          0.6161180734634399
         ],
         "y": [
          0.9954628944396973,
          0.9090670347213745,
          0.8316942453384399,
          0.7726014852523804,
          0.9428467154502869,
          0.9804149866104126,
          0.7680052518844604,
          0.7289944887161255,
          0.8965433835983276,
          0.4812873601913452,
          0.8659319281578064,
          0.6916226148605347,
          0.7437702417373657,
          0.8973007202148438,
          0.7892184853553772,
          0.6477631330490112,
          0.7064960598945618,
          0.5744451880455017,
          0.9779132604598999,
          0.7944455146789551,
          0.34538885951042175,
          0.6997802257537842,
          0.5858756303787231,
          0.9136996269226074,
          0.42335861921310425,
          0.8097768425941467,
          0.7465651035308838,
          0.9045407772064209,
          0.9391235709190369,
          0.7752883434295654,
          0.9662508368492126,
          0.9629773497581482,
          0.9149705171585083,
          0.942345142364502,
          0.42184701561927795,
          0.9966368675231934,
          0.9706597924232483,
          0.4123254418373108,
          0.6212825179100037,
          0.7384856939315796,
          0.9423909187316895,
          0.8764917254447937,
          0.4676293432712555,
          0.6108021140098572,
          0.959183931350708,
          0.7992242574691772,
          0.8603125810623169,
          0.9308223128318787,
          0.8656849265098572,
          0.8351198434829712,
          0.4600380063056946,
          0.4047940969467163,
          0.9239951372146606,
          0.3886496424674988,
          0.988108217716217,
          0.8856349587440491,
          0.9249295592308044,
          0.6404023766517639,
          0.8017411231994629,
          0.6263993978500366,
          0.6567772030830383,
          0.4699060320854187,
          0.9678633213043213,
          0.6319473385810852,
          0.8787714242935181,
          0.495143324136734,
          0.6736692190170288,
          0.48943182826042175,
          0.7845466136932373,
          0.7650549411773682,
          0.8096985816955566,
          0.8456286191940308,
          0.7866989374160767,
          0.5296571254730225,
          0.7337199449539185,
          0.9484390616416931,
          0.9605785608291626,
          0.6840813159942627,
          0.769047737121582,
          0.5684312582015991,
          0.5771564245223999,
          0.7999135255813599,
          0.8034199476242065,
          0.8333230018615723,
          0.9268672466278076,
          0.9776244759559631,
          0.30954521894454956,
          0.6820317506790161,
          0.7886826992034912,
          0.925531804561615,
          0.7283368706703186,
          0.8640395402908325,
          0.6894960403442383,
          0.4499136209487915,
          0.9674643278121948,
          0.8464885950088501,
          0.7779917120933533,
          0.9045600295066833,
          0.6939793825149536,
          0.6161180734634399
         ]
        },
        {
         "histfunc": "count",
         "name": "four words sentences",
         "type": "histogram",
         "x": [
          0.8204952478408813,
          0.9954919219017029,
          0.7224154472351074,
          0.7749122977256775,
          0.7334334850311279,
          0.8784036636352539,
          0.9690334796905518,
          0.5942057967185974,
          0.538862407207489,
          0.564704179763794,
          0.9999998211860657,
          0.7358789443969727,
          0.9377734661102295,
          0.5288787484169006,
          0.9731781482696533,
          0.9823958873748779,
          0.863921582698822,
          0.8361274003982544,
          0.6060925722122192,
          0.7888438701629639,
          0.641865611076355,
          0.8428723812103271,
          0.7267018556594849,
          0.9445934295654297,
          0.8873851895332336,
          0.7742223739624023,
          0.6404811143875122,
          0.8025707602500916,
          0.8779840469360352,
          0.9105703830718994,
          0.9953484535217285,
          0.9463354349136353,
          0.4526141285896301,
          1.0000001192092896,
          0.4315333366394043,
          0.9744455814361572,
          0.8275699615478516,
          0.6550195813179016,
          0.9658012986183167,
          0.6356275677680969,
          0.699978768825531,
          0.5744662284851074,
          0.5707961916923523,
          0.42231959104537964,
          0.9788373112678528,
          0.8575552105903625,
          0.8835423588752747,
          0.8845282793045044,
          0.6432321071624756,
          0.8286691904067993,
          0.9878545999526978,
          0.4494694471359253,
          0.36461082100868225,
          0.9048649072647095,
          0.5465314388275146,
          0.7134480476379395,
          0.4219823181629181,
          0.9071093797683716,
          0.9596904516220093,
          0.825931191444397,
          0.9999999403953552,
          0.9108773469924927,
          0.7455747127532959,
          0.23500996828079224,
          0.6096082925796509,
          0.851122260093689,
          0.43929561972618103,
          0.9807577133178711,
          0.9758718609809875,
          0.8155975341796875,
          0.24016784131526947,
          0.8432139754295349,
          0.9129856824874878,
          0.9629610776901245,
          0.6155885457992554,
          0.6818892955780029,
          0.6211636066436768,
          0.7585533857345581,
          1,
          0.9715295433998108,
          0.8322221040725708,
          0.8330907225608826,
          0.941562831401825,
          0.6262955665588379,
          0.9524637460708618,
          0.9464210271835327,
          0.9368414878845215,
          0.6391712427139282,
          0.8051483035087585,
          0.776290774345398,
          0.8976322412490845,
          0.8029484748840332,
          0.2509816288948059,
          0.4437313973903656,
          0.7633282542228699,
          0.9191732406616211,
          0.545712947845459,
          0.46567249298095703,
          0.9582091569900513,
          0.7438509464263916
         ],
         "y": [
          0.8204952478408813,
          0.9954919219017029,
          0.7224154472351074,
          0.7749122977256775,
          0.7334334850311279,
          0.8784036636352539,
          0.9690334796905518,
          0.5942057967185974,
          0.538862407207489,
          0.564704179763794,
          0.9999998211860657,
          0.7358789443969727,
          0.9377734661102295,
          0.5288787484169006,
          0.9731781482696533,
          0.9823958873748779,
          0.863921582698822,
          0.8361274003982544,
          0.6060925722122192,
          0.7888438701629639,
          0.641865611076355,
          0.8428723812103271,
          0.7267018556594849,
          0.9445934295654297,
          0.8873851895332336,
          0.7742223739624023,
          0.6404811143875122,
          0.8025707602500916,
          0.8779840469360352,
          0.9105703830718994,
          0.9953484535217285,
          0.9463354349136353,
          0.4526141285896301,
          1.0000001192092896,
          0.4315333366394043,
          0.9744455814361572,
          0.8275699615478516,
          0.6550195813179016,
          0.9658012986183167,
          0.6356275677680969,
          0.699978768825531,
          0.5744662284851074,
          0.5707961916923523,
          0.42231959104537964,
          0.9788373112678528,
          0.8575552105903625,
          0.8835423588752747,
          0.8845282793045044,
          0.6432321071624756,
          0.8286691904067993,
          0.9878545999526978,
          0.4494694471359253,
          0.36461082100868225,
          0.9048649072647095,
          0.5465314388275146,
          0.7134480476379395,
          0.4219823181629181,
          0.9071093797683716,
          0.9596904516220093,
          0.825931191444397,
          0.9999999403953552,
          0.9108773469924927,
          0.7455747127532959,
          0.23500996828079224,
          0.6096082925796509,
          0.851122260093689,
          0.43929561972618103,
          0.9807577133178711,
          0.9758718609809875,
          0.8155975341796875,
          0.24016784131526947,
          0.8432139754295349,
          0.9129856824874878,
          0.9629610776901245,
          0.6155885457992554,
          0.6818892955780029,
          0.6211636066436768,
          0.7585533857345581,
          1,
          0.9715295433998108,
          0.8322221040725708,
          0.8330907225608826,
          0.941562831401825,
          0.6262955665588379,
          0.9524637460708618,
          0.9464210271835327,
          0.9368414878845215,
          0.6391712427139282,
          0.8051483035087585,
          0.776290774345398,
          0.8976322412490845,
          0.8029484748840332,
          0.2509816288948059,
          0.4437313973903656,
          0.7633282542228699,
          0.9191732406616211,
          0.545712947845459,
          0.46567249298095703,
          0.9582091569900513,
          0.7438509464263916
         ]
        },
        {
         "histfunc": "count",
         "name": "three words sentences",
         "type": "histogram",
         "x": [
          0.6003402471542358,
          0.8676134347915649,
          0.9385789036750793,
          0.9620341658592224,
          0.9121701717376709,
          0.8828895092010498,
          0.8847764730453491,
          0.8443692922592163,
          0.5392993092536926,
          0.7784312963485718,
          0.9896489381790161,
          0.8530164957046509,
          0.9121538996696472,
          0.9885540008544922,
          0.7412214279174805,
          0.8033069968223572,
          0.8997634649276733,
          0.7085273265838623,
          0.9314150810241699,
          0.78743976354599,
          0.9626191854476929,
          1.000000238418579,
          0.9603261351585388,
          0.6845155954360962,
          0.959320604801178,
          0.8581247925758362,
          0.3988940715789795,
          0.8202451467514038,
          0.8870338797569275,
          0.9844009876251221,
          0.472647100687027,
          0.9608778357505798,
          0.7146049737930298,
          0.7251002788543701,
          0.9969358444213867,
          0.9387013912200928,
          0.9999999403953552,
          0.47050008177757263,
          0.9583943486213684,
          0.529711127281189,
          0.5476647615432739,
          0.44381511211395264,
          0.6025670170783997,
          0.8499287366867065,
          0.9142348766326904,
          0.5768008232116699,
          0.6022394895553589,
          0.9853947162628174,
          0.9964467287063599,
          0.5933656692504883,
          0.9893155097961426,
          0.9731916189193726,
          0.9704018831253052,
          0.9049142003059387,
          0.7576083540916443,
          0.9669265747070312,
          0.3902735114097595,
          0.8249772787094116,
          0.96523118019104,
          0.5327969789505005,
          0.39290863275527954,
          0.857408881187439,
          0.7908006310462952,
          0.4156274199485779,
          0.9963797330856323,
          0.9498676657676697,
          0.8216890692710876,
          0.8546560406684875,
          0.865622878074646,
          1.000000238418579,
          0.4826314151287079,
          1,
          0.33194708824157715,
          0.6489369869232178,
          0.965259313583374,
          0.5388938188552856,
          0.9690898656845093,
          0.325908899307251,
          0.7621439695358276,
          0.5851465463638306,
          0.9050546884536743,
          0.9330875873565674,
          0.8271498680114746,
          0.5852994918823242,
          1,
          0.904833197593689,
          0.8229400515556335,
          1.0000001192092896,
          0.9574596285820007,
          0.9772313833236694,
          0.9826411008834839,
          0.2740507125854492,
          0.7616087198257446,
          0.5122472643852234,
          0.9702168107032776,
          0.9674429893493652,
          0.9420522451400757,
          1.0000001192092896,
          0.7044352889060974,
          0.5590549111366272
         ],
         "y": [
          0.6003402471542358,
          0.8676134347915649,
          0.9385789036750793,
          0.9620341658592224,
          0.9121701717376709,
          0.8828895092010498,
          0.8847764730453491,
          0.8443692922592163,
          0.5392993092536926,
          0.7784312963485718,
          0.9896489381790161,
          0.8530164957046509,
          0.9121538996696472,
          0.9885540008544922,
          0.7412214279174805,
          0.8033069968223572,
          0.8997634649276733,
          0.7085273265838623,
          0.9314150810241699,
          0.78743976354599,
          0.9626191854476929,
          1.000000238418579,
          0.9603261351585388,
          0.6845155954360962,
          0.959320604801178,
          0.8581247925758362,
          0.3988940715789795,
          0.8202451467514038,
          0.8870338797569275,
          0.9844009876251221,
          0.472647100687027,
          0.9608778357505798,
          0.7146049737930298,
          0.7251002788543701,
          0.9969358444213867,
          0.9387013912200928,
          0.9999999403953552,
          0.47050008177757263,
          0.9583943486213684,
          0.529711127281189,
          0.5476647615432739,
          0.44381511211395264,
          0.6025670170783997,
          0.8499287366867065,
          0.9142348766326904,
          0.5768008232116699,
          0.6022394895553589,
          0.9853947162628174,
          0.9964467287063599,
          0.5933656692504883,
          0.9893155097961426,
          0.9731916189193726,
          0.9704018831253052,
          0.9049142003059387,
          0.7576083540916443,
          0.9669265747070312,
          0.3902735114097595,
          0.8249772787094116,
          0.96523118019104,
          0.5327969789505005,
          0.39290863275527954,
          0.857408881187439,
          0.7908006310462952,
          0.4156274199485779,
          0.9963797330856323,
          0.9498676657676697,
          0.8216890692710876,
          0.8546560406684875,
          0.865622878074646,
          1.000000238418579,
          0.4826314151287079,
          1,
          0.33194708824157715,
          0.6489369869232178,
          0.965259313583374,
          0.5388938188552856,
          0.9690898656845093,
          0.325908899307251,
          0.7621439695358276,
          0.5851465463638306,
          0.9050546884536743,
          0.9330875873565674,
          0.8271498680114746,
          0.5852994918823242,
          1,
          0.904833197593689,
          0.8229400515556335,
          1.0000001192092896,
          0.9574596285820007,
          0.9772313833236694,
          0.9826411008834839,
          0.2740507125854492,
          0.7616087198257446,
          0.5122472643852234,
          0.9702168107032776,
          0.9674429893493652,
          0.9420522451400757,
          1.0000001192092896,
          0.7044352889060974,
          0.5590549111366272
         ]
        },
        {
         "histfunc": "count",
         "name": "two words sentences",
         "type": "histogram",
         "x": [
          0.5138582587242126,
          1,
          0.9799060821533203,
          0.9999998807907104,
          1,
          0.8706889152526855,
          0.8826024532318115,
          0.786861777305603,
          0.9978639483451843,
          0.7818455696105957,
          0.9259976148605347,
          0.9400407075881958,
          0.5066134333610535,
          0.9297782182693481,
          0.5452806949615479,
          0.9887059926986694,
          0.9489870667457581,
          1,
          0.9830228686332703,
          0.49811169505119324,
          0.8346251249313354,
          0.9857969880104065,
          0.6256700754165649,
          0.3020176589488983,
          1,
          0.9358317255973816,
          0.9916423559188843,
          0.994107723236084,
          0.613884687423706,
          0.8472775220870972,
          0.8980165719985962,
          1,
          0.9861574172973633,
          0.9072284698486328,
          0.674614667892456,
          1.000000238418579,
          0.5321136713027954,
          0.3302042484283447,
          0.6209735870361328,
          0.3143094778060913,
          0.7818455696105957,
          0.7607707381248474,
          0.7676067352294922,
          0.8438361883163452,
          0.8404281139373779,
          0.9248730540275574,
          0.9893503189086914,
          0.7116458415985107,
          0.5887472629547119,
          0.8962914943695068,
          0.9906388521194458,
          0.9982415437698364,
          0.5009782314300537,
          0.7385768890380859,
          0.45058852434158325,
          0.8787667751312256,
          0.8360936641693115,
          0.9716107845306396,
          0.8513097763061523,
          0.9965469837188721,
          0.8673207759857178,
          0.7137738466262817,
          0.6602516770362854,
          0.6769329905509949,
          0.978615403175354,
          0.5483654737472534,
          0.6914790868759155,
          0.28941377997398376,
          0.782681941986084,
          0.592159628868103,
          0.7135016918182373,
          0.9999998807907104,
          0.9824227094650269,
          0.927627682685852,
          0.9693765044212341,
          0.3921946883201599,
          0.9463151693344116,
          0.5607951879501343,
          0.5347029566764832,
          0.6609516143798828,
          0.7527173757553101,
          0.7752097845077515,
          0.6617781519889832,
          0.8980954885482788,
          0.334485799074173,
          0.6234726905822754,
          0.9164924621582031,
          0.9453717470169067,
          0.4494825601577759,
          0.8185276985168457,
          0.8340417146682739,
          0.7668406963348389,
          0.4998401701450348,
          0.9342703819274902,
          0.9578883647918701,
          0.9710811376571655,
          0.8343967795372009,
          0.5347029566764832,
          0.9734815955162048,
          0.7875163555145264
         ],
         "y": [
          0.5138582587242126,
          1,
          0.9799060821533203,
          0.9999998807907104,
          1,
          0.8706889152526855,
          0.8826024532318115,
          0.786861777305603,
          0.9978639483451843,
          0.7818455696105957,
          0.9259976148605347,
          0.9400407075881958,
          0.5066134333610535,
          0.9297782182693481,
          0.5452806949615479,
          0.9887059926986694,
          0.9489870667457581,
          1,
          0.9830228686332703,
          0.49811169505119324,
          0.8346251249313354,
          0.9857969880104065,
          0.6256700754165649,
          0.3020176589488983,
          1,
          0.9358317255973816,
          0.9916423559188843,
          0.994107723236084,
          0.613884687423706,
          0.8472775220870972,
          0.8980165719985962,
          1,
          0.9861574172973633,
          0.9072284698486328,
          0.674614667892456,
          1.000000238418579,
          0.5321136713027954,
          0.3302042484283447,
          0.6209735870361328,
          0.3143094778060913,
          0.7818455696105957,
          0.7607707381248474,
          0.7676067352294922,
          0.8438361883163452,
          0.8404281139373779,
          0.9248730540275574,
          0.9893503189086914,
          0.7116458415985107,
          0.5887472629547119,
          0.8962914943695068,
          0.9906388521194458,
          0.9982415437698364,
          0.5009782314300537,
          0.7385768890380859,
          0.45058852434158325,
          0.8787667751312256,
          0.8360936641693115,
          0.9716107845306396,
          0.8513097763061523,
          0.9965469837188721,
          0.8673207759857178,
          0.7137738466262817,
          0.6602516770362854,
          0.6769329905509949,
          0.978615403175354,
          0.5483654737472534,
          0.6914790868759155,
          0.28941377997398376,
          0.782681941986084,
          0.592159628868103,
          0.7135016918182373,
          0.9999998807907104,
          0.9824227094650269,
          0.927627682685852,
          0.9693765044212341,
          0.3921946883201599,
          0.9463151693344116,
          0.5607951879501343,
          0.5347029566764832,
          0.6609516143798828,
          0.7527173757553101,
          0.7752097845077515,
          0.6617781519889832,
          0.8980954885482788,
          0.334485799074173,
          0.6234726905822754,
          0.9164924621582031,
          0.9453717470169067,
          0.4494825601577759,
          0.8185276985168457,
          0.8340417146682739,
          0.7668406963348389,
          0.4998401701450348,
          0.9342703819274902,
          0.9578883647918701,
          0.9710811376571655,
          0.8343967795372009,
          0.5347029566764832,
          0.9734815955162048,
          0.7875163555145264
         ]
        },
        {
         "histfunc": "count",
         "name": "One word sentences",
         "type": "histogram",
         "x": [
          0.8856703042984009,
          0.7980146408081055,
          0.7258920073509216,
          0.6768054962158203,
          1,
          0.8409910202026367,
          0.9513050317764282,
          0.706678032875061,
          0.7054896950721741,
          0.5264849066734314,
          0.9132909178733826,
          0.8409993648529053,
          0.9507207870483398,
          0.9443386793136597,
          0.8516219258308411,
          1,
          0.9912242889404297,
          0.9341317415237427,
          0.9182873964309692,
          0.9052188396453857,
          0.7526390552520752,
          1,
          0.9605642557144165,
          0.8554357886314392,
          0.711711049079895,
          0.6617124676704407,
          0.9167681932449341,
          0.5628024339675903,
          0.9912242889404297,
          0.9691421985626221,
          0.9999998807907104,
          0.8463515043258667,
          0.5097287893295288,
          0.9118488430976868,
          0.748238205909729,
          0.7998113036155701,
          1.000000238418579,
          0.9847387075424194,
          0.9671240448951721,
          0.6557479500770569,
          0.8499196767807007,
          0.9999999403953552,
          0.8554911613464355,
          0.772251307964325,
          0.35711097717285156,
          0.9161810874938965,
          0.904062807559967,
          0.9484055042266846,
          0.5912002921104431,
          0.524109959602356,
          0.4086383283138275,
          1.0000001192092896,
          0.891082763671875,
          0.9999999403953552,
          0.7684717178344727,
          0.9484055042266846,
          0.8352854251861572,
          0.8539360165596008,
          0.9847387075424194,
          0.8928293585777283,
          0.8335599899291992,
          0.9614319801330566,
          0.9713799953460693,
          0.6010522842407227,
          0.9828010201454163,
          1,
          0.9999999403953552,
          0.6228457689285278,
          1,
          0.9078938961029053,
          0.9999998807907104,
          0.8402714729309082,
          0.9056341648101807,
          0.9350801706314087,
          0.8107750415802002,
          1,
          0.9677137732505798,
          0.9999998807907104,
          0.8733487725257874,
          0.3944084048271179,
          0.9809484481811523,
          0.8452669382095337,
          0.995261549949646,
          0.9154475927352905,
          0.9570203423500061,
          0.7311993837356567,
          0.9858816862106323,
          0.8554332256317139,
          0.865480899810791,
          0.9556741714477539,
          0.8296944499015808,
          1,
          0.5368188619613647,
          1,
          0.92669677734375,
          0.8411833047866821,
          0.933674693107605,
          0.7526390552520752,
          0.9396387338638306,
          0.9999998807907104
         ],
         "y": [
          0.8856703042984009,
          0.7980146408081055,
          0.7258920073509216,
          0.6768054962158203,
          1,
          0.8409910202026367,
          0.9513050317764282,
          0.706678032875061,
          0.7054896950721741,
          0.5264849066734314,
          0.9132909178733826,
          0.8409993648529053,
          0.9507207870483398,
          0.9443386793136597,
          0.8516219258308411,
          1,
          0.9912242889404297,
          0.9341317415237427,
          0.9182873964309692,
          0.9052188396453857,
          0.7526390552520752,
          1,
          0.9605642557144165,
          0.8554357886314392,
          0.711711049079895,
          0.6617124676704407,
          0.9167681932449341,
          0.5628024339675903,
          0.9912242889404297,
          0.9691421985626221,
          0.9999998807907104,
          0.8463515043258667,
          0.5097287893295288,
          0.9118488430976868,
          0.748238205909729,
          0.7998113036155701,
          1.000000238418579,
          0.9847387075424194,
          0.9671240448951721,
          0.6557479500770569,
          0.8499196767807007,
          0.9999999403953552,
          0.8554911613464355,
          0.772251307964325,
          0.35711097717285156,
          0.9161810874938965,
          0.904062807559967,
          0.9484055042266846,
          0.5912002921104431,
          0.524109959602356,
          0.4086383283138275,
          1.0000001192092896,
          0.891082763671875,
          0.9999999403953552,
          0.7684717178344727,
          0.9484055042266846,
          0.8352854251861572,
          0.8539360165596008,
          0.9847387075424194,
          0.8928293585777283,
          0.8335599899291992,
          0.9614319801330566,
          0.9713799953460693,
          0.6010522842407227,
          0.9828010201454163,
          1,
          0.9999999403953552,
          0.6228457689285278,
          1,
          0.9078938961029053,
          0.9999998807907104,
          0.8402714729309082,
          0.9056341648101807,
          0.9350801706314087,
          0.8107750415802002,
          1,
          0.9677137732505798,
          0.9999998807907104,
          0.8733487725257874,
          0.3944084048271179,
          0.9809484481811523,
          0.8452669382095337,
          0.995261549949646,
          0.9154475927352905,
          0.9570203423500061,
          0.7311993837356567,
          0.9858816862106323,
          0.8554332256317139,
          0.865480899810791,
          0.9556741714477539,
          0.8296944499015808,
          1,
          0.5368188619613647,
          1,
          0.92669677734375,
          0.8411833047866821,
          0.933674693107605,
          0.7526390552520752,
          0.9396387338638306,
          0.9999998807907104
         ]
        }
       ],
       "layout": {
        "template": {
         "data": {
          "bar": [
           {
            "error_x": {
             "color": "#2a3f5f"
            },
            "error_y": {
             "color": "#2a3f5f"
            },
            "marker": {
             "line": {
              "color": "#E5ECF6",
              "width": 0.5
             },
             "pattern": {
              "fillmode": "overlay",
              "size": 10,
              "solidity": 0.2
             }
            },
            "type": "bar"
           }
          ],
          "barpolar": [
           {
            "marker": {
             "line": {
              "color": "#E5ECF6",
              "width": 0.5
             },
             "pattern": {
              "fillmode": "overlay",
              "size": 10,
              "solidity": 0.2
             }
            },
            "type": "barpolar"
           }
          ],
          "carpet": [
           {
            "aaxis": {
             "endlinecolor": "#2a3f5f",
             "gridcolor": "white",
             "linecolor": "white",
             "minorgridcolor": "white",
             "startlinecolor": "#2a3f5f"
            },
            "baxis": {
             "endlinecolor": "#2a3f5f",
             "gridcolor": "white",
             "linecolor": "white",
             "minorgridcolor": "white",
             "startlinecolor": "#2a3f5f"
            },
            "type": "carpet"
           }
          ],
          "choropleth": [
           {
            "colorbar": {
             "outlinewidth": 0,
             "ticks": ""
            },
            "type": "choropleth"
           }
          ],
          "contour": [
           {
            "colorbar": {
             "outlinewidth": 0,
             "ticks": ""
            },
            "colorscale": [
             [
              0,
              "#0d0887"
             ],
             [
              0.1111111111111111,
              "#46039f"
             ],
             [
              0.2222222222222222,
              "#7201a8"
             ],
             [
              0.3333333333333333,
              "#9c179e"
             ],
             [
              0.4444444444444444,
              "#bd3786"
             ],
             [
              0.5555555555555556,
              "#d8576b"
             ],
             [
              0.6666666666666666,
              "#ed7953"
             ],
             [
              0.7777777777777778,
              "#fb9f3a"
             ],
             [
              0.8888888888888888,
              "#fdca26"
             ],
             [
              1,
              "#f0f921"
             ]
            ],
            "type": "contour"
           }
          ],
          "contourcarpet": [
           {
            "colorbar": {
             "outlinewidth": 0,
             "ticks": ""
            },
            "type": "contourcarpet"
           }
          ],
          "heatmap": [
           {
            "colorbar": {
             "outlinewidth": 0,
             "ticks": ""
            },
            "colorscale": [
             [
              0,
              "#0d0887"
             ],
             [
              0.1111111111111111,
              "#46039f"
             ],
             [
              0.2222222222222222,
              "#7201a8"
             ],
             [
              0.3333333333333333,
              "#9c179e"
             ],
             [
              0.4444444444444444,
              "#bd3786"
             ],
             [
              0.5555555555555556,
              "#d8576b"
             ],
             [
              0.6666666666666666,
              "#ed7953"
             ],
             [
              0.7777777777777778,
              "#fb9f3a"
             ],
             [
              0.8888888888888888,
              "#fdca26"
             ],
             [
              1,
              "#f0f921"
             ]
            ],
            "type": "heatmap"
           }
          ],
          "heatmapgl": [
           {
            "colorbar": {
             "outlinewidth": 0,
             "ticks": ""
            },
            "colorscale": [
             [
              0,
              "#0d0887"
             ],
             [
              0.1111111111111111,
              "#46039f"
             ],
             [
              0.2222222222222222,
              "#7201a8"
             ],
             [
              0.3333333333333333,
              "#9c179e"
             ],
             [
              0.4444444444444444,
              "#bd3786"
             ],
             [
              0.5555555555555556,
              "#d8576b"
             ],
             [
              0.6666666666666666,
              "#ed7953"
             ],
             [
              0.7777777777777778,
              "#fb9f3a"
             ],
             [
              0.8888888888888888,
              "#fdca26"
             ],
             [
              1,
              "#f0f921"
             ]
            ],
            "type": "heatmapgl"
           }
          ],
          "histogram": [
           {
            "marker": {
             "pattern": {
              "fillmode": "overlay",
              "size": 10,
              "solidity": 0.2
             }
            },
            "type": "histogram"
           }
          ],
          "histogram2d": [
           {
            "colorbar": {
             "outlinewidth": 0,
             "ticks": ""
            },
            "colorscale": [
             [
              0,
              "#0d0887"
             ],
             [
              0.1111111111111111,
              "#46039f"
             ],
             [
              0.2222222222222222,
              "#7201a8"
             ],
             [
              0.3333333333333333,
              "#9c179e"
             ],
             [
              0.4444444444444444,
              "#bd3786"
             ],
             [
              0.5555555555555556,
              "#d8576b"
             ],
             [
              0.6666666666666666,
              "#ed7953"
             ],
             [
              0.7777777777777778,
              "#fb9f3a"
             ],
             [
              0.8888888888888888,
              "#fdca26"
             ],
             [
              1,
              "#f0f921"
             ]
            ],
            "type": "histogram2d"
           }
          ],
          "histogram2dcontour": [
           {
            "colorbar": {
             "outlinewidth": 0,
             "ticks": ""
            },
            "colorscale": [
             [
              0,
              "#0d0887"
             ],
             [
              0.1111111111111111,
              "#46039f"
             ],
             [
              0.2222222222222222,
              "#7201a8"
             ],
             [
              0.3333333333333333,
              "#9c179e"
             ],
             [
              0.4444444444444444,
              "#bd3786"
             ],
             [
              0.5555555555555556,
              "#d8576b"
             ],
             [
              0.6666666666666666,
              "#ed7953"
             ],
             [
              0.7777777777777778,
              "#fb9f3a"
             ],
             [
              0.8888888888888888,
              "#fdca26"
             ],
             [
              1,
              "#f0f921"
             ]
            ],
            "type": "histogram2dcontour"
           }
          ],
          "mesh3d": [
           {
            "colorbar": {
             "outlinewidth": 0,
             "ticks": ""
            },
            "type": "mesh3d"
           }
          ],
          "parcoords": [
           {
            "line": {
             "colorbar": {
              "outlinewidth": 0,
              "ticks": ""
             }
            },
            "type": "parcoords"
           }
          ],
          "pie": [
           {
            "automargin": true,
            "type": "pie"
           }
          ],
          "scatter": [
           {
            "fillpattern": {
             "fillmode": "overlay",
             "size": 10,
             "solidity": 0.2
            },
            "type": "scatter"
           }
          ],
          "scatter3d": [
           {
            "line": {
             "colorbar": {
              "outlinewidth": 0,
              "ticks": ""
             }
            },
            "marker": {
             "colorbar": {
              "outlinewidth": 0,
              "ticks": ""
             }
            },
            "type": "scatter3d"
           }
          ],
          "scattercarpet": [
           {
            "marker": {
             "colorbar": {
              "outlinewidth": 0,
              "ticks": ""
             }
            },
            "type": "scattercarpet"
           }
          ],
          "scattergeo": [
           {
            "marker": {
             "colorbar": {
              "outlinewidth": 0,
              "ticks": ""
             }
            },
            "type": "scattergeo"
           }
          ],
          "scattergl": [
           {
            "marker": {
             "colorbar": {
              "outlinewidth": 0,
              "ticks": ""
             }
            },
            "type": "scattergl"
           }
          ],
          "scattermapbox": [
           {
            "marker": {
             "colorbar": {
              "outlinewidth": 0,
              "ticks": ""
             }
            },
            "type": "scattermapbox"
           }
          ],
          "scatterpolar": [
           {
            "marker": {
             "colorbar": {
              "outlinewidth": 0,
              "ticks": ""
             }
            },
            "type": "scatterpolar"
           }
          ],
          "scatterpolargl": [
           {
            "marker": {
             "colorbar": {
              "outlinewidth": 0,
              "ticks": ""
             }
            },
            "type": "scatterpolargl"
           }
          ],
          "scatterternary": [
           {
            "marker": {
             "colorbar": {
              "outlinewidth": 0,
              "ticks": ""
             }
            },
            "type": "scatterternary"
           }
          ],
          "surface": [
           {
            "colorbar": {
             "outlinewidth": 0,
             "ticks": ""
            },
            "colorscale": [
             [
              0,
              "#0d0887"
             ],
             [
              0.1111111111111111,
              "#46039f"
             ],
             [
              0.2222222222222222,
              "#7201a8"
             ],
             [
              0.3333333333333333,
              "#9c179e"
             ],
             [
              0.4444444444444444,
              "#bd3786"
             ],
             [
              0.5555555555555556,
              "#d8576b"
             ],
             [
              0.6666666666666666,
              "#ed7953"
             ],
             [
              0.7777777777777778,
              "#fb9f3a"
             ],
             [
              0.8888888888888888,
              "#fdca26"
             ],
             [
              1,
              "#f0f921"
             ]
            ],
            "type": "surface"
           }
          ],
          "table": [
           {
            "cells": {
             "fill": {
              "color": "#EBF0F8"
             },
             "line": {
              "color": "white"
             }
            },
            "header": {
             "fill": {
              "color": "#C8D4E3"
             },
             "line": {
              "color": "white"
             }
            },
            "type": "table"
           }
          ]
         },
         "layout": {
          "annotationdefaults": {
           "arrowcolor": "#2a3f5f",
           "arrowhead": 0,
           "arrowwidth": 1
          },
          "autotypenumbers": "strict",
          "coloraxis": {
           "colorbar": {
            "outlinewidth": 0,
            "ticks": ""
           }
          },
          "colorscale": {
           "diverging": [
            [
             0,
             "#8e0152"
            ],
            [
             0.1,
             "#c51b7d"
            ],
            [
             0.2,
             "#de77ae"
            ],
            [
             0.3,
             "#f1b6da"
            ],
            [
             0.4,
             "#fde0ef"
            ],
            [
             0.5,
             "#f7f7f7"
            ],
            [
             0.6,
             "#e6f5d0"
            ],
            [
             0.7,
             "#b8e186"
            ],
            [
             0.8,
             "#7fbc41"
            ],
            [
             0.9,
             "#4d9221"
            ],
            [
             1,
             "#276419"
            ]
           ],
           "sequential": [
            [
             0,
             "#0d0887"
            ],
            [
             0.1111111111111111,
             "#46039f"
            ],
            [
             0.2222222222222222,
             "#7201a8"
            ],
            [
             0.3333333333333333,
             "#9c179e"
            ],
            [
             0.4444444444444444,
             "#bd3786"
            ],
            [
             0.5555555555555556,
             "#d8576b"
            ],
            [
             0.6666666666666666,
             "#ed7953"
            ],
            [
             0.7777777777777778,
             "#fb9f3a"
            ],
            [
             0.8888888888888888,
             "#fdca26"
            ],
            [
             1,
             "#f0f921"
            ]
           ],
           "sequentialminus": [
            [
             0,
             "#0d0887"
            ],
            [
             0.1111111111111111,
             "#46039f"
            ],
            [
             0.2222222222222222,
             "#7201a8"
            ],
            [
             0.3333333333333333,
             "#9c179e"
            ],
            [
             0.4444444444444444,
             "#bd3786"
            ],
            [
             0.5555555555555556,
             "#d8576b"
            ],
            [
             0.6666666666666666,
             "#ed7953"
            ],
            [
             0.7777777777777778,
             "#fb9f3a"
            ],
            [
             0.8888888888888888,
             "#fdca26"
            ],
            [
             1,
             "#f0f921"
            ]
           ]
          },
          "colorway": [
           "#636efa",
           "#EF553B",
           "#00cc96",
           "#ab63fa",
           "#FFA15A",
           "#19d3f3",
           "#FF6692",
           "#B6E880",
           "#FF97FF",
           "#FECB52"
          ],
          "font": {
           "color": "#2a3f5f"
          },
          "geo": {
           "bgcolor": "white",
           "lakecolor": "white",
           "landcolor": "#E5ECF6",
           "showlakes": true,
           "showland": true,
           "subunitcolor": "white"
          },
          "hoverlabel": {
           "align": "left"
          },
          "hovermode": "closest",
          "mapbox": {
           "style": "light"
          },
          "paper_bgcolor": "white",
          "plot_bgcolor": "#E5ECF6",
          "polar": {
           "angularaxis": {
            "gridcolor": "white",
            "linecolor": "white",
            "ticks": ""
           },
           "bgcolor": "#E5ECF6",
           "radialaxis": {
            "gridcolor": "white",
            "linecolor": "white",
            "ticks": ""
           }
          },
          "scene": {
           "xaxis": {
            "backgroundcolor": "#E5ECF6",
            "gridcolor": "white",
            "gridwidth": 2,
            "linecolor": "white",
            "showbackground": true,
            "ticks": "",
            "zerolinecolor": "white"
           },
           "yaxis": {
            "backgroundcolor": "#E5ECF6",
            "gridcolor": "white",
            "gridwidth": 2,
            "linecolor": "white",
            "showbackground": true,
            "ticks": "",
            "zerolinecolor": "white"
           },
           "zaxis": {
            "backgroundcolor": "#E5ECF6",
            "gridcolor": "white",
            "gridwidth": 2,
            "linecolor": "white",
            "showbackground": true,
            "ticks": "",
            "zerolinecolor": "white"
           }
          },
          "shapedefaults": {
           "line": {
            "color": "#2a3f5f"
           }
          },
          "ternary": {
           "aaxis": {
            "gridcolor": "white",
            "linecolor": "white",
            "ticks": ""
           },
           "baxis": {
            "gridcolor": "white",
            "linecolor": "white",
            "ticks": ""
           },
           "bgcolor": "#E5ECF6",
           "caxis": {
            "gridcolor": "white",
            "linecolor": "white",
            "ticks": ""
           }
          },
          "title": {
           "x": 0.05
          },
          "xaxis": {
           "automargin": true,
           "gridcolor": "white",
           "linecolor": "white",
           "ticks": "",
           "title": {
            "standoff": 15
           },
           "zerolinecolor": "white",
           "zerolinewidth": 2
          },
          "yaxis": {
           "automargin": true,
           "gridcolor": "white",
           "linecolor": "white",
           "ticks": "",
           "title": {
            "standoff": 15
           },
           "zerolinecolor": "white",
           "zerolinewidth": 2
          }
         }
        }
       }
      }
     },
     "metadata": {},
     "output_type": "display_data"
    }
   ],
   "source": [
    "fig = go.Figure()\n",
    "\n",
    "\n",
    "fig.add_trace(go.Histogram(histfunc=\"count\", y=percentages_more, x=percentages_more, name=\"five or more words sentences\"))\n",
    "fig.add_trace(go.Histogram(histfunc=\"count\", y=percentages_four, x=percentages_four, name=\"four words sentences\"))\n",
    "\n",
    "fig.add_trace(go.Histogram(histfunc=\"count\", y=percentages_three, x=percentages_three, name=\"three words sentences\"))\n",
    "\n",
    "fig.add_trace(go.Histogram(histfunc=\"count\", y=percentages_two, x=percentages_two, name=\"two words sentences\"))\n",
    "\n",
    "fig.add_trace(go.Histogram(histfunc=\"count\", y=percentages_one, x=percentages_one, name=\"One word sentences\"))\n",
    "\n",
    "fig.show()\n"
   ]
  },
  {
   "cell_type": "code",
   "execution_count": null,
   "metadata": {},
   "outputs": [
    {
     "data": {
      "text/html": [
       "<div>\n",
       "<style scoped>\n",
       "    .dataframe tbody tr th:only-of-type {\n",
       "        vertical-align: middle;\n",
       "    }\n",
       "\n",
       "    .dataframe tbody tr th {\n",
       "        vertical-align: top;\n",
       "    }\n",
       "\n",
       "    .dataframe thead th {\n",
       "        text-align: right;\n",
       "    }\n",
       "</style>\n",
       "<table border=\"1\" class=\"dataframe\">\n",
       "  <thead>\n",
       "    <tr style=\"text-align: right;\">\n",
       "      <th></th>\n",
       "      <th>one-word sentence</th>\n",
       "      <th>two-word sentence</th>\n",
       "      <th>three-word sentence</th>\n",
       "      <th>four-word sentence</th>\n",
       "      <th>more-word sentence</th>\n",
       "    </tr>\n",
       "  </thead>\n",
       "  <tbody>\n",
       "    <tr>\n",
       "      <th>count</th>\n",
       "      <td>100.000000</td>\n",
       "      <td>100.000000</td>\n",
       "      <td>100.000000</td>\n",
       "      <td>100.000000</td>\n",
       "      <td>100.000000</td>\n",
       "    </tr>\n",
       "    <tr>\n",
       "      <th>mean</th>\n",
       "      <td>0.856310</td>\n",
       "      <td>0.785520</td>\n",
       "      <td>0.796383</td>\n",
       "      <td>0.764565</td>\n",
       "      <td>0.758909</td>\n",
       "    </tr>\n",
       "    <tr>\n",
       "      <th>std</th>\n",
       "      <td>0.153636</td>\n",
       "      <td>0.200931</td>\n",
       "      <td>0.199964</td>\n",
       "      <td>0.195680</td>\n",
       "      <td>0.177533</td>\n",
       "    </tr>\n",
       "    <tr>\n",
       "      <th>min</th>\n",
       "      <td>0.357111</td>\n",
       "      <td>0.289414</td>\n",
       "      <td>0.274051</td>\n",
       "      <td>0.235010</td>\n",
       "      <td>0.309545</td>\n",
       "    </tr>\n",
       "    <tr>\n",
       "      <th>25%</th>\n",
       "      <td>0.799362</td>\n",
       "      <td>0.651606</td>\n",
       "      <td>0.637344</td>\n",
       "      <td>0.633295</td>\n",
       "      <td>0.645923</td>\n",
       "    </tr>\n",
       "    <tr>\n",
       "      <th>50%</th>\n",
       "      <td>0.906764</td>\n",
       "      <td>0.838261</td>\n",
       "      <td>0.861874</td>\n",
       "      <td>0.818046</td>\n",
       "      <td>0.788951</td>\n",
       "    </tr>\n",
       "    <tr>\n",
       "      <th>75%</th>\n",
       "      <td>0.973772</td>\n",
       "      <td>0.969803</td>\n",
       "      <td>0.963272</td>\n",
       "      <td>0.937074</td>\n",
       "      <td>0.910225</td>\n",
       "    </tr>\n",
       "    <tr>\n",
       "      <th>max</th>\n",
       "      <td>1.000000</td>\n",
       "      <td>1.000000</td>\n",
       "      <td>1.000000</td>\n",
       "      <td>1.000000</td>\n",
       "      <td>0.996637</td>\n",
       "    </tr>\n",
       "  </tbody>\n",
       "</table>\n",
       "</div>"
      ],
      "text/plain": [
       "       one-word sentence  two-word sentence  three-word sentence  \\\n",
       "count         100.000000         100.000000           100.000000   \n",
       "mean            0.856310           0.785520             0.796383   \n",
       "std             0.153636           0.200931             0.199964   \n",
       "min             0.357111           0.289414             0.274051   \n",
       "25%             0.799362           0.651606             0.637344   \n",
       "50%             0.906764           0.838261             0.861874   \n",
       "75%             0.973772           0.969803             0.963272   \n",
       "max             1.000000           1.000000             1.000000   \n",
       "\n",
       "       four-word sentence  more-word sentence  \n",
       "count          100.000000          100.000000  \n",
       "mean             0.764565            0.758909  \n",
       "std              0.195680            0.177533  \n",
       "min              0.235010            0.309545  \n",
       "25%              0.633295            0.645923  \n",
       "50%              0.818046            0.788951  \n",
       "75%              0.937074            0.910225  \n",
       "max              1.000000            0.996637  "
      ]
     },
     "execution_count": 32,
     "metadata": {},
     "output_type": "execute_result"
    }
   ],
   "source": [
    "percentages = pd.DataFrame()\n",
    "percentages['one-word sentence'] = percentages_one\n",
    "percentages['two-word sentence'] = percentages_two\n",
    "percentages['three-word sentence'] = percentages_three\n",
    "percentages['four-word sentence'] = percentages_four\n",
    "percentages['more-word sentence'] = percentages_more\n",
    "percentages.describe()"
   ]
  },
  {
   "cell_type": "code",
   "execution_count": null,
   "metadata": {},
   "outputs": [
    {
     "data": {
      "application/vnd.plotly.v1+json": {
       "config": {
        "plotlyServerURL": "https://plot.ly"
       },
       "data": [
        {
         "name": "One word sentences",
         "type": "box",
         "y": [
          0.8856703042984009,
          0.7980146408081055,
          0.7258920073509216,
          0.6768054962158203,
          1,
          0.8409910202026367,
          0.9513050317764282,
          0.706678032875061,
          0.7054896950721741,
          0.5264849066734314,
          0.9132909178733826,
          0.8409993648529053,
          0.9507207870483398,
          0.9443386793136597,
          0.8516219258308411,
          1,
          0.9912242889404297,
          0.9341317415237427,
          0.9182873964309692,
          0.9052188396453857,
          0.7526390552520752,
          1,
          0.9605642557144165,
          0.8554357886314392,
          0.711711049079895,
          0.6617124676704407,
          0.9167681932449341,
          0.5628024339675903,
          0.9912242889404297,
          0.9691421985626221,
          0.9999998807907104,
          0.8463515043258667,
          0.5097287893295288,
          0.9118488430976868,
          0.748238205909729,
          0.7998113036155701,
          1.000000238418579,
          0.9847387075424194,
          0.9671240448951721,
          0.6557479500770569,
          0.8499196767807007,
          0.9999999403953552,
          0.8554911613464355,
          0.772251307964325,
          0.35711097717285156,
          0.9161810874938965,
          0.904062807559967,
          0.9484055042266846,
          0.5912002921104431,
          0.524109959602356,
          0.4086383283138275,
          1.0000001192092896,
          0.891082763671875,
          0.9999999403953552,
          0.7684717178344727,
          0.9484055042266846,
          0.8352854251861572,
          0.8539360165596008,
          0.9847387075424194,
          0.8928293585777283,
          0.8335599899291992,
          0.9614319801330566,
          0.9713799953460693,
          0.6010522842407227,
          0.9828010201454163,
          1,
          0.9999999403953552,
          0.6228457689285278,
          1,
          0.9078938961029053,
          0.9999998807907104,
          0.8402714729309082,
          0.9056341648101807,
          0.9350801706314087,
          0.8107750415802002,
          1,
          0.9677137732505798,
          0.9999998807907104,
          0.8733487725257874,
          0.3944084048271179,
          0.9809484481811523,
          0.8452669382095337,
          0.995261549949646,
          0.9154475927352905,
          0.9570203423500061,
          0.7311993837356567,
          0.9858816862106323,
          0.8554332256317139,
          0.865480899810791,
          0.9556741714477539,
          0.8296944499015808,
          1,
          0.5368188619613647,
          1,
          0.92669677734375,
          0.8411833047866821,
          0.933674693107605,
          0.7526390552520752,
          0.9396387338638306,
          0.9999998807907104
         ]
        },
        {
         "name": "Two words sentences",
         "type": "box",
         "y": [
          0.5138582587242126,
          1,
          0.9799060821533203,
          0.9999998807907104,
          1,
          0.8706889152526855,
          0.8826024532318115,
          0.786861777305603,
          0.9978639483451843,
          0.7818455696105957,
          0.9259976148605347,
          0.9400407075881958,
          0.5066134333610535,
          0.9297782182693481,
          0.5452806949615479,
          0.9887059926986694,
          0.9489870667457581,
          1,
          0.9830228686332703,
          0.49811169505119324,
          0.8346251249313354,
          0.9857969880104065,
          0.6256700754165649,
          0.3020176589488983,
          1,
          0.9358317255973816,
          0.9916423559188843,
          0.994107723236084,
          0.613884687423706,
          0.8472775220870972,
          0.8980165719985962,
          1,
          0.9861574172973633,
          0.9072284698486328,
          0.674614667892456,
          1.000000238418579,
          0.5321136713027954,
          0.3302042484283447,
          0.6209735870361328,
          0.3143094778060913,
          0.7818455696105957,
          0.7607707381248474,
          0.7676067352294922,
          0.8438361883163452,
          0.8404281139373779,
          0.9248730540275574,
          0.9893503189086914,
          0.7116458415985107,
          0.5887472629547119,
          0.8962914943695068,
          0.9906388521194458,
          0.9982415437698364,
          0.5009782314300537,
          0.7385768890380859,
          0.45058852434158325,
          0.8787667751312256,
          0.8360936641693115,
          0.9716107845306396,
          0.8513097763061523,
          0.9965469837188721,
          0.8673207759857178,
          0.7137738466262817,
          0.6602516770362854,
          0.6769329905509949,
          0.978615403175354,
          0.5483654737472534,
          0.6914790868759155,
          0.28941377997398376,
          0.782681941986084,
          0.592159628868103,
          0.7135016918182373,
          0.9999998807907104,
          0.9824227094650269,
          0.927627682685852,
          0.9693765044212341,
          0.3921946883201599,
          0.9463151693344116,
          0.5607951879501343,
          0.5347029566764832,
          0.6609516143798828,
          0.7527173757553101,
          0.7752097845077515,
          0.6617781519889832,
          0.8980954885482788,
          0.334485799074173,
          0.6234726905822754,
          0.9164924621582031,
          0.9453717470169067,
          0.4494825601577759,
          0.8185276985168457,
          0.8340417146682739,
          0.7668406963348389,
          0.4998401701450348,
          0.9342703819274902,
          0.9578883647918701,
          0.9710811376571655,
          0.8343967795372009,
          0.5347029566764832,
          0.9734815955162048,
          0.7875163555145264
         ]
        },
        {
         "name": "Three words sentences",
         "type": "box",
         "y": [
          0.6003402471542358,
          0.8676134347915649,
          0.9385789036750793,
          0.9620341658592224,
          0.9121701717376709,
          0.8828895092010498,
          0.8847764730453491,
          0.8443692922592163,
          0.5392993092536926,
          0.7784312963485718,
          0.9896489381790161,
          0.8530164957046509,
          0.9121538996696472,
          0.9885540008544922,
          0.7412214279174805,
          0.8033069968223572,
          0.8997634649276733,
          0.7085273265838623,
          0.9314150810241699,
          0.78743976354599,
          0.9626191854476929,
          1.000000238418579,
          0.9603261351585388,
          0.6845155954360962,
          0.959320604801178,
          0.8581247925758362,
          0.3988940715789795,
          0.8202451467514038,
          0.8870338797569275,
          0.9844009876251221,
          0.472647100687027,
          0.9608778357505798,
          0.7146049737930298,
          0.7251002788543701,
          0.9969358444213867,
          0.9387013912200928,
          0.9999999403953552,
          0.47050008177757263,
          0.9583943486213684,
          0.529711127281189,
          0.5476647615432739,
          0.44381511211395264,
          0.6025670170783997,
          0.8499287366867065,
          0.9142348766326904,
          0.5768008232116699,
          0.6022394895553589,
          0.9853947162628174,
          0.9964467287063599,
          0.5933656692504883,
          0.9893155097961426,
          0.9731916189193726,
          0.9704018831253052,
          0.9049142003059387,
          0.7576083540916443,
          0.9669265747070312,
          0.3902735114097595,
          0.8249772787094116,
          0.96523118019104,
          0.5327969789505005,
          0.39290863275527954,
          0.857408881187439,
          0.7908006310462952,
          0.4156274199485779,
          0.9963797330856323,
          0.9498676657676697,
          0.8216890692710876,
          0.8546560406684875,
          0.865622878074646,
          1.000000238418579,
          0.4826314151287079,
          1,
          0.33194708824157715,
          0.6489369869232178,
          0.965259313583374,
          0.5388938188552856,
          0.9690898656845093,
          0.325908899307251,
          0.7621439695358276,
          0.5851465463638306,
          0.9050546884536743,
          0.9330875873565674,
          0.8271498680114746,
          0.5852994918823242,
          1,
          0.904833197593689,
          0.8229400515556335,
          1.0000001192092896,
          0.9574596285820007,
          0.9772313833236694,
          0.9826411008834839,
          0.2740507125854492,
          0.7616087198257446,
          0.5122472643852234,
          0.9702168107032776,
          0.9674429893493652,
          0.9420522451400757,
          1.0000001192092896,
          0.7044352889060974,
          0.5590549111366272
         ]
        },
        {
         "name": "Four words sentences",
         "type": "box",
         "y": [
          0.8204952478408813,
          0.9954919219017029,
          0.7224154472351074,
          0.7749122977256775,
          0.7334334850311279,
          0.8784036636352539,
          0.9690334796905518,
          0.5942057967185974,
          0.538862407207489,
          0.564704179763794,
          0.9999998211860657,
          0.7358789443969727,
          0.9377734661102295,
          0.5288787484169006,
          0.9731781482696533,
          0.9823958873748779,
          0.863921582698822,
          0.8361274003982544,
          0.6060925722122192,
          0.7888438701629639,
          0.641865611076355,
          0.8428723812103271,
          0.7267018556594849,
          0.9445934295654297,
          0.8873851895332336,
          0.7742223739624023,
          0.6404811143875122,
          0.8025707602500916,
          0.8779840469360352,
          0.9105703830718994,
          0.9953484535217285,
          0.9463354349136353,
          0.4526141285896301,
          1.0000001192092896,
          0.4315333366394043,
          0.9744455814361572,
          0.8275699615478516,
          0.6550195813179016,
          0.9658012986183167,
          0.6356275677680969,
          0.699978768825531,
          0.5744662284851074,
          0.5707961916923523,
          0.42231959104537964,
          0.9788373112678528,
          0.8575552105903625,
          0.8835423588752747,
          0.8845282793045044,
          0.6432321071624756,
          0.8286691904067993,
          0.9878545999526978,
          0.4494694471359253,
          0.36461082100868225,
          0.9048649072647095,
          0.5465314388275146,
          0.7134480476379395,
          0.4219823181629181,
          0.9071093797683716,
          0.9596904516220093,
          0.825931191444397,
          0.9999999403953552,
          0.9108773469924927,
          0.7455747127532959,
          0.23500996828079224,
          0.6096082925796509,
          0.851122260093689,
          0.43929561972618103,
          0.9807577133178711,
          0.9758718609809875,
          0.8155975341796875,
          0.24016784131526947,
          0.8432139754295349,
          0.9129856824874878,
          0.9629610776901245,
          0.6155885457992554,
          0.6818892955780029,
          0.6211636066436768,
          0.7585533857345581,
          1,
          0.9715295433998108,
          0.8322221040725708,
          0.8330907225608826,
          0.941562831401825,
          0.6262955665588379,
          0.9524637460708618,
          0.9464210271835327,
          0.9368414878845215,
          0.6391712427139282,
          0.8051483035087585,
          0.776290774345398,
          0.8976322412490845,
          0.8029484748840332,
          0.2509816288948059,
          0.4437313973903656,
          0.7633282542228699,
          0.9191732406616211,
          0.545712947845459,
          0.46567249298095703,
          0.9582091569900513,
          0.7438509464263916
         ]
        },
        {
         "name": "Five or more words sentences",
         "type": "box",
         "y": [
          0.9954628944396973,
          0.9090670347213745,
          0.8316942453384399,
          0.7726014852523804,
          0.9428467154502869,
          0.9804149866104126,
          0.7680052518844604,
          0.7289944887161255,
          0.8965433835983276,
          0.4812873601913452,
          0.8659319281578064,
          0.6916226148605347,
          0.7437702417373657,
          0.8973007202148438,
          0.7892184853553772,
          0.6477631330490112,
          0.7064960598945618,
          0.5744451880455017,
          0.9779132604598999,
          0.7944455146789551,
          0.34538885951042175,
          0.6997802257537842,
          0.5858756303787231,
          0.9136996269226074,
          0.42335861921310425,
          0.8097768425941467,
          0.7465651035308838,
          0.9045407772064209,
          0.9391235709190369,
          0.7752883434295654,
          0.9662508368492126,
          0.9629773497581482,
          0.9149705171585083,
          0.942345142364502,
          0.42184701561927795,
          0.9966368675231934,
          0.9706597924232483,
          0.4123254418373108,
          0.6212825179100037,
          0.7384856939315796,
          0.9423909187316895,
          0.8764917254447937,
          0.4676293432712555,
          0.6108021140098572,
          0.959183931350708,
          0.7992242574691772,
          0.8603125810623169,
          0.9308223128318787,
          0.8656849265098572,
          0.8351198434829712,
          0.4600380063056946,
          0.4047940969467163,
          0.9239951372146606,
          0.3886496424674988,
          0.988108217716217,
          0.8856349587440491,
          0.9249295592308044,
          0.6404023766517639,
          0.8017411231994629,
          0.6263993978500366,
          0.6567772030830383,
          0.4699060320854187,
          0.9678633213043213,
          0.6319473385810852,
          0.8787714242935181,
          0.495143324136734,
          0.6736692190170288,
          0.48943182826042175,
          0.7845466136932373,
          0.7650549411773682,
          0.8096985816955566,
          0.8456286191940308,
          0.7866989374160767,
          0.5296571254730225,
          0.7337199449539185,
          0.9484390616416931,
          0.9605785608291626,
          0.6840813159942627,
          0.769047737121582,
          0.5684312582015991,
          0.5771564245223999,
          0.7999135255813599,
          0.8034199476242065,
          0.8333230018615723,
          0.9268672466278076,
          0.9776244759559631,
          0.30954521894454956,
          0.6820317506790161,
          0.7886826992034912,
          0.925531804561615,
          0.7283368706703186,
          0.8640395402908325,
          0.6894960403442383,
          0.4499136209487915,
          0.9674643278121948,
          0.8464885950088501,
          0.7779917120933533,
          0.9045600295066833,
          0.6939793825149536,
          0.6161180734634399
         ]
        }
       ],
       "layout": {
        "boxmode": "group",
        "template": {
         "data": {
          "bar": [
           {
            "error_x": {
             "color": "#2a3f5f"
            },
            "error_y": {
             "color": "#2a3f5f"
            },
            "marker": {
             "line": {
              "color": "#E5ECF6",
              "width": 0.5
             },
             "pattern": {
              "fillmode": "overlay",
              "size": 10,
              "solidity": 0.2
             }
            },
            "type": "bar"
           }
          ],
          "barpolar": [
           {
            "marker": {
             "line": {
              "color": "#E5ECF6",
              "width": 0.5
             },
             "pattern": {
              "fillmode": "overlay",
              "size": 10,
              "solidity": 0.2
             }
            },
            "type": "barpolar"
           }
          ],
          "carpet": [
           {
            "aaxis": {
             "endlinecolor": "#2a3f5f",
             "gridcolor": "white",
             "linecolor": "white",
             "minorgridcolor": "white",
             "startlinecolor": "#2a3f5f"
            },
            "baxis": {
             "endlinecolor": "#2a3f5f",
             "gridcolor": "white",
             "linecolor": "white",
             "minorgridcolor": "white",
             "startlinecolor": "#2a3f5f"
            },
            "type": "carpet"
           }
          ],
          "choropleth": [
           {
            "colorbar": {
             "outlinewidth": 0,
             "ticks": ""
            },
            "type": "choropleth"
           }
          ],
          "contour": [
           {
            "colorbar": {
             "outlinewidth": 0,
             "ticks": ""
            },
            "colorscale": [
             [
              0,
              "#0d0887"
             ],
             [
              0.1111111111111111,
              "#46039f"
             ],
             [
              0.2222222222222222,
              "#7201a8"
             ],
             [
              0.3333333333333333,
              "#9c179e"
             ],
             [
              0.4444444444444444,
              "#bd3786"
             ],
             [
              0.5555555555555556,
              "#d8576b"
             ],
             [
              0.6666666666666666,
              "#ed7953"
             ],
             [
              0.7777777777777778,
              "#fb9f3a"
             ],
             [
              0.8888888888888888,
              "#fdca26"
             ],
             [
              1,
              "#f0f921"
             ]
            ],
            "type": "contour"
           }
          ],
          "contourcarpet": [
           {
            "colorbar": {
             "outlinewidth": 0,
             "ticks": ""
            },
            "type": "contourcarpet"
           }
          ],
          "heatmap": [
           {
            "colorbar": {
             "outlinewidth": 0,
             "ticks": ""
            },
            "colorscale": [
             [
              0,
              "#0d0887"
             ],
             [
              0.1111111111111111,
              "#46039f"
             ],
             [
              0.2222222222222222,
              "#7201a8"
             ],
             [
              0.3333333333333333,
              "#9c179e"
             ],
             [
              0.4444444444444444,
              "#bd3786"
             ],
             [
              0.5555555555555556,
              "#d8576b"
             ],
             [
              0.6666666666666666,
              "#ed7953"
             ],
             [
              0.7777777777777778,
              "#fb9f3a"
             ],
             [
              0.8888888888888888,
              "#fdca26"
             ],
             [
              1,
              "#f0f921"
             ]
            ],
            "type": "heatmap"
           }
          ],
          "heatmapgl": [
           {
            "colorbar": {
             "outlinewidth": 0,
             "ticks": ""
            },
            "colorscale": [
             [
              0,
              "#0d0887"
             ],
             [
              0.1111111111111111,
              "#46039f"
             ],
             [
              0.2222222222222222,
              "#7201a8"
             ],
             [
              0.3333333333333333,
              "#9c179e"
             ],
             [
              0.4444444444444444,
              "#bd3786"
             ],
             [
              0.5555555555555556,
              "#d8576b"
             ],
             [
              0.6666666666666666,
              "#ed7953"
             ],
             [
              0.7777777777777778,
              "#fb9f3a"
             ],
             [
              0.8888888888888888,
              "#fdca26"
             ],
             [
              1,
              "#f0f921"
             ]
            ],
            "type": "heatmapgl"
           }
          ],
          "histogram": [
           {
            "marker": {
             "pattern": {
              "fillmode": "overlay",
              "size": 10,
              "solidity": 0.2
             }
            },
            "type": "histogram"
           }
          ],
          "histogram2d": [
           {
            "colorbar": {
             "outlinewidth": 0,
             "ticks": ""
            },
            "colorscale": [
             [
              0,
              "#0d0887"
             ],
             [
              0.1111111111111111,
              "#46039f"
             ],
             [
              0.2222222222222222,
              "#7201a8"
             ],
             [
              0.3333333333333333,
              "#9c179e"
             ],
             [
              0.4444444444444444,
              "#bd3786"
             ],
             [
              0.5555555555555556,
              "#d8576b"
             ],
             [
              0.6666666666666666,
              "#ed7953"
             ],
             [
              0.7777777777777778,
              "#fb9f3a"
             ],
             [
              0.8888888888888888,
              "#fdca26"
             ],
             [
              1,
              "#f0f921"
             ]
            ],
            "type": "histogram2d"
           }
          ],
          "histogram2dcontour": [
           {
            "colorbar": {
             "outlinewidth": 0,
             "ticks": ""
            },
            "colorscale": [
             [
              0,
              "#0d0887"
             ],
             [
              0.1111111111111111,
              "#46039f"
             ],
             [
              0.2222222222222222,
              "#7201a8"
             ],
             [
              0.3333333333333333,
              "#9c179e"
             ],
             [
              0.4444444444444444,
              "#bd3786"
             ],
             [
              0.5555555555555556,
              "#d8576b"
             ],
             [
              0.6666666666666666,
              "#ed7953"
             ],
             [
              0.7777777777777778,
              "#fb9f3a"
             ],
             [
              0.8888888888888888,
              "#fdca26"
             ],
             [
              1,
              "#f0f921"
             ]
            ],
            "type": "histogram2dcontour"
           }
          ],
          "mesh3d": [
           {
            "colorbar": {
             "outlinewidth": 0,
             "ticks": ""
            },
            "type": "mesh3d"
           }
          ],
          "parcoords": [
           {
            "line": {
             "colorbar": {
              "outlinewidth": 0,
              "ticks": ""
             }
            },
            "type": "parcoords"
           }
          ],
          "pie": [
           {
            "automargin": true,
            "type": "pie"
           }
          ],
          "scatter": [
           {
            "fillpattern": {
             "fillmode": "overlay",
             "size": 10,
             "solidity": 0.2
            },
            "type": "scatter"
           }
          ],
          "scatter3d": [
           {
            "line": {
             "colorbar": {
              "outlinewidth": 0,
              "ticks": ""
             }
            },
            "marker": {
             "colorbar": {
              "outlinewidth": 0,
              "ticks": ""
             }
            },
            "type": "scatter3d"
           }
          ],
          "scattercarpet": [
           {
            "marker": {
             "colorbar": {
              "outlinewidth": 0,
              "ticks": ""
             }
            },
            "type": "scattercarpet"
           }
          ],
          "scattergeo": [
           {
            "marker": {
             "colorbar": {
              "outlinewidth": 0,
              "ticks": ""
             }
            },
            "type": "scattergeo"
           }
          ],
          "scattergl": [
           {
            "marker": {
             "colorbar": {
              "outlinewidth": 0,
              "ticks": ""
             }
            },
            "type": "scattergl"
           }
          ],
          "scattermapbox": [
           {
            "marker": {
             "colorbar": {
              "outlinewidth": 0,
              "ticks": ""
             }
            },
            "type": "scattermapbox"
           }
          ],
          "scatterpolar": [
           {
            "marker": {
             "colorbar": {
              "outlinewidth": 0,
              "ticks": ""
             }
            },
            "type": "scatterpolar"
           }
          ],
          "scatterpolargl": [
           {
            "marker": {
             "colorbar": {
              "outlinewidth": 0,
              "ticks": ""
             }
            },
            "type": "scatterpolargl"
           }
          ],
          "scatterternary": [
           {
            "marker": {
             "colorbar": {
              "outlinewidth": 0,
              "ticks": ""
             }
            },
            "type": "scatterternary"
           }
          ],
          "surface": [
           {
            "colorbar": {
             "outlinewidth": 0,
             "ticks": ""
            },
            "colorscale": [
             [
              0,
              "#0d0887"
             ],
             [
              0.1111111111111111,
              "#46039f"
             ],
             [
              0.2222222222222222,
              "#7201a8"
             ],
             [
              0.3333333333333333,
              "#9c179e"
             ],
             [
              0.4444444444444444,
              "#bd3786"
             ],
             [
              0.5555555555555556,
              "#d8576b"
             ],
             [
              0.6666666666666666,
              "#ed7953"
             ],
             [
              0.7777777777777778,
              "#fb9f3a"
             ],
             [
              0.8888888888888888,
              "#fdca26"
             ],
             [
              1,
              "#f0f921"
             ]
            ],
            "type": "surface"
           }
          ],
          "table": [
           {
            "cells": {
             "fill": {
              "color": "#EBF0F8"
             },
             "line": {
              "color": "white"
             }
            },
            "header": {
             "fill": {
              "color": "#C8D4E3"
             },
             "line": {
              "color": "white"
             }
            },
            "type": "table"
           }
          ]
         },
         "layout": {
          "annotationdefaults": {
           "arrowcolor": "#2a3f5f",
           "arrowhead": 0,
           "arrowwidth": 1
          },
          "autotypenumbers": "strict",
          "coloraxis": {
           "colorbar": {
            "outlinewidth": 0,
            "ticks": ""
           }
          },
          "colorscale": {
           "diverging": [
            [
             0,
             "#8e0152"
            ],
            [
             0.1,
             "#c51b7d"
            ],
            [
             0.2,
             "#de77ae"
            ],
            [
             0.3,
             "#f1b6da"
            ],
            [
             0.4,
             "#fde0ef"
            ],
            [
             0.5,
             "#f7f7f7"
            ],
            [
             0.6,
             "#e6f5d0"
            ],
            [
             0.7,
             "#b8e186"
            ],
            [
             0.8,
             "#7fbc41"
            ],
            [
             0.9,
             "#4d9221"
            ],
            [
             1,
             "#276419"
            ]
           ],
           "sequential": [
            [
             0,
             "#0d0887"
            ],
            [
             0.1111111111111111,
             "#46039f"
            ],
            [
             0.2222222222222222,
             "#7201a8"
            ],
            [
             0.3333333333333333,
             "#9c179e"
            ],
            [
             0.4444444444444444,
             "#bd3786"
            ],
            [
             0.5555555555555556,
             "#d8576b"
            ],
            [
             0.6666666666666666,
             "#ed7953"
            ],
            [
             0.7777777777777778,
             "#fb9f3a"
            ],
            [
             0.8888888888888888,
             "#fdca26"
            ],
            [
             1,
             "#f0f921"
            ]
           ],
           "sequentialminus": [
            [
             0,
             "#0d0887"
            ],
            [
             0.1111111111111111,
             "#46039f"
            ],
            [
             0.2222222222222222,
             "#7201a8"
            ],
            [
             0.3333333333333333,
             "#9c179e"
            ],
            [
             0.4444444444444444,
             "#bd3786"
            ],
            [
             0.5555555555555556,
             "#d8576b"
            ],
            [
             0.6666666666666666,
             "#ed7953"
            ],
            [
             0.7777777777777778,
             "#fb9f3a"
            ],
            [
             0.8888888888888888,
             "#fdca26"
            ],
            [
             1,
             "#f0f921"
            ]
           ]
          },
          "colorway": [
           "#636efa",
           "#EF553B",
           "#00cc96",
           "#ab63fa",
           "#FFA15A",
           "#19d3f3",
           "#FF6692",
           "#B6E880",
           "#FF97FF",
           "#FECB52"
          ],
          "font": {
           "color": "#2a3f5f"
          },
          "geo": {
           "bgcolor": "white",
           "lakecolor": "white",
           "landcolor": "#E5ECF6",
           "showlakes": true,
           "showland": true,
           "subunitcolor": "white"
          },
          "hoverlabel": {
           "align": "left"
          },
          "hovermode": "closest",
          "mapbox": {
           "style": "light"
          },
          "paper_bgcolor": "white",
          "plot_bgcolor": "#E5ECF6",
          "polar": {
           "angularaxis": {
            "gridcolor": "white",
            "linecolor": "white",
            "ticks": ""
           },
           "bgcolor": "#E5ECF6",
           "radialaxis": {
            "gridcolor": "white",
            "linecolor": "white",
            "ticks": ""
           }
          },
          "scene": {
           "xaxis": {
            "backgroundcolor": "#E5ECF6",
            "gridcolor": "white",
            "gridwidth": 2,
            "linecolor": "white",
            "showbackground": true,
            "ticks": "",
            "zerolinecolor": "white"
           },
           "yaxis": {
            "backgroundcolor": "#E5ECF6",
            "gridcolor": "white",
            "gridwidth": 2,
            "linecolor": "white",
            "showbackground": true,
            "ticks": "",
            "zerolinecolor": "white"
           },
           "zaxis": {
            "backgroundcolor": "#E5ECF6",
            "gridcolor": "white",
            "gridwidth": 2,
            "linecolor": "white",
            "showbackground": true,
            "ticks": "",
            "zerolinecolor": "white"
           }
          },
          "shapedefaults": {
           "line": {
            "color": "#2a3f5f"
           }
          },
          "ternary": {
           "aaxis": {
            "gridcolor": "white",
            "linecolor": "white",
            "ticks": ""
           },
           "baxis": {
            "gridcolor": "white",
            "linecolor": "white",
            "ticks": ""
           },
           "bgcolor": "#E5ECF6",
           "caxis": {
            "gridcolor": "white",
            "linecolor": "white",
            "ticks": ""
           }
          },
          "title": {
           "x": 0.05
          },
          "xaxis": {
           "automargin": true,
           "gridcolor": "white",
           "linecolor": "white",
           "ticks": "",
           "title": {
            "standoff": 15
           },
           "zerolinecolor": "white",
           "zerolinewidth": 2
          },
          "yaxis": {
           "automargin": true,
           "gridcolor": "white",
           "linecolor": "white",
           "ticks": "",
           "title": {
            "standoff": 15
           },
           "zerolinecolor": "white",
           "zerolinewidth": 2
          }
         }
        },
        "title": {
         "text": "Box Plot of Similarity Scores for all the prompts."
        },
        "xaxis": {
         "title": {
          "text": "Prompt"
         }
        },
        "yaxis": {
         "title": {
          "text": "Similarity Score"
         }
        }
       }
      }
     },
     "metadata": {},
     "output_type": "display_data"
    }
   ],
   "source": [
    "import plotly.graph_objects as go\n",
    "fig = go.Figure()\n",
    "\n",
    "fig.add_trace(go.Box(y=percentages['one-word sentence'], name='One word sentences'))\n",
    "fig.add_trace(go.Box(y=percentages['two-word sentence'], name='Two words sentences'))\n",
    "fig.add_trace(go.Box(y=percentages['three-word sentence'], name='Three words sentences'))\n",
    "fig.add_trace(go.Box(y=percentages['four-word sentence'], name='Four words sentences'))\n",
    "fig.add_trace(go.Box(y=percentages['more-word sentence'], name='Five or more words sentences'))\n",
    "\n",
    "# Update layout\n",
    "fig.update_layout(\n",
    "    title='Box Plot of Similarity Scores for all the prompts.',\n",
    "    yaxis_title='Similarity Score',\n",
    "    xaxis_title='Prompt',\n",
    "    boxmode='group'\n",
    ")\n",
    "\n",
    "# Show plot\n",
    "fig.show()"
   ]
  },
  {
   "cell_type": "code",
   "execution_count": null,
   "metadata": {},
   "outputs": [
    {
     "name": "stdout",
     "output_type": "stream",
     "text": [
      "      means Longitude in input from sentences prompt type\n",
      "0  0.856310                 one-word sentence     English\n",
      "1  0.785520                 two-word sentence     English\n",
      "2  0.796383               three-word sentence     English\n",
      "3  0.764565                four-word sentence     English\n",
      "4  0.758909                more-word sentence     English\n"
     ]
    },
    {
     "data": {
      "application/vnd.plotly.v1+json": {
       "config": {
        "plotlyServerURL": "https://plot.ly"
       },
       "data": [
        {
         "hovertemplate": "prompt type=English<br>Longitude in input from sentences=%{x}<br>means=%{y}<extra></extra>",
         "legendgroup": "English",
         "line": {
          "color": "#636efa",
          "dash": "solid"
         },
         "marker": {
          "symbol": "circle"
         },
         "mode": "lines+markers",
         "name": "English",
         "orientation": "v",
         "showlegend": true,
         "type": "scatter",
         "x": [
          "one-word sentence",
          "two-word sentence",
          "three-word sentence",
          "four-word sentence",
          "more-word sentence"
         ],
         "xaxis": "x",
         "y": [
          0.8563103130459786,
          0.7855196133255958,
          0.7963832405209541,
          0.7645652560889721,
          0.758909349143505
         ],
         "yaxis": "y"
        }
       ],
       "layout": {
        "legend": {
         "title": {
          "text": "prompt type"
         },
         "tracegroupgap": 0
        },
        "margin": {
         "t": 60
        },
        "template": {
         "data": {
          "bar": [
           {
            "error_x": {
             "color": "#2a3f5f"
            },
            "error_y": {
             "color": "#2a3f5f"
            },
            "marker": {
             "line": {
              "color": "#E5ECF6",
              "width": 0.5
             },
             "pattern": {
              "fillmode": "overlay",
              "size": 10,
              "solidity": 0.2
             }
            },
            "type": "bar"
           }
          ],
          "barpolar": [
           {
            "marker": {
             "line": {
              "color": "#E5ECF6",
              "width": 0.5
             },
             "pattern": {
              "fillmode": "overlay",
              "size": 10,
              "solidity": 0.2
             }
            },
            "type": "barpolar"
           }
          ],
          "carpet": [
           {
            "aaxis": {
             "endlinecolor": "#2a3f5f",
             "gridcolor": "white",
             "linecolor": "white",
             "minorgridcolor": "white",
             "startlinecolor": "#2a3f5f"
            },
            "baxis": {
             "endlinecolor": "#2a3f5f",
             "gridcolor": "white",
             "linecolor": "white",
             "minorgridcolor": "white",
             "startlinecolor": "#2a3f5f"
            },
            "type": "carpet"
           }
          ],
          "choropleth": [
           {
            "colorbar": {
             "outlinewidth": 0,
             "ticks": ""
            },
            "type": "choropleth"
           }
          ],
          "contour": [
           {
            "colorbar": {
             "outlinewidth": 0,
             "ticks": ""
            },
            "colorscale": [
             [
              0,
              "#0d0887"
             ],
             [
              0.1111111111111111,
              "#46039f"
             ],
             [
              0.2222222222222222,
              "#7201a8"
             ],
             [
              0.3333333333333333,
              "#9c179e"
             ],
             [
              0.4444444444444444,
              "#bd3786"
             ],
             [
              0.5555555555555556,
              "#d8576b"
             ],
             [
              0.6666666666666666,
              "#ed7953"
             ],
             [
              0.7777777777777778,
              "#fb9f3a"
             ],
             [
              0.8888888888888888,
              "#fdca26"
             ],
             [
              1,
              "#f0f921"
             ]
            ],
            "type": "contour"
           }
          ],
          "contourcarpet": [
           {
            "colorbar": {
             "outlinewidth": 0,
             "ticks": ""
            },
            "type": "contourcarpet"
           }
          ],
          "heatmap": [
           {
            "colorbar": {
             "outlinewidth": 0,
             "ticks": ""
            },
            "colorscale": [
             [
              0,
              "#0d0887"
             ],
             [
              0.1111111111111111,
              "#46039f"
             ],
             [
              0.2222222222222222,
              "#7201a8"
             ],
             [
              0.3333333333333333,
              "#9c179e"
             ],
             [
              0.4444444444444444,
              "#bd3786"
             ],
             [
              0.5555555555555556,
              "#d8576b"
             ],
             [
              0.6666666666666666,
              "#ed7953"
             ],
             [
              0.7777777777777778,
              "#fb9f3a"
             ],
             [
              0.8888888888888888,
              "#fdca26"
             ],
             [
              1,
              "#f0f921"
             ]
            ],
            "type": "heatmap"
           }
          ],
          "heatmapgl": [
           {
            "colorbar": {
             "outlinewidth": 0,
             "ticks": ""
            },
            "colorscale": [
             [
              0,
              "#0d0887"
             ],
             [
              0.1111111111111111,
              "#46039f"
             ],
             [
              0.2222222222222222,
              "#7201a8"
             ],
             [
              0.3333333333333333,
              "#9c179e"
             ],
             [
              0.4444444444444444,
              "#bd3786"
             ],
             [
              0.5555555555555556,
              "#d8576b"
             ],
             [
              0.6666666666666666,
              "#ed7953"
             ],
             [
              0.7777777777777778,
              "#fb9f3a"
             ],
             [
              0.8888888888888888,
              "#fdca26"
             ],
             [
              1,
              "#f0f921"
             ]
            ],
            "type": "heatmapgl"
           }
          ],
          "histogram": [
           {
            "marker": {
             "pattern": {
              "fillmode": "overlay",
              "size": 10,
              "solidity": 0.2
             }
            },
            "type": "histogram"
           }
          ],
          "histogram2d": [
           {
            "colorbar": {
             "outlinewidth": 0,
             "ticks": ""
            },
            "colorscale": [
             [
              0,
              "#0d0887"
             ],
             [
              0.1111111111111111,
              "#46039f"
             ],
             [
              0.2222222222222222,
              "#7201a8"
             ],
             [
              0.3333333333333333,
              "#9c179e"
             ],
             [
              0.4444444444444444,
              "#bd3786"
             ],
             [
              0.5555555555555556,
              "#d8576b"
             ],
             [
              0.6666666666666666,
              "#ed7953"
             ],
             [
              0.7777777777777778,
              "#fb9f3a"
             ],
             [
              0.8888888888888888,
              "#fdca26"
             ],
             [
              1,
              "#f0f921"
             ]
            ],
            "type": "histogram2d"
           }
          ],
          "histogram2dcontour": [
           {
            "colorbar": {
             "outlinewidth": 0,
             "ticks": ""
            },
            "colorscale": [
             [
              0,
              "#0d0887"
             ],
             [
              0.1111111111111111,
              "#46039f"
             ],
             [
              0.2222222222222222,
              "#7201a8"
             ],
             [
              0.3333333333333333,
              "#9c179e"
             ],
             [
              0.4444444444444444,
              "#bd3786"
             ],
             [
              0.5555555555555556,
              "#d8576b"
             ],
             [
              0.6666666666666666,
              "#ed7953"
             ],
             [
              0.7777777777777778,
              "#fb9f3a"
             ],
             [
              0.8888888888888888,
              "#fdca26"
             ],
             [
              1,
              "#f0f921"
             ]
            ],
            "type": "histogram2dcontour"
           }
          ],
          "mesh3d": [
           {
            "colorbar": {
             "outlinewidth": 0,
             "ticks": ""
            },
            "type": "mesh3d"
           }
          ],
          "parcoords": [
           {
            "line": {
             "colorbar": {
              "outlinewidth": 0,
              "ticks": ""
             }
            },
            "type": "parcoords"
           }
          ],
          "pie": [
           {
            "automargin": true,
            "type": "pie"
           }
          ],
          "scatter": [
           {
            "fillpattern": {
             "fillmode": "overlay",
             "size": 10,
             "solidity": 0.2
            },
            "type": "scatter"
           }
          ],
          "scatter3d": [
           {
            "line": {
             "colorbar": {
              "outlinewidth": 0,
              "ticks": ""
             }
            },
            "marker": {
             "colorbar": {
              "outlinewidth": 0,
              "ticks": ""
             }
            },
            "type": "scatter3d"
           }
          ],
          "scattercarpet": [
           {
            "marker": {
             "colorbar": {
              "outlinewidth": 0,
              "ticks": ""
             }
            },
            "type": "scattercarpet"
           }
          ],
          "scattergeo": [
           {
            "marker": {
             "colorbar": {
              "outlinewidth": 0,
              "ticks": ""
             }
            },
            "type": "scattergeo"
           }
          ],
          "scattergl": [
           {
            "marker": {
             "colorbar": {
              "outlinewidth": 0,
              "ticks": ""
             }
            },
            "type": "scattergl"
           }
          ],
          "scattermapbox": [
           {
            "marker": {
             "colorbar": {
              "outlinewidth": 0,
              "ticks": ""
             }
            },
            "type": "scattermapbox"
           }
          ],
          "scatterpolar": [
           {
            "marker": {
             "colorbar": {
              "outlinewidth": 0,
              "ticks": ""
             }
            },
            "type": "scatterpolar"
           }
          ],
          "scatterpolargl": [
           {
            "marker": {
             "colorbar": {
              "outlinewidth": 0,
              "ticks": ""
             }
            },
            "type": "scatterpolargl"
           }
          ],
          "scatterternary": [
           {
            "marker": {
             "colorbar": {
              "outlinewidth": 0,
              "ticks": ""
             }
            },
            "type": "scatterternary"
           }
          ],
          "surface": [
           {
            "colorbar": {
             "outlinewidth": 0,
             "ticks": ""
            },
            "colorscale": [
             [
              0,
              "#0d0887"
             ],
             [
              0.1111111111111111,
              "#46039f"
             ],
             [
              0.2222222222222222,
              "#7201a8"
             ],
             [
              0.3333333333333333,
              "#9c179e"
             ],
             [
              0.4444444444444444,
              "#bd3786"
             ],
             [
              0.5555555555555556,
              "#d8576b"
             ],
             [
              0.6666666666666666,
              "#ed7953"
             ],
             [
              0.7777777777777778,
              "#fb9f3a"
             ],
             [
              0.8888888888888888,
              "#fdca26"
             ],
             [
              1,
              "#f0f921"
             ]
            ],
            "type": "surface"
           }
          ],
          "table": [
           {
            "cells": {
             "fill": {
              "color": "#EBF0F8"
             },
             "line": {
              "color": "white"
             }
            },
            "header": {
             "fill": {
              "color": "#C8D4E3"
             },
             "line": {
              "color": "white"
             }
            },
            "type": "table"
           }
          ]
         },
         "layout": {
          "annotationdefaults": {
           "arrowcolor": "#2a3f5f",
           "arrowhead": 0,
           "arrowwidth": 1
          },
          "autotypenumbers": "strict",
          "coloraxis": {
           "colorbar": {
            "outlinewidth": 0,
            "ticks": ""
           }
          },
          "colorscale": {
           "diverging": [
            [
             0,
             "#8e0152"
            ],
            [
             0.1,
             "#c51b7d"
            ],
            [
             0.2,
             "#de77ae"
            ],
            [
             0.3,
             "#f1b6da"
            ],
            [
             0.4,
             "#fde0ef"
            ],
            [
             0.5,
             "#f7f7f7"
            ],
            [
             0.6,
             "#e6f5d0"
            ],
            [
             0.7,
             "#b8e186"
            ],
            [
             0.8,
             "#7fbc41"
            ],
            [
             0.9,
             "#4d9221"
            ],
            [
             1,
             "#276419"
            ]
           ],
           "sequential": [
            [
             0,
             "#0d0887"
            ],
            [
             0.1111111111111111,
             "#46039f"
            ],
            [
             0.2222222222222222,
             "#7201a8"
            ],
            [
             0.3333333333333333,
             "#9c179e"
            ],
            [
             0.4444444444444444,
             "#bd3786"
            ],
            [
             0.5555555555555556,
             "#d8576b"
            ],
            [
             0.6666666666666666,
             "#ed7953"
            ],
            [
             0.7777777777777778,
             "#fb9f3a"
            ],
            [
             0.8888888888888888,
             "#fdca26"
            ],
            [
             1,
             "#f0f921"
            ]
           ],
           "sequentialminus": [
            [
             0,
             "#0d0887"
            ],
            [
             0.1111111111111111,
             "#46039f"
            ],
            [
             0.2222222222222222,
             "#7201a8"
            ],
            [
             0.3333333333333333,
             "#9c179e"
            ],
            [
             0.4444444444444444,
             "#bd3786"
            ],
            [
             0.5555555555555556,
             "#d8576b"
            ],
            [
             0.6666666666666666,
             "#ed7953"
            ],
            [
             0.7777777777777778,
             "#fb9f3a"
            ],
            [
             0.8888888888888888,
             "#fdca26"
            ],
            [
             1,
             "#f0f921"
            ]
           ]
          },
          "colorway": [
           "#636efa",
           "#EF553B",
           "#00cc96",
           "#ab63fa",
           "#FFA15A",
           "#19d3f3",
           "#FF6692",
           "#B6E880",
           "#FF97FF",
           "#FECB52"
          ],
          "font": {
           "color": "#2a3f5f"
          },
          "geo": {
           "bgcolor": "white",
           "lakecolor": "white",
           "landcolor": "#E5ECF6",
           "showlakes": true,
           "showland": true,
           "subunitcolor": "white"
          },
          "hoverlabel": {
           "align": "left"
          },
          "hovermode": "closest",
          "mapbox": {
           "style": "light"
          },
          "paper_bgcolor": "white",
          "plot_bgcolor": "#E5ECF6",
          "polar": {
           "angularaxis": {
            "gridcolor": "white",
            "linecolor": "white",
            "ticks": ""
           },
           "bgcolor": "#E5ECF6",
           "radialaxis": {
            "gridcolor": "white",
            "linecolor": "white",
            "ticks": ""
           }
          },
          "scene": {
           "xaxis": {
            "backgroundcolor": "#E5ECF6",
            "gridcolor": "white",
            "gridwidth": 2,
            "linecolor": "white",
            "showbackground": true,
            "ticks": "",
            "zerolinecolor": "white"
           },
           "yaxis": {
            "backgroundcolor": "#E5ECF6",
            "gridcolor": "white",
            "gridwidth": 2,
            "linecolor": "white",
            "showbackground": true,
            "ticks": "",
            "zerolinecolor": "white"
           },
           "zaxis": {
            "backgroundcolor": "#E5ECF6",
            "gridcolor": "white",
            "gridwidth": 2,
            "linecolor": "white",
            "showbackground": true,
            "ticks": "",
            "zerolinecolor": "white"
           }
          },
          "shapedefaults": {
           "line": {
            "color": "#2a3f5f"
           }
          },
          "ternary": {
           "aaxis": {
            "gridcolor": "white",
            "linecolor": "white",
            "ticks": ""
           },
           "baxis": {
            "gridcolor": "white",
            "linecolor": "white",
            "ticks": ""
           },
           "bgcolor": "#E5ECF6",
           "caxis": {
            "gridcolor": "white",
            "linecolor": "white",
            "ticks": ""
           }
          },
          "title": {
           "x": 0.05
          },
          "xaxis": {
           "automargin": true,
           "gridcolor": "white",
           "linecolor": "white",
           "ticks": "",
           "title": {
            "standoff": 15
           },
           "zerolinecolor": "white",
           "zerolinewidth": 2
          },
          "yaxis": {
           "automargin": true,
           "gridcolor": "white",
           "linecolor": "white",
           "ticks": "",
           "title": {
            "standoff": 15
           },
           "zerolinecolor": "white",
           "zerolinewidth": 2
          }
         }
        },
        "xaxis": {
         "anchor": "y",
         "domain": [
          0,
          1
         ],
         "title": {
          "text": "Longitude in input from sentences"
         }
        },
        "yaxis": {
         "anchor": "x",
         "domain": [
          0,
          1
         ],
         "title": {
          "text": "means"
         }
        }
       }
      }
     },
     "metadata": {},
     "output_type": "display_data"
    }
   ],
   "source": [
    "import plotly.express as px\n",
    "\n",
    "averages = pd.DataFrame()\n",
    "eng_averages = pd.DataFrame()\n",
    "\n",
    "mean1= percentages['one-word sentence'].mean()\n",
    "mean2= percentages['two-word sentence'].mean()\n",
    "mean3= percentages['three-word sentence'].mean()\n",
    "mean4= percentages['four-word sentence'].mean()\n",
    "mean5= percentages['more-word sentence'].mean()\n",
    "\n",
    "\n",
    "averages['means'] = [mean1, mean2, mean3, mean4, mean5]\n",
    "averages['Longitude in input from sentences'] = ['one-word sentence', 'two-word sentence', 'three-word sentence', 'four-word sentence', 'more-word sentence']\n",
    "averages['prompt type'] = ['English', 'English', 'English', 'English', 'English',]\n",
    "print(averages)\n",
    "\n",
    "fig = px.line(averages, x=\"Longitude in input from sentences\", y=\"means\",  markers=True, color ='prompt type')\n",
    "fig.update_yaxes(range=[0, 1])\n",
    "\n",
    "fig.show()\n"
   ]
  }
 ],
 "metadata": {
  "kernelspec": {
   "display_name": "Python 3",
   "language": "python",
   "name": "python3"
  },
  "language_info": {
   "codemirror_mode": {
    "name": "ipython",
    "version": 3
   },
   "file_extension": ".py",
   "mimetype": "text/x-python",
   "name": "python",
   "nbconvert_exporter": "python",
   "pygments_lexer": "ipython3",
   "version": "3.11.8"
  }
 },
 "nbformat": 4,
 "nbformat_minor": 2
}
