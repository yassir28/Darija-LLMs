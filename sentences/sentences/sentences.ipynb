{
 "cells": [
  {
   "cell_type": "code",
   "execution_count": 1,
   "metadata": {},
   "outputs": [
    {
     "name": "stdout",
     "output_type": "stream",
     "text": [
      "Index(['darija', 'eng', 'darija_ar'], dtype='object')\n",
      "1\n",
      "Index(['darija', 'eng', 'darija_ar'], dtype='object')\n",
      "1\n",
      "Index(['darija', 'eng', 'darija_ar'], dtype='object')\n",
      "1\n",
      "Index(['darija', 'eng', 'darija_ar'], dtype='object')\n",
      "1\n",
      "Index(['darija', 'eng', 'darija_ar'], dtype='object')\n",
      "1\n",
      "Index(['darija', 'eng', 'darija_ar'], dtype='object')\n",
      "1\n",
      "Index(['darija', 'eng', 'darija_ar'], dtype='object')\n",
      "1\n",
      "Index(['darija', 'eng', 'darija_ar'], dtype='object')\n",
      "1\n",
      "Index(['darija', 'eng', 'darija_ar'], dtype='object')\n",
      "1\n",
      "Index(['darija', 'eng', 'darija_ar'], dtype='object')\n",
      "1\n",
      "Index(['darija', 'eng', 'darija_ar'], dtype='object')\n",
      "1\n",
      "Index(['darija', 'eng', 'darija_ar'], dtype='object')\n",
      "1\n",
      "Index(['darija', 'eng', 'darija_ar'], dtype='object')\n"
     ]
    }
   ],
   "source": [
    "from openai import OpenAI\n",
    "import pandas as pd\n",
    "client = OpenAI()\n",
    "df_one = pd.read_csv('word1.csv')\n",
    "df_two = pd.read_csv('word2.csv')\n",
    "df_three = pd.read_csv('word3.csv')\n",
    "df_four = pd.read_csv('word4.csv')\n",
    "df_five = pd.read_csv('word5.csv')\n",
    "df_six = pd.read_csv('word6.csv')\n",
    "df_seven = pd.read_csv('word7.csv')\n",
    "df_eight = pd.read_csv('word8.csv')\n",
    "df_nine = pd.read_csv('word9.csv')\n",
    "df_ten = pd.read_csv('word10.csv')\n",
    "df_eleven = pd.read_csv('word11.csv')\n",
    "df_twelve = pd.read_csv('word12.csv')\n",
    "df_thirteen = pd.read_csv('word13.csv')\n",
    "\n",
    "def one(stc):\n",
    "    completion = client.chat.completions.create(\n",
    "        model=\"gpt-3.5-turbo\",\n",
    "        messages=[\n",
    "            {\"role\": \"system\", \"content\":     \"You are an expert in Language translation from Moroccan Darija dialect to English. \" +\n",
    "             \"You will be provided with a short one word sentence in Moroccan Darija dialect, and your task is to translate it into a sentence in English with no explanations.\"},\n",
    "            #{\"role\": \"assistant\", \"content\": \"OK, I understand. I am ready to translate to English.\"},\n",
    "            {\"role\": \"user\", \"content\": \"لايسّر\"},\n",
    "            {\"role\": \"assistant\", \"content\": \"Good luck\"},\n",
    "            {\"role\": \"user\", \"content\":  f\"{stc}\" }\n",
    "            ], \n",
    "        temperature=0.1  # Deterministic responses\n",
    "        )\n",
    "    return completion.choices[0].message.content\n",
    "\n",
    "\n",
    "def two(stc):\n",
    "    completion = client.chat.completions.create(\n",
    "        model=\"gpt-3.5-turbo\",\n",
    "        messages=[\n",
    "            {\"role\": \"system\", \"content\":     \"You are an expert in Language translation from Moroccan Darija dialect to English. \" +\n",
    "             \"You will be provided with a short sentence in Moroccan Darija dialect, and your task is to translate it into a sentence in English with no explanations.\"},\n",
    "            #{\"role\": \"assistant\", \"content\": \"OK, I understand. I am ready to translate to English.\"},\n",
    "            {\"role\": \"user\", \"content\": \"هادشي موهيمّ\"},\n",
    "            {\"role\": \"assistant\", \"content\": \"It's so interesting\"},\n",
    "            {\"role\": \"user\", \"content\":  f\"{stc}\" }\n",
    "            ], \n",
    "        temperature=0.1  # Deterministic responses\n",
    "        )\n",
    "    return completion.choices[0].message.content\n",
    "\n",
    "\n",
    "def three(stc):\n",
    "    completion = client.chat.completions.create(\n",
    "        model=\"gpt-3.5-turbo\",\n",
    "        messages=[\n",
    "            {\"role\": \"system\", \"content\":     \"You are an expert in Language translation from Moroccan Darija dialect to English. \" +\n",
    "             \"You will be provided with a short one word sentence in Moroccan Darija dialect, and your task is to translate it into a sentence in English with no explanations.\"},\n",
    "            #{\"role\": \"assistant\", \"content\": \"OK, I understand. I am ready to translate to English.\"},\n",
    "            {\"role\": \"user\", \"content\": \"نسا عليا هادشي\"},\n",
    "            {\"role\": \"assistant\", \"content\": \"Forget about it\"},\n",
    "            {\"role\": \"user\", \"content\":  f\"{stc}\" }\n",
    "            ], \n",
    "        temperature=0.1  # Deterministic responses\n",
    "        )\n",
    "    return completion.choices[0].message.content\n",
    "\n",
    "\n",
    "\n",
    "def four(stc):\n",
    "    completion = client.chat.completions.create(\n",
    "        model=\"gpt-3.5-turbo\",\n",
    "        messages=[\n",
    "            {\"role\": \"system\", \"content\":     \"You are an expert in Language translation from Moroccan Darija dialect to English. \" +\n",
    "             \"You will be provided with a short sentence in Moroccan Darija dialect, and your task is to translate it into a sentence in English with no explanations.\"},\n",
    "            #{\"role\": \"assistant\", \"content\": \"OK, I understand. I am ready to translate to English.\"},\n",
    "            {\"role\": \"user\", \"content\": \"أرا ليا داك ساك\"},\n",
    "            {\"role\": \"assistant\", \"content\": \"hand me that bag\"},\n",
    "            {\"role\": \"user\", \"content\":  f\"{stc}\" }\n",
    "            ], \n",
    "        temperature=0.1  # Deterministic responses\n",
    "        )\n",
    "    return completion.choices[0].message.content\n",
    "\n",
    "\n",
    "def five(stc):\n",
    "    completion = client.chat.completions.create(\n",
    "        model=\"gpt-3.5-turbo\",\n",
    "        messages=[\n",
    "            {\"role\": \"system\", \"content\":     \"You are an expert in Language translation from Moroccan Darija dialect to English. \" +\n",
    "             \"You will be provided with a short sentence in Moroccan Darija dialect, and your task is to translate it into a sentence in English with no explanations.\"},\n",
    "            #{\"role\": \"assistant\", \"content\": \"OK, I understand. I am ready to translate to English.\"},\n",
    "            {\"role\": \"user\", \"content\": \"باينا هوما تايحاولو إبقاو مبرّدين\"},\n",
    "            {\"role\": \"assistant\", \"content\": \"It's obvious they're trying to keep their cool\"},\n",
    "            {\"role\": \"user\", \"content\":  f\"{stc}\" }\n",
    "            ], \n",
    "        temperature=0.1  # Deterministic responses\n",
    "        )\n",
    "    return completion.choices[0].message.content\n",
    "\n",
    "def six(stc):\n",
    "    completion = client.chat.completions.create(\n",
    "        model=\"gpt-3.5-turbo\",\n",
    "        messages=[\n",
    "            {\"role\": \"system\", \"content\":     \"You are an expert in Language translation from Moroccan Darija dialect to English. \" +\n",
    "             \"You will be provided with a short sentence in Moroccan Darija dialect, and your task is to translate it into a sentence in English with no explanations.\"},\n",
    "            #{\"role\": \"assistant\", \"content\": \"OK, I understand. I am ready to translate to English.\"},\n",
    "            {\"role\": \"user\", \"content\": \"شحال ت الناس كاينين ف إفران\"},\n",
    "            {\"role\": \"assistant\", \"content\": \"how many people are there in Ifran\"},\n",
    "            {\"role\": \"user\", \"content\":  f\"{stc}\" }\n",
    "            ], \n",
    "        temperature=0.1  # Deterministic responses\n",
    "        )\n",
    "    return completion.choices[0].message.content\n",
    "\n",
    "def seven(stc):\n",
    "    completion = client.chat.completions.create(\n",
    "        model=\"gpt-3.5-turbo\",\n",
    "        messages=[\n",
    "            {\"role\": \"system\", \"content\":     \"You are an expert in Language translation from Moroccan Darija dialect to English. \" +\n",
    "             \"You will be provided with a short sentence in Moroccan Darija dialect, and your task is to translate it into a sentence in English with no explanations.\"},\n",
    "            #{\"role\": \"assistant\", \"content\": \"OK, I understand. I am ready to translate to English.\"},\n",
    "            {\"role\": \"user\", \"content\": \"بان ليا راك عارف لخارج حسن منّي\"},\n",
    "            {\"role\": \"assistant\", \"content\": \"You look like you know the outdoors better than me\"},\n",
    "            {\"role\": \"user\", \"content\":  f\"{stc}\" }\n",
    "            ], \n",
    "        temperature=0.1  # Deterministic responses\n",
    "        )\n",
    "    return completion.choices[0].message.content\n",
    "\n",
    "def eight(stc):\n",
    "    completion = client.chat.completions.create(\n",
    "        model=\"gpt-3.5-turbo\",\n",
    "        messages=[\n",
    "            {\"role\": \"system\", \"content\":     \"You are an expert in Language translation from Moroccan Darija dialect to English. \" +\n",
    "             \"You will be provided with a short sentence in Moroccan Darija dialect, and your task is to translate it into a sentence in English with no explanations.\"},\n",
    "            #{\"role\": \"assistant\", \"content\": \"OK, I understand. I am ready to translate to English.\"},\n",
    "            {\"role\": \"user\", \"content\": \"مايمكنش ليك التيق ف الناسّ فل بلايسّ لمسدودين\"},\n",
    "            {\"role\": \"assistant\", \"content\": \"You can never trust people in confined spaces\"},\n",
    "            {\"role\": \"user\", \"content\":  f\"{stc}\" }\n",
    "            ], \n",
    "        temperature=0.1  # Deterministic responses\n",
    "        )\n",
    "    return completion.choices[0].message.content\n",
    "def nine(stc):\n",
    "    completion = client.chat.completions.create(\n",
    "        model=\"gpt-3.5-turbo\",\n",
    "        messages=[\n",
    "            {\"role\": \"system\", \"content\":     \"You are an expert in Language translation from Moroccan Darija dialect to English. \" +\n",
    "             \"You will be provided with a short sentence in Moroccan Darija dialect, and your task is to translate it into a sentence in English with no explanations.\"},\n",
    "            #{\"role\": \"assistant\", \"content\": \"OK, I understand. I am ready to translate to English.\"},\n",
    "            {\"role\": \"user\", \"content\": \"واش تقدر دير ليا كيكا ديال فروتا وتزاوقها بتلج\"},\n",
    "            {\"role\": \"assistant\", \"content\": \"Could you make me a fruit cake with icing decorations\"},\n",
    "            {\"role\": \"user\", \"content\":  f\"{stc}\" }\n",
    "            ], \n",
    "        temperature=0.1  # Deterministic responses\n",
    "        )\n",
    "    return completion.choices[0].message.content\n",
    "\n",
    "def ten(stc):\n",
    "    completion = client.chat.completions.create(\n",
    "        model=\"gpt-3.5-turbo\",\n",
    "        messages=[\n",
    "            {\"role\": \"system\", \"content\":     \"You are an expert in Language translation from Moroccan Darija dialect to English. \" +\n",
    "             \"You will be provided with a short sentence in Moroccan Darija dialect, and your task is to translate it into a sentence in English with no explanations.\"},\n",
    "            #{\"role\": \"assistant\", \"content\": \"OK, I understand. I am ready to translate to English.\"},\n",
    "            {\"role\": \"user\", \"content\": \"أه, حتا أنا كاتعجبني هاد ضايا معا لبط أُ لبجاع\"},\n",
    "            {\"role\": \"assistant\", \"content\": \"Yes, I also like this pond with the ducks and the swans\"},\n",
    "            {\"role\": \"user\", \"content\":  f\"{stc}\" }\n",
    "            ], \n",
    "        temperature=0.1  # Deterministic responses\n",
    "        )\n",
    "    return completion.choices[0].message.content\n",
    "def eleven(stc):\n",
    "    completion = client.chat.completions.create(\n",
    "        model=\"gpt-3.5-turbo\",\n",
    "        messages=[\n",
    "            {\"role\": \"system\", \"content\":     \"You are an expert in Language translation from Moroccan Darija dialect to English. \" +\n",
    "             \"You will be provided with a short sentence in Moroccan Darija dialect, and your task is to translate it into a sentence in English with no explanations.\"},\n",
    "            #{\"role\": \"assistant\", \"content\": \"OK, I understand. I am ready to translate to English.\"},\n",
    "            {\"role\": \"user\", \"content\": \"لحاجا لواحيدا لي كانطلب منّك تديرها هيا تشدّ لقرعا ت الروج\"},\n",
    "            {\"role\": \"assistant\", \"content\": \"The only thing I'm asking you to do is keep the bottle of red wine\"},\n",
    "            {\"role\": \"user\", \"content\":  f\"{stc}\" }\n",
    "            ], \n",
    "        temperature=0.1  # Deterministic responses\n",
    "        )\n",
    "    return completion.choices[0].message.content\n",
    "\n",
    "def twelve(stc):\n",
    "    completion = client.chat.completions.create(\n",
    "        model=\"gpt-3.5-turbo\",\n",
    "        messages=[\n",
    "            {\"role\": \"system\", \"content\":     \"You are an expert in Language translation from Moroccan Darija dialect to English. \" +\n",
    "             \"You will be provided with a short sentence in Moroccan Darija dialect, and your task is to translate it into a sentence in English with no explanations.\"},\n",
    "            #{\"role\": \"assistant\", \"content\": \"OK, I understand. I am ready to translate to English.\"},\n",
    "            {\"role\": \"user\", \"content\": \"غادي يكون عاندنا متيحان, إلا كان هادشي ليكاتقساد, سيمانا جايا نهار لخميس\"},\n",
    "            {\"role\": \"assistant\", \"content\": \"We will have an exam, if that is what you mean, next week on Thursday\"},\n",
    "            {\"role\": \"user\", \"content\":  f\"{stc}\" }\n",
    "            ], \n",
    "        temperature=0.1  # Deterministic responses\n",
    "        )\n",
    "    return completion.choices[0].message.content\n",
    "\n",
    "def thirteen(stc):\n",
    "    completion = client.chat.completions.create(\n",
    "        model=\"gpt-3.5-turbo\",\n",
    "        messages=[\n",
    "            {\"role\": \"system\", \"content\":     \"You are an expert in Language translation from Moroccan Darija dialect to English. \" +\n",
    "             \"You will be provided with a short sentence in Moroccan Darija dialect, and your task is to translate it into a sentence in English with no explanations.\"},\n",
    "            #{\"role\": \"assistant\", \"content\": \"OK, I understand. I am ready to translate to English.\"},\n",
    "            {\"role\": \"user\", \"content\": \"غادي يكون عاندنا متيحان, إلا كان هادشي ليكاتقساد, سيمانا جايا نهار لخميس\"},\n",
    "            {\"role\": \"assistant\", \"content\": \"We will have an exam, if that is what you mean, next week on Thursday\"},\n",
    "            {\"role\": \"user\", \"content\":  f\"{stc}\" }\n",
    "            ], \n",
    "        temperature=0.1  # Deterministic responses\n",
    "        )\n",
    "    return completion.choices[0].message.content\n",
    "\n",
    "print(df_one.columns)\n",
    "print('1')\n",
    "print(df_two.columns)\n",
    "print('1')\n",
    "print(df_three.columns)\n",
    "print('1')\n",
    "print(df_four.columns)\n",
    "print('1')\n",
    "print(df_five.columns)\n",
    "print('1')\n",
    "print(df_six.columns)\n",
    "print('1')\n",
    "print(df_seven.columns)\n",
    "print('1')\n",
    "print(df_eight.columns)\n",
    "print('1')\n",
    "print(df_nine.columns)\n",
    "print('1')\n",
    "print(df_ten.columns)\n",
    "print('1')\n",
    "print(df_eleven.columns)\n",
    "print('1')\n",
    "print(df_twelve.columns)\n",
    "print('1')\n",
    "print(df_thirteen.columns)"
   ]
  },
  {
   "cell_type": "code",
   "execution_count": null,
   "metadata": {},
   "outputs": [],
   "source": [
    "dataset_one =df_one.copy() \n",
    "dataset_two =df_two.copy() \n",
    "dataset_three =df_three.copy() \n",
    "dataset_four =df_four.copy() \n",
    "dataset_five =df_five.copy() \n",
    "dataset_six =df_six.copy() \n",
    "dataset_seven =df_seven.copy() \n",
    "dataset_eight =df_eight.copy() \n",
    "dataset_nine =df_nine.copy() \n",
    "dataset_ten =df_ten.copy() \n",
    "dataset_eleven =df_eleven.copy() \n",
    "dataset_twelve =df_twelve.copy() \n",
    "dataset_thirteen =df_thirteen.copy() \n",
    "\n",
    "\n",
    "columns_to_delete = ['darija']\n",
    "\n",
    "dataset_one.drop(columns=columns_to_delete, inplace=True)\n",
    "dataset_two.drop(columns=columns_to_delete, inplace=True)\n",
    "dataset_three.drop(columns=columns_to_delete, inplace=True)\n",
    "dataset_four.drop(columns=columns_to_delete, inplace=True)\n",
    "dataset_five.drop(columns=columns_to_delete, inplace=True)\n",
    "dataset_six.drop(columns=columns_to_delete, inplace=True)\n",
    "dataset_seven.drop(columns=columns_to_delete, inplace=True)\n",
    "dataset_eight.drop(columns=columns_to_delete, inplace=True)\n",
    "dataset_nine.drop(columns=columns_to_delete, inplace=True)\n",
    "dataset_ten.drop(columns=columns_to_delete, inplace=True)\n",
    "dataset_eleven.drop(columns=columns_to_delete, inplace=True)\n",
    "dataset_twelve.drop(columns=columns_to_delete, inplace=True)\n",
    "dataset_thirteen.drop(columns=columns_to_delete, inplace=True)\n",
    "\n",
    "\n",
    "dataset_one['transl'] = dataset_one['darija_ar'].apply(one)\n",
    "dataset_one.to_csv('word1.csv', index=False)\n",
    "print('1')\n",
    "dataset_two['transl'] = dataset_two['darija_ar'].apply(two)\n",
    "dataset_two.to_csv('word2.csv', index=False)\n",
    "print('1')\n",
    "dataset_three['transl'] = dataset_three['darija_ar'].apply(three)\n",
    "dataset_three.to_csv('word3.csv', index=False)\n",
    "print('1')\n",
    "dataset_four['transl'] = dataset_four['darija_ar'].apply(four)\n",
    "dataset_four.to_csv('word4.csv', index=False)\n",
    "print('1')\n",
    "dataset_five['transl'] = dataset_five['darija_ar'].apply(five)\n",
    "dataset_five.to_csv('word5.csv', index=False)\n",
    "print('1')\n",
    "dataset_six['transl'] = dataset_six['darija_ar'].apply(six)\n",
    "dataset_six.to_csv('word6.csv', index=False)\n",
    "print('1')\n",
    "dataset_seven['transl'] = dataset_seven['darija_ar'].apply(seven)\n",
    "dataset_seven.to_csv('word7.csv', index=False)\n",
    "print('1')\n",
    "dataset_eight['transl'] = dataset_eight['darija_ar'].apply(eight)\n",
    "dataset_eight.to_csv('word8.csv', index=False)\n",
    "print('1')\n",
    "dataset_nine['transl'] = dataset_nine['darija_ar'].apply(nine)\n",
    "dataset_nine.to_csv('word9.csv', index=False)\n",
    "print('1')\n",
    "dataset_ten['transl'] = dataset_ten['darija_ar'].apply(ten)\n",
    "dataset_ten.to_csv('word10.csv', index=False)\n",
    "print('1')\n",
    "dataset_eleven['transl'] = dataset_eleven['darija_ar'].apply(eleven)\n",
    "dataset_eleven.to_csv('word11.csv', index=False)\n",
    "print('1')\n",
    "dataset_twelve['transl'] = dataset_twelve['darija_ar'].apply(twelve)\n",
    "dataset_twelve.to_csv('word12.csv', index=False)\n",
    "print('1')\n",
    "dataset_thirteen['transl'] = dataset_thirteen['darija_ar'].apply(thirteen)\n",
    "dataset_thirteen.to_csv('word13.csv', index=False)"
   ]
  },
  {
   "cell_type": "code",
   "execution_count": 22,
   "metadata": {},
   "outputs": [],
   "source": [
    "import pandas as pd\n",
    "dataset_one = dataset_one.drop_duplicates(subset='darija_ar', keep='first')      \n",
    "dataset_one.to_csv('word1.csv', index=False)"
   ]
  },
  {
   "cell_type": "code",
   "execution_count": 1,
   "metadata": {},
   "outputs": [],
   "source": [
    "import pandas as pd\n",
    "\n",
    "dataset_one= pd.read_csv('word1.csv')\n",
    "dataset_two= pd.read_csv('word2.csv')\n",
    "dataset_three= pd.read_csv('word3.csv')\n",
    "dataset_four= pd.read_csv('word4.csv')\n",
    "dataset_five= pd.read_csv('word5.csv')\n",
    "dataset_six= pd.read_csv('word6.csv')\n",
    "dataset_seven= pd.read_csv('word7.csv')\n",
    "dataset_eight= pd.read_csv('word8.csv')\n",
    "dataset_nine= pd.read_csv('word9.csv')\n",
    "dataset_ten= pd.read_csv('word10.csv')\n",
    "dataset_eleven= pd.read_csv('word11.csv')\n",
    "dataset_twelve= pd.read_csv('word12.csv')\n",
    "dataset_thirteen= pd.read_csv('word13.csv')\n",
    "\n"
   ]
  },
  {
   "cell_type": "code",
   "execution_count": 2,
   "metadata": {},
   "outputs": [
    {
     "name": "stderr",
     "output_type": "stream",
     "text": [
      "c:\\Users\\yassi\\AppData\\Local\\Programs\\Python\\Python311\\Lib\\site-packages\\tqdm\\auto.py:21: TqdmWarning: IProgress not found. Please update jupyter and ipywidgets. See https://ipywidgets.readthedocs.io/en/stable/user_install.html\n",
      "  from .autonotebook import tqdm as notebook_tqdm\n",
      "c:\\Users\\yassi\\AppData\\Local\\Programs\\Python\\Python311\\Lib\\site-packages\\huggingface_hub\\file_download.py:1132: FutureWarning: `resume_download` is deprecated and will be removed in version 1.0.0. Downloads always resume when possible. If you want to force a new download, use `force_download=True`.\n",
      "  warnings.warn(\n",
      "c:\\Users\\yassi\\AppData\\Local\\Programs\\Python\\Python311\\Lib\\site-packages\\huggingface_hub\\file_download.py:1132: FutureWarning: `resume_download` is deprecated and will be removed in version 1.0.0. Downloads always resume when possible. If you want to force a new download, use `force_download=True`.\n",
      "  warnings.warn(\n"
     ]
    }
   ],
   "source": [
    "from sentence_transformers import SentenceTransformer, util\n",
    "import plotly.graph_objects as go\n",
    "\n",
    "# Initialize model\n",
    "model_name = 'bert-base-nli-mean-tokens'\n",
    "model = SentenceTransformer(model_name)\n",
    "\n",
    "\n",
    "def evaluate_pairs(transl, eng):\n",
    "    results = []\n",
    "    for i in range(len(transl)):\n",
    "        sentence1, sentence2 = transl[i], eng[i]\n",
    "        embedding1 = model.encode(sentence1, convert_to_tensor=True)\n",
    "        embedding2 = model.encode(sentence2, convert_to_tensor=True)\n",
    "        similarity = util.pytorch_cos_sim(embedding1, embedding2).item()\n",
    "        results.append((i+2, sentence1, sentence2, similarity))\n",
    "\n",
    "    return results\n",
    "\n",
    "transl_one = dataset_one['transl']\n",
    "eng_one =  dataset_one['eng']\n",
    "similarities1 = evaluate_pairs(transl_one, eng_one)\n",
    "print('1')\n",
    "percentages_one = [result for *_, result in similarities1]\n",
    "print('1')\n"
   ]
  },
  {
   "cell_type": "code",
   "execution_count": 38,
   "metadata": {},
   "outputs": [],
   "source": [
    "\n",
    "transl_two = dataset_two['transl']\n",
    "eng_two =  dataset_two['eng']\n",
    "similarities2 = evaluate_pairs(transl_two, eng_two)\n",
    "percentages_two = [result for *_, result in similarities2]"
   ]
  },
  {
   "cell_type": "code",
   "execution_count": 39,
   "metadata": {},
   "outputs": [],
   "source": [
    "\n",
    "transl_three = dataset_three['transl']\n",
    "eng_three =  dataset_three['eng']\n",
    "similarities3 = evaluate_pairs(transl_three, eng_three)\n",
    "percentages_three = [result for *_, result in similarities3]"
   ]
  },
  {
   "cell_type": "code",
   "execution_count": 42,
   "metadata": {},
   "outputs": [],
   "source": [
    "transl_four = dataset_four['transl']\n",
    "eng_four =  dataset_four['eng']\n",
    "similarities4 = evaluate_pairs(transl_four, eng_four)\n",
    "percentages_four = [result for *_, result in similarities4]"
   ]
  },
  {
   "cell_type": "code",
   "execution_count": 43,
   "metadata": {},
   "outputs": [],
   "source": [
    "transl_five = dataset_five['transl']\n",
    "eng_five =  dataset_five['eng']\n",
    "similarities5 = evaluate_pairs(transl_five, eng_five)\n",
    "percentages_five = [result for *_, result in similarities5]"
   ]
  },
  {
   "cell_type": "code",
   "execution_count": 40,
   "metadata": {},
   "outputs": [],
   "source": [
    "\n",
    "transl_six = dataset_six['transl']\n",
    "eng_six =  dataset_six['eng']\n",
    "similarities6 = evaluate_pairs(transl_six, eng_six)\n",
    "percentages_six = [result for *_, result in similarities6]"
   ]
  },
  {
   "cell_type": "code",
   "execution_count": 41,
   "metadata": {},
   "outputs": [],
   "source": [
    "\n",
    "transl_seven = dataset_seven['transl']\n",
    "eng_seven =  dataset_seven['eng']\n",
    "similarities7 = evaluate_pairs(transl_seven, eng_seven)\n",
    "percentages_seven = [result for *_, result in similarities7]"
   ]
  },
  {
   "cell_type": "code",
   "execution_count": 44,
   "metadata": {},
   "outputs": [],
   "source": [
    "\n",
    "transl_eight = dataset_eight['transl']\n",
    "eng_eight =  dataset_eight['eng']\n",
    "similarities8 = evaluate_pairs(transl_eight, eng_eight)\n",
    "percentages_eight = [result for *_, result in similarities8]"
   ]
  },
  {
   "cell_type": "code",
   "execution_count": 45,
   "metadata": {},
   "outputs": [],
   "source": [
    "\n",
    "transl_nine = dataset_nine['transl']\n",
    "eng_nine =  dataset_nine['eng']\n",
    "similarities9 = evaluate_pairs(transl_nine, eng_nine)\n",
    "percentages_nine = [result for *_, result in similarities9]"
   ]
  },
  {
   "cell_type": "code",
   "execution_count": 46,
   "metadata": {},
   "outputs": [],
   "source": [
    "transl_ten = dataset_ten['transl']\n",
    "eng_ten =  dataset_ten['eng']\n",
    "similarities10 = evaluate_pairs(transl_ten, eng_ten)\n",
    "percentages_ten = [result for *_, result in similarities10]"
   ]
  },
  {
   "cell_type": "code",
   "execution_count": 47,
   "metadata": {},
   "outputs": [],
   "source": [
    "\n",
    "transl_eleven = dataset_eleven['transl']\n",
    "eng_eleven =  dataset_eleven['eng']\n",
    "similarities11 = evaluate_pairs(transl_eleven, eng_eleven)\n",
    "percentages_eleven = [result for *_, result in similarities11]"
   ]
  },
  {
   "cell_type": "code",
   "execution_count": 48,
   "metadata": {},
   "outputs": [],
   "source": [
    "transl_twelve = dataset_twelve['transl']\n",
    "eng_twelve =  dataset_twelve['eng']\n",
    "similarities12 = evaluate_pairs(transl_twelve, eng_twelve)\n",
    "percentages_twelve = [result for *_, result in similarities12]"
   ]
  },
  {
   "cell_type": "code",
   "execution_count": 49,
   "metadata": {},
   "outputs": [],
   "source": [
    "transl_thirteen = dataset_thirteen['transl']\n",
    "eng_thirteen =  dataset_thirteen['eng']\n",
    "similarities13 = evaluate_pairs(transl_thirteen, eng_thirteen)\n",
    "percentages_thirteen = [result for *_, result in similarities13]"
   ]
  },
  {
   "cell_type": "code",
   "execution_count": 77,
   "metadata": {},
   "outputs": [],
   "source": [
    "percentages2 = pd.DataFrame()\n",
    "percentages3 = pd.DataFrame()\n",
    "percentages4 = pd.DataFrame()\n",
    "percentages5 = pd.DataFrame()\n",
    "percentages6 = pd.DataFrame()\n",
    "percentages7 = pd.DataFrame()\n",
    "\n",
    "percentages2['two-word sentence'] = percentages_two\n",
    "percentages3['three-word sentence'] = percentages_three\n",
    "percentages4['four-word sentence'] = percentages_four\n",
    "percentages5['five-word sentence'] = percentages_five\n",
    "percentages6['six-word sentence'] = percentages_six\n",
    "percentages7['seven-word sentence'] = percentages_seven\n",
    "\n",
    "\n",
    "percentages2.to_csv('percentages2.csv', index=False)\n",
    "percentages3.to_csv('percentages3.csv', index=False)\n",
    "percentages4.to_csv('percentages4.csv', index=False)\n",
    "percentages5.to_csv('percentages5.csv', index=False)\n",
    "percentages6.to_csv('percentages6.csv', index=False)\n",
    "percentages7.to_csv('percentages7.csv', index=False)"
   ]
  },
  {
   "cell_type": "code",
   "execution_count": 75,
   "metadata": {},
   "outputs": [],
   "source": [
    "percentages2 =percentages2.head(723)\n",
    "percentages3 =percentages3.head(723)\n",
    "percentages4 =percentages4.head(723)\n",
    "percentages5 =percentages5.head(723)\n",
    "percentages6 =percentages6.head(723)\n",
    "percentages7 =percentages7.head(723)"
   ]
  },
  {
   "cell_type": "code",
   "execution_count": 78,
   "metadata": {},
   "outputs": [
    {
     "name": "stdout",
     "output_type": "stream",
     "text": [
      "      means Longitude in input from sentences prompt type\n",
      "0  0.800314                 two-word sentence     English\n",
      "1  0.767293               three-word sentence     English\n",
      "2  0.747068                four-word sentence     English\n",
      "3  0.726245                five-word sentence     English\n",
      "4  0.712296                 six-word sentence     English\n",
      "5  0.704289               seven-word sentence     English\n"
     ]
    },
    {
     "data": {
      "application/vnd.plotly.v1+json": {
       "config": {
        "plotlyServerURL": "https://plot.ly"
       },
       "data": [
        {
         "hovertemplate": "prompt type=English<br>Longitude in input from sentences=%{x}<br>means=%{y}<extra></extra>",
         "legendgroup": "English",
         "line": {
          "color": "#636efa",
          "dash": "solid"
         },
         "marker": {
          "symbol": "circle"
         },
         "mode": "lines+markers",
         "name": "English",
         "orientation": "v",
         "showlegend": true,
         "type": "scatter",
         "x": [
          "two-word sentence",
          "three-word sentence",
          "four-word sentence",
          "five-word sentence",
          "six-word sentence",
          "seven-word sentence"
         ],
         "xaxis": "x",
         "y": [
          0.800313602386325,
          0.7672928671343158,
          0.747068239241435,
          0.7262447278350591,
          0.7122962777632462,
          0.7042887909943303
         ],
         "yaxis": "y"
        }
       ],
       "layout": {
        "legend": {
         "title": {
          "text": "prompt type"
         },
         "tracegroupgap": 0
        },
        "margin": {
         "t": 60
        },
        "template": {
         "data": {
          "bar": [
           {
            "error_x": {
             "color": "#2a3f5f"
            },
            "error_y": {
             "color": "#2a3f5f"
            },
            "marker": {
             "line": {
              "color": "#E5ECF6",
              "width": 0.5
             },
             "pattern": {
              "fillmode": "overlay",
              "size": 10,
              "solidity": 0.2
             }
            },
            "type": "bar"
           }
          ],
          "barpolar": [
           {
            "marker": {
             "line": {
              "color": "#E5ECF6",
              "width": 0.5
             },
             "pattern": {
              "fillmode": "overlay",
              "size": 10,
              "solidity": 0.2
             }
            },
            "type": "barpolar"
           }
          ],
          "carpet": [
           {
            "aaxis": {
             "endlinecolor": "#2a3f5f",
             "gridcolor": "white",
             "linecolor": "white",
             "minorgridcolor": "white",
             "startlinecolor": "#2a3f5f"
            },
            "baxis": {
             "endlinecolor": "#2a3f5f",
             "gridcolor": "white",
             "linecolor": "white",
             "minorgridcolor": "white",
             "startlinecolor": "#2a3f5f"
            },
            "type": "carpet"
           }
          ],
          "choropleth": [
           {
            "colorbar": {
             "outlinewidth": 0,
             "ticks": ""
            },
            "type": "choropleth"
           }
          ],
          "contour": [
           {
            "colorbar": {
             "outlinewidth": 0,
             "ticks": ""
            },
            "colorscale": [
             [
              0,
              "#0d0887"
             ],
             [
              0.1111111111111111,
              "#46039f"
             ],
             [
              0.2222222222222222,
              "#7201a8"
             ],
             [
              0.3333333333333333,
              "#9c179e"
             ],
             [
              0.4444444444444444,
              "#bd3786"
             ],
             [
              0.5555555555555556,
              "#d8576b"
             ],
             [
              0.6666666666666666,
              "#ed7953"
             ],
             [
              0.7777777777777778,
              "#fb9f3a"
             ],
             [
              0.8888888888888888,
              "#fdca26"
             ],
             [
              1,
              "#f0f921"
             ]
            ],
            "type": "contour"
           }
          ],
          "contourcarpet": [
           {
            "colorbar": {
             "outlinewidth": 0,
             "ticks": ""
            },
            "type": "contourcarpet"
           }
          ],
          "heatmap": [
           {
            "colorbar": {
             "outlinewidth": 0,
             "ticks": ""
            },
            "colorscale": [
             [
              0,
              "#0d0887"
             ],
             [
              0.1111111111111111,
              "#46039f"
             ],
             [
              0.2222222222222222,
              "#7201a8"
             ],
             [
              0.3333333333333333,
              "#9c179e"
             ],
             [
              0.4444444444444444,
              "#bd3786"
             ],
             [
              0.5555555555555556,
              "#d8576b"
             ],
             [
              0.6666666666666666,
              "#ed7953"
             ],
             [
              0.7777777777777778,
              "#fb9f3a"
             ],
             [
              0.8888888888888888,
              "#fdca26"
             ],
             [
              1,
              "#f0f921"
             ]
            ],
            "type": "heatmap"
           }
          ],
          "heatmapgl": [
           {
            "colorbar": {
             "outlinewidth": 0,
             "ticks": ""
            },
            "colorscale": [
             [
              0,
              "#0d0887"
             ],
             [
              0.1111111111111111,
              "#46039f"
             ],
             [
              0.2222222222222222,
              "#7201a8"
             ],
             [
              0.3333333333333333,
              "#9c179e"
             ],
             [
              0.4444444444444444,
              "#bd3786"
             ],
             [
              0.5555555555555556,
              "#d8576b"
             ],
             [
              0.6666666666666666,
              "#ed7953"
             ],
             [
              0.7777777777777778,
              "#fb9f3a"
             ],
             [
              0.8888888888888888,
              "#fdca26"
             ],
             [
              1,
              "#f0f921"
             ]
            ],
            "type": "heatmapgl"
           }
          ],
          "histogram": [
           {
            "marker": {
             "pattern": {
              "fillmode": "overlay",
              "size": 10,
              "solidity": 0.2
             }
            },
            "type": "histogram"
           }
          ],
          "histogram2d": [
           {
            "colorbar": {
             "outlinewidth": 0,
             "ticks": ""
            },
            "colorscale": [
             [
              0,
              "#0d0887"
             ],
             [
              0.1111111111111111,
              "#46039f"
             ],
             [
              0.2222222222222222,
              "#7201a8"
             ],
             [
              0.3333333333333333,
              "#9c179e"
             ],
             [
              0.4444444444444444,
              "#bd3786"
             ],
             [
              0.5555555555555556,
              "#d8576b"
             ],
             [
              0.6666666666666666,
              "#ed7953"
             ],
             [
              0.7777777777777778,
              "#fb9f3a"
             ],
             [
              0.8888888888888888,
              "#fdca26"
             ],
             [
              1,
              "#f0f921"
             ]
            ],
            "type": "histogram2d"
           }
          ],
          "histogram2dcontour": [
           {
            "colorbar": {
             "outlinewidth": 0,
             "ticks": ""
            },
            "colorscale": [
             [
              0,
              "#0d0887"
             ],
             [
              0.1111111111111111,
              "#46039f"
             ],
             [
              0.2222222222222222,
              "#7201a8"
             ],
             [
              0.3333333333333333,
              "#9c179e"
             ],
             [
              0.4444444444444444,
              "#bd3786"
             ],
             [
              0.5555555555555556,
              "#d8576b"
             ],
             [
              0.6666666666666666,
              "#ed7953"
             ],
             [
              0.7777777777777778,
              "#fb9f3a"
             ],
             [
              0.8888888888888888,
              "#fdca26"
             ],
             [
              1,
              "#f0f921"
             ]
            ],
            "type": "histogram2dcontour"
           }
          ],
          "mesh3d": [
           {
            "colorbar": {
             "outlinewidth": 0,
             "ticks": ""
            },
            "type": "mesh3d"
           }
          ],
          "parcoords": [
           {
            "line": {
             "colorbar": {
              "outlinewidth": 0,
              "ticks": ""
             }
            },
            "type": "parcoords"
           }
          ],
          "pie": [
           {
            "automargin": true,
            "type": "pie"
           }
          ],
          "scatter": [
           {
            "fillpattern": {
             "fillmode": "overlay",
             "size": 10,
             "solidity": 0.2
            },
            "type": "scatter"
           }
          ],
          "scatter3d": [
           {
            "line": {
             "colorbar": {
              "outlinewidth": 0,
              "ticks": ""
             }
            },
            "marker": {
             "colorbar": {
              "outlinewidth": 0,
              "ticks": ""
             }
            },
            "type": "scatter3d"
           }
          ],
          "scattercarpet": [
           {
            "marker": {
             "colorbar": {
              "outlinewidth": 0,
              "ticks": ""
             }
            },
            "type": "scattercarpet"
           }
          ],
          "scattergeo": [
           {
            "marker": {
             "colorbar": {
              "outlinewidth": 0,
              "ticks": ""
             }
            },
            "type": "scattergeo"
           }
          ],
          "scattergl": [
           {
            "marker": {
             "colorbar": {
              "outlinewidth": 0,
              "ticks": ""
             }
            },
            "type": "scattergl"
           }
          ],
          "scattermapbox": [
           {
            "marker": {
             "colorbar": {
              "outlinewidth": 0,
              "ticks": ""
             }
            },
            "type": "scattermapbox"
           }
          ],
          "scatterpolar": [
           {
            "marker": {
             "colorbar": {
              "outlinewidth": 0,
              "ticks": ""
             }
            },
            "type": "scatterpolar"
           }
          ],
          "scatterpolargl": [
           {
            "marker": {
             "colorbar": {
              "outlinewidth": 0,
              "ticks": ""
             }
            },
            "type": "scatterpolargl"
           }
          ],
          "scatterternary": [
           {
            "marker": {
             "colorbar": {
              "outlinewidth": 0,
              "ticks": ""
             }
            },
            "type": "scatterternary"
           }
          ],
          "surface": [
           {
            "colorbar": {
             "outlinewidth": 0,
             "ticks": ""
            },
            "colorscale": [
             [
              0,
              "#0d0887"
             ],
             [
              0.1111111111111111,
              "#46039f"
             ],
             [
              0.2222222222222222,
              "#7201a8"
             ],
             [
              0.3333333333333333,
              "#9c179e"
             ],
             [
              0.4444444444444444,
              "#bd3786"
             ],
             [
              0.5555555555555556,
              "#d8576b"
             ],
             [
              0.6666666666666666,
              "#ed7953"
             ],
             [
              0.7777777777777778,
              "#fb9f3a"
             ],
             [
              0.8888888888888888,
              "#fdca26"
             ],
             [
              1,
              "#f0f921"
             ]
            ],
            "type": "surface"
           }
          ],
          "table": [
           {
            "cells": {
             "fill": {
              "color": "#EBF0F8"
             },
             "line": {
              "color": "white"
             }
            },
            "header": {
             "fill": {
              "color": "#C8D4E3"
             },
             "line": {
              "color": "white"
             }
            },
            "type": "table"
           }
          ]
         },
         "layout": {
          "annotationdefaults": {
           "arrowcolor": "#2a3f5f",
           "arrowhead": 0,
           "arrowwidth": 1
          },
          "autotypenumbers": "strict",
          "coloraxis": {
           "colorbar": {
            "outlinewidth": 0,
            "ticks": ""
           }
          },
          "colorscale": {
           "diverging": [
            [
             0,
             "#8e0152"
            ],
            [
             0.1,
             "#c51b7d"
            ],
            [
             0.2,
             "#de77ae"
            ],
            [
             0.3,
             "#f1b6da"
            ],
            [
             0.4,
             "#fde0ef"
            ],
            [
             0.5,
             "#f7f7f7"
            ],
            [
             0.6,
             "#e6f5d0"
            ],
            [
             0.7,
             "#b8e186"
            ],
            [
             0.8,
             "#7fbc41"
            ],
            [
             0.9,
             "#4d9221"
            ],
            [
             1,
             "#276419"
            ]
           ],
           "sequential": [
            [
             0,
             "#0d0887"
            ],
            [
             0.1111111111111111,
             "#46039f"
            ],
            [
             0.2222222222222222,
             "#7201a8"
            ],
            [
             0.3333333333333333,
             "#9c179e"
            ],
            [
             0.4444444444444444,
             "#bd3786"
            ],
            [
             0.5555555555555556,
             "#d8576b"
            ],
            [
             0.6666666666666666,
             "#ed7953"
            ],
            [
             0.7777777777777778,
             "#fb9f3a"
            ],
            [
             0.8888888888888888,
             "#fdca26"
            ],
            [
             1,
             "#f0f921"
            ]
           ],
           "sequentialminus": [
            [
             0,
             "#0d0887"
            ],
            [
             0.1111111111111111,
             "#46039f"
            ],
            [
             0.2222222222222222,
             "#7201a8"
            ],
            [
             0.3333333333333333,
             "#9c179e"
            ],
            [
             0.4444444444444444,
             "#bd3786"
            ],
            [
             0.5555555555555556,
             "#d8576b"
            ],
            [
             0.6666666666666666,
             "#ed7953"
            ],
            [
             0.7777777777777778,
             "#fb9f3a"
            ],
            [
             0.8888888888888888,
             "#fdca26"
            ],
            [
             1,
             "#f0f921"
            ]
           ]
          },
          "colorway": [
           "#636efa",
           "#EF553B",
           "#00cc96",
           "#ab63fa",
           "#FFA15A",
           "#19d3f3",
           "#FF6692",
           "#B6E880",
           "#FF97FF",
           "#FECB52"
          ],
          "font": {
           "color": "#2a3f5f"
          },
          "geo": {
           "bgcolor": "white",
           "lakecolor": "white",
           "landcolor": "#E5ECF6",
           "showlakes": true,
           "showland": true,
           "subunitcolor": "white"
          },
          "hoverlabel": {
           "align": "left"
          },
          "hovermode": "closest",
          "mapbox": {
           "style": "light"
          },
          "paper_bgcolor": "white",
          "plot_bgcolor": "#E5ECF6",
          "polar": {
           "angularaxis": {
            "gridcolor": "white",
            "linecolor": "white",
            "ticks": ""
           },
           "bgcolor": "#E5ECF6",
           "radialaxis": {
            "gridcolor": "white",
            "linecolor": "white",
            "ticks": ""
           }
          },
          "scene": {
           "xaxis": {
            "backgroundcolor": "#E5ECF6",
            "gridcolor": "white",
            "gridwidth": 2,
            "linecolor": "white",
            "showbackground": true,
            "ticks": "",
            "zerolinecolor": "white"
           },
           "yaxis": {
            "backgroundcolor": "#E5ECF6",
            "gridcolor": "white",
            "gridwidth": 2,
            "linecolor": "white",
            "showbackground": true,
            "ticks": "",
            "zerolinecolor": "white"
           },
           "zaxis": {
            "backgroundcolor": "#E5ECF6",
            "gridcolor": "white",
            "gridwidth": 2,
            "linecolor": "white",
            "showbackground": true,
            "ticks": "",
            "zerolinecolor": "white"
           }
          },
          "shapedefaults": {
           "line": {
            "color": "#2a3f5f"
           }
          },
          "ternary": {
           "aaxis": {
            "gridcolor": "white",
            "linecolor": "white",
            "ticks": ""
           },
           "baxis": {
            "gridcolor": "white",
            "linecolor": "white",
            "ticks": ""
           },
           "bgcolor": "#E5ECF6",
           "caxis": {
            "gridcolor": "white",
            "linecolor": "white",
            "ticks": ""
           }
          },
          "title": {
           "x": 0.05
          },
          "xaxis": {
           "automargin": true,
           "gridcolor": "white",
           "linecolor": "white",
           "ticks": "",
           "title": {
            "standoff": 15
           },
           "zerolinecolor": "white",
           "zerolinewidth": 2
          },
          "yaxis": {
           "automargin": true,
           "gridcolor": "white",
           "linecolor": "white",
           "ticks": "",
           "title": {
            "standoff": 15
           },
           "zerolinecolor": "white",
           "zerolinewidth": 2
          }
         }
        },
        "xaxis": {
         "anchor": "y",
         "domain": [
          0,
          1
         ],
         "title": {
          "text": "Longitude in input from sentences"
         }
        },
        "yaxis": {
         "anchor": "x",
         "domain": [
          0,
          1
         ],
         "range": [
          0,
          1
         ],
         "title": {
          "text": "means"
         }
        }
       }
      }
     },
     "metadata": {},
     "output_type": "display_data"
    }
   ],
   "source": [
    "import plotly.express as px\n",
    "\n",
    "averages = pd.DataFrame()\n",
    "eng_averages = pd.DataFrame()\n",
    "\n",
    "mean2= percentages2['two-word sentence'].mean()\n",
    "mean3= percentages3['three-word sentence'].mean()\n",
    "mean4= percentages4['four-word sentence'].mean()\n",
    "mean5= percentages5['five-word sentence'].mean()\n",
    "mean6= percentages6['six-word sentence'].mean()\n",
    "mean7= percentages7['seven-word sentence'].mean()\n",
    "\n",
    "\n",
    "averages['means'] = [mean2, mean3, mean4, mean5, mean6, mean7]\n",
    "averages['Longitude in input from sentences'] = ['two-word sentence', 'three-word sentence', 'four-word sentence', 'five-word sentence',\n",
    "                                                 'six-word sentence', 'seven-word sentence'\n",
    "                                                 ]\n",
    "averages['prompt type'] = ['English', 'English', 'English', 'English',\n",
    "                           'English', 'English']\n",
    "print(averages)\n",
    "\n",
    "fig = px.line(averages, x=\"Longitude in input from sentences\", y=\"means\",  markers=True, color ='prompt type')\n",
    "fig.update_yaxes(range=[0, 1])\n",
    "\n",
    "fig.show()\n"
   ]
  }
 ],
 "metadata": {
  "kernelspec": {
   "display_name": "Python 3",
   "language": "python",
   "name": "python3"
  },
  "language_info": {
   "codemirror_mode": {
    "name": "ipython",
    "version": 3
   },
   "file_extension": ".py",
   "mimetype": "text/x-python",
   "name": "python",
   "nbconvert_exporter": "python",
   "pygments_lexer": "ipython3",
   "version": "3.11.8"
  }
 },
 "nbformat": 4,
 "nbformat_minor": 2
}
