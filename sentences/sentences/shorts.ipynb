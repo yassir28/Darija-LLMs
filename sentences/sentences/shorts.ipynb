{
 "cells": [
  {
   "cell_type": "code",
   "execution_count": 4,
   "metadata": {},
   "outputs": [],
   "source": [
    "import pandas as pd\n",
    "\n",
    "# Load the CSV file\n",
    "df = pd.read_csv('../sentences.csv')\n",
    "\n",
    "# Function to count tokens in a sentence\n",
    "def token_count(sentence):\n",
    "    return len(sentence.split())\n",
    "\n",
    "# Filter sentences with 5 or fewer tokens\n",
    "filtered_df = df[df['darija_ar'].apply(token_count) == 1]\n",
    "filtered_df =filtered_df.head(1000)\n",
    "# Write the filtered sentences to a new CSV file\n",
    "filtered_df.to_csv('word1.csv', index=False)"
   ]
  },
  {
   "cell_type": "code",
   "execution_count": 5,
   "metadata": {},
   "outputs": [],
   "source": [
    "import pandas as pd\n",
    "\n",
    "# Load the CSV file\n",
    "df = pd.read_csv('../sentences.csv')\n",
    "\n",
    "# Function to count tokens in a sentence\n",
    "def token_count(sentence):\n",
    "    return len(sentence.split())\n",
    "\n",
    "# Filter sentences with 5 or fewer tokens\n",
    "filtered_df = df[df['darija_ar'].apply(token_count) == 2]\n",
    "filtered_df =filtered_df.head(1000)\n",
    "# Write the filtered sentences to a new CSV file\n",
    "filtered_df.to_csv('word2.csv', index=False)"
   ]
  },
  {
   "cell_type": "code",
   "execution_count": 6,
   "metadata": {},
   "outputs": [],
   "source": [
    "import pandas as pd\n",
    "\n",
    "# Load the CSV file\n",
    "df = pd.read_csv('../sentences.csv')\n",
    "\n",
    "# Function to count tokens in a sentence\n",
    "def token_count(sentence):\n",
    "    return len(sentence.split())\n",
    "\n",
    "# Filter sentences with 5 or fewer tokens\n",
    "filtered_df = df[df['darija_ar'].apply(token_count) == 4]\n",
    "filtered_df =filtered_df.head(1000)\n",
    "# Write the filtered sentences to a new CSV file\n",
    "filtered_df.to_csv('word4.csv', index=False)"
   ]
  },
  {
   "cell_type": "code",
   "execution_count": 7,
   "metadata": {},
   "outputs": [],
   "source": [
    "import pandas as pd\n",
    "\n",
    "# Load the CSV file\n",
    "df = pd.read_csv('../sentences.csv')\n",
    "\n",
    "# Function to count tokens in a sentence\n",
    "def token_count(sentence):\n",
    "    return len(sentence.split())\n",
    "\n",
    "# Filter sentences with 5 or fewer tokens\n",
    "filtered_df = df[df['darija_ar'].apply(token_count) == 5]\n",
    "filtered_df =filtered_df.head(1000)\n",
    "# Write the filtered sentences to a new CSV file\n",
    "filtered_df.to_csv('word5.csv', index=False)"
   ]
  },
  {
   "cell_type": "code",
   "execution_count": 8,
   "metadata": {},
   "outputs": [],
   "source": [
    "import pandas as pd\n",
    "\n",
    "# Load the CSV file\n",
    "df = pd.read_csv('../sentences.csv')\n",
    "\n",
    "# Function to count tokens in a sentence\n",
    "def token_count(sentence):\n",
    "    return len(sentence.split())\n",
    "\n",
    "# Filter sentences with 5 or fewer tokens\n",
    "filtered_df = df[df['darija_ar'].apply(token_count) == 6]\n",
    "filtered_df =filtered_df.head(1000)\n",
    "# Write the filtered sentences to a new CSV file\n",
    "filtered_df.to_csv('word6.csv', index=False)"
   ]
  },
  {
   "cell_type": "code",
   "execution_count": 9,
   "metadata": {},
   "outputs": [],
   "source": [
    "import pandas as pd\n",
    "\n",
    "# Load the CSV file\n",
    "df = pd.read_csv('../sentences.csv')\n",
    "\n",
    "# Function to count tokens in a sentence\n",
    "def token_count(sentence):\n",
    "    return len(sentence.split())\n",
    "\n",
    "# Filter sentences with 5 or fewer tokens\n",
    "filtered_df = df[df['darija_ar'].apply(token_count) == 7]\n",
    "filtered_df =filtered_df.head(1000)\n",
    "# Write the filtered sentences to a new CSV file\n",
    "filtered_df.to_csv('word7.csv', index=False)"
   ]
  },
  {
   "cell_type": "code",
   "execution_count": 10,
   "metadata": {},
   "outputs": [],
   "source": [
    "import pandas as pd\n",
    "\n",
    "# Load the CSV file\n",
    "df = pd.read_csv('../sentences.csv')\n",
    "\n",
    "# Function to count tokens in a sentence\n",
    "def token_count(sentence):\n",
    "    return len(sentence.split())\n",
    "\n",
    "# Filter sentences with 5 or fewer tokens\n",
    "filtered_df = df[df['darija_ar'].apply(token_count) == 8]\n",
    "filtered_df =filtered_df.head(1000)\n",
    "# Write the filtered sentences to a new CSV file\n",
    "filtered_df.to_csv('word8.csv', index=False)"
   ]
  },
  {
   "cell_type": "code",
   "execution_count": 11,
   "metadata": {},
   "outputs": [],
   "source": [
    "import pandas as pd\n",
    "\n",
    "# Load the CSV file\n",
    "df = pd.read_csv('../sentences.csv')\n",
    "\n",
    "# Function to count tokens in a sentence\n",
    "def token_count(sentence):\n",
    "    return len(sentence.split())\n",
    "\n",
    "# Filter sentences with 5 or fewer tokens\n",
    "filtered_df = df[df['darija_ar'].apply(token_count) == 9]\n",
    "filtered_df =filtered_df.head(1000)\n",
    "# Write the filtered sentences to a new CSV file\n",
    "filtered_df.to_csv('word9.csv', index=False)"
   ]
  },
  {
   "cell_type": "code",
   "execution_count": 12,
   "metadata": {},
   "outputs": [],
   "source": [
    "import pandas as pd\n",
    "\n",
    "# Load the CSV file\n",
    "df = pd.read_csv('../sentences.csv')\n",
    "\n",
    "# Function to count tokens in a sentence\n",
    "def token_count(sentence):\n",
    "    return len(sentence.split())\n",
    "\n",
    "# Filter sentences with 5 or fewer tokens\n",
    "filtered_df = df[df['darija_ar'].apply(token_count) == 10]\n",
    "filtered_df =filtered_df.head(1000)\n",
    "# Write the filtered sentences to a new CSV file\n",
    "filtered_df.to_csv('word10.csv', index=False)"
   ]
  },
  {
   "cell_type": "code",
   "execution_count": 13,
   "metadata": {},
   "outputs": [],
   "source": [
    "import pandas as pd\n",
    "\n",
    "# Load the CSV file\n",
    "df = pd.read_csv('../sentences.csv')\n",
    "\n",
    "# Function to count tokens in a sentence\n",
    "def token_count(sentence):\n",
    "    return len(sentence.split())\n",
    "\n",
    "# Filter sentences with 5 or fewer tokens\n",
    "filtered_df = df[df['darija_ar'].apply(token_count) == 11]\n",
    "filtered_df =filtered_df.head(1000)\n",
    "# Write the filtered sentences to a new CSV file\n",
    "filtered_df.to_csv('word11.csv', index=False)"
   ]
  },
  {
   "cell_type": "code",
   "execution_count": 14,
   "metadata": {},
   "outputs": [],
   "source": [
    "import pandas as pd\n",
    "\n",
    "# Load the CSV file\n",
    "df = pd.read_csv('../sentences.csv')\n",
    "\n",
    "# Function to count tokens in a sentence\n",
    "def token_count(sentence):\n",
    "    return len(sentence.split())\n",
    "\n",
    "# Filter sentences with 5 or fewer tokens\n",
    "filtered_df = df[df['darija_ar'].apply(token_count) == 12]\n",
    "filtered_df =filtered_df.head(1000)\n",
    "# Write the filtered sentences to a new CSV file\n",
    "filtered_df.to_csv('word12.csv', index=False)"
   ]
  },
  {
   "cell_type": "code",
   "execution_count": 15,
   "metadata": {},
   "outputs": [],
   "source": [
    "import pandas as pd\n",
    "\n",
    "# Load the CSV file\n",
    "df = pd.read_csv('../sentences.csv')\n",
    "\n",
    "# Function to count tokens in a sentence\n",
    "def token_count(sentence):\n",
    "    return len(sentence.split())\n",
    "\n",
    "# Filter sentences with 5 or fewer tokens\n",
    "filtered_df = df[df['darija_ar'].apply(token_count) == 13]\n",
    "filtered_df =filtered_df.head(1000)\n",
    "# Write the filtered sentences to a new CSV file\n",
    "filtered_df.to_csv('word13.csv', index=False)"
   ]
  }
 ],
 "metadata": {
  "kernelspec": {
   "display_name": "Python 3",
   "language": "python",
   "name": "python3"
  },
  "language_info": {
   "codemirror_mode": {
    "name": "ipython",
    "version": 3
   },
   "file_extension": ".py",
   "mimetype": "text/x-python",
   "name": "python",
   "nbconvert_exporter": "python",
   "pygments_lexer": "ipython3",
   "version": "3.11.8"
  }
 },
 "nbformat": 4,
 "nbformat_minor": 2
}
