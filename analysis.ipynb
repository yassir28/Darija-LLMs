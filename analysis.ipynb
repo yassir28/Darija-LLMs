{
 "cells": [
  {
   "cell_type": "markdown",
   "metadata": {},
   "source": [
    "# target audiance/ Darija speaker\n",
    "Cant be turned to darija speaker cos output is in English. + linguists \n",
    "\n",
    "# arabic prompt\n",
    "in verbs v2.\n",
    "\n",
    "# intervals of different semantic similarity\n",
    "rewrite everything in these. In the process filter the prompts to most significant base that on:\n",
    "\n",
    "t test, mil l 3rbia, query working best.. \n",
    "\n",
    "# tables of verbs , sentences, idioms : for each prompts in function of columns darija input (arabic prompt and english prompt) and rows prompts.\n",
    "\n",
    "\n",
    "# overlap of different prompts results between prompts.\n",
    "\n",
    "\n",
    "# T-test to evaluate, how to know if there is a significant difference\n"
   ]
  },
  {
   "cell_type": "code",
   "execution_count": 1,
   "metadata": {},
   "outputs": [
    {
     "name": "stderr",
     "output_type": "stream",
     "text": [
      "c:\\Users\\yassi\\AppData\\Local\\Programs\\Python\\Python311\\Lib\\site-packages\\tqdm\\auto.py:21: TqdmWarning: IProgress not found. Please update jupyter and ipywidgets. See https://ipywidgets.readthedocs.io/en/stable/user_install.html\n",
      "  from .autonotebook import tqdm as notebook_tqdm\n",
      "c:\\Users\\yassi\\AppData\\Local\\Programs\\Python\\Python311\\Lib\\site-packages\\huggingface_hub\\file_download.py:1132: FutureWarning: `resume_download` is deprecated and will be removed in version 1.0.0. Downloads always resume when possible. If you want to force a new download, use `force_download=True`.\n",
      "  warnings.warn(\n",
      "c:\\Users\\yassi\\AppData\\Local\\Programs\\Python\\Python311\\Lib\\site-packages\\huggingface_hub\\file_download.py:1132: FutureWarning: `resume_download` is deprecated and will be removed in version 1.0.0. Downloads always resume when possible. If you want to force a new download, use `force_download=True`.\n",
      "  warnings.warn(\n"
     ]
    },
    {
     "name": "stdout",
     "output_type": "stream",
     "text": [
      "T-statistic: 1.8614088022736237\n",
      "P-value: 0.1361781766577573\n",
      "The difference between the two sets of cosine similarity percentages is not statistically significant.\n"
     ]
    }
   ],
   "source": [
    "import matplotlib.pyplot as plt\n",
    "from sentence_transformers import SentenceTransformer, util\n",
    "from scipy.stats import ttest_ind\n",
    "\n",
    "# Initialize model\n",
    "model_name = 'bert-base-nli-mean-tokens'\n",
    "model = SentenceTransformer(model_name)\n",
    "\n",
    "# Sample data for two sets of translations\n",
    "transl1 = [\"The cat sits on the mat.\", \"Dogs are playing in the park.\", \"Birds are singing in the trees.\"]\n",
    "eng1 = [\"A cat is sitting on the mat.\", \"There are dogs playing in the park.\", \"Birds sing in the trees.\"]\n",
    "\n",
    "transl2 = [\"He reads a book every evening.\", \"She likes to cook pasta.\", \"They are going to the market.\"]\n",
    "eng2 = [\"Every evening he reads a book.\", \"Cooking pasta is something she likes.\", \"The market is where they are going.\"]\n",
    "\n",
    "# Function to evaluate pairs and calculate cosine similarities\n",
    "def evaluate_pairs(transl, eng):\n",
    "    results = []\n",
    "    for i in range(len(transl)):\n",
    "        sentence1, sentence2 = transl[i], eng[i]\n",
    "        embedding1 = model.encode(sentence1, convert_to_tensor=True)\n",
    "        embedding2 = model.encode(sentence2, convert_to_tensor=True)\n",
    "        similarity = util.pytorch_cos_sim(embedding1, embedding2).item()\n",
    "        results.append(similarity)\n",
    "    return results\n",
    "\n",
    "# Calculate similarities\n",
    "similarities1 = evaluate_pairs(transl1, eng1)\n",
    "similarities2 = evaluate_pairs(transl2, eng2)\n",
    "\n",
    "# Convert similarities to percentages\n",
    "percentages1 = [sim * 100 for sim in similarities1]\n",
    "percentages2 = [sim * 100 for sim in similarities2]\n",
    "\n",
    "# Perform t-test\n",
    "t_stat, p_value = ttest_ind(percentages1, percentages2)\n",
    "\n",
    "# Output results\n",
    "print(f\"T-statistic: {t_stat}\")\n",
    "print(f\"P-value: {p_value}\")\n",
    "\n",
    "# Interpretation\n",
    "if p_value < 0.05:\n",
    "    print(\"The difference between the two sets of cosine similarity percentages is statistically significant.\")\n",
    "else:\n",
    "    print(\"The difference between the two sets of cosine similarity percentages is not statistically significant.\")\n"
   ]
  }
 ],
 "metadata": {
  "kernelspec": {
   "display_name": "Python 3",
   "language": "python",
   "name": "python3"
  },
  "language_info": {
   "codemirror_mode": {
    "name": "ipython",
    "version": 3
   },
   "file_extension": ".py",
   "mimetype": "text/x-python",
   "name": "python",
   "nbconvert_exporter": "python",
   "pygments_lexer": "ipython3",
   "version": "3.11.8"
  }
 },
 "nbformat": 4,
 "nbformat_minor": 2
}
