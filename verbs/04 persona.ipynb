{
 "cells": [
  {
   "cell_type": "markdown",
   "metadata": {},
   "source": [
    "\n",
    "# The baseline query + purpose and target"
   ]
  },
  {
   "cell_type": "code",
   "execution_count": 1,
   "metadata": {},
   "outputs": [
    {
     "name": "stdout",
     "output_type": "stream",
     "text": [
      "           n1       n2     n3       n4       n5    n6 darija_ar         eng  \\\n",
      "0         kla      NaN    NaN      NaN      NaN   NaN       كلا         eat   \n",
      "1        chrb    chreb    NaN      NaN      NaN   NaN       شرب       drink   \n",
      "2       dkhel     dkhl  dkhal     d5el      d5l  d5al       دخل       enter   \n",
      "3        khrj    khraj  khrej      5rj     5raj  5rej       خرج      go out   \n",
      "4        fhem      fhm   fham     f8em      f8m  f8am       فهم  understand   \n",
      "...       ...      ...    ...      ...      ...   ...       ...         ...   \n",
      "1027   bllegh      NaN    NaN      NaN      NaN   NaN      بلّغ      notify   \n",
      "1028      Tfa      NaN    NaN      NaN      NaN   NaN       طفا    turn off   \n",
      "1029    ryye7    riye7   ryy7      NaN      NaN   NaN      ريّح    sit down   \n",
      "1030    ghech  ghechch   ghch    ghach      NaN   NaN        غش       cheat   \n",
      "1031  9chcher    9cher  qcher  qchcher  9chchar   NaN      قشّر        peel   \n",
      "\n",
      "     english_translation  \n",
      "0                    Eat  \n",
      "1                  drink  \n",
      "2                  Enter  \n",
      "3                   exit  \n",
      "4             Understood  \n",
      "...                  ...  \n",
      "1027              Inform  \n",
      "1028            Turn off  \n",
      "1029                Wind  \n",
      "1030               cheat  \n",
      "1031                Peel  \n",
      "\n",
      "[1032 rows x 9 columns]\n"
     ]
    }
   ],
   "source": [
    "from openai import OpenAI\n",
    "import pandas as pd\n",
    "\n",
    "client = OpenAI()\n",
    "df = pd.read_csv('verbs.csv')\n",
    "\n",
    "def translate_verb(verb):\n",
    "    completion = client.chat.completions.create(\n",
    "        model=\"gpt-3.5-turbo\",\n",
    "        messages = [\n",
    "            {\"role\": \"system\", \"content\": \"You are an expert in Moroccan Darija dialect and in translating Darija to English.\" +           \n",
    "            \"Translate the provided Moroccan Darija language verbs into English using word-by-word translation.\" + \n",
    "            \"Please fulfill the following conditions when translating:\"+\n",
    "            \"The output must not be an infinitive verb. No explanations are needed in the output\"+\n",
    "            \"Purpose of the translation: To study the accuracy of LLMs on Low resource languages, particularly Darija.\" + \n",
    "            \"Target audience: Computational linguists\" \n",
    "            },\n",
    "            {\n",
    "            \"role\": \"user\", \n",
    "            \"content\":  f'{verb}' \n",
    "            }\n",
    "        ],        \n",
    "        temperature=0  # Deterministic responses\n",
    "    )\n",
    "    return completion.choices[0].message.content\n",
    "\n",
    "# Apply the translation function to the 'darija_ar' column\n",
    "df['english_translation'] = df['darija_ar'].apply(translate_verb)\n",
    "\n",
    "print(df)"
   ]
  },
  {
   "cell_type": "code",
   "execution_count": 2,
   "metadata": {},
   "outputs": [
    {
     "name": "stdout",
     "output_type": "stream",
     "text": [
      "Mean value of similarities is: 0.5407272233580374\n"
     ]
    },
    {
     "data": {
      "text/html": [
       "<div>\n",
       "<style scoped>\n",
       "    .dataframe tbody tr th:only-of-type {\n",
       "        vertical-align: middle;\n",
       "    }\n",
       "\n",
       "    .dataframe tbody tr th {\n",
       "        vertical-align: top;\n",
       "    }\n",
       "\n",
       "    .dataframe thead th {\n",
       "        text-align: right;\n",
       "    }\n",
       "</style>\n",
       "<table border=\"1\" class=\"dataframe\">\n",
       "  <thead>\n",
       "    <tr style=\"text-align: right;\">\n",
       "      <th></th>\n",
       "      <th>similarity</th>\n",
       "    </tr>\n",
       "  </thead>\n",
       "  <tbody>\n",
       "    <tr>\n",
       "      <th>count</th>\n",
       "      <td>1032.000000</td>\n",
       "    </tr>\n",
       "    <tr>\n",
       "      <th>mean</th>\n",
       "      <td>0.540727</td>\n",
       "    </tr>\n",
       "    <tr>\n",
       "      <th>std</th>\n",
       "      <td>0.405227</td>\n",
       "    </tr>\n",
       "    <tr>\n",
       "      <th>min</th>\n",
       "      <td>0.000000</td>\n",
       "    </tr>\n",
       "    <tr>\n",
       "      <th>25%</th>\n",
       "      <td>0.200000</td>\n",
       "    </tr>\n",
       "    <tr>\n",
       "      <th>50%</th>\n",
       "      <td>0.500000</td>\n",
       "    </tr>\n",
       "    <tr>\n",
       "      <th>75%</th>\n",
       "      <td>1.000000</td>\n",
       "    </tr>\n",
       "    <tr>\n",
       "      <th>max</th>\n",
       "      <td>1.000000</td>\n",
       "    </tr>\n",
       "  </tbody>\n",
       "</table>\n",
       "</div>"
      ],
      "text/plain": [
       "        similarity\n",
       "count  1032.000000\n",
       "mean      0.540727\n",
       "std       0.405227\n",
       "min       0.000000\n",
       "25%       0.200000\n",
       "50%       0.500000\n",
       "75%       1.000000\n",
       "max       1.000000"
      ]
     },
     "execution_count": 2,
     "metadata": {},
     "output_type": "execute_result"
    }
   ],
   "source": [
    "from nltk.corpus import wordnet as wn\n",
    "\n",
    "dataset = df.copy()\n",
    "\n",
    "columns_to_delete = ['n2', 'n3', 'n4', 'n5', 'n6']\n",
    "dataset.drop(columns=columns_to_delete, inplace=True)\n",
    "\n",
    "eng = dataset['eng']\n",
    "transl = dataset['english_translation']\n",
    "transl = [verb.replace(\" \", \"_\") for verb in transl]\n",
    "eng = [verb.replace(\" \", \"_\") for verb in eng]\n",
    "\n",
    "def max_path_similarity(word1, word2):\n",
    "    \"\"\"Calculate the maximum path similarity between two words.\"\"\"\n",
    "\n",
    "    synsets1 = wn.synsets(word1, pos=wn.VERB)\n",
    "    synsets2 = wn.synsets(word2, pos=wn.VERB)\n",
    "    max_score = 0\n",
    "    for syn1 in synsets1:\n",
    "        for syn2 in synsets2:\n",
    "            score = syn1.path_similarity(syn2)\n",
    "            if score and score > max_score:\n",
    "                max_score = score\n",
    "    return max_score\n",
    "\n",
    "def evaluate_pairs(threshold=0.5):\n",
    "    \"\"\"Evaluating each pair using WordNet path similarity and a threshold.\"\"\"\n",
    "    results = []\n",
    "    for i in range(len(transl)):\n",
    "        word1, word2 = transl[i], eng[i]\n",
    "        similarity = max_path_similarity(word1, word2)\n",
    "        results.append((word1, word2, similarity, similarity >= threshold))\n",
    "    return results\n",
    "results = evaluate_pairs()\n",
    "similarities = [item[2] for item in results]\n",
    "\n",
    "dataset['similarity'] = similarities\n",
    "mean_similarity = dataset['similarity'].mean()\n",
    "\n",
    "\n",
    "print(f'Mean value of similarities is: {mean_similarity}')\n",
    "dataset.describe()\n",
    "\n"
   ]
  },
  {
   "cell_type": "code",
   "execution_count": 3,
   "metadata": {},
   "outputs": [
    {
     "data": {
      "image/png": "[encoded data removed]",
      "text/plain": [
       "<Figure size 1000x500 with 1 Axes>"
      ]
     },
     "metadata": {},
     "output_type": "display_data"
    }
   ],
   "source": [
    "import matplotlib.pyplot as plt\n",
    "\n",
    "dataset.hist(bins=50, figsize=(10,5))\n",
    "plt.xlabel('Similarity (%)')\n",
    "plt.ylabel('Count of pair verbs')\n",
    "plt.title('Similarity histogram')\n",
    "plt.tight_layout()\n",
    "plt.grid(True)\n",
    "plt.show()\n"
   ]
  },
  {
   "cell_type": "code",
   "execution_count": 5,
   "metadata": {},
   "outputs": [
    {
     "name": "stdout",
     "output_type": "stream",
     "text": [
      "          n1 darija_ar       eng english_translation  similarity\n",
      "17       3am       عام      swim                Year         0.0\n",
      "20       slt       سلت  take off             I asked         0.0\n",
      "27     tsalm     تسالم    salute           You peace         0.0\n",
      "51      khss       خسّ    should                Lose         0.0\n",
      "54      khbr       خبر      tell                News         0.0\n",
      "...      ...       ...       ...                 ...         ...\n",
      "1013  nkharT     نخارط    adhere            We carve         0.0\n",
      "1015  sted3a     ستدعا    summon       You will call         0.0\n",
      "1021   tsme3      تسمع     sound            you hear         0.0\n",
      "1022   n99eT      نقّط     grade              we dot         0.0\n",
      "1025   jaaza      جازا     award               Came.         0.0\n",
      "\n",
      "[177 rows x 5 columns]\n"
     ]
    }
   ],
   "source": [
    "zero_df = dataset[dataset['similarity'] == 0]\n",
    "print(zero_df)\n"
   ]
  },
  {
   "cell_type": "code",
   "execution_count": null,
   "metadata": {},
   "outputs": [],
   "source": []
  }
 ],
 "metadata": {
  "kernelspec": {
   "display_name": "Python 3",
   "language": "python",
   "name": "python3"
  },
  "language_info": {
   "codemirror_mode": {
    "name": "ipython",
    "version": 3
   },
   "file_extension": ".py",
   "mimetype": "text/x-python",
   "name": "python",
   "nbconvert_exporter": "python",
   "pygments_lexer": "ipython3",
   "version": "3.11.8"
  }
 },
 "nbformat": 4,
 "nbformat_minor": 2
}
