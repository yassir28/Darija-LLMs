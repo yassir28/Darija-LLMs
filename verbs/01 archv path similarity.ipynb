{
 "cells": [
  {
   "cell_type": "code",
   "execution_count": 1,
   "metadata": {},
   "outputs": [],
   "source": [
    "from openai import OpenAI\n",
    "import pandas as pd\n",
    "# dataframe and load of verbs\n",
    "df = pd.read_csv('verbs.csv')\n",
    "\n",
    "client = OpenAI()\n",
    "\n",
    "# Define a translation function using the OpenAI API\n",
    "def translate_verb(verb):\n",
    "    completion = client.chat.completions.create(\n",
    "        model=\"gpt-3.5-turbo\",\n",
    "    messages = [\n",
    "        {\n",
    "            \"role\": \"system\", \n",
    "            \"content\": \"Translate the provided Moroccan Darija language verbs into English using word-by-word translation.\" + \n",
    "            \"Please fulfill the following conditions when translating.\"+\n",
    "            \"The translation must contain only the lemma of the translated verb. It should not contain 'to' for example\"+\n",
    "            \"Purpose of the translation: To study the accuracy of LLMs on Low resource languages, particularly Darija.\" + \n",
    "            \"Target audience: Computational linguists\" \n",
    "        },\n",
    "        {\n",
    "            \"role\": \"user\", \n",
    "            \"content\":  f'{verb}'}\n",
    "    ],\n",
    "        temperature=0.1  # Deterministic responses\n",
    "    )\n",
    "    return completion.choices[0].message.content\n",
    "\n",
    "df['english_translation'] = df['darija_ar'].apply(translate_verb)\n"
   ]
  },
  {
   "cell_type": "code",
   "execution_count": 2,
   "metadata": {},
   "outputs": [
    {
     "name": "stdout",
     "output_type": "stream",
     "text": [
      "Mean value of similarities is: 0.581441047647443\n"
     ]
    },
    {
     "data": {
      "text/html": [
       "<div>\n",
       "<style scoped>\n",
       "    .dataframe tbody tr th:only-of-type {\n",
       "        vertical-align: middle;\n",
       "    }\n",
       "\n",
       "    .dataframe tbody tr th {\n",
       "        vertical-align: top;\n",
       "    }\n",
       "\n",
       "    .dataframe thead th {\n",
       "        text-align: right;\n",
       "    }\n",
       "</style>\n",
       "<table border=\"1\" class=\"dataframe\">\n",
       "  <thead>\n",
       "    <tr style=\"text-align: right;\">\n",
       "      <th></th>\n",
       "      <th>similarity</th>\n",
       "    </tr>\n",
       "  </thead>\n",
       "  <tbody>\n",
       "    <tr>\n",
       "      <th>count</th>\n",
       "      <td>1032.000000</td>\n",
       "    </tr>\n",
       "    <tr>\n",
       "      <th>mean</th>\n",
       "      <td>0.581441</td>\n",
       "    </tr>\n",
       "    <tr>\n",
       "      <th>std</th>\n",
       "      <td>0.391223</td>\n",
       "    </tr>\n",
       "    <tr>\n",
       "      <th>min</th>\n",
       "      <td>0.000000</td>\n",
       "    </tr>\n",
       "    <tr>\n",
       "      <th>25%</th>\n",
       "      <td>0.250000</td>\n",
       "    </tr>\n",
       "    <tr>\n",
       "      <th>50%</th>\n",
       "      <td>0.500000</td>\n",
       "    </tr>\n",
       "    <tr>\n",
       "      <th>75%</th>\n",
       "      <td>1.000000</td>\n",
       "    </tr>\n",
       "    <tr>\n",
       "      <th>max</th>\n",
       "      <td>1.000000</td>\n",
       "    </tr>\n",
       "  </tbody>\n",
       "</table>\n",
       "</div>"
      ],
      "text/plain": [
       "        similarity\n",
       "count  1032.000000\n",
       "mean      0.581441\n",
       "std       0.391223\n",
       "min       0.000000\n",
       "25%       0.250000\n",
       "50%       0.500000\n",
       "75%       1.000000\n",
       "max       1.000000"
      ]
     },
     "execution_count": 2,
     "metadata": {},
     "output_type": "execute_result"
    }
   ],
   "source": [
    "import matplotlib.pyplot as plt\n",
    "from nltk.corpus import wordnet as wn\n",
    "\n",
    "dataset = df.copy()\n",
    "\n",
    "columns_to_delete = ['n2', 'n3', 'n4', 'n5', 'n6']\n",
    "dataset.drop(columns=columns_to_delete, inplace=True)\n",
    "\n",
    "eng = dataset['eng']\n",
    "transl = dataset['english_translation']\n",
    "transl = [verb.replace(\" \", \"_\") for verb in transl]\n",
    "eng = [verb.replace(\" \", \"_\") for verb in eng]\n",
    "\n",
    "def max_path_similarity(word1, word2):\n",
    "    \"\"\"Calculate the maximum path similarity between two words.\"\"\"\n",
    "\n",
    "    synsets1 = wn.synsets(word1, pos=wn.VERB)\n",
    "    synsets2 = wn.synsets(word2, pos=wn.VERB)\n",
    "    max_score = 0\n",
    "    for syn1 in synsets1:\n",
    "        for syn2 in synsets2:\n",
    "            score = syn1.path_similarity(syn2)\n",
    "            if score and score > max_score:\n",
    "                max_score = score\n",
    "    return max_score\n",
    "\n",
    "def evaluate_pairs(threshold=0.5):\n",
    "    \"\"\"Evaluating each pair using WordNet path similarity and a threshold.\"\"\"\n",
    "    results = []\n",
    "    for i in range(len(transl)):\n",
    "        word1, word2 = transl[i], eng[i]\n",
    "        similarity = max_path_similarity(word1, word2)\n",
    "        results.append((word1, word2, similarity, similarity >= threshold))\n",
    "    return results\n",
    "results = evaluate_pairs()\n",
    "similarities = [item[2] for item in results]\n",
    "\n",
    "dataset['similarity'] = similarities\n",
    "mean_similarity = dataset['similarity'].mean()\n",
    "\n",
    "\n",
    "print(f'Mean value of similarities is: {mean_similarity}')\n",
    "dataset.describe()\n",
    "\n"
   ]
  },
  {
   "cell_type": "code",
   "execution_count": 3,
   "metadata": {},
   "outputs": [
    {
     "data": {
      "image/png": "[encoded data removed]",
      "text/plain": [
       "<Figure size 1000x500 with 1 Axes>"
      ]
     },
     "metadata": {},
     "output_type": "display_data"
    }
   ],
   "source": [
    "import matplotlib.pyplot as plt\n",
    "\n",
    "dataset.hist(bins=50, figsize=(10,5))\n",
    "plt.xlabel('Similarity (%)')\n",
    "plt.ylabel('Count of pair verbs')\n",
    "plt.title('Similarity histogram')\n",
    "plt.tight_layout()\n",
    "plt.grid(True)\n",
    "plt.show()"
   ]
  }
 ],
 "metadata": {
  "kernelspec": {
   "display_name": "Python 3",
   "language": "python",
   "name": "python3"
  },
  "language_info": {
   "codemirror_mode": {
    "name": "ipython",
    "version": 3
   },
   "file_extension": ".py",
   "mimetype": "text/x-python",
   "name": "python",
   "nbconvert_exporter": "python",
   "pygments_lexer": "ipython3",
   "version": "3.11.8"
  }
 },
 "nbformat": 4,
 "nbformat_minor": 2
}
