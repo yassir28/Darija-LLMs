{
 "cells": [
  {
   "cell_type": "markdown",
   "metadata": {},
   "source": [
    "The upgrade:\n",
    "\n",
    " 1\n",
    "- Multi-turn dialogue and single turn translation\n",
    "- Fake CoT: revision\n",
    "\n",
    "\n",
    " 2:\n",
    "- What is the purpose of the translation? \n",
    "- Who is the intended audience for the target sentence? \n",
    "- What is the locale of the target language? \n",
    "- What is the register? \n",
    "- Is a style guide available? \n",
    "+\n",
    "- Whether there will be a designated glossary?\n",
    "\n",
    "\n",
    "An actual chain of tought COT\n",
    "\n",
    "\n",
    "Please fulfill the following conditions when translating.\"+\n",
    "\n",
    "     \"The translation must contain only the lemma of the translated verb\"+\n",
    "\n",
    "     \"Purpose of the translation: To study the accuracy of LLMs on Low resource languages, particularly Darija.\" + \n",
    "\n",
    "     \"Target audience: Computational linguists\""
   ]
  },
  {
   "cell_type": "markdown",
   "metadata": {},
   "source": [
    "# would probably work better on few inputs like idioms analysis"
   ]
  }
 ],
 "metadata": {
  "kernelspec": {
   "display_name": "Python 3",
   "language": "python",
   "name": "python3"
  },
  "language_info": {
   "name": "python",
   "version": "3.11.8"
  }
 },
 "nbformat": 4,
 "nbformat_minor": 2
}
