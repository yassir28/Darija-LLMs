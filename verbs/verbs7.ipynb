{
 "cells": [
  {
   "cell_type": "code",
   "execution_count": 1,
   "metadata": {},
   "outputs": [],
   "source": [
    "from openai import OpenAI\n",
    "import pandas as pd\n",
    "\n",
    "# Initialize the OpenAI client\n",
    "client = OpenAI()\n",
    "\n",
    "# Load the DataFrame containing verbs\n",
    "df = pd.read_csv('verbs.csv')\n",
    "\n",
    "# Define a translation function using the OpenAI API\n",
    "def translate_verb(verb):\n",
    "    completion = client.chat.completions.create(\n",
    "        model=\"gpt-3.5-turbo\",\n",
    "        messages=[\n",
    "            {\"role\": \"system\", \"content\": \"You are an expert in Moroccan Darija dialect and in translating Darija to English.\"},\n",
    "            {\"role\": \"user\", \"content\": \"Translate the provided Moroccan Darija dialect verbs into English using word-by-word translation. The output must not be an infinitive verb. No explanations are needed in the output\"},\n",
    "            {\"role\": \"assistant\", \"content\": \"OK, I understand. I am ready for the verb translation.\"},\n",
    "            {\"role\": \"user\", \"content\": f\"{verb}\"},\n",
    "            {\"role\": \"user\", \"content\": \"شرب\"},\n",
    "            {\"role\": \"assistant\", \"content\": \"drink\"},\n",
    "            {\"role\": \"user\", \"content\": \"ستدعا\"},\n",
    "            {\"role\": \"assistant\", \"content\": \"summon\"},\n",
    "            {\"role\": \"user\", \"content\": \"طفا\"},\n",
    "            {\"role\": \"assistant\", \"content\": \"turn off\"},\n",
    "            {\"role\": \"user\", \"content\":  f'{verb}' }\n",
    "        ],\n",
    "        temperature=0.1  # Deterministic responses\n",
    "    )\n",
    "    return completion.choices[0].message.content\n",
    "\n",
    "# Apply the translation function to the 'darija_ar' column\n",
    "df['english_translation'] = df['darija_ar'].apply(translate_verb)\n",
    "\n",
    "# Display or save the resulting DataFrame\n",
    "print(df)\n"
   ]
  },
  {
   "cell_type": "code",
   "execution_count": null,
   "metadata": {},
   "outputs": [],
   "source": []
  }
 ],
 "metadata": {
  "kernelspec": {
   "display_name": "Python 3",
   "language": "python",
   "name": "python3"
  },
  "language_info": {
   "codemirror_mode": {
    "name": "ipython",
    "version": 3
   },
   "file_extension": ".py",
   "mimetype": "text/x-python",
   "name": "python",
   "nbconvert_exporter": "python",
   "pygments_lexer": "ipython3",
   "version": "3.11.8"
  }
 },
 "nbformat": 4,
 "nbformat_minor": 2
}
