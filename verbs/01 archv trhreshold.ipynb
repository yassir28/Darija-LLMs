{
 "cells": [
  {
   "cell_type": "code",
   "execution_count": null,
   "metadata": {},
   "outputs": [],
   "source": [
    "results = evaluate_pairs()\n",
    "print(results)\n",
    "\n",
    "\n",
    "last_elements = [result for *_, result in results]\n",
    "true_count = sum(last_elements)\n",
    "total_comparisons = len(results)\n",
    "false_count = total_comparisons - true_count\n",
    "\n",
    "\n",
    "labels = 'Match', 'No match'\n",
    "sizes = [true_count, false_count]\n",
    "colors = ['lightgreen', 'lightcoral']\n",
    "explode = (0.1, 0)  # explode 1st slice\n",
    "\n",
    "plt.pie(sizes, explode=explode, labels=labels, colors=colors, autopct='%1.1f%%', shadow=True, startangle=90)\n",
    "plt.axis('equal')  # Equal aspect ratio ensures that pie is drawn as a circle.\n",
    "plt.title(\"Percentage of matching synsets between gpt translated Darija from English and original Darija\")\n",
    "plt.show()"
   ]
  }
 ],
 "metadata": {
  "language_info": {
   "name": "python"
  }
 },
 "nbformat": 4,
 "nbformat_minor": 2
}
