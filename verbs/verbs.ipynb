{
 "cells": [
  {
   "cell_type": "markdown",
   "metadata": {},
   "source": [
    "# Dataframe of verbs"
   ]
  },
  {
   "cell_type": "code",
   "execution_count": 1,
   "metadata": {},
   "outputs": [
    {
     "name": "stdout",
     "output_type": "stream",
     "text": [
      "['kla', 'chrb', 'dkhel', 'khrj', 'fhem', 'chr7', '9ra', '9rra', 'sm3', 'chaf', 'chm', 'da9', '9as', 'mcha', 'ja', 'tl3', 'nzl', '3am', 'ghr9', 'lbs', 'slt', 'chra', 'ba3', 'ttawa', 'ktb', 'ms7', 'drab', 'tsalm', '3ya', 'tskhskh', 'D7k', 'ghdb', 'jab', 'kan', 'dar', 'gal', '9al', '3ndo', 'chedd', 'fkkr', 'ba', 'l9a', '3Ta', 'khdm', '3yeT', 'khass', '7ess', 'wlla', '7TT', '3na', 'bda', 'khss', 'l9a', '3jb', 'khbr', '3awn', '3t9', 'wjjd', '2amn', '7awl', 'jrrb', 'swwl', 'tfkkr', 'mcha', 'byyen', 'l3b', 'jra', 'jrra', '9ra', 'bda', 'sala', '9TT3', '8Dr', 'chker', 'bddel', 'kmmel', 'ftarD', 'tmnna', 'tb3', '9bl', 'rfD', 'w93', 'gls', 'rb7', 'zad', 't3llm', 'tsnna', 'sifT', 'ba3', 'chra', '7ell', 'bna', 'khtar', 'wSl', '9rrer', 'nchT', 'tfrrj', 'khsr', 'tmchcha', 'kbbr', 'tkhyyl', 'sbbeb', '8rrs', 'sme3', 'kbr', 'mat', 'twffa', 'zar', 'chjje3', '7ama', 'nchr', '9tl', 'sag', 'kdb', 't9aj7', '7yyed', 'ddabz', '3mmr', 'safr', '7Dr', '9sse7', '3ana', 'zgl', 'l9a', 'lga', '3bbr', 'rkkz', 'la7', 'Sawb', '9ra', 'df3', 'wrrk', 'wSl', 'Sona', 'jm3', '8rb', 'r77b', '3wwl', 'ta9', '3awd', 'khTTeT', 'frch', '2kkd', 'kr8', 'tjwj', '9sm', 'tbnna', 'tja8l', '3rrf', '9ddm', 'ttrina', 'br8n', '9n3', '9ll3', 'Swwt', 'nkr', 'khbba', 'nj7', 'Tlb', '3tarf', '7sb', 'ntama', 'chekk', 'ghnna', 'nwa', 'brrer', 'daf3', 'z3m', 'tsara7', '7km', 'chark', 'ghsl', 'la7D', 'khddm', 'jm3', 'l77', 'tla7', 'Tyyb', 'bka', 'n3s', 'fa9', 'jm3', 'nsa7b', '7ll', 'khbr', 'stalzem', 'tsllf', 'swwl', 'khaTr', 'sm7', 'sam7', '9tar7', '7tafl', 'Dyy3', 'ghbr', 'tw993', 'ngr', '9bT', 'gbD', 'naD', 'daz', '7bes', '9yyd', 'wllf', 'khllT', 'gyyd', '7rg', '7r9', 'staghl', 'kma', '7ddr', 'baas', '3ln', 'khtabr', 'tnffs', 'fat', 'Saad9', '7tell', '7arrar', 'btasm', '7fr', '7tarm', '8dded', 'lgha', 'khzn', 'nDDm', 'nwwr', '7lf', '7lm', 'SrT', 'bloka', 'stab9', 'tta8m', 'ghwwt', '2ttr', 'rttb', '3ta9l', 'nb7', 'khan', 't7aTT', 'khtalf', '7tafD', 'Tar', 'ban', 'jrr', 'df3', '8zz', 'rj3', 'Ta7', '3rf', 'nsa', 'wSf', 'trjm', 'w3ed', '9llb', '7bb', '3ach', 'skn', 'khllS', 'sdd', 'w9f', 'stkhdm', 'stalm', 'fchl', 'sbb', 'chka', 'fD7', '3tadr', '3nng', 'ndm', 't3wwd', '3Tas', 'k7ob', '2ejjel', 't3awn', 'tbadl', '9aaT3', 'tTwwe3', '9oulb', 'tjnnb', '8ml', 'tla9a', 'tjsses', 'nta9m', 'dfn', 'ghlb', 'kan', 'bgha', '9der', 'gdd', 'imkn', 'dar', 'khsso', 'khda', 'chaf', '7TT', 'khlla', '3Ta', 'khsso', 'ban', 'tDmmen', 't7rrek', 'Dar', '3tabr', 'khlla', 'tmenna', 'ntej', 'b9a', 'chdd', 'to99e3', 'Dmen', '8ezz', '3reD', 'd3em', 'hDer', 'dwa', '9aad', 'b9a', 'w9ef', 'wgef', '9tar7', 'Twwer', 'gles', 'gadd', 'Sawb', 'ttaf9', 'Tbbe9', 'kowwen', 'zad', '3bber', 'Dyye3', 'lta79', 'n99eS', 'n9ed', 'tTelleb', '799e9', '7bes', 't3amel', 'twaj8', 'ghTTa', 'Twwer', 'maal', 'rsem', 't7errek', '3zel', 'khtar', 'kllef', 'swa', 'br8en', 'w9e3', 'tna9ch', 'gabl', 'sala', 'kmmel', 'kayn', '9Sed', '9lleb', 'nfe3', '9sem', 'partaja', 'nche2', '2esses', 't7kkem', 'jawb', '7edded', '3tana', 'mkken', 'Taalb', 'kseb', 'mttel', 'tDemmen', 'ghleb', 'tchTen', 't7mmel', 'sedd', 'tsa2el', 'naaseb', 't3elle9', '7eTT', 'chmel', 'ttaSel', 'ftarD', 'achaar', 'khdem', 'tSerref', 't2e9lem', '7edded', '3kes', 'achaar', 'rbe7', 'f7eS', 'fDDel', '3tarf', 'redd', 'jawb', '3tamd', 'nja', 'la7D', 'ntej', 'bddel', 'kemmel', 'rtaf3', '9ddem', 'nche2', 'achaar', 'rowwej', 'chejje3', '2edda', 'medded', 'achaar', 'khtalef', 'fad', '3aalj', '3elle9', 'Tyye7', 'bellegh', 'Sbb', 'khtaber', '2emmen', 'Towwel', 'waaf9', '9dder', 'saa8em', 'medd', '3len', '9dder', 'rtabeT', 'tghelleb', 'tkhelleS', '7awel', '7tafD', 'tkellef', 'jdeb', 'saa3d', '3awen', '2etter', '7edded', 'fkker', 'sina', 'khaf', 'lSe9', 'swwa', 'rigl', '9aaren', '7seb', '7e99e9', 'n99a', 'sjjel', 'chjjel', 'ktachf', 'laam', '3ber', '3a9', 'rkkez', 'wSSel', 'chre3', 'z3ej', 'brzeT', 'rfeD', 'freD', '3ta9ed', 'ban', '3zem', 'nSe7', 'ktaseb', 'strje3', 'nche2', 'tmiyyez', 'chtabe8', 'kseb', 'mowwel', '8dem', 'tbe3', '3elle9', 'rDa', 'tnafs', '9aawem', 'laa2em', 'khaaTeb', '7ell', 'bddel', 'freD', '3reD', 'naachd', 'Tle9', 'frez', 'rtteb', 'khtar', '3ber', 'wSSa', 'Tleb', '2amer', 'n9el', '8jem', 'twesse3', 'tkerkeb', 'nfajer', 't3e88ed', 'tsara7', 'tSerref', 'dkker', 'fekker', 'raaj3', 'n8ej', 'rejje3', 'Sder', 'Sag', 'chkkel', 'gleb', 'derreb', 'stetmer', 'khTa', '7edd', 'weDDe7', 'mlek', '3aalj', 't7edda', 'chaf', 'mlek', '7aawer', 'tselle9', 'fSel', '7aafD', 'nffed', '7wwel', 'a9arr', 'stentej', 'tira', 'mtatel', '7essen', 'ra9b', 'gabl', 'chra', 'charja', 'b7et', 'bgha', 'stow3eb', 'chTe7', 'fa9', 'Slla', 'dowwer', 'marka', 'zle9', 'rtakb', 'kchef', 'steb3ed', '3der', 'fsser', 'ncher', 'laa9a', 'tfawD', '7ellel', 'smma', 'mtedd', 't9elle9', '2e88el', 'khsser', 'Tle9', 'bda', 'Sbegh', '7edded', 'mne7', 'sellef', 'bna', 'tfa3l', 'sta7e99', 'sta8el', 'tre22es', 'wjje8', '8beT', '9aad', 'tkebbed', 'sifT', 'tkowwen', '3Sef', 'rched', '9ne3', 'maars', '9wwa', 'do99', '3reD', 'tkhella', 'jaweb', '7errek', 'Sle7', 'tDaa8er', 'chawer', '9sem', 'nkhareT', '7e99e9', '7kem', '3aalj', 'jab', 'n9el', 'dfe3', 'jessed', '7Ser', 'steb3ed', 'zowwel', 'lgha', '7owwel', 't9a3d', 'DbeT', '3ddel', 's88el', 'kobb', 'Sebb', 'nsej', 'd3em', 'Trassa', 'sejjel', '7seb', '7ffez', 'Tbe3', 'imprima', 'twetter', '3yyen', 'tdkhkhel', '3tarD', '9wwa', 'dfe3', 'ysser', 's88el', '7taj', '7bes', 'nffed', 't2e9lem', '3god', '9tabs', 'syTer', 'frg3', '3jeb', 'Semmem', 'tdkhkhel', 'Tlle3', 'sta9al', 't8ejja', '7errek', 'khSSeS', '9dder', 'Dreb', 'rkel', '3dded', 'lbes', '3len', 'diklara', '2ekked', 'stamdd', 'dkhel', '2ejjel', 'wDDe7', 'n9el', 'nsekh', 'fDDel', 'medd', '9beT', '3zzez', '7owwel', 'fhem', 'khdem', 'ghaader', 'raaf9', 'mowwel', 'jme3', 'S77e7', 'ab7ar', '3owweD', 'sre9', 'chfer', '9owweD', 'mtedd', '3aareD', '7edded', 'zreb', 'ncher', '9aaDaa', 'miza', 'Dowwa', 'tbaT2', '8emm', 'rfeD', 'rkkez', 'Sle7', 'Taabe9', 'rbeT', 'zrreb', 'ghre9', 'ntaz3', 'kalma', '7tejj', 'waazen', 'Tleb', 'tbbet', 'Towwer', 'Tred', '3awn', 'tdffe9', 'jerr', 'tTaab9', 'chkkel', 'tt3jeb', 'khffef', '3kes', 'ddabz', 'ndamj', 'mattaf9ch', 'ttaSel', '7iyyen', 'ghiyyer', 'khtar', 'amer', 'mtatel', 'stkhrej', '3aarD', 'ste2nef', 'chedd', 'stow3eb', 'tze3lel', 'sllem', 'zreb', 'waaj8', 'mne3', 'mse7', 'Doubl', 'chtamel', 'ch8ed', 'ghres', 'jzem', 'kchef', '3Ser', 'bjegh', 'rbeT', 'Derr', '2aada', 'tla9a', 'Tleb', '3aana', 'khddem', 'khbba', 'khddem', 't3awen', 'sre7', 'chdded', '3ber', 'wzen', 'tzaamn', '7na', 'tna', 'nDDem', 'n9ed', 'rffe8', 'twe99e3', 'f7eS', 'Sdder', 'le77', 'stentej', 'sedd', '3reD', 'skhkhen', 'dffa', '3tarf', 'sme7', 'Tmmer', 'tselle9', 'mse7', 'ntej', 'khDe3', 'b8er', 'nkhafD', 'frek', 'wkkel', 'dar', 'wzze3', '7ess', 'khlleS', 'rjje3', 'sta3aad', '9ellel', 'w99ef', 'chkkel', 'z3ej', '3eDD', 't9ddem', 'kerres', 'stafzz', 'Tem2en', 't2emmel', '7dder', 'tfa3el', 'skhkhen', 'btaker', '7kem', '3aan9', '3zza', '7jez', 'dowweb', 'zad', 'ttekka', 'Tbbe9', '7tars', 'tchab8', 'mne3', 'tjowwej', '8rres', '9me3', 'gabl', 'faje2', 'tredded', 'ch7en', 'sreT', 'bda', 'Tfaa', '2etter', 't7ekkem', 'rde3', 'rtabeT', 'adaar', '9tel', 'taabr', '7eyya', 'dmme3', 'Taared', 'fsed', 'sTTer', 'baark', 'khtar9', 'Daa3ef', 'dmej', 'derreb', 'jeff', 'stenzef', 'kfa', 'ftarD', 'Syyed', 't9dda', 'tsab9', 'chrref', 'jemmed', 'daawa', '3alj', 'tbadel', 't7emmel', 'Taard', 'ste8lek', 'khcha', 'tsenna', 'njarf', 'bddel', 'steslem', 'ziyyer', '9elleS', 'miyyez', '3len', 'Saal7', 'tSowwer', 'nsse9', 'frg3', 'l3en', 'Teyyeb', 'Twa', 'tnazl', 'jdded', 'Saagh', 'khelleT', '7edd', 'mse7', 'wjjeh', 'rkkez', 'tsa8el', 'khffeD', '7jez', 'rezerva', 'st9bel', 'tTowwer', 'r3a', '3ggez', 'Towwe9', 'khSSeS', 'chref', 'tlacha', 'd3em', 'adaan', '7jez', 'Sle7', 'kmmel', '3a9b', 'frg3', 'st3reD', '9ellel', 'saad', 'n99ez', 'lwa', 'tfa8em', 'n8aar', 'raab', '7ma', 'mne3', 'ghowwet', 'twa3d', 'mse7', '799e9', 'kre8', 'tSowwer', 'mla', 'w77ed', 'stowred', 'bna', 'zda8er', 'nta9ed', 'Tiyyeb', 'ghla', 'ghla', '8reb', 'bda', 'mde7', 'blaSa', 'miyyez', 'tbe3', 'Towwe9', '9aabel', 'chedded', 'lowwen', 'ghaamer', 'khemmen', '9edder', 'ghader', '9aaTe3', 'mowwe8', 'ntakheb', 't7emmel', 'kbe7', 'nma', '3awed', 'n7arf', '9la', 'dab', '3ddel', 'jmme3', 'khrreb', 'srre3', 'tSower', '8enne2', 'staredd', '8beT', 'wggef', 'jerreb', 'khle3', '9oulb', 'al8am', 'chaafa', 'DbeT', 'kemmel', '3ddel', 'khdech', 'stelzem', 'nffed', '3dem', 'wTTed', 'dowwer', '3zel', 'berrer', 'D33ef', 'tmechcha', 'bgha', 'wsse3', 'drdech', 'rkeb', 'khtar3', 'Sne3', 'sedd', 'raaj3', 'mSS', 'Sowwer', 'STadem', 'frchekh', 'n9el', 'bloka', '3iyyen', 'stfser', 'Syyed', 'dowwer', 'tna9ch', 'Towwer', 'zyyen', 'jme3', 'staghell', 'wret', 'khrbe9', 'khne9', 'daaf3', 'ghmmes', 'chtark', '3llem', 'Tlle9', 'ghzel', 'chowwech', 'tsellel', '7rref', 'mzej', 'raaj3', 'nseb', 'nfajer', 'sken', 'khffef', '3alj', 'rched', 'tserreb', 'f8em', 'rTTeb', 'chiyyer', 'sToka', 'wDe3', '2emmen', 'nkharT', 'tchbbet', 'sted3a', 'wgf', 'w9ef', 'khwa', 'rtteb', 't7emmel', 'tsme3', 'n99eT', 'rje3', '9iyyem', 'jaaza', 'kaf7', 'bllegh', 'Tfa', 'ryye7', 'ghech', '9chcher']\n",
      "['eat', 'drink', 'enter', 'go out', 'understand', 'explain', 'learn', 'teach', 'hear', 'see', 'smell', 'taste', 'touch', 'go', 'come', 'ascend', 'go down', 'swim', 'drown', 'wear', 'take off', 'buy', 'sell', 'bargain', 'write', 'clean', 'hit', 'salute', 'fatigue', 'exhaust', 'laugh', 'anger', 'bring', 'was', 'do', 'say', 'say', 'have', 'get', 'think', 'want', 'find', 'give', 'work', 'call', 'need', 'feel', 'become', 'put', 'mean', 'begin', 'should', 'find', 'like', 'tell', 'help', 'help', 'prepare', 'believe', 'try', 'try', 'ask', 'remember', 'leave', 'show', 'play', 'run', 'run', 'read', 'start', 'finish', 'cut', 'talk', 'thank', 'change', 'continue', 'suppose', 'wish', 'follow', 'accept', 'reject', 'happen', 'sit down', 'win', 'add', 'learn', 'wait', 'send', 'sell', 'buy', 'open', 'build', 'choose', 'reach', 'decide', 'enjoy', 'watch', 'lose', 'walk', 'raise', 'imagine', 'cause', 'break', 'listen', 'grow', 'die', 'die', 'visit', 'encourage', 'protect', 'spread', 'kill', 'drive', 'lie', 'argue', 'remove', 'fight', 'fill', 'travel', 'attend', 'hurt', 'suffer', 'miss', 'discover', 'discover', 'express', 'concentrate', 'throw', 'prepare', 'study', 'push', 'press', 'arrive', 'ring', 'collect', 'escape', 'welcome', 'rely', 'trust', 'repeat', 'plan', 'reveal', 'confirm', 'hate', 'marry', 'split', 'adopt', 'ignore', 'define', 'introduce', 'exercise', 'demonstrate', 'persuade', 'guess', 'vote', 'deny', 'hide', 'succeed', 'demand', 'recognize', 'count', 'belong', 'doubt', 'sing', 'intent', 'justify', 'defend', 'dare', 'rest', 'judge', 'participate', 'wash', 'observe', 'employ', 'combine', 'insist', 'jump', 'cook', 'cry', 'sleep', 'wake up', 'gather', 'withdraw', 'resolve', 'inform', 'imply', 'borrow', 'question', 'risk', 'permit', 'forgive', 'propose', 'celebrate', 'waste', 'disappear', 'predict', 'complain', 'catch', 'catch', 'get up', 'pass', 'stop', 'note', 'used to', 'mix', 'mislead', 'burn', 'burn', 'exploit', 'smoke', 'warn', 'kiss', 'announce', 'evaluate', 'breathe', 'exceed', 'approve', 'occupy', 'free', 'smile', 'dig', 'respect', 'threaten', 'cancel', 'store', 'organize', 'shine', 'swear', 'dream', 'absorb', 'block', 'anticipate', 'accuse', 'shout', 'affect', 'arrange', 'arrest', 'bark', 'betray', 'bet', 'differ', 'keep', 'fly', 'appear', 'pull', 'push', 'lift', 'return', 'fall', 'know', 'forget', 'describe', 'translate', 'promise', 'search', 'love', 'live', 'live', 'pay', 'close', 'stand up', 'use', 'receive', 'fail', 'insult', 'complain', 'expose', 'apologize', 'hug', 'regret', 'get used', 'sneeze', 'cough', 'postpone', 'cooperate', 'exchange', 'boycott', 'volunteer', 'dupe', 'avoid', 'neglect', 'meet', 'spy', 'take revenge', 'bury', 'defeat', 'be', 'would', 'can', 'can', 'may', 'make', 'must', 'take', 'look', 'set', 'let', 'provide', 'shall', 'seem', 'include', 'move', 'turn', 'consider', 'allow', 'hope', 'produce', 'stay', 'hold', 'expect', 'ensure', 'carry', 'offer', 'support', 'speak', 'speak', 'lead', 'remain', 'stand', 'stand', 'suggest', 'develop', 'sit', 'create', 'create', 'agree', 'apply', 'form', 'increase', 'voice', 'spend', 'join', 'reduce', 'save', 'require', 'achieve', 'prevent', 'deal', 'face', 'cover', 'improve', 'tend', 'draw', 'act', 'pick', 'pick', 'cost', 'cost', 'prove', 'occur', 'discuss', 'maintain', 'end', 'end', 'exist', 'seek', 'check', 'serve', 'share', 'share', 'establish', 'establish', 'control', 'answer', 'identify', 'care', 'enable', 'claim', 'obtain', 'represent', 'contain', 'beat', 'worry', 'bear', 'shut', 'wonder', 'fit', 'regard', 'place', 'involve', 'contact', 'assume', 'indicate', 'operate', 'manage', 'cope', 'determine', 'reflect', 'refer', 'gain', 'examine', 'prefer', 'admit', 'respond', 'respond', 'depend', 'survive', 'notice', 'result', 'replace', 'complete', 'rise', 'present', 'arise', 'point', 'promote', 'promote', 'perform', 'extend', 'mention', 'vary', 'benefit', 'treat', 'hang', 'drop', 'report', 'cast', 'test', 'secure', 'last', 'match', 'assess', 'contribute', 'supply', 'state', 'appreciate', 'relate', 'overcome', 'rid', 'attempt', 'retain', 'handle', 'attract', 'assist', 'assist', 'influence', 'mark', 'recall', 'sign', 'fear', 'stick', 'settle', 'settle', 'compare', 'account', 'investigate', 'clear', 'record', 'record', 'explore', 'blame', 'cross', 'realize', 'focus', 'deliver', 'proceed', 'bother', 'bother', 'refuse', 'force', 'reckon', 'emerge', 'intend', 'advise', 'acquire', 'recover', 'generate', 'distinguish', 'suspect', 'earn', 'finance', 'destroy', 'pursue', 'comment', 'satisfy', 'compete', 'resist', 'suit', 'address', 'solve', 'alter', 'impose', 'display', 'appeal', 'release', 'sort', 'sort', 'select', 'measure', 'recommend', 'order', 'order', 'transfer', 'attack', 'expand', 'roll', 'burst', 'undertake', 'relax', 'behave', 'remind', 'remind', 'review', 'approach', 'restore', 'issue', 'ride', 'constitute', 'switch', 'train', 'invest', 'step', 'limit', 'illustrate', 'own', 'tackle', 'challenge', 'view', 'possess', 'communicate', 'climb', 'separate', 'preserve', 'implement', 'shift', 'acknowledge', 'conclude', 'shoot', 'comply', 'enhance', 'monitor', 'monitor', 'purchase', 'charge', 'research', 'aim', 'accommodate', 'dance', 'wake', 'pray', 'telephone', 'score', 'slip', 'commit', 'detect', 'exclude', 'excuse', 'interpret', 'publish', 'link', 'negotiate', 'analyze', 'name', 'stretch', 'upset', 'qualify', 'damage', 'launch', 'launch', 'paint', 'specify', 'grant', 'lend', 'construct', 'react', 'deserve', 'deserve', 'head', 'direct', 'land', 'conduct', 'sustain', 'submit', 'consist', 'blow', 'guide', 'convince', 'practice', 'strengthen', 'knock', 'invite', 'abandon', 'reply', 'shake', 'fix', 'pretend', 'consult', 'divide', 'engage', 'fulfill', 'rule', 'process', 'fetch', 'convey', 'thrust', 'incorporate', 'restrict', 'eliminate', 'eliminate', 'eliminate', 'convert', 'retire', 'adjust', 'adjust', 'ease', 'pour', 'pour', 'knit', 'back', 'trace', 'register', 'calculate', 'stimulate', 'print', 'print', 'stress', 'appoint', 'interfere', 'object', 'boost', 'boost', 'facilitate', 'facilitate', 'lack', 'cease', 'enforce', 'adapt', 'tie', 'quote', 'dominate', 'pop', 'please', 'design', 'intervene', 'yield', 'resign', 'spell', 'stir', 'spare', 'estimate', 'kick', 'kick', 'list', 'dress', 'declare', 'declare', 'assure', 'derive', 'access', 'delay', 'clarify', 'copy', 'copy', 'favor', 'hand', 'capture', 'reinforce', 'transform', 'perceive', 'function', 'quit', 'accompany', 'fund', 'pack', 'correct', 'sail', 'compensate', 'steal', 'steal', 'undermine', 'range', 'oppose', 'locate', 'hurry', 'broadcast', 'sue', 'bid', 'light', 'slow', 'concern', 'dismiss', 'highlight', 'repair', 'conform', 'attach', 'rush', 'sink', 'grab', 'calm', 'protest', 'balance', 'beg', 'install', 'advance', 'fire', 'aid', 'flow', 'drag', 'correspond', 'pose', 'admire', 'relieve', 'reverse', 'combat', 'integrate', 'disagree', 'connect', 'update', 'modify', 'opt', 'command', 'obey', 'extract', 'counter', 'resume', 'grasp', 'grasp', 'swing', 'render', 'speed', 'confront', 'ban', 'wipe', 'double', 'comprise', 'witness', 'plant', 'assert', 'disclose', 'squeeze', 'squeeze', 'bind', 'harm', 'harm', 'encounter', 'request', 'struggle', 'hire', 'conceal', 'recruit', 'co-operate', 'wander', 'emphasize', 'weigh', 'weigh', 'coincide', 'bend', 'bend', 'regulate', 'rescue', 'entertain', 'forecast', 'inspect', 'export', 'urge', 'induce', 'lock', 'exhibit', 'warm', 'warm', 'confess', 'tolerate', 'tolerate', 'mount', 'brush', 'reproduce', 'undergo', 'impress', 'decline', 'rub', 'cater', 'tour', 'distribute', 'sense', 'repay', 'regain', 'regain', 'minimize', 'halt', 'shape', 'disturb', 'bite', 'progress', 'devote', 'provoke', 'reassure', 'contemplate', 'alert', 'interact', 'heat', 'devise', 'govern', 'embrace', 'comfort', 'seize', 'melt', 'supplement', 'lean', 'exert', 'beware', 'resemble', 'abolish', 'wed', 'crack', 'suppress', 'guard', 'surprise', 'hesitate', 'load', 'swallow', 'initiate', 'float', 'effect', 'manipulate', 'deter', 'associate', 'administer', 'murder', 'persist', 'greet', 'tear', 'hunt', 'spoil', 'line', 'bless', 'penetrate', 'multiply', 'merge', 'coach', 'drain', 'drain', 'suffice', 'presume', 'fish', 'shop', 'race', 'honor', 'freeze', 'cure', 'cure', 'swap', 'endure', 'chase', 'consume', 'insert', 'await', 'drift', 'substitute', 'surrender', 'wind', 'contract', 'differentiate', 'advertise', 'reconcile', 'project', 'co-ordinate', 'snap', 'damn', 'bake', 'fold', 'concede', 'renew', 'formulate', 'confuse', 'maximize', 'sweep', 'steer', 'base', 'indulge', 'decrease', 'reserve', 'reserve', 'host', 'evolve', 'foster', 'discourage', 'curb', 'allocate', 'supervise', 'fade', 'endorse', 'condemn', 'book', 'reform', 'complement', 'punish', 'bang', 'outline', 'diminish', 'prevail', 'leap', 'wrap', 'compromise', 'collapse', 'collapse', 'safeguard', 'inhibit', 'scream', 'date', 'delete', 'attain', 'dislike', 'conceive', 'dictate', 'unite', 'import', 'rebuild', 'flourish', 'criticize', 'boil', 'boil', 'inflate', 'flee', 'commence', 'praise', 'park', 'discriminate', 'track', 'enclose', 'interview', 'tighten', 'color', 'venture', 'speculate', 'speculate', 'depart', 'interrupt', 'disguise', 'elect', 'withstand', 'restrain', 'thrive', 'echo', 'divert', 'fry', 'dissolve', 'edit', 'assemble', 'ruin', 'accelerate', 'envisage', 'congratulate', 'retrieve', 'descend', 'suspend', 'experiment', 'frighten', 'fool', 'inspire', 'heal', 'master', 'terminate', 'amend', 'scratch', 'entail', 'execute', 'execute', 'consolidate', 'round', 'isolate', 'warrant', 'weaken', 'march', 'desire', 'widen', 'chat', 'board', 'invent', 'manufacture', 'seal', 'reconsider', 'suck', 'picture', 'crash', 'crash', 'transport', 'plug', 'assign', 'inquire', 'trap', 'surround', 'debate', 'upgrade', 'decorate', 'accumulate', 'profit', 'inherit', 'disrupt', 'choke', 'plead', 'dip', 'subscribe', 'educate', 'divorce', 'spin', 'obscure', 'creep', 'twist', 'blend', 'revise', 'attribute', 'explode', 'dwell', 'alleviate', 'remedy', 'instruct', 'spill', 'comprehend', 'soften', 'wave', 'stock', 'position', 'insure', 'adhere', 'cling', 'summon', 'pause', 'pause', 'empty', 'classify', 'afford', 'sound', 'grade', 'revert', 'value', 'award', 'strive', 'notify', 'turn off', 'sit down', 'cheat', 'peel']\n"
     ]
    }
   ],
   "source": [
    "import pandas as pd\n",
    "# dataframe and load of verbs\n",
    "df = pd.read_csv('verbs.csv')\n",
    "darija_verbs = df['n1'].tolist()\n",
    "verbs_eng_translations = df['eng'].tolist() \n",
    "\n",
    "print(darija_verbs)\n",
    "print(verbs_eng_translations)"
   ]
  },
  {
   "cell_type": "markdown",
   "metadata": {},
   "source": [
    "# Test openai chat api"
   ]
  },
  {
   "cell_type": "code",
   "execution_count": 2,
   "metadata": {},
   "outputs": [
    {
     "name": "stdout",
     "output_type": "stream",
     "text": [
      "Hit\n"
     ]
    }
   ],
   "source": [
    "from openai import OpenAI\n",
    "client = OpenAI()\n",
    "\n",
    "\n",
    "test = client.chat.completions.create(\n",
    "model =  \"gpt-3.5-turbo\",\n",
    "messages = [\n",
    "    {\n",
    "        \"role\": \"system\",\n",
    "        \"content\": \"You will be provided with a verb in Moroccan Darija language, and your task is to translate it into English. Do your best with one output word only, unless it's a phrasal verb.\"\n",
    "    },\n",
    "    {\n",
    "        \"role\": \"user\", \n",
    "        \"content\": 'da9'\n",
    "    }\n",
    "],\n",
    "temperature=0.3, # deterministic\n",
    "#max_tokens=1, # in case of a dot\n",
    "#top_p=0.1\n",
    "# temperature: What sampling temperature to use, between 0 and 2. Higher values like 0.8 will make the output more random, while lower values like 0.2 will make it more focused and deterministic. We generally recommend altering this or top_p but not both.\n",
    "# top_p:An alternative to sampling with temperature, called nucleus sampling, where the model considers the results of the tokens with top_p probability mass. So 0.1 means only the tokens comprising the top 10% probability mass are considered.\n",
    "# max_tokens: The maximum number of tokens that can be generated in the chat completion.\n",
    "\n",
    ")\n",
    "\n",
    "test = test.choices[0].message.content\n",
    "print(test)\n"
   ]
  },
  {
   "cell_type": "markdown",
   "metadata": {},
   "source": [
    "# Translate all verbs"
   ]
  },
  {
   "cell_type": "code",
   "execution_count": 3,
   "metadata": {},
   "outputs": [
    {
     "name": "stdout",
     "output_type": "stream",
     "text": [
      "['Eat', 'To scratch', 'Enter', 'exit', 'understand', 'To search', 'Read', 'Read', 'hear', 'to see', 'to drink', 'Hit', 'Eat', 'Go', 'come', 'To come', 'To descend', 'He/She/It is.', 'To dig', 'To play', 'Hello', 'buy', 'sell', 'Fly', 'write', 'Eat', 'hit', 'to ask', 'Come', 'Laugh', 'Laugh', 'to write', 'bring', 'Was', 'hit', 'say', 'Say', 'Have', 'Tell', 'Think', 'come', 'Found', 'Fly', 'Work', 'See', 'Need', 'Feel', 'To come', 'To take', 'We.', 'start', 'Cut', 'Found', 'Like', 'know', 'Help', 'To cover', 'find', 'Sleep', 'Try', 'Bring', 'ask', 'Think', 'walk', 'Sell', 'Play', 'Run', 'Run', 'Read', 'start', 'pray', 'To carry', 'Study', 'To check', 'change', 'Finish', 'To break fast', 'Wish', 'To sell', 'Accept', 'To remember', 'Come', 'wear', 'sell', 'increase', 'Sleep', 'Wait', 'Clean', 'sell', 'buy', 'Mix', 'build', 'choose', 'arrive', 'Read', 'Wait', 'To escape', 'lose', 'To taste', 'Break', 'Imagine', 'Love', 'Run', 'Listen', 'grow', 'die', 'To dress', 'come', 'To write', 'Burn', 'Sleep', 'To eat', 'to climb', 'hide', 'Sleep', 'To guide', 'Grab', 'Visit', 'travel', 'Study', 'Write', 'I have', 'To arrive', 'Find', 'To arrive', 'Pass', 'Dance', 'To eat', 'To do', 'Read', 'Push', 'To throw', 'Arrive', 'Sleep', 'Meet', 'Run', 'Play', 'Arrive', 'Fold', 'Return', 'Draw', 'Escape', 'To cut', 'Create', 'Wake up', 'Divide', 'We cooked', 'Study', 'Know', 'Sleep', 'Train', 'To burn', 'Sleep', 'Show', 'To clean', 'Sleep', 'Lie', 'to eat', 'Cook', 'Know', 'Think', 'Sleep', 'Look', 'sing', 'sleep', 'To sweep', 'Push', 'Play', 'To wake up', 'Stand up', 'grind', 'wash', 'To take', 'Work', 'Eat', 'Eat', 'to come', 'Okay', 'cry', 'sleep', 'Understand', 'to gather', 'to love', 'Eat', 'know', 'Need', 'Forgive', 'Ask', 'Remember', 'to listen', 'Listen', 'To write', 'Whistle', 'Push', 'to inform', 'Fly', 'Sleep', 'Write', 'Want', 'Call', 'Run', 'Love', 'Want', 'To play', 'Mix', 'Call', 'Burn', 'To migrate', 'work', 'Like', 'Study', 'look', 'Show', 'Choose', 'Breathe', 'to do', 'Hunting', 'To say', 'To burn', 'Smile', 'Escape', 'To protect', 'Push', 'To say', 'Hide', 'Sleep', 'Sleep', 'Dream', 'Dream', 'Run', 'block', 'push', 'Work', 'wash', 'Draw', 'To cook', 'Succeed', 'To swim', 'Eat', 'To put', 'Differentiate', 'Succeed', 'Come', 'build', 'run', 'Push', 'To eat', 'to wash', 'Come', 'Know', 'Forget', 'Describe', 'Translate', 'Promise', 'Play', 'Love', 'Live', 'live', 'Finish', 'To pour', 'Invite', 'Use', 'Wait', 'Open', 'swim', 'Eat', 'Open', 'Can', 'Sleep', 'Sleep', 'Repeat', 'Give', 'Sit', 'Cook', 'Help', 'Exchange', 'To fold', 'Cook', 'Say', 'To whisper', 'Do', 'Find', 'Kiss', 'Sleep', 'Turn', 'To take', 'Was', 'Want', 'Can', 'to cut', 'possible', 'hit', 'cut', 'Take', 'see', 'Wait', 'Leave', 'Give', 'Cut', 'Build', 'Dream', 'Move', 'To give', 'Fly', 'Leave', 'Hope', 'sleep', 'became', 'Cut', 'Drive', 'Sleep', 'Want', 'Run', 'Stay', 'Stay', 'Treat', 'Sit', 'became', 'Stand', 'To cover', 'To pull', 'Fly', 'Slide', 'sit', 'To do', 'Rest', 'Cook', 'Stand', 'increase', 'Play', 'Invite', 'To meet', 'Sleep', 'I want', 'Study', 'To eat', 'Love', 'Work', 'To find', 'To cover', 'Fly', 'Money', 'Draw', 'Move', 'Leave', 'choose', 'Turn', 'To sleep', 'To break', 'Arrive', 'Dance', 'before', 'Pray', 'finish', 'there is', 'Sit', 'Mix', 'I understand that \"nfe3\" translates to \"I understand\" in English.', 'Listen', 'share', 'Sleep', 'Listen', 'Speak', 'Answer', 'To bury', 'He gave', 'Possible', 'Ask', 'lie', 'To fold', 'to invite', 'Knead', 'Listen', 'Work', 'block', 'Ask', 'to calculate', 'Talk', 'Put', 'Dream', 'Ask', 'To eat', 'Pickle', 'work', 'Close', 'Learn', 'To bury', 'Break', 'Pickle', 'sell', 'Escape', 'Take off', 'Know', 'return', 'answer', 'To listen', 'Sleep', 'To take', 'Wait', 'change', 'finish', 'relax', 'Support', 'sleep', 'Pickle', 'Drive', 'Arrive', 'Sit', 'to extend', 'Pickle', 'differ', 'pass', 'To walk', 'To arrive', 'Open', 'Call', 'Pourquoi', 'negotiate', 'Trust', 'Fly', 'Find', 'Can', 'Understand', 'Extend', 'Play', 'Can', 'Cook', 'Mix', 'Eat', 'Try', 'Succeed', 'Change', 'Argue', 'help', 'Help', 'Write', 'To bury', 'Think', 'make', 'fear', 'To buy', 'To do', 'foot', 'Read', 'Think', 'To eat', 'Sleep', 'Take a picture', 'To wash', 'hide', 'To eat', 'Sell', 'Eat', 'Sit', 'connect', 'buy', 'Play', 'Spend', 'to learn', 'To iron', 'Wait', 'Build', 'Stay', 'Sleep', 'Work', 'to study', 'sleep', 'Differentiate', 'To write', 'lie', 'Extend', 'Stand', 'Cook', 'To arrive', 'Agree', 'Breathe', 'Invite', 'Curse', 'write', 'Mix', 'change', 'To iron', 'Study', 'Dance', 'Sleep', 'Break', 'Cook', 'Choose', 'Pass', 'wash', 'Ask', 'Moon', 'Study', 'Eat', 'Drive', 'Drive', 'explode', 'To cook', 'to write', 'Lock', 'Remember', 'think', 'return', 'I run', 'to return', 'To clean', 'To lean', 'Shake', 'Turn', 'Hit', 'to wait', 'Make', 'Take', 'To promise', 'to possess', 'Eat', 'Cook', 'see', 'To own', 'Take a picture', 'Buy', 'Chose', 'Protect', 'to sleep', 'Arrive', 'I arrive', 'wait', 'Throw', 'Wait', 'Eat', 'To play', 'before', 'Buy', 'Return', 'put', 'Want', 'Understand', 'To write', 'Understand', 'Pray', 'Turn', 'to walk', 'To arrive', 'Write', 'Cook', 'Watch', 'To know', 'to break', 'Sleep', 'To find', 'Open', 'Reveal', 'Hear', 'Argue', 'Speak', 'Arrive', 'lose', 'Sleep', 'start', 'To swim', 'To bury', 'Forget', 'travel', 'Build', 'Do', 'Understand', 'work', 'Study', 'Come', 'Write', 'Sit', 'Write', 'Clean', 'Strengthen', 'Clean', 'Watched', 'To find', 'Hit', 'Show', 'Hit', 'Study', 'Play', 'answer', 'Move', 'Forgive', 'To study', 'choose', 'Listen', 'I\\'m sorry, but \"nkhareT\" is not a verb in Moroccan Darija. Could you please provide another word for translation?', 'To eat', 'Stand', 'To return', 'bring', 'Study', 'Push', 'to walk', 'Protect', 'watch', 'Leave', 'Read', 'Arrive', 'Sit', 'Hit', 'Change', 'Ask', 'flip', 'Pour.', 'forget', 'Stay', 'To search', 'register', 'Think', 'Want', 'Cook', 'Print', 'to tweet', 'Help', 'Play', 'Wait', 'Show', 'Study', 'to travel', 'Ask', 'Need', 'Love', 'to clean', 'Learn', 'Sit', 'Sit', 'To watch', 'Open', 'Like', 'Listen', 'Play', 'To fold', 'work', 'Come', 'Move', 'Cut', 'Can', 'Hit', 'Eat', 'Counted', 'wear', 'To bring', 'Explain', 'Push', 'Understand', 'Enter', 'To cook', 'To promise', 'Study', 'forget', 'Cancel', 'Extend', 'Write', 'Like', 'Arrive', 'understand', 'work', 'to prepare', 'To lift', 'Explain', 'Sleep', 'To swim', 'I swim', 'Show', 'buy', 'drive', 'Sit', 'Argue', 'Show', 'To bury', 'hit', 'Sleep', 'Sit', 'to walk', 'Turn', 'Cook', 'Stand', 'To learn', 'Sit', 'Forgive', 'Tired', 'Tie', 'Hit', 'To scream', 'Wait', 'Eat', 'Clean', 'to weigh', 'Ask', 'Sit', 'Fly', 'To sell', 'Help', 'To push', 'bring', 'Rest', 'Eat', 'Like', 'Lighten', 'Break', 'Grab', 'Regret', \"Don't worry\", 'to ask', 'Want', 'change', 'Choose', 'Order', 'falling', 'exit', 'To play', 'Understand', 'tell', 'Understand', 'To scream', 'Greet', 'Hit', 'to find', 'I hate', 'wash', 'Turn', 'Mix', 'I want', 'Sink', 'need', 'Cook', 'To watch', 'Run', 'To tie', 'Pour', 'Return', 'Find', 'Ask', 'Answer', 'Work', 'lie', 'Work', 'Help', 'Go', 'Argue', 'Pass', 'to eat', 'Invite', 'We.', 'Give', 'I invite', 'I can translate \"n9ed\" to \"sleep\".', 'To wash', 'Cook', 'Win', 'Arrange', 'To eat', 'wait', 'block', 'To study', 'Laugh', 'Sweep', 'Know', 'Listen', 'Build', 'Buy', 'to swim', 'sleep', 'Take', 'Sell', 'Push', 'Break', 'Eat', 'to live', 'To grow', 'Feel', 'Eat', 'To return', 'return', 'To walk', 'Clean', 'Push', 'Play', 'Count', 'Study', 'To break', 'to pour', 'Trust', 'Work', 'Arrange', 'To do', 'Laugh', 'to eat', 'Hide', 'Answer', 'Stay', 'Eat', 'Turn', 'increase', 'Knock', 'Cook', 'Search', 'Cook', 'I eat', 'Fly', 'To run', 'Understand', 'Before', 'Wake up', 'To trade', 'Eat', 'Turn', 'start', 'Invite', 'Write', 'Fix', 'Return', 'Cook', 'to return', 'Read', 'Cook', 'Welcome', 'Invite', 'Look', 'to study', 'To write', 'sell', 'Choose', 'Weaken', 'Mix', 'Hit', 'come', 'to clean', 'enough', 'To open', 'Hear', 'Sleep', 'Wake up', 'I scratched', 'to gather', 'Invite', 'To show', 'exchange', 'Do', 'Wait', 'To choose', 'Eat', 'Wait', 'Sleep', 'change', 'Listen', 'Visit', 'To ask', 'clean', 'Play', 'To ask', 'To take a photo', 'forget', 'Break', 'Curse', 'Delicious', 'Come', 'Go down', 'Renew', 'Help', 'Played', 'Take', 'to walk', 'Appear', 'Sit', 'Ask', 'Hide', 'Eat', 'Book', 'Understand', 'Fly', 'To water', 'To play', 'Answer', 'Cut', 'to look', 'to escape', 'Stay', 'to return', 'Eat', 'To forgive', 'finish', 'Return', 'Open', 'To study', 'To eat', 'happy', 'We win', 'Eat', 'Invite', 'To read', 'to go', 'Protect', 'I eat', 'Turn', 'Promise', 'To swim', 'To eat', 'Create', 'To take a photo', 'To say', 'Play', 'To store', 'Build', 'To visit', 'Situate', 'Clean', 'Buy', 'Lock', 'Run', 'start', 'To wipe', 'swim', 'Invite', 'To cook', 'Answer', 'Accept', 'Cut', 'Color', 'Rain', 'Eat', 'Sit', 'to be able', 'To give', 'Choose', 'We choose', 'Do', 'Write', 'Sleep', 'Repeat', 'We write', 'Read', 'hit', 'Change', 'Eat', 'Steal', 'Drive', 'To swim', 'Invite', 'to wait', 'Write', 'Go out', 'Try', 'Eat', 'Say', 'Eat', 'pour', 'Hit', 'Finish', 'Change', 'Take', 'to ask', 'I opened', 'Stand', 'To find', 'turn', 'Leave', 'Run', 'Push', 'To walk', 'Want', 'forget', 'Push', 'ride', 'Choose', 'To sleep', 'block', 'Return', 'Eat', 'Take a picture', 'To support', 'Whistle', 'Study', 'Block', 'Need', 'travel', 'Hear', 'turn', 'Dance', 'Fly', 'decorate', 'Sleep', 'to ask', 'Throw', 'Hide', 'Sleep', 'Push', 'To swim', 'Buy', 'Teach', 'To fold', 'Choose', 'to wash', 'Whisper', 'To show', 'To mix', 'Return', 'Calculate', 'explode', 'live', 'Lighten', 'To show', 'To search', 'Break', 'Understand', 'Cook', 'buy', 'To push', 'Promise', 'Trust', 'Draw', 'Laughed', 'pray', 'to eat', 'Stand', 'Eat', 'Cook', 'Do', 'Listen', 'I walk', 'Come', 'Celebrate', 'pay', 'Finish', 'Arrive', 'Cover', 'Go', 'to laugh', 'Search']\n"
     ]
    }
   ],
   "source": [
    "gpt_eng_translations = []\n",
    "for verb in darija_verbs:\n",
    "    completion = client.chat.completions.create(\n",
    "    model =  \"gpt-3.5-turbo\",\n",
    "    messages = [\n",
    "    {\n",
    "        \"role\": \"system\",\n",
    "        \"content\": \"You will be provided with a verb in Moroccan Darija language, and your task is to translate it into English. Do your best with one output word only, unless it's a phrasal verb.\"\n",
    "    },\n",
    "    {\n",
    "        \"role\": \"user\", \n",
    "        \"content\":  f'{verb}' \n",
    "    }\n",
    "    ],\n",
    "    temperature=0.3, # deterministic\n",
    "   # max_tokens=1, # in case of a dot\n",
    "    )\n",
    "    gpt_eng_translations.append(completion.choices[0].message.content)\n",
    "\n",
    "print(gpt_eng_translations)"
   ]
  },
  {
   "cell_type": "code",
   "execution_count": 4,
   "metadata": {},
   "outputs": [
    {
     "name": "stdout",
     "output_type": "stream",
     "text": [
      "['eat', 'drink', 'enter', 'go out', 'understand', 'explain', 'learn', 'teach', 'hear', 'see', 'smell', 'taste', 'touch', 'go', 'come', 'ascend', 'go down', 'swim', 'drown', 'wear', 'take off', 'buy', 'sell', 'bargain', 'write', 'clean', 'hit', 'salute', 'fatigue', 'exhaust', 'laugh', 'anger', 'bring', 'was', 'do', 'say', 'say', 'have', 'get', 'think', 'want', 'find', 'give', 'work', 'call', 'need', 'feel', 'become', 'put', 'mean', 'begin', 'should', 'find', 'like', 'tell', 'help', 'help', 'prepare', 'believe', 'try', 'try', 'ask', 'remember', 'leave', 'show', 'play', 'run', 'run', 'read', 'start', 'finish', 'cut', 'talk', 'thank', 'change', 'continue', 'suppose', 'wish', 'follow', 'accept', 'reject', 'happen', 'sit down', 'win', 'add', 'learn', 'wait', 'send', 'sell', 'buy', 'open', 'build', 'choose', 'reach', 'decide', 'enjoy', 'watch', 'lose', 'walk', 'raise', 'imagine', 'cause', 'break', 'listen', 'grow', 'die', 'die', 'visit', 'encourage', 'protect', 'spread', 'kill', 'drive', 'lie', 'argue', 'remove', 'fight', 'fill', 'travel', 'attend', 'hurt', 'suffer', 'miss', 'discover', 'discover', 'express', 'concentrate', 'throw', 'prepare', 'study', 'push', 'press', 'arrive', 'ring', 'collect', 'escape', 'welcome', 'rely', 'trust', 'repeat', 'plan', 'reveal', 'confirm', 'hate', 'marry', 'split', 'adopt', 'ignore', 'define', 'introduce', 'exercise', 'demonstrate', 'persuade', 'guess', 'vote', 'deny', 'hide', 'succeed', 'demand', 'recognize', 'count', 'belong', 'doubt', 'sing', 'intent', 'justify', 'defend', 'dare', 'rest', 'judge', 'participate', 'wash', 'observe', 'employ', 'combine', 'insist', 'jump', 'cook', 'cry', 'sleep', 'wake up', 'gather', 'withdraw', 'resolve', 'inform', 'imply', 'borrow', 'question', 'risk', 'permit', 'forgive', 'propose', 'celebrate', 'waste', 'disappear', 'predict', 'complain', 'catch', 'catch', 'get up', 'pass', 'stop', 'note', 'used to', 'mix', 'mislead', 'burn', 'burn', 'exploit', 'smoke', 'warn', 'kiss', 'announce', 'evaluate', 'breathe', 'exceed', 'approve', 'occupy', 'free', 'smile', 'dig', 'respect', 'threaten', 'cancel', 'store', 'organize', 'shine', 'swear', 'dream', 'absorb', 'block', 'anticipate', 'accuse', 'shout', 'affect', 'arrange', 'arrest', 'bark', 'betray', 'bet', 'differ', 'keep', 'fly', 'appear', 'pull', 'push', 'lift', 'return', 'fall', 'know', 'forget', 'describe', 'translate', 'promise', 'search', 'love', 'live', 'live', 'pay', 'close', 'stand up', 'use', 'receive', 'fail', 'insult', 'complain', 'expose', 'apologize', 'hug', 'regret', 'get used', 'sneeze', 'cough', 'postpone', 'cooperate', 'exchange', 'boycott', 'volunteer', 'dupe', 'avoid', 'neglect', 'meet', 'spy', 'take revenge', 'bury', 'defeat', 'be', 'would', 'can', 'can', 'may', 'make', 'must', 'take', 'look', 'set', 'let', 'provide', 'shall', 'seem', 'include', 'move', 'turn', 'consider', 'allow', 'hope', 'produce', 'stay', 'hold', 'expect', 'ensure', 'carry', 'offer', 'support', 'speak', 'speak', 'lead', 'remain', 'stand', 'stand', 'suggest', 'develop', 'sit', 'create', 'create', 'agree', 'apply', 'form', 'increase', 'voice', 'spend', 'join', 'reduce', 'save', 'require', 'achieve', 'prevent', 'deal', 'face', 'cover', 'improve', 'tend', 'draw', 'act', 'pick', 'pick', 'cost', 'cost', 'prove', 'occur', 'discuss', 'maintain', 'end', 'end', 'exist', 'seek', 'check', 'serve', 'share', 'share', 'establish', 'establish', 'control', 'answer', 'identify', 'care', 'enable', 'claim', 'obtain', 'represent', 'contain', 'beat', 'worry', 'bear', 'shut', 'wonder', 'fit', 'regard', 'place', 'involve', 'contact', 'assume', 'indicate', 'operate', 'manage', 'cope', 'determine', 'reflect', 'refer', 'gain', 'examine', 'prefer', 'admit', 'respond', 'respond', 'depend', 'survive', 'notice', 'result', 'replace', 'complete', 'rise', 'present', 'arise', 'point', 'promote', 'promote', 'perform', 'extend', 'mention', 'vary', 'benefit', 'treat', 'hang', 'drop', 'report', 'cast', 'test', 'secure', 'last', 'match', 'assess', 'contribute', 'supply', 'state', 'appreciate', 'relate', 'overcome', 'rid', 'attempt', 'retain', 'handle', 'attract', 'assist', 'assist', 'influence', 'mark', 'recall', 'sign', 'fear', 'stick', 'settle', 'settle', 'compare', 'account', 'investigate', 'clear', 'record', 'record', 'explore', 'blame', 'cross', 'realize', 'focus', 'deliver', 'proceed', 'bother', 'bother', 'refuse', 'force', 'reckon', 'emerge', 'intend', 'advise', 'acquire', 'recover', 'generate', 'distinguish', 'suspect', 'earn', 'finance', 'destroy', 'pursue', 'comment', 'satisfy', 'compete', 'resist', 'suit', 'address', 'solve', 'alter', 'impose', 'display', 'appeal', 'release', 'sort', 'sort', 'select', 'measure', 'recommend', 'order', 'order', 'transfer', 'attack', 'expand', 'roll', 'burst', 'undertake', 'relax', 'behave', 'remind', 'remind', 'review', 'approach', 'restore', 'issue', 'ride', 'constitute', 'switch', 'train', 'invest', 'step', 'limit', 'illustrate', 'own', 'tackle', 'challenge', 'view', 'possess', 'communicate', 'climb', 'separate', 'preserve', 'implement', 'shift', 'acknowledge', 'conclude', 'shoot', 'comply', 'enhance', 'monitor', 'monitor', 'purchase', 'charge', 'research', 'aim', 'accommodate', 'dance', 'wake', 'pray', 'telephone', 'score', 'slip', 'commit', 'detect', 'exclude', 'excuse', 'interpret', 'publish', 'link', 'negotiate', 'analyze', 'name', 'stretch', 'upset', 'qualify', 'damage', 'launch', 'launch', 'paint', 'specify', 'grant', 'lend', 'construct', 'react', 'deserve', 'deserve', 'head', 'direct', 'land', 'conduct', 'sustain', 'submit', 'consist', 'blow', 'guide', 'convince', 'practice', 'strengthen', 'knock', 'invite', 'abandon', 'reply', 'shake', 'fix', 'pretend', 'consult', 'divide', 'engage', 'fulfill', 'rule', 'process', 'fetch', 'convey', 'thrust', 'incorporate', 'restrict', 'eliminate', 'eliminate', 'eliminate', 'convert', 'retire', 'adjust', 'adjust', 'ease', 'pour', 'pour', 'knit', 'back', 'trace', 'register', 'calculate', 'stimulate', 'print', 'print', 'stress', 'appoint', 'interfere', 'object', 'boost', 'boost', 'facilitate', 'facilitate', 'lack', 'cease', 'enforce', 'adapt', 'tie', 'quote', 'dominate', 'pop', 'please', 'design', 'intervene', 'yield', 'resign', 'spell', 'stir', 'spare', 'estimate', 'kick', 'kick', 'list', 'dress', 'declare', 'declare', 'assure', 'derive', 'access', 'delay', 'clarify', 'copy', 'copy', 'favor', 'hand', 'capture', 'reinforce', 'transform', 'perceive', 'function', 'quit', 'accompany', 'fund', 'pack', 'correct', 'sail', 'compensate', 'steal', 'steal', 'undermine', 'range', 'oppose', 'locate', 'hurry', 'broadcast', 'sue', 'bid', 'light', 'slow', 'concern', 'dismiss', 'highlight', 'repair', 'conform', 'attach', 'rush', 'sink', 'grab', 'calm', 'protest', 'balance', 'beg', 'install', 'advance', 'fire', 'aid', 'flow', 'drag', 'correspond', 'pose', 'admire', 'relieve', 'reverse', 'combat', 'integrate', 'disagree', 'connect', 'update', 'modify', 'opt', 'command', 'obey', 'extract', 'counter', 'resume', 'grasp', 'grasp', 'swing', 'render', 'speed', 'confront', 'ban', 'wipe', 'double', 'comprise', 'witness', 'plant', 'assert', 'disclose', 'squeeze', 'squeeze', 'bind', 'harm', 'harm', 'encounter', 'request', 'struggle', 'hire', 'conceal', 'recruit', 'co-operate', 'wander', 'emphasize', 'weigh', 'weigh', 'coincide', 'bend', 'bend', 'regulate', 'rescue', 'entertain', 'forecast', 'inspect', 'export', 'urge', 'induce', 'lock', 'exhibit', 'warm', 'warm', 'confess', 'tolerate', 'tolerate', 'mount', 'brush', 'reproduce', 'undergo', 'impress', 'decline', 'rub', 'cater', 'tour', 'distribute', 'sense', 'repay', 'regain', 'regain', 'minimize', 'halt', 'shape', 'disturb', 'bite', 'progress', 'devote', 'provoke', 'reassure', 'contemplate', 'alert', 'interact', 'heat', 'devise', 'govern', 'embrace', 'comfort', 'seize', 'melt', 'supplement', 'lean', 'exert', 'beware', 'resemble', 'abolish', 'wed', 'crack', 'suppress', 'guard', 'surprise', 'hesitate', 'load', 'swallow', 'initiate', 'float', 'effect', 'manipulate', 'deter', 'associate', 'administer', 'murder', 'persist', 'greet', 'tear', 'hunt', 'spoil', 'line', 'bless', 'penetrate', 'multiply', 'merge', 'coach', 'drain', 'drain', 'suffice', 'presume', 'fish', 'shop', 'race', 'honor', 'freeze', 'cure', 'cure', 'swap', 'endure', 'chase', 'consume', 'insert', 'await', 'drift', 'substitute', 'surrender', 'wind', 'contract', 'differentiate', 'advertise', 'reconcile', 'project', 'co-ordinate', 'snap', 'damn', 'bake', 'fold', 'concede', 'renew', 'formulate', 'confuse', 'maximize', 'sweep', 'steer', 'base', 'indulge', 'decrease', 'reserve', 'reserve', 'host', 'evolve', 'foster', 'discourage', 'curb', 'allocate', 'supervise', 'fade', 'endorse', 'condemn', 'book', 'reform', 'complement', 'punish', 'bang', 'outline', 'diminish', 'prevail', 'leap', 'wrap', 'compromise', 'collapse', 'collapse', 'safeguard', 'inhibit', 'scream', 'date', 'delete', 'attain', 'dislike', 'conceive', 'dictate', 'unite', 'import', 'rebuild', 'flourish', 'criticize', 'boil', 'boil', 'inflate', 'flee', 'commence', 'praise', 'park', 'discriminate', 'track', 'enclose', 'interview', 'tighten', 'color', 'venture', 'speculate', 'speculate', 'depart', 'interrupt', 'disguise', 'elect', 'withstand', 'restrain', 'thrive', 'echo', 'divert', 'fry', 'dissolve', 'edit', 'assemble', 'ruin', 'accelerate', 'envisage', 'congratulate', 'retrieve', 'descend', 'suspend', 'experiment', 'frighten', 'fool', 'inspire', 'heal', 'master', 'terminate', 'amend', 'scratch', 'entail', 'execute', 'execute', 'consolidate', 'round', 'isolate', 'warrant', 'weaken', 'march', 'desire', 'widen', 'chat', 'board', 'invent', 'manufacture', 'seal', 'reconsider', 'suck', 'picture', 'crash', 'crash', 'transport', 'plug', 'assign', 'inquire', 'trap', 'surround', 'debate', 'upgrade', 'decorate', 'accumulate', 'profit', 'inherit', 'disrupt', 'choke', 'plead', 'dip', 'subscribe', 'educate', 'divorce', 'spin', 'obscure', 'creep', 'twist', 'blend', 'revise', 'attribute', 'explode', 'dwell', 'alleviate', 'remedy', 'instruct', 'spill', 'comprehend', 'soften', 'wave', 'stock', 'position', 'insure', 'adhere', 'cling', 'summon', 'pause', 'pause', 'empty', 'classify', 'afford', 'sound', 'grade', 'revert', 'value', 'award', 'strive', 'notify', 'turn off', 'sit down', 'cheat', 'peel']\n"
     ]
    }
   ],
   "source": [
    "print(verbs_eng_translations)\n"
   ]
  },
  {
   "cell_type": "markdown",
   "metadata": {},
   "source": [
    "# Push human and gpt translations to a csv file"
   ]
  },
  {
   "cell_type": "code",
   "execution_count": 5,
   "metadata": {},
   "outputs": [],
   "source": [
    "import csv\n",
    "\n",
    "path = \"results.csv\"\n",
    "\n",
    "# Open the CSV file in write mode\n",
    "with open(path, mode='w', newline='') as file:\n",
    "    # Create a CSV writer object\n",
    "    writer = csv.writer(file)\n",
    "    \n",
    "    # Write the header row (optional)\n",
    "    writer.writerow([\"Human\", \"GPT\"])\n",
    "    \n",
    "    # Write the data rows\n",
    "    for human, gpt in zip(verbs_eng_translations, gpt_eng_translations):\n",
    "        writer.writerow([human, gpt])"
   ]
  },
  {
   "cell_type": "markdown",
   "metadata": {},
   "source": [
    "# metrics for word similarity:\n",
    "\n",
    "- Word Similarity Metrics: \n",
    "Methods such as cosine similarity between word embeddings (vectors representing words) from models like Word2Vec, GloVe, or BERT can be used. These models capture semantic properties of words, so similar words have similar vectors.\n",
    "\n",
    "\n",
    "- WordNet-Based Similarity: \n",
    "WordNet is a lexical database for the English language that groups words into sets of synonyms (synsets) and captures various semantic relations between these sets. Libraries like NLTK in Python provide access to WordNet and functions to compute semantic similarity scores between words based on their synsets' relationships within the WordNet hierarchy. Metrics like path similarity, Wu-Palmer similarity, and Leacock-Chodorow similarity are examples of WordNet-based measures.\n",
    "\n",
    "- Edit Distance: \n",
    "For a more syntactic comparison, edit distance (Levenshtein distance) measures how many single-character edits (insertions, deletions, substitutions) are required to change one word into another. While not a measure of semantic similarity, it's useful for evaluating spelling or typing errors and morphological similarity.\n",
    "\n",
    "\n",
    "###  >> chosen here: wornet synsets, cosine?"
   ]
  },
  {
   "cell_type": "markdown",
   "metadata": {},
   "source": [
    "# metrics for sentence similarity (semantic comparison)\n",
    "\n",
    "- BLEU Score (Bilingual Evaluation Understudy): \n",
    "A standard metric for evaluating a generated text to reference texts. BLEU measures the similarity of the machine translations to one or more reference translations, considering precision of n-grams (sequences of n words).\n",
    "\n",
    "- ROUGE Score (Recall-Oriented Understudy for Gisting Evaluation): \n",
    "Especially useful for evaluating summarization tasks, ROUGE measures overlap between the generated text and the reference texts, including n-gram overlap, word sequence overlap, and word pair overlap.\n",
    "\n",
    "- METEOR Score (Metric for Evaluation of Translation with Explicit ORdering): \n",
    "Attempts to improve upon BLEU by considering synonyms, stemming, and paraphrase matching, as well as sequence alignment for translation evaluation. It balances precision and recall, and it's designed to address some of BLEU's shortcomings.\n",
    "\n",
    "- TER (Translation Edit Rate): \n",
    "Measures the number of edits required to change a system output into one of the references. TER is an error metric where lower scores are better, indicating fewer modifications needed for the translation to match a reference.\n",
    "\n",
    "- BERTScore: \n",
    "Leverages the pre-trained contextual embeddings from BERT (or other transformers) and matches words in candidate and reference sentences by cosine similarity. It's robust against paraphrases since it considers the context of words.\n",
    "\n",
    "- ChrF (Character n-gram F-score): \n",
    "Focuses on character n-grams rather than word n-grams, which can be particularly useful for languages with rich morphology or when dealing with agglutinative languages. It's also useful for languages with less training data available.\n",
    "\n",
    "### >> Metrics chosen: BLEU, METEOR, TER, BERTScore, ChrF (few data)"
   ]
  },
  {
   "cell_type": "markdown",
   "metadata": {},
   "source": [
    " # WORDNET"
   ]
  },
  {
   "cell_type": "markdown",
   "metadata": {},
   "source": [
    "## Synsets concept\n",
    "why synsets and not synonyms?\n",
    "- Synsets: These are groups of synonyms that share a common meaning. Each synset represents a unique concept and includes a set of synonyms (lemmas) that are interchangeable in some context. Synsets are interconnected by various semantic relations, including hypernyms (more general concepts), hyponyms (more specific concepts), antonyms (opposites), and more."
   ]
  },
  {
   "cell_type": "code",
   "execution_count": 21,
   "metadata": {},
   "outputs": [
    {
     "name": "stdout",
     "output_type": "stream",
     "text": [
      "Synset('exit.v.01')\n",
      "Synset('go_out.v.02')\n",
      "Synset('go_out.v.03')\n",
      "Synset('go_out.v.04')\n",
      "Synset('go_out.v.05')\n",
      "Synset('go_steady.v.01')\n"
     ]
    }
   ],
   "source": [
    "from nltk.corpus import wordnet as wn\n",
    "\n",
    "synsets1 = wn.synsets('go_out', pos=wn.VERB)\n",
    "for synset in synsets1:\n",
    "    print(synset)\n"
   ]
  },
  {
   "cell_type": "markdown",
   "metadata": {},
   "source": [
    "- exit, go_out: lemmas of the synset\n",
    "- v: verb, n: noun, a: adjective, s: satellite adj, r: adverb.\n",
    "- 01/02..: a seperate meaning of that lemma."
   ]
  },
  {
   "cell_type": "markdown",
   "metadata": {},
   "source": [
    "## path similarity\n",
    "How it work in WordNet?\n",
    "\n",
    "The path_similarity function returns a score between 0 and 1, where 1 means the synsets are identical, and a lower score indicates less similarity.\n",
    "\n",
    "The similarity is calculated as follows:\n",
    "\n",
    "similarity = 1 / (path length + 1) ​\n",
    " \n",
    "Path length : is the number of edges between the two synsets in the WordNet graph. \n",
    "\n",
    "### examples of path similarity between words to determine threshold:"
   ]
  },
  {
   "cell_type": "code",
   "execution_count": 32,
   "metadata": {},
   "outputs": [
    {
     "name": "stdout",
     "output_type": "stream",
     "text": [
      "The maximum path similarity between 'coast' and 'shore' is: 0.5000\n",
      "The maximum path similarity between 'journey' and 'voyage' is: 0.5000\n",
      "The maximum path similarity between 'car' and 'automobile' is: 1.0000\n",
      "The maximum path similarity between 'python' and 'java' is: 0.0714\n",
      "The maximum path similarity between 'forest' and 'tree' is: 0.3333\n",
      "The maximum path similarity between 'love' and 'hate' is: 0.3333\n",
      "The maximum path similarity between 'boy' and 'girl' is: 0.2000\n"
     ]
    }
   ],
   "source": [
    "from nltk.corpus import wordnet as wn\n",
    "\n",
    "def max_path_similarity(word1, word2):\n",
    "    \"\"\"Calculate the maximum path similarity between two words.\"\"\"\n",
    "    synsets1 = wn.synsets(word1)\n",
    "    synsets2 = wn.synsets(word2)\n",
    "    max_score = 0\n",
    "    for syn1 in synsets1:\n",
    "        for syn2 in synsets2:\n",
    "            score = syn1.path_similarity(syn2)\n",
    "            if score and score > max_score:\n",
    "                max_score = score\n",
    "    return max_score\n",
    "\n",
    "# List of word pairs categorized by their expected similarity\n",
    "word_pairs = [\n",
    "    # Very high similarity - almost synonyms\n",
    "    (\"coast\", \"shore\"),\n",
    "    (\"journey\", \"voyage\"),\n",
    "    (\"car\", \"automobile\"),\n",
    "    \n",
    "    # Moderate to low similarity - part-whole relationship or closely similar concepts\n",
    "    (\"python\", \"java\"),\n",
    "    (\"forest\", \"tree\"),\n",
    "    \n",
    "    # Antonyms or distinct but related concepts\n",
    "    (\"love\", \"hate\"),\n",
    "    (\"boy\", \"girl\"),\n",
    "]\n",
    "\n",
    "# Calculate and print the path similarity for each pair\n",
    "for word1, word2 in word_pairs:\n",
    "    similarity = max_path_similarity(word1, word2)\n",
    "    print(f\"The maximum path similarity between '{word1}' and '{word2}' is: {similarity:.4f}\")\n"
   ]
  },
  {
   "cell_type": "markdown",
   "metadata": {},
   "source": [
    "#### Similarity looks right subjectively =>0.5\n",
    "#### >> instances from the verbs csv file"
   ]
  },
  {
   "cell_type": "code",
   "execution_count": 33,
   "metadata": {},
   "outputs": [
    {
     "name": "stdout",
     "output_type": "stream",
     "text": [
      "go out - exit: Similarity = 0.00, Similar = False\n",
      "understand - comprehend: Similarity = 0.50, Similar = True\n",
      "explain - clarify: Similarity = 0.50, Similar = True\n",
      "learn - study: Similarity = 1.00, Similar = True\n",
      "teach - instruct: Similarity = 1.00, Similar = True\n",
      "hear - listen: Similarity = 1.00, Similar = True\n",
      "see - observe: Similarity = 0.50, Similar = True\n",
      "smell - scent: Similarity = 1.00, Similar = True\n",
      "taste - flavor: Similarity = 0.50, Similar = True\n",
      "touch - feel: Similarity = 0.50, Similar = True\n",
      "go - move: Similarity = 1.00, Similar = True\n",
      "come - arrive: Similarity = 1.00, Similar = True\n",
      "ascend - rise: Similarity = 1.00, Similar = True\n",
      "go down - descend: Similarity = 0.00, Similar = False\n"
     ]
    },
    {
     "name": "stderr",
     "output_type": "stream",
     "text": [
      "[nltk_data] Downloading package wordnet to\n",
      "[nltk_data]     C:\\Users\\yassi\\AppData\\Roaming\\nltk_data...\n",
      "[nltk_data]   Package wordnet is already up-to-date!\n"
     ]
    }
   ],
   "source": [
    "from nltk.corpus import wordnet as wn\n",
    "from nltk import download\n",
    "\n",
    "# Download necessary NLTK data\n",
    "download('wordnet')\n",
    "\n",
    "def word_similarity(word1, word2):\n",
    "    \"\"\"Computing the maximum path similarity score between two words.\"\"\"\n",
    "    synsets1 = wn.synsets(word1,)\n",
    "    synsets2 = wn.synsets(word2)\n",
    "    \n",
    "    max_score = 0\n",
    "    for syn1 in synsets1:\n",
    "        for syn2 in synsets2:\n",
    "            score = syn1.path_similarity(syn2)\n",
    "            if score and score > max_score:\n",
    "                max_score = score\n",
    "    return max_score\n",
    "\n",
    "def evaluate_pairs(word_pairs, threshold=0.5):\n",
    "    \"\"\"Evaluating each pair using WordNet path similarity and a threshold.\"\"\"\n",
    "    results = []\n",
    "    for word1, word2 in word_pairs:\n",
    "        similarity = word_similarity(word1, word2)\n",
    "        results.append((word1, word2, similarity, similarity >= threshold))\n",
    "    return results\n",
    "\n",
    "# Example word pairs\n",
    "word_pairs = [\n",
    "    (\"go out\", \"exit\"),\n",
    "    (\"understand\", \"comprehend\"),\n",
    "    (\"explain\", \"clarify\"),\n",
    "    (\"learn\", \"study\"),\n",
    "    (\"teach\", \"instruct\"),\n",
    "    (\"hear\", \"listen\"),\n",
    "    (\"see\", \"observe\"),\n",
    "    (\"smell\", \"scent\"),\n",
    "    (\"taste\", \"flavor\"),\n",
    "    (\"touch\", \"feel\"),\n",
    "    (\"go\", \"move\"),\n",
    "    (\"come\", \"arrive\"),\n",
    "    (\"ascend\", \"rise\"),\n",
    "    (\"go down\", \"descend\")\n",
    "]\n",
    "\n",
    "# Evaluate the pairs\n",
    "evaluated_pairs = evaluate_pairs(word_pairs)\n",
    "\n",
    "# Print the results\n",
    "for word1, word2, similarity, is_similar in evaluated_pairs:\n",
    "    print(f\"{word1} - {word2}: Similarity = {similarity:.2f}, Similar = {is_similar}\")\n"
   ]
  },
  {
   "cell_type": "markdown",
   "metadata": {},
   "source": [
    "#### >> phrasal verbs need further cleaning  from \"go out\" to \"go_out\""
   ]
  },
  {
   "cell_type": "markdown",
   "metadata": {},
   "source": [
    "# Next steps:\n",
    "Can work on a different ipynb if this is not showing.\n",
    "- phrasal verbs in results.cv turned into verbs with tirets 8: \"_\"\n",
    "- applying the path similarity function on the synsets.\n",
    "- checks on True percentage of correct match and draw it in a py chart with plotly.\n",
    "- compare another csv containing sentences.\n",
    "- evaluate with cosine similarity, words? if I have time or if I asked professor."
   ]
  }
 ],
 "metadata": {
  "kernelspec": {
   "display_name": "Python 3",
   "language": "python",
   "name": "python3"
  },
  "language_info": {
   "codemirror_mode": {
    "name": "ipython",
    "version": 3
   },
   "file_extension": ".py",
   "mimetype": "text/x-python",
   "name": "python",
   "nbconvert_exporter": "python",
   "pygments_lexer": "ipython3",
   "version": "3.11.8"
  }
 },
 "nbformat": 4,
 "nbformat_minor": 2
}
